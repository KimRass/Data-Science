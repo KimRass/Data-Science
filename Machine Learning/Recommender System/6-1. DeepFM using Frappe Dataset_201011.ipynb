{
 "cells": [
  {
   "cell_type": "markdown",
   "metadata": {},
   "source": [
    "- 구매하는 환경\"을 \"문맥(Context)\"라고 하며, 이를 기반으로한 추천시스템을 \"문맥기반 추천시스템\"이라 불리는데요,\n",
    "- 이전시간에 배운 FM모델은 각 특성 간의 Pair-wise의 상호관계를 임베딩하여 활용하는 방법이었습니다. 하지만, 현실세계에서 구매가 진행되는 상황에는 고객과 유저의 특성뿐 아니라 그 환경에 대한 정보도 있을 것입니다. 이러한 \"환경에 대한 정보\"인 컨텍스트 데이터를 다루는 문제를 살펴봅시다.\n",
    "## 컨텍스트 데이터(Context data)\n",
    "- 유저의 아이템에 대한 활동이 있을 때 그 순간의 환경에 대한 데이터를 컨텍스트 데이터(Context Data) 즉, 문맥/환경 데이터라고 합니다.\n",
    "현실세계에서 유저는 특성 시점에서 이러한 문맥과 환경의 영향을 받아 구매나 소비가 발생하게 되는데요,\n",
    "예컨데 \"나는 비가오는 날 운동할 때에는 트와이스의 \"cheer up\" 노래가 듣고싶어진다.\" 같은 것입니다.\n",
    "\n",
    "컨텍스트 데이터는 고객의 행동에 대한 시점에 따라 달라지기 때문에, 각 로그데이터(상호작용데이터)마다 서로 다른 값들을 갖게 됩니다.\n",
    "다시 말해서, 상호작용이 발생하는 시점에서 현재 상호작용에 영향을 끼치고 있는 데이터를 컨텍스트 데이터라고 할 수 있습니다.\n",
    "( 고객정보, 상품정보 데이터는 \"해당 시점\"의 데이터는 아님 )\n",
    "\n",
    "추천시스템의 문맥/환경을 고려한 접근은 최근 서비스 트렌드인 \"초개인화\"의 활약으로 전 세계적인 관심을 받고 있습니다. 특히 세계 최대의 온라인 쇼핑 중개기업인 \"아마존\"에서는 이러한 컨텍스트 데이터를 활용하여 고객을 세분화하여 \"0.1인 마케팅\"을 실현하는 것으로도 유명합니다.\n",
    "### 특성간의 복잡한 상호관계\n",
    "- 컨텍스트 데이터는 이전시간에 배운 Factorization Machine 모델로 단순히 각 특성간 pair-wise의 상호관계만을 고려하기에는 정말 복잡한 상호관계를 가지고 있습니다.\n",
    "예를 들자면, \"일하는 시간\" , \"비오는 날씨\", \"아티스트\"는 단순히 (시간, 날씨), (날씨, 직업), (시간, 직업)과 같이 쌍(pair)로만 상호관계를 갖는 것이 아닙니다.\n",
    "(시간, 날씨, 직업)을 함께 고려한 상호작용이 고객의 행동에 영향을 미치게 되지요. 여러가지의 각 특성들은 더욱 복잡하게 관계되어 고객의 행동에 영향을 끼치게 됩니다.\n",
    "\n",
    "이렇듯 쌍 이상의 상호관계를 Order-N 이라 표현합니다.\n",
    "### Order-N 상호관계\n",
    "- Order-0 : 각 특성(Feature)의 가중치를 전혀 고려하지 않음 : bias 부분\n",
    "- Order-1 : 특성 각각의 값에 대한 영향 고려 : Linear Regression Model 부분\n",
    "- Order-2 : 특성 각각의 Pair에 대한 상호 관계의 영향 고려 : Factorization Machine Model 부분\n",
    "- Order-N : 특성간 서로 세 단계 이상으로 상호간 복잡한 관계의 영향 고려 : DeepLearning Model 부분\n",
    "- 예시 : app-category, time-stamp : (점심시간에는 음식 배달앱을 많이 쓴다.) ; 두가지 특성의 상호작용의 반영을 order-2\n",
    "app-category, user_age, user_gender : (10대 남자는 알피지 게임을 많이 쓴다.) ; 세가지 특성의 상호작용의 반영을 order-3\n",
    "이렇게, 쌍이상의 복잡한 상호관계가 엮여있는 것을 order-N이라고 합니다.\n",
    "앞서 배웠던 Linear Regression 모델은 Order-1 을 반영하고, Factorization Machine 모델은 Order-2 를 반영합니다.\n",
    "(global bias가 Order-0를 반영합니다.)\n",
    "![order-n](https://i.imgur.com/hcFGGnI.png)\n",
    "\n",
    "하지만 컨텍스트 데이터는 여러가지 특성의 복잡한 관계가 유저의 행동에 영향을 주므로 Order-N 인 high-order를 반영하는 추천 모델을 만드는 것이 이번 시간의 문제 정의입니다."
   ]
  },
  {
   "cell_type": "code",
   "execution_count": 67,
   "metadata": {
    "scrolled": false
   },
   "outputs": [],
   "source": [
    "import numpy as np\n",
    "import pandas as pd\n",
    "import tensorflow as tf\n",
    "import matplotlib.pyplot as plt\n",
    "from google_drive_downloader import GoogleDriveDownloader as gdd\n",
    "import seaborn as sb\n",
    "import sklearn\n",
    "\n",
    "plt.style.use(\"dark_background\")"
   ]
  },
  {
   "cell_type": "markdown",
   "metadata": {},
   "source": [
    "## Frappe Dataset\n",
    "- Frappe 데이터는 2015년 5월에 컨텍스트 인지 모바일 앱 추천시스템을 위해 공개된 현실 데이터인데요,\n",
    "유저의 앱에 대한 사용 카운트가 96200여개의 로그로 구성되어있는 데이터입니다. 데이터셋 페이퍼"
   ]
  },
  {
   "cell_type": "code",
   "execution_count": 214,
   "metadata": {},
   "outputs": [],
   "source": [
    "gdd.download_file_from_google_drive(file_id=\"1bUh06cUbqSi8CxtS5W91vclMCc2q0jxj\", dest_path=\"./frappe.csv\")\n",
    "uses_df = pd.read_csv(\"frappe.csv\")\n",
    "\n",
    "gdd.download_file_from_google_drive(file_id=\"1liTfFR_WdF8-ozFh5dyFhWDM0NyF5s7L\", dest_path=\"./frappe_meta.csv\")\n",
    "meta_df = pd.read_csv(\"frappe_meta.csv\", sep=\"\\t\")"
   ]
  },
  {
   "cell_type": "code",
   "execution_count": 144,
   "metadata": {},
   "outputs": [
    {
     "data": {
      "text/html": [
       "<div>\n",
       "<style scoped>\n",
       "    .dataframe tbody tr th:only-of-type {\n",
       "        vertical-align: middle;\n",
       "    }\n",
       "\n",
       "    .dataframe tbody tr th {\n",
       "        vertical-align: top;\n",
       "    }\n",
       "\n",
       "    .dataframe thead th {\n",
       "        text-align: right;\n",
       "    }\n",
       "</style>\n",
       "<table border=\"1\" class=\"dataframe\">\n",
       "  <thead>\n",
       "    <tr style=\"text-align: right;\">\n",
       "      <th></th>\n",
       "      <th>user</th>\n",
       "      <th>item</th>\n",
       "      <th>daytime</th>\n",
       "      <th>weekday</th>\n",
       "      <th>isweekend</th>\n",
       "      <th>homework</th>\n",
       "      <th>cost</th>\n",
       "      <th>weather</th>\n",
       "      <th>country</th>\n",
       "      <th>city</th>\n",
       "      <th>cnt</th>\n",
       "    </tr>\n",
       "  </thead>\n",
       "  <tbody>\n",
       "    <tr>\n",
       "      <th>43916</th>\n",
       "      <td>136</td>\n",
       "      <td>229</td>\n",
       "      <td>afternoon</td>\n",
       "      <td>sunday</td>\n",
       "      <td>weekend</td>\n",
       "      <td>unknown</td>\n",
       "      <td>free</td>\n",
       "      <td>unknown</td>\n",
       "      <td>unknown</td>\n",
       "      <td>0</td>\n",
       "      <td>7</td>\n",
       "    </tr>\n",
       "    <tr>\n",
       "      <th>85772</th>\n",
       "      <td>410</td>\n",
       "      <td>39</td>\n",
       "      <td>sunset</td>\n",
       "      <td>sunday</td>\n",
       "      <td>weekend</td>\n",
       "      <td>unknown</td>\n",
       "      <td>free</td>\n",
       "      <td>cloudy</td>\n",
       "      <td>Spain</td>\n",
       "      <td>369</td>\n",
       "      <td>1</td>\n",
       "    </tr>\n",
       "    <tr>\n",
       "      <th>63029</th>\n",
       "      <td>222</td>\n",
       "      <td>319</td>\n",
       "      <td>evening</td>\n",
       "      <td>monday</td>\n",
       "      <td>workday</td>\n",
       "      <td>unknown</td>\n",
       "      <td>free</td>\n",
       "      <td>sunny</td>\n",
       "      <td>Croatia</td>\n",
       "      <td>419</td>\n",
       "      <td>1</td>\n",
       "    </tr>\n",
       "    <tr>\n",
       "      <th>70649</th>\n",
       "      <td>271</td>\n",
       "      <td>17</td>\n",
       "      <td>evening</td>\n",
       "      <td>tuesday</td>\n",
       "      <td>workday</td>\n",
       "      <td>unknown</td>\n",
       "      <td>free</td>\n",
       "      <td>unknown</td>\n",
       "      <td>unknown</td>\n",
       "      <td>0</td>\n",
       "      <td>220</td>\n",
       "    </tr>\n",
       "    <tr>\n",
       "      <th>21284</th>\n",
       "      <td>66</td>\n",
       "      <td>911</td>\n",
       "      <td>afternoon</td>\n",
       "      <td>tuesday</td>\n",
       "      <td>workday</td>\n",
       "      <td>unknown</td>\n",
       "      <td>free</td>\n",
       "      <td>sunny</td>\n",
       "      <td>United States</td>\n",
       "      <td>0</td>\n",
       "      <td>1</td>\n",
       "    </tr>\n",
       "  </tbody>\n",
       "</table>\n",
       "</div>"
      ],
      "text/plain": [
       "       user  item    daytime  weekday isweekend homework  cost  weather  \\\n",
       "43916   136   229  afternoon   sunday   weekend  unknown  free  unknown   \n",
       "85772   410    39     sunset   sunday   weekend  unknown  free   cloudy   \n",
       "63029   222   319    evening   monday   workday  unknown  free    sunny   \n",
       "70649   271    17    evening  tuesday   workday  unknown  free  unknown   \n",
       "21284    66   911  afternoon  tuesday   workday  unknown  free    sunny   \n",
       "\n",
       "             country  city  cnt  \n",
       "43916        unknown     0    7  \n",
       "85772          Spain   369    1  \n",
       "63029        Croatia   419    1  \n",
       "70649        unknown     0  220  \n",
       "21284  United States     0    1  "
      ]
     },
     "execution_count": 144,
     "metadata": {},
     "output_type": "execute_result"
    }
   ],
   "source": [
    "uses_df.sample(5)"
   ]
  },
  {
   "cell_type": "markdown",
   "metadata": {},
   "source": [
    "- daytime : 시간대(\"afternoon\", \"evening\", \"morning\", \"night\", \"noon\", \"sunrise\", \"sunset\")\n",
    "- weekday : 요일\n",
    "- isweekend : 주중/주말(\"workday\"/\"weekend\")\n",
    "- homework : 업무 중/가정(\"work\"/\"home\"/\"unknown\")\n",
    "- cost : 유료/무료(\"paid\"/\"free\")\n",
    "- weather : 날씨(\"cloudy\", \"drizzle\", \"foggy\", \"rainy\", \"sleet\", \"snowy\", \"stormy\", \"sunny\", \"unknown\")\n",
    "- country : 국가\n",
    "- city : 도시(0~1087)\n",
    "- cnt : 카운트(1~28752)"
   ]
  },
  {
   "cell_type": "code",
   "execution_count": 5,
   "metadata": {},
   "outputs": [
    {
     "data": {
      "text/html": [
       "<div>\n",
       "<style scoped>\n",
       "    .dataframe tbody tr th:only-of-type {\n",
       "        vertical-align: middle;\n",
       "    }\n",
       "\n",
       "    .dataframe tbody tr th {\n",
       "        vertical-align: top;\n",
       "    }\n",
       "\n",
       "    .dataframe thead th {\n",
       "        text-align: right;\n",
       "    }\n",
       "</style>\n",
       "<table border=\"1\" class=\"dataframe\">\n",
       "  <thead>\n",
       "    <tr style=\"text-align: right;\">\n",
       "      <th></th>\n",
       "      <th>item</th>\n",
       "      <th>package</th>\n",
       "      <th>category</th>\n",
       "      <th>downloads</th>\n",
       "      <th>developer</th>\n",
       "      <th>icon</th>\n",
       "      <th>language</th>\n",
       "      <th>description</th>\n",
       "      <th>name</th>\n",
       "      <th>price</th>\n",
       "      <th>rating</th>\n",
       "      <th>short desc</th>\n",
       "    </tr>\n",
       "  </thead>\n",
       "  <tbody>\n",
       "    <tr>\n",
       "      <th>1930</th>\n",
       "      <td>1930</td>\n",
       "      <td>com.activision.elite</td>\n",
       "      <td>Entertainment</td>\n",
       "      <td>1,000,000 - 5,000,000</td>\n",
       "      <td>Activision Publishing, Inc.</td>\n",
       "      <td>http://d2lh3rxs7crswz.cloudfront.net/com.activ...</td>\n",
       "      <td>en</td>\n",
       "      <td>Access your Call of Duty® HQ anywhere, anytime...</td>\n",
       "      <td>Call of Duty® ELITE</td>\n",
       "      <td>Free</td>\n",
       "      <td>3.5</td>\n",
       "      <td>Play Together Better.</td>\n",
       "    </tr>\n",
       "    <tr>\n",
       "      <th>2603</th>\n",
       "      <td>2603</td>\n",
       "      <td>com.innovativegames.knockdown</td>\n",
       "      <td>Arcade &amp; Action</td>\n",
       "      <td>1,000,000 - 5,000,000</td>\n",
       "      <td>Innovative games</td>\n",
       "      <td>http://d2lh3rxs7crswz.cloudfront.net/com.innov...</td>\n",
       "      <td>en</td>\n",
       "      <td>The game is to knock down the boxes using a sl...</td>\n",
       "      <td>Knock Down</td>\n",
       "      <td>Free</td>\n",
       "      <td>3.8</td>\n",
       "      <td>NaN</td>\n",
       "    </tr>\n",
       "    <tr>\n",
       "      <th>2176</th>\n",
       "      <td>2176</td>\n",
       "      <td>com.houzz.app</td>\n",
       "      <td>Lifestyle</td>\n",
       "      <td>100,000 - 500,000</td>\n",
       "      <td>Houzz</td>\n",
       "      <td>http://d2lh3rxs7crswz.cloudfront.net/com.houzz...</td>\n",
       "      <td>en</td>\n",
       "      <td>Called the \"Wikipedia of interior and exterior...</td>\n",
       "      <td>Houzz Interior Design Ideas</td>\n",
       "      <td>Free</td>\n",
       "      <td>4.8</td>\n",
       "      <td>NaN</td>\n",
       "    </tr>\n",
       "    <tr>\n",
       "      <th>1530</th>\n",
       "      <td>1530</td>\n",
       "      <td>com.bom.android.newsreader.tha</td>\n",
       "      <td>News &amp; Magazines</td>\n",
       "      <td>10,000 - 50,000</td>\n",
       "      <td>Bestofmedia Group</td>\n",
       "      <td>http://d2lh3rxs7crswz.cloudfront.net/com.bom.a...</td>\n",
       "      <td>en</td>\n",
       "      <td>Tom’s Hardware: The Authority On Tech Get inst...</td>\n",
       "      <td>Tom's Hardware</td>\n",
       "      <td>Free</td>\n",
       "      <td>2.7</td>\n",
       "      <td>Tom’s Hardware: The Authority On TechGet insta...</td>\n",
       "    </tr>\n",
       "    <tr>\n",
       "      <th>1048</th>\n",
       "      <td>1048</td>\n",
       "      <td>com.neomtel.mxhome</td>\n",
       "      <td>Productivity</td>\n",
       "      <td>1,000,000 - 5,000,000</td>\n",
       "      <td>NeoMTel Co.,Ltd.</td>\n",
       "      <td>http://d2lh3rxs7crswz.cloudfront.net/com.neomt...</td>\n",
       "      <td>en</td>\n",
       "      <td>MXHome Launcher (Live Petal Theme) MX Home is ...</td>\n",
       "      <td>MXHome Launcher 3.1</td>\n",
       "      <td>Free</td>\n",
       "      <td>4.4</td>\n",
       "      <td>Art 3D Launcher MXHome</td>\n",
       "    </tr>\n",
       "  </tbody>\n",
       "</table>\n",
       "</div>"
      ],
      "text/plain": [
       "      item                         package          category  \\\n",
       "1930  1930            com.activision.elite     Entertainment   \n",
       "2603  2603   com.innovativegames.knockdown   Arcade & Action   \n",
       "2176  2176                   com.houzz.app         Lifestyle   \n",
       "1530  1530  com.bom.android.newsreader.tha  News & Magazines   \n",
       "1048  1048              com.neomtel.mxhome      Productivity   \n",
       "\n",
       "                  downloads                    developer  \\\n",
       "1930  1,000,000 - 5,000,000  Activision Publishing, Inc.   \n",
       "2603  1,000,000 - 5,000,000             Innovative games   \n",
       "2176      100,000 - 500,000                        Houzz   \n",
       "1530        10,000 - 50,000            Bestofmedia Group   \n",
       "1048  1,000,000 - 5,000,000             NeoMTel Co.,Ltd.   \n",
       "\n",
       "                                                   icon language  \\\n",
       "1930  http://d2lh3rxs7crswz.cloudfront.net/com.activ...       en   \n",
       "2603  http://d2lh3rxs7crswz.cloudfront.net/com.innov...       en   \n",
       "2176  http://d2lh3rxs7crswz.cloudfront.net/com.houzz...       en   \n",
       "1530  http://d2lh3rxs7crswz.cloudfront.net/com.bom.a...       en   \n",
       "1048  http://d2lh3rxs7crswz.cloudfront.net/com.neomt...       en   \n",
       "\n",
       "                                            description  \\\n",
       "1930  Access your Call of Duty® HQ anywhere, anytime...   \n",
       "2603  The game is to knock down the boxes using a sl...   \n",
       "2176  Called the \"Wikipedia of interior and exterior...   \n",
       "1530  Tom’s Hardware: The Authority On Tech Get inst...   \n",
       "1048  MXHome Launcher (Live Petal Theme) MX Home is ...   \n",
       "\n",
       "                             name price rating  \\\n",
       "1930          Call of Duty® ELITE  Free    3.5   \n",
       "2603                   Knock Down  Free    3.8   \n",
       "2176  Houzz Interior Design Ideas  Free    4.8   \n",
       "1530               Tom's Hardware  Free    2.7   \n",
       "1048          MXHome Launcher 3.1  Free    4.4   \n",
       "\n",
       "                                             short desc  \n",
       "1930                              Play Together Better.  \n",
       "2603                                                NaN  \n",
       "2176                                                NaN  \n",
       "1530  Tom’s Hardware: The Authority On TechGet insta...  \n",
       "1048                             Art 3D Launcher MXHome  "
      ]
     },
     "execution_count": 5,
     "metadata": {},
     "output_type": "execute_result"
    }
   ],
   "source": [
    "meta_df.sample(5)"
   ]
  },
  {
   "cell_type": "markdown",
   "metadata": {},
   "source": [
    "- 추천 목적에 따라서 추천시스템의 알고리즘과 측정 방법 등이 크게 달라집니다. 따라서, 우리는 주어진 데이터로 구성할 추천시스템의 목적을 명확히 할 필요가 있습니다. 이번 Frappe Dataset이라면 다음과 같은 시나리오를 구성해 볼 수 있겠지요.\n",
    "\n",
    "- 현재 상황에서 특정 어플이 없는 유저(user)에게 어플 추천 광고 집행\n",
    "- 특정 어플이 있는 유저에게 사용량(cnt)을 더욱 증가시키기 위해 상황에 따른 알림\n",
    "- 고객에게 상황에 따른 어플 내부 결제 유도 쿠폰 제공\n",
    "- 특정어플을 고객이 다양한 환경에서 사용하도록 유도하는 최적의 알림 타이밍\n",
    "\n",
    "- 특정 상황에서 유저가 한번도 사용하지 않았던 어플 중 가장 관심있어 할만한 어플을 찾아주는 문제로 정의할 수 있습니다."
   ]
  },
  {
   "cell_type": "code",
   "execution_count": null,
   "metadata": {},
   "outputs": [],
   "source": []
  },
  {
   "cell_type": "code",
   "execution_count": null,
   "metadata": {},
   "outputs": [],
   "source": []
  },
  {
   "cell_type": "code",
   "execution_count": 4,
   "metadata": {},
   "outputs": [],
   "source": [
    "#1번 이상 로그가 있는 Context 에 대해서는 모두 \"클릭을 했다\" 라는 의미로 `True`로 변경해줍니다.\n",
    "# uses_df[\"cnt\"] = True"
   ]
  },
  {
   "cell_type": "markdown",
   "metadata": {},
   "source": [
    "### 요일 및 시간대별 앱 사용량 파악하기"
   ]
  },
  {
   "cell_type": "code",
   "execution_count": 49,
   "metadata": {},
   "outputs": [],
   "source": [
    "pt = pd.pivot_table(uses_df[[\"daytime\", \"weekday\", \"cnt\"]], index=\"daytime\", columns=\"weekday\", values=\"cnt\", aggfunc=np.sum)\n",
    "\n",
    "col_ord = pt.sum(axis=0).sort_values().index\n",
    "row_ord = pt.sum(axis=1).sort_values().index\n",
    "\n",
    "pt = pt.loc[row_ord, col_ord]"
   ]
  },
  {
   "cell_type": "code",
   "execution_count": 50,
   "metadata": {},
   "outputs": [
    {
     "data": {
      "image/png": "[encoded data removed]",
      "text/plain": [
       "<Figure size 576x432 with 2 Axes>"
      ]
     },
     "metadata": {},
     "output_type": "display_data"
    }
   ],
   "source": [
    "fig, ax = plt.subplots(figsize=(8, 6))\n",
    "\n",
    "sb.heatmap(ax=ax, data=pt, annot=True, annot_kws={\"size\": 12}, fmt=\",\", cmap=\"RdBu\")\n",
    "\n",
    "fig.tight_layout()"
   ]
  },
  {
   "cell_type": "markdown",
   "metadata": {},
   "source": [
    "- 화요일 일출 시간에 앱을 가장 적게 사용하고 금요일 저녁 시간대에 가장 많이 사용함을 알 수 있습니다."
   ]
  },
  {
   "cell_type": "markdown",
   "metadata": {},
   "source": [
    "### 날씨에 앱 사용량 차이 파악하기"
   ]
  },
  {
   "cell_type": "code",
   "execution_count": 47,
   "metadata": {
    "scrolled": false
   },
   "outputs": [
    {
     "data": {
      "text/html": [
       "<div>\n",
       "<style scoped>\n",
       "    .dataframe tbody tr th:only-of-type {\n",
       "        vertical-align: middle;\n",
       "    }\n",
       "\n",
       "    .dataframe tbody tr th {\n",
       "        vertical-align: top;\n",
       "    }\n",
       "\n",
       "    .dataframe thead th {\n",
       "        text-align: right;\n",
       "    }\n",
       "</style>\n",
       "<table border=\"1\" class=\"dataframe\">\n",
       "  <thead>\n",
       "    <tr style=\"text-align: right;\">\n",
       "      <th></th>\n",
       "      <th>user</th>\n",
       "      <th>item</th>\n",
       "      <th>daytime</th>\n",
       "      <th>weekday</th>\n",
       "      <th>isweekend</th>\n",
       "      <th>homework</th>\n",
       "      <th>cost</th>\n",
       "      <th>weather</th>\n",
       "      <th>country</th>\n",
       "      <th>city</th>\n",
       "      <th>cnt</th>\n",
       "    </tr>\n",
       "  </thead>\n",
       "  <tbody>\n",
       "    <tr>\n",
       "      <th>80</th>\n",
       "      <td>1</td>\n",
       "      <td>5</td>\n",
       "      <td>afternoon</td>\n",
       "      <td>friday</td>\n",
       "      <td>workday</td>\n",
       "      <td>unknown</td>\n",
       "      <td>free</td>\n",
       "      <td>rainy</td>\n",
       "      <td>Spain</td>\n",
       "      <td>0</td>\n",
       "      <td>88</td>\n",
       "    </tr>\n",
       "    <tr>\n",
       "      <th>323</th>\n",
       "      <td>1</td>\n",
       "      <td>838</td>\n",
       "      <td>afternoon</td>\n",
       "      <td>friday</td>\n",
       "      <td>workday</td>\n",
       "      <td>unknown</td>\n",
       "      <td>free</td>\n",
       "      <td>rainy</td>\n",
       "      <td>Spain</td>\n",
       "      <td>0</td>\n",
       "      <td>596</td>\n",
       "    </tr>\n",
       "    <tr>\n",
       "      <th>420</th>\n",
       "      <td>2</td>\n",
       "      <td>5</td>\n",
       "      <td>evening</td>\n",
       "      <td>thursday</td>\n",
       "      <td>workday</td>\n",
       "      <td>home</td>\n",
       "      <td>free</td>\n",
       "      <td>rainy</td>\n",
       "      <td>Spain</td>\n",
       "      <td>369</td>\n",
       "      <td>8</td>\n",
       "    </tr>\n",
       "    <tr>\n",
       "      <th>656</th>\n",
       "      <td>2</td>\n",
       "      <td>78</td>\n",
       "      <td>evening</td>\n",
       "      <td>thursday</td>\n",
       "      <td>workday</td>\n",
       "      <td>home</td>\n",
       "      <td>free</td>\n",
       "      <td>rainy</td>\n",
       "      <td>Spain</td>\n",
       "      <td>369</td>\n",
       "      <td>2</td>\n",
       "    </tr>\n",
       "    <tr>\n",
       "      <th>770</th>\n",
       "      <td>3</td>\n",
       "      <td>3</td>\n",
       "      <td>noon</td>\n",
       "      <td>wednesday</td>\n",
       "      <td>workday</td>\n",
       "      <td>unknown</td>\n",
       "      <td>free</td>\n",
       "      <td>rainy</td>\n",
       "      <td>United States</td>\n",
       "      <td>1028</td>\n",
       "      <td>3</td>\n",
       "    </tr>\n",
       "    <tr>\n",
       "      <th>...</th>\n",
       "      <td>...</td>\n",
       "      <td>...</td>\n",
       "      <td>...</td>\n",
       "      <td>...</td>\n",
       "      <td>...</td>\n",
       "      <td>...</td>\n",
       "      <td>...</td>\n",
       "      <td>...</td>\n",
       "      <td>...</td>\n",
       "      <td>...</td>\n",
       "      <td>...</td>\n",
       "    </tr>\n",
       "    <tr>\n",
       "      <th>93119</th>\n",
       "      <td>822</td>\n",
       "      <td>38</td>\n",
       "      <td>afternoon</td>\n",
       "      <td>wednesday</td>\n",
       "      <td>workday</td>\n",
       "      <td>unknown</td>\n",
       "      <td>paid</td>\n",
       "      <td>rainy</td>\n",
       "      <td>Spain</td>\n",
       "      <td>369</td>\n",
       "      <td>1</td>\n",
       "    </tr>\n",
       "    <tr>\n",
       "      <th>93193</th>\n",
       "      <td>844</td>\n",
       "      <td>44</td>\n",
       "      <td>morning</td>\n",
       "      <td>friday</td>\n",
       "      <td>workday</td>\n",
       "      <td>unknown</td>\n",
       "      <td>free</td>\n",
       "      <td>rainy</td>\n",
       "      <td>United Kingdom</td>\n",
       "      <td>401</td>\n",
       "      <td>1</td>\n",
       "    </tr>\n",
       "    <tr>\n",
       "      <th>93194</th>\n",
       "      <td>844</td>\n",
       "      <td>58</td>\n",
       "      <td>morning</td>\n",
       "      <td>friday</td>\n",
       "      <td>workday</td>\n",
       "      <td>unknown</td>\n",
       "      <td>free</td>\n",
       "      <td>rainy</td>\n",
       "      <td>United Kingdom</td>\n",
       "      <td>401</td>\n",
       "      <td>1</td>\n",
       "    </tr>\n",
       "    <tr>\n",
       "      <th>93198</th>\n",
       "      <td>844</td>\n",
       "      <td>1127</td>\n",
       "      <td>morning</td>\n",
       "      <td>friday</td>\n",
       "      <td>workday</td>\n",
       "      <td>unknown</td>\n",
       "      <td>paid</td>\n",
       "      <td>rainy</td>\n",
       "      <td>United Kingdom</td>\n",
       "      <td>401</td>\n",
       "      <td>1</td>\n",
       "    </tr>\n",
       "    <tr>\n",
       "      <th>93271</th>\n",
       "      <td>896</td>\n",
       "      <td>227</td>\n",
       "      <td>sunset</td>\n",
       "      <td>sunday</td>\n",
       "      <td>weekend</td>\n",
       "      <td>unknown</td>\n",
       "      <td>free</td>\n",
       "      <td>rainy</td>\n",
       "      <td>United Kingdom</td>\n",
       "      <td>0</td>\n",
       "      <td>1</td>\n",
       "    </tr>\n",
       "  </tbody>\n",
       "</table>\n",
       "<p>6388 rows × 11 columns</p>\n",
       "</div>"
      ],
      "text/plain": [
       "       user  item    daytime    weekday isweekend homework  cost weather  \\\n",
       "80        1     5  afternoon     friday   workday  unknown  free   rainy   \n",
       "323       1   838  afternoon     friday   workday  unknown  free   rainy   \n",
       "420       2     5    evening   thursday   workday     home  free   rainy   \n",
       "656       2    78    evening   thursday   workday     home  free   rainy   \n",
       "770       3     3       noon  wednesday   workday  unknown  free   rainy   \n",
       "...     ...   ...        ...        ...       ...      ...   ...     ...   \n",
       "93119   822    38  afternoon  wednesday   workday  unknown  paid   rainy   \n",
       "93193   844    44    morning     friday   workday  unknown  free   rainy   \n",
       "93194   844    58    morning     friday   workday  unknown  free   rainy   \n",
       "93198   844  1127    morning     friday   workday  unknown  paid   rainy   \n",
       "93271   896   227     sunset     sunday   weekend  unknown  free   rainy   \n",
       "\n",
       "              country  city  cnt  \n",
       "80              Spain     0   88  \n",
       "323             Spain     0  596  \n",
       "420             Spain   369    8  \n",
       "656             Spain   369    2  \n",
       "770     United States  1028    3  \n",
       "...               ...   ...  ...  \n",
       "93119           Spain   369    1  \n",
       "93193  United Kingdom   401    1  \n",
       "93194  United Kingdom   401    1  \n",
       "93198  United Kingdom   401    1  \n",
       "93271  United Kingdom     0    1  \n",
       "\n",
       "[6388 rows x 11 columns]"
      ]
     },
     "execution_count": 47,
     "metadata": {},
     "output_type": "execute_result"
    }
   ],
   "source": [
    "uses_df.loc[uses_df[\"weather\"]==\"rainy\", :]"
   ]
  },
  {
   "cell_type": "code",
   "execution_count": 62,
   "metadata": {},
   "outputs": [],
   "source": [
    "pt1 = pd.pivot_table(uses_df.loc[uses_df[\"weather\"]==\"rainy\", [\"daytime\", \"weekday\", \"cnt\"]], index=\"daytime\", columns=\"weekday\", values=\"cnt\", aggfunc=np.sum)\n",
    "\n",
    "col_ord = pt1.sum(axis=0).sort_values().index\n",
    "row_ord = pt1.sum(axis=1).sort_values().index\n",
    "\n",
    "pt1 = pt1.loc[row_ord1, col_ord1]\n",
    "\n",
    "pt2 = pd.pivot_table(uses_df.loc[uses_df[\"weather\"]==\"sunny\", [\"daytime\", \"weekday\", \"cnt\"]], index=\"daytime\", columns=\"weekday\", values=\"cnt\", aggfunc=np.sum)\n",
    "\n",
    "pt2 = pt2.loc[row_ord, col_ord]"
   ]
  },
  {
   "cell_type": "code",
   "execution_count": 65,
   "metadata": {},
   "outputs": [
    {
     "data": {
      "image/png": "[encoded data removed]",
      "text/plain": [
       "<Figure size 576x432 with 4 Axes>"
      ]
     },
     "metadata": {},
     "output_type": "display_data"
    }
   ],
   "source": [
    "fig, (ax1, ax2) = plt.subplots(2, 1, figsize=(8, 6))\n",
    "\n",
    "sb.heatmap(ax=ax1, data=pt1, annot=True, annot_kws={\"size\": 12}, fmt=\",\", cmap=\"RdBu\")\n",
    "sb.heatmap(ax=ax2, data=pt2, annot=True, annot_kws={\"size\": 12}, fmt=\",\", cmap=\"RdBu\")\n",
    "\n",
    "fig.tight_layout()"
   ]
  },
  {
   "cell_type": "markdown",
   "metadata": {},
   "source": [
    "## DeepFM\n",
    "### 특징 1\n",
    "- 각 피쳐의 임베딩을 FM모델과 DeepLearning 모델이 공유하고 있다.\n",
    "- 피쳐 엔지니어링에 들어가는 수고를 많이 덜어낼 수 있습니다.\n",
    "\n",
    "### 특징 2\n",
    "- 미리 학습(Pre-trained)하지 않고 한번의 Input으로 End-to-end로 진행한다.\n",
    "- 다른 모델의 경우 FM으로 미리 한번 학습된 Embedding으로 Deeplearning모델을 학습하는 경우가 있습니다. 한번에 모델을 학습시킬 수 있으므로, 학습의 어려움이 적습니다.\n",
    "### deepFM 모델 구성하기\n",
    "#### (1) input layer 구성하기\n",
    "- 모델의 입력 변수로는 아래의 피쳐들이 필요합니다.\n",
    "$$\n",
    "x_{user},\\ x_{item},\\ x_{daytime},\\ x_{weekday},\\ x_{isweekend},\\ x_{homework},\\ x_{cost},\\ x_{weather},\\ x_{country},\\ x_{city}\n",
    "$$"
   ]
  },
  {
   "cell_type": "code",
   "execution_count": 215,
   "metadata": {},
   "outputs": [
    {
     "data": {
      "text/html": [
       "<div>\n",
       "<style scoped>\n",
       "    .dataframe tbody tr th:only-of-type {\n",
       "        vertical-align: middle;\n",
       "    }\n",
       "\n",
       "    .dataframe tbody tr th {\n",
       "        vertical-align: top;\n",
       "    }\n",
       "\n",
       "    .dataframe thead th {\n",
       "        text-align: right;\n",
       "    }\n",
       "</style>\n",
       "<table border=\"1\" class=\"dataframe\">\n",
       "  <thead>\n",
       "    <tr style=\"text-align: right;\">\n",
       "      <th></th>\n",
       "      <th>user</th>\n",
       "      <th>item</th>\n",
       "      <th>daytime</th>\n",
       "      <th>weekday</th>\n",
       "      <th>isweekend</th>\n",
       "      <th>homework</th>\n",
       "      <th>cost</th>\n",
       "      <th>weather</th>\n",
       "      <th>country</th>\n",
       "      <th>city</th>\n",
       "      <th>cnt</th>\n",
       "    </tr>\n",
       "  </thead>\n",
       "  <tbody>\n",
       "    <tr>\n",
       "      <th>56243</th>\n",
       "      <td>186</td>\n",
       "      <td>48</td>\n",
       "      <td>noon</td>\n",
       "      <td>thursday</td>\n",
       "      <td>workday</td>\n",
       "      <td>unknown</td>\n",
       "      <td>free</td>\n",
       "      <td>cloudy</td>\n",
       "      <td>Spain</td>\n",
       "      <td>369</td>\n",
       "      <td>42</td>\n",
       "    </tr>\n",
       "    <tr>\n",
       "      <th>89537</th>\n",
       "      <td>506</td>\n",
       "      <td>73</td>\n",
       "      <td>evening</td>\n",
       "      <td>saturday</td>\n",
       "      <td>weekend</td>\n",
       "      <td>unknown</td>\n",
       "      <td>free</td>\n",
       "      <td>rainy</td>\n",
       "      <td>Indonesia</td>\n",
       "      <td>0</td>\n",
       "      <td>7</td>\n",
       "    </tr>\n",
       "    <tr>\n",
       "      <th>75713</th>\n",
       "      <td>300</td>\n",
       "      <td>181</td>\n",
       "      <td>sunset</td>\n",
       "      <td>sunday</td>\n",
       "      <td>weekend</td>\n",
       "      <td>unknown</td>\n",
       "      <td>free</td>\n",
       "      <td>unknown</td>\n",
       "      <td>unknown</td>\n",
       "      <td>0</td>\n",
       "      <td>1</td>\n",
       "    </tr>\n",
       "    <tr>\n",
       "      <th>68004</th>\n",
       "      <td>254</td>\n",
       "      <td>797</td>\n",
       "      <td>morning</td>\n",
       "      <td>sunday</td>\n",
       "      <td>weekend</td>\n",
       "      <td>unknown</td>\n",
       "      <td>free</td>\n",
       "      <td>sunny</td>\n",
       "      <td>United States</td>\n",
       "      <td>0</td>\n",
       "      <td>149</td>\n",
       "    </tr>\n",
       "    <tr>\n",
       "      <th>38569</th>\n",
       "      <td>117</td>\n",
       "      <td>181</td>\n",
       "      <td>afternoon</td>\n",
       "      <td>wednesday</td>\n",
       "      <td>workday</td>\n",
       "      <td>unknown</td>\n",
       "      <td>free</td>\n",
       "      <td>cloudy</td>\n",
       "      <td>Chile</td>\n",
       "      <td>151</td>\n",
       "      <td>1</td>\n",
       "    </tr>\n",
       "  </tbody>\n",
       "</table>\n",
       "</div>"
      ],
      "text/plain": [
       "       user  item    daytime    weekday isweekend homework  cost  weather  \\\n",
       "56243   186    48       noon   thursday   workday  unknown  free   cloudy   \n",
       "89537   506    73    evening   saturday   weekend  unknown  free    rainy   \n",
       "75713   300   181     sunset     sunday   weekend  unknown  free  unknown   \n",
       "68004   254   797    morning     sunday   weekend  unknown  free    sunny   \n",
       "38569   117   181  afternoon  wednesday   workday  unknown  free   cloudy   \n",
       "\n",
       "             country  city  cnt  \n",
       "56243          Spain   369   42  \n",
       "89537      Indonesia     0    7  \n",
       "75713        unknown     0    1  \n",
       "68004  United States     0  149  \n",
       "38569          Chile   151    1  "
      ]
     },
     "execution_count": 215,
     "metadata": {},
     "output_type": "execute_result"
    }
   ],
   "source": [
    "uses_df.sample(5)"
   ]
  },
  {
   "cell_type": "markdown",
   "metadata": {},
   "source": [
    "- frappe dataset는 전부 categorical vatiables로 구성되어 있으므로 입력값의 형태는 0-d, 즉 Index로만 존재하게 됩니다."
   ]
  },
  {
   "cell_type": "code",
   "execution_count": 216,
   "metadata": {},
   "outputs": [
    {
     "name": "stdout",
     "output_type": "stream",
     "text": [
      "user | (93308,)\n",
      "item | (93308,)\n",
      "daytime | (93308,)\n",
      "weekday | (93308,)\n",
      "isweekend | (93308,)\n",
      "homework | (93308,)\n",
      "cost | (93308,)\n",
      "weather | (93308,)\n",
      "country | (93308,)\n",
      "city | (93308,)\n",
      "cnt | (93308,)\n"
     ]
    }
   ],
   "source": [
    "for col in uses_df.columns:    \n",
    "    print(f\"{col} | {uses_df[col].shape}\")"
   ]
  },
  {
   "cell_type": "markdown",
   "metadata": {},
   "source": [
    "- 위의 구성에서 93308은 데이터의 갯수를 의미하는 축이고, 데이터의 Shape은 이후 숫자가 데이터의 Shape이 됩니다. 현재 각 데이터의 Shape은 0차원입니다. 이러한 데이터를 입력받기 위해서는 차원이 ()인 Input레이어를 만들어 주어야 합니다."
   ]
  },
  {
   "cell_type": "code",
   "execution_count": 217,
   "metadata": {},
   "outputs": [],
   "source": [
    "#input layer를 구성합니다.\n",
    "inputs = {}\n",
    "for col in uses_df.columns:\n",
    "    if col != \"cnt\":\n",
    "        inputs[col] = tf.keras.Input(shape=(), name=\"a\")"
   ]
  },
  {
   "cell_type": "code",
   "execution_count": 218,
   "metadata": {},
   "outputs": [
    {
     "data": {
      "text/plain": [
       "{'user': <tf.Tensor 'a_10:0' shape=(None,) dtype=float32>,\n",
       " 'item': <tf.Tensor 'a_11:0' shape=(None,) dtype=float32>,\n",
       " 'daytime': <tf.Tensor 'a_12:0' shape=(None,) dtype=float32>,\n",
       " 'weekday': <tf.Tensor 'a_13:0' shape=(None,) dtype=float32>,\n",
       " 'isweekend': <tf.Tensor 'a_14:0' shape=(None,) dtype=float32>,\n",
       " 'homework': <tf.Tensor 'a_15:0' shape=(None,) dtype=float32>,\n",
       " 'cost': <tf.Tensor 'a_16:0' shape=(None,) dtype=float32>,\n",
       " 'weather': <tf.Tensor 'a_17:0' shape=(None,) dtype=float32>,\n",
       " 'country': <tf.Tensor 'a_18:0' shape=(None,) dtype=float32>,\n",
       " 'city': <tf.Tensor 'a_19:0' shape=(None,) dtype=float32>}"
      ]
     },
     "execution_count": 218,
     "metadata": {},
     "output_type": "execute_result"
    }
   ],
   "source": [
    "inputs"
   ]
  },
  {
   "cell_type": "markdown",
   "metadata": {},
   "source": [
    "###  선형회귀 부분 구성하기(order-1)\n",
    "$$\n",
    "logits_{lr} = W_{user}X_{user} + W_{item}X_{item} + ⋯ + W_{city}X_{city} + b\n",
    "$$\n",
    "\n",
    "- features가 categorical variables이므로 예를 들어 user : 927, item : 14, daytime : morning, ... 인 경우 다음 식으로 간단히 표현됩니다.\n",
    "$$\n",
    "logits_{lr} = w_{user\\ :\\ 927} + w_{item\\ :\n",
    " 14} + w_{city\\ :\\ morning} + ⋯ + b\n",
    "$$"
   ]
  },
  {
   "cell_type": "code",
   "execution_count": 31,
   "metadata": {},
   "outputs": [
    {
     "data": {
      "text/html": [
       "<div>\n",
       "<style scoped>\n",
       "    .dataframe tbody tr th:only-of-type {\n",
       "        vertical-align: middle;\n",
       "    }\n",
       "\n",
       "    .dataframe tbody tr th {\n",
       "        vertical-align: top;\n",
       "    }\n",
       "\n",
       "    .dataframe thead th {\n",
       "        text-align: right;\n",
       "    }\n",
       "</style>\n",
       "<table border=\"1\" class=\"dataframe\">\n",
       "  <thead>\n",
       "    <tr style=\"text-align: right;\">\n",
       "      <th></th>\n",
       "      <th>user</th>\n",
       "      <th>item</th>\n",
       "      <th>daytime</th>\n",
       "      <th>weekday</th>\n",
       "      <th>isweekend</th>\n",
       "      <th>homework</th>\n",
       "      <th>cost</th>\n",
       "      <th>weather</th>\n",
       "      <th>country</th>\n",
       "      <th>city</th>\n",
       "      <th>cnt</th>\n",
       "    </tr>\n",
       "  </thead>\n",
       "  <tbody>\n",
       "    <tr>\n",
       "      <th>0</th>\n",
       "      <td>0</td>\n",
       "      <td>0</td>\n",
       "      <td>morning</td>\n",
       "      <td>sunday</td>\n",
       "      <td>weekend</td>\n",
       "      <td>unknown</td>\n",
       "      <td>free</td>\n",
       "      <td>sunny</td>\n",
       "      <td>United States</td>\n",
       "      <td>0</td>\n",
       "      <td>1</td>\n",
       "    </tr>\n",
       "    <tr>\n",
       "      <th>1</th>\n",
       "      <td>0</td>\n",
       "      <td>9</td>\n",
       "      <td>afternoon</td>\n",
       "      <td>friday</td>\n",
       "      <td>workday</td>\n",
       "      <td>unknown</td>\n",
       "      <td>free</td>\n",
       "      <td>cloudy</td>\n",
       "      <td>United States</td>\n",
       "      <td>1023</td>\n",
       "      <td>2</td>\n",
       "    </tr>\n",
       "    <tr>\n",
       "      <th>2</th>\n",
       "      <td>0</td>\n",
       "      <td>9</td>\n",
       "      <td>evening</td>\n",
       "      <td>friday</td>\n",
       "      <td>weekend</td>\n",
       "      <td>unknown</td>\n",
       "      <td>free</td>\n",
       "      <td>cloudy</td>\n",
       "      <td>United States</td>\n",
       "      <td>1023</td>\n",
       "      <td>9</td>\n",
       "    </tr>\n",
       "    <tr>\n",
       "      <th>3</th>\n",
       "      <td>0</td>\n",
       "      <td>14</td>\n",
       "      <td>afternoon</td>\n",
       "      <td>friday</td>\n",
       "      <td>workday</td>\n",
       "      <td>unknown</td>\n",
       "      <td>free</td>\n",
       "      <td>cloudy</td>\n",
       "      <td>United States</td>\n",
       "      <td>1023</td>\n",
       "      <td>2</td>\n",
       "    </tr>\n",
       "    <tr>\n",
       "      <th>4</th>\n",
       "      <td>0</td>\n",
       "      <td>16</td>\n",
       "      <td>evening</td>\n",
       "      <td>friday</td>\n",
       "      <td>weekend</td>\n",
       "      <td>unknown</td>\n",
       "      <td>free</td>\n",
       "      <td>cloudy</td>\n",
       "      <td>United States</td>\n",
       "      <td>1023</td>\n",
       "      <td>1</td>\n",
       "    </tr>\n",
       "    <tr>\n",
       "      <th>...</th>\n",
       "      <td>...</td>\n",
       "      <td>...</td>\n",
       "      <td>...</td>\n",
       "      <td>...</td>\n",
       "      <td>...</td>\n",
       "      <td>...</td>\n",
       "      <td>...</td>\n",
       "      <td>...</td>\n",
       "      <td>...</td>\n",
       "      <td>...</td>\n",
       "      <td>...</td>\n",
       "    </tr>\n",
       "    <tr>\n",
       "      <th>93303</th>\n",
       "      <td>927</td>\n",
       "      <td>526</td>\n",
       "      <td>morning</td>\n",
       "      <td>friday</td>\n",
       "      <td>workday</td>\n",
       "      <td>unknown</td>\n",
       "      <td>free</td>\n",
       "      <td>unknown</td>\n",
       "      <td>unknown</td>\n",
       "      <td>0</td>\n",
       "      <td>1</td>\n",
       "    </tr>\n",
       "    <tr>\n",
       "      <th>93304</th>\n",
       "      <td>936</td>\n",
       "      <td>11</td>\n",
       "      <td>night</td>\n",
       "      <td>tuesday</td>\n",
       "      <td>workday</td>\n",
       "      <td>unknown</td>\n",
       "      <td>free</td>\n",
       "      <td>cloudy</td>\n",
       "      <td>Malaysia</td>\n",
       "      <td>746</td>\n",
       "      <td>1</td>\n",
       "    </tr>\n",
       "    <tr>\n",
       "      <th>93305</th>\n",
       "      <td>936</td>\n",
       "      <td>57</td>\n",
       "      <td>night</td>\n",
       "      <td>friday</td>\n",
       "      <td>workday</td>\n",
       "      <td>unknown</td>\n",
       "      <td>free</td>\n",
       "      <td>cloudy</td>\n",
       "      <td>Malaysia</td>\n",
       "      <td>746</td>\n",
       "      <td>13</td>\n",
       "    </tr>\n",
       "    <tr>\n",
       "      <th>93306</th>\n",
       "      <td>936</td>\n",
       "      <td>126</td>\n",
       "      <td>night</td>\n",
       "      <td>tuesday</td>\n",
       "      <td>workday</td>\n",
       "      <td>unknown</td>\n",
       "      <td>free</td>\n",
       "      <td>cloudy</td>\n",
       "      <td>Malaysia</td>\n",
       "      <td>746</td>\n",
       "      <td>3</td>\n",
       "    </tr>\n",
       "    <tr>\n",
       "      <th>93307</th>\n",
       "      <td>936</td>\n",
       "      <td>229</td>\n",
       "      <td>night</td>\n",
       "      <td>friday</td>\n",
       "      <td>workday</td>\n",
       "      <td>unknown</td>\n",
       "      <td>free</td>\n",
       "      <td>cloudy</td>\n",
       "      <td>Malaysia</td>\n",
       "      <td>746</td>\n",
       "      <td>3</td>\n",
       "    </tr>\n",
       "  </tbody>\n",
       "</table>\n",
       "<p>93308 rows × 11 columns</p>\n",
       "</div>"
      ],
      "text/plain": [
       "       user  item    daytime  weekday isweekend homework  cost  weather  \\\n",
       "0         0     0    morning   sunday   weekend  unknown  free    sunny   \n",
       "1         0     9  afternoon   friday   workday  unknown  free   cloudy   \n",
       "2         0     9    evening   friday   weekend  unknown  free   cloudy   \n",
       "3         0    14  afternoon   friday   workday  unknown  free   cloudy   \n",
       "4         0    16    evening   friday   weekend  unknown  free   cloudy   \n",
       "...     ...   ...        ...      ...       ...      ...   ...      ...   \n",
       "93303   927   526    morning   friday   workday  unknown  free  unknown   \n",
       "93304   936    11      night  tuesday   workday  unknown  free   cloudy   \n",
       "93305   936    57      night   friday   workday  unknown  free   cloudy   \n",
       "93306   936   126      night  tuesday   workday  unknown  free   cloudy   \n",
       "93307   936   229      night   friday   workday  unknown  free   cloudy   \n",
       "\n",
       "             country  city  cnt  \n",
       "0      United States     0    1  \n",
       "1      United States  1023    2  \n",
       "2      United States  1023    9  \n",
       "3      United States  1023    2  \n",
       "4      United States  1023    1  \n",
       "...              ...   ...  ...  \n",
       "93303        unknown     0    1  \n",
       "93304       Malaysia   746    1  \n",
       "93305       Malaysia   746   13  \n",
       "93306       Malaysia   746    3  \n",
       "93307       Malaysia   746    3  \n",
       "\n",
       "[93308 rows x 11 columns]"
      ]
     },
     "execution_count": 31,
     "metadata": {},
     "output_type": "execute_result"
    }
   ],
   "source": [
    "uses_df"
   ]
  },
  {
   "cell_type": "code",
   "execution_count": 6,
   "metadata": {},
   "outputs": [],
   "source": [
    "#embedding layer를 구성합니다.\n",
    "lr_embs = []\n",
    "for col in uses_df.columns:\n",
    "    if col != \"cnt\":\n",
    "        lr_embs.append(tf.keras.layers.Embedding(input_dim= uses_df[col].nunique(), output_dim=1, name=f\"{col}_lr_emb\")(inputs[col]))"
   ]
  },
  {
   "cell_type": "code",
   "execution_count": 15,
   "metadata": {},
   "outputs": [
    {
     "data": {
      "text/plain": [
       "[<tf.Tensor 'user_lr_emb/Identity:0' shape=(None, 1) dtype=float32>,\n",
       " <tf.Tensor 'item_lr_emb/Identity:0' shape=(None, 1) dtype=float32>,\n",
       " <tf.Tensor 'daytime_lr_emb/Identity:0' shape=(None, 1) dtype=float32>,\n",
       " <tf.Tensor 'weekday_lr_emb/Identity:0' shape=(None, 1) dtype=float32>,\n",
       " <tf.Tensor 'isweekend_lr_emb/Identity:0' shape=(None, 1) dtype=float32>,\n",
       " <tf.Tensor 'homework_lr_emb/Identity:0' shape=(None, 1) dtype=float32>,\n",
       " <tf.Tensor 'cost_lr_emb/Identity:0' shape=(None, 1) dtype=float32>,\n",
       " <tf.Tensor 'weather_lr_emb/Identity:0' shape=(None, 1) dtype=float32>,\n",
       " <tf.Tensor 'country_lr_emb/Identity:0' shape=(None, 1) dtype=float32>,\n",
       " <tf.Tensor 'city_lr_emb/Identity:0' shape=(None, 1) dtype=float32>]"
      ]
     },
     "execution_count": 15,
     "metadata": {},
     "output_type": "execute_result"
    }
   ],
   "source": [
    "lr_embs"
   ]
  },
  {
   "cell_type": "code",
   "execution_count": 41,
   "metadata": {},
   "outputs": [],
   "source": [
    "class LR(tf.keras.layers.Layer):\n",
    "    def build(self, input_shape):\n",
    "        # 레이어 연결시 0으로 초기화된 학습 가중치 생성\n",
    "        self.b = self.add_weight(shape=(1, ), initializer=\"zeros\", trainable=True)\n",
    "        super().build(input_shape)\n",
    "    \n",
    "    def call(self, inputs, **kwargs):\n",
    "        logits = tf.add_n(inputs) + self.b\n",
    "        return logits"
   ]
  },
  {
   "cell_type": "code",
   "execution_count": 42,
   "metadata": {},
   "outputs": [],
   "source": [
    "logits_lr = LR(name=\"lr\")(lr_embs)"
   ]
  },
  {
   "cell_type": "code",
   "execution_count": 43,
   "metadata": {},
   "outputs": [
    {
     "data": {
      "text/plain": [
       "<tf.Tensor 'lr_1/Identity:0' shape=(None, 1) dtype=float32>"
      ]
     },
     "execution_count": 43,
     "metadata": {},
     "output_type": "execute_result"
    }
   ],
   "source": [
    "logits_lr"
   ]
  },
  {
   "cell_type": "markdown",
   "metadata": {},
   "source": [
    "### (2) Factorization 부분 구성하기(Order-2)"
   ]
  },
  {
   "cell_type": "code",
   "execution_count": 8,
   "metadata": {},
   "outputs": [
    {
     "name": "stdout",
     "output_type": "stream",
     "text": [
      "<bound method Layer.get_weights of <tensorflow.python.keras.layers.embeddings.Embedding object at 0x000001CA2497ECC8>>\n",
      "<bound method Layer.get_weights of <tensorflow.python.keras.layers.embeddings.Embedding object at 0x000001CA24970F48>>\n",
      "<bound method Layer.get_weights of <tensorflow.python.keras.layers.embeddings.Embedding object at 0x000001CA248A3F48>>\n",
      "<bound method Layer.get_weights of <tensorflow.python.keras.layers.embeddings.Embedding object at 0x000001CA24970F48>>\n",
      "<bound method Layer.get_weights of <tensorflow.python.keras.layers.embeddings.Embedding object at 0x000001CA24970F48>>\n",
      "<bound method Layer.get_weights of <tensorflow.python.keras.layers.embeddings.Embedding object at 0x000001CA2488E048>>\n",
      "<bound method Layer.get_weights of <tensorflow.python.keras.layers.embeddings.Embedding object at 0x000001CA24970F48>>\n",
      "<bound method Layer.get_weights of <tensorflow.python.keras.layers.embeddings.Embedding object at 0x000001CA2488E048>>\n",
      "<bound method Layer.get_weights of <tensorflow.python.keras.layers.embeddings.Embedding object at 0x000001CA24970F48>>\n",
      "<bound method Layer.get_weights of <tensorflow.python.keras.layers.embeddings.Embedding object at 0x000001CA2497ECC8>>\n"
     ]
    }
   ],
   "source": [
    "fm_size = 5\n",
    "\n",
    "fm_embs = []\n",
    "for col in uses_df.columns:\n",
    "    if col != \"cnt\":\n",
    "#         fm_embs.append(tf.keras.layers.Embedding(input_dim= uses_df[col].nunique(), output_dim=fm_size, name=f\"{col}_fm_emb\")(inputs[col]))\n",
    "        print(tf.keras.layers.Embedding(input_dim= uses_df[col].nunique(), output_dim=fm_size, name=f\"{col}_fm_emb\").get_weights)"
   ]
  },
  {
   "cell_type": "code",
   "execution_count": 12,
   "metadata": {},
   "outputs": [
    {
     "data": {
      "text/plain": [
       "<tensorflow.python.keras.layers.embeddings.Embedding at 0x1ca24b73a08>"
      ]
     },
     "execution_count": 12,
     "metadata": {},
     "output_type": "execute_result"
    }
   ],
   "source": [
    "tf.keras.layers.Embedding(input_dim= uses_df[col].nunique(), output_dim=fm_size, name=f\"{col}_fm_emb\")"
   ]
  },
  {
   "cell_type": "code",
   "execution_count": 11,
   "metadata": {},
   "outputs": [
    {
     "ename": "IndexError",
     "evalue": "list index out of range",
     "output_type": "error",
     "traceback": [
      "\u001b[1;31m---------------------------------------------------------------------------\u001b[0m",
      "\u001b[1;31mIndexError\u001b[0m                                Traceback (most recent call last)",
      "\u001b[1;32m<ipython-input-11-59df6196faa7>\u001b[0m in \u001b[0;36m<module>\u001b[1;34m\u001b[0m\n\u001b[1;32m----> 1\u001b[1;33m \u001b[0mfm_embs\u001b[0m\u001b[1;33m[\u001b[0m\u001b[1;36m0\u001b[0m\u001b[1;33m]\u001b[0m\u001b[1;33m\u001b[0m\u001b[1;33m\u001b[0m\u001b[0m\n\u001b[0m",
      "\u001b[1;31mIndexError\u001b[0m: list index out of range"
     ]
    }
   ],
   "source": [
    "fm_embs[0]"
   ]
  },
  {
   "cell_type": "markdown",
   "metadata": {},
   "source": [
    "### 3. 데이터 구성하기\n",
    "#### (1) 명목형 데이터의 인덱싱 표 만들기\n",
    "- 명목형 데이터에서 각 값을 임베딩 행렬에서 몇 번째 벡터를 가르키는지를 지칭하는 임베딩 인덱스로 바꾸어 주기 위해서, 인덱싱 표를 생성합니다."
   ]
  },
  {
   "cell_type": "code",
   "execution_count": 145,
   "metadata": {},
   "outputs": [],
   "source": [
    "cat2idx = {}\n",
    "cat2size = {}\n",
    "for col in uses_df.columns:\n",
    "    if col != \"cnt\":\n",
    "        uses_df[col] = uses_df[col].astype(\"category\")\n",
    "        \n",
    "        cat2idx[col] = {cat:idx for idx, cat in enumerate(uses_df[col].cat.categories)}\n",
    "        cat2size[col] = len(uses_df[col].cat.categories)"
   ]
  },
  {
   "cell_type": "code",
   "execution_count": 146,
   "metadata": {},
   "outputs": [
    {
     "name": "stdout",
     "output_type": "stream",
     "text": [
      "{'user': {0: 0, 1: 1, 2: 2, 3: 3, 4: 4, 5: 5, 6: 6, 7: 7, 8: 8, 9: 9, 10: 10, 11: 11, 12: 12, 13: 13, 14: 14, 15: 15, 16: 16, 17: 17, 18: 18, 19: 19, 20: 20, 21: 21, 22: 22, 23: 23, 24: 24, 25: 25, 26: 26, 27: 27, 28: 28, 29: 29, 30: 30, 31: 31, 32: 32, 33: 33, 34: 34, 35: 35, 36: 36, 37: 37, 38: 38, 39: 39, 40: 40, 41: 41, 42: 42, 43: 43, 44: 44, 45: 45, 46: 46, 47: 47, 48: 48, 49: 49, 50: 50, 51: 51, 52: 52, 53: 53, 54: 54, 55: 55, 56: 56, 57: 57, 59: 58, 60: 59, 61: 60, 62: 61, 63: 62, 64: 63, 65: 64, 66: 65, 67: 66, 68: 67, 69: 68, 70: 69, 71: 70, 72: 71, 73: 72, 74: 73, 75: 74, 76: 75, 77: 76, 78: 77, 79: 78, 80: 79, 81: 80, 82: 81, 83: 82, 84: 83, 85: 84, 86: 85, 87: 86, 88: 87, 89: 88, 90: 89, 91: 90, 92: 91, 93: 92, 94: 93, 95: 94, 96: 95, 97: 96, 98: 97, 99: 98, 100: 99, 101: 100, 102: 101, 103: 102, 104: 103, 105: 104, 106: 105, 107: 106, 108: 107, 109: 108, 110: 109, 111: 110, 112: 111, 113: 112, 114: 113, 115: 114, 116: 115, 117: 116, 118: 117, 119: 118, 120: 119, 121: 120, 122: 121, 123: 122, 124: 123, 125: 124, 126: 125, 127: 126, 128: 127, 129: 128, 130: 129, 131: 130, 132: 131, 133: 132, 134: 133, 135: 134, 136: 135, 137: 136, 138: 137, 139: 138, 140: 139, 141: 140, 142: 141, 143: 142, 144: 143, 145: 144, 146: 145, 147: 146, 148: 147, 149: 148, 150: 149, 151: 150, 152: 151, 153: 152, 154: 153, 155: 154, 156: 155, 157: 156, 158: 157, 159: 158, 160: 159, 161: 160, 162: 161, 163: 162, 164: 163, 165: 164, 166: 165, 167: 166, 168: 167, 169: 168, 170: 169, 171: 170, 172: 171, 173: 172, 174: 173, 175: 174, 176: 175, 177: 176, 178: 177, 179: 178, 180: 179, 181: 180, 182: 181, 183: 182, 184: 183, 185: 184, 186: 185, 187: 186, 188: 187, 189: 188, 190: 189, 191: 190, 192: 191, 193: 192, 194: 193, 195: 194, 196: 195, 197: 196, 198: 197, 199: 198, 200: 199, 201: 200, 203: 201, 204: 202, 205: 203, 206: 204, 207: 205, 208: 206, 209: 207, 210: 208, 211: 209, 212: 210, 213: 211, 214: 212, 215: 213, 216: 214, 217: 215, 218: 216, 219: 217, 220: 218, 221: 219, 222: 220, 223: 221, 224: 222, 225: 223, 226: 224, 227: 225, 228: 226, 229: 227, 230: 228, 231: 229, 232: 230, 233: 231, 234: 232, 235: 233, 236: 234, 237: 235, 238: 236, 239: 237, 240: 238, 241: 239, 242: 240, 243: 241, 244: 242, 245: 243, 246: 244, 247: 245, 248: 246, 249: 247, 250: 248, 251: 249, 252: 250, 253: 251, 254: 252, 255: 253, 256: 254, 257: 255, 258: 256, 259: 257, 260: 258, 261: 259, 262: 260, 263: 261, 264: 262, 265: 263, 266: 264, 267: 265, 268: 266, 269: 267, 270: 268, 271: 269, 272: 270, 273: 271, 274: 272, 275: 273, 276: 274, 277: 275, 278: 276, 279: 277, 280: 278, 281: 279, 282: 280, 283: 281, 284: 282, 286: 283, 287: 284, 288: 285, 289: 286, 290: 287, 291: 288, 292: 289, 293: 290, 294: 291, 295: 292, 296: 293, 297: 294, 298: 295, 299: 296, 300: 297, 301: 298, 302: 299, 303: 300, 304: 301, 305: 302, 306: 303, 307: 304, 308: 305, 309: 306, 310: 307, 311: 308, 312: 309, 313: 310, 314: 311, 315: 312, 316: 313, 317: 314, 318: 315, 319: 316, 320: 317, 321: 318, 322: 319, 323: 320, 324: 321, 325: 322, 326: 323, 327: 324, 328: 325, 329: 326, 330: 327, 331: 328, 332: 329, 333: 330, 334: 331, 335: 332, 337: 333, 338: 334, 339: 335, 340: 336, 341: 337, 342: 338, 343: 339, 344: 340, 345: 341, 346: 342, 347: 343, 348: 344, 349: 345, 350: 346, 351: 347, 352: 348, 353: 349, 354: 350, 355: 351, 356: 352, 357: 353, 358: 354, 359: 355, 360: 356, 361: 357, 362: 358, 363: 359, 364: 360, 365: 361, 366: 362, 367: 363, 369: 364, 370: 365, 371: 366, 372: 367, 373: 368, 374: 369, 375: 370, 376: 371, 377: 372, 378: 373, 379: 374, 380: 375, 381: 376, 382: 377, 383: 378, 384: 379, 385: 380, 386: 381, 387: 382, 388: 383, 389: 384, 390: 385, 391: 386, 392: 387, 393: 388, 394: 389, 395: 390, 396: 391, 397: 392, 398: 393, 399: 394, 400: 395, 401: 396, 402: 397, 403: 398, 404: 399, 405: 400, 406: 401, 407: 402, 408: 403, 409: 404, 410: 405, 411: 406, 412: 407, 413: 408, 414: 409, 415: 410, 416: 411, 417: 412, 418: 413, 419: 414, 420: 415, 421: 416, 422: 417, 423: 418, 424: 419, 425: 420, 426: 421, 427: 422, 428: 423, 429: 424, 430: 425, 431: 426, 432: 427, 433: 428, 434: 429, 435: 430, 436: 431, 437: 432, 439: 433, 440: 434, 441: 435, 443: 436, 444: 437, 445: 438, 446: 439, 447: 440, 448: 441, 449: 442, 450: 443, 451: 444, 452: 445, 453: 446, 454: 447, 457: 448, 458: 449, 459: 450, 460: 451, 461: 452, 462: 453, 463: 454, 464: 455, 465: 456, 466: 457, 467: 458, 468: 459, 469: 460, 470: 461, 471: 462, 472: 463, 473: 464, 474: 465, 475: 466, 476: 467, 477: 468, 478: 469, 480: 470, 481: 471, 482: 472, 483: 473, 484: 474, 485: 475, 486: 476, 487: 477, 488: 478, 489: 479, 490: 480, 491: 481, 492: 482, 493: 483, 494: 484, 495: 485, 496: 486, 497: 487, 498: 488, 499: 489, 501: 490, 502: 491, 503: 492, 504: 493, 505: 494, 506: 495, 507: 496, 509: 497, 510: 498, 511: 499, 512: 500, 513: 501, 514: 502, 515: 503, 516: 504, 518: 505, 519: 506, 520: 507, 521: 508, 522: 509, 523: 510, 524: 511, 525: 512, 526: 513, 527: 514, 528: 515, 529: 516, 530: 517, 531: 518, 532: 519, 533: 520, 534: 521, 535: 522, 536: 523, 537: 524, 538: 525, 539: 526, 540: 527, 541: 528, 543: 529, 544: 530, 545: 531, 546: 532, 547: 533, 548: 534, 549: 535, 550: 536, 552: 537, 553: 538, 554: 539, 555: 540, 556: 541, 557: 542, 558: 543, 559: 544, 560: 545, 561: 546, 563: 547, 564: 548, 565: 549, 566: 550, 567: 551, 568: 552, 569: 553, 570: 554, 571: 555, 573: 556, 574: 557, 575: 558, 576: 559, 577: 560, 578: 561, 579: 562, 580: 563, 581: 564, 582: 565, 583: 566, 584: 567, 586: 568, 587: 569, 588: 570, 589: 571, 590: 572, 591: 573, 592: 574, 593: 575, 594: 576, 595: 577, 596: 578, 597: 579, 598: 580, 599: 581, 600: 582, 603: 583, 604: 584, 605: 585, 606: 586, 607: 587, 608: 588, 609: 589, 610: 590, 611: 591, 612: 592, 613: 593, 614: 594, 615: 595, 616: 596, 618: 597, 619: 598, 620: 599, 621: 600, 623: 601, 624: 602, 625: 603, 626: 604, 627: 605, 628: 606, 629: 607, 630: 608, 631: 609, 633: 610, 634: 611, 636: 612, 637: 613, 638: 614, 639: 615, 640: 616, 641: 617, 642: 618, 644: 619, 645: 620, 647: 621, 648: 622, 649: 623, 650: 624, 651: 625, 652: 626, 653: 627, 654: 628, 656: 629, 659: 630, 660: 631, 661: 632, 664: 633, 665: 634, 667: 635, 668: 636, 669: 637, 670: 638, 671: 639, 672: 640, 673: 641, 675: 642, 676: 643, 677: 644, 678: 645, 679: 646, 680: 647, 681: 648, 682: 649, 684: 650, 685: 651, 686: 652, 687: 653, 688: 654, 689: 655, 690: 656, 691: 657, 692: 658, 693: 659, 694: 660, 695: 661, 696: 662, 697: 663, 698: 664, 699: 665, 700: 666, 702: 667, 703: 668, 705: 669, 707: 670, 708: 671, 709: 672, 710: 673, 711: 674, 712: 675, 713: 676, 716: 677, 717: 678, 718: 679, 719: 680, 721: 681, 722: 682, 723: 683, 724: 684, 726: 685, 728: 686, 729: 687, 730: 688, 731: 689, 733: 690, 734: 691, 735: 692, 736: 693, 738: 694, 742: 695, 743: 696, 745: 697, 746: 698, 747: 699, 748: 700, 749: 701, 752: 702, 753: 703, 755: 704, 757: 705, 758: 706, 759: 707, 760: 708, 761: 709, 762: 710, 763: 711, 764: 712, 766: 713, 767: 714, 768: 715, 769: 716, 770: 717, 771: 718, 772: 719, 777: 720, 778: 721, 780: 722, 781: 723, 783: 724, 784: 725, 785: 726, 786: 727, 790: 728, 791: 729, 794: 730, 795: 731, 798: 732, 799: 733, 800: 734, 803: 735, 806: 736, 807: 737, 808: 738, 809: 739, 810: 740, 811: 741, 812: 742, 813: 743, 814: 744, 815: 745, 817: 746, 818: 747, 819: 748, 820: 749, 822: 750, 826: 751, 827: 752, 829: 753, 831: 754, 832: 755, 834: 756, 836: 757, 837: 758, 838: 759, 839: 760, 840: 761, 841: 762, 842: 763, 844: 764, 850: 765, 852: 766, 857: 767, 858: 768, 859: 769, 861: 770, 862: 771, 863: 772, 864: 773, 867: 774, 868: 775, 869: 776, 875: 777, 879: 778, 881: 779, 887: 780, 888: 781, 896: 782, 900: 783, 903: 784, 905: 785, 907: 786, 919: 787, 923: 788, 926: 789, 927: 790, 936: 791}, 'item': {0: 0, 1: 1, 2: 2, 3: 3, 4: 4, 5: 5, 6: 6, 7: 7, 8: 8, 9: 9, 10: 10, 11: 11, 14: 12, 15: 13, 16: 14, 17: 15, 18: 16, 19: 17, 20: 18, 21: 19, 22: 20, 23: 21, 24: 22, 25: 23, 26: 24, 27: 25, 28: 26, 29: 27, 30: 28, 31: 29, 32: 30, 33: 31, 34: 32, 35: 33, 36: 34, 37: 35, 38: 36, 39: 37, 40: 38, 41: 39, 42: 40, 43: 41, 44: 42, 45: 43, 46: 44, 47: 45, 48: 46, 49: 47, 50: 48, 51: 49, 52: 50, 53: 51, 54: 52, 55: 53, 56: 54, 57: 55, 58: 56, 59: 57, 60: 58, 61: 59, 62: 60, 63: 61, 64: 62, 65: 63, 66: 64, 67: 65, 68: 66, 69: 67, 70: 68, 71: 69, 72: 70, 73: 71, 74: 72, 75: 73, 76: 74, 77: 75, 78: 76, 79: 77, 80: 78, 81: 79, 82: 80, 83: 81, 84: 82, 85: 83, 86: 84, 87: 85, 88: 86, 89: 87, 90: 88, 91: 89, 92: 90, 93: 91, 94: 92, 95: 93, 96: 94, 97: 95, 98: 96, 99: 97, 100: 98, 101: 99, 102: 100, 103: 101, 104: 102, 105: 103, 106: 104, 107: 105, 108: 106, 110: 107, 111: 108, 112: 109, 113: 110, 114: 111, 115: 112, 116: 113, 117: 114, 118: 115, 119: 116, 120: 117, 121: 118, 122: 119, 123: 120, 124: 121, 125: 122, 126: 123, 127: 124, 128: 125, 129: 126, 131: 127, 132: 128, 133: 129, 134: 130, 135: 131, 136: 132, 137: 133, 138: 134, 139: 135, 140: 136, 141: 137, 142: 138, 143: 139, 144: 140, 145: 141, 146: 142, 148: 143, 149: 144, 150: 145, 151: 146, 153: 147, 154: 148, 155: 149, 156: 150, 157: 151, 159: 152, 160: 153, 161: 154, 162: 155, 163: 156, 165: 157, 166: 158, 167: 159, 168: 160, 169: 161, 170: 162, 171: 163, 172: 164, 173: 165, 174: 166, 175: 167, 176: 168, 178: 169, 179: 170, 180: 171, 181: 172, 183: 173, 184: 174, 185: 175, 186: 176, 187: 177, 188: 178, 189: 179, 190: 180, 192: 181, 194: 182, 195: 183, 196: 184, 197: 185, 198: 186, 199: 187, 200: 188, 201: 189, 202: 190, 204: 191, 205: 192, 206: 193, 207: 194, 208: 195, 209: 196, 210: 197, 211: 198, 212: 199, 213: 200, 214: 201, 215: 202, 216: 203, 218: 204, 219: 205, 220: 206, 221: 207, 222: 208, 223: 209, 224: 210, 225: 211, 226: 212, 227: 213, 228: 214, 229: 215, 230: 216, 232: 217, 233: 218, 234: 219, 236: 220, 237: 221, 238: 222, 239: 223, 241: 224, 242: 225, 243: 226, 244: 227, 245: 228, 246: 229, 247: 230, 248: 231, 249: 232, 250: 233, 251: 234, 252: 235, 253: 236, 254: 237, 255: 238, 256: 239, 258: 240, 259: 241, 260: 242, 261: 243, 262: 244, 263: 245, 264: 246, 265: 247, 266: 248, 267: 249, 268: 250, 269: 251, 270: 252, 271: 253, 272: 254, 273: 255, 274: 256, 275: 257, 276: 258, 277: 259, 279: 260, 280: 261, 281: 262, 282: 263, 284: 264, 285: 265, 286: 266, 287: 267, 288: 268, 290: 269, 291: 270, 292: 271, 293: 272, 294: 273, 295: 274, 296: 275, 297: 276, 298: 277, 299: 278, 301: 279, 302: 280, 303: 281, 304: 282, 305: 283, 306: 284, 307: 285, 308: 286, 309: 287, 310: 288, 311: 289, 312: 290, 313: 291, 314: 292, 315: 293, 316: 294, 317: 295, 318: 296, 319: 297, 320: 298, 321: 299, 322: 300, 323: 301, 324: 302, 325: 303, 326: 304, 327: 305, 328: 306, 329: 307, 330: 308, 331: 309, 332: 310, 333: 311, 334: 312, 335: 313, 336: 314, 337: 315, 338: 316, 339: 317, 340: 318, 342: 319, 343: 320, 344: 321, 345: 322, 346: 323, 347: 324, 348: 325, 349: 326, 350: 327, 351: 328, 352: 329, 353: 330, 354: 331, 355: 332, 356: 333, 357: 334, 358: 335, 359: 336, 360: 337, 362: 338, 363: 339, 364: 340, 365: 341, 366: 342, 367: 343, 368: 344, 369: 345, 370: 346, 371: 347, 372: 348, 373: 349, 374: 350, 375: 351, 376: 352, 377: 353, 378: 354, 379: 355, 380: 356, 381: 357, 382: 358, 383: 359, 384: 360, 385: 361, 386: 362, 387: 363, 388: 364, 389: 365, 391: 366, 392: 367, 393: 368, 394: 369, 395: 370, 397: 371, 398: 372, 399: 373, 400: 374, 401: 375, 402: 376, 403: 377, 404: 378, 405: 379, 407: 380, 408: 381, 409: 382, 410: 383, 411: 384, 412: 385, 414: 386, 415: 387, 416: 388, 417: 389, 418: 390, 419: 391, 420: 392, 421: 393, 423: 394, 425: 395, 426: 396, 429: 397, 430: 398, 431: 399, 432: 400, 433: 401, 434: 402, 435: 403, 436: 404, 437: 405, 438: 406, 439: 407, 440: 408, 441: 409, 443: 410, 444: 411, 445: 412, 446: 413, 448: 414, 449: 415, 450: 416, 451: 417, 452: 418, 453: 419, 455: 420, 456: 421, 458: 422, 459: 423, 461: 424, 462: 425, 463: 426, 464: 427, 465: 428, 466: 429, 468: 430, 469: 431, 471: 432, 472: 433, 474: 434, 475: 435, 476: 436, 477: 437, 478: 438, 480: 439, 482: 440, 483: 441, 484: 442, 485: 443, 486: 444, 487: 445, 488: 446, 489: 447, 490: 448, 491: 449, 492: 450, 493: 451, 495: 452, 496: 453, 497: 454, 498: 455, 499: 456, 500: 457, 501: 458, 502: 459, 503: 460, 504: 461, 505: 462, 507: 463, 508: 464, 509: 465, 510: 466, 511: 467, 512: 468, 513: 469, 514: 470, 515: 471, 516: 472, 517: 473, 518: 474, 519: 475, 520: 476, 521: 477, 522: 478, 523: 479, 524: 480, 525: 481, 526: 482, 527: 483, 528: 484, 530: 485, 531: 486, 532: 487, 534: 488, 535: 489, 536: 490, 537: 491, 538: 492, 539: 493, 540: 494, 541: 495, 542: 496, 543: 497, 544: 498, 545: 499, 546: 500, 547: 501, 548: 502, 549: 503, 550: 504, 551: 505, 552: 506, 554: 507, 555: 508, 556: 509, 557: 510, 559: 511, 560: 512, 561: 513, 562: 514, 563: 515, 564: 516, 565: 517, 566: 518, 567: 519, 569: 520, 570: 521, 571: 522, 572: 523, 573: 524, 574: 525, 575: 526, 576: 527, 577: 528, 578: 529, 579: 530, 580: 531, 581: 532, 582: 533, 583: 534, 584: 535, 585: 536, 586: 537, 587: 538, 588: 539, 591: 540, 592: 541, 593: 542, 594: 543, 595: 544, 596: 545, 597: 546, 598: 547, 599: 548, 602: 549, 603: 550, 605: 551, 607: 552, 608: 553, 609: 554, 610: 555, 612: 556, 613: 557, 614: 558, 615: 559, 616: 560, 617: 561, 618: 562, 619: 563, 621: 564, 622: 565, 624: 566, 625: 567, 627: 568, 628: 569, 629: 570, 631: 571, 632: 572, 633: 573, 635: 574, 636: 575, 637: 576, 639: 577, 640: 578, 642: 579, 643: 580, 644: 581, 645: 582, 647: 583, 648: 584, 649: 585, 650: 586, 653: 587, 655: 588, 656: 589, 657: 590, 658: 591, 660: 592, 661: 593, 662: 594, 663: 595, 664: 596, 665: 597, 666: 598, 667: 599, 668: 600, 669: 601, 670: 602, 671: 603, 672: 604, 673: 605, 674: 606, 675: 607, 676: 608, 677: 609, 678: 610, 679: 611, 680: 612, 681: 613, 683: 614, 684: 615, 685: 616, 686: 617, 687: 618, 688: 619, 689: 620, 690: 621, 691: 622, 692: 623, 693: 624, 694: 625, 695: 626, 696: 627, 697: 628, 698: 629, 699: 630, 701: 631, 702: 632, 703: 633, 706: 634, 707: 635, 708: 636, 709: 637, 710: 638, 711: 639, 712: 640, 713: 641, 716: 642, 718: 643, 719: 644, 720: 645, 721: 646, 722: 647, 724: 648, 725: 649, 726: 650, 727: 651, 728: 652, 729: 653, 730: 654, 731: 655, 732: 656, 733: 657, 734: 658, 735: 659, 736: 660, 737: 661, 739: 662, 740: 663, 741: 664, 742: 665, 743: 666, 745: 667, 746: 668, 747: 669, 748: 670, 750: 671, 751: 672, 752: 673, 753: 674, 754: 675, 755: 676, 756: 677, 757: 678, 758: 679, 759: 680, 760: 681, 761: 682, 762: 683, 763: 684, 764: 685, 765: 686, 766: 687, 767: 688, 768: 689, 769: 690, 771: 691, 772: 692, 773: 693, 774: 694, 775: 695, 776: 696, 777: 697, 779: 698, 780: 699, 781: 700, 783: 701, 784: 702, 785: 703, 786: 704, 788: 705, 789: 706, 790: 707, 791: 708, 793: 709, 794: 710, 795: 711, 796: 712, 797: 713, 798: 714, 799: 715, 801: 716, 802: 717, 803: 718, 804: 719, 805: 720, 807: 721, 808: 722, 809: 723, 810: 724, 811: 725, 813: 726, 815: 727, 817: 728, 818: 729, 819: 730, 820: 731, 821: 732, 822: 733, 826: 734, 828: 735, 829: 736, 831: 737, 832: 738, 834: 739, 835: 740, 836: 741, 837: 742, 838: 743, 839: 744, 841: 745, 842: 746, 843: 747, 844: 748, 845: 749, 846: 750, 848: 751, 849: 752, 850: 753, 851: 754, 852: 755, 853: 756, 854: 757, 855: 758, 856: 759, 857: 760, 858: 761, 859: 762, 860: 763, 861: 764, 862: 765, 863: 766, 864: 767, 866: 768, 867: 769, 868: 770, 870: 771, 873: 772, 875: 773, 878: 774, 880: 775, 881: 776, 882: 777, 883: 778, 885: 779, 886: 780, 887: 781, 888: 782, 889: 783, 890: 784, 891: 785, 892: 786, 894: 787, 896: 788, 897: 789, 898: 790, 899: 791, 900: 792, 901: 793, 902: 794, 903: 795, 905: 796, 906: 797, 907: 798, 908: 799, 910: 800, 911: 801, 912: 802, 914: 803, 915: 804, 916: 805, 917: 806, 918: 807, 919: 808, 920: 809, 921: 810, 922: 811, 923: 812, 924: 813, 925: 814, 926: 815, 927: 816, 928: 817, 929: 818, 930: 819, 931: 820, 932: 821, 933: 822, 934: 823, 935: 824, 936: 825, 937: 826, 938: 827, 939: 828, 940: 829, 941: 830, 944: 831, 946: 832, 947: 833, 949: 834, 950: 835, 951: 836, 952: 837, 953: 838, 954: 839, 955: 840, 956: 841, 957: 842, 958: 843, 959: 844, 960: 845, 961: 846, 962: 847, 964: 848, 965: 849, 966: 850, 967: 851, 968: 852, 970: 853, 971: 854, 972: 855, 973: 856, 975: 857, 976: 858, 978: 859, 979: 860, 980: 861, 981: 862, 982: 863, 983: 864, 984: 865, 985: 866, 986: 867, 988: 868, 989: 869, 991: 870, 992: 871, 995: 872, 996: 873, 997: 874, 998: 875, 999: 876, 1001: 877, 1003: 878, 1004: 879, 1005: 880, 1007: 881, 1008: 882, 1011: 883, 1012: 884, 1014: 885, 1015: 886, 1016: 887, 1017: 888, 1018: 889, 1019: 890, 1020: 891, 1021: 892, 1023: 893, 1024: 894, 1025: 895, 1026: 896, 1027: 897, 1028: 898, 1029: 899, 1030: 900, 1031: 901, 1032: 902, 1033: 903, 1034: 904, 1035: 905, 1036: 906, 1037: 907, 1038: 908, 1040: 909, 1041: 910, 1043: 911, 1044: 912, 1045: 913, 1046: 914, 1047: 915, 1048: 916, 1050: 917, 1051: 918, 1052: 919, 1053: 920, 1054: 921, 1055: 922, 1059: 923, 1060: 924, 1061: 925, 1062: 926, 1063: 927, 1064: 928, 1065: 929, 1066: 930, 1067: 931, 1068: 932, 1069: 933, 1071: 934, 1072: 935, 1073: 936, 1074: 937, 1075: 938, 1076: 939, 1077: 940, 1078: 941, 1079: 942, 1082: 943, 1083: 944, 1084: 945, 1085: 946, 1086: 947, 1087: 948, 1088: 949, 1089: 950, 1090: 951, 1091: 952, 1092: 953, 1093: 954, 1096: 955, 1097: 956, 1098: 957, 1099: 958, 1100: 959, 1101: 960, 1103: 961, 1104: 962, 1105: 963, 1107: 964, 1109: 965, 1111: 966, 1112: 967, 1113: 968, 1117: 969, 1119: 970, 1120: 971, 1121: 972, 1122: 973, 1123: 974, 1124: 975, 1125: 976, 1126: 977, 1127: 978, 1130: 979, 1131: 980, 1132: 981, 1134: 982, 1136: 983, 1139: 984, 1140: 985, 1141: 986, 1142: 987, 1144: 988, 1146: 989, 1147: 990, 1149: 991, 1150: 992, 1153: 993, 1154: 994, 1155: 995, 1156: 996, 1157: 997, 1158: 998, 1159: 999, 1160: 1000, 1161: 1001, 1162: 1002, 1163: 1003, 1165: 1004, 1166: 1005, 1167: 1006, 1170: 1007, 1171: 1008, 1172: 1009, 1173: 1010, 1174: 1011, 1177: 1012, 1178: 1013, 1179: 1014, 1181: 1015, 1183: 1016, 1184: 1017, 1185: 1018, 1187: 1019, 1188: 1020, 1189: 1021, 1190: 1022, 1191: 1023, 1192: 1024, 1193: 1025, 1194: 1026, 1196: 1027, 1197: 1028, 1198: 1029, 1200: 1030, 1201: 1031, 1202: 1032, 1205: 1033, 1207: 1034, 1208: 1035, 1210: 1036, 1211: 1037, 1212: 1038, 1214: 1039, 1216: 1040, 1217: 1041, 1219: 1042, 1220: 1043, 1222: 1044, 1223: 1045, 1224: 1046, 1225: 1047, 1227: 1048, 1229: 1049, 1230: 1050, 1232: 1051, 1233: 1052, 1234: 1053, 1235: 1054, 1236: 1055, 1238: 1056, 1240: 1057, 1241: 1058, 1242: 1059, 1244: 1060, 1245: 1061, 1246: 1062, 1248: 1063, 1250: 1064, 1252: 1065, 1253: 1066, 1254: 1067, 1255: 1068, 1258: 1069, 1259: 1070, 1260: 1071, 1261: 1072, 1262: 1073, 1263: 1074, 1265: 1075, 1266: 1076, 1267: 1077, 1268: 1078, 1269: 1079, 1270: 1080, 1271: 1081, 1273: 1082, 1274: 1083, 1275: 1084, 1276: 1085, 1277: 1086, 1278: 1087, 1279: 1088, 1280: 1089, 1281: 1090, 1282: 1091, 1283: 1092, 1284: 1093, 1285: 1094, 1286: 1095, 1287: 1096, 1288: 1097, 1289: 1098, 1290: 1099, 1292: 1100, 1293: 1101, 1294: 1102, 1295: 1103, 1296: 1104, 1297: 1105, 1298: 1106, 1299: 1107, 1302: 1108, 1305: 1109, 1307: 1110, 1308: 1111, 1309: 1112, 1310: 1113, 1312: 1114, 1313: 1115, 1314: 1116, 1315: 1117, 1317: 1118, 1318: 1119, 1319: 1120, 1320: 1121, 1321: 1122, 1322: 1123, 1323: 1124, 1324: 1125, 1325: 1126, 1327: 1127, 1329: 1128, 1331: 1129, 1333: 1130, 1334: 1131, 1335: 1132, 1336: 1133, 1338: 1134, 1340: 1135, 1341: 1136, 1342: 1137, 1344: 1138, 1345: 1139, 1346: 1140, 1348: 1141, 1350: 1142, 1351: 1143, 1353: 1144, 1354: 1145, 1355: 1146, 1356: 1147, 1357: 1148, 1360: 1149, 1361: 1150, 1362: 1151, 1365: 1152, 1366: 1153, 1367: 1154, 1368: 1155, 1370: 1156, 1371: 1157, 1375: 1158, 1377: 1159, 1378: 1160, 1379: 1161, 1380: 1162, 1381: 1163, 1382: 1164, 1383: 1165, 1385: 1166, 1386: 1167, 1387: 1168, 1388: 1169, 1389: 1170, 1391: 1171, 1392: 1172, 1394: 1173, 1395: 1174, 1397: 1175, 1398: 1176, 1400: 1177, 1401: 1178, 1402: 1179, 1403: 1180, 1405: 1181, 1406: 1182, 1407: 1183, 1408: 1184, 1409: 1185, 1410: 1186, 1411: 1187, 1412: 1188, 1413: 1189, 1414: 1190, 1415: 1191, 1416: 1192, 1418: 1193, 1420: 1194, 1421: 1195, 1422: 1196, 1424: 1197, 1425: 1198, 1426: 1199, 1427: 1200, 1429: 1201, 1430: 1202, 1433: 1203, 1434: 1204, 1436: 1205, 1437: 1206, 1438: 1207, 1439: 1208, 1440: 1209, 1441: 1210, 1444: 1211, 1445: 1212, 1446: 1213, 1447: 1214, 1448: 1215, 1449: 1216, 1450: 1217, 1452: 1218, 1453: 1219, 1454: 1220, 1455: 1221, 1456: 1222, 1458: 1223, 1459: 1224, 1463: 1225, 1464: 1226, 1466: 1227, 1469: 1228, 1470: 1229, 1471: 1230, 1473: 1231, 1474: 1232, 1475: 1233, 1476: 1234, 1477: 1235, 1479: 1236, 1480: 1237, 1482: 1238, 1483: 1239, 1484: 1240, 1485: 1241, 1486: 1242, 1487: 1243, 1488: 1244, 1489: 1245, 1490: 1246, 1492: 1247, 1493: 1248, 1494: 1249, 1496: 1250, 1497: 1251, 1498: 1252, 1500: 1253, 1502: 1254, 1503: 1255, 1505: 1256, 1506: 1257, 1507: 1258, 1509: 1259, 1510: 1260, 1511: 1261, 1512: 1262, 1515: 1263, 1516: 1264, 1517: 1265, 1518: 1266, 1520: 1267, 1522: 1268, 1525: 1269, 1527: 1270, 1533: 1271, 1534: 1272, 1535: 1273, 1537: 1274, 1543: 1275, 1544: 1276, 1545: 1277, 1547: 1278, 1548: 1279, 1549: 1280, 1550: 1281, 1551: 1282, 1552: 1283, 1553: 1284, 1554: 1285, 1555: 1286, 1556: 1287, 1558: 1288, 1560: 1289, 1561: 1290, 1562: 1291, 1564: 1292, 1566: 1293, 1567: 1294, 1568: 1295, 1569: 1296, 1571: 1297, 1573: 1298, 1575: 1299, 1576: 1300, 1578: 1301, 1580: 1302, 1581: 1303, 1582: 1304, 1585: 1305, 1588: 1306, 1589: 1307, 1590: 1308, 1593: 1309, 1594: 1310, 1595: 1311, 1597: 1312, 1599: 1313, 1600: 1314, 1601: 1315, 1604: 1316, 1605: 1317, 1606: 1318, 1607: 1319, 1608: 1320, 1609: 1321, 1610: 1322, 1611: 1323, 1612: 1324, 1613: 1325, 1614: 1326, 1615: 1327, 1616: 1328, 1617: 1329, 1618: 1330, 1620: 1331, 1621: 1332, 1624: 1333, 1625: 1334, 1626: 1335, 1627: 1336, 1629: 1337, 1630: 1338, 1631: 1339, 1632: 1340, 1633: 1341, 1635: 1342, 1636: 1343, 1637: 1344, 1638: 1345, 1640: 1346, 1641: 1347, 1642: 1348, 1643: 1349, 1644: 1350, 1645: 1351, 1647: 1352, 1648: 1353, 1649: 1354, 1650: 1355, 1653: 1356, 1654: 1357, 1656: 1358, 1657: 1359, 1658: 1360, 1660: 1361, 1661: 1362, 1662: 1363, 1663: 1364, 1664: 1365, 1667: 1366, 1669: 1367, 1670: 1368, 1671: 1369, 1673: 1370, 1676: 1371, 1677: 1372, 1678: 1373, 1679: 1374, 1681: 1375, 1682: 1376, 1683: 1377, 1684: 1378, 1688: 1379, 1689: 1380, 1690: 1381, 1691: 1382, 1692: 1383, 1693: 1384, 1695: 1385, 1696: 1386, 1697: 1387, 1698: 1388, 1700: 1389, 1701: 1390, 1702: 1391, 1703: 1392, 1706: 1393, 1708: 1394, 1710: 1395, 1711: 1396, 1713: 1397, 1714: 1398, 1716: 1399, 1717: 1400, 1719: 1401, 1720: 1402, 1722: 1403, 1723: 1404, 1725: 1405, 1726: 1406, 1727: 1407, 1729: 1408, 1730: 1409, 1731: 1410, 1732: 1411, 1733: 1412, 1734: 1413, 1736: 1414, 1737: 1415, 1739: 1416, 1740: 1417, 1741: 1418, 1743: 1419, 1744: 1420, 1745: 1421, 1746: 1422, 1747: 1423, 1750: 1424, 1751: 1425, 1753: 1426, 1755: 1427, 1756: 1428, 1757: 1429, 1758: 1430, 1759: 1431, 1764: 1432, 1767: 1433, 1768: 1434, 1769: 1435, 1772: 1436, 1775: 1437, 1776: 1438, 1778: 1439, 1779: 1440, 1780: 1441, 1781: 1442, 1782: 1443, 1785: 1444, 1786: 1445, 1787: 1446, 1789: 1447, 1790: 1448, 1792: 1449, 1793: 1450, 1794: 1451, 1795: 1452, 1796: 1453, 1798: 1454, 1799: 1455, 1802: 1456, 1803: 1457, 1804: 1458, 1805: 1459, 1806: 1460, 1807: 1461, 1808: 1462, 1812: 1463, 1813: 1464, 1814: 1465, 1815: 1466, 1816: 1467, 1817: 1468, 1818: 1469, 1819: 1470, 1820: 1471, 1821: 1472, 1823: 1473, 1824: 1474, 1825: 1475, 1827: 1476, 1828: 1477, 1831: 1478, 1832: 1479, 1834: 1480, 1836: 1481, 1837: 1482, 1842: 1483, 1844: 1484, 1845: 1485, 1847: 1486, 1848: 1487, 1851: 1488, 1852: 1489, 1856: 1490, 1858: 1491, 1863: 1492, 1864: 1493, 1865: 1494, 1866: 1495, 1867: 1496, 1869: 1497, 1872: 1498, 1873: 1499, 1875: 1500, 1879: 1501, 1881: 1502, 1884: 1503, 1886: 1504, 1887: 1505, 1888: 1506, 1889: 1507, 1890: 1508, 1891: 1509, 1892: 1510, 1895: 1511, 1896: 1512, 1898: 1513, 1899: 1514, 1903: 1515, 1904: 1516, 1906: 1517, 1907: 1518, 1908: 1519, 1909: 1520, 1910: 1521, 1911: 1522, 1912: 1523, 1913: 1524, 1915: 1525, 1916: 1526, 1917: 1527, 1918: 1528, 1919: 1529, 1923: 1530, 1924: 1531, 1925: 1532, 1926: 1533, 1927: 1534, 1930: 1535, 1931: 1536, 1933: 1537, 1935: 1538, 1937: 1539, 1938: 1540, 1939: 1541, 1940: 1542, 1943: 1543, 1944: 1544, 1946: 1545, 1947: 1546, 1949: 1547, 1950: 1548, 1952: 1549, 1953: 1550, 1954: 1551, 1955: 1552, 1956: 1553, 1957: 1554, 1958: 1555, 1959: 1556, 1960: 1557, 1962: 1558, 1964: 1559, 1965: 1560, 1966: 1561, 1967: 1562, 1969: 1563, 1970: 1564, 1971: 1565, 1972: 1566, 1974: 1567, 1980: 1568, 1981: 1569, 1983: 1570, 1986: 1571, 1989: 1572, 1990: 1573, 1992: 1574, 1995: 1575, 2002: 1576, 2003: 1577, 2006: 1578, 2007: 1579, 2009: 1580, 2010: 1581, 2011: 1582, 2012: 1583, 2013: 1584, 2016: 1585, 2018: 1586, 2020: 1587, 2023: 1588, 2024: 1589, 2026: 1590, 2028: 1591, 2029: 1592, 2030: 1593, 2031: 1594, 2033: 1595, 2035: 1596, 2037: 1597, 2038: 1598, 2039: 1599, 2040: 1600, 2046: 1601, 2047: 1602, 2051: 1603, 2052: 1604, 2055: 1605, 2058: 1606, 2060: 1607, 2063: 1608, 2064: 1609, 2066: 1610, 2068: 1611, 2070: 1612, 2072: 1613, 2073: 1614, 2074: 1615, 2077: 1616, 2080: 1617, 2082: 1618, 2083: 1619, 2084: 1620, 2085: 1621, 2086: 1622, 2089: 1623, 2091: 1624, 2095: 1625, 2096: 1626, 2097: 1627, 2098: 1628, 2099: 1629, 2101: 1630, 2104: 1631, 2109: 1632, 2112: 1633, 2118: 1634, 2119: 1635, 2120: 1636, 2121: 1637, 2123: 1638, 2127: 1639, 2129: 1640, 2130: 1641, 2131: 1642, 2134: 1643, 2136: 1644, 2138: 1645, 2140: 1646, 2141: 1647, 2142: 1648, 2144: 1649, 2145: 1650, 2146: 1651, 2153: 1652, 2154: 1653, 2155: 1654, 2157: 1655, 2159: 1656, 2163: 1657, 2164: 1658, 2165: 1659, 2168: 1660, 2169: 1661, 2170: 1662, 2171: 1663, 2172: 1664, 2175: 1665, 2176: 1666, 2178: 1667, 2179: 1668, 2183: 1669, 2186: 1670, 2187: 1671, 2188: 1672, 2189: 1673, 2190: 1674, 2192: 1675, 2196: 1676, 2199: 1677, 2201: 1678, 2206: 1679, 2207: 1680, 2209: 1681, 2213: 1682, 2217: 1683, 2218: 1684, 2221: 1685, 2222: 1686, 2223: 1687, 2226: 1688, 2227: 1689, 2230: 1690, 2231: 1691, 2232: 1692, 2235: 1693, 2236: 1694, 2237: 1695, 2243: 1696, 2245: 1697, 2246: 1698, 2248: 1699, 2251: 1700, 2252: 1701, 2253: 1702, 2257: 1703, 2258: 1704, 2259: 1705, 2263: 1706, 2266: 1707, 2268: 1708, 2269: 1709, 2271: 1710, 2272: 1711, 2279: 1712, 2282: 1713, 2283: 1714, 2289: 1715, 2297: 1716, 2299: 1717, 2300: 1718, 2301: 1719, 2304: 1720, 2306: 1721, 2307: 1722, 2309: 1723, 2313: 1724, 2322: 1725, 2326: 1726, 2329: 1727, 2332: 1728, 2333: 1729, 2334: 1730, 2338: 1731, 2339: 1732, 2342: 1733, 2343: 1734, 2346: 1735, 2347: 1736, 2348: 1737, 2349: 1738, 2356: 1739, 2357: 1740, 2359: 1741, 2360: 1742, 2361: 1743, 2365: 1744, 2368: 1745, 2373: 1746, 2375: 1747, 2376: 1748, 2377: 1749, 2381: 1750, 2387: 1751, 2392: 1752, 2394: 1753, 2397: 1754, 2402: 1755, 2403: 1756, 2406: 1757, 2408: 1758, 2409: 1759, 2410: 1760, 2418: 1761, 2421: 1762, 2422: 1763, 2425: 1764, 2426: 1765, 2427: 1766, 2428: 1767, 2429: 1768, 2430: 1769, 2431: 1770, 2433: 1771, 2436: 1772, 2437: 1773, 2438: 1774, 2444: 1775, 2445: 1776, 2453: 1777, 2454: 1778, 2456: 1779, 2457: 1780, 2464: 1781, 2465: 1782, 2467: 1783, 2468: 1784, 2471: 1785, 2486: 1786, 2487: 1787, 2488: 1788, 2490: 1789, 2493: 1790, 2497: 1791, 2498: 1792, 2499: 1793, 2500: 1794, 2504: 1795, 2509: 1796, 2511: 1797, 2513: 1798, 2516: 1799, 2518: 1800, 2520: 1801, 2521: 1802, 2522: 1803, 2530: 1804, 2536: 1805, 2541: 1806, 2542: 1807, 2548: 1808, 2552: 1809, 2554: 1810, 2568: 1811, 2574: 1812, 2578: 1813, 2580: 1814, 2582: 1815, 2584: 1816, 2585: 1817, 2592: 1818, 2593: 1819, 2595: 1820, 2597: 1821, 2598: 1822, 2600: 1823, 2604: 1824, 2606: 1825, 2610: 1826, 2615: 1827, 2619: 1828, 2624: 1829, 2628: 1830, 2631: 1831, 2632: 1832, 2640: 1833, 2642: 1834, 2643: 1835, 2646: 1836, 2648: 1837, 2654: 1838, 2655: 1839, 2656: 1840, 2665: 1841, 2666: 1842, 2669: 1843, 2671: 1844, 2674: 1845, 2675: 1846, 2677: 1847, 2682: 1848, 2685: 1849, 2688: 1850, 2690: 1851, 2695: 1852, 2697: 1853, 2699: 1854, 2701: 1855, 2705: 1856, 2706: 1857, 2707: 1858, 2708: 1859, 2709: 1860, 2710: 1861, 2712: 1862, 2713: 1863, 2718: 1864, 2719: 1865, 2726: 1866, 2730: 1867, 2731: 1868, 2734: 1869, 2739: 1870, 2743: 1871, 2750: 1872, 2752: 1873, 2755: 1874, 2758: 1875, 2762: 1876, 2769: 1877, 2770: 1878, 2772: 1879, 2774: 1880, 2778: 1881, 2781: 1882, 2783: 1883, 2784: 1884, 2785: 1885, 2787: 1886, 2788: 1887, 2794: 1888, 2795: 1889, 2798: 1890, 2800: 1891, 2801: 1892, 2803: 1893, 2804: 1894, 2806: 1895, 2807: 1896, 2810: 1897, 2812: 1898, 2821: 1899, 2829: 1900, 2832: 1901, 2834: 1902, 2838: 1903, 2841: 1904, 2849: 1905, 2851: 1906, 2857: 1907, 2858: 1908, 2859: 1909, 2861: 1910, 2862: 1911, 2863: 1912, 2864: 1913, 2866: 1914, 2868: 1915, 2871: 1916, 2875: 1917, 2882: 1918, 2883: 1919, 2884: 1920, 2887: 1921, 2890: 1922, 2891: 1923, 2896: 1924, 2904: 1925, 2906: 1926, 2908: 1927, 2916: 1928, 2925: 1929, 2926: 1930, 2930: 1931, 2931: 1932, 2937: 1933, 2941: 1934, 2944: 1935, 2949: 1936, 2951: 1937, 2956: 1938, 2964: 1939, 2968: 1940, 2969: 1941, 2975: 1942, 2980: 1943, 2982: 1944, 2984: 1945, 2985: 1946, 2993: 1947, 2999: 1948, 3000: 1949, 3001: 1950, 3007: 1951, 3010: 1952, 3013: 1953, 3019: 1954, 3021: 1955, 3025: 1956, 3027: 1957, 3031: 1958, 3033: 1959, 3042: 1960, 3044: 1961, 3047: 1962, 3052: 1963, 3057: 1964, 3063: 1965, 3066: 1966, 3067: 1967, 3078: 1968, 3079: 1969, 3082: 1970, 3083: 1971, 3084: 1972, 3085: 1973, 3087: 1974, 3088: 1975, 3095: 1976, 3096: 1977, 3097: 1978, 3105: 1979, 3106: 1980, 3107: 1981, 3111: 1982, 3118: 1983, 3136: 1984, 3138: 1985, 3139: 1986, 3140: 1987, 3143: 1988, 3149: 1989, 3150: 1990, 3153: 1991, 3154: 1992, 3160: 1993, 3164: 1994, 3180: 1995, 3183: 1996, 3184: 1997, 3187: 1998, 3188: 1999, 3196: 2000, 3201: 2001, 3202: 2002, 3205: 2003, 3206: 2004, 3211: 2005, 3215: 2006, 3221: 2007, 3233: 2008, 3239: 2009, 3243: 2010, 3249: 2011, 3250: 2012, 3253: 2013, 3265: 2014, 3267: 2015, 3278: 2016, 3288: 2017, 3295: 2018, 3298: 2019, 3305: 2020, 3312: 2021, 3321: 2022, 3323: 2023, 3324: 2024, 3353: 2025, 3355: 2026, 3356: 2027, 3357: 2028, 3358: 2029, 3364: 2030, 3391: 2031, 3397: 2032, 3399: 2033, 3401: 2034, 3402: 2035, 3407: 2036, 3413: 2037, 3430: 2038, 3432: 2039, 3433: 2040, 3437: 2041, 3449: 2042, 3458: 2043, 3464: 2044, 3468: 2045, 3508: 2046, 3509: 2047, 3511: 2048, 3520: 2049, 3521: 2050, 3535: 2051, 3536: 2052, 3551: 2053, 3565: 2054, 3572: 2055, 3611: 2056, 3625: 2057, 3646: 2058, 3648: 2059, 3651: 2060, 3656: 2061, 3675: 2062, 3689: 2063, 3697: 2064, 3715: 2065, 3726: 2066, 3735: 2067, 3747: 2068, 3749: 2069, 3786: 2070, 3834: 2071}, 'daytime': {'afternoon': 0, 'evening': 1, 'morning': 2, 'night': 3, 'noon': 4, 'sunrise': 5, 'sunset': 6}, 'weekday': {'friday': 0, 'monday': 1, 'saturday': 2, 'sunday': 3, 'thursday': 4, 'tuesday': 5, 'wednesday': 6}, 'isweekend': {'weekend': 0, 'workday': 1}, 'homework': {'home': 0, 'unknown': 1, 'work': 2}, 'cost': {'free': 0, 'paid': 1}, 'weather': {'cloudy': 0, 'drizzle': 1, 'foggy': 2, 'rainy': 3, 'sleet': 4, 'snowy': 5, 'stormy': 6, 'sunny': 7, 'unknown': 8}, 'country': {'Albania': 0, 'Andorra': 1, 'Argentina': 2, 'Australia': 3, 'Austria': 4, 'Belgium': 5, 'Bosnia and Herz.': 6, 'Brazil': 7, 'Bulgaria': 8, 'Canada': 9, 'Chile': 10, 'China': 11, 'Colombia': 12, 'Costa Rica': 13, 'Croatia': 14, 'Cyprus': 15, 'Czech Rep.': 16, 'Denmark': 17, 'Ecuador': 18, 'Egypt': 19, 'Estonia': 20, 'Finland': 21, 'France': 22, 'Germany': 23, 'Greece': 24, 'Guatemala': 25, 'Honduras': 26, 'Hong Kong': 27, 'Hungary': 28, 'India': 29, 'Indonesia': 30, 'Iran': 31, 'Iraq': 32, 'Ireland': 33, 'Israel': 34, 'Italy': 35, 'Japan': 36, 'Jordan': 37, 'Korea': 38, 'Kosovo': 39, 'Latvia': 40, 'Lebanon': 41, 'Lithuania': 42, 'Macedonia': 43, 'Malaysia': 44, 'Malta': 45, 'Mexico': 46, 'Monaco': 47, 'Montenegro': 48, 'Morocco': 49, 'Netherlands': 50, 'New Zealand': 51, 'Norway': 52, 'Palestine': 53, 'Panama': 54, 'Peru': 55, 'Philippines': 56, 'Poland': 57, 'Portugal': 58, 'Puerto Rico': 59, 'Romania': 60, 'Russia': 61, 'Saudi Arabia': 62, 'Serbia': 63, 'Singapore': 64, 'Slovenia': 65, 'South Africa': 66, 'Spain': 67, 'Sweden': 68, 'Switzerland': 69, 'Taiwan': 70, 'Thailand': 71, 'Turkey': 72, 'United Arab Emirates': 73, 'United Kingdom': 74, 'United States': 75, 'Venezuela': 76, 'unknown': 77}, 'city': {0: 0, 2: 1, 23: 2, 24: 3, 25: 4, 26: 5, 28: 6, 30: 7, 31: 8, 38: 9, 39: 10, 43: 11, 56: 12, 69: 13, 86: 14, 93: 15, 97: 16, 102: 17, 107: 18, 115: 19, 127: 20, 128: 21, 129: 22, 132: 23, 133: 24, 134: 25, 135: 26, 136: 27, 147: 28, 151: 29, 234: 30, 251: 31, 305: 32, 306: 33, 314: 34, 321: 35, 327: 36, 328: 37, 331: 38, 333: 39, 335: 40, 337: 41, 339: 42, 340: 43, 341: 44, 343: 45, 344: 46, 345: 47, 346: 48, 347: 49, 349: 50, 355: 51, 356: 52, 358: 53, 360: 54, 361: 55, 363: 56, 367: 57, 369: 58, 370: 59, 373: 60, 374: 61, 376: 62, 378: 63, 379: 64, 380: 65, 382: 66, 385: 67, 386: 68, 389: 69, 390: 70, 391: 71, 392: 72, 393: 73, 394: 74, 395: 75, 397: 76, 398: 77, 399: 78, 400: 79, 401: 80, 402: 81, 410: 82, 411: 83, 414: 84, 415: 85, 418: 86, 419: 87, 423: 88, 426: 89, 432: 90, 434: 91, 440: 92, 452: 93, 453: 94, 454: 95, 462: 96, 467: 97, 479: 98, 484: 99, 485: 100, 494: 101, 498: 102, 505: 103, 514: 104, 535: 105, 541: 106, 545: 107, 556: 108, 570: 109, 596: 110, 599: 111, 601: 112, 641: 113, 649: 114, 656: 115, 661: 116, 668: 117, 669: 118, 672: 119, 673: 120, 677: 121, 690: 122, 694: 123, 696: 124, 699: 125, 701: 126, 712: 127, 713: 128, 715: 129, 716: 130, 717: 131, 718: 132, 722: 133, 724: 134, 728: 135, 730: 136, 740: 137, 743: 138, 746: 139, 784: 140, 785: 141, 786: 142, 787: 143, 789: 144, 791: 145, 792: 146, 793: 147, 799: 148, 802: 149, 803: 150, 805: 151, 810: 152, 813: 153, 842: 154, 847: 155, 879: 156, 886: 157, 917: 158, 919: 159, 926: 160, 927: 161, 928: 162, 940: 163, 947: 164, 954: 165, 964: 166, 966: 167, 970: 168, 971: 169, 972: 170, 973: 171, 976: 172, 993: 173, 994: 174, 996: 175, 998: 176, 999: 177, 1000: 178, 1001: 179, 1002: 180, 1003: 181, 1004: 182, 1005: 183, 1007: 184, 1008: 185, 1009: 186, 1010: 187, 1012: 188, 1013: 189, 1014: 190, 1017: 191, 1018: 192, 1019: 193, 1020: 194, 1021: 195, 1022: 196, 1023: 197, 1024: 198, 1026: 199, 1027: 200, 1028: 201, 1030: 202, 1031: 203, 1032: 204, 1033: 205, 1037: 206, 1038: 207, 1039: 208, 1041: 209, 1044: 210, 1045: 211, 1047: 212, 1048: 213, 1049: 214, 1050: 215, 1051: 216, 1052: 217, 1065: 218, 1067: 219, 1080: 220, 1083: 221, 1087: 222}}\n"
     ]
    }
   ],
   "source": [
    "print(cat2idx)"
   ]
  },
  {
   "cell_type": "code",
   "execution_count": 147,
   "metadata": {},
   "outputs": [
    {
     "data": {
      "text/plain": [
       "{'user': 792,\n",
       " 'item': 2072,\n",
       " 'daytime': 7,\n",
       " 'weekday': 7,\n",
       " 'isweekend': 2,\n",
       " 'homework': 3,\n",
       " 'cost': 2,\n",
       " 'weather': 9,\n",
       " 'country': 78,\n",
       " 'city': 223}"
      ]
     },
     "execution_count": 147,
     "metadata": {},
     "output_type": "execute_result"
    }
   ],
   "source": [
    "cat2size"
   ]
  },
  {
   "cell_type": "markdown",
   "metadata": {},
   "source": [
    "#### (2) 각 column의 값을 embedding matrix의 index로 변경하기"
   ]
  },
  {
   "cell_type": "code",
   "execution_count": 148,
   "metadata": {},
   "outputs": [],
   "source": [
    "for col, dic in cat2idx.items():\n",
    "    uses_df[col] = uses_df[col].map(dic)"
   ]
  },
  {
   "cell_type": "markdown",
   "metadata": {},
   "source": [
    "#### (3) train set과 test set으로 구분하기"
   ]
  },
  {
   "cell_type": "code",
   "execution_count": 171,
   "metadata": {},
   "outputs": [],
   "source": [
    "train, test = sklearn.model_selection.train_test_split(uses_df, train_size=0.8)"
   ]
  },
  {
   "cell_type": "markdown",
   "metadata": {},
   "source": [
    "#### (4) 네거티브샘플링 적용하기\n",
    "현재 해당 데이터는 특정 컨택스트에서 고객의 앱에 대한 사용 여부로서 \"Positive\" 데이터만 존재하고 있습니다. 즉, 고객 행동의 긍정적인 행동만 기록되어있다는 것입니다. 우리는 고객이 클릭하지 않은 앱에 대한 사용 여부, 즉 Positive 데이터 한개당 Negative 데이터 3개씩을 생성하되 item 이외의 다른 feature는 고정하고 item을 무작위로 결정하는 식으로 진행해보도록 하겠습니다."
   ]
  },
  {
   "cell_type": "code",
   "execution_count": 184,
   "metadata": {},
   "outputs": [],
   "source": [
    "def do_neg_sampling(df, ratio=3):\n",
    "    neg_sampling = pd.concat([df]*ratio)\n",
    "    neg_sampling[\"item\"] = df[\"item\"].sample(n=len(neg_sampling), replace=True).values\n",
    "    # \"네거티브 데이터\"는 카운트가 존재하지 않음\n",
    "    neg_sampling[\"cnt\"] = 0\n",
    "\n",
    "    sampling = pd.concat([df, neg_sampling])\n",
    "    sampling = sampling.drop_duplicates(sampling.columns.drop(\"cnt\"))\n",
    "    return sampling"
   ]
  },
  {
   "cell_type": "code",
   "execution_count": 185,
   "metadata": {},
   "outputs": [],
   "source": [
    "train_sampling = do_neg_sampling(train)\n",
    "test_sampling = do_neg_sampling(test)"
   ]
  },
  {
   "cell_type": "markdown",
   "metadata": {},
   "source": [
    "- (3) Input 과 Target 분리\n",
    "- 데이터 중에서 종속 변수가 되는 요소들( X )과 독립 변수가 되는 클릭 유무을 나누도록 하겠습니다."
   ]
  },
  {
   "cell_type": "code",
   "execution_count": 187,
   "metadata": {},
   "outputs": [],
   "source": [
    "train_x = train.drop([\"cnt\"], axis=1)\n",
    "train_y = train[[\"cnt\"]]\n",
    "\n",
    "test_x = test.drop([\"cnt\"], axis=1)\n",
    "test_y = test[[\"cnt\"]]"
   ]
  },
  {
   "cell_type": "markdown",
   "metadata": {},
   "source": [
    "- (4) 텐서로 바꾸어 주기"
   ]
  },
  {
   "cell_type": "code",
   "execution_count": 207,
   "metadata": {},
   "outputs": [],
   "source": [
    "batch_size = 512\n",
    "\n",
    "train_set = tf.data.Dataset.from_tensor_slices(({k:v.values.astype(\"int16\") for k, v in train_x.iteritems()}, train_y.values)).shuffle(len(train_x)).batch(batch_size, drop_remainder=True)\n",
    "test_set = tf.data.Dataset.from_tensor_slices(({k:v.values.astype(\"int16\") for k, v in test_x.iteritems()}, test_y.values)).shuffle(len(test_x)).batch(batch_size, drop_remainder=True)"
   ]
  },
  {
   "cell_type": "code",
   "execution_count": 208,
   "metadata": {},
   "outputs": [
    {
     "data": {
      "text/plain": [
       "<BatchDataset shapes: ({user: (512,), item: (512,), daytime: (512,), weekday: (512,), isweekend: (512,), homework: (512,), cost: (512,), weather: (512,), country: (512,), city: (512,)}, (512, 1)), types: ({user: tf.int16, item: tf.int16, daytime: tf.int16, weekday: tf.int16, isweekend: tf.int16, homework: tf.int16, cost: tf.int16, weather: tf.int16, country: tf.int16, city: tf.int16}, tf.int64)>"
      ]
     },
     "execution_count": 208,
     "metadata": {},
     "output_type": "execute_result"
    }
   ],
   "source": [
    "train_set"
   ]
  },
  {
   "cell_type": "code",
   "execution_count": 211,
   "metadata": {},
   "outputs": [
    {
     "data": {
      "text/html": [
       "<div>\n",
       "<style scoped>\n",
       "    .dataframe tbody tr th:only-of-type {\n",
       "        vertical-align: middle;\n",
       "    }\n",
       "\n",
       "    .dataframe tbody tr th {\n",
       "        vertical-align: top;\n",
       "    }\n",
       "\n",
       "    .dataframe thead th {\n",
       "        text-align: right;\n",
       "    }\n",
       "</style>\n",
       "<table border=\"1\" class=\"dataframe\">\n",
       "  <thead>\n",
       "    <tr style=\"text-align: right;\">\n",
       "      <th></th>\n",
       "      <th>user</th>\n",
       "      <th>item</th>\n",
       "      <th>daytime</th>\n",
       "      <th>weekday</th>\n",
       "      <th>isweekend</th>\n",
       "      <th>homework</th>\n",
       "      <th>cost</th>\n",
       "      <th>weather</th>\n",
       "      <th>country</th>\n",
       "      <th>city</th>\n",
       "    </tr>\n",
       "  </thead>\n",
       "  <tbody>\n",
       "    <tr>\n",
       "      <th>38883</th>\n",
       "      <td>119</td>\n",
       "      <td>56</td>\n",
       "      <td>3</td>\n",
       "      <td>3</td>\n",
       "      <td>0</td>\n",
       "      <td>1</td>\n",
       "      <td>0</td>\n",
       "      <td>8</td>\n",
       "      <td>75</td>\n",
       "      <td>0</td>\n",
       "    </tr>\n",
       "    <tr>\n",
       "      <th>35512</th>\n",
       "      <td>104</td>\n",
       "      <td>19</td>\n",
       "      <td>1</td>\n",
       "      <td>4</td>\n",
       "      <td>1</td>\n",
       "      <td>1</td>\n",
       "      <td>0</td>\n",
       "      <td>0</td>\n",
       "      <td>75</td>\n",
       "      <td>181</td>\n",
       "    </tr>\n",
       "    <tr>\n",
       "      <th>80882</th>\n",
       "      <td>355</td>\n",
       "      <td>506</td>\n",
       "      <td>0</td>\n",
       "      <td>3</td>\n",
       "      <td>0</td>\n",
       "      <td>1</td>\n",
       "      <td>0</td>\n",
       "      <td>7</td>\n",
       "      <td>55</td>\n",
       "      <td>148</td>\n",
       "    </tr>\n",
       "    <tr>\n",
       "      <th>20930</th>\n",
       "      <td>64</td>\n",
       "      <td>190</td>\n",
       "      <td>1</td>\n",
       "      <td>0</td>\n",
       "      <td>0</td>\n",
       "      <td>0</td>\n",
       "      <td>0</td>\n",
       "      <td>0</td>\n",
       "      <td>17</td>\n",
       "      <td>0</td>\n",
       "    </tr>\n",
       "    <tr>\n",
       "      <th>93222</th>\n",
       "      <td>770</td>\n",
       "      <td>283</td>\n",
       "      <td>2</td>\n",
       "      <td>5</td>\n",
       "      <td>1</td>\n",
       "      <td>1</td>\n",
       "      <td>0</td>\n",
       "      <td>7</td>\n",
       "      <td>75</td>\n",
       "      <td>0</td>\n",
       "    </tr>\n",
       "    <tr>\n",
       "      <th>...</th>\n",
       "      <td>...</td>\n",
       "      <td>...</td>\n",
       "      <td>...</td>\n",
       "      <td>...</td>\n",
       "      <td>...</td>\n",
       "      <td>...</td>\n",
       "      <td>...</td>\n",
       "      <td>...</td>\n",
       "      <td>...</td>\n",
       "      <td>...</td>\n",
       "    </tr>\n",
       "    <tr>\n",
       "      <th>31665</th>\n",
       "      <td>90</td>\n",
       "      <td>23</td>\n",
       "      <td>3</td>\n",
       "      <td>2</td>\n",
       "      <td>0</td>\n",
       "      <td>1</td>\n",
       "      <td>0</td>\n",
       "      <td>3</td>\n",
       "      <td>12</td>\n",
       "      <td>0</td>\n",
       "    </tr>\n",
       "    <tr>\n",
       "      <th>89659</th>\n",
       "      <td>501</td>\n",
       "      <td>462</td>\n",
       "      <td>0</td>\n",
       "      <td>2</td>\n",
       "      <td>0</td>\n",
       "      <td>1</td>\n",
       "      <td>0</td>\n",
       "      <td>0</td>\n",
       "      <td>75</td>\n",
       "      <td>173</td>\n",
       "    </tr>\n",
       "    <tr>\n",
       "      <th>15745</th>\n",
       "      <td>48</td>\n",
       "      <td>36</td>\n",
       "      <td>2</td>\n",
       "      <td>1</td>\n",
       "      <td>1</td>\n",
       "      <td>1</td>\n",
       "      <td>1</td>\n",
       "      <td>7</td>\n",
       "      <td>67</td>\n",
       "      <td>0</td>\n",
       "    </tr>\n",
       "    <tr>\n",
       "      <th>43259</th>\n",
       "      <td>133</td>\n",
       "      <td>100</td>\n",
       "      <td>4</td>\n",
       "      <td>1</td>\n",
       "      <td>1</td>\n",
       "      <td>2</td>\n",
       "      <td>0</td>\n",
       "      <td>0</td>\n",
       "      <td>75</td>\n",
       "      <td>0</td>\n",
       "    </tr>\n",
       "    <tr>\n",
       "      <th>55681</th>\n",
       "      <td>183</td>\n",
       "      <td>148</td>\n",
       "      <td>0</td>\n",
       "      <td>0</td>\n",
       "      <td>1</td>\n",
       "      <td>0</td>\n",
       "      <td>0</td>\n",
       "      <td>7</td>\n",
       "      <td>75</td>\n",
       "      <td>201</td>\n",
       "    </tr>\n",
       "  </tbody>\n",
       "</table>\n",
       "<p>74646 rows × 10 columns</p>\n",
       "</div>"
      ],
      "text/plain": [
       "      user item daytime weekday isweekend homework cost weather country city\n",
       "38883  119   56       3       3         0        1    0       8      75    0\n",
       "35512  104   19       1       4         1        1    0       0      75  181\n",
       "80882  355  506       0       3         0        1    0       7      55  148\n",
       "20930   64  190       1       0         0        0    0       0      17    0\n",
       "93222  770  283       2       5         1        1    0       7      75    0\n",
       "...    ...  ...     ...     ...       ...      ...  ...     ...     ...  ...\n",
       "31665   90   23       3       2         0        1    0       3      12    0\n",
       "89659  501  462       0       2         0        1    0       0      75  173\n",
       "15745   48   36       2       1         1        1    1       7      67    0\n",
       "43259  133  100       4       1         1        2    0       0      75    0\n",
       "55681  183  148       0       0         1        0    0       7      75  201\n",
       "\n",
       "[74646 rows x 10 columns]"
      ]
     },
     "execution_count": 211,
     "metadata": {},
     "output_type": "execute_result"
    }
   ],
   "source": [
    "train_x"
   ]
  },
  {
   "cell_type": "code",
   "execution_count": null,
   "metadata": {},
   "outputs": [],
   "source": []
  }
 ],
 "metadata": {
  "kernelspec": {
   "display_name": "Python 3",
   "language": "python",
   "name": "python3"
  },
  "language_info": {
   "codemirror_mode": {
    "name": "ipython",
    "version": 3
   },
   "file_extension": ".py",
   "mimetype": "text/x-python",
   "name": "python",
   "nbconvert_exporter": "python",
   "pygments_lexer": "ipython3",
   "version": "3.7.9"
  }
 },
 "nbformat": 4,
 "nbformat_minor": 2
}
