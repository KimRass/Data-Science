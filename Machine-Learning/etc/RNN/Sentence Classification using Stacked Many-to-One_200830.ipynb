{
 "cells": [
  {
   "cell_type": "code",
   "execution_count": 81,
   "metadata": {},
   "outputs": [],
   "source": [
    "import numpy as np\n",
    "import tensorflow as tf\n",
    "import matplotlib.pyplot as plt\n",
    "import pprint"
   ]
  },
  {
   "cell_type": "code",
   "execution_count": 103,
   "metadata": {},
   "outputs": [],
   "source": [
    "sents = [\"What I cannot create, I do not understand.\", \"Intellectuals solve problems, geniuses prevent them.\", \"A person who never made a mistake never tied anything new.\", \"The same squations have the same solutions.\"]\n",
    "\n",
    "labels = [1, 0, 0, 1] #1 for Richard Feynman, 2 for Albert Einstein"
   ]
  },
  {
   "cell_type": "code",
   "execution_count": 104,
   "metadata": {},
   "outputs": [],
   "source": [
    "char_set = [\"<pad>\"] + sorted(list(set(\" \".join(sents))))\n",
    "idx2char = {idx:char for idx, char in enumerate(char_set)}\n",
    "char2idx = {char:idx for idx, char in enumerate(char_set)}"
   ]
  },
  {
   "cell_type": "code",
   "execution_count": 105,
   "metadata": {},
   "outputs": [
    {
     "name": "stdout",
     "output_type": "stream",
     "text": [
      "['<pad>', ' ', ',', '.', 'A', 'I', 'T', 'W', 'a', 'b', 'c', 'd', 'e', 'g', 'h', 'i', 'k', 'l', 'm', 'n', 'o', 'p', 'q', 'r', 's', 't', 'u', 'v', 'w', 'y']\n",
      "{0: '<pad>', 1: ' ', 2: ',', 3: '.', 4: 'A', 5: 'I', 6: 'T', 7: 'W', 8: 'a', 9: 'b', 10: 'c', 11: 'd', 12: 'e', 13: 'g', 14: 'h', 15: 'i', 16: 'k', 17: 'l', 18: 'm', 19: 'n', 20: 'o', 21: 'p', 22: 'q', 23: 'r', 24: 's', 25: 't', 26: 'u', 27: 'v', 28: 'w', 29: 'y'}\n",
      "{'<pad>': 0, ' ': 1, ',': 2, '.': 3, 'A': 4, 'I': 5, 'T': 6, 'W': 7, 'a': 8, 'b': 9, 'c': 10, 'd': 11, 'e': 12, 'g': 13, 'h': 14, 'i': 15, 'k': 16, 'l': 17, 'm': 18, 'n': 19, 'o': 20, 'p': 21, 'q': 22, 'r': 23, 's': 24, 't': 25, 'u': 26, 'v': 27, 'w': 28, 'y': 29}\n"
     ]
    }
   ],
   "source": [
    "print(char_set)\n",
    "print(idx2char)\n",
    "print(char2idx)"
   ]
  },
  {
   "cell_type": "code",
   "execution_count": 106,
   "metadata": {},
   "outputs": [],
   "source": [
    "sents_idx = [[char2idx[char] for char in sent] for sent in sents]\n",
    "\n",
    "sents_len = [len(sent) for sent in sents]"
   ]
  },
  {
   "cell_type": "code",
   "execution_count": 107,
   "metadata": {},
   "outputs": [
    {
     "name": "stdout",
     "output_type": "stream",
     "text": [
      "[[7, 14, 8, 25, 1, 5, 1, 10, 8, 19, 19, 20, 25, 1, 10, 23, 12, 8, 25, 12, 2, 1, 5, 1, 11, 20, 1, 19, 20, 25, 1, 26, 19, 11, 12, 23, 24, 25, 8, 19, 11, 3], [5, 19, 25, 12, 17, 17, 12, 10, 25, 26, 8, 17, 24, 1, 24, 20, 17, 27, 12, 1, 21, 23, 20, 9, 17, 12, 18, 24, 2, 1, 13, 12, 19, 15, 26, 24, 12, 24, 1, 21, 23, 12, 27, 12, 19, 25, 1, 25, 14, 12, 18, 3], [4, 1, 21, 12, 23, 24, 20, 19, 1, 28, 14, 20, 1, 19, 12, 27, 12, 23, 1, 18, 8, 11, 12, 1, 8, 1, 18, 15, 24, 25, 8, 16, 12, 1, 19, 12, 27, 12, 23, 1, 25, 15, 12, 11, 1, 8, 19, 29, 25, 14, 15, 19, 13, 1, 19, 12, 28, 3], [6, 14, 12, 1, 24, 8, 18, 12, 1, 24, 22, 26, 8, 25, 15, 20, 19, 24, 1, 14, 8, 27, 12, 1, 25, 14, 12, 1, 24, 8, 18, 12, 1, 24, 20, 17, 26, 25, 15, 20, 19, 24, 3]]\n",
      "[42, 52, 58, 43]\n"
     ]
    }
   ],
   "source": [
    "print(sents_idx)\n",
    "print(sents_len)"
   ]
  },
  {
   "cell_type": "code",
   "execution_count": 154,
   "metadata": {},
   "outputs": [],
   "source": [
    "seq_len = max(sents_len)\n",
    "\n",
    "sents_idx_pad = tf.keras.preprocessing.sequence.pad_sequences(sequences=sents_idx, maxlen=seq_len, padding=\"post\", truncating=\"post\", value=0)"
   ]
  },
  {
   "cell_type": "code",
   "execution_count": 155,
   "metadata": {},
   "outputs": [
    {
     "name": "stdout",
     "output_type": "stream",
     "text": [
      "[[ 7 14  8 25  1  5  1 10  8 19 19 20 25  1 10 23 12  8 25 12  2  1  5  1\n",
      "  11 20  1 19 20 25  1 26 19 11 12 23 24 25  8 19 11  3  0  0  0  0  0  0\n",
      "   0  0  0  0  0  0  0  0  0  0]\n",
      " [ 5 19 25 12 17 17 12 10 25 26  8 17 24  1 24 20 17 27 12  1 21 23 20  9\n",
      "  17 12 18 24  2  1 13 12 19 15 26 24 12 24  1 21 23 12 27 12 19 25  1 25\n",
      "  14 12 18  3  0  0  0  0  0  0]\n",
      " [ 4  1 21 12 23 24 20 19  1 28 14 20  1 19 12 27 12 23  1 18  8 11 12  1\n",
      "   8  1 18 15 24 25  8 16 12  1 19 12 27 12 23  1 25 15 12 11  1  8 19 29\n",
      "  25 14 15 19 13  1 19 12 28  3]\n",
      " [ 6 14 12  1 24  8 18 12  1 24 22 26  8 25 15 20 19 24  1 14  8 27 12  1\n",
      "  25 14 12  1 24  8 18 12  1 24 20 17 26 25 15 20 19 24  3  0  0  0  0  0\n",
      "   0  0  0  0  0  0  0  0  0  0]]\n"
     ]
    }
   ],
   "source": [
    "print(sents_idx_pad)"
   ]
  },
  {
   "cell_type": "code",
   "execution_count": 163,
   "metadata": {},
   "outputs": [],
   "source": [
    "n_cls = 2\n",
    "hid_dims = [10, 10]\n",
    "\n",
    "in_dim = len(char2idx)\n",
    "out_dim = len(char2idx)\n",
    "one_hot = np.eye(len(char2idx))\n",
    "\n",
    "model = tf.keras.models.Sequential()\n",
    "\n",
    "model.add(tf.keras.layers.Embedding(input_dim=in_dim, output_dim = out_dim, trainable=False, mask_zero=True, input_length=seq_len, embeddings_initializer=tf.keras.initializers.Constant(one_hot)))\n",
    "model.add(tf.keras.layers.SimpleRNN(units=hid_dims[0], return_sequences=True, return_state=False))\n",
    "model.add(tf.keras.layers.TimeDistributed(tf.keras.layers.Dropout(rate=0.2)))\n",
    "model.add(tf.keras.layers.SimpleRNN(units=hid_dims[1], return_sequences=False, return_state=False))\n",
    "model.add(tf.keras.layers.Dropout(rate=0.2))\n",
    "model.add(tf.keras.layers.Dense(units=n_cls))"
   ]
  },
  {
   "cell_type": "code",
   "execution_count": 164,
   "metadata": {},
   "outputs": [
    {
     "name": "stdout",
     "output_type": "stream",
     "text": [
      "Model: \"sequential_8\"\n",
      "_________________________________________________________________\n",
      "Layer (type)                 Output Shape              Param #   \n",
      "=================================================================\n",
      "embedding_8 (Embedding)      (None, 58, 30)            900       \n",
      "_________________________________________________________________\n",
      "simple_rnn_16 (SimpleRNN)    (None, 58, 10)            410       \n",
      "_________________________________________________________________\n",
      "time_distributed_8 (TimeDist (None, 58, 10)            0         \n",
      "_________________________________________________________________\n",
      "simple_rnn_17 (SimpleRNN)    (None, 10)                210       \n",
      "_________________________________________________________________\n",
      "dropout_17 (Dropout)         (None, 10)                0         \n",
      "_________________________________________________________________\n",
      "dense_8 (Dense)              (None, 2)                 22        \n",
      "=================================================================\n",
      "Total params: 1,542\n",
      "Trainable params: 642\n",
      "Non-trainable params: 900\n",
      "_________________________________________________________________\n"
     ]
    }
   ],
   "source": [
    "model.summary()"
   ]
  },
  {
   "cell_type": "code",
   "execution_count": 165,
   "metadata": {},
   "outputs": [],
   "source": [
    "def loss_fn(model, x, y, training):\n",
    "    logits = model(x, training)\n",
    "    loss = tf.reduce_mean(tf.keras.losses.sparse_categorical_crossentropy(y_true=y, y_pred=logits, from_logits=True))\n",
    "    return loss\n",
    "\n",
    "lr = 0.01\n",
    "epochs = 30\n",
    "batch_size = 2\n",
    "opt = tf.keras.optimizers.Adam(learning_rate=lr)\n",
    "\n",
    "train = tf.data.Dataset.from_tensor_slices((sents_idx_pad, labels)).shuffle(len(sents_idx_pad)).batch(batch_size)"
   ]
  },
  {
   "cell_type": "code",
   "execution_count": 166,
   "metadata": {},
   "outputs": [
    {
     "name": "stdout",
     "output_type": "stream",
     "text": [
      "epoch :   1 | train_loss :  0.832\n",
      "epoch :   2 | train_loss :  0.787\n",
      "epoch :   3 | train_loss :  0.443\n",
      "epoch :   4 | train_loss :  0.270\n",
      "epoch :   5 | train_loss :  0.146\n",
      "epoch :   6 | train_loss :  0.169\n",
      "epoch :   7 | train_loss :  0.062\n",
      "epoch :   8 | train_loss :  0.048\n",
      "epoch :   9 | train_loss :  0.167\n",
      "epoch :  10 | train_loss :  0.040\n",
      "epoch :  11 | train_loss :  0.014\n",
      "epoch :  12 | train_loss :  0.047\n",
      "epoch :  13 | train_loss :  0.017\n",
      "epoch :  14 | train_loss :  0.058\n",
      "epoch :  15 | train_loss :  0.030\n",
      "epoch :  16 | train_loss :  0.009\n",
      "epoch :  17 | train_loss :  0.012\n",
      "epoch :  18 | train_loss :  0.005\n",
      "epoch :  19 | train_loss :  0.028\n",
      "epoch :  20 | train_loss :  0.014\n",
      "epoch :  21 | train_loss :  0.017\n",
      "epoch :  22 | train_loss :  0.005\n",
      "epoch :  23 | train_loss :  0.004\n",
      "epoch :  24 | train_loss :  0.005\n",
      "epoch :  25 | train_loss :  0.018\n",
      "epoch :  26 | train_loss :  0.006\n",
      "epoch :  27 | train_loss :  0.004\n",
      "epoch :  28 | train_loss :  0.009\n",
      "epoch :  29 | train_loss :  0.006\n",
      "epoch :  30 | train_loss :  0.009\n"
     ]
    }
   ],
   "source": [
    "train_loss_hist = []\n",
    "avg_train_loss = 0\n",
    "for epoch in range(epochs):\n",
    "    loss_sum = 0\n",
    "    n_mn = 0\n",
    "    for x_mb, y_mb in train:\n",
    "        with tf.GradientTape() as tape:\n",
    "            loss = loss_fn(model, x_mb, y_mb, training=True)\n",
    "        grads = tape.gradient(loss, model.variables)\n",
    "        opt.apply_gradients(zip(grads, model.variables))\n",
    "        \n",
    "        loss_sum += loss\n",
    "        n_mn +=1       \n",
    "    avg_train_loss = loss_sum/n_mn\n",
    "    train_loss_hist.append(avg_train_loss)\n",
    "\n",
    "    print(f\"epoch : {epoch+1:>3d} | train_loss : {avg_train_loss.numpy():>6.3f}\")"
   ]
  },
  {
   "cell_type": "code",
   "execution_count": 167,
   "metadata": {},
   "outputs": [],
   "source": [
    "pred = model.predict(sents_idx_pad)\n",
    "pred = np.argmax(pred, axis=-1)\n",
    "\n",
    "acc = np.mean(pred==labels)"
   ]
  },
  {
   "cell_type": "code",
   "execution_count": 168,
   "metadata": {},
   "outputs": [
    {
     "name": "stdout",
     "output_type": "stream",
     "text": [
      "1.0\n"
     ]
    }
   ],
   "source": [
    "print(acc)"
   ]
  },
  {
   "cell_type": "code",
   "execution_count": 169,
   "metadata": {},
   "outputs": [
    {
     "data": {
      "text/plain": [
       "[<matplotlib.lines.Line2D at 0x1f342ed3148>]"
      ]
     },
     "execution_count": 169,
     "metadata": {},
     "output_type": "execute_result"
    },
    {
     "data": {
      "image/png": "[encoded data removed]",
      "text/plain": [
       "<Figure size 432x288 with 1 Axes>"
      ]
     },
     "metadata": {
      "needs_background": "light"
     },
     "output_type": "display_data"
    }
   ],
   "source": [
    "plt.plot(train_loss_hist)"
   ]
  },
  {
   "cell_type": "code",
   "execution_count": null,
   "metadata": {},
   "outputs": [],
   "source": []
  }
 ],
 "metadata": {
  "kernelspec": {
   "display_name": "Python 3",
   "language": "python",
   "name": "python3"
  },
  "language_info": {
   "codemirror_mode": {
    "name": "ipython",
    "version": 3
   },
   "file_extension": ".py",
   "mimetype": "text/x-python",
   "name": "python",
   "nbconvert_exporter": "python",
   "pygments_lexer": "ipython3",
   "version": "3.7.7"
  }
 },
 "nbformat": 4,
 "nbformat_minor": 4
}
