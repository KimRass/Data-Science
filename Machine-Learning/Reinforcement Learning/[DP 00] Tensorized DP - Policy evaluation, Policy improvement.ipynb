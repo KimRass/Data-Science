{
 "cells": [
  {
   "cell_type": "code",
   "execution_count": 1,
   "metadata": {},
   "outputs": [],
   "source": [
    "import numpy as np\n",
    "import pandas as pd\n",
    "import matplotlib.pyplot as plt\n",
    "from src.part2.tensorized_dp import TensorDP\n",
    "from src.common.gridworld import GridworldEnv\n",
    "from src.common.grid_visualization import visualize_value_function, visualize_policy\n",
    "\n",
    "np.random.seed(0)"
   ]
  },
  {
   "cell_type": "markdown",
   "metadata": {},
   "source": [
    "## `GridWorld` 초기화하기\n",
    "\n",
    "가로로 `nx` 개, 세로로 `ny` 개의 칸을 가진 `GridworldEnv`를 만듭니다!"
   ]
  },
  {
   "cell_type": "code",
   "execution_count": 2,
   "metadata": {},
   "outputs": [],
   "source": [
    "nx = 5\n",
    "ny = 5\n",
    "env = GridworldEnv([ny, nx])"
   ]
  },
  {
   "cell_type": "markdown",
   "metadata": {},
   "source": [
    "## 동적계획법 '에이전트' 초기화하기\n",
    "\n",
    "동적 게획법은 원래 `에이전트`라는 개념을 사용하지 않지만, 일반적으로 사용되는 강화학습의 구현 템플릿에 대한 이해를 돕기 위해 `에이전트`라는 개념을 적용하였습니다.\n",
    "\n",
    "```python\n",
    "class TensorDP:\n",
    "    \n",
    "    def __init__(self, gamma=1.0, error_tol=1e-5):\n",
    "...        \n",
    "```\n",
    "\n",
    "`TensorDP` 클래스는 2개의 파라미터를 받습니다. \n",
    "감소율 `gamma` 와 가치평가/반복 알고리즘에서 수렴조건을 확인할 때 사용하는 수치적 에러의 허용치인 `error_tol` 입니다. 이 예제에서는 각각 `1.0` 과 `1e-5`로 설정하겠습니다."
   ]
  },
  {
   "cell_type": "code",
   "execution_count": 3,
   "metadata": {},
   "outputs": [],
   "source": [
    "dp_agent = TensorDP()"
   ]
  },
  {
   "cell_type": "markdown",
   "metadata": {},
   "source": [
    "### DP agent에게 환경을 설정봅시다!\n",
    "\n",
    "```python\n",
    "def set_env(self, env, policy=None):\n",
    "        self.env = env\n",
    "        if policy is None:\n",
    "            self.policy = np.ones([env.nS, env.nA]) / env.nA\n",
    "\n",
    "        self.ns = env.nS\n",
    "        self.na = env.nA\n",
    "        self.P = env.P_tensor  # Rank 3 tensor [num. actions x num. states x num. states]\n",
    "        self.R = env.R_tensor  # Rank 2 tensor [num. actions x num. states]\n",
    "\n",
    "        print(\"Tensor DP agent initialized\")\n",
    "        print(\"Environment spec:  Num. state = {} | Num. actions = {} \".format(env.nS, env.nA))\n",
    "```"
   ]
  },
  {
   "cell_type": "code",
   "execution_count": 4,
   "metadata": {},
   "outputs": [
    {
     "name": "stdout",
     "output_type": "stream",
     "text": [
      "Tensor DP agent initialized\n",
      "Environment spec:  Number of states: 25 | Number of actions: 4 \n"
     ]
    }
   ],
   "source": [
    "dp_agent.set_env(env)"
   ]
  },
  {
   "cell_type": "markdown",
   "metadata": {},
   "source": [
    "## `Numpy` 에서 텐서 연산\n",
    "\n",
    "`Numpy` ,`Pytorch`, `Tensorflow` 등 많은 과학/공학연구를 위해 사용되는 라이브러리들은 많은 경우 효율적인 연산을 위해서 데이터를 tensor 의 형태로 표현합니다.특히, `Numpy` ,`Pytorch`, `Tensorflow`의 텐서 연산은 하드웨어 및 소프트웨어 수준에서 효율적 계산을 위해 많은 최적화 기법들이 적용되어 있기 때문에, `loop`를 활용한 계산보다 훨씬 더 빠른 속도로 연산이 가능합니다.\n",
    "\n",
    "Deep learning 의 경우 또한, 현대적인 인공신경망 라이브러리인 `Pytorch`, `Tensorflow` 를 활용해서\n",
    "인공신경망 내부의 연산을 텐서 연산으로 표현하고 그 연산을 매우 효율적으로 진행하기 위해 그래픽카드를 활용해 연산을 진행합니다. 따라서, 강화학습을 수강하시고 있는 여러분들도 텐서연산에 익숙해지시는게 앞으로 연구/개발 건강에 이롭습니다."
   ]
  },
  {
   "cell_type": "markdown",
   "metadata": {},
   "source": [
    "## Tensorized 정책 평가 (Policy evaluation)\n",
    "\n",
    "Tensorized syncrhonous Policy evaluation 에 대해서 알아봅시다.\n",
    "\n",
    "정책 평가 알고리즘은 Bellman expectation backup operator $T$ 가 수렴할때까지 반복하여, 현재 정책함수 $\\pi$ 에 대한 주어진 MDP의 가치함수인 $V^{\\pi}$ 를 찾는 알고리즘입니다. Bellman expectation backup operator $T$ 는 다음과 같이 정의됩니다.\n",
    "$$T^{\\pi}(V) \\leftarrow R^{\\pi} + \\gamma P^{\\pi} V$$ \n",
    "\n",
    "$\\gamma$ 는 감가율, $R^{\\pi}$ 는 정책 $\\pi$ 에 대한 보상함수, $P^{\\pi}$ 는 정책 $\\pi$ 에 대한 상태천이 행렬입니다. <br>"
   ]
  },
  {
   "cell_type": "markdown",
   "metadata": {},
   "source": [
    "### $R^{\\pi}$ 효율적으로 계산하기\n",
    "\n",
    "MDP 강의에서 이야기했던대로, $R^{\\pi}$ 는 다음과 같이 정의 됩니다.\n",
    "\n",
    "$$R^{\\pi}_s = \\sum_{a \\in \\cal{A}} \\pi(a|s) R_s^a $$\n",
    "\n",
    "각 $R^{\\pi}$의 각 원소 $R^{\\pi}_s$ 위의 수식으로 정의되고 $R^{\\pi}$ 은 모든 상태 $s$ 의 $R^{\\pi}_s$를 열 벡터로 표현한 형태가 됩니다. $R^{\\pi} \\in \\mathbb{R}^{|\\cal{S}|}$. \n",
    "\n",
    "> 예제에서는 구현의 편의를 위해 열 벡터 (Rank1 텐서)에 하나의 축을 더하여 $R^{\\pi} \\in \\mathbb{R}^{|\\cal{S}|\\times 1}$ 으로 표현하였습니다.\n",
    "\n",
    "#### Numpy 를 활용해 위의 수식을 구현\n",
    "\n",
    "```python\n",
    "def get_r_pi(self, policy):\n",
    "    r_pi = (policy * self.R).sum(axis=-1)  # [num. states x 1]\n",
    "    return r_pi\n",
    "```"
   ]
  },
  {
   "cell_type": "code",
   "execution_count": 5,
   "metadata": {},
   "outputs": [],
   "source": [
    "policy = dp_agent.policy # [num. states x num. actions]\n",
    "R = dp_agent.env.R_tensor # [num. states x num. actions]"
   ]
  },
  {
   "cell_type": "code",
   "execution_count": 6,
   "metadata": {},
   "outputs": [
    {
     "name": "stdout",
     "output_type": "stream",
     "text": [
      "Policy\n",
      "[[0.25 0.25 0.25 0.25]\n",
      " [0.25 0.25 0.25 0.25]\n",
      " [0.25 0.25 0.25 0.25]\n",
      " [0.25 0.25 0.25 0.25]\n",
      " [0.25 0.25 0.25 0.25]\n",
      " [0.25 0.25 0.25 0.25]\n",
      " [0.25 0.25 0.25 0.25]\n",
      " [0.25 0.25 0.25 0.25]\n",
      " [0.25 0.25 0.25 0.25]\n",
      " [0.25 0.25 0.25 0.25]\n",
      " [0.25 0.25 0.25 0.25]\n",
      " [0.25 0.25 0.25 0.25]\n",
      " [0.25 0.25 0.25 0.25]\n",
      " [0.25 0.25 0.25 0.25]\n",
      " [0.25 0.25 0.25 0.25]\n",
      " [0.25 0.25 0.25 0.25]\n",
      " [0.25 0.25 0.25 0.25]\n",
      " [0.25 0.25 0.25 0.25]\n",
      " [0.25 0.25 0.25 0.25]\n",
      " [0.25 0.25 0.25 0.25]\n",
      " [0.25 0.25 0.25 0.25]\n",
      " [0.25 0.25 0.25 0.25]\n",
      " [0.25 0.25 0.25 0.25]\n",
      " [0.25 0.25 0.25 0.25]\n",
      " [0.25 0.25 0.25 0.25]]\n"
     ]
    }
   ],
   "source": [
    "print(\"Policy\")\n",
    "print(policy)"
   ]
  },
  {
   "cell_type": "code",
   "execution_count": 7,
   "metadata": {},
   "outputs": [
    {
     "name": "stdout",
     "output_type": "stream",
     "text": [
      "Reward function\n",
      "[[ 0.  0.  0.  0.]\n",
      " [-1. -1. -1. -1.]\n",
      " [-1. -1. -1. -1.]\n",
      " [-1. -1. -1. -1.]\n",
      " [-1. -1. -1. -1.]\n",
      " [-1. -1. -1. -1.]\n",
      " [-1. -1. -1. -1.]\n",
      " [-1. -1. -1. -1.]\n",
      " [-1. -1. -1. -1.]\n",
      " [-1. -1. -1. -1.]\n",
      " [-1. -1. -1. -1.]\n",
      " [-1. -1. -1. -1.]\n",
      " [-1. -1. -1. -1.]\n",
      " [-1. -1. -1. -1.]\n",
      " [-1. -1. -1. -1.]\n",
      " [-1. -1. -1. -1.]\n",
      " [-1. -1. -1. -1.]\n",
      " [-1. -1. -1. -1.]\n",
      " [-1. -1. -1. -1.]\n",
      " [-1. -1. -1. -1.]\n",
      " [-1. -1. -1. -1.]\n",
      " [-1. -1. -1. -1.]\n",
      " [-1. -1. -1. -1.]\n",
      " [-1. -1. -1. -1.]\n",
      " [ 0.  0.  0.  0.]]\n"
     ]
    }
   ],
   "source": [
    "print(\"Reward function\")\n",
    "print(R)"
   ]
  },
  {
   "cell_type": "markdown",
   "metadata": {},
   "source": [
    "### * 오퍼레이터\n",
    "\n",
    "`*` 오퍼레이터는 두개의 `Numpy` array 를 각 원소별로 곱합니다."
   ]
  },
  {
   "cell_type": "code",
   "execution_count": 8,
   "metadata": {},
   "outputs": [
    {
     "name": "stdout",
     "output_type": "stream",
     "text": [
      "[[ 0.    0.    0.    0.  ]\n",
      " [-0.25 -0.25 -0.25 -0.25]\n",
      " [-0.25 -0.25 -0.25 -0.25]\n",
      " [-0.25 -0.25 -0.25 -0.25]\n",
      " [-0.25 -0.25 -0.25 -0.25]\n",
      " [-0.25 -0.25 -0.25 -0.25]\n",
      " [-0.25 -0.25 -0.25 -0.25]\n",
      " [-0.25 -0.25 -0.25 -0.25]\n",
      " [-0.25 -0.25 -0.25 -0.25]\n",
      " [-0.25 -0.25 -0.25 -0.25]\n",
      " [-0.25 -0.25 -0.25 -0.25]\n",
      " [-0.25 -0.25 -0.25 -0.25]\n",
      " [-0.25 -0.25 -0.25 -0.25]\n",
      " [-0.25 -0.25 -0.25 -0.25]\n",
      " [-0.25 -0.25 -0.25 -0.25]\n",
      " [-0.25 -0.25 -0.25 -0.25]\n",
      " [-0.25 -0.25 -0.25 -0.25]\n",
      " [-0.25 -0.25 -0.25 -0.25]\n",
      " [-0.25 -0.25 -0.25 -0.25]\n",
      " [-0.25 -0.25 -0.25 -0.25]\n",
      " [-0.25 -0.25 -0.25 -0.25]\n",
      " [-0.25 -0.25 -0.25 -0.25]\n",
      " [-0.25 -0.25 -0.25 -0.25]\n",
      " [-0.25 -0.25 -0.25 -0.25]\n",
      " [ 0.    0.    0.    0.  ]]\n"
     ]
    }
   ],
   "source": [
    "weigthed_R = policy * R # [num. states x num. actions]\n",
    "print(weigthed_R)"
   ]
  },
  {
   "cell_type": "code",
   "execution_count": 9,
   "metadata": {},
   "outputs": [
    {
     "name": "stdout",
     "output_type": "stream",
     "text": [
      "[ 0. -1. -1. -1. -1. -1. -1. -1. -1. -1. -1. -1. -1. -1. -1. -1. -1. -1.\n",
      " -1. -1. -1. -1. -1. -1.  0.]\n"
     ]
    }
   ],
   "source": [
    "averaged_R = weigthed_R.sum(axis=-1)\n",
    "print(averaged_R)"
   ]
  },
  {
   "cell_type": "markdown",
   "metadata": {},
   "source": [
    "### $P^{\\pi}$ 효율적으로 계산하기\n",
    "\n",
    "$P^{\\pi}$ 는 다음과 같이 정의 됩니다.\n",
    "\n",
    "$$P^{\\pi}_{ss'} = \\sum_{a \\in \\cal{A}} \\pi(a|s) P_{ss'}^a $$\n",
    "\n",
    "각 $P^{\\pi}_{ss'}$는 상태천이 행렬 (이번에는 정말 행렬입니다!) 의 $s$번째 열(row) $s'$번째 행(column)의 원소입니다. 따라서 $P^{\\pi} \\in \\mathbb{R}^{|\\cal{S}|\\times|\\cal{S}|}$는 행렬입니다.\n",
    "위의 수식을 도식화해서 표현하면 다음과 같은 그림이 됩니다.\n",
    "\n",
    "<img src=\"./images/tensorized_p_computation.png\" width=\"80%\" height=\"50%\" title=\"px(픽셀) 크기 설정\" alt=\"Tensor\"></img>\n",
    "\n",
    "눈치가 좋으신분들은 (그래서 여러분들은) 아마도 이 연산이 기존의 매트릭스 곱하기 및 원소별 곱하기 (element-wise product, aka, Hadamard product) 등으로는 표현하기에 까다롭다는것을 알아채셨으리라 생각합니다. 이런 경우에 사용할수 있는 텐서연산 기법이 있습니다.\n",
    "\n",
    "`아인슈타인 합`을 활용하면 우리가 원하는 연산을 간단하게 1줄로 표현할 수 있습니다.\n",
    "`아인슈타인 합` 대부분의 텐서연산 라이브러리에서 __똑같은 문법으로__ 사용할수 있게 구현되어있습니다.\n",
    "즉, 여러분이 `numpy`에서 아인슈타인 합으로 표현한 수식은 `pytorch`에서도 동일하게 사용할 수 있다는 이점이있습니다. 또한 `아인슈타인 합` 또한 매우 최적화된 방법으로 실행됩니다. 여러분들이 차후에 자신만의 알고리즘을 만들때도 `아인슈타인 합`으로 연산을 정의할 수 있다면, 꼭 한번 아인슈타인 합으로 표현해보도록 하세요.\n",
    "\n",
    "```python\n",
    "def get_p_pi(self, policy):\n",
    "    p_pi = np.einsum(\"ik, kij -> ij\", policy, self.P)  # [num. states x num. states]\n",
    "    return p_pi\n",
    "```"
   ]
  },
  {
   "cell_type": "markdown",
   "metadata": {},
   "source": [
    "### 랜덤정책 $\\pi$ 에 대한 $P^{\\pi}$ 확인해보기\n",
    "\n",
    "모든 상황에서 각 방향으로 움직일 확률이 0.25 인 정책 $\\pi$ 의 $P^{\\pi}$는?"
   ]
  },
  {
   "cell_type": "code",
   "execution_count": 10,
   "metadata": {},
   "outputs": [
    {
     "data": {
      "text/html": [
       "<div>\n",
       "<style scoped>\n",
       "    .dataframe tbody tr th:only-of-type {\n",
       "        vertical-align: middle;\n",
       "    }\n",
       "\n",
       "    .dataframe tbody tr th {\n",
       "        vertical-align: top;\n",
       "    }\n",
       "\n",
       "    .dataframe thead th {\n",
       "        text-align: right;\n",
       "    }\n",
       "</style>\n",
       "<table border=\"1\" class=\"dataframe\">\n",
       "  <thead>\n",
       "    <tr style=\"text-align: right;\">\n",
       "      <th></th>\n",
       "      <th>0</th>\n",
       "      <th>1</th>\n",
       "      <th>2</th>\n",
       "      <th>3</th>\n",
       "      <th>4</th>\n",
       "      <th>5</th>\n",
       "      <th>6</th>\n",
       "      <th>7</th>\n",
       "      <th>8</th>\n",
       "      <th>9</th>\n",
       "      <th>...</th>\n",
       "      <th>15</th>\n",
       "      <th>16</th>\n",
       "      <th>17</th>\n",
       "      <th>18</th>\n",
       "      <th>19</th>\n",
       "      <th>20</th>\n",
       "      <th>21</th>\n",
       "      <th>22</th>\n",
       "      <th>23</th>\n",
       "      <th>24</th>\n",
       "    </tr>\n",
       "  </thead>\n",
       "  <tbody>\n",
       "    <tr>\n",
       "      <th>0</th>\n",
       "      <td>1.00</td>\n",
       "      <td>0.00</td>\n",
       "      <td>0.00</td>\n",
       "      <td>0.00</td>\n",
       "      <td>0.00</td>\n",
       "      <td>0.00</td>\n",
       "      <td>0.00</td>\n",
       "      <td>0.00</td>\n",
       "      <td>0.00</td>\n",
       "      <td>0.00</td>\n",
       "      <td>...</td>\n",
       "      <td>0.00</td>\n",
       "      <td>0.00</td>\n",
       "      <td>0.00</td>\n",
       "      <td>0.00</td>\n",
       "      <td>0.00</td>\n",
       "      <td>0.00</td>\n",
       "      <td>0.00</td>\n",
       "      <td>0.00</td>\n",
       "      <td>0.00</td>\n",
       "      <td>0.00</td>\n",
       "    </tr>\n",
       "    <tr>\n",
       "      <th>1</th>\n",
       "      <td>0.25</td>\n",
       "      <td>0.25</td>\n",
       "      <td>0.25</td>\n",
       "      <td>0.00</td>\n",
       "      <td>0.00</td>\n",
       "      <td>0.00</td>\n",
       "      <td>0.25</td>\n",
       "      <td>0.00</td>\n",
       "      <td>0.00</td>\n",
       "      <td>0.00</td>\n",
       "      <td>...</td>\n",
       "      <td>0.00</td>\n",
       "      <td>0.00</td>\n",
       "      <td>0.00</td>\n",
       "      <td>0.00</td>\n",
       "      <td>0.00</td>\n",
       "      <td>0.00</td>\n",
       "      <td>0.00</td>\n",
       "      <td>0.00</td>\n",
       "      <td>0.00</td>\n",
       "      <td>0.00</td>\n",
       "    </tr>\n",
       "    <tr>\n",
       "      <th>2</th>\n",
       "      <td>0.00</td>\n",
       "      <td>0.25</td>\n",
       "      <td>0.25</td>\n",
       "      <td>0.25</td>\n",
       "      <td>0.00</td>\n",
       "      <td>0.00</td>\n",
       "      <td>0.00</td>\n",
       "      <td>0.25</td>\n",
       "      <td>0.00</td>\n",
       "      <td>0.00</td>\n",
       "      <td>...</td>\n",
       "      <td>0.00</td>\n",
       "      <td>0.00</td>\n",
       "      <td>0.00</td>\n",
       "      <td>0.00</td>\n",
       "      <td>0.00</td>\n",
       "      <td>0.00</td>\n",
       "      <td>0.00</td>\n",
       "      <td>0.00</td>\n",
       "      <td>0.00</td>\n",
       "      <td>0.00</td>\n",
       "    </tr>\n",
       "    <tr>\n",
       "      <th>3</th>\n",
       "      <td>0.00</td>\n",
       "      <td>0.00</td>\n",
       "      <td>0.25</td>\n",
       "      <td>0.25</td>\n",
       "      <td>0.25</td>\n",
       "      <td>0.00</td>\n",
       "      <td>0.00</td>\n",
       "      <td>0.00</td>\n",
       "      <td>0.25</td>\n",
       "      <td>0.00</td>\n",
       "      <td>...</td>\n",
       "      <td>0.00</td>\n",
       "      <td>0.00</td>\n",
       "      <td>0.00</td>\n",
       "      <td>0.00</td>\n",
       "      <td>0.00</td>\n",
       "      <td>0.00</td>\n",
       "      <td>0.00</td>\n",
       "      <td>0.00</td>\n",
       "      <td>0.00</td>\n",
       "      <td>0.00</td>\n",
       "    </tr>\n",
       "    <tr>\n",
       "      <th>4</th>\n",
       "      <td>0.00</td>\n",
       "      <td>0.00</td>\n",
       "      <td>0.00</td>\n",
       "      <td>0.25</td>\n",
       "      <td>0.50</td>\n",
       "      <td>0.00</td>\n",
       "      <td>0.00</td>\n",
       "      <td>0.00</td>\n",
       "      <td>0.00</td>\n",
       "      <td>0.25</td>\n",
       "      <td>...</td>\n",
       "      <td>0.00</td>\n",
       "      <td>0.00</td>\n",
       "      <td>0.00</td>\n",
       "      <td>0.00</td>\n",
       "      <td>0.00</td>\n",
       "      <td>0.00</td>\n",
       "      <td>0.00</td>\n",
       "      <td>0.00</td>\n",
       "      <td>0.00</td>\n",
       "      <td>0.00</td>\n",
       "    </tr>\n",
       "    <tr>\n",
       "      <th>5</th>\n",
       "      <td>0.25</td>\n",
       "      <td>0.00</td>\n",
       "      <td>0.00</td>\n",
       "      <td>0.00</td>\n",
       "      <td>0.00</td>\n",
       "      <td>0.25</td>\n",
       "      <td>0.25</td>\n",
       "      <td>0.00</td>\n",
       "      <td>0.00</td>\n",
       "      <td>0.00</td>\n",
       "      <td>...</td>\n",
       "      <td>0.00</td>\n",
       "      <td>0.00</td>\n",
       "      <td>0.00</td>\n",
       "      <td>0.00</td>\n",
       "      <td>0.00</td>\n",
       "      <td>0.00</td>\n",
       "      <td>0.00</td>\n",
       "      <td>0.00</td>\n",
       "      <td>0.00</td>\n",
       "      <td>0.00</td>\n",
       "    </tr>\n",
       "    <tr>\n",
       "      <th>6</th>\n",
       "      <td>0.00</td>\n",
       "      <td>0.25</td>\n",
       "      <td>0.00</td>\n",
       "      <td>0.00</td>\n",
       "      <td>0.00</td>\n",
       "      <td>0.25</td>\n",
       "      <td>0.00</td>\n",
       "      <td>0.25</td>\n",
       "      <td>0.00</td>\n",
       "      <td>0.00</td>\n",
       "      <td>...</td>\n",
       "      <td>0.00</td>\n",
       "      <td>0.00</td>\n",
       "      <td>0.00</td>\n",
       "      <td>0.00</td>\n",
       "      <td>0.00</td>\n",
       "      <td>0.00</td>\n",
       "      <td>0.00</td>\n",
       "      <td>0.00</td>\n",
       "      <td>0.00</td>\n",
       "      <td>0.00</td>\n",
       "    </tr>\n",
       "    <tr>\n",
       "      <th>7</th>\n",
       "      <td>0.00</td>\n",
       "      <td>0.00</td>\n",
       "      <td>0.25</td>\n",
       "      <td>0.00</td>\n",
       "      <td>0.00</td>\n",
       "      <td>0.00</td>\n",
       "      <td>0.25</td>\n",
       "      <td>0.00</td>\n",
       "      <td>0.25</td>\n",
       "      <td>0.00</td>\n",
       "      <td>...</td>\n",
       "      <td>0.00</td>\n",
       "      <td>0.00</td>\n",
       "      <td>0.00</td>\n",
       "      <td>0.00</td>\n",
       "      <td>0.00</td>\n",
       "      <td>0.00</td>\n",
       "      <td>0.00</td>\n",
       "      <td>0.00</td>\n",
       "      <td>0.00</td>\n",
       "      <td>0.00</td>\n",
       "    </tr>\n",
       "    <tr>\n",
       "      <th>8</th>\n",
       "      <td>0.00</td>\n",
       "      <td>0.00</td>\n",
       "      <td>0.00</td>\n",
       "      <td>0.25</td>\n",
       "      <td>0.00</td>\n",
       "      <td>0.00</td>\n",
       "      <td>0.00</td>\n",
       "      <td>0.25</td>\n",
       "      <td>0.00</td>\n",
       "      <td>0.25</td>\n",
       "      <td>...</td>\n",
       "      <td>0.00</td>\n",
       "      <td>0.00</td>\n",
       "      <td>0.00</td>\n",
       "      <td>0.00</td>\n",
       "      <td>0.00</td>\n",
       "      <td>0.00</td>\n",
       "      <td>0.00</td>\n",
       "      <td>0.00</td>\n",
       "      <td>0.00</td>\n",
       "      <td>0.00</td>\n",
       "    </tr>\n",
       "    <tr>\n",
       "      <th>9</th>\n",
       "      <td>0.00</td>\n",
       "      <td>0.00</td>\n",
       "      <td>0.00</td>\n",
       "      <td>0.00</td>\n",
       "      <td>0.25</td>\n",
       "      <td>0.00</td>\n",
       "      <td>0.00</td>\n",
       "      <td>0.00</td>\n",
       "      <td>0.25</td>\n",
       "      <td>0.25</td>\n",
       "      <td>...</td>\n",
       "      <td>0.00</td>\n",
       "      <td>0.00</td>\n",
       "      <td>0.00</td>\n",
       "      <td>0.00</td>\n",
       "      <td>0.00</td>\n",
       "      <td>0.00</td>\n",
       "      <td>0.00</td>\n",
       "      <td>0.00</td>\n",
       "      <td>0.00</td>\n",
       "      <td>0.00</td>\n",
       "    </tr>\n",
       "    <tr>\n",
       "      <th>10</th>\n",
       "      <td>0.00</td>\n",
       "      <td>0.00</td>\n",
       "      <td>0.00</td>\n",
       "      <td>0.00</td>\n",
       "      <td>0.00</td>\n",
       "      <td>0.25</td>\n",
       "      <td>0.00</td>\n",
       "      <td>0.00</td>\n",
       "      <td>0.00</td>\n",
       "      <td>0.00</td>\n",
       "      <td>...</td>\n",
       "      <td>0.25</td>\n",
       "      <td>0.00</td>\n",
       "      <td>0.00</td>\n",
       "      <td>0.00</td>\n",
       "      <td>0.00</td>\n",
       "      <td>0.00</td>\n",
       "      <td>0.00</td>\n",
       "      <td>0.00</td>\n",
       "      <td>0.00</td>\n",
       "      <td>0.00</td>\n",
       "    </tr>\n",
       "    <tr>\n",
       "      <th>11</th>\n",
       "      <td>0.00</td>\n",
       "      <td>0.00</td>\n",
       "      <td>0.00</td>\n",
       "      <td>0.00</td>\n",
       "      <td>0.00</td>\n",
       "      <td>0.00</td>\n",
       "      <td>0.25</td>\n",
       "      <td>0.00</td>\n",
       "      <td>0.00</td>\n",
       "      <td>0.00</td>\n",
       "      <td>...</td>\n",
       "      <td>0.00</td>\n",
       "      <td>0.25</td>\n",
       "      <td>0.00</td>\n",
       "      <td>0.00</td>\n",
       "      <td>0.00</td>\n",
       "      <td>0.00</td>\n",
       "      <td>0.00</td>\n",
       "      <td>0.00</td>\n",
       "      <td>0.00</td>\n",
       "      <td>0.00</td>\n",
       "    </tr>\n",
       "    <tr>\n",
       "      <th>12</th>\n",
       "      <td>0.00</td>\n",
       "      <td>0.00</td>\n",
       "      <td>0.00</td>\n",
       "      <td>0.00</td>\n",
       "      <td>0.00</td>\n",
       "      <td>0.00</td>\n",
       "      <td>0.00</td>\n",
       "      <td>0.25</td>\n",
       "      <td>0.00</td>\n",
       "      <td>0.00</td>\n",
       "      <td>...</td>\n",
       "      <td>0.00</td>\n",
       "      <td>0.00</td>\n",
       "      <td>0.25</td>\n",
       "      <td>0.00</td>\n",
       "      <td>0.00</td>\n",
       "      <td>0.00</td>\n",
       "      <td>0.00</td>\n",
       "      <td>0.00</td>\n",
       "      <td>0.00</td>\n",
       "      <td>0.00</td>\n",
       "    </tr>\n",
       "    <tr>\n",
       "      <th>13</th>\n",
       "      <td>0.00</td>\n",
       "      <td>0.00</td>\n",
       "      <td>0.00</td>\n",
       "      <td>0.00</td>\n",
       "      <td>0.00</td>\n",
       "      <td>0.00</td>\n",
       "      <td>0.00</td>\n",
       "      <td>0.00</td>\n",
       "      <td>0.25</td>\n",
       "      <td>0.00</td>\n",
       "      <td>...</td>\n",
       "      <td>0.00</td>\n",
       "      <td>0.00</td>\n",
       "      <td>0.00</td>\n",
       "      <td>0.25</td>\n",
       "      <td>0.00</td>\n",
       "      <td>0.00</td>\n",
       "      <td>0.00</td>\n",
       "      <td>0.00</td>\n",
       "      <td>0.00</td>\n",
       "      <td>0.00</td>\n",
       "    </tr>\n",
       "    <tr>\n",
       "      <th>14</th>\n",
       "      <td>0.00</td>\n",
       "      <td>0.00</td>\n",
       "      <td>0.00</td>\n",
       "      <td>0.00</td>\n",
       "      <td>0.00</td>\n",
       "      <td>0.00</td>\n",
       "      <td>0.00</td>\n",
       "      <td>0.00</td>\n",
       "      <td>0.00</td>\n",
       "      <td>0.25</td>\n",
       "      <td>...</td>\n",
       "      <td>0.00</td>\n",
       "      <td>0.00</td>\n",
       "      <td>0.00</td>\n",
       "      <td>0.00</td>\n",
       "      <td>0.25</td>\n",
       "      <td>0.00</td>\n",
       "      <td>0.00</td>\n",
       "      <td>0.00</td>\n",
       "      <td>0.00</td>\n",
       "      <td>0.00</td>\n",
       "    </tr>\n",
       "    <tr>\n",
       "      <th>15</th>\n",
       "      <td>0.00</td>\n",
       "      <td>0.00</td>\n",
       "      <td>0.00</td>\n",
       "      <td>0.00</td>\n",
       "      <td>0.00</td>\n",
       "      <td>0.00</td>\n",
       "      <td>0.00</td>\n",
       "      <td>0.00</td>\n",
       "      <td>0.00</td>\n",
       "      <td>0.00</td>\n",
       "      <td>...</td>\n",
       "      <td>0.25</td>\n",
       "      <td>0.25</td>\n",
       "      <td>0.00</td>\n",
       "      <td>0.00</td>\n",
       "      <td>0.00</td>\n",
       "      <td>0.25</td>\n",
       "      <td>0.00</td>\n",
       "      <td>0.00</td>\n",
       "      <td>0.00</td>\n",
       "      <td>0.00</td>\n",
       "    </tr>\n",
       "    <tr>\n",
       "      <th>16</th>\n",
       "      <td>0.00</td>\n",
       "      <td>0.00</td>\n",
       "      <td>0.00</td>\n",
       "      <td>0.00</td>\n",
       "      <td>0.00</td>\n",
       "      <td>0.00</td>\n",
       "      <td>0.00</td>\n",
       "      <td>0.00</td>\n",
       "      <td>0.00</td>\n",
       "      <td>0.00</td>\n",
       "      <td>...</td>\n",
       "      <td>0.25</td>\n",
       "      <td>0.00</td>\n",
       "      <td>0.25</td>\n",
       "      <td>0.00</td>\n",
       "      <td>0.00</td>\n",
       "      <td>0.00</td>\n",
       "      <td>0.25</td>\n",
       "      <td>0.00</td>\n",
       "      <td>0.00</td>\n",
       "      <td>0.00</td>\n",
       "    </tr>\n",
       "    <tr>\n",
       "      <th>17</th>\n",
       "      <td>0.00</td>\n",
       "      <td>0.00</td>\n",
       "      <td>0.00</td>\n",
       "      <td>0.00</td>\n",
       "      <td>0.00</td>\n",
       "      <td>0.00</td>\n",
       "      <td>0.00</td>\n",
       "      <td>0.00</td>\n",
       "      <td>0.00</td>\n",
       "      <td>0.00</td>\n",
       "      <td>...</td>\n",
       "      <td>0.00</td>\n",
       "      <td>0.25</td>\n",
       "      <td>0.00</td>\n",
       "      <td>0.25</td>\n",
       "      <td>0.00</td>\n",
       "      <td>0.00</td>\n",
       "      <td>0.00</td>\n",
       "      <td>0.25</td>\n",
       "      <td>0.00</td>\n",
       "      <td>0.00</td>\n",
       "    </tr>\n",
       "    <tr>\n",
       "      <th>18</th>\n",
       "      <td>0.00</td>\n",
       "      <td>0.00</td>\n",
       "      <td>0.00</td>\n",
       "      <td>0.00</td>\n",
       "      <td>0.00</td>\n",
       "      <td>0.00</td>\n",
       "      <td>0.00</td>\n",
       "      <td>0.00</td>\n",
       "      <td>0.00</td>\n",
       "      <td>0.00</td>\n",
       "      <td>...</td>\n",
       "      <td>0.00</td>\n",
       "      <td>0.00</td>\n",
       "      <td>0.25</td>\n",
       "      <td>0.00</td>\n",
       "      <td>0.25</td>\n",
       "      <td>0.00</td>\n",
       "      <td>0.00</td>\n",
       "      <td>0.00</td>\n",
       "      <td>0.25</td>\n",
       "      <td>0.00</td>\n",
       "    </tr>\n",
       "    <tr>\n",
       "      <th>19</th>\n",
       "      <td>0.00</td>\n",
       "      <td>0.00</td>\n",
       "      <td>0.00</td>\n",
       "      <td>0.00</td>\n",
       "      <td>0.00</td>\n",
       "      <td>0.00</td>\n",
       "      <td>0.00</td>\n",
       "      <td>0.00</td>\n",
       "      <td>0.00</td>\n",
       "      <td>0.00</td>\n",
       "      <td>...</td>\n",
       "      <td>0.00</td>\n",
       "      <td>0.00</td>\n",
       "      <td>0.00</td>\n",
       "      <td>0.25</td>\n",
       "      <td>0.25</td>\n",
       "      <td>0.00</td>\n",
       "      <td>0.00</td>\n",
       "      <td>0.00</td>\n",
       "      <td>0.00</td>\n",
       "      <td>0.25</td>\n",
       "    </tr>\n",
       "    <tr>\n",
       "      <th>20</th>\n",
       "      <td>0.00</td>\n",
       "      <td>0.00</td>\n",
       "      <td>0.00</td>\n",
       "      <td>0.00</td>\n",
       "      <td>0.00</td>\n",
       "      <td>0.00</td>\n",
       "      <td>0.00</td>\n",
       "      <td>0.00</td>\n",
       "      <td>0.00</td>\n",
       "      <td>0.00</td>\n",
       "      <td>...</td>\n",
       "      <td>0.25</td>\n",
       "      <td>0.00</td>\n",
       "      <td>0.00</td>\n",
       "      <td>0.00</td>\n",
       "      <td>0.00</td>\n",
       "      <td>0.50</td>\n",
       "      <td>0.25</td>\n",
       "      <td>0.00</td>\n",
       "      <td>0.00</td>\n",
       "      <td>0.00</td>\n",
       "    </tr>\n",
       "    <tr>\n",
       "      <th>21</th>\n",
       "      <td>0.00</td>\n",
       "      <td>0.00</td>\n",
       "      <td>0.00</td>\n",
       "      <td>0.00</td>\n",
       "      <td>0.00</td>\n",
       "      <td>0.00</td>\n",
       "      <td>0.00</td>\n",
       "      <td>0.00</td>\n",
       "      <td>0.00</td>\n",
       "      <td>0.00</td>\n",
       "      <td>...</td>\n",
       "      <td>0.00</td>\n",
       "      <td>0.25</td>\n",
       "      <td>0.00</td>\n",
       "      <td>0.00</td>\n",
       "      <td>0.00</td>\n",
       "      <td>0.25</td>\n",
       "      <td>0.25</td>\n",
       "      <td>0.25</td>\n",
       "      <td>0.00</td>\n",
       "      <td>0.00</td>\n",
       "    </tr>\n",
       "    <tr>\n",
       "      <th>22</th>\n",
       "      <td>0.00</td>\n",
       "      <td>0.00</td>\n",
       "      <td>0.00</td>\n",
       "      <td>0.00</td>\n",
       "      <td>0.00</td>\n",
       "      <td>0.00</td>\n",
       "      <td>0.00</td>\n",
       "      <td>0.00</td>\n",
       "      <td>0.00</td>\n",
       "      <td>0.00</td>\n",
       "      <td>...</td>\n",
       "      <td>0.00</td>\n",
       "      <td>0.00</td>\n",
       "      <td>0.25</td>\n",
       "      <td>0.00</td>\n",
       "      <td>0.00</td>\n",
       "      <td>0.00</td>\n",
       "      <td>0.25</td>\n",
       "      <td>0.25</td>\n",
       "      <td>0.25</td>\n",
       "      <td>0.00</td>\n",
       "    </tr>\n",
       "    <tr>\n",
       "      <th>23</th>\n",
       "      <td>0.00</td>\n",
       "      <td>0.00</td>\n",
       "      <td>0.00</td>\n",
       "      <td>0.00</td>\n",
       "      <td>0.00</td>\n",
       "      <td>0.00</td>\n",
       "      <td>0.00</td>\n",
       "      <td>0.00</td>\n",
       "      <td>0.00</td>\n",
       "      <td>0.00</td>\n",
       "      <td>...</td>\n",
       "      <td>0.00</td>\n",
       "      <td>0.00</td>\n",
       "      <td>0.00</td>\n",
       "      <td>0.25</td>\n",
       "      <td>0.00</td>\n",
       "      <td>0.00</td>\n",
       "      <td>0.00</td>\n",
       "      <td>0.25</td>\n",
       "      <td>0.25</td>\n",
       "      <td>0.25</td>\n",
       "    </tr>\n",
       "    <tr>\n",
       "      <th>24</th>\n",
       "      <td>0.00</td>\n",
       "      <td>0.00</td>\n",
       "      <td>0.00</td>\n",
       "      <td>0.00</td>\n",
       "      <td>0.00</td>\n",
       "      <td>0.00</td>\n",
       "      <td>0.00</td>\n",
       "      <td>0.00</td>\n",
       "      <td>0.00</td>\n",
       "      <td>0.00</td>\n",
       "      <td>...</td>\n",
       "      <td>0.00</td>\n",
       "      <td>0.00</td>\n",
       "      <td>0.00</td>\n",
       "      <td>0.00</td>\n",
       "      <td>0.00</td>\n",
       "      <td>0.00</td>\n",
       "      <td>0.00</td>\n",
       "      <td>0.00</td>\n",
       "      <td>0.00</td>\n",
       "      <td>1.00</td>\n",
       "    </tr>\n",
       "  </tbody>\n",
       "</table>\n",
       "<p>25 rows × 25 columns</p>\n",
       "</div>"
      ],
      "text/plain": [
       "      0     1     2     3     4     5     6     7     8     9   ...    15  \\\n",
       "0   1.00  0.00  0.00  0.00  0.00  0.00  0.00  0.00  0.00  0.00  ...  0.00   \n",
       "1   0.25  0.25  0.25  0.00  0.00  0.00  0.25  0.00  0.00  0.00  ...  0.00   \n",
       "2   0.00  0.25  0.25  0.25  0.00  0.00  0.00  0.25  0.00  0.00  ...  0.00   \n",
       "3   0.00  0.00  0.25  0.25  0.25  0.00  0.00  0.00  0.25  0.00  ...  0.00   \n",
       "4   0.00  0.00  0.00  0.25  0.50  0.00  0.00  0.00  0.00  0.25  ...  0.00   \n",
       "5   0.25  0.00  0.00  0.00  0.00  0.25  0.25  0.00  0.00  0.00  ...  0.00   \n",
       "6   0.00  0.25  0.00  0.00  0.00  0.25  0.00  0.25  0.00  0.00  ...  0.00   \n",
       "7   0.00  0.00  0.25  0.00  0.00  0.00  0.25  0.00  0.25  0.00  ...  0.00   \n",
       "8   0.00  0.00  0.00  0.25  0.00  0.00  0.00  0.25  0.00  0.25  ...  0.00   \n",
       "9   0.00  0.00  0.00  0.00  0.25  0.00  0.00  0.00  0.25  0.25  ...  0.00   \n",
       "10  0.00  0.00  0.00  0.00  0.00  0.25  0.00  0.00  0.00  0.00  ...  0.25   \n",
       "11  0.00  0.00  0.00  0.00  0.00  0.00  0.25  0.00  0.00  0.00  ...  0.00   \n",
       "12  0.00  0.00  0.00  0.00  0.00  0.00  0.00  0.25  0.00  0.00  ...  0.00   \n",
       "13  0.00  0.00  0.00  0.00  0.00  0.00  0.00  0.00  0.25  0.00  ...  0.00   \n",
       "14  0.00  0.00  0.00  0.00  0.00  0.00  0.00  0.00  0.00  0.25  ...  0.00   \n",
       "15  0.00  0.00  0.00  0.00  0.00  0.00  0.00  0.00  0.00  0.00  ...  0.25   \n",
       "16  0.00  0.00  0.00  0.00  0.00  0.00  0.00  0.00  0.00  0.00  ...  0.25   \n",
       "17  0.00  0.00  0.00  0.00  0.00  0.00  0.00  0.00  0.00  0.00  ...  0.00   \n",
       "18  0.00  0.00  0.00  0.00  0.00  0.00  0.00  0.00  0.00  0.00  ...  0.00   \n",
       "19  0.00  0.00  0.00  0.00  0.00  0.00  0.00  0.00  0.00  0.00  ...  0.00   \n",
       "20  0.00  0.00  0.00  0.00  0.00  0.00  0.00  0.00  0.00  0.00  ...  0.25   \n",
       "21  0.00  0.00  0.00  0.00  0.00  0.00  0.00  0.00  0.00  0.00  ...  0.00   \n",
       "22  0.00  0.00  0.00  0.00  0.00  0.00  0.00  0.00  0.00  0.00  ...  0.00   \n",
       "23  0.00  0.00  0.00  0.00  0.00  0.00  0.00  0.00  0.00  0.00  ...  0.00   \n",
       "24  0.00  0.00  0.00  0.00  0.00  0.00  0.00  0.00  0.00  0.00  ...  0.00   \n",
       "\n",
       "      16    17    18    19    20    21    22    23    24  \n",
       "0   0.00  0.00  0.00  0.00  0.00  0.00  0.00  0.00  0.00  \n",
       "1   0.00  0.00  0.00  0.00  0.00  0.00  0.00  0.00  0.00  \n",
       "2   0.00  0.00  0.00  0.00  0.00  0.00  0.00  0.00  0.00  \n",
       "3   0.00  0.00  0.00  0.00  0.00  0.00  0.00  0.00  0.00  \n",
       "4   0.00  0.00  0.00  0.00  0.00  0.00  0.00  0.00  0.00  \n",
       "5   0.00  0.00  0.00  0.00  0.00  0.00  0.00  0.00  0.00  \n",
       "6   0.00  0.00  0.00  0.00  0.00  0.00  0.00  0.00  0.00  \n",
       "7   0.00  0.00  0.00  0.00  0.00  0.00  0.00  0.00  0.00  \n",
       "8   0.00  0.00  0.00  0.00  0.00  0.00  0.00  0.00  0.00  \n",
       "9   0.00  0.00  0.00  0.00  0.00  0.00  0.00  0.00  0.00  \n",
       "10  0.00  0.00  0.00  0.00  0.00  0.00  0.00  0.00  0.00  \n",
       "11  0.25  0.00  0.00  0.00  0.00  0.00  0.00  0.00  0.00  \n",
       "12  0.00  0.25  0.00  0.00  0.00  0.00  0.00  0.00  0.00  \n",
       "13  0.00  0.00  0.25  0.00  0.00  0.00  0.00  0.00  0.00  \n",
       "14  0.00  0.00  0.00  0.25  0.00  0.00  0.00  0.00  0.00  \n",
       "15  0.25  0.00  0.00  0.00  0.25  0.00  0.00  0.00  0.00  \n",
       "16  0.00  0.25  0.00  0.00  0.00  0.25  0.00  0.00  0.00  \n",
       "17  0.25  0.00  0.25  0.00  0.00  0.00  0.25  0.00  0.00  \n",
       "18  0.00  0.25  0.00  0.25  0.00  0.00  0.00  0.25  0.00  \n",
       "19  0.00  0.00  0.25  0.25  0.00  0.00  0.00  0.00  0.25  \n",
       "20  0.00  0.00  0.00  0.00  0.50  0.25  0.00  0.00  0.00  \n",
       "21  0.25  0.00  0.00  0.00  0.25  0.25  0.25  0.00  0.00  \n",
       "22  0.00  0.25  0.00  0.00  0.00  0.25  0.25  0.25  0.00  \n",
       "23  0.00  0.00  0.25  0.00  0.00  0.00  0.25  0.25  0.25  \n",
       "24  0.00  0.00  0.00  0.00  0.00  0.00  0.00  0.00  1.00  \n",
       "\n",
       "[25 rows x 25 columns]"
      ]
     },
     "execution_count": 10,
     "metadata": {},
     "output_type": "execute_result"
    }
   ],
   "source": [
    "df = pd.DataFrame(dp_agent.get_p_pi(dp_agent.policy))\n",
    "df"
   ]
  },
  {
   "cell_type": "markdown",
   "metadata": {},
   "source": [
    "## 드디어 정책 평가 알고리즘!\n",
    "\n",
    "```python\n",
    "def policy_evaluation(self, policy=None, v_init=None):\n",
    "    \"\"\"\n",
    "    :param policy: policy to evaluate (optional)\n",
    "    :param v_init: initial value 'guesstimation' (optional)\n",
    "    :return: v_pi: value function of the input policy\n",
    "    \"\"\"\n",
    "    if policy is None:\n",
    "        policy = self.policy\n",
    "\n",
    "    r_pi = self.get_r_pi(policy)  # [num. states x 1]\n",
    "    p_pi = self.get_p_pi(policy)  # [num. states x num. states]\n",
    "\n",
    "    if v_init is None:\n",
    "        v_old = np.zeros(self.ns)\n",
    "    else:\n",
    "        v_old = v_init\n",
    "\n",
    "    while True:\n",
    "        # perform Bellman expectation backup\n",
    "        v_new = r_pi + self.gamma * np.matmul(p_pi, v_old)\n",
    "\n",
    "        # check convergence\n",
    "        bellman_error = np.linalg.norm(v_new - v_old)\n",
    "        if bellman_error <= self.error_tol:\n",
    "            break\n",
    "        else:\n",
    "            v_old = v_new\n",
    "    return v_new\n",
    "```"
   ]
  },
  {
   "cell_type": "markdown",
   "metadata": {},
   "source": [
    "## 랜덤 정책함수로 `dp_agent`의 정책 초기화하기\n",
    "\n",
    "랜덤 정책함수로 `dp_agent` 의 정책함수를 초기화 하였습니다. 한번 확인해볼까요?"
   ]
  },
  {
   "cell_type": "code",
   "execution_count": 11,
   "metadata": {},
   "outputs": [
    {
     "name": "stdout",
     "output_type": "stream",
     "text": [
      "===== 정책함수 스펙 =====\n",
      "state dimension: 25\n",
      "action dimension: 4 \n",
      "\n",
      "===== 정책함수 =====\n",
      "[[0.25 0.25 0.25 0.25]\n",
      " [0.25 0.25 0.25 0.25]\n",
      " [0.25 0.25 0.25 0.25]\n",
      " [0.25 0.25 0.25 0.25]\n",
      " [0.25 0.25 0.25 0.25]\n",
      " [0.25 0.25 0.25 0.25]\n",
      " [0.25 0.25 0.25 0.25]\n",
      " [0.25 0.25 0.25 0.25]\n",
      " [0.25 0.25 0.25 0.25]\n",
      " [0.25 0.25 0.25 0.25]\n",
      " [0.25 0.25 0.25 0.25]\n",
      " [0.25 0.25 0.25 0.25]\n",
      " [0.25 0.25 0.25 0.25]\n",
      " [0.25 0.25 0.25 0.25]\n",
      " [0.25 0.25 0.25 0.25]\n",
      " [0.25 0.25 0.25 0.25]\n",
      " [0.25 0.25 0.25 0.25]\n",
      " [0.25 0.25 0.25 0.25]\n",
      " [0.25 0.25 0.25 0.25]\n",
      " [0.25 0.25 0.25 0.25]\n",
      " [0.25 0.25 0.25 0.25]\n",
      " [0.25 0.25 0.25 0.25]\n",
      " [0.25 0.25 0.25 0.25]\n",
      " [0.25 0.25 0.25 0.25]\n",
      " [0.25 0.25 0.25 0.25]]\n"
     ]
    }
   ],
   "source": [
    "policy_state_dim = dp_agent.policy.shape[0]\n",
    "policy_action_dim = dp_agent.policy.shape[1]\n",
    "print(\"===== 정책함수 스펙 =====\")\n",
    "print(\"state dimension: {}\".format(policy_state_dim))\n",
    "print(\"action dimension: {} \\n\".format(policy_action_dim))\n",
    "\n",
    "print(\"===== 정책함수 =====\")\n",
    "print(dp_agent.policy)"
   ]
  },
  {
   "cell_type": "markdown",
   "metadata": {},
   "source": [
    "## 랜덤 정책함수 평가하기\n",
    "\n",
    "앞서 정의한 `policy_evaluation()` 를 활용해 현재 정책인 랜덤 정책에 대한 가치 함수를 추산합니다."
   ]
  },
  {
   "cell_type": "code",
   "execution_count": 12,
   "metadata": {},
   "outputs": [
    {
     "data": {
      "image/png": "[encoded data removed]",
      "text/plain": [
       "<Figure size 864x432 with 3 Axes>"
      ]
     },
     "metadata": {},
     "output_type": "display_data"
    }
   ],
   "source": [
    "v_pi = dp_agent.policy_evaluation()\n",
    "fig, ax = plt.subplots(1,2, figsize=(12,6))\n",
    "visualize_value_function(ax[0], v_pi, nx, ny)\n",
    "_ = ax[0].set_title(\"Value pi\")\n",
    "visualize_policy(ax[1], dp_agent.policy, nx, ny)\n",
    "_ = ax[1].set_title(\"Policy\")\n",
    "\n",
    "v_old = v_pi # 정책 개선 정리에 대해 설명할때 사용"
   ]
  },
  {
   "cell_type": "markdown",
   "metadata": {},
   "source": [
    "## \"내 정책은 조금 전의 정책보다 개선된다!\" 정책 개선\n",
    "\n",
    "`policy_improvement()` 를 활용해 greedy policy improvement 를 수행합니다.\n",
    "\n",
    "> Greedy 정책개선\n",
    "> 1. $V^{\\pi}(s)$ 와 $P$, $R$ 를 이용해 $Q^{\\pi}(s,a)$ 를 계산한다. <br>\n",
    "$$Q^\\pi(s,a) = R_s^{a} + \\gamma \\Sigma_{s' \\in \\cal{S}}P_{ss'}^aV^{\\pi}(s')$$\n",
    "\n",
    "> 2. 개선된 정책 $\\pi'(a|s)$ 을 가장 높은 $Q^{\\pi}(s,a)$ 값을 주는 $a$ 에 대해서 1로 설정.\n",
    "나머지는 0.0\n",
    "\n",
    "파이썬 구현체를 한번 살펴보죠\n",
    "```python\n",
    "    def policy_improvement(self, policy=None, v_pi=None):\n",
    "        if policy is None:\n",
    "            policy = self.policy\n",
    "\n",
    "        if v_pi is None:\n",
    "            v_pi = self.policy_evaluation(policy)\n",
    "\n",
    "        # (1) Compute Q_pi(s,a) from V_pi(s)\n",
    "        r_pi = self.get_r_pi(policy)\n",
    "        q_pi = r_pi + self.P.dot(v_pi)\n",
    "\n",
    "        # (2) Greedy improvement\n",
    "        policy_improved = np.zeros_like(policy)\n",
    "        policy_improved[np.arange(q_pi.shape[1]), q_pi.argmax(axis=0)] = 1\n",
    "        return policy_improved\n",
    "```\n",
    "\n",
    "> `policy_improved = np.zeros_like(policy)`  <br>\n",
    "개선된 정책 $\\pi'$ 는 선택될 action (특정 $s$ 에 대해 가장 큰 $Q(s,a)$를 만족하는 $a$) 이외에는 값이 0 이기 때문에 0으로 초기화 합니다.\n",
    "\n",
    "> `policy_improved[np.arange(q_pi.shape[1]), q_pi.argmax(axis=0)] = 1` <br>\n",
    "특정 $s$에 대해 가장 큰 $Q(s,a)$를 만족하는 $a$ 만을 1.0 으로 설정합니다."
   ]
  },
  {
   "cell_type": "code",
   "execution_count": 15,
   "metadata": {},
   "outputs": [
    {
     "data": {
      "text/plain": [
       "array([ 0., -1., -1., -1., -1., -1., -1., -1., -1., -1., -1., -1., -1.,\n",
       "       -1., -1., -1., -1., -1., -1., -1., -1., -1., -1., -1.,  0.])"
      ]
     },
     "execution_count": 15,
     "metadata": {},
     "output_type": "execute_result"
    }
   ],
   "source": [
    "r_pi = dp_agent.get_r_pi(policy)\n",
    "r_pi"
   ]
  },
  {
   "cell_type": "code",
   "execution_count": 16,
   "metadata": {},
   "outputs": [
    {
     "data": {
      "text/plain": [
       "array([  0.        , -22.99995448, -34.33326343, -39.66658444,\n",
       "       -41.66657955, -22.99995448, -30.66660512, -36.33325922,\n",
       "       -38.99991957, -39.66658444, -34.33326343, -36.33325922,\n",
       "       -37.33325708, -36.33325922, -34.33326343, -39.66658444,\n",
       "       -38.99991957, -36.33325922, -30.66660512, -22.99995448,\n",
       "       -41.66657955, -39.66658444, -34.33326343, -22.99995448,\n",
       "         0.        ])"
      ]
     },
     "execution_count": 16,
     "metadata": {},
     "output_type": "execute_result"
    }
   ],
   "source": [
    "v_pi"
   ]
  },
  {
   "cell_type": "code",
   "execution_count": 17,
   "metadata": {},
   "outputs": [
    {
     "data": {
      "text/plain": [
       "(25,)"
      ]
     },
     "execution_count": 17,
     "metadata": {},
     "output_type": "execute_result"
    }
   ],
   "source": [
    "r_pi.shape"
   ]
  },
  {
   "cell_type": "code",
   "execution_count": 18,
   "metadata": {},
   "outputs": [
    {
     "data": {
      "text/plain": [
       "(25,)"
      ]
     },
     "execution_count": 18,
     "metadata": {},
     "output_type": "execute_result"
    }
   ],
   "source": [
    "v_pi.shape"
   ]
  },
  {
   "cell_type": "code",
   "execution_count": 20,
   "metadata": {},
   "outputs": [
    {
     "data": {
      "text/plain": [
       "(4, 25, 25)"
      ]
     },
     "execution_count": 20,
     "metadata": {},
     "output_type": "execute_result"
    }
   ],
   "source": [
    "P = dp_agent.P\n",
    "P.shape"
   ]
  },
  {
   "cell_type": "code",
   "execution_count": 26,
   "metadata": {},
   "outputs": [
    {
     "data": {
      "text/plain": [
       "array([ 0., -1., -1., -1., -1., -1., -1., -1., -1., -1., -1., -1., -1.,\n",
       "       -1., -1., -1., -1., -1., -1., -1., -1., -1., -1., -1.,  0.])"
      ]
     },
     "execution_count": 26,
     "metadata": {},
     "output_type": "execute_result"
    }
   ],
   "source": [
    "r_pi"
   ]
  },
  {
   "cell_type": "code",
   "execution_count": 25,
   "metadata": {},
   "outputs": [
    {
     "data": {
      "text/plain": [
       "array([[  0.        , -22.99995448, -34.33326343, -39.66658444,\n",
       "        -41.66657955,   0.        , -22.99995448, -34.33326343,\n",
       "        -39.66658444, -41.66657955, -22.99995448, -30.66660512,\n",
       "        -36.33325922, -38.99991957, -39.66658444, -34.33326343,\n",
       "        -36.33325922, -37.33325708, -36.33325922, -34.33326343,\n",
       "        -39.66658444, -38.99991957, -36.33325922, -30.66660512,\n",
       "          0.        ],\n",
       "       [  0.        , -34.33326343, -39.66658444, -41.66657955,\n",
       "        -41.66657955, -30.66660512, -36.33325922, -38.99991957,\n",
       "        -39.66658444, -39.66658444, -36.33325922, -37.33325708,\n",
       "        -36.33325922, -34.33326343, -34.33326343, -38.99991957,\n",
       "        -36.33325922, -30.66660512, -22.99995448, -22.99995448,\n",
       "        -39.66658444, -34.33326343, -22.99995448,   0.        ,\n",
       "          0.        ],\n",
       "       [  0.        , -30.66660512, -36.33325922, -38.99991957,\n",
       "        -39.66658444, -34.33326343, -36.33325922, -37.33325708,\n",
       "        -36.33325922, -34.33326343, -39.66658444, -38.99991957,\n",
       "        -36.33325922, -30.66660512, -22.99995448, -41.66657955,\n",
       "        -39.66658444, -34.33326343, -22.99995448,   0.        ,\n",
       "        -41.66657955, -39.66658444, -34.33326343, -22.99995448,\n",
       "          0.        ],\n",
       "       [  0.        ,   0.        , -22.99995448, -34.33326343,\n",
       "        -39.66658444, -22.99995448, -22.99995448, -30.66660512,\n",
       "        -36.33325922, -38.99991957, -34.33326343, -34.33326343,\n",
       "        -36.33325922, -37.33325708, -36.33325922, -39.66658444,\n",
       "        -39.66658444, -38.99991957, -36.33325922, -30.66660512,\n",
       "        -41.66657955, -41.66657955, -39.66658444, -34.33326343,\n",
       "          0.        ]])"
      ]
     },
     "execution_count": 25,
     "metadata": {},
     "output_type": "execute_result"
    }
   ],
   "source": [
    "P.dot(v_pi)"
   ]
  },
  {
   "cell_type": "code",
   "execution_count": 28,
   "metadata": {},
   "outputs": [
    {
     "data": {
      "text/plain": [
       "array([[  0.        , -23.99995448, -35.33326343, -40.66658444,\n",
       "        -42.66657955,  -1.        , -23.99995448, -35.33326343,\n",
       "        -40.66658444, -42.66657955, -23.99995448, -31.66660512,\n",
       "        -37.33325922, -39.99991957, -40.66658444, -35.33326343,\n",
       "        -37.33325922, -38.33325708, -37.33325922, -35.33326343,\n",
       "        -40.66658444, -39.99991957, -37.33325922, -31.66660512,\n",
       "          0.        ],\n",
       "       [  0.        , -35.33326343, -40.66658444, -42.66657955,\n",
       "        -42.66657955, -31.66660512, -37.33325922, -39.99991957,\n",
       "        -40.66658444, -40.66658444, -37.33325922, -38.33325708,\n",
       "        -37.33325922, -35.33326343, -35.33326343, -39.99991957,\n",
       "        -37.33325922, -31.66660512, -23.99995448, -23.99995448,\n",
       "        -40.66658444, -35.33326343, -23.99995448,  -1.        ,\n",
       "          0.        ],\n",
       "       [  0.        , -31.66660512, -37.33325922, -39.99991957,\n",
       "        -40.66658444, -35.33326343, -37.33325922, -38.33325708,\n",
       "        -37.33325922, -35.33326343, -40.66658444, -39.99991957,\n",
       "        -37.33325922, -31.66660512, -23.99995448, -42.66657955,\n",
       "        -40.66658444, -35.33326343, -23.99995448,  -1.        ,\n",
       "        -42.66657955, -40.66658444, -35.33326343, -23.99995448,\n",
       "          0.        ],\n",
       "       [  0.        ,  -1.        , -23.99995448, -35.33326343,\n",
       "        -40.66658444, -23.99995448, -23.99995448, -31.66660512,\n",
       "        -37.33325922, -39.99991957, -35.33326343, -35.33326343,\n",
       "        -37.33325922, -38.33325708, -37.33325922, -40.66658444,\n",
       "        -40.66658444, -39.99991957, -37.33325922, -31.66660512,\n",
       "        -42.66657955, -42.66657955, -40.66658444, -35.33326343,\n",
       "          0.        ]])"
      ]
     },
     "execution_count": 28,
     "metadata": {},
     "output_type": "execute_result"
    }
   ],
   "source": [
    "r_pi + P.dot(v_pi)"
   ]
  },
  {
   "cell_type": "markdown",
   "metadata": {},
   "source": [
    "### Numpy 의 `argmax` 와 `advance indexing`\n",
    "\n",
    "정책 개선을 구현하기 위해 조금 헷갈릴수 있는 트릭을 활용하였습니다. 본격적인 설명으로 넘어가기 전에\n",
    "어떤 일이 벌어졌는지 예시를 들어 확인해보겠습니다. \n",
    "> 상태의 종류가 2개이고 가능한 행동이 3개인 간단한 MDP를 생각해봅시다."
   ]
  },
  {
   "cell_type": "code",
   "execution_count": 14,
   "metadata": {},
   "outputs": [
    {
     "name": "stdout",
     "output_type": "stream",
     "text": [
      "[[1 2 3]\n",
      " [3 2 1]]\n"
     ]
    }
   ],
   "source": [
    "Q = np.array([[1,2,3], [3,2,1]]) # [2 x 3] Q values.\n",
    "print(Q)"
   ]
  },
  {
   "cell_type": "markdown",
   "metadata": {},
   "source": [
    "우리가 원하는것은 각 상태 $s$ (row) 에 대해 최댓값을 주는 행동 $a$의 index 입니다."
   ]
  },
  {
   "cell_type": "code",
   "execution_count": 15,
   "metadata": {},
   "outputs": [
    {
     "data": {
      "text/plain": [
       "array([2, 0], dtype=int64)"
      ]
     },
     "execution_count": 15,
     "metadata": {},
     "output_type": "execute_result"
    }
   ],
   "source": [
    "a_max = Q.argmax(axis=-1) # 마지막 축 (axis) 에 대해 argmax 를 구하면?\n",
    "a_max # 파이썬은 숫자를 0부터 셉니다!"
   ]
  },
  {
   "cell_type": "code",
   "execution_count": 16,
   "metadata": {},
   "outputs": [
    {
     "name": "stdout",
     "output_type": "stream",
     "text": [
      "Initialized policy\n",
      "[[0. 0. 0.]\n",
      " [0. 0. 0.]]\n",
      "set policy for the first state\n",
      "[[0. 0. 1.]\n",
      " [0. 0. 0.]]\n",
      "set policy for the second state\n",
      "[[0. 0. 1.]\n",
      " [1. 0. 0.]]\n"
     ]
    }
   ],
   "source": [
    "policy_improved = np.zeros(shape=(2, 3))\n",
    "print(\"Initialized policy\")\n",
    "print(policy_improved)\n",
    "\n",
    "policy_improved[0, a_max[0]] = 1\n",
    "print(\"set policy for the first state\")\n",
    "print(policy_improved)\n",
    "\n",
    "\n",
    "policy_improved[1, a_max[1]] = 1\n",
    "print(\"set policy for the second state\")\n",
    "print(policy_improved)"
   ]
  },
  {
   "cell_type": "markdown",
   "metadata": {},
   "source": [
    "하지만 `numpy`의 indexing 을 활용하면 위의 코드를 한줄로 표현할수 있습니다."
   ]
  },
  {
   "cell_type": "code",
   "execution_count": 17,
   "metadata": {},
   "outputs": [
    {
     "name": "stdout",
     "output_type": "stream",
     "text": [
      "Initialized policy\n",
      "[[0. 0. 0.]\n",
      " [0. 0. 0.]]\n",
      "Policy improvement\n",
      "[[0. 0. 1.]\n",
      " [1. 0. 0.]]\n"
     ]
    }
   ],
   "source": [
    "policy_improved = np.zeros(shape=(2, 3))\n",
    "print(\"Initialized policy\")\n",
    "print(policy_improved)\n",
    "\n",
    "policy_improved[(0,1),(a_max[0],a_max[1])] = 1\n",
    "print(\"Policy improvement\")\n",
    "print(policy_improved)"
   ]
  },
  {
   "cell_type": "markdown",
   "metadata": {},
   "source": [
    "## Mini HW\n",
    "\n",
    "`policy_improved[np.arange(q_pi.shape[1]), q_pi.argmax(axis=0)] = 1`를 실습 해보세요."
   ]
  },
  {
   "cell_type": "code",
   "execution_count": 18,
   "metadata": {},
   "outputs": [],
   "source": [
    "p_new = dp_agent.policy_improvement()\n",
    "dp_agent.set_policy(p_new) # DP agent 의 정책을 개선된 정책 `p_new`로 설정"
   ]
  },
  {
   "cell_type": "markdown",
   "metadata": {},
   "source": [
    "### 개선된 정책 확인하기"
   ]
  },
  {
   "cell_type": "code",
   "execution_count": 19,
   "metadata": {},
   "outputs": [
    {
     "name": "stdout",
     "output_type": "stream",
     "text": [
      "===== 정책함수 스펙 =====\n",
      "state dimension: 25\n",
      "action dimension: 4 \n",
      "\n",
      "===== 정책함수 =====\n",
      "[[1. 0. 0. 0.]\n",
      " [0. 0. 0. 1.]\n",
      " [0. 0. 0. 1.]\n",
      " [0. 0. 0. 1.]\n",
      " [0. 0. 1. 0.]\n",
      " [1. 0. 0. 0.]\n",
      " [1. 0. 0. 0.]\n",
      " [0. 0. 0. 1.]\n",
      " [0. 0. 1. 0.]\n",
      " [0. 0. 1. 0.]\n",
      " [1. 0. 0. 0.]\n",
      " [1. 0. 0. 0.]\n",
      " [1. 0. 0. 0.]\n",
      " [0. 0. 1. 0.]\n",
      " [0. 0. 1. 0.]\n",
      " [1. 0. 0. 0.]\n",
      " [1. 0. 0. 0.]\n",
      " [0. 1. 0. 0.]\n",
      " [0. 1. 0. 0.]\n",
      " [0. 0. 1. 0.]\n",
      " [1. 0. 0. 0.]\n",
      " [0. 1. 0. 0.]\n",
      " [0. 1. 0. 0.]\n",
      " [0. 1. 0. 0.]\n",
      " [1. 0. 0. 0.]]\n"
     ]
    }
   ],
   "source": [
    "policy_state_dim = dp_agent.policy.shape[0]\n",
    "policy_action_dim = dp_agent.policy.shape[1]\n",
    "print(\"===== 정책함수 스펙 =====\")\n",
    "print(\"state dimension: {}\".format(policy_state_dim))\n",
    "print(\"action dimension: {} \\n\".format(policy_action_dim))\n",
    "\n",
    "print(\"===== 정책함수 =====\")\n",
    "print(dp_agent.policy)"
   ]
  },
  {
   "cell_type": "code",
   "execution_count": 20,
   "metadata": {},
   "outputs": [
    {
     "data": {
      "image/png": "[encoded data removed]",
      "text/plain": [
       "<Figure size 864x432 with 3 Axes>"
      ]
     },
     "metadata": {},
     "output_type": "display_data"
    }
   ],
   "source": [
    "v_pi = dp_agent.policy_evaluation()\n",
    "fig, ax = plt.subplots(1,2, figsize=(12,6))\n",
    "visualize_value_function(ax[0], v_pi, nx, ny)\n",
    "_ = ax[0].set_title(\"Value pi\")\n",
    "visualize_policy(ax[1], dp_agent.policy, nx, ny)\n",
    "_ = ax[1].set_title(\"Policy\")\n",
    "\n",
    "v_new = v_pi # 개선된 정책에 대한 가치함수"
   ]
  },
  {
   "cell_type": "markdown",
   "metadata": {},
   "source": [
    "## 정책개선 정리 결과 확인해보기\n",
    "\n",
    "__정책개선 정리__ : 정책 개선 정리를 활용해 구해진 $\\pi'$과 개선전 정책 $\\pi$는 다음의 관계를 만족한다.\n",
    "$$\\pi' \\geq \\pi$$\n",
    "\n",
    "$$\\pi' \\geq \\pi \\leftrightarrow V_{\\pi'}(s) \\geq V_{\\pi}(s) \\forall s \\in S$$"
   ]
  },
  {
   "cell_type": "code",
   "execution_count": 21,
   "metadata": {},
   "outputs": [],
   "source": [
    "delta_v = v_new - v_old"
   ]
  },
  {
   "cell_type": "code",
   "execution_count": 22,
   "metadata": {},
   "outputs": [
    {
     "data": {
      "text/plain": [
       "array([ 0.        , 21.99995448, 32.33326343, 36.66658444, 37.66657955,\n",
       "       21.99995448, 28.66660512, 33.33325922, 34.99991957, 36.66658444,\n",
       "       32.33326343, 33.33325922, 33.33325708, 33.33325922, 32.33326343,\n",
       "       36.66658444, 34.99991957, 33.33325922, 28.66660512, 21.99995448,\n",
       "       37.66657955, 36.66658444, 32.33326343, 21.99995448,  0.        ])"
      ]
     },
     "execution_count": 22,
     "metadata": {},
     "output_type": "execute_result"
    }
   ],
   "source": [
    "delta_v"
   ]
  }
 ],
 "metadata": {
  "kernelspec": {
   "display_name": "Python 3",
   "language": "python",
   "name": "python3"
  },
  "language_info": {
   "codemirror_mode": {
    "name": "ipython",
    "version": 3
   },
   "file_extension": ".py",
   "mimetype": "text/x-python",
   "name": "python",
   "nbconvert_exporter": "python",
   "pygments_lexer": "ipython3",
   "version": "3.8.5"
  }
 },
 "nbformat": 4,
 "nbformat_minor": 4
}
