{
 "cells": [
  {
   "cell_type": "code",
   "execution_count": 1,
   "metadata": {},
   "outputs": [],
   "source": [
    "import pandas as pd\n",
    "from selenium import webdriver\n",
    "from selenium.webdriver.common.by import By\n",
    "from selenium.webdriver.chrome.options import Options\n",
    "from selenium.webdriver.support.ui import WebDriverWait\n",
    "from selenium.webdriver.support import expected_conditions as EC\n",
    "from selenium.webdriver.common.keys import Keys\n",
    "import time"
   ]
  },
  {
   "cell_type": "code",
   "execution_count": 2,
   "metadata": {},
   "outputs": [],
   "source": [
    "raw_data1 = pd.read_csv(\"naver scraper temp_1-197.csv\", encoding=\"euc-kr\", index_col=0, float_precision=\"round_trip\")\n",
    "raw_data2 = pd.read_csv(\"D:/☆디지털혁신팀/☆실거래가 분석/☆데이터/☆미가공 데이터/미가공 데이터_청주시 및 주변 영화관_200724.csv\", encoding=\"utf-8\", index_col=0, float_precision=\"round_trip\")"
   ]
  },
  {
   "cell_type": "code",
   "execution_count": 3,
   "metadata": {},
   "outputs": [],
   "source": [
    "data1 = raw_data1[[\"아이디\", \"위도\", \"경도\"]]\n",
    "data2 = raw_data2"
   ]
  },
  {
   "cell_type": "code",
   "execution_count": 4,
   "metadata": {},
   "outputs": [
    {
     "data": {
      "text/html": [
       "<div>\n",
       "<style scoped>\n",
       "    .dataframe tbody tr th:only-of-type {\n",
       "        vertical-align: middle;\n",
       "    }\n",
       "\n",
       "    .dataframe tbody tr th {\n",
       "        vertical-align: top;\n",
       "    }\n",
       "\n",
       "    .dataframe thead th {\n",
       "        text-align: right;\n",
       "    }\n",
       "</style>\n",
       "<table border=\"1\" class=\"dataframe\">\n",
       "  <thead>\n",
       "    <tr style=\"text-align: right;\">\n",
       "      <th></th>\n",
       "      <th>아이디</th>\n",
       "      <th>위도</th>\n",
       "      <th>경도</th>\n",
       "    </tr>\n",
       "  </thead>\n",
       "  <tbody>\n",
       "    <tr>\n",
       "      <th>476</th>\n",
       "      <td>135</td>\n",
       "      <td>37.496538</td>\n",
       "      <td>127.059121</td>\n",
       "    </tr>\n",
       "  </tbody>\n",
       "</table>\n",
       "</div>"
      ],
      "text/plain": [
       "     아이디         위도          경도\n",
       "476  135  37.496538  127.059121"
      ]
     },
     "execution_count": 4,
     "metadata": {},
     "output_type": "execute_result"
    }
   ],
   "source": [
    "data1.sample()"
   ]
  },
  {
   "cell_type": "code",
   "execution_count": 5,
   "metadata": {},
   "outputs": [
    {
     "data": {
      "text/html": [
       "<div>\n",
       "<style scoped>\n",
       "    .dataframe tbody tr th:only-of-type {\n",
       "        vertical-align: middle;\n",
       "    }\n",
       "\n",
       "    .dataframe tbody tr th {\n",
       "        vertical-align: top;\n",
       "    }\n",
       "\n",
       "    .dataframe thead th {\n",
       "        text-align: right;\n",
       "    }\n",
       "</style>\n",
       "<table border=\"1\" class=\"dataframe\">\n",
       "  <thead>\n",
       "    <tr style=\"text-align: right;\">\n",
       "      <th></th>\n",
       "      <th>cinema</th>\n",
       "      <th>lat</th>\n",
       "      <th>lon</th>\n",
       "    </tr>\n",
       "  </thead>\n",
       "  <tbody>\n",
       "    <tr>\n",
       "      <th>8</th>\n",
       "      <td>CGV세종</td>\n",
       "      <td>36.502623</td>\n",
       "      <td>127.247644</td>\n",
       "    </tr>\n",
       "  </tbody>\n",
       "</table>\n",
       "</div>"
      ],
      "text/plain": [
       "  cinema        lat         lon\n",
       "8  CGV세종  36.502623  127.247644"
      ]
     },
     "execution_count": 5,
     "metadata": {},
     "output_type": "execute_result"
    }
   ],
   "source": [
    "data2.sample()"
   ]
  },
  {
   "cell_type": "code",
   "execution_count": 6,
   "metadata": {},
   "outputs": [],
   "source": [
    "driver = webdriver.Chrome(\"chromedriver.exe\")"
   ]
  },
  {
   "cell_type": "code",
   "execution_count": null,
   "metadata": {
    "scrolled": true
   },
   "outputs": [],
   "source": [
    "df = pd.DataFrame(columns=[\"addr1\", \"addr2\", \"dist\"])\n",
    "for _, row1 in data1.iterrows():\n",
    "    for _, row2 in data2.iterrows():\n",
    "        try:\n",
    "            dep = f\"{row1['위도']}, {row1['경도']}\"\n",
    "            arr = f\"{row2['lat']}, {row2['lon']}\"\n",
    "\n",
    "            #\"지도 홈\"에 접속합니다.\n",
    "            url1 = \"https://map.naver.com/v5/search?c=14185061.3951766,4388337.5673965,12,0,0,0,dh\"\n",
    "            driver.get(url1)\n",
    "\n",
    "            #돋보기 버튼을 기다립니다.\n",
    "            WebDriverWait(driver, 5).until(EC.presence_of_element_located((By.XPATH, \"//*[@id='container']/shrinkable-layout/div/app-base/search-input-box/div/div/button\")))\n",
    "            #dep을 입력하고 엔터를 입력합니다.\n",
    "            driver.find_element_by_class_name(\"input_search\").send_keys(dep)\n",
    "            driver.find_element_by_class_name(\"input_search\").send_keys(Keys.ENTER)\n",
    "\n",
    "            #주소를 기다린 후 출력되면 addr1에 저장합니다.\n",
    "            WebDriverWait(driver, 5).until(EC.presence_of_element_located((By.XPATH, \"//*[@id='container']/shrinkable-layout/div/app-base/entry-layout/entry-address/div/div[2]/div/div[1]/div[1]/div/strong\")))\n",
    "            addr1 = driver.find_element_by_xpath(\"//*[@id='container']/shrinkable-layout/div/app-base/entry-layout/entry-address/div/div[2]/div/div[1]/div[1]/div/strong\").text\n",
    "\n",
    "            #\"지도 홈\"에 접속합니다.\n",
    "            driver.get(url1)\n",
    "\n",
    "            #돋보기 버튼을 기다립니다.\n",
    "            WebDriverWait(driver, 5).until(EC.presence_of_element_located((By.XPATH, \"//*[@id='container']/shrinkable-layout/div/app-base/search-input-box/div/div/button\")))\n",
    "            #arr을 입력하고 엔터를 입력합니다.\n",
    "            driver.find_element_by_class_name(\"input_search\").send_keys(arr)\n",
    "            driver.find_element_by_class_name(\"input_search\").send_keys(Keys.ENTER)\n",
    "\n",
    "            #주소를 기다린 후 출력되면 addr2에 저장합니다.\n",
    "            WebDriverWait(driver, 5).until(EC.presence_of_element_located((By.XPATH, \"//*[@id='container']/shrinkable-layout/div/app-base/entry-layout/entry-address/div/div[2]/div/div[1]/div[1]/div/strong\")))\n",
    "            addr2 = driver.find_element_by_xpath(\"//*[@id='container']/shrinkable-layout/div/app-base/entry-layout/entry-address/div/div[2]/div/div[1]/div[1]/div/strong\").text\n",
    "\n",
    "            #\"길찾기\" 페이지에 접속합니다.\n",
    "            url2 = \"https://map.naver.com/v5/directions/-/-/-/car?c=14133144.8150121,4512932.8806473,15,0,0,0,dh\"\n",
    "            driver.get(url2)\n",
    "\n",
    "            #\"출발지 입력\"을 기다립니다.\n",
    "            WebDriverWait(driver, 5).until(EC.presence_of_element_located((By.XPATH, \"//*[@id='directionStart0']\")))\n",
    "            #출발지를 입력하고 엔터를 입력합니다.\n",
    "            driver.find_element_by_xpath(\"//*[@id='directionStart0']\").send_keys(addr1)\n",
    "            driver.find_element_by_xpath(\"//*[@id='directionStart0']\").send_keys(Keys.ENTER)\n",
    "    \n",
    "            time.sleep(1)\n",
    "            #도착지를 입력하고 엔터를 입력합니다.\n",
    "            driver.find_element_by_xpath(\"//*[@id='directionGoal1']\").send_keys(addr2)\n",
    "            driver.find_element_by_xpath(\"//*[@id='directionGoal1']\").send_keys(Keys.ENTER)\n",
    "\n",
    "            #도착지가 출력될 때까지 기다립니다.\n",
    "            WebDriverWait(driver, 5).until(EC.presence_of_element_located((By.XPATH, \"//*[@id='container']/shrinkable-layout/div/directions-layout/directions-result/directions-search-list/search-list/search-list-contents/perfect-scrollbar/div/div[1]/div/div/div/search-item-address/div/div[2]/div[1]/strong/span\")))\n",
    "            #\"길찾기\" 버튼을 클릭합니다.\n",
    "            driver.find_element_by_xpath(\"//*[@id='container']/shrinkable-layout/div/directions-layout/directions-result/div/directions-search/div[2]/button[3]\").click()\n",
    "\n",
    "            #길찾기 결과를 기다립니다.\n",
    "            WebDriverWait(driver, 5).until(EC.presence_of_element_located((By.XPATH, \"//*[@id='container']/shrinkable-layout/div/directions-layout/directions-result/directions-summary-list/directions-hover-scroll/div/div/directions-summary-item-car[1]/div[1]/span[2]/readable-distance\")))\n",
    "            #최적 거리를 dist에 저장합니다.\n",
    "            dist = driver.find_element_by_xpath(\"//*[@id='container']/shrinkable-layout/div/directions-layout/directions-result/directions-summary-list/directions-hover-scroll/div/div/directions-summary-item-car[1]/div[1]/span[2]/readable-distance\").text\n",
    "\n",
    "            df = df.append({\"addr1\":addr1, \"addr2\":addr2, \"dist\":dist}, ignore_index=True)\n",
    "        \n",
    "            df.to_csv(\"naver maps result.csv\", encoding=\"euc-kr\")\n",
    "        except:\n",
    "                continue"
   ]
  },
  {
   "cell_type": "code",
   "execution_count": null,
   "metadata": {},
   "outputs": [],
   "source": []
  }
 ],
 "metadata": {
  "kernelspec": {
   "display_name": "Python 3",
   "language": "python",
   "name": "python3"
  },
  "language_info": {
   "codemirror_mode": {
    "name": "ipython",
    "version": 3
   },
   "file_extension": ".py",
   "mimetype": "text/x-python",
   "name": "python",
   "nbconvert_exporter": "python",
   "pygments_lexer": "ipython3",
   "version": "3.7.7"
  }
 },
 "nbformat": 4,
 "nbformat_minor": 2
}
