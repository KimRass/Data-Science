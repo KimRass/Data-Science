{
 "cells": [
  {
   "cell_type": "markdown",
   "metadata": {},
   "source": [
    "# Feature Engineering for Time Series\n",
    "\n",
    "## 대표적인 시계열 변수추출 방향 7종 (Feature Engineering)\n",
    "\n",
    "> 데이터 과학자로서 이미 수동/자동 변수 생성(Feature Engineering)에 익숙하지만, 신규 변수를 생성하는 것은 분석에서 가장 중요하고 시간이 많이 걸리는 작업 중 하나입니다.\n",
    ">> \"변수 생성시 주의할 점!\"  \n",
    ">> 1) 미래의 실제 종속변수 예측값이 어떤 독립/종속변수의 FE에 의해 효과가 있을지 단정할 수 없음  \n",
    ">> 2) 독립변수의 예측값을 FE를 통해 생성될 수 있지만 이는 종속변수의 예측에 오류증가를 야기할 수 있음  "
   ]
  },
  {
   "cell_type": "markdown",
   "metadata": {},
   "source": [
    "## 빈도(Frequency): 계절성 패턴(Seasonality)이 나타나기 전까지의 데이터 갯수로 사람이 정해야 함 \n",
    "\n",
    "> 빈도 설정을 위한 Python 함수 옵션: \n",
    "\n",
    "| Alias | Description |\n",
    "|--------|-----------------------|\n",
    "| B | Business day |\n",
    "| D | Calendar day |\n",
    "| W | Weekly |\n",
    "| M | Month end |\n",
    "| Q | Quarter end |\n",
    "| A | Year end |\n",
    "| BA | Business year end |\n",
    "| AS | Year start |\n",
    "| H | Hourly frequency |\n",
    "| T, min | Minutely frequency |\n",
    "| S | Secondly frequency |\n",
    "| L, ms | Millisecond frequency |\n",
    "| U, us | Microsecond frequency |\n",
    "| N, ns | Nanosecond frequency |\n",
    "\n",
    "| Method | Description |\n",
    "|---------|-----------------------------------------------------------|\n",
    "| bfill | Backward fill |\n",
    "| count | Count of values |\n",
    "| ffill | Forward fill |\n",
    "| first | First valid data value |\n",
    "| last | Last valid data value |\n",
    "| max | Maximum data value |\n",
    "| mean | Mean of values in time range |\n",
    "| median | Median of values in time range |\n",
    "| min | Minimum data value |\n",
    "| nunique | Number of unique values |\n",
    "| ohlc | Opening value, highest value, lowest value, closing value |\n",
    "| pad | Same as forward fill |\n",
    "| std | Standard deviation of values |\n",
    "| sum | Sum of values |\n",
    "| var | Variance of values |"
   ]
  },
  {
   "cell_type": "markdown",
   "metadata": {},
   "source": [
    "## Trend($T_t$)\n",
    "- Trend is a pattern in data that shows the movement of a series to relatively higher or lower values over a long period of time.\n",
    "- A trend is observed when there is an increasing or decreasing slope in the time series.\n",
    "- Trend usually happens for some time and then disappears, it does not repeat.\n",
    "- 확률과정($Y_t$)이 추정이 가능한 결정론적 추세함수($f(t)$)와 정상확률과정($Y^s_t$)의 합\n",
    "$$\n",
    "Y_t = f(t) + Y^s_t\n",
    "$$"
   ]
  },
  {
   "cell_type": "markdown",
   "metadata": {},
   "source": [
    "## Seasonality($S_t$)\n",
    "- The presence of variations that occur at specific regular intervals less than a year, such as weekly, monthly, or quarterly.\n",
    "- Seasonality may be caused by various factors, such as weather, vacation, and holidays and consists of periodic, repetitive, and generally regular and predictable patterns in the levels of a time series.\n",
    "- Seasonal fluctuations in a time series can be contrasted with cyclical patterns.\n",
    "- 일정한 빈도로 주기적으로 반복되는 패턴($m$), 특정한 달/요일에 따라 기대값이 달라지는 것 \n",
    "- 계설정 반영 방법은 크게 2가지: 수치값 그대로, 발생 시점으로 분리  \n",
    "- 주기적 패턴이 12개월마다 반복($m$ = 12)  \n",
    "<center><img src='Image/Seasonal.png' width='400'></center>"
   ]
  },
  {
   "cell_type": "markdown",
   "metadata": {},
   "source": [
    "## 주기(Cycle, $C_t$): 일정하지 않은 빈도로 발생하는 패턴(계절성) \n",
    "> 빈도가 1인 경우에도 발생 가능($m$ = 1).  \n",
    "<center><img src='Image/Cycle.png' width='400'></center>"
   ]
  },
  {
   "cell_type": "markdown",
   "metadata": {},
   "source": [
    "## 시계열 분해(추세/계절성/잔차(Residual, $e_t$)):\n",
    "<center><img src='Image/Decomposed-into-its-trend-seasonal-and-irregular.png' width='600'></center>\n",
    "\n",
    "- 더미변수(Dummy Variables, $D_i$): 이진수(0 또는 1)의 형태로 변수를 생성하는 것으로 휴일, 이벤트, 캠페인, Outlier 등을 생성 가능\n",
    "    - 생성법:\n",
    "        1. 범주형 변수(Categorical Variable)의 기준값을 미리 결정 (ex. 계절일 경우 봄)\n",
    "        2. 기준값을 제외한 채 더미변수를 생성 (ex. $D_1$ = 여름, $D_2$ = 가을, $D_3$ = 겨울) \n",
    "        2. 각 더미변수의 값을 0 또는 1로 채우며 1은 각 더미변수의 정의와 같음을 의미\n",
    "        \n",
    "> 확실한 패턴이 존재하는 경우에만 효과가 있으며 오히려 모델의 오류를 증가시킬 수 있음 "
   ]
  },
  {
   "cell_type": "markdown",
   "metadata": {},
   "source": [
    "## 지연값(Lagged Variables, $Lag_t(X_1)$): 변수의 지연된 값을 독립변수로 반영하는 것으로,ARIMA/VAR/NNAR 등이 활용  \n",
    "<center><img src='Image/Lag-explanation.PNG' width='400'></center>\n",
    "\n",
    "- 시간변수: 시간변수를 미시/거시 적으로 분리하거나 통합하여 생성된 변수  \n",
    "\n",
    "- 요약:\n",
    "    >- <U>시계열 구성요소는 각 변수의 시간패턴을 파악하는데 중요\n",
    "    >- <U>FE를 통해 생성된 변수의 입력(Input) 형태로 모형 선택을 하는데 필요 \n",
    "    >- <U>생성된 변수의 패턴이 기존 모델에서 반영하지 않던 패턴이라면 예측 성능을 높임 \n",
    "    >- <U>예측성능 향상 뿐 아니라 결과를 해석하고 해당 속성을 분석하며 가능한 원인 식별에 도움"
   ]
  }
 ],
 "metadata": {
  "hide_input": false,
  "kernelspec": {
   "display_name": "Python 3",
   "language": "python",
   "name": "python3"
  },
  "language_info": {
   "codemirror_mode": {
    "name": "ipython",
    "version": 3
   },
   "file_extension": ".py",
   "mimetype": "text/x-python",
   "name": "python",
   "nbconvert_exporter": "python",
   "pygments_lexer": "ipython3",
   "version": "3.8.5"
  },
  "toc": {
   "base_numbering": 1,
   "nav_menu": {},
   "number_sections": true,
   "sideBar": true,
   "skip_h1_title": false,
   "title_cell": "Table of Contents",
   "title_sidebar": "Contents",
   "toc_cell": false,
   "toc_position": {
    "height": "calc(100% - 180px)",
    "left": "10px",
    "top": "150px",
    "width": "504px"
   },
   "toc_section_display": true,
   "toc_window_display": false
  },
  "toc-autonumbering": true,
  "varInspector": {
   "cols": {
    "lenName": 16,
    "lenType": 16,
    "lenVar": 40
   },
   "kernels_config": {
    "python": {
     "delete_cmd_postfix": "",
     "delete_cmd_prefix": "del ",
     "library": "var_list.py",
     "varRefreshCmd": "print(var_dic_list())"
    },
    "r": {
     "delete_cmd_postfix": ") ",
     "delete_cmd_prefix": "rm(",
     "library": "var_list.r",
     "varRefreshCmd": "cat(var_dic_list()) "
    }
   },
   "types_to_exclude": [
    "module",
    "function",
    "builtin_function_or_method",
    "instance",
    "_Feature"
   ],
   "window_display": false
  }
 },
 "nbformat": 4,
 "nbformat_minor": 4
}
