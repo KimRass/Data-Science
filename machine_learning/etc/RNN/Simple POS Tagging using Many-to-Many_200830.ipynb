{
 "cells": [
  {
   "cell_type": "code",
   "execution_count": 178,
   "metadata": {},
   "outputs": [],
   "source": [
    "import tensorflow as tf\n",
    "import numpy as np\n",
    "import matplotlib.pyplot as plt\n",
    "from pprint import pprint"
   ]
  },
  {
   "cell_type": "code",
   "execution_count": 157,
   "metadata": {},
   "outputs": [],
   "source": [
    "sents_join = [\"I feel hungry\", \"tensorflow is very difficult\", \"tensorflow is a framework for deep learning\", \"tensorflow is very fast changing\"]\n",
    "sents = [sent.split(\" \") for sent in sents_join]\n",
    "\n",
    "sents_pos = [[\"pronoun\", \"verb\", \"adjective\"], [\"noun\", \"verb\", \"adverb\", \"adjective\"], [\"noun\", \"verb\", \"determiner\", \"noun\", \"preposition\", \"adjective\", \"noun\"], [\"noun\", \"verb\", \"adverb\", \"adjective\", \"verb\"]]"
   ]
  },
  {
   "cell_type": "code",
   "execution_count": 158,
   "metadata": {},
   "outputs": [
    {
     "data": {
      "text/plain": [
       "[['I', 'feel', 'hungry'],\n",
       " ['tensorflow', 'is', 'very', 'difficult'],\n",
       " ['tensorflow', 'is', 'a', 'framework', 'for', 'deep', 'learning'],\n",
       " ['tensorflow', 'is', 'very', 'fast', 'changing']]"
      ]
     },
     "execution_count": 158,
     "metadata": {},
     "output_type": "execute_result"
    }
   ],
   "source": [
    "sents"
   ]
  },
  {
   "cell_type": "code",
   "execution_count": 159,
   "metadata": {},
   "outputs": [],
   "source": [
    "word_list = sum(sents, [])\n",
    "word_list = [\"<pad>\"] + list(set(word_list))\n",
    "\n",
    "idx2word = {idx:word for idx, word in enumerate(word_list)}\n",
    "word2idx = {word:idx for idx, word in enumerate(word_list)}\n",
    "\n",
    "pos_list = sum(sents_pos, [])\n",
    "pos_list = [\"<pad>\"] + list(set(pos_list))\n",
    "\n",
    "idx2pos = {idx:pos for idx, pos in enumerate(pos_list)}\n",
    "pos2idx = {pos:idx for idx, pos in enumerate(pos_list)}"
   ]
  },
  {
   "cell_type": "code",
   "execution_count": 160,
   "metadata": {},
   "outputs": [],
   "source": [
    "sents_idx = [[word2idx[word] for word in sent] for sent in sents]\n",
    "sents_pos_idx = [[pos2idx[pos] for pos in sent_pos] for sent_pos in sents_pos]\n",
    "\n",
    "max_seq = 10\n",
    "\n",
    "sents_pad = tf.keras.preprocessing.sequence.pad_sequences(sents_idx, max_seq, padding=\"post\", truncating=\"post\", value=0)\n",
    "sents_pos_pad = tf.keras.preprocessing.sequence.pad_sequences(sents_pos_idx, max_seq, padding=\"post\", truncating=\"post\", value=0)\n",
    "\n",
    "sents_mask = np.array(sents_pad!=0, dtype=np.int32)\n",
    "sents_len = [len(sent) for sent in sents]"
   ]
  },
  {
   "cell_type": "code",
   "execution_count": 197,
   "metadata": {},
   "outputs": [],
   "source": [
    "n_cls = len(pos2idx)\n",
    "hid_dim = 10\n",
    "\n",
    "in_dim = len(word2idx)\n",
    "out_dim = len(word2idx)\n",
    "one_hot = np.eye(len(word2idx))\n",
    "\n",
    "model = tf.keras.models.Sequential()\n",
    "model.add(tf.keras.layers.Embedding(in_dim, out_dim, trainable=False, mask_zero=True, input_length=max_seq, embeddings_initializer=tf.keras.initializers.Constant(one_hot)))\n",
    "model.add(tf.keras.layers.SimpleRNN(units=hid_dim, return_sequences=True, return_state=False))\n",
    "model.add(tf.keras.layers.TimeDistributed(tf.keras.layers.Dense(n_cls)))"
   ]
  },
  {
   "cell_type": "code",
   "execution_count": 198,
   "metadata": {},
   "outputs": [
    {
     "name": "stdout",
     "output_type": "stream",
     "text": [
      "Model: \"sequential_5\"\n",
      "_________________________________________________________________\n",
      "Layer (type)                 Output Shape              Param #   \n",
      "=================================================================\n",
      "embedding_4 (Embedding)      (None, 10, 15)            225       \n",
      "_________________________________________________________________\n",
      "simple_rnn_3 (SimpleRNN)     (None, 10, 10)            260       \n",
      "_________________________________________________________________\n",
      "time_distributed_3 (TimeDist (None, 10, 8)             88        \n",
      "=================================================================\n",
      "Total params: 573\n",
      "Trainable params: 348\n",
      "Non-trainable params: 225\n",
      "_________________________________________________________________\n"
     ]
    }
   ],
   "source": [
    "model.summary()"
   ]
  },
  {
   "cell_type": "code",
   "execution_count": 199,
   "metadata": {},
   "outputs": [],
   "source": [
    "def loss_fn(model, sent, sent_pos, sent_len, max_seq):\n",
    "    masking = tf.sequence_mask(sent_len, maxlen=max_seq, dtype=tf.float32)\n",
    "    valid_timestep = tf.cast(sent_len, dtype=tf.float32)\n",
    "    \n",
    "    loss_word = tf.keras.losses.sparse_categorical_crossentropy(y_true=sent_pos, y_pred=model(sent), from_logits=True) * masking\n",
    "    loss_sent = tf.reduce_sum(loss_word, axis=-1) / valid_timestep\n",
    "    loss_tot = tf.reduce_mean(loss_sent, axis=-1)\n",
    "    return loss_tot\n",
    "\n",
    "lr = 0.1\n",
    "epochs = 30\n",
    "batch_size = 2\n",
    "opt = tf.keras.optimizers.Adam(lr)\n",
    "\n",
    "train = tf.data.Dataset.from_tensor_slices((sents_pad, sents_pos_pad, sents_len)).shuffle(len(sents_pad)).batch(batch_size)"
   ]
  },
  {
   "cell_type": "code",
   "execution_count": 200,
   "metadata": {},
   "outputs": [
    {
     "name": "stdout",
     "output_type": "stream",
     "text": [
      "epoch :   1 | loss : 2.243\n",
      "epoch :   2 | loss : 1.235\n",
      "epoch :   3 | loss : 0.611\n",
      "epoch :   4 | loss : 0.269\n",
      "epoch :   5 | loss : 0.096\n",
      "epoch :   6 | loss : 0.044\n",
      "epoch :   7 | loss : 0.020\n",
      "epoch :   8 | loss : 0.010\n",
      "epoch :   9 | loss : 0.006\n",
      "epoch :  10 | loss : 0.004\n",
      "epoch :  11 | loss : 0.003\n",
      "epoch :  12 | loss : 0.002\n",
      "epoch :  13 | loss : 0.002\n",
      "epoch :  14 | loss : 0.001\n",
      "epoch :  15 | loss : 0.001\n",
      "epoch :  16 | loss : 0.001\n",
      "epoch :  17 | loss : 0.001\n",
      "epoch :  18 | loss : 0.001\n",
      "epoch :  19 | loss : 0.001\n",
      "epoch :  20 | loss : 0.001\n",
      "epoch :  21 | loss : 0.001\n",
      "epoch :  22 | loss : 0.001\n",
      "epoch :  23 | loss : 0.000\n",
      "epoch :  24 | loss : 0.000\n",
      "epoch :  25 | loss : 0.000\n",
      "epoch :  26 | loss : 0.000\n",
      "epoch :  27 | loss : 0.000\n",
      "epoch :  28 | loss : 0.000\n",
      "epoch :  29 | loss : 0.000\n",
      "epoch :  30 | loss : 0.000\n"
     ]
    }
   ],
   "source": [
    "loss_hist = []\n",
    "for epoch in range(epochs):\n",
    "    loss_sum = 0\n",
    "    step = 0\n",
    "    for x_mb, y_mb, x_mb_len in train:\n",
    "        with tf.GradientTape() as tape:\n",
    "            loss = loss_fn(model, x_mb, y_mb, x_mb_len, max_seq)\n",
    "        grads = tape.gradient(loss, model.variables)\n",
    "        opt.apply_gradients(zip(grads, model.variables))\n",
    "        \n",
    "        loss_sum += loss\n",
    "        step += 1\n",
    "    avg_loss = loss_sum / step\n",
    "    loss_hist.append(avg_loss)\n",
    "    \n",
    "    print(f\"epoch : {epoch+1:>3d} | loss : {avg_loss:>5.3f}\")"
   ]
  },
  {
   "cell_type": "code",
   "execution_count": 201,
   "metadata": {},
   "outputs": [],
   "source": [
    "pred = model.predict(sents_pad)\n",
    "pred = tf.argmax(pred, axis=-1)\n",
    "\n",
    "pred_pos = [[idx2pos[idx] for idx in sent_pos] for sent_pos in pred.numpy()]\n",
    "\n",
    "acc = tf.reduce_mean(tf.cast(pred==sents_pos_pad, dtype=tf.float32)).numpy()"
   ]
  },
  {
   "cell_type": "code",
   "execution_count": 206,
   "metadata": {},
   "outputs": [
    {
     "data": {
      "text/plain": [
       "array([[[-9.18561161e-01, -4.97439718e+00,  1.71691346e+00,\n",
       "         -1.46633434e+00, -5.89889288e-03, -4.06633949e+00,\n",
       "          2.07200933e+00,  1.00619383e+01],\n",
       "        [-9.73298967e-01, -1.99145222e+00, -2.23064995e+00,\n",
       "         -4.09522629e+00,  1.16070776e+01, -2.50251961e+00,\n",
       "         -1.55105090e+00, -7.00548291e-01],\n",
       "        [-2.54715681e+00, -1.55980575e+00,  6.39635980e-01,\n",
       "          9.57277107e+00, -1.91104865e+00, -6.10606670e-02,\n",
       "         -4.11874866e+00, -7.77354717e-01],\n",
       "        [-2.54715681e+00, -1.55980575e+00,  6.39635980e-01,\n",
       "          9.57277107e+00, -1.91104865e+00, -6.10606670e-02,\n",
       "         -4.11874866e+00, -7.77354717e-01],\n",
       "        [-2.54715681e+00, -1.55980575e+00,  6.39635980e-01,\n",
       "          9.57277107e+00, -1.91104865e+00, -6.10606670e-02,\n",
       "         -4.11874866e+00, -7.77354717e-01],\n",
       "        [-2.54715681e+00, -1.55980575e+00,  6.39635980e-01,\n",
       "          9.57277107e+00, -1.91104865e+00, -6.10606670e-02,\n",
       "         -4.11874866e+00, -7.77354717e-01],\n",
       "        [-2.54715681e+00, -1.55980575e+00,  6.39635980e-01,\n",
       "          9.57277107e+00, -1.91104865e+00, -6.10606670e-02,\n",
       "         -4.11874866e+00, -7.77354717e-01],\n",
       "        [-2.54715681e+00, -1.55980575e+00,  6.39635980e-01,\n",
       "          9.57277107e+00, -1.91104865e+00, -6.10606670e-02,\n",
       "         -4.11874866e+00, -7.77354717e-01],\n",
       "        [-2.54715681e+00, -1.55980575e+00,  6.39635980e-01,\n",
       "          9.57277107e+00, -1.91104865e+00, -6.10606670e-02,\n",
       "         -4.11874866e+00, -7.77354717e-01],\n",
       "        [-2.54715681e+00, -1.55980575e+00,  6.39635980e-01,\n",
       "          9.57277107e+00, -1.91104865e+00, -6.10606670e-02,\n",
       "         -4.11874866e+00, -7.77354717e-01]],\n",
       "\n",
       "       [[-5.55842495e+00,  1.41110516e+00,  1.12878065e+01,\n",
       "          8.61175835e-01, -2.36482358e+00, -5.04715919e+00,\n",
       "         -7.39444542e+00,  2.49663448e+00],\n",
       "        [-1.48793316e+00, -3.46400768e-01, -4.45136368e-01,\n",
       "         -3.93614626e+00,  1.21910858e+01, -1.79881501e+00,\n",
       "         -3.68761420e+00, -3.11566770e-01],\n",
       "        [-5.67024231e+00,  9.87421894e+00, -4.19991314e-01,\n",
       "         -8.59619796e-01,  9.28840637e-02,  1.64424205e+00,\n",
       "          2.10620224e-01, -5.14252424e+00],\n",
       "        [-2.42018986e+00, -1.71038842e+00,  7.71836400e-01,\n",
       "          9.66006660e+00, -1.66587758e+00, -2.76184380e-01,\n",
       "         -4.41760063e+00, -8.53773654e-01],\n",
       "        [-2.42018986e+00, -1.71038842e+00,  7.71836400e-01,\n",
       "          9.66006660e+00, -1.66587758e+00, -2.76184380e-01,\n",
       "         -4.41760063e+00, -8.53773654e-01],\n",
       "        [-2.42018986e+00, -1.71038842e+00,  7.71836400e-01,\n",
       "          9.66006660e+00, -1.66587758e+00, -2.76184380e-01,\n",
       "         -4.41760063e+00, -8.53773654e-01],\n",
       "        [-2.42018986e+00, -1.71038842e+00,  7.71836400e-01,\n",
       "          9.66006660e+00, -1.66587758e+00, -2.76184380e-01,\n",
       "         -4.41760063e+00, -8.53773654e-01],\n",
       "        [-2.42018986e+00, -1.71038842e+00,  7.71836400e-01,\n",
       "          9.66006660e+00, -1.66587758e+00, -2.76184380e-01,\n",
       "         -4.41760063e+00, -8.53773654e-01],\n",
       "        [-2.42018986e+00, -1.71038842e+00,  7.71836400e-01,\n",
       "          9.66006660e+00, -1.66587758e+00, -2.76184380e-01,\n",
       "         -4.41760063e+00, -8.53773654e-01],\n",
       "        [-2.42018986e+00, -1.71038842e+00,  7.71836400e-01,\n",
       "          9.66006660e+00, -1.66587758e+00, -2.76184380e-01,\n",
       "         -4.41760063e+00, -8.53773654e-01]],\n",
       "\n",
       "       [[-5.55842495e+00,  1.41110516e+00,  1.12878065e+01,\n",
       "          8.61175835e-01, -2.36482358e+00, -5.04715919e+00,\n",
       "         -7.39444542e+00,  2.49663448e+00],\n",
       "        [-1.48793316e+00, -3.46400768e-01, -4.45136368e-01,\n",
       "         -3.93614626e+00,  1.21910858e+01, -1.79881501e+00,\n",
       "         -3.68761420e+00, -3.11566770e-01],\n",
       "        [-1.44798720e+00,  1.70002472e+00, -7.95357513e+00,\n",
       "         -8.57639134e-01, -2.61888564e-01,  7.05022454e-01,\n",
       "          8.86359024e+00,  6.75811291e-01],\n",
       "        [-3.08625054e+00,  1.89821458e+00,  1.10776892e+01,\n",
       "          2.87487596e-01, -2.50587046e-01, -6.52458382e+00,\n",
       "         -8.73550034e+00,  6.70687675e-01],\n",
       "        [-6.32509589e-01,  2.08165312e+00, -2.21751237e+00,\n",
       "          1.76304966e-01, -8.34289014e-01,  8.72002220e+00,\n",
       "          1.20904160e+00, -1.31320536e+00],\n",
       "        [ 1.19988918e-01, -1.54794478e+00,  1.33473605e-01,\n",
       "          8.93249607e+00,  4.31647032e-01, -1.70425725e+00,\n",
       "         -5.24804640e+00, -2.79689097e+00],\n",
       "        [-5.52319717e+00,  1.42657924e+00,  1.12881222e+01,\n",
       "          8.48707676e-01, -2.33647323e+00, -5.07780361e+00,\n",
       "         -7.41218185e+00,  2.46997643e+00],\n",
       "        [-5.52319717e+00,  1.42657924e+00,  1.12881222e+01,\n",
       "          8.48707676e-01, -2.33647323e+00, -5.07780361e+00,\n",
       "         -7.41218185e+00,  2.46997643e+00],\n",
       "        [-5.52319717e+00,  1.42657924e+00,  1.12881222e+01,\n",
       "          8.48707676e-01, -2.33647323e+00, -5.07780361e+00,\n",
       "         -7.41218185e+00,  2.46997643e+00],\n",
       "        [-5.52319717e+00,  1.42657924e+00,  1.12881222e+01,\n",
       "          8.48707676e-01, -2.33647323e+00, -5.07780361e+00,\n",
       "         -7.41218185e+00,  2.46997643e+00]],\n",
       "\n",
       "       [[-5.55842495e+00,  1.41110516e+00,  1.12878065e+01,\n",
       "          8.61175835e-01, -2.36482358e+00, -5.04715919e+00,\n",
       "         -7.39444542e+00,  2.49663448e+00],\n",
       "        [-1.48793316e+00, -3.46400768e-01, -4.45136368e-01,\n",
       "         -3.93614626e+00,  1.21910858e+01, -1.79881501e+00,\n",
       "         -3.68761420e+00, -3.11566770e-01],\n",
       "        [-5.67024231e+00,  9.87421894e+00, -4.19991314e-01,\n",
       "         -8.59619796e-01,  9.28840637e-02,  1.64424205e+00,\n",
       "          2.10620224e-01, -5.14252424e+00],\n",
       "        [-2.62831163e+00, -1.77796578e+00,  8.53575408e-01,\n",
       "          9.65429306e+00, -1.83091569e+00, -1.86358511e-01,\n",
       "         -4.31998158e+00, -6.50125980e-01],\n",
       "        [-1.47717857e+00, -6.15709901e-01, -1.13250971e+00,\n",
       "         -4.17301655e+00,  1.23004160e+01, -1.90794897e+00,\n",
       "         -2.94993186e+00, -7.33697653e-01],\n",
       "        [-1.47717857e+00, -6.15709901e-01, -1.13250971e+00,\n",
       "         -4.17301655e+00,  1.23004160e+01, -1.90794897e+00,\n",
       "         -2.94993186e+00, -7.33697653e-01],\n",
       "        [-1.47717857e+00, -6.15709901e-01, -1.13250971e+00,\n",
       "         -4.17301655e+00,  1.23004160e+01, -1.90794897e+00,\n",
       "         -2.94993186e+00, -7.33697653e-01],\n",
       "        [-1.47717857e+00, -6.15709901e-01, -1.13250971e+00,\n",
       "         -4.17301655e+00,  1.23004160e+01, -1.90794897e+00,\n",
       "         -2.94993186e+00, -7.33697653e-01],\n",
       "        [-1.47717857e+00, -6.15709901e-01, -1.13250971e+00,\n",
       "         -4.17301655e+00,  1.23004160e+01, -1.90794897e+00,\n",
       "         -2.94993186e+00, -7.33697653e-01],\n",
       "        [-1.47717857e+00, -6.15709901e-01, -1.13250971e+00,\n",
       "         -4.17301655e+00,  1.23004160e+01, -1.90794897e+00,\n",
       "         -2.94993186e+00, -7.33697653e-01]]], dtype=float32)"
      ]
     },
     "execution_count": 206,
     "metadata": {},
     "output_type": "execute_result"
    }
   ],
   "source": [
    "model.predict(sents_pad)"
   ]
  },
  {
   "cell_type": "code",
   "execution_count": 202,
   "metadata": {},
   "outputs": [
    {
     "data": {
      "text/plain": [
       "0.475"
      ]
     },
     "execution_count": 202,
     "metadata": {},
     "output_type": "execute_result"
    }
   ],
   "source": [
    "acc"
   ]
  },
  {
   "cell_type": "code",
   "execution_count": 203,
   "metadata": {},
   "outputs": [
    {
     "data": {
      "text/plain": [
       "[<matplotlib.lines.Line2D object at 0x0000022F06BAC948>]"
      ]
     },
     "execution_count": 203,
     "metadata": {},
     "output_type": "execute_result"
    },
    {
     "data": {
      "image/png": "[encoded data removed]",
      "text/plain": [
       "<Figure size 432x288 with 1 Axes>"
      ]
     },
     "metadata": {
      "needs_background": "light"
     },
     "output_type": "display_data"
    }
   ],
   "source": [
    "plt.plot(loss_hist)"
   ]
  },
  {
   "cell_type": "code",
   "execution_count": null,
   "metadata": {},
   "outputs": [],
   "source": []
  }
 ],
 "metadata": {
  "kernelspec": {
   "display_name": "Python 3",
   "language": "python",
   "name": "python3"
  },
  "language_info": {
   "codemirror_mode": {
    "name": "ipython",
    "version": 3
   },
   "file_extension": ".py",
   "mimetype": "text/x-python",
   "name": "python",
   "nbconvert_exporter": "python",
   "pygments_lexer": "ipython3",
   "version": "3.7.7"
  }
 },
 "nbformat": 4,
 "nbformat_minor": 4
}
