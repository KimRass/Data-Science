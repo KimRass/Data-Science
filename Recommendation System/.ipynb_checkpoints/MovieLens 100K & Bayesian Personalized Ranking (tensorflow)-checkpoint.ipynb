{
 "cells": [
  {
   "cell_type": "markdown",
   "metadata": {
    "toc": true
   },
   "source": [
    "<h1>Table of Contents<span class=\"tocSkip\"></span></h1>\n",
    "<div class=\"toc\"><ul class=\"toc-item\"><li><span><a href=\"#K-Core-Pruning\" data-toc-modified-id=\"K-Core-Pruning-1\"><span class=\"toc-item-num\">1&nbsp;&nbsp;</span>K-Core Pruning</a></span></li><li><span><a href=\"#Spliting-Dataset\" data-toc-modified-id=\"Spliting-Dataset-2\"><span class=\"toc-item-num\">2&nbsp;&nbsp;</span>Spliting Dataset</a></span></li><li><span><a href=\"#Modeling\" data-toc-modified-id=\"Modeling-3\"><span class=\"toc-item-num\">3&nbsp;&nbsp;</span>Modeling</a></span><ul class=\"toc-item\"><li><ul class=\"toc-item\"><li><span><a href=\"#Regularization-적용하기\" data-toc-modified-id=\"Regularization-적용하기-3.0.1\"><span class=\"toc-item-num\">3.0.1&nbsp;&nbsp;</span>Regularization 적용하기</a></span></li></ul></li><li><span><a href=\"#학습-데이터-구성하기\" data-toc-modified-id=\"학습-데이터-구성하기-3.1\"><span class=\"toc-item-num\">3.1&nbsp;&nbsp;</span>학습 데이터 구성하기</a></span><ul class=\"toc-item\"><li><span><a href=\"#학습-데이터-구성하기\" data-toc-modified-id=\"학습-데이터-구성하기-3.1.1\"><span class=\"toc-item-num\">3.1.1&nbsp;&nbsp;</span>학습 데이터 구성하기</a></span></li><li><span><a href=\"#모델-학습하기\" data-toc-modified-id=\"모델-학습하기-3.1.2\"><span class=\"toc-item-num\">3.1.2&nbsp;&nbsp;</span>모델 학습하기</a></span></li></ul></li></ul></li></ul></div>"
   ]
  },
  {
   "cell_type": "code",
   "execution_count": 1,
   "metadata": {
    "ExecuteTime": {
     "end_time": "2022-01-16T04:02:42.256685Z",
     "start_time": "2022-01-16T04:02:34.310036Z"
    }
   },
   "outputs": [
    {
     "name": "stderr",
     "output_type": "stream",
     "text": [
      "C:\\Users\\82104\\anaconda3\\lib\\site-packages\\tqdm\\std.py:697: FutureWarning: The Panel class is removed from pandas. Accessing it from the top-level namespace will also be removed in the next version\n",
      "  from pandas import Panel\n"
     ]
    }
   ],
   "source": [
    "import os\n",
    "import random\n",
    "from tqdm.notebook import tqdm\n",
    "import numpy as np\n",
    "import pandas as pd\n",
    "import matplotlib.pyplot as plt\n",
    "from google_drive_downloader import GoogleDriveDownloader as gdd\n",
    "from sklearn.model_selection import train_test_split\n",
    "import copy\n",
    "import tensorflow as tf\n",
    "from tensorflow.keras import Input, Model, Sequential\n",
    "from tensorflow.keras.preprocessing import image_dataset_from_directory\n",
    "from tensorflow.keras.preprocessing.sequence import pad_sequences\n",
    "from tensorflow.keras.preprocessing.image import load_img, img_to_array, ImageDataGenerator\n",
    "from tensorflow.keras.layers import Input, Dense, Flatten, Dropout, Concatenate, Add, Dot, Multiply, Reshape, Activation, BatchNormalization, SimpleRNNCell, RNN, SimpleRNN, LSTM, Embedding, Bidirectional, TimeDistributed, Conv1D, Conv2D, MaxPool1D, MaxPool2D, GlobalMaxPool1D, GlobalMaxPool2D, AveragePooling1D, AveragePooling2D, GlobalAveragePooling1D, GlobalAveragePooling2D, ZeroPadding2D\n",
    "from tensorflow.keras.optimizers import SGD, Adam, Adagrad\n",
    "from tensorflow.keras.metrics import RootMeanSquaredError, BinaryCrossentropy, SparseCategoricalAccuracy\n",
    "from tensorflow.keras.layers.experimental.preprocessing import Rescaling\n",
    "from tensorflow.keras.callbacks import EarlyStopping, ModelCheckpoint\n",
    "from tensorflow.keras.activations import linear, sigmoid, relu\n",
    "\n",
    "tqdm.pandas()\n",
    "np.set_printoptions(precision=3)\n",
    "plt.style.use(\"dark_background\")"
   ]
  },
  {
   "cell_type": "code",
   "execution_count": 2,
   "metadata": {
    "ExecuteTime": {
     "end_time": "2022-01-16T04:02:42.337405Z",
     "start_time": "2022-01-16T04:02:42.258520Z"
    }
   },
   "outputs": [],
   "source": [
    "users = pd.read_csv(\"Datasets/MovieLens 100k/100k_users.csv\")\n",
    "movies = pd.read_csv(\"Datasets/MovieLens 100k/100k_movies.csv\")\n",
    "ratings = pd.read_csv(\"Datasets/MovieLens 100k/100k_ratings.csv\")"
   ]
  },
  {
   "cell_type": "markdown",
   "metadata": {},
   "source": [
    "# K-Core Pruning"
   ]
  },
  {
   "cell_type": "code",
   "execution_count": 3,
   "metadata": {
    "ExecuteTime": {
     "end_time": "2022-01-16T04:02:42.407875Z",
     "start_time": "2022-01-16T04:02:42.337405Z"
    }
   },
   "outputs": [
    {
     "name": "stdout",
     "output_type": "stream",
     "text": [
      "len(ratings): 99,991\n",
      "len(ratings): 99,023\n",
      "Finished!\n"
     ]
    }
   ],
   "source": [
    "thr = 5\n",
    "len_prev = -1\n",
    "len_next = -2\n",
    "while len_prev != len_next:\n",
    "    len_prev = len(ratings)\n",
    "    print(f\"len(ratings): {len(ratings):,}\")\n",
    "    \n",
    "    user_n_ratings = ratings[\"user_id\"].value_counts()\n",
    "    users_ = user_n_ratings[user_n_ratings>thr].index\n",
    "    \n",
    "    item_n_ratings = ratings[\"item_id\"].value_counts()\n",
    "    items_ = item_n_ratings[item_n_ratings>thr].index\n",
    "\n",
    "    ratings = ratings[(ratings[\"user_id\"].isin(users_)) & (ratings[\"item_id\"].isin(items_))]\n",
    "    len_next = len(ratings)\n",
    "print(\"Finished!\")"
   ]
  },
  {
   "cell_type": "markdown",
   "metadata": {},
   "source": [
    "# Spliting Dataset\n",
    "- 시간 순서대로 Dataset을 나누겠습니다."
   ]
  },
  {
   "cell_type": "code",
   "execution_count": 4,
   "metadata": {
    "ExecuteTime": {
     "end_time": "2022-01-16T04:02:43.778402Z",
     "start_time": "2022-01-16T04:02:42.412098Z"
    }
   },
   "outputs": [
    {
     "data": {
      "application/vnd.jupyter.widget-view+json": {
       "model_id": "f669fc0372f84a9da660a5ebbd800c83",
       "version_major": 2,
       "version_minor": 0
      },
      "text/plain": [
       "HBox(children=(HTML(value=''), FloatProgress(value=0.0, max=943.0), HTML(value='')))"
      ]
     },
     "metadata": {},
     "output_type": "display_data"
    },
    {
     "name": "stdout",
     "output_type": "stream",
     "text": [
      "\n",
      "len(ratings_tr): 88,681\n",
      "len(ratings_te): 10,342\n"
     ]
    }
   ],
   "source": [
    "ratings_tr = pd.DataFrame()\n",
    "ratings_te = pd.DataFrame()\n",
    "for _, group in tqdm(ratings.groupby([\"user_id\"])):\n",
    "    tr, te = train_test_split(group, test_size=0.1, shuffle=False)\n",
    "    ratings_tr = pd.concat([ratings_tr, tr], axis=0)\n",
    "    ratings_te = pd.concat([ratings_te, te], axis=0)\n",
    "\n",
    "print(f\"len(ratings_tr): {len(ratings_tr):,}\")\n",
    "print(f\"len(ratings_te): {len(ratings_te):,}\")"
   ]
  },
  {
   "cell_type": "code",
   "execution_count": 5,
   "metadata": {
    "ExecuteTime": {
     "end_time": "2022-01-16T04:02:48.804375Z",
     "start_time": "2022-01-16T04:02:43.781155Z"
    }
   },
   "outputs": [
    {
     "data": {
      "application/vnd.jupyter.widget-view+json": {
       "model_id": "e16b92539f4d4ebe865504d7924fbed3",
       "version_major": 2,
       "version_minor": 0
      },
      "text/plain": [
       "HBox(children=(HTML(value=''), FloatProgress(value=0.0, max=10342.0), HTML(value='')))"
      ]
     },
     "metadata": {},
     "output_type": "display_data"
    },
    {
     "name": "stdout",
     "output_type": "stream",
     "text": [
      "\n"
     ]
    }
   ],
   "source": [
    "movie_n_ratings = ratings.groupby([\"item_id\"]).size().sort_values(ascending=False)\n",
    "\n",
    "X_te = copy.deepcopy(ratings_te)\n",
    "y_te = ratings_te[[\"rating\"]]\n",
    "user_movies = ratings.groupby([\"user_id\"])[\"item_id\"].apply(frozenset)\n",
    "X_te[\"items\"] = X_te[\"user_id\"].apply(lambda x : user_movies[x])\n",
    "X_te = X_te.drop([\"rating\"], axis=1)\n",
    "\n",
    "# `item_id`: 본 영화 1개\n",
    "# `items_100`: 보지 않은 영화 100개\n",
    "X_te[\"items_100\"] = X_te.progress_apply(lambda x:random.choices(list(x[\"items\"] - {x[\"item_id\"]}), k=100, weights=movie_n_ratings[list(x[\"items\"] - {x[\"item_id\"]})]), axis=1)\n",
    "\n",
    "# def pick_items_100(x):\n",
    "#     temp = movie_n_ratings[~movie_n_ratings.index.isin(x[\"items\"])]\n",
    "#     return set(temp.sample(100, replace=False, weights=movie_n_ratings).index)\n",
    "\n",
    "# X_te[\"items_100\"] = X_te.progress_apply(lambda x : pick_items_100(x), axis=1)"
   ]
  },
  {
   "cell_type": "markdown",
   "metadata": {},
   "source": [
    "# Modeling"
   ]
  },
  {
   "cell_type": "code",
   "execution_count": 6,
   "metadata": {
    "ExecuteTime": {
     "end_time": "2022-01-16T04:02:48.922864Z",
     "start_time": "2022-01-16T04:02:48.804375Z"
    }
   },
   "outputs": [],
   "source": [
    "input_user = Input(shape=(), name=\"Input_user\")\n",
    "input_pos = Input(shape=(), name=\"Input_pos\")\n",
    "input_neg = Input(shape=(), name=\"Input_neg\")\n",
    "inputs = [input_user, input_pos, input_neg]\n",
    "\n",
    "n_users = ratings[\"user_id\"].max() + 1\n",
    "n_items = ratings[\"item_id\"].max() + 1\n",
    "dim = 30\n",
    "embedding_user = Embedding(input_dim=n_users, output_dim=dim + 1, name=\"Embedding_user\")\n",
    "embedding_item = Embedding(input_dim=n_items, output_dim=dim + 1, name=\"Embedding_item\")\n",
    "\n",
    "z1 = embedding_user(input_user)\n",
    "z2 = embedding_item(input_pos)\n",
    "z3 = embedding_item(input_neg)\n",
    "\n",
    "pos_score = Dot(axes=(1, 1))([z1, z2])\n",
    "neg_score = Dot(axes=(1, 1))([z1, z3])\n",
    "diff = pos_score - neg_score\n",
    "outputs = sigmoid(diff)\n",
    "\n",
    "model = Model(inputs=inputs, outputs=outputs)"
   ]
  },
  {
   "cell_type": "code",
   "execution_count": 7,
   "metadata": {
    "ExecuteTime": {
     "end_time": "2022-01-16T04:02:48.938659Z",
     "start_time": "2022-01-16T04:02:48.922864Z"
    }
   },
   "outputs": [],
   "source": [
    "#유저 임베딩에서 우리는 마지막 임베딩에 1을 추가해주어야 합니다. 아이템 임베딩의 마지막 원소값 Bias를 추가하기 위함입니다.바로 아래와 같은 방식으로 유저 임베딩과 아이템 임베딩이 형성됩니다.\n",
    "# Dot 연산으로 Bias 연산까지 같이 수행하기 위해 아래와 같이 코드를 작성하게 됩니다.\n",
    "# U=[u1,u2,u3,...,u60,1]I=[i1,i2,i3,...,i60,ibias]\n",
    "\n",
    "# z1 = embedding_user(input_user)\n",
    "# one_emb = tf.ones_like(user_emb[:, -1:])"
   ]
  },
  {
   "cell_type": "code",
   "execution_count": 8,
   "metadata": {
    "ExecuteTime": {
     "end_time": "2022-01-16T04:02:48.958521Z",
     "start_time": "2022-01-16T04:02:48.938659Z"
    }
   },
   "outputs": [],
   "source": [
    "# Matrix Factoriation은 쉽게 Overfitting, 즉 학습 데이터에만 과적합되는 현상이 발생합니다. 이를 방지하기 위해 가장 기본적인 방법론 중 하나는 Weight Decay, 즉 weight의 값이 너무 커지지 않도록 방지하는 것입니다. 이를 위해 아래와 같이 Loss를 추가해주게 되면, weight가 어느정도 줄어드는 방향으로 모델이 학습하게 됩니다.\n",
    "# l2_user = z1**2\n",
    "# l2_pos_item = z2**2\n",
    "# l2_neg_item = z3**2\n",
    "# l2_reg = 0.0001\n",
    "\n",
    "# weight_decay = l2_reg*tf.reduce_sum(l2_user + l2_pos_item + l2_neg_item)\n",
    "\n",
    "# model.add_loss(weight_decay)\n",
    "\n",
    "model.compile(optimizer=Adagrad(1), loss=\"binary_crossentropy\", metrics=[\"acc\"])"
   ]
  },
  {
   "cell_type": "code",
   "execution_count": 9,
   "metadata": {
    "ExecuteTime": {
     "end_time": "2022-01-16T04:02:49.059047Z",
     "start_time": "2022-01-16T04:02:48.962537Z"
    }
   },
   "outputs": [],
   "source": [
    "all_movies = set(ratings_tr[\"item_id\"])\n",
    "user_not_movies = all_movies - user_movies\n",
    "user_not_movies = user_not_movies.map(list)\n",
    "\n",
    "def get_bpr_dataset(ratings_tr, user_not_movies):\n",
    "    ratings_tr_batch = copy.deepcopy(ratings_tr)\n",
    "    ratings_tr_batch = ratings_tr_batch.sample(frac=1)\n",
    "    ratings_tr_batch[\"neg_item\"] = ratings_tr_batch.apply(lambda x : random.choice(user_not_movies[x[\"user_id\"]]), axis=1)\n",
    "    \n",
    "    x = [ratings_tr_batch[\"user_id\"].values, ratings_tr_batch[\"item_id\"].values, ratings_tr_batch[\"neg_item\"].values]\n",
    "    y = np.ones(shape=(len(ratings_tr_batch), 1))\n",
    "    \n",
    "    return x, y"
   ]
  },
  {
   "cell_type": "code",
   "execution_count": 11,
   "metadata": {
    "ExecuteTime": {
     "end_time": "2022-01-16T04:03:13.086931Z",
     "start_time": "2022-01-16T04:02:49.074752Z"
    },
    "scrolled": false
   },
   "outputs": [
    {
     "name": "stdout",
     "output_type": "stream",
     "text": [
      "epoch:   1\n",
      "1386/1386 - 2s - loss: 0.6919 - acc: 0.5740 - 2s/epoch - 1ms/step\n",
      "epoch:   2\n",
      "1386/1386 - 1s - loss: 0.5779 - acc: 0.8036 - 1s/epoch - 879us/step\n",
      "epoch:   3\n",
      "1386/1386 - 2s - loss: 0.4185 - acc: 0.8212 - 2s/epoch - 1ms/step\n",
      "epoch:   4\n",
      "1386/1386 - 1s - loss: 0.3616 - acc: 0.8485 - 1s/epoch - 902us/step\n",
      "epoch:   5\n",
      "1386/1386 - 1s - loss: 0.3099 - acc: 0.8729 - 1s/epoch - 942us/step\n",
      "epoch:   6\n",
      "1386/1386 - 1s - loss: 0.2777 - acc: 0.8848 - 1s/epoch - 894us/step\n",
      "epoch:   7\n",
      "1386/1386 - 1s - loss: 0.2514 - acc: 0.8985 - 1s/epoch - 947us/step\n",
      "epoch:   8\n",
      "1386/1386 - 1s - loss: 0.2346 - acc: 0.9049 - 1s/epoch - 879us/step\n",
      "epoch:   9\n",
      "1386/1386 - 1s - loss: 0.2194 - acc: 0.9105 - 1s/epoch - 929us/step\n",
      "epoch:  10\n",
      "1386/1386 - 1s - loss: 0.2036 - acc: 0.9179 - 1s/epoch - 915us/step\n"
     ]
    }
   ],
   "source": [
    "n_epochs = 10\n",
    "for i in range(1, n_epochs + 1):\n",
    "    print(f\"epoch: {i:>3d}\")\n",
    "    X, y = get_bpr_dataset(ratings_tr, user_not_movies)\n",
    "    model.fit(x=X, y=y, batch_size=64, verbose=2)"
   ]
  },
  {
   "cell_type": "code",
   "execution_count": null,
   "metadata": {},
   "outputs": [],
   "source": [
    "model = Model(inputs=inputs, outputs=outputs)"
   ]
  }
 ],
 "metadata": {
  "hide_input": false,
  "kernelspec": {
   "display_name": "Python 3",
   "language": "python",
   "name": "python3"
  },
  "language_info": {
   "codemirror_mode": {
    "name": "ipython",
    "version": 3
   },
   "file_extension": ".py",
   "mimetype": "text/x-python",
   "name": "python",
   "nbconvert_exporter": "python",
   "pygments_lexer": "ipython3",
   "version": "3.8.5"
  },
  "toc": {
   "base_numbering": 1,
   "nav_menu": {},
   "number_sections": true,
   "sideBar": true,
   "skip_h1_title": false,
   "title_cell": "Table of Contents",
   "title_sidebar": "Contents",
   "toc_cell": true,
   "toc_position": {},
   "toc_section_display": true,
   "toc_window_display": false
  },
  "varInspector": {
   "cols": {
    "lenName": 16,
    "lenType": 16,
    "lenVar": 40
   },
   "kernels_config": {
    "python": {
     "delete_cmd_postfix": "",
     "delete_cmd_prefix": "del ",
     "library": "var_list.py",
     "varRefreshCmd": "print(var_dic_list())"
    },
    "r": {
     "delete_cmd_postfix": ") ",
     "delete_cmd_prefix": "rm(",
     "library": "var_list.r",
     "varRefreshCmd": "cat(var_dic_list()) "
    }
   },
   "types_to_exclude": [
    "module",
    "function",
    "builtin_function_or_method",
    "instance",
    "_Feature"
   ],
   "window_display": false
  }
 },
 "nbformat": 4,
 "nbformat_minor": 4
}
