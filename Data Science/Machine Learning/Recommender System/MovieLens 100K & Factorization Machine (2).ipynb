{
 "cells": [
  {
   "cell_type": "code",
   "execution_count": 6,
   "metadata": {
    "ExecuteTime": {
     "end_time": "2022-01-16T13:49:23.187768Z",
     "start_time": "2022-01-16T13:49:23.156373Z"
    }
   },
   "outputs": [
    {
     "name": "stderr",
     "output_type": "stream",
     "text": [
      "C:\\Users\\82104\\anaconda3\\lib\\site-packages\\tqdm\\std.py:697: FutureWarning: The Panel class is removed from pandas. Accessing it from the top-level namespace will also be removed in the next version\n",
      "  from pandas import Panel\n"
     ]
    }
   ],
   "source": [
    "import os\n",
    "import random\n",
    "from tqdm.notebook import tqdm\n",
    "import numpy as np\n",
    "import pandas as pd\n",
    "import tensorflow as tf\n",
    "from tensorflow.keras import Input, Model, Sequential\n",
    "from tensorflow.keras.preprocessing import image_dataset_from_directory\n",
    "from tensorflow.keras.preprocessing.sequence import pad_sequences\n",
    "from tensorflow.keras.preprocessing.image import load_img, img_to_array, ImageDataGenerator\n",
    "from tensorflow.keras.layers import Layer, Dense, Flatten, Dropout, Concatenate, Add, Dot, Multiply, Reshape, Activation, BatchNormalization, SimpleRNNCell, RNN, SimpleRNN, LSTM, Embedding, Bidirectional, TimeDistributed, Conv1D, Conv2D, MaxPool1D, MaxPool2D, GlobalMaxPool1D, GlobalMaxPool2D, AveragePooling1D, AveragePooling2D, GlobalAveragePooling1D, GlobalAveragePooling2D, ZeroPadding2D\n",
    "from tensorflow.keras.optimizers import SGD, Adam, Adagrad\n",
    "from tensorflow.keras.metrics import RootMeanSquaredError, BinaryCrossentropy, SparseCategoricalAccuracy\n",
    "from tensorflow.keras.layers.experimental.preprocessing import Rescaling\n",
    "from tensorflow.keras.callbacks import EarlyStopping, ModelCheckpoint\n",
    "from tensorflow.keras.activations import linear, sigmoid, relu\n",
    "import matplotlib.pyplot as plt\n",
    "import seaborn as sb\n",
    "from google_drive_downloader import GoogleDriveDownloader as gdd\n",
    "from sklearn.model_selection import train_test_split\n",
    "from itertools import combinations\n",
    "\n",
    "tqdm.pandas()\n",
    "np.set_printoptions(edgeitems=3, infstr=\"inf\", linewidth=75, nanstr=\"nan\", precision=8, suppress=False, threshold=1000, formatter=None)\n",
    "plt.style.use(\"dark_background\")"
   ]
  },
  {
   "cell_type": "code",
   "execution_count": 7,
   "metadata": {
    "ExecuteTime": {
     "end_time": "2022-01-16T13:49:23.287166Z",
     "start_time": "2022-01-16T13:49:23.190775Z"
    }
   },
   "outputs": [],
   "source": [
    "# age: (0~4: 0, 5~9: 1, 10~14: 2, ...)\n",
    "users = pd.read_csv(\"Datasets/MovieLens 100k/100k_users.csv\")\n",
    "# year: 영화 개봉 연도\n",
    "movies = pd.read_csv(\"Datasets/MovieLens 100k/100k_movies.csv\")\n",
    "ratings = pd.read_csv(\"Datasets/MovieLens 100k/100k_ratings.csv\")\n",
    "\n",
    "data = pd.merge(ratings, users, on=\"user_id\")\n",
    "data = pd.merge(data, movies, on=\"item_id\")"
   ]
  },
  {
   "cell_type": "markdown",
   "metadata": {},
   "source": [
    "# Label Encoding"
   ]
  },
  {
   "cell_type": "code",
   "execution_count": 8,
   "metadata": {
    "ExecuteTime": {
     "end_time": "2022-01-16T13:49:23.450856Z",
     "start_time": "2022-01-16T13:49:23.287166Z"
    }
   },
   "outputs": [],
   "source": [
    "cols = [\"user_id\", \"item_id\", \"age\", \"gender\", \"occupation\", \"year\"] + data.loc[:, \"unknown\":\"Western\"].columns.tolist()\n",
    "for col in cols:\n",
    "    data[col] = pd.Categorical(data[col])\n",
    "    data[col] = data[col].cat.codes"
   ]
  },
  {
   "cell_type": "markdown",
   "metadata": {},
   "source": [
    "## Factorization Machine의 개념\n",
    "\n",
    "### Feature Vectors\n",
    "![feature_table](https://i.imgur.com/fTwPYWa.png)\n",
    "\n",
    "### 기본 아이디어\n",
    "- degree $d = 2$인 Factorization Machine의 모델은 다음과 같이 정의됩니다. $d = 2$라는 것은 embedding vectors를 최대 2개 조합하겠다는 의미입니다.\n",
    "$$\n",
    "\\hat{y}(x):=w_0 + \\sum_{i=1}^n w_ix_i + \\sum_{i=1}^n\\sum_{j=i+1}^n w_{i,j}x_ix_j\n",
    "$$\n",
    "- $w_0$: Global Bias\n",
    "- $n$: The Number of Features\n",
    "- $w_i$: The Weight of $i$th Feature\n",
    "- $x_i$: The Value of $i$th Feature of the Sample.\n",
    "- $w_{i,j}$ : The Interactive Weight of $i$th Feature and $j$th Feature\n",
    "$$\n",
    "w_{i,j} := \\vec{v_i}\\cdot\\vec{v_j} = \\sum_{f=1}^k v_{i,f}v_{j,f}\n",
    "$$\n",
    "- $\\vec{v_i}$: The Embedding Vector of $i$th Feature\n",
    "- `tensorflow.keras.layers.Embedding()`를 사용할 경우\n",
    "$$\n",
    "w_0 + \\sum_{i=1}^n w_i\n",
    "$$"
   ]
  },
  {
   "cell_type": "markdown",
   "metadata": {},
   "source": [
    "# Modeling"
   ]
  },
  {
   "cell_type": "code",
   "execution_count": 98,
   "metadata": {
    "ExecuteTime": {
     "end_time": "2022-01-16T15:03:46.715760Z",
     "start_time": "2022-01-16T15:03:46.608621Z"
    }
   },
   "outputs": [],
   "source": [
    "k = 16\n",
    "cols = [\"user_id\", \"item_id\", \"age\", \"year\"]\n",
    "inputs = []\n",
    "embedding_mlr_list = []\n",
    "embedding_fm_list = []\n",
    "for col in cols:\n",
    "    input_ = Input(shape=(), name=f\"Input_{col}\")\n",
    "    inputs.append(input_)\n",
    "    \n",
    "    input_dim = data[col].nunique()\n",
    "    z1 = Embedding(input_dim=input_dim, output_dim=1, name=f\"Embedding_{col}\")(input_)\n",
    "    embedding_mlr_list.append(z1)\n",
    "\n",
    "    z2 = Embedding(input_dim=input_dim, output_dim=k, name=f\"emb_{col}\")(input_)\n",
    "    embedding_fm_list.append(z2)\n",
    "    \n",
    "# Multivariate Linear Regression Part\n",
    "logits_mlr = tf.Variable((0.,)) + tf.math.add_n(embedding_mlr_list)\n",
    "\n",
    "# Factorization Machine Part\n",
    "temp = tf.stack(embedding_fm_list, axis=1)\n",
    "logits_fm = 1/2*tf.math.reduce_sum(tf.math.square(tf.math.reduce_sum(temp, axis=1)) - tf.math.reduce_sum(tf.math.square(temp), axis=1), axis=1, keepdims=True)\n",
    "\n",
    "# logits = logits_mlr + logits_fm\n",
    "model = Model(inputs=inputs, outputs=logits_mlr + logits_fm)"
   ]
  },
  {
   "cell_type": "code",
   "execution_count": null,
   "metadata": {},
   "outputs": [],
   "source": [
    "# x = data[[\"user_id\", \"item_id\", \"age\", \"year\"]]\n",
    "x = data.drop([\"rating\"], axis=1)\n",
    "y = data[[\"rating\"]]\n",
    "\n",
    "x_train, x_val, y_train, y_val = train_test_split(x, y, test_size=0.1, random_state=12345)\n",
    "\n",
    "#tensor로 바꿔줍니다.\n",
    "train_set = tf.data.Dataset.from_tensor_slices(({k:v.values for k, v in x_train.iteritems()}, y_train.values)).shuffle(len(x_train)).batch(batch_size)\n",
    "val_set = tf.data.Dataset.from_tensor_slices(({k:v.values for k, v in x_val.iteritems()}, y_val.values)).batch(batch_size)\n",
    "\n",
    "model.compile(optimizer=tf.keras.optimizers.Adagrad(lr=0.2), loss=tf.keras.losses.MeanSquaredError(), metrics=[tf.keras.metrics.RootMeanSquaredError()])\n",
    "\n",
    "batch_size = 256\n",
    "n_epochs = 50\n",
    "### (5) Dataset 정의하기\n",
    "hist = model.fit_generator(generator=train_set, validation_data=val_set, epochs=n_epochs)"
   ]
  },
  {
   "cell_type": "markdown",
   "metadata": {},
   "source": [
    "## Factorization Machine Part\n",
    "$$\n",
    "\\sum_{i=1}^n\\sum_{j=i+1}^nw_{i,j}x_ix_j = \\sum_{i=1}^n\\sum_{j=i+1}^n(\\vec{v_i}\\cdot\\vec{v_j})x_ix_j = \\sum_{i=1}^n\\sum_{j=i+1}^n\\sum_{f=1}^k v_{i,f}v_{j,f}x_ix_j\n",
    "$$\n",
    "- tf.keras.layers.Embedding() 함수를 사용할 경우 다음과 같이 weights만의 연산으로 표현됩니다.\n",
    "$$\n",
    "\\sum_{i=1}^n\\sum_{j=i+1}^n w_{i,j} = \\sum_{i=1}^n\\sum_{j=i+1}^n(\\vec{v_i}\\cdot\\vec{v_j}) = \\sum_{i=1}^n\\sum_{j=i+1}^n\\sum_{f=1}^k v_{i,f}v_{j,f}\n",
    "$$\n",
    "- 이 식의 시간 복잡도는 $O(kn^2)$입니다.\n",
    "- 이를 다음과 같이 수정하여 시간 복잡도를 $O(kn)$으로 만들 수 있습니다.\n",
    "$$\n",
    "\\frac{1}{2}\\sum_{f=1}^k\\left(\\left(\\sum_{i=1}^nv_{i,f}\\right)^2 - \\sum_{i=1}^n{v_{i,f}}^2\\right)\n",
    "$$"
   ]
  },
  {
   "cell_type": "code",
   "execution_count": 327,
   "metadata": {},
   "outputs": [
    {
     "data": {
      "image/png": "[encoded data removed]",
      "text/plain": [
       "<Figure size 432x288 with 1 Axes>"
      ]
     },
     "metadata": {},
     "output_type": "display_data"
    }
   ],
   "source": [
    "fig, ax = plt.subplots()\n",
    "\n",
    "ax.plot(hist.history[\"val_loss\"])\n",
    "\n",
    "fig.tight_layout()"
   ]
  },
  {
   "cell_type": "code",
   "execution_count": null,
   "metadata": {},
   "outputs": [],
   "source": []
  }
 ],
 "metadata": {
  "hide_input": false,
  "kernelspec": {
   "display_name": "Python 3",
   "language": "python",
   "name": "python3"
  },
  "language_info": {
   "codemirror_mode": {
    "name": "ipython",
    "version": 3
   },
   "file_extension": ".py",
   "mimetype": "text/x-python",
   "name": "python",
   "nbconvert_exporter": "python",
   "pygments_lexer": "ipython3",
   "version": "3.8.5"
  },
  "toc": {
   "base_numbering": 1,
   "nav_menu": {},
   "number_sections": true,
   "sideBar": true,
   "skip_h1_title": false,
   "title_cell": "Table of Contents",
   "title_sidebar": "Contents",
   "toc_cell": false,
   "toc_position": {},
   "toc_section_display": true,
   "toc_window_display": false
  },
  "varInspector": {
   "cols": {
    "lenName": 16,
    "lenType": 16,
    "lenVar": 40
   },
   "kernels_config": {
    "python": {
     "delete_cmd_postfix": "",
     "delete_cmd_prefix": "del ",
     "library": "var_list.py",
     "varRefreshCmd": "print(var_dic_list())"
    },
    "r": {
     "delete_cmd_postfix": ") ",
     "delete_cmd_prefix": "rm(",
     "library": "var_list.r",
     "varRefreshCmd": "cat(var_dic_list()) "
    }
   },
   "types_to_exclude": [
    "module",
    "function",
    "builtin_function_or_method",
    "instance",
    "_Feature"
   ],
   "window_display": false
  }
 },
 "nbformat": 4,
 "nbformat_minor": 4
}
