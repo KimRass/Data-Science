{
 "cells": [
  {
   "cell_type": "code",
   "execution_count": 1,
   "metadata": {
    "ExecuteTime": {
     "end_time": "2022-01-17T04:03:41.330529Z",
     "start_time": "2022-01-17T04:03:34.567946Z"
    }
   },
   "outputs": [
    {
     "name": "stderr",
     "output_type": "stream",
     "text": [
      "C:\\Users\\82104\\anaconda3\\lib\\site-packages\\tqdm\\std.py:697: FutureWarning: The Panel class is removed from pandas. Accessing it from the top-level namespace will also be removed in the next version\n",
      "  from pandas import Panel\n"
     ]
    }
   ],
   "source": [
    "import os\n",
    "import random\n",
    "from tqdm.notebook import tqdm\n",
    "import numpy as np\n",
    "import pandas as pd\n",
    "import tensorflow as tf\n",
    "from tensorflow.keras import Input, Model, Sequential\n",
    "from tensorflow.keras.preprocessing import image_dataset_from_directory\n",
    "from tensorflow.keras.preprocessing.sequence import pad_sequences\n",
    "from tensorflow.keras.preprocessing.image import load_img, img_to_array, ImageDataGenerator\n",
    "from tensorflow.keras.layers import Layer, Dense, Flatten, Dropout, Concatenate, Add, Dot, Multiply, Reshape, Activation, BatchNormalization, SimpleRNNCell, RNN, SimpleRNN, LSTM, Embedding, Bidirectional, TimeDistributed, Conv1D, Conv2D, MaxPool1D, MaxPool2D, GlobalMaxPool1D, GlobalMaxPool2D, AveragePooling1D, AveragePooling2D, GlobalAveragePooling1D, GlobalAveragePooling2D, ZeroPadding2D\n",
    "from tensorflow.keras.optimizers import SGD, Adam, Adagrad\n",
    "from tensorflow.keras.metrics import MeanSquaredError, RootMeanSquaredError, MeanAbsoluteError, MeanAbsolutePercentageError, BinaryCrossentropy, CategoricalCrossentropy, SparseCategoricalCrossentropy, CosineSimilarity\n",
    "from tensorflow.keras.layers.experimental.preprocessing import Rescaling\n",
    "from tensorflow.keras.callbacks import EarlyStopping, ModelCheckpoint\n",
    "from tensorflow.keras.activations import linear, sigmoid, reluimport matplotlib.pyplot as plt\n",
    "import seaborn as sb\n",
    "from google_drive_downloader import GoogleDriveDownloader as gdd\n",
    "from sklearn.model_selection import train_test_split\n",
    "from itertools import combinations\n",
    "\n",
    "tqdm.pandas()\n",
    "np.set_printoptions(edgeitems=3, infstr=\"inf\", linewidth=75, nanstr=\"nan\", precision=8, suppress=False, threshold=1000, formatter=None)\n",
    "plt.style.use(\"dark_background\")"
   ]
  },
  {
   "cell_type": "code",
   "execution_count": 62,
   "metadata": {
    "ExecuteTime": {
     "end_time": "2022-01-17T05:16:12.735855Z",
     "start_time": "2022-01-17T05:16:12.647576Z"
    }
   },
   "outputs": [],
   "source": [
    "# age: (0~4: 0, 5~9: 1, 10~14: 2, ...)\n",
    "users = pd.read_csv(\"Datasets/MovieLens 100k/100k_users.csv\")\n",
    "# year: 영화 개봉 연도\n",
    "movies = pd.read_csv(\"Datasets/MovieLens 100k/100k_movies.csv\")\n",
    "ratings = pd.read_csv(\"Datasets/MovieLens 100k/100k_ratings.csv\")\n",
    "\n",
    "data = pd.merge(ratings, users, on=\"user_id\")\n",
    "data = pd.merge(data, movies, on=\"item_id\")"
   ]
  },
  {
   "cell_type": "markdown",
   "metadata": {},
   "source": [
    "# Label Encoding"
   ]
  },
  {
   "cell_type": "code",
   "execution_count": 63,
   "metadata": {
    "ExecuteTime": {
     "end_time": "2022-01-17T05:16:13.408057Z",
     "start_time": "2022-01-17T05:16:13.251533Z"
    }
   },
   "outputs": [],
   "source": [
    "cols = [\"user_id\", \"item_id\", \"age\", \"gender\", \"occupation\", \"year\"] + data.loc[:, \"unknown\":\"Western\"].columns.tolist()\n",
    "for col in cols:\n",
    "    data[col] = pd.Categorical(data[col])\n",
    "    data[col] = data[col].cat.codes"
   ]
  },
  {
   "cell_type": "markdown",
   "metadata": {},
   "source": [
    "## Factorization Machine의 개념\n",
    "\n",
    "### Feature Vectors\n",
    "![feature_table](https://i.imgur.com/fTwPYWa.png)\n",
    "\n",
    "### 기본 아이디어\n",
    "- degree $d = 2$인 Factorization Machine의 모델은 다음과 같이 정의됩니다. $d = 2$라는 것은 embedding vectors를 최대 2개 조합하겠다는 의미입니다.\n",
    "$$\n",
    "\\hat{y}(x):=w_0 + \\sum_{i=1}^n w_ix_i + \\sum_{i=1}^n\\sum_{j=i+1}^n w_{i,j}x_ix_j\n",
    "$$\n",
    "- $w_0$: Global Bias\n",
    "- $n$: The Number of Features\n",
    "- $w_i$: The Weight of $i$th Feature\n",
    "- $x_i$: The Value of $i$th Feature of the Sample.\n",
    "- $w_{i,j}$ : The Interactive Weight of $i$th Feature and $j$th Feature\n",
    "$$\n",
    "w_{i,j} := \\vec{v_i}\\cdot\\vec{v_j} = \\sum_{f=1}^k v_{i,f}v_{j,f}\n",
    "$$\n",
    "- $\\vec{v_i}$: The Embedding Vector of $i$th Feature\n",
    "- `tensorflow.keras.layers.Embedding()`를 사용할 경우\n",
    "$$\n",
    "w_0 + \\sum_{i=1}^n w_i\n",
    "$$"
   ]
  },
  {
   "cell_type": "markdown",
   "metadata": {},
   "source": [
    "# Modeling"
   ]
  },
  {
   "cell_type": "code",
   "execution_count": 79,
   "metadata": {
    "ExecuteTime": {
     "end_time": "2022-01-17T05:25:59.645585Z",
     "start_time": "2022-01-17T05:25:59.311691Z"
    },
    "scrolled": false
   },
   "outputs": [
    {
     "name": "stderr",
     "output_type": "stream",
     "text": [
      "C:\\Users\\82104\\anaconda3\\lib\\site-packages\\keras\\optimizer_v2\\adagrad.py:74: UserWarning: The `lr` argument is deprecated, use `learning_rate` instead.\n",
      "  super(Adagrad, self).__init__(name, **kwargs)\n"
     ]
    }
   ],
   "source": [
    "k = 64\n",
    "# cols = [\"user_id\", \"item_id\", \"age\", \"year\"]\n",
    "inputs = list()\n",
    "embedding_mlr_list = list()\n",
    "embedding_fm_list = list()\n",
    "for col in cols:\n",
    "    input_ = Input(shape=(), name=f\"Input_{col}\")\n",
    "    inputs.append(input_)\n",
    "    \n",
    "    input_dim = data[col].nunique()\n",
    "    z1 = Embedding(input_dim=input_dim, output_dim=1, name=f\"Embedding_1_{col}\")(input_)\n",
    "    embedding_mlr_list.append(z1)\n",
    "\n",
    "    z2 = Embedding(input_dim=input_dim, output_dim=k, name=f\"Embedding_{k}_{col}\")(input_)\n",
    "    embedding_fm_list.append(z2)\n",
    "    \n",
    "# Multivariate Linear Regression Part\n",
    "logits_mlr = tf.Variable((0.,)) + tf.math.add_n(embedding_mlr_list)\n",
    "\n",
    "# Factorization Machine Part\n",
    "temp = tf.stack(embedding_fm_list, axis=1)\n",
    "logits_fm = 1/2*tf.math.reduce_sum(tf.math.square(tf.math.reduce_sum(temp, axis=1)) - tf.math.reduce_sum(tf.math.square(temp), axis=1), axis=1, keepdims=True)\n",
    "\n",
    "model = Model(inputs=inputs, outputs=logits_mlr + logits_fm, name=\"movielens100k_fm\")\n",
    "\n",
    "model.compile(optimizer=Adagrad(lr=0.1), loss=\"mse\", metrics=[\"mse\"])\n",
    "# model.summary()"
   ]
  },
  {
   "cell_type": "code",
   "execution_count": 80,
   "metadata": {
    "ExecuteTime": {
     "end_time": "2022-01-17T05:27:01.942421Z",
     "start_time": "2022-01-17T05:26:06.980300Z"
    }
   },
   "outputs": [
    {
     "name": "stdout",
     "output_type": "stream",
     "text": [
      "Epoch 1/64\n",
      "\n",
      "Epoch 00001: val_mse improved from inf to 0.98950, saving model to movielens100k_fm_tensorflow.h5\n",
      "282/282 - 5s - loss: 23.6809 - mse: 23.6809 - val_loss: 0.9895 - val_mse: 0.9895 - 5s/epoch - 16ms/step\n",
      "Epoch 2/64\n",
      "\n",
      "Epoch 00002: val_mse improved from 0.98950 to 0.94564, saving model to movielens100k_fm_tensorflow.h5\n",
      "282/282 - 2s - loss: 0.9284 - mse: 0.9284 - val_loss: 0.9456 - val_mse: 0.9456 - 2s/epoch - 8ms/step\n",
      "Epoch 3/64\n",
      "\n",
      "Epoch 00003: val_mse improved from 0.94564 to 0.93054, saving model to movielens100k_fm_tensorflow.h5\n",
      "282/282 - 2s - loss: 0.8935 - mse: 0.8935 - val_loss: 0.9305 - val_mse: 0.9305 - 2s/epoch - 8ms/step\n",
      "Epoch 4/64\n",
      "\n",
      "Epoch 00004: val_mse improved from 0.93054 to 0.92149, saving model to movielens100k_fm_tensorflow.h5\n",
      "282/282 - 2s - loss: 0.8757 - mse: 0.8757 - val_loss: 0.9215 - val_mse: 0.9215 - 2s/epoch - 8ms/step\n",
      "Epoch 5/64\n",
      "\n",
      "Epoch 00005: val_mse improved from 0.92149 to 0.91709, saving model to movielens100k_fm_tensorflow.h5\n",
      "282/282 - 2s - loss: 0.8640 - mse: 0.8640 - val_loss: 0.9171 - val_mse: 0.9171 - 2s/epoch - 8ms/step\n",
      "Epoch 6/64\n",
      "\n",
      "Epoch 00006: val_mse improved from 0.91709 to 0.91563, saving model to movielens100k_fm_tensorflow.h5\n",
      "282/282 - 2s - loss: 0.8555 - mse: 0.8555 - val_loss: 0.9156 - val_mse: 0.9156 - 2s/epoch - 8ms/step\n",
      "Epoch 7/64\n",
      "\n",
      "Epoch 00007: val_mse improved from 0.91563 to 0.91136, saving model to movielens100k_fm_tensorflow.h5\n",
      "282/282 - 2s - loss: 0.8474 - mse: 0.8474 - val_loss: 0.9114 - val_mse: 0.9114 - 2s/epoch - 8ms/step\n",
      "Epoch 8/64\n",
      "\n",
      "Epoch 00008: val_mse improved from 0.91136 to 0.90647, saving model to movielens100k_fm_tensorflow.h5\n",
      "282/282 - 2s - loss: 0.8415 - mse: 0.8415 - val_loss: 0.9065 - val_mse: 0.9065 - 2s/epoch - 8ms/step\n",
      "Epoch 9/64\n",
      "\n",
      "Epoch 00009: val_mse improved from 0.90647 to 0.90504, saving model to movielens100k_fm_tensorflow.h5\n",
      "282/282 - 2s - loss: 0.8356 - mse: 0.8356 - val_loss: 0.9050 - val_mse: 0.9050 - 2s/epoch - 8ms/step\n",
      "Epoch 10/64\n",
      "\n",
      "Epoch 00010: val_mse improved from 0.90504 to 0.90090, saving model to movielens100k_fm_tensorflow.h5\n",
      "282/282 - 2s - loss: 0.8304 - mse: 0.8304 - val_loss: 0.9009 - val_mse: 0.9009 - 2s/epoch - 8ms/step\n",
      "Epoch 11/64\n",
      "\n",
      "Epoch 00011: val_mse did not improve from 0.90090\n",
      "282/282 - 2s - loss: 0.8251 - mse: 0.8251 - val_loss: 0.9023 - val_mse: 0.9023 - 2s/epoch - 7ms/step\n",
      "Epoch 12/64\n",
      "\n",
      "Epoch 00012: val_mse improved from 0.90090 to 0.90086, saving model to movielens100k_fm_tensorflow.h5\n",
      "282/282 - 2s - loss: 0.8198 - mse: 0.8198 - val_loss: 0.9009 - val_mse: 0.9009 - 2s/epoch - 8ms/step\n",
      "Epoch 13/64\n",
      "\n",
      "Epoch 00013: val_mse improved from 0.90086 to 0.89604, saving model to movielens100k_fm_tensorflow.h5\n",
      "282/282 - 2s - loss: 0.8154 - mse: 0.8154 - val_loss: 0.8960 - val_mse: 0.8960 - 2s/epoch - 8ms/step\n",
      "Epoch 14/64\n",
      "\n",
      "Epoch 00014: val_mse improved from 0.89604 to 0.89304, saving model to movielens100k_fm_tensorflow.h5\n",
      "282/282 - 2s - loss: 0.8102 - mse: 0.8102 - val_loss: 0.8930 - val_mse: 0.8930 - 2s/epoch - 8ms/step\n",
      "Epoch 15/64\n",
      "\n",
      "Epoch 00015: val_mse did not improve from 0.89304\n",
      "282/282 - 2s - loss: 0.8055 - mse: 0.8055 - val_loss: 0.8937 - val_mse: 0.8937 - 2s/epoch - 7ms/step\n",
      "Epoch 16/64\n",
      "\n",
      "Epoch 00016: val_mse improved from 0.89304 to 0.89278, saving model to movielens100k_fm_tensorflow.h5\n",
      "282/282 - 2s - loss: 0.8005 - mse: 0.8005 - val_loss: 0.8928 - val_mse: 0.8928 - 2s/epoch - 8ms/step\n",
      "Epoch 17/64\n",
      "\n",
      "Epoch 00017: val_mse improved from 0.89278 to 0.88979, saving model to movielens100k_fm_tensorflow.h5\n",
      "282/282 - 2s - loss: 0.7956 - mse: 0.7956 - val_loss: 0.8898 - val_mse: 0.8898 - 2s/epoch - 8ms/step\n",
      "Epoch 18/64\n",
      "\n",
      "Epoch 00018: val_mse improved from 0.88979 to 0.88762, saving model to movielens100k_fm_tensorflow.h5\n",
      "282/282 - 2s - loss: 0.7906 - mse: 0.7906 - val_loss: 0.8876 - val_mse: 0.8876 - 2s/epoch - 8ms/step\n",
      "Epoch 19/64\n",
      "\n",
      "Epoch 00019: val_mse improved from 0.88762 to 0.88551, saving model to movielens100k_fm_tensorflow.h5\n",
      "282/282 - 2s - loss: 0.7857 - mse: 0.7857 - val_loss: 0.8855 - val_mse: 0.8855 - 2s/epoch - 8ms/step\n",
      "Epoch 20/64\n",
      "\n",
      "Epoch 00020: val_mse did not improve from 0.88551\n",
      "282/282 - 2s - loss: 0.7804 - mse: 0.7804 - val_loss: 0.8860 - val_mse: 0.8860 - 2s/epoch - 7ms/step\n",
      "Epoch 21/64\n",
      "\n",
      "Epoch 00021: val_mse improved from 0.88551 to 0.88221, saving model to movielens100k_fm_tensorflow.h5\n",
      "282/282 - 2s - loss: 0.7750 - mse: 0.7750 - val_loss: 0.8822 - val_mse: 0.8822 - 2s/epoch - 8ms/step\n",
      "Epoch 22/64\n",
      "\n",
      "Epoch 00022: val_mse improved from 0.88221 to 0.88024, saving model to movielens100k_fm_tensorflow.h5\n",
      "282/282 - 2s - loss: 0.7701 - mse: 0.7701 - val_loss: 0.8802 - val_mse: 0.8802 - 2s/epoch - 8ms/step\n",
      "Epoch 23/64\n",
      "\n",
      "Epoch 00023: val_mse did not improve from 0.88024\n",
      "282/282 - 2s - loss: 0.7645 - mse: 0.7645 - val_loss: 0.8821 - val_mse: 0.8821 - 2s/epoch - 8ms/step\n",
      "Epoch 24/64\n",
      "\n",
      "Epoch 00024: val_mse did not improve from 0.88024\n",
      "282/282 - 2s - loss: 0.7588 - mse: 0.7588 - val_loss: 0.8835 - val_mse: 0.8835 - 2s/epoch - 9ms/step\n",
      "Epoch 00024: early stopping\n"
     ]
    }
   ],
   "source": [
    "x = data[cols]\n",
    "y = np.array(data[\"rating\"])\n",
    "\n",
    "x_tr_val, x_te, y_tr_val, y_te = train_test_split(x, y, test_size=0.1, shuffle=True, random_state=12345)\n",
    "x_tr_val = [ser.values for name, ser in x_tr_val.iteritems()]\n",
    "x_te = [ser.values for name, ser in x_te.iteritems()]\n",
    "\n",
    "es = EarlyStopping(monitor=\"val_loss\", mode=\"auto\", verbose=1, patience=2)\n",
    "model_path = \"movielens100k_fm_tensorflow.h5\"\n",
    "mc = ModelCheckpoint(filepath=model_path, monitor=\"val_mse\", mode=\"auto\", verbose=1, save_best_only=True)\n",
    "hist = model.fit(x=x_tr_val, y=y_tr_val, validation_split=0.2, batch_size=256, epochs=64, verbose=2, shuffle=True, callbacks=[es, mc])"
   ]
  },
  {
   "cell_type": "code",
   "execution_count": 78,
   "metadata": {
    "ExecuteTime": {
     "end_time": "2022-01-17T05:25:22.830329Z",
     "start_time": "2022-01-17T05:25:22.659132Z"
    }
   },
   "outputs": [
    {
     "data": {
      "image/png": "[encoded data removed]",
      "text/plain": [
       "<Figure size 432x288 with 1 Axes>"
      ]
     },
     "metadata": {},
     "output_type": "display_data"
    }
   ],
   "source": [
    "plt.plot(hist.history[\"loss\"], label=\"loss\");\n",
    "plt.plot(hist.history[\"val_loss\"], label=\"val_loss\");\n",
    "plt.legend();"
   ]
  },
  {
   "cell_type": "code",
   "execution_count": null,
   "metadata": {},
   "outputs": [],
   "source": [
    "# x = data[[\"user_id\", \"item_id\", \"age\", \"year\"]]\n",
    "# # x = data.drop([\"rating\"], axis=1)\n",
    "# y = data[[\"rating\"]]\n",
    "\n",
    "# x_tr, x_te, y_tr, y_te = train_test_split(x, y, test_size=0.1, random_state=12345)\n",
    "\n",
    "# #tensor로 바꿔줍니다.\n",
    "# tr_set = tf.data.Dataset.from_tensor_slices(({k:v.values for k, v in x_tr.iteritems()}, y_tr.values)).shuffle(len(x_tr)).batch(batch_size)\n",
    "# te_set = tf.data.Dataset.from_tensor_slices(({k:v.values for k, v in x_te.iteritems()}, y_te.values)).batch(batch_size)\n",
    "\n",
    "# model.compile(optimizer=tf.keras.optimizers.Adagrad(lr=0.2), loss=tf.keras.losses.MeanSquaredError(), metrics=[tf.keras.metrics.RootMeanSquaredError()])\n",
    "\n",
    "# batch_size = 256\n",
    "# n_epochs = 50\n",
    "# ### (5) Dataset 정의하기\n",
    "# hist = model.fit_generator(generator=tr_set, teidation_data=te_set, epochs=n_epochs)"
   ]
  },
  {
   "cell_type": "code",
   "execution_count": 103,
   "metadata": {
    "ExecuteTime": {
     "end_time": "2022-01-17T07:05:30.563939Z",
     "start_time": "2022-01-17T07:05:29.931940Z"
    }
   },
   "outputs": [
    {
     "name": "stdout",
     "output_type": "stream",
     "text": [
      "28.855473\n"
     ]
    }
   ],
   "source": [
    "preds = model.predict(x_te)\n",
    "preds = preds[:, 0]\n",
    "\n",
    "mape = MeanAbsolutePercentageError()(y_te, preds).numpy()\n",
    "print(mape)"
   ]
  },
  {
   "cell_type": "code",
   "execution_count": null,
   "metadata": {},
   "outputs": [],
   "source": []
  },
  {
   "cell_type": "markdown",
   "metadata": {},
   "source": [
    "## Factorization Machine Part\n",
    "$$\n",
    "\\sum_{i=1}^n\\sum_{j=i+1}^nw_{i,j}x_ix_j = \\sum_{i=1}^n\\sum_{j=i+1}^n(\\vec{v_i}\\cdot\\vec{v_j})x_ix_j = \\sum_{i=1}^n\\sum_{j=i+1}^n\\sum_{f=1}^k v_{i,f}v_{j,f}x_ix_j\n",
    "$$\n",
    "- tf.keras.layers.Embedding() 함수를 사용할 경우 다음과 같이 weights만의 연산으로 표현됩니다.\n",
    "$$\n",
    "\\sum_{i=1}^n\\sum_{j=i+1}^n w_{i,j} = \\sum_{i=1}^n\\sum_{j=i+1}^n(\\vec{v_i}\\cdot\\vec{v_j}) = \\sum_{i=1}^n\\sum_{j=i+1}^n\\sum_{f=1}^k v_{i,f}v_{j,f}\n",
    "$$\n",
    "- 이 식의 시간 복잡도는 $O(kn^2)$입니다.\n",
    "- 이를 다음과 같이 수정하여 시간 복잡도를 $O(kn)$으로 만들 수 있습니다.\n",
    "$$\n",
    "\\frac{1}{2}\\sum_{f=1}^k\\left(\\left(\\sum_{i=1}^nv_{i,f}\\right)^2 - \\sum_{i=1}^n{v_{i,f}}^2\\right)\n",
    "$$"
   ]
  }
 ],
 "metadata": {
  "hide_input": false,
  "kernelspec": {
   "display_name": "Python 3",
   "language": "python",
   "name": "python3"
  },
  "language_info": {
   "codemirror_mode": {
    "name": "ipython",
    "version": 3
   },
   "file_extension": ".py",
   "mimetype": "text/x-python",
   "name": "python",
   "nbconvert_exporter": "python",
   "pygments_lexer": "ipython3",
   "version": "3.8.5"
  },
  "toc": {
   "base_numbering": 1,
   "nav_menu": {},
   "number_sections": true,
   "sideBar": true,
   "skip_h1_title": false,
   "title_cell": "Table of Contents",
   "title_sidebar": "Contents",
   "toc_cell": false,
   "toc_position": {},
   "toc_section_display": true,
   "toc_window_display": false
  },
  "varInspector": {
   "cols": {
    "lenName": 16,
    "lenType": 16,
    "lenVar": 40
   },
   "kernels_config": {
    "python": {
     "delete_cmd_postfix": "",
     "delete_cmd_prefix": "del ",
     "library": "var_list.py",
     "varRefreshCmd": "print(var_dic_list())"
    },
    "r": {
     "delete_cmd_postfix": ") ",
     "delete_cmd_prefix": "rm(",
     "library": "var_list.r",
     "varRefreshCmd": "cat(var_dic_list()) "
    }
   },
   "types_to_exclude": [
    "module",
    "function",
    "builtin_function_or_method",
    "instance",
    "_Feature"
   ],
   "window_display": false
  }
 },
 "nbformat": 4,
 "nbformat_minor": 4
}
