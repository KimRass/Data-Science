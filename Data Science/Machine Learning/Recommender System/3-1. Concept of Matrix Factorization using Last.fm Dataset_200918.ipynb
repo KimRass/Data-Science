{
 "cells": [
  {
   "cell_type": "markdown",
   "metadata": {},
   "source": [
    "# Model-Based Collaborative Filtering - Matrix Factorization"
   ]
  },
  {
   "cell_type": "markdown",
   "metadata": {},
   "source": [
    "### Explicit Data\n",
    "- 점수, 후기 등 사용자가 자신의 선호를 직접적으로 데이터입니다.\n",
    "\n",
    "### Impicit Data\n",
    "- 장바구니 기록, 시청 횟수 등 사용자가 자신의 선호를 직접적으로 드러내지 않은 데이터입니다.\n",
    "- 따라서 사용자는 자신이 선호하는 아이템에 대해서 주로 로그를 발생시킨다고 가정하여 접근합니다.\n",
    "- 주로 긍정적 반응이 기록된다는 특징이 있습니다.\n",
    "- 사용자의 행동에 따라 자동으로 기록되므로 explicit data보다 dense합니다.\n",
    "- 도메인 지식을 활용하여 경험적으로 접근하며 시행착오를 겪어야 합니다."
   ]
  },
  {
   "cell_type": "code",
   "execution_count": 1,
   "metadata": {},
   "outputs": [],
   "source": [
    "import numpy as np\n",
    "import pandas as pd\n",
    "import matplotlib.pyplot as plt\n",
    "import seaborn as sb\n",
    "import tensorflow as tf\n",
    "from google_drive_downloader import GoogleDriveDownloader as gdd\n",
    "\n",
    "np.set_printoptions(3)"
   ]
  },
  {
   "cell_type": "markdown",
   "metadata": {},
   "source": [
    "## Last.fm 데이터\n",
    "- `player_df` : 각 유저의 아티스트별 재생 횟수 (상호작용 데이터)\n",
    "- `artist_df` : 아티스트 정보 (아이템에 대한 데이터)\n",
    "- `user_df` : 유저 정보 (사용자에 대한 데이터)"
   ]
  },
  {
   "cell_type": "code",
   "execution_count": 3,
   "metadata": {},
   "outputs": [],
   "source": [
    "gdd.download_file_from_google_drive(file_id=\"1BpEbW6iSUlIp7zr3s_KDaeIRMUjgpSlV\", dest_path=\"./plays.csv\")\n",
    "plays_df = pd.read_csv(\"plays.csv\")\n",
    "\n",
    "gdd.download_file_from_google_drive(file_id=\"1vxEhaNO6FhK96nWXiJCgs4JbjNCE4Kf1\", dest_path=\"./artists.csv\")\n",
    "arts_df = pd.read_csv(\"artists.csv\")\n",
    "\n",
    "gdd.download_file_from_google_drive(file_id=\"1cebHz1STTTNJiHt9wLA1tdJjocSVR1B6\", dest_path=\"./users.csv\")\n",
    "users_df = pd.read_csv(\"users.csv\")"
   ]
  },
  {
   "cell_type": "code",
   "execution_count": 4,
   "metadata": {},
   "outputs": [
    {
     "data": {
      "text/html": [
       "<div>\n",
       "<style scoped>\n",
       "    .dataframe tbody tr th:only-of-type {\n",
       "        vertical-align: middle;\n",
       "    }\n",
       "\n",
       "    .dataframe tbody tr th {\n",
       "        vertical-align: top;\n",
       "    }\n",
       "\n",
       "    .dataframe thead th {\n",
       "        text-align: right;\n",
       "    }\n",
       "</style>\n",
       "<table border=\"1\" class=\"dataframe\">\n",
       "  <thead>\n",
       "    <tr style=\"text-align: right;\">\n",
       "      <th></th>\n",
       "      <th>user_id</th>\n",
       "      <th>artist_id</th>\n",
       "      <th>plays</th>\n",
       "    </tr>\n",
       "  </thead>\n",
       "  <tbody>\n",
       "    <tr>\n",
       "      <th>5914175</th>\n",
       "      <td>122783</td>\n",
       "      <td>5541</td>\n",
       "      <td>611</td>\n",
       "    </tr>\n",
       "    <tr>\n",
       "      <th>4820063</th>\n",
       "      <td>100105</td>\n",
       "      <td>688</td>\n",
       "      <td>174</td>\n",
       "    </tr>\n",
       "    <tr>\n",
       "      <th>14263910</th>\n",
       "      <td>296126</td>\n",
       "      <td>23181</td>\n",
       "      <td>36</td>\n",
       "    </tr>\n",
       "    <tr>\n",
       "      <th>13054360</th>\n",
       "      <td>271024</td>\n",
       "      <td>8319</td>\n",
       "      <td>225</td>\n",
       "    </tr>\n",
       "    <tr>\n",
       "      <th>14550422</th>\n",
       "      <td>302060</td>\n",
       "      <td>552</td>\n",
       "      <td>53</td>\n",
       "    </tr>\n",
       "  </tbody>\n",
       "</table>\n",
       "</div>"
      ],
      "text/plain": [
       "          user_id  artist_id  plays\n",
       "5914175    122783       5541    611\n",
       "4820063    100105        688    174\n",
       "14263910   296126      23181     36\n",
       "13054360   271024       8319    225\n",
       "14550422   302060        552     53"
      ]
     },
     "execution_count": 4,
     "metadata": {},
     "output_type": "execute_result"
    }
   ],
   "source": [
    "plays_df.sample(5)"
   ]
  },
  {
   "cell_type": "code",
   "execution_count": 5,
   "metadata": {},
   "outputs": [
    {
     "data": {
      "text/plain": [
       "(17302623, 3)"
      ]
     },
     "execution_count": 5,
     "metadata": {},
     "output_type": "execute_result"
    }
   ],
   "source": [
    "plays_df.shape"
   ]
  },
  {
   "cell_type": "code",
   "execution_count": 6,
   "metadata": {},
   "outputs": [
    {
     "data": {
      "text/html": [
       "<div>\n",
       "<style scoped>\n",
       "    .dataframe tbody tr th:only-of-type {\n",
       "        vertical-align: middle;\n",
       "    }\n",
       "\n",
       "    .dataframe tbody tr th {\n",
       "        vertical-align: top;\n",
       "    }\n",
       "\n",
       "    .dataframe thead th {\n",
       "        text-align: right;\n",
       "    }\n",
       "</style>\n",
       "<table border=\"1\" class=\"dataframe\">\n",
       "  <thead>\n",
       "    <tr style=\"text-align: right;\">\n",
       "      <th></th>\n",
       "      <th>user_id</th>\n",
       "      <th>gender</th>\n",
       "      <th>age</th>\n",
       "      <th>country</th>\n",
       "    </tr>\n",
       "  </thead>\n",
       "  <tbody>\n",
       "    <tr>\n",
       "      <th>40714</th>\n",
       "      <td>40714</td>\n",
       "      <td>m</td>\n",
       "      <td>19</td>\n",
       "      <td>Russian Federation</td>\n",
       "    </tr>\n",
       "    <tr>\n",
       "      <th>67718</th>\n",
       "      <td>67718</td>\n",
       "      <td>m</td>\n",
       "      <td>-1</td>\n",
       "      <td>United States</td>\n",
       "    </tr>\n",
       "    <tr>\n",
       "      <th>50688</th>\n",
       "      <td>50688</td>\n",
       "      <td>m</td>\n",
       "      <td>-1</td>\n",
       "      <td>United States</td>\n",
       "    </tr>\n",
       "    <tr>\n",
       "      <th>67231</th>\n",
       "      <td>67231</td>\n",
       "      <td>m</td>\n",
       "      <td>-1</td>\n",
       "      <td>United States</td>\n",
       "    </tr>\n",
       "    <tr>\n",
       "      <th>114371</th>\n",
       "      <td>114371</td>\n",
       "      <td>m</td>\n",
       "      <td>25</td>\n",
       "      <td>United States</td>\n",
       "    </tr>\n",
       "  </tbody>\n",
       "</table>\n",
       "</div>"
      ],
      "text/plain": [
       "        user_id gender  age             country\n",
       "40714     40714      m   19  Russian Federation\n",
       "67718     67718      m   -1       United States\n",
       "50688     50688      m   -1       United States\n",
       "67231     67231      m   -1       United States\n",
       "114371   114371      m   25       United States"
      ]
     },
     "execution_count": 6,
     "metadata": {},
     "output_type": "execute_result"
    }
   ],
   "source": [
    "users_df.sample(5)"
   ]
  },
  {
   "cell_type": "code",
   "execution_count": 7,
   "metadata": {},
   "outputs": [
    {
     "data": {
      "text/plain": [
       "(359347, 4)"
      ]
     },
     "execution_count": 7,
     "metadata": {},
     "output_type": "execute_result"
    }
   ],
   "source": [
    "users_df.shape"
   ]
  },
  {
   "cell_type": "code",
   "execution_count": 8,
   "metadata": {},
   "outputs": [
    {
     "data": {
      "text/html": [
       "<div>\n",
       "<style scoped>\n",
       "    .dataframe tbody tr th:only-of-type {\n",
       "        vertical-align: middle;\n",
       "    }\n",
       "\n",
       "    .dataframe tbody tr th {\n",
       "        vertical-align: top;\n",
       "    }\n",
       "\n",
       "    .dataframe thead th {\n",
       "        text-align: right;\n",
       "    }\n",
       "</style>\n",
       "<table border=\"1\" class=\"dataframe\">\n",
       "  <thead>\n",
       "    <tr style=\"text-align: right;\">\n",
       "      <th></th>\n",
       "      <th>artist_id</th>\n",
       "      <th>artist_name</th>\n",
       "    </tr>\n",
       "  </thead>\n",
       "  <tbody>\n",
       "    <tr>\n",
       "      <th>82117</th>\n",
       "      <td>82117</td>\n",
       "      <td>return of the red</td>\n",
       "    </tr>\n",
       "    <tr>\n",
       "      <th>137775</th>\n",
       "      <td>137775</td>\n",
       "      <td>secret ingredients</td>\n",
       "    </tr>\n",
       "    <tr>\n",
       "      <th>65693</th>\n",
       "      <td>65693</td>\n",
       "      <td>montreal jazz club</td>\n",
       "    </tr>\n",
       "    <tr>\n",
       "      <th>125468</th>\n",
       "      <td>125468</td>\n",
       "      <td>nåid</td>\n",
       "    </tr>\n",
       "    <tr>\n",
       "      <th>123428</th>\n",
       "      <td>123428</td>\n",
       "      <td>jurek raben</td>\n",
       "    </tr>\n",
       "  </tbody>\n",
       "</table>\n",
       "</div>"
      ],
      "text/plain": [
       "        artist_id         artist_name\n",
       "82117       82117   return of the red\n",
       "137775     137775  secret ingredients\n",
       "65693       65693  montreal jazz club\n",
       "125468     125468                nåid\n",
       "123428     123428         jurek raben"
      ]
     },
     "execution_count": 8,
     "metadata": {},
     "output_type": "execute_result"
    }
   ],
   "source": [
    "arts_df.sample(5)"
   ]
  },
  {
   "cell_type": "code",
   "execution_count": 9,
   "metadata": {},
   "outputs": [
    {
     "data": {
      "text/plain": [
       "(160110, 2)"
      ]
     },
     "execution_count": 9,
     "metadata": {},
     "output_type": "execute_result"
    }
   ],
   "source": [
    "arts_df.shape"
   ]
  },
  {
   "cell_type": "code",
   "execution_count": 10,
   "metadata": {},
   "outputs": [],
   "source": [
    "# 사용자별 1곡 이상 들은 아티스트의 수\n",
    "n_arts_df = plays_df.groupby([\"user_id\"]).size().rename(\"n_arts\")"
   ]
  },
  {
   "cell_type": "code",
   "execution_count": 11,
   "metadata": {},
   "outputs": [
    {
     "data": {
      "text/plain": [
       "user_id\n",
       "263063    47\n",
       "229281    49\n",
       "350327    53\n",
       "9305      41\n",
       "186306    46\n",
       "Name: n_arts, dtype: int64"
      ]
     },
     "execution_count": 11,
     "metadata": {},
     "output_type": "execute_result"
    }
   ],
   "source": [
    "n_arts_df.sample(5)"
   ]
  },
  {
   "cell_type": "code",
   "execution_count": 12,
   "metadata": {},
   "outputs": [
    {
     "data": {
      "image/png": "[encoded data removed]",
      "text/plain": [
       "<Figure size 432x288 with 1 Axes>"
      ]
     },
     "metadata": {},
     "output_type": "display_data"
    }
   ],
   "source": [
    "plt.style.use(\"dark_background\")\n",
    "\n",
    "fig, ax = plt.subplots()\n",
    "\n",
    "ax.hist(n_arts_df, bins=30)\n",
    "\n",
    "fig.tight_layout()"
   ]
  },
  {
   "cell_type": "markdown",
   "metadata": {},
   "source": [
    "- 약 50개의 곡을 평균으로 한 정규분포에 가까운 형태를 보입니다."
   ]
  },
  {
   "cell_type": "code",
   "execution_count": 13,
   "metadata": {},
   "outputs": [],
   "source": [
    "# 아티스트별 자신의 음악을 들은 사용자의 수\n",
    "n_users_df = plays_df.groupby([\"artist_id\"]).size().rename(\"n_users\")"
   ]
  },
  {
   "cell_type": "code",
   "execution_count": 14,
   "metadata": {},
   "outputs": [
    {
     "data": {
      "text/plain": [
       "artist_id\n",
       "58794       4\n",
       "16659     429\n",
       "16933      30\n",
       "129996      2\n",
       "136034      3\n",
       "Name: n_users, dtype: int64"
      ]
     },
     "execution_count": 14,
     "metadata": {},
     "output_type": "execute_result"
    }
   ],
   "source": [
    "n_users_df.sample(5)"
   ]
  },
  {
   "cell_type": "code",
   "execution_count": 15,
   "metadata": {},
   "outputs": [
    {
     "data": {
      "image/png": "[encoded data removed]",
      "text/plain": [
       "<Figure size 432x288 with 1 Axes>"
      ]
     },
     "metadata": {},
     "output_type": "display_data"
    }
   ],
   "source": [
    "fig, ax = plt.subplots()\n",
    "\n",
    "ax.hist(n_users_df, bins=5000)\n",
    "ax.set_xlim([0, 500])\n",
    "\n",
    "fig.tight_layout()"
   ]
  },
  {
   "cell_type": "markdown",
   "metadata": {},
   "source": [
    "- 파레토 분포에 가까운 형태를 보입니다."
   ]
  },
  {
   "cell_type": "code",
   "execution_count": 16,
   "metadata": {},
   "outputs": [],
   "source": [
    "# 사용자별 아티스트당 평균 재생 횟수\n",
    "mn_plays_df = plays_df.groupby([\"user_id\"]).mean()[\"plays\"]"
   ]
  },
  {
   "cell_type": "code",
   "execution_count": 112,
   "metadata": {},
   "outputs": [
    {
     "data": {
      "text/plain": [
       "user_id\n",
       "58319      33.377049\n",
       "265113    519.519231\n",
       "268097    253.291667\n",
       "120395     39.434783\n",
       "27439      11.580000\n",
       "Name: plays, dtype: float64"
      ]
     },
     "execution_count": 112,
     "metadata": {},
     "output_type": "execute_result"
    }
   ],
   "source": [
    "mn_plays_df.sample(5)"
   ]
  },
  {
   "cell_type": "code",
   "execution_count": 119,
   "metadata": {},
   "outputs": [
    {
     "data": {
      "image/png": "[encoded data removed]",
      "text/plain": [
       "<Figure size 432x288 with 1 Axes>"
      ]
     },
     "metadata": {},
     "output_type": "display_data"
    }
   ],
   "source": [
    "fig, ax = plt.subplots()\n",
    "\n",
    "ax.hist(mn_plays_df, bins=1000)\n",
    "ax.set_xlim([0, 5000])\n",
    "\n",
    "fig.tight_layout()"
   ]
  },
  {
   "cell_type": "markdown",
   "metadata": {},
   "source": [
    "### Embedding\n",
    "- 사용자의 취향과 아이템의 특성을 벡터로 변환할 수 있다면 서로 간의 유사도를 계산할 수 있습니다.\n",
    "- 이렇게 의미를 정확히 알 수 없는 숫자들의 조합으로 표현하는 것을 embedding이라고 합니다.\n",
    "\n",
    "### Matrix Factorization\n",
    "- 사용자의 각 아이템에 대한 선호를 나타낸 행렬로부터 사용자의 취향을 나타낸 행렬과 제품의 특성을 나타낸 행렬로 분해하는 것을 말합니다.\n",
    "<img src=\"https://i.imgur.com/zvx2JNs.png\" height=\"150\" width=\"400\" >\n",
    "- 이를 통해 다음이 가능해짐.\n",
    "    - Rating Prediction : 사용자가 아직 선호를 나타내지 않은 아이템에 대한 선호를 예측할 수 있습니다.\n",
    "    - User Clustering : 유사한 취향을 가진 사용자끼리 군집화가 가능합니다..\n",
    "    - Item Clustering : 유사한 특성을 가진 아이템끼리 군집화가 가능합니다..\n",
    "    \n",
    "### Memory-Based Collaborative Filtering과 Model-Based Collaborative Filtering의 차이\n",
    "\n",
    "#### Memory-Based Collaborative Filtering\n",
    "- 별도의 특성 추출 과정 없이 사용자의 아이템에 대한 선호 데이터를 바로 사용합니다.\n",
    "- 비교적 직관적이나 뻔한 추천을 할 가능성이 존재한다는 단점이 있습니다.\n",
    "\n",
    "#### Model-Based Collaborative Filtering\n",
    "- 특성을 추출하여 embedding vector를 생성하는 과정이 필요합니다.\n",
    "- 좀 더 다양한 형태의 추천 가능합니다."
   ]
  },
  {
   "cell_type": "code",
   "execution_count": null,
   "metadata": {},
   "outputs": [],
   "source": []
  }
 ],
 "metadata": {
  "kernelspec": {
   "display_name": "Python 3",
   "language": "python",
   "name": "python3"
  },
  "language_info": {
   "codemirror_mode": {
    "name": "ipython",
    "version": 3
   },
   "file_extension": ".py",
   "mimetype": "text/x-python",
   "name": "python",
   "nbconvert_exporter": "python",
   "pygments_lexer": "ipython3",
   "version": "3.7.9"
  },
  "toc": {
   "base_numbering": 1,
   "nav_menu": {},
   "number_sections": false,
   "sideBar": true,
   "skip_h1_title": false,
   "title_cell": "Table of Contents",
   "title_sidebar": "Contents",
   "toc_cell": false,
   "toc_position": {},
   "toc_section_display": true,
   "toc_window_display": false
  },
  "varInspector": {
   "cols": {
    "lenName": 16,
    "lenType": 16,
    "lenVar": 40
   },
   "kernels_config": {
    "python": {
     "delete_cmd_postfix": "",
     "delete_cmd_prefix": "del ",
     "library": "var_list.py",
     "varRefreshCmd": "print(var_dic_list())"
    },
    "r": {
     "delete_cmd_postfix": ") ",
     "delete_cmd_prefix": "rm(",
     "library": "var_list.r",
     "varRefreshCmd": "cat(var_dic_list()) "
    }
   },
   "types_to_exclude": [
    "module",
    "function",
    "builtin_function_or_method",
    "instance",
    "_Feature"
   ],
   "window_display": false
  }
 },
 "nbformat": 4,
 "nbformat_minor": 4
}
