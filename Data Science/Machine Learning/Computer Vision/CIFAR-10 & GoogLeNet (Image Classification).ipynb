{
  "cells": [
    {
      "cell_type": "markdown",
      "metadata": {
        "id": "view-in-github",
        "colab_type": "text"
      },
      "source": [
        "<a href=\"https://colab.research.google.com/github/KimRass/Programming/blob/master/Data%20Science/Machine%20Learning/Computer%20Vision/CIFAR-10%20%26%20GoogLeNet%20(Image%20Classification).ipynb\" target=\"_parent\"><img src=\"https://colab.research.google.com/assets/colab-badge.svg\" alt=\"Open In Colab\"/></a>"
      ]
    },
    {
      "cell_type": "code",
      "execution_count": 12,
      "metadata": {
        "ExecuteTime": {
          "end_time": "2022-02-03T01:13:00.531153Z",
          "start_time": "2022-02-03T01:12:51.960774Z"
        },
        "colab": {
          "base_uri": "https://localhost:8080/"
        },
        "id": "5ZiAVJEcNVe1",
        "outputId": "30ad5b12-983a-4c70-b8d9-0e6b6d115a48"
      },
      "outputs": [
        {
          "output_type": "stream",
          "name": "stdout",
          "text": [
            "Drive already mounted at /content/drive; to attempt to forcibly remount, call drive.mount(\"/content/drive\", force_remount=True).\n"
          ]
        }
      ],
      "source": [
        "# Data Science/Machine Learning/Computer Vision/CIFAR-10 & GoogLeNet (Image Classification).ipynb\n",
        "\n",
        "from google.colab import drive\n",
        "import os\n",
        "drive.mount(\"/content/drive\")\n",
        "os.chdir(\"/content/drive/MyDrive/Libraries\")\n",
        "\n",
        "from sklearn.model_selection import train_test_split\n",
        "import sys\n",
        "import matplotlib.pyplot as plt\n",
        "import tensorflow as tf\n",
        "from tensorflow.keras import Input, Model, Sequential\n",
        "from tensorflow.keras.utils import to_categorical\n",
        "from tensorflow.keras.preprocessing import image_dataset_from_directory\n",
        "from tensorflow.keras.preprocessing.sequence import pad_sequences\n",
        "from tensorflow.keras.preprocessing.text import Tokenizer\n",
        "from tensorflow.keras.preprocessing.image import load_img, img_to_array, ImageDataGenerator\n",
        "from tensorflow.keras.layers import Layer, Dense, Flatten, Dropout, Concatenate, Add, Dot, Multiply, Reshape, Activation, BatchNormalization, SimpleRNNCell, RNN, SimpleRNN, LSTM, Embedding, Bidirectional, TimeDistributed, Conv1D, Conv2D, MaxPool1D, MaxPool2D, GlobalMaxPool1D, GlobalMaxPool2D, AveragePooling1D, AveragePooling2D, GlobalAveragePooling1D, GlobalAveragePooling2D, ZeroPadding2D\n",
        "from tensorflow.keras.optimizers import SGD, Adam, Adagrad\n",
        "from tensorflow.keras.metrics import MeanSquaredError, RootMeanSquaredError, MeanAbsoluteError, MeanAbsolutePercentageError, BinaryCrossentropy, CategoricalCrossentropy, SparseCategoricalCrossentropy, CosineSimilarity\n",
        "from tensorflow.keras.layers.experimental.preprocessing import Rescaling\n",
        "from tensorflow.keras.callbacks import EarlyStopping, ModelCheckpoint\n",
        "from tensorflow.keras.activations import linear, sigmoid, relu\n",
        "from tensorflow.keras.initializers import RandomNormal, glorot_uniform, he_uniform, Constant\n",
        "from tensorflow.keras.models import load_model\n",
        "\n",
        "plt.style.use(\"dark_background\")\n",
        "os.chdir(\"/content/drive/MyDrive/CV\")"
      ]
    },
    {
      "cell_type": "code",
      "execution_count": 3,
      "metadata": {
        "ExecuteTime": {
          "end_time": "2022-02-03T01:13:02.265615Z",
          "start_time": "2022-02-03T01:13:00.531153Z"
        },
        "colab": {
          "base_uri": "https://localhost:8080/"
        },
        "id": "57bzfqD1aW9n",
        "outputId": "9514a414-9184-4832-e9ba-253f45b247c1"
      },
      "outputs": [
        {
          "output_type": "stream",
          "name": "stdout",
          "text": [
            "Downloading data from https://www.cs.toronto.edu/~kriz/cifar-10-python.tar.gz\n",
            "170500096/170498071 [==============================] - 2s 0us/step\n",
            "170508288/170498071 [==============================] - 2s 0us/step\n"
          ]
        }
      ],
      "source": [
        "(X_tr_val, y_tr_val), (X_te, y_te) = tf.keras.datasets.cifar10.load_data()\n",
        "y_tr_val = to_categorical(y_tr_val)\n",
        "y_te = to_categorical(y_te)"
      ]
    },
    {
      "cell_type": "markdown",
      "metadata": {
        "id": "w5Bmsj-YZb6h"
      },
      "source": [
        "# Modeling (Modified for CIFAR-10)"
      ]
    },
    {
      "cell_type": "code",
      "execution_count": 4,
      "metadata": {
        "ExecuteTime": {
          "end_time": "2022-02-03T01:13:07.896019Z",
          "start_time": "2022-02-03T01:13:07.079834Z"
        },
        "colab": {
          "base_uri": "https://localhost:8080/"
        },
        "id": "Bzn2ReGGZb6j",
        "outputId": "4615297d-2a0e-4996-97bb-5dac5030389d"
      },
      "outputs": [
        {
          "output_type": "stream",
          "name": "stdout",
          "text": [
            "Model: \"model\"\n",
            "__________________________________________________________________________________________________\n",
            " Layer (type)                   Output Shape         Param #     Connected to                     \n",
            "==================================================================================================\n",
            " input_1 (InputLayer)           [(None, 32, 32, 3)]  0           []                               \n",
            "                                                                                                  \n",
            " conv2d (Conv2D)                (None, 16, 16, 64)   9472        ['input_1[0][0]']                \n",
            "                                                                                                  \n",
            " batch_normalization (BatchNorm  (None, 16, 16, 64)  256         ['conv2d[0][0]']                 \n",
            " alization)                                                                                       \n",
            "                                                                                                  \n",
            " conv2d_1 (Conv2D)              (None, 16, 16, 64)   4160        ['batch_normalization[0][0]']    \n",
            "                                                                                                  \n",
            " conv2d_2 (Conv2D)              (None, 16, 16, 192)  110784      ['conv2d_1[0][0]']               \n",
            "                                                                                                  \n",
            " batch_normalization_1 (BatchNo  (None, 16, 16, 192)  768        ['conv2d_2[0][0]']               \n",
            " rmalization)                                                                                     \n",
            "                                                                                                  \n",
            " conv2d_4 (Conv2D)              (None, 16, 16, 32)   6176        ['batch_normalization_1[0][0]']  \n",
            "                                                                                                  \n",
            " conv2d_6 (Conv2D)              (None, 16, 16, 32)   6176        ['batch_normalization_1[0][0]']  \n",
            "                                                                                                  \n",
            " max_pooling2d (MaxPooling2D)   (None, 16, 16, 192)  0           ['batch_normalization_1[0][0]']  \n",
            "                                                                                                  \n",
            " conv2d_3 (Conv2D)              (None, 16, 16, 64)   12352       ['batch_normalization_1[0][0]']  \n",
            "                                                                                                  \n",
            " conv2d_5 (Conv2D)              (None, 16, 16, 128)  36992       ['conv2d_4[0][0]']               \n",
            "                                                                                                  \n",
            " conv2d_7 (Conv2D)              (None, 16, 16, 32)   25632       ['conv2d_6[0][0]']               \n",
            "                                                                                                  \n",
            " conv2d_8 (Conv2D)              (None, 16, 16, 32)   6176        ['max_pooling2d[0][0]']          \n",
            "                                                                                                  \n",
            " concatenate (Concatenate)      (None, 16, 16, 256)  0           ['conv2d_3[0][0]',               \n",
            "                                                                  'conv2d_5[0][0]',               \n",
            "                                                                  'conv2d_7[0][0]',               \n",
            "                                                                  'conv2d_8[0][0]']               \n",
            "                                                                                                  \n",
            " conv2d_10 (Conv2D)             (None, 16, 16, 64)   16448       ['concatenate[0][0]']            \n",
            "                                                                                                  \n",
            " conv2d_12 (Conv2D)             (None, 16, 16, 64)   16448       ['concatenate[0][0]']            \n",
            "                                                                                                  \n",
            " max_pooling2d_1 (MaxPooling2D)  (None, 16, 16, 256)  0          ['concatenate[0][0]']            \n",
            "                                                                                                  \n",
            " conv2d_9 (Conv2D)              (None, 16, 16, 128)  32896       ['concatenate[0][0]']            \n",
            "                                                                                                  \n",
            " conv2d_11 (Conv2D)             (None, 16, 16, 192)  110784      ['conv2d_10[0][0]']              \n",
            "                                                                                                  \n",
            " conv2d_13 (Conv2D)             (None, 16, 16, 96)   153696      ['conv2d_12[0][0]']              \n",
            "                                                                                                  \n",
            " conv2d_14 (Conv2D)             (None, 16, 16, 64)   16448       ['max_pooling2d_1[0][0]']        \n",
            "                                                                                                  \n",
            " concatenate_1 (Concatenate)    (None, 16, 16, 480)  0           ['conv2d_9[0][0]',               \n",
            "                                                                  'conv2d_11[0][0]',              \n",
            "                                                                  'conv2d_13[0][0]',              \n",
            "                                                                  'conv2d_14[0][0]']              \n",
            "                                                                                                  \n",
            " max_pooling2d_2 (MaxPooling2D)  (None, 8, 8, 480)   0           ['concatenate_1[0][0]']          \n",
            "                                                                                                  \n",
            " conv2d_16 (Conv2D)             (None, 8, 8, 64)     30784       ['max_pooling2d_2[0][0]']        \n",
            "                                                                                                  \n",
            " conv2d_18 (Conv2D)             (None, 8, 8, 64)     30784       ['max_pooling2d_2[0][0]']        \n",
            "                                                                                                  \n",
            " max_pooling2d_3 (MaxPooling2D)  (None, 8, 8, 480)   0           ['max_pooling2d_2[0][0]']        \n",
            "                                                                                                  \n",
            " conv2d_15 (Conv2D)             (None, 8, 8, 192)    92352       ['max_pooling2d_2[0][0]']        \n",
            "                                                                                                  \n",
            " conv2d_17 (Conv2D)             (None, 8, 8, 208)    120016      ['conv2d_16[0][0]']              \n",
            "                                                                                                  \n",
            " conv2d_19 (Conv2D)             (None, 8, 8, 48)     76848       ['conv2d_18[0][0]']              \n",
            "                                                                                                  \n",
            " conv2d_20 (Conv2D)             (None, 8, 8, 64)     30784       ['max_pooling2d_3[0][0]']        \n",
            "                                                                                                  \n",
            " concatenate_2 (Concatenate)    (None, 8, 8, 512)    0           ['conv2d_15[0][0]',              \n",
            "                                                                  'conv2d_17[0][0]',              \n",
            "                                                                  'conv2d_19[0][0]',              \n",
            "                                                                  'conv2d_20[0][0]']              \n",
            "                                                                                                  \n",
            " conv2d_23 (Conv2D)             (None, 8, 8, 64)     32832       ['concatenate_2[0][0]']          \n",
            "                                                                                                  \n",
            " conv2d_25 (Conv2D)             (None, 8, 8, 64)     32832       ['concatenate_2[0][0]']          \n",
            "                                                                                                  \n",
            " max_pooling2d_4 (MaxPooling2D)  (None, 8, 8, 512)   0           ['concatenate_2[0][0]']          \n",
            "                                                                                                  \n",
            " conv2d_22 (Conv2D)             (None, 8, 8, 160)    82080       ['concatenate_2[0][0]']          \n",
            "                                                                                                  \n",
            " conv2d_24 (Conv2D)             (None, 8, 8, 224)    129248      ['conv2d_23[0][0]']              \n",
            "                                                                                                  \n",
            " conv2d_26 (Conv2D)             (None, 8, 8, 64)     102464      ['conv2d_25[0][0]']              \n",
            "                                                                                                  \n",
            " conv2d_27 (Conv2D)             (None, 8, 8, 64)     32832       ['max_pooling2d_4[0][0]']        \n",
            "                                                                                                  \n",
            " concatenate_3 (Concatenate)    (None, 8, 8, 512)    0           ['conv2d_22[0][0]',              \n",
            "                                                                  'conv2d_24[0][0]',              \n",
            "                                                                  'conv2d_26[0][0]',              \n",
            "                                                                  'conv2d_27[0][0]']              \n",
            "                                                                                                  \n",
            " conv2d_29 (Conv2D)             (None, 8, 8, 64)     32832       ['concatenate_3[0][0]']          \n",
            "                                                                                                  \n",
            " conv2d_31 (Conv2D)             (None, 8, 8, 64)     32832       ['concatenate_3[0][0]']          \n",
            "                                                                                                  \n",
            " max_pooling2d_5 (MaxPooling2D)  (None, 8, 8, 512)   0           ['concatenate_3[0][0]']          \n",
            "                                                                                                  \n",
            " conv2d_28 (Conv2D)             (None, 8, 8, 128)    65664       ['concatenate_3[0][0]']          \n",
            "                                                                                                  \n",
            " conv2d_30 (Conv2D)             (None, 8, 8, 256)    147712      ['conv2d_29[0][0]']              \n",
            "                                                                                                  \n",
            " conv2d_32 (Conv2D)             (None, 8, 8, 64)     102464      ['conv2d_31[0][0]']              \n",
            "                                                                                                  \n",
            " conv2d_33 (Conv2D)             (None, 8, 8, 64)     32832       ['max_pooling2d_5[0][0]']        \n",
            "                                                                                                  \n",
            " concatenate_4 (Concatenate)    (None, 8, 8, 512)    0           ['conv2d_28[0][0]',              \n",
            "                                                                  'conv2d_30[0][0]',              \n",
            "                                                                  'conv2d_32[0][0]',              \n",
            "                                                                  'conv2d_33[0][0]']              \n",
            "                                                                                                  \n",
            " conv2d_35 (Conv2D)             (None, 8, 8, 64)     32832       ['concatenate_4[0][0]']          \n",
            "                                                                                                  \n",
            " conv2d_37 (Conv2D)             (None, 8, 8, 64)     32832       ['concatenate_4[0][0]']          \n",
            "                                                                                                  \n",
            " max_pooling2d_6 (MaxPooling2D)  (None, 8, 8, 512)   0           ['concatenate_4[0][0]']          \n",
            "                                                                                                  \n",
            " conv2d_34 (Conv2D)             (None, 8, 8, 112)    57456       ['concatenate_4[0][0]']          \n",
            "                                                                                                  \n",
            " conv2d_36 (Conv2D)             (None, 8, 8, 288)    166176      ['conv2d_35[0][0]']              \n",
            "                                                                                                  \n",
            " conv2d_38 (Conv2D)             (None, 8, 8, 64)     102464      ['conv2d_37[0][0]']              \n",
            "                                                                                                  \n",
            " conv2d_39 (Conv2D)             (None, 8, 8, 64)     32832       ['max_pooling2d_6[0][0]']        \n",
            "                                                                                                  \n",
            " concatenate_5 (Concatenate)    (None, 8, 8, 528)    0           ['conv2d_34[0][0]',              \n",
            "                                                                  'conv2d_36[0][0]',              \n",
            "                                                                  'conv2d_38[0][0]',              \n",
            "                                                                  'conv2d_39[0][0]']              \n",
            "                                                                                                  \n",
            " conv2d_42 (Conv2D)             (None, 8, 8, 128)    67712       ['concatenate_5[0][0]']          \n",
            "                                                                                                  \n",
            " conv2d_44 (Conv2D)             (None, 8, 8, 128)    67712       ['concatenate_5[0][0]']          \n",
            "                                                                                                  \n",
            " max_pooling2d_7 (MaxPooling2D)  (None, 8, 8, 528)   0           ['concatenate_5[0][0]']          \n",
            "                                                                                                  \n",
            " conv2d_41 (Conv2D)             (None, 8, 8, 256)    135424      ['concatenate_5[0][0]']          \n",
            "                                                                                                  \n",
            " conv2d_43 (Conv2D)             (None, 8, 8, 320)    368960      ['conv2d_42[0][0]']              \n",
            "                                                                                                  \n",
            " conv2d_45 (Conv2D)             (None, 8, 8, 128)    409728      ['conv2d_44[0][0]']              \n",
            "                                                                                                  \n",
            " conv2d_46 (Conv2D)             (None, 8, 8, 128)    67712       ['max_pooling2d_7[0][0]']        \n",
            "                                                                                                  \n",
            " concatenate_6 (Concatenate)    (None, 8, 8, 832)    0           ['conv2d_41[0][0]',              \n",
            "                                                                  'conv2d_43[0][0]',              \n",
            "                                                                  'conv2d_45[0][0]',              \n",
            "                                                                  'conv2d_46[0][0]']              \n",
            "                                                                                                  \n",
            " max_pooling2d_8 (MaxPooling2D)  (None, 4, 4, 832)   0           ['concatenate_6[0][0]']          \n",
            "                                                                                                  \n",
            " conv2d_48 (Conv2D)             (None, 4, 4, 128)    106624      ['max_pooling2d_8[0][0]']        \n",
            "                                                                                                  \n",
            " conv2d_50 (Conv2D)             (None, 4, 4, 128)    106624      ['max_pooling2d_8[0][0]']        \n",
            "                                                                                                  \n",
            " max_pooling2d_9 (MaxPooling2D)  (None, 4, 4, 832)   0           ['max_pooling2d_8[0][0]']        \n",
            "                                                                                                  \n",
            " conv2d_47 (Conv2D)             (None, 4, 4, 256)    213248      ['max_pooling2d_8[0][0]']        \n",
            "                                                                                                  \n",
            " conv2d_49 (Conv2D)             (None, 4, 4, 320)    368960      ['conv2d_48[0][0]']              \n",
            "                                                                                                  \n",
            " conv2d_51 (Conv2D)             (None, 4, 4, 128)    409728      ['conv2d_50[0][0]']              \n",
            "                                                                                                  \n",
            " conv2d_52 (Conv2D)             (None, 4, 4, 128)    106624      ['max_pooling2d_9[0][0]']        \n",
            "                                                                                                  \n",
            " concatenate_7 (Concatenate)    (None, 4, 4, 832)    0           ['conv2d_47[0][0]',              \n",
            "                                                                  'conv2d_49[0][0]',              \n",
            "                                                                  'conv2d_51[0][0]',              \n",
            "                                                                  'conv2d_52[0][0]']              \n",
            "                                                                                                  \n",
            " conv2d_54 (Conv2D)             (None, 4, 4, 128)    106624      ['concatenate_7[0][0]']          \n",
            "                                                                                                  \n",
            " conv2d_56 (Conv2D)             (None, 4, 4, 128)    106624      ['concatenate_7[0][0]']          \n",
            "                                                                                                  \n",
            " max_pooling2d_10 (MaxPooling2D  (None, 4, 4, 832)   0           ['concatenate_7[0][0]']          \n",
            " )                                                                                                \n",
            "                                                                                                  \n",
            " conv2d_53 (Conv2D)             (None, 4, 4, 384)    319872      ['concatenate_7[0][0]']          \n",
            "                                                                                                  \n",
            " conv2d_55 (Conv2D)             (None, 4, 4, 384)    442752      ['conv2d_54[0][0]']              \n",
            "                                                                                                  \n",
            " conv2d_57 (Conv2D)             (None, 4, 4, 128)    409728      ['conv2d_56[0][0]']              \n",
            "                                                                                                  \n",
            " conv2d_58 (Conv2D)             (None, 4, 4, 128)    106624      ['max_pooling2d_10[0][0]']       \n",
            "                                                                                                  \n",
            " average_pooling2d (AveragePool  (None, 2, 2, 512)   0           ['concatenate_2[0][0]']          \n",
            " ing2D)                                                                                           \n",
            "                                                                                                  \n",
            " average_pooling2d_1 (AveragePo  (None, 2, 2, 528)   0           ['concatenate_5[0][0]']          \n",
            " oling2D)                                                                                         \n",
            "                                                                                                  \n",
            " concatenate_8 (Concatenate)    (None, 4, 4, 1024)   0           ['conv2d_53[0][0]',              \n",
            "                                                                  'conv2d_55[0][0]',              \n",
            "                                                                  'conv2d_57[0][0]',              \n",
            "                                                                  'conv2d_58[0][0]']              \n",
            "                                                                                                  \n",
            " conv2d_21 (Conv2D)             (None, 2, 2, 128)    65664       ['average_pooling2d[0][0]']      \n",
            "                                                                                                  \n",
            " conv2d_40 (Conv2D)             (None, 2, 2, 128)    67712       ['average_pooling2d_1[0][0]']    \n",
            "                                                                                                  \n",
            " global_average_pooling2d (Glob  (None, 1024)        0           ['concatenate_8[0][0]']          \n",
            " alAveragePooling2D)                                                                              \n",
            "                                                                                                  \n",
            " flatten (Flatten)              (None, 512)          0           ['conv2d_21[0][0]']              \n",
            "                                                                                                  \n",
            " flatten_1 (Flatten)            (None, 512)          0           ['conv2d_40[0][0]']              \n",
            "                                                                                                  \n",
            " dropout (Dropout)              (None, 1024)         0           ['global_average_pooling2d[0][0]'\n",
            "                                                                 ]                                \n",
            "                                                                                                  \n",
            " dense (Dense)                  (None, 512)          262656      ['flatten[0][0]']                \n",
            "                                                                                                  \n",
            " dense_1 (Dense)                (None, 512)          262656      ['flatten_1[0][0]']              \n",
            "                                                                                                  \n",
            " flatten_2 (Flatten)            (None, 1024)         0           ['dropout[0][0]']                \n",
            "                                                                                                  \n",
            " outputs1 (Dense)               (None, 10)           5130        ['dense[0][0]']                  \n",
            "                                                                                                  \n",
            " outputs2 (Dense)               (None, 10)           5130        ['dense_1[0][0]']                \n",
            "                                                                                                  \n",
            " outputs3 (Dense)               (None, 10)           10250       ['flatten_2[0][0]']              \n",
            "                                                                                                  \n",
            "==================================================================================================\n",
            "Total params: 6,798,926\n",
            "Trainable params: 6,798,414\n",
            "Non-trainable params: 512\n",
            "__________________________________________________________________________________________________\n"
          ]
        }
      ],
      "source": [
        "def inception_module(x, filters): \n",
        "    z1 = Conv2D(filters=filters[0], kernel_size=1, strides=1, padding=\"same\", activation=\"relu\")(x)\n",
        "\n",
        "    z2 = Conv2D(filters=filters[3], kernel_size=1, strides=1, padding=\"same\", activation=\"relu\")(x)\n",
        "    z2 = Conv2D(filters=filters[1], kernel_size=3, strides=1, padding=\"same\", activation=\"relu\")(z2)\n",
        "\n",
        "    z3 = Conv2D(filters=filters[3], kernel_size=1, strides=1, padding=\"same\", activation=\"relu\")(x)\n",
        "    z3 = Conv2D(filters=filters[2], kernel_size=5, strides=1, padding=\"same\", activation=\"relu\")(z3)\n",
        "\n",
        "    z4 = MaxPool2D(pool_size=3, strides=1, padding=\"same\")(x)\n",
        "    z4 = Conv2D(filters=filters[3], kernel_size=1, strides=1, padding=\"same\", activation=\"relu\")(z4)\n",
        "    return Concatenate(axis=-1)([z1, z2, z3, z4])\n",
        "\n",
        "def auxiliary_classifier(x, name):\n",
        "    z = AveragePooling2D(pool_size=5, strides=3, padding=\"valid\")(x)\n",
        "    z = Conv2D(filters=128, kernel_size=1, strides=1, padding=\"same\", activation=\"relu\")(z)\n",
        "    z = Flatten()(z)\n",
        "    z = Dense(units=512, activation=\"relu\")(z)\n",
        "    \n",
        "    return Dense(units=10, activation=\"softmax\", name=name)(z)\n",
        "\n",
        "inputs = Input(shape=(32, 32, 3))\n",
        "\n",
        "z = Conv2D(filters=64, kernel_size=7, strides=2, padding=\"same\", activation=\"relu\")(inputs)\n",
        "# z = MaxPool2D(pool_size=3, strides=2, padding=\"same\")(z)\n",
        "z = BatchNormalization()(z)\n",
        "z = Conv2D(filters=64, kernel_size=1, strides=1, padding=\"same\", activation=\"relu\")(z)\n",
        "z = Conv2D(filters=192, kernel_size=3, strides=1, padding=\"same\", activation=\"relu\")(z)\n",
        "# z = MaxPool2D(pool_size=3, strides=2, padding=\"same\")(z)\n",
        "z = BatchNormalization()(z)\n",
        "z = inception_module(z, [64, 128, 32, 32]) # inception 3a\n",
        "z = inception_module(z, [128, 192, 96, 64]) # inception 3b\n",
        "z = MaxPool2D(pool_size=3, strides=2, padding=\"same\")(z)\n",
        "z = inception_module(z, [192, 208, 48, 64]) # inception 4a\n",
        "\n",
        "outputs1 = auxiliary_classifier(z, \"outputs1\")\n",
        "\n",
        "z = inception_module(z, [160, 224, 64, 64]) # inception 4b\n",
        "z = inception_module(z, [128, 256, 64, 64]) # inception 4c\n",
        "z = inception_module(z, [112, 288, 64, 64]) # inception 4d\n",
        "\n",
        "outputs2 = auxiliary_classifier(z, \"outputs2\")\n",
        "\n",
        "z = inception_module(z, [256, 320, 128, 128]) # inception 4e\n",
        "z = MaxPool2D(pool_size=3, strides=2, padding=\"same\")(z)\n",
        "z = inception_module(z, [256, 320, 128, 128]) # inception 5a\n",
        "z = inception_module(z, [384, 384, 128, 128]) # inception 5b\n",
        "z = GlobalAveragePooling2D()(z)\n",
        "z = Dropout(rate=0.4)(z)\n",
        "z = Flatten()(z)\n",
        "\n",
        "outputs3 = Dense(units=10, activation=\"softmax\", name=\"outputs3\")(z)\n",
        "\n",
        "model = Model(inputs=inputs, outputs=[outputs1, outputs2, outputs3])\n",
        "model.summary()"
      ]
    },
    {
      "cell_type": "markdown",
      "metadata": {
        "id": "SEDIfA2pZb6l"
      },
      "source": [
        "# Training"
      ]
    },
    {
      "cell_type": "code",
      "execution_count": 6,
      "metadata": {
        "ExecuteTime": {
          "start_time": "2022-02-03T01:43:10.555Z"
        },
        "colab": {
          "base_uri": "https://localhost:8080/"
        },
        "id": "O3-d3rzeZb6m",
        "outputId": "b19b265b-e249-4143-9e59-ab586b5d5e51"
      },
      "outputs": [
        {
          "output_type": "stream",
          "name": "stdout",
          "text": [
            "Epoch 1/32\n",
            "1250/1250 [==============================] - ETA: 0s - loss: 1.2045 - outputs1_loss: 0.7458 - outputs2_loss: 0.7391 - outputs3_loss: 0.7591 - outputs1_acc: 0.7379 - outputs2_acc: 0.7423 - outputs3_acc: 0.7384\n",
            "Epoch 00001: outputs3_acc improved from -inf to 0.73843, saving model to googlenet_cifar10.h5\n",
            "1250/1250 [==============================] - 170s 129ms/step - loss: 1.2045 - outputs1_loss: 0.7458 - outputs2_loss: 0.7391 - outputs3_loss: 0.7591 - outputs1_acc: 0.7379 - outputs2_acc: 0.7423 - outputs3_acc: 0.7384 - val_loss: 1.2530 - val_outputs1_loss: 0.8044 - val_outputs2_loss: 0.7724 - val_outputs3_loss: 0.7800 - val_outputs1_acc: 0.7124 - val_outputs2_acc: 0.7328 - val_outputs3_acc: 0.7319\n",
            "Epoch 2/32\n",
            "1250/1250 [==============================] - ETA: 0s - loss: 1.1398 - outputs1_loss: 0.7083 - outputs2_loss: 0.6987 - outputs3_loss: 0.7177 - outputs1_acc: 0.7502 - outputs2_acc: 0.7585 - outputs3_acc: 0.7549\n",
            "Epoch 00002: outputs3_acc improved from 0.73843 to 0.75493, saving model to googlenet_cifar10.h5\n",
            "1250/1250 [==============================] - 161s 129ms/step - loss: 1.1398 - outputs1_loss: 0.7083 - outputs2_loss: 0.6987 - outputs3_loss: 0.7177 - outputs1_acc: 0.7502 - outputs2_acc: 0.7585 - outputs3_acc: 0.7549 - val_loss: 1.3076 - val_outputs1_loss: 0.8227 - val_outputs2_loss: 0.8111 - val_outputs3_loss: 0.8174 - val_outputs1_acc: 0.7172 - val_outputs2_acc: 0.7203 - val_outputs3_acc: 0.7184\n",
            "Epoch 3/32\n",
            "1250/1250 [==============================] - ETA: 0s - loss: 1.0814 - outputs1_loss: 0.6788 - outputs2_loss: 0.6620 - outputs3_loss: 0.6792 - outputs1_acc: 0.7610 - outputs2_acc: 0.7711 - outputs3_acc: 0.7677\n",
            "Epoch 00003: outputs3_acc improved from 0.75493 to 0.76767, saving model to googlenet_cifar10.h5\n",
            "1250/1250 [==============================] - 162s 129ms/step - loss: 1.0814 - outputs1_loss: 0.6788 - outputs2_loss: 0.6620 - outputs3_loss: 0.6792 - outputs1_acc: 0.7610 - outputs2_acc: 0.7711 - outputs3_acc: 0.7677 - val_loss: 1.2463 - val_outputs1_loss: 0.7701 - val_outputs2_loss: 0.7798 - val_outputs3_loss: 0.7813 - val_outputs1_acc: 0.7357 - val_outputs2_acc: 0.7337 - val_outputs3_acc: 0.7384\n",
            "Epoch 4/32\n",
            "1250/1250 [==============================] - ETA: 0s - loss: 1.0370 - outputs1_loss: 0.6470 - outputs2_loss: 0.6358 - outputs3_loss: 0.6522 - outputs1_acc: 0.7729 - outputs2_acc: 0.7818 - outputs3_acc: 0.7787\n",
            "Epoch 00004: outputs3_acc improved from 0.76767 to 0.77868, saving model to googlenet_cifar10.h5\n",
            "1250/1250 [==============================] - 161s 129ms/step - loss: 1.0370 - outputs1_loss: 0.6470 - outputs2_loss: 0.6358 - outputs3_loss: 0.6522 - outputs1_acc: 0.7729 - outputs2_acc: 0.7818 - outputs3_acc: 0.7787 - val_loss: 1.2204 - val_outputs1_loss: 0.7562 - val_outputs2_loss: 0.7536 - val_outputs3_loss: 0.7674 - val_outputs1_acc: 0.7373 - val_outputs2_acc: 0.7407 - val_outputs3_acc: 0.7394\n",
            "Epoch 5/32\n",
            "1250/1250 [==============================] - ETA: 0s - loss: 1.0078 - outputs1_loss: 0.6280 - outputs2_loss: 0.6177 - outputs3_loss: 0.6341 - outputs1_acc: 0.7809 - outputs2_acc: 0.7876 - outputs3_acc: 0.7854\n",
            "Epoch 00005: outputs3_acc improved from 0.77868 to 0.78545, saving model to googlenet_cifar10.h5\n",
            "1250/1250 [==============================] - 161s 129ms/step - loss: 1.0078 - outputs1_loss: 0.6280 - outputs2_loss: 0.6177 - outputs3_loss: 0.6341 - outputs1_acc: 0.7809 - outputs2_acc: 0.7876 - outputs3_acc: 0.7854 - val_loss: 1.2540 - val_outputs1_loss: 0.7920 - val_outputs2_loss: 0.7737 - val_outputs3_loss: 0.7843 - val_outputs1_acc: 0.7289 - val_outputs2_acc: 0.7367 - val_outputs3_acc: 0.7379\n",
            "Epoch 6/32\n",
            "1250/1250 [==============================] - ETA: 0s - loss: 0.9713 - outputs1_loss: 0.6096 - outputs2_loss: 0.5949 - outputs3_loss: 0.6100 - outputs1_acc: 0.7878 - outputs2_acc: 0.7953 - outputs3_acc: 0.7933\n",
            "Epoch 00006: outputs3_acc improved from 0.78545 to 0.79333, saving model to googlenet_cifar10.h5\n",
            "1250/1250 [==============================] - 161s 129ms/step - loss: 0.9713 - outputs1_loss: 0.6096 - outputs2_loss: 0.5949 - outputs3_loss: 0.6100 - outputs1_acc: 0.7878 - outputs2_acc: 0.7953 - outputs3_acc: 0.7933 - val_loss: 1.1162 - val_outputs1_loss: 0.7010 - val_outputs2_loss: 0.6950 - val_outputs3_loss: 0.6974 - val_outputs1_acc: 0.7541 - val_outputs2_acc: 0.7628 - val_outputs3_acc: 0.7641\n",
            "Epoch 7/32\n",
            "1250/1250 [==============================] - ETA: 0s - loss: 0.9747 - outputs1_loss: 0.6122 - outputs2_loss: 0.5945 - outputs3_loss: 0.6127 - outputs1_acc: 0.7850 - outputs2_acc: 0.7960 - outputs3_acc: 0.7921\n",
            "Epoch 00007: outputs3_acc did not improve from 0.79333\n",
            "1250/1250 [==============================] - 160s 128ms/step - loss: 0.9747 - outputs1_loss: 0.6122 - outputs2_loss: 0.5945 - outputs3_loss: 0.6127 - outputs1_acc: 0.7850 - outputs2_acc: 0.7960 - outputs3_acc: 0.7921 - val_loss: 1.4521 - val_outputs1_loss: 0.9231 - val_outputs2_loss: 0.8995 - val_outputs3_loss: 0.9053 - val_outputs1_acc: 0.6815 - val_outputs2_acc: 0.6999 - val_outputs3_acc: 0.6893\n",
            "Epoch 8/32\n",
            "1250/1250 [==============================] - ETA: 0s - loss: 0.9596 - outputs1_loss: 0.6034 - outputs2_loss: 0.5859 - outputs3_loss: 0.6028 - outputs1_acc: 0.7915 - outputs2_acc: 0.8012 - outputs3_acc: 0.7962\n",
            "Epoch 00008: outputs3_acc improved from 0.79333 to 0.79618, saving model to googlenet_cifar10.h5\n",
            "1250/1250 [==============================] - 161s 129ms/step - loss: 0.9596 - outputs1_loss: 0.6034 - outputs2_loss: 0.5859 - outputs3_loss: 0.6028 - outputs1_acc: 0.7915 - outputs2_acc: 0.8012 - outputs3_acc: 0.7962 - val_loss: 1.1230 - val_outputs1_loss: 0.7100 - val_outputs2_loss: 0.7095 - val_outputs3_loss: 0.6972 - val_outputs1_acc: 0.7550 - val_outputs2_acc: 0.7613 - val_outputs3_acc: 0.7628\n",
            "Epoch 00008: early stopping\n"
          ]
        }
      ],
      "source": [
        "model.compile(optimizer=\"adam\", loss=[\"categorical_crossentropy\", \"categorical_crossentropy\", \"categorical_crossentropy\"], loss_weights=[0.3, 0.3, 1], metrics=[\"acc\"])\n",
        "\n",
        "batch_size = 32\n",
        "seed = 31\n",
        "def gen_flow(x, y, subset):\n",
        "    gen = ImageDataGenerator(rescale=1/255, shear_range=0.2, zoom_range=0.2, horizontal_flip=True, validation_split=0.2)\n",
        "    gen.fit(X_tr_val)\n",
        "    return gen.flow(x=x, y=y, batch_size=batch_size, seed=seed, subset=subset)\n",
        "def generator(flow):\n",
        "    for xi, yi in flow:\n",
        "        yield xi, [yi, yi, yi]\n",
        "        \n",
        "flow_tr = gen_flow(X_tr_val, y_tr_val, subset=\"training\")\n",
        "flow_val = gen_flow(X_tr_val, y_tr_val, subset=\"validation\")\n",
        "\n",
        "es = EarlyStopping(monitor=\"val_loss\", mode=\"auto\", verbose=1, patience=2)\n",
        "model_path = \"googlenet_cifar10.h5\"\n",
        "mc = ModelCheckpoint(filepath=model_path, monitor=\"outputs3_acc\", mode=\"auto\", verbose=1, save_best_only=True)\n",
        "hist = model.fit(x=generator(flow_tr), validation_data=generator(flow_val), epochs=32, steps_per_epoch=len(flow_tr), validation_steps=len(flow_val), callbacks=[es, mc])"
      ]
    },
    {
      "cell_type": "code",
      "execution_count": 13,
      "metadata": {
        "colab": {
          "base_uri": "https://localhost:8080/",
          "height": 483
        },
        "id": "Sr_FUiDBZb6n",
        "outputId": "ee0693ea-f54c-455f-8698-229e49cff312"
      },
      "outputs": [
        {
          "output_type": "display_data",
          "data": {
            "image/png": "[encoded data removed]",
            "text/plain": [
              "<Figure size 864x576 with 2 Axes>"
            ]
          },
          "metadata": {}
        }
      ],
      "source": [
        "fig, axes = plt.subplots(1, 2, figsize=(12, 8))\n",
        "axes[0].plot(hist.history[\"loss\"][1:], label=\"loss\");\n",
        "axes[0].plot(hist.history[\"val_loss\"][1:], label=\"val_loss\");\n",
        "axes[0].legend();\n",
        "\n",
        "axes[1].plot(hist.history[\"outputs3_acc\"][1:], label=\"acc\");\n",
        "axes[1].plot(hist.history[\"val_outputs3_acc\"][1:], label=\"val_acc\");\n",
        "axes[1].legend();"
      ]
    },
    {
      "cell_type": "markdown",
      "metadata": {
        "id": "0vOq0mI1Zb6q"
      },
      "source": [
        "# Inference"
      ]
    },
    {
      "cell_type": "code",
      "source": [
        "model.predict(X_te)"
      ],
      "metadata": {
        "colab": {
          "base_uri": "https://localhost:8080/"
        },
        "id": "AcKQYHjZo1bT",
        "outputId": "d9b60ae2-4091-48ec-a8a8-884fddfd3553"
      },
      "execution_count": 14,
      "outputs": [
        {
          "output_type": "execute_result",
          "data": {
            "text/plain": [
              "[array([[0.0000000e+00, 0.0000000e+00, 0.0000000e+00, ..., 0.0000000e+00,\n",
              "         0.0000000e+00, 0.0000000e+00],\n",
              "        [1.0000000e+00, 0.0000000e+00, 0.0000000e+00, ..., 0.0000000e+00,\n",
              "         0.0000000e+00, 0.0000000e+00],\n",
              "        [1.0000000e+00, 0.0000000e+00, 1.2097272e-16, ..., 0.0000000e+00,\n",
              "         0.0000000e+00, 0.0000000e+00],\n",
              "        ...,\n",
              "        [0.0000000e+00, 0.0000000e+00, 0.0000000e+00, ..., 0.0000000e+00,\n",
              "         0.0000000e+00, 0.0000000e+00],\n",
              "        [1.0000000e+00, 0.0000000e+00, 0.0000000e+00, ..., 0.0000000e+00,\n",
              "         0.0000000e+00, 0.0000000e+00],\n",
              "        [0.0000000e+00, 0.0000000e+00, 0.0000000e+00, ..., 1.0000000e+00,\n",
              "         0.0000000e+00, 0.0000000e+00]], dtype=float32),\n",
              " array([[0.0000000e+00, 0.0000000e+00, 0.0000000e+00, ..., 0.0000000e+00,\n",
              "         0.0000000e+00, 0.0000000e+00],\n",
              "        [1.0000000e+00, 0.0000000e+00, 0.0000000e+00, ..., 0.0000000e+00,\n",
              "         7.3388551e-38, 0.0000000e+00],\n",
              "        [1.0000000e+00, 0.0000000e+00, 0.0000000e+00, ..., 0.0000000e+00,\n",
              "         0.0000000e+00, 0.0000000e+00],\n",
              "        ...,\n",
              "        [0.0000000e+00, 0.0000000e+00, 0.0000000e+00, ..., 0.0000000e+00,\n",
              "         0.0000000e+00, 0.0000000e+00],\n",
              "        [1.0000000e+00, 0.0000000e+00, 0.0000000e+00, ..., 0.0000000e+00,\n",
              "         0.0000000e+00, 0.0000000e+00],\n",
              "        [9.9644119e-01, 0.0000000e+00, 0.0000000e+00, ..., 3.5588038e-03,\n",
              "         0.0000000e+00, 6.8637995e-12]], dtype=float32),\n",
              " array([[0.0000000e+00, 0.0000000e+00, 0.0000000e+00, ..., 0.0000000e+00,\n",
              "         0.0000000e+00, 0.0000000e+00],\n",
              "        [1.0000000e+00, 0.0000000e+00, 0.0000000e+00, ..., 0.0000000e+00,\n",
              "         7.6322312e-28, 0.0000000e+00],\n",
              "        [1.0000000e+00, 0.0000000e+00, 2.7648168e-32, ..., 0.0000000e+00,\n",
              "         3.0128569e-10, 0.0000000e+00],\n",
              "        ...,\n",
              "        [0.0000000e+00, 0.0000000e+00, 0.0000000e+00, ..., 0.0000000e+00,\n",
              "         0.0000000e+00, 0.0000000e+00],\n",
              "        [1.0000000e+00, 0.0000000e+00, 0.0000000e+00, ..., 0.0000000e+00,\n",
              "         0.0000000e+00, 0.0000000e+00],\n",
              "        [0.0000000e+00, 0.0000000e+00, 0.0000000e+00, ..., 1.0000000e+00,\n",
              "         0.0000000e+00, 4.1430427e-34]], dtype=float32)]"
            ]
          },
          "metadata": {},
          "execution_count": 14
        }
      ]
    },
    {
      "cell_type": "code",
      "source": [
        ""
      ],
      "metadata": {
        "id": "ZnlF3BV8o1kQ"
      },
      "execution_count": null,
      "outputs": []
    },
    {
      "cell_type": "code",
      "source": [
        ""
      ],
      "metadata": {
        "id": "91L8NM_jo1nM"
      },
      "execution_count": null,
      "outputs": []
    },
    {
      "cell_type": "code",
      "source": [
        ""
      ],
      "metadata": {
        "id": "gOHATfl_o1rG"
      },
      "execution_count": null,
      "outputs": []
    }
  ],
  "metadata": {
    "accelerator": "GPU",
    "colab": {
      "collapsed_sections": [],
      "name": "CIFAR-10 & GoogLeNet (Image Classification).ipynb",
      "provenance": [],
      "include_colab_link": true
    },
    "hide_input": false,
    "kernelspec": {
      "display_name": "Python 3",
      "language": "python",
      "name": "python3"
    },
    "toc": {
      "base_numbering": 1,
      "nav_menu": {},
      "number_sections": true,
      "sideBar": true,
      "skip_h1_title": false,
      "title_cell": "Table of Contents",
      "title_sidebar": "Contents",
      "toc_cell": false,
      "toc_position": {},
      "toc_section_display": true,
      "toc_window_display": false
    },
    "varInspector": {
      "cols": {
        "lenName": 16,
        "lenType": 16,
        "lenVar": 40
      },
      "kernels_config": {
        "python": {
          "delete_cmd_postfix": "",
          "delete_cmd_prefix": "del ",
          "library": "var_list.py",
          "varRefreshCmd": "print(var_dic_list())"
        },
        "r": {
          "delete_cmd_postfix": ") ",
          "delete_cmd_prefix": "rm(",
          "library": "var_list.r",
          "varRefreshCmd": "cat(var_dic_list()) "
        }
      },
      "types_to_exclude": [
        "module",
        "function",
        "builtin_function_or_method",
        "instance",
        "_Feature"
      ],
      "window_display": false
    }
  },
  "nbformat": 4,
  "nbformat_minor": 0
}