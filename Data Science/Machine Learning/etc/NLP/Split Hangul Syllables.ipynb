{
 "cells": [
  {
   "cell_type": "code",
   "execution_count": 1,
   "metadata": {},
   "outputs": [],
   "source": [
    "import re"
   ]
  },
  {
   "cell_type": "code",
   "execution_count": 2,
   "metadata": {},
   "outputs": [],
   "source": [
    "# 유니코드 한글 시작 : 44032, 끝 : 55199\n",
    "a, b, c = 44032, 588, 28\n",
    " \n",
    "# 초성 리스트(19개)\n",
    "inits = [\"ㄱ\", \"ㄲ\", \"ㄴ\", \"ㄷ\", \"ㄸ\", \"ㄹ\", \"ㅁ\", \"ㅂ\", \"ㅃ\", \"ㅅ\", \"ㅆ\", \"ㅇ\", \"ㅈ\", \"ㅉ\", \"ㅊ\", \"ㅋ\", \"ㅌ\", \"ㅍ\", \"ㅎ\"]\n",
    "# 중성 리스트(21개)\n",
    "meds = [\"ㅏ\", \"ㅐ\", \"ㅑ\", \"ㅒ\", \"ㅓ\", \"ㅔ\", \"ㅕ\", \"ㅖ\", \"ㅗ\", \"ㅘ\", \"ㅙ\", \"ㅚ\", \"ㅛ\", \"ㅜ\", \"ㅝ\", \"ㅞ\", \"ㅟ\", \"ㅠ\", \"ㅡ\", \"ㅢ\", \"ㅣ\"]\n",
    "# 종성 리스트(27개)\n",
    "fins = [\"\", \"ㄱ\", \"ㄲ\", \"ㄳ\", \"ㄴ\", \"ㄵ\", \"ㄶ\", \"ㄷ\", \"ㄹ\", \"ㄺ\", \"ㄻ\", \"ㄼ\", \"ㄽ\", \"ㄾ\", \"ㄿ\", \"ㅀ\", \"ㅁ\", \"ㅂ\", \"ㅄ\", \"ㅅ\", \"ㅆ\", \"ㅇ\", \"ㅈ\", \"ㅊ\", \"ㅋ\", \"ㅌ\", \"ㅍ\", \"ㅎ\"]\n",
    "\n",
    "def kor_spl(string):\n",
    "    chars = list(string)\n",
    "    result = []\n",
    "    for char in chars:\n",
    "     # 한글 여부 check 후 분리\n",
    "        if re.match(\".*[ㄱ-ㅎㅏ-ㅣ가-힣]+.*\", char) != None:\n",
    "            char_code = ord(char) - a\n",
    "            # 초성\n",
    "            init_idx = int(char_code/b)\n",
    "            result.append(inits[init_idx])\n",
    "\n",
    "            # 중성\n",
    "            med_idx = int((char_code - (init_idx*b)) / c)\n",
    "            result.append(meds[med_idx])\n",
    "\n",
    "            # 종성\n",
    "            fin_idx = int((char_code - (b*init_idx) - (c*med_idx)))\n",
    "            result.append(fins[fin_idx])\n",
    "        else:\n",
    "            result.append(char)\n",
    "    return \"\".join(result) # 자소 분리 결과 출력"
   ]
  },
  {
   "cell_type": "code",
   "execution_count": 3,
   "metadata": {},
   "outputs": [
    {
     "data": {
      "text/plain": [
       "'ㅊㅗㄱㅣ ㅇㅠㄴㅣㅋㅗㄷㅡㅇㅔㄴㅡㄴ KS X 1001ㅇㅔ ㅇㅣㅆㄷㅓㄴ ㅎㅏㄴㄱㅡㄹ ㅇㅡㅁㅈㅓㄹ 2350ㅈㅏㅁㅏㄴㅇㅣ ㅍㅗㅎㅏㅁㄷㅚㅇㅓ ㅇㅣㅆㅇㅓㅆㄷㅏ.'"
      ]
     },
     "execution_count": 3,
     "metadata": {},
     "output_type": "execute_result"
    }
   ],
   "source": [
    "kor_spl(\"초기 유니코드에는 KS X 1001에 있던 한글 음절 2350자만이 포함되어 있었다.\")"
   ]
  },
  {
   "cell_type": "code",
   "execution_count": null,
   "metadata": {},
   "outputs": [],
   "source": []
  }
 ],
 "metadata": {
  "kernelspec": {
   "display_name": "Python 3",
   "language": "python",
   "name": "python3"
  },
  "language_info": {
   "codemirror_mode": {
    "name": "ipython",
    "version": 3
   },
   "file_extension": ".py",
   "mimetype": "text/x-python",
   "name": "python",
   "nbconvert_exporter": "python",
   "pygments_lexer": "ipython3",
   "version": "3.7.7"
  },
  "widgets": {
   "application/vnd.jupyter.widget-state+json": {
    "state": {},
    "version_major": 2,
    "version_minor": 0
   }
  }
 },
 "nbformat": 4,
 "nbformat_minor": 4
}
