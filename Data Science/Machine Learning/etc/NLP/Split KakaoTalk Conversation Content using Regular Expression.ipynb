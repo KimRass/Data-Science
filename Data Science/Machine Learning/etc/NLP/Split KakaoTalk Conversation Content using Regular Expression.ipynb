{
 "cells": [
  {
   "cell_type": "markdown",
   "metadata": {},
   "source": [
    "- \"대화 내보내기\"로 내려받은 .txt 파일을 정규표현식을 사용하여 날짜 및 시간, 사용자, 메시지로 분할합니다."
   ]
  },
  {
   "cell_type": "code",
   "execution_count": 16,
   "metadata": {},
   "outputs": [],
   "source": [
    "import re\n",
    "import pandas as pd"
   ]
  },
  {
   "cell_type": "code",
   "execution_count": 17,
   "metadata": {},
   "outputs": [],
   "source": [
    "with open(\"KakaoTalk_20200810_2037_54_748_group.csv.txt\", encoding=\"utf-8\") as f:\n",
    "    raw_data = [line.split(\"\\t\") for line in f.read().splitlines()]"
   ]
  },
  {
   "cell_type": "code",
   "execution_count": 18,
   "metadata": {},
   "outputs": [],
   "source": [
    "list_for_data = [(re.match(r\"(\\[)(\\w+)(\\])\", line[0]).group(2), re.findall(r\"(\\d\\] )(.*)$\", line[0])[0][1]) for line in raw_data if re.match(r\"(\\[)(\\w+)(\\])\", line[0])]"
   ]
  },
  {
   "cell_type": "code",
   "execution_count": 19,
   "metadata": {},
   "outputs": [],
   "source": [
    "d = None\n",
    "date = 0\n",
    "date_time = []\n",
    "for i in range(len(raw_data)):\n",
    "    time = 0\n",
    "    watch = \"\"\n",
    "    d = re.search(r\"(\\- )(\\w+ \\w+ \\w+ \\w+)( \\-)\", raw_data[i][0])\n",
    "    t = re.search(r\"( \\[)(\\w+ \\w+\\:\\w+)(\\] )\", raw_data[i][0])\n",
    "    if d!=None:\n",
    "        date = d.group(2)\n",
    "    if t!=None:\n",
    "        time = t.group(2)\n",
    "    watch = str(date) + \" \" + str(time)\n",
    "    if len(watch)>=20:\n",
    "        date_time.append(watch)"
   ]
  },
  {
   "cell_type": "code",
   "execution_count": 20,
   "metadata": {},
   "outputs": [],
   "source": [
    "data = pd.DataFrame(list_for_data, columns=[\"user\", \"msg\"])\n",
    "data.insert(0, \"datetime\", date_time)"
   ]
  },
  {
   "cell_type": "code",
   "execution_count": 21,
   "metadata": {
    "scrolled": false
   },
   "outputs": [
    {
     "data": {
      "text/html": [
       "<div>\n",
       "<style scoped>\n",
       "    .dataframe tbody tr th:only-of-type {\n",
       "        vertical-align: middle;\n",
       "    }\n",
       "\n",
       "    .dataframe tbody tr th {\n",
       "        vertical-align: top;\n",
       "    }\n",
       "\n",
       "    .dataframe thead th {\n",
       "        text-align: right;\n",
       "    }\n",
       "</style>\n",
       "<table border=\"1\" class=\"dataframe\">\n",
       "  <thead>\n",
       "    <tr style=\"text-align: right;\">\n",
       "      <th></th>\n",
       "      <th>datetime</th>\n",
       "      <th>user</th>\n",
       "      <th>msg</th>\n",
       "    </tr>\n",
       "  </thead>\n",
       "  <tbody>\n",
       "    <tr>\n",
       "      <th>1055</th>\n",
       "      <td>2020년 4월 23일 목요일 오후 6:12</td>\n",
       "      <td>종밤이</td>\n",
       "      <td>홀</td>\n",
       "    </tr>\n",
       "    <tr>\n",
       "      <th>87</th>\n",
       "      <td>2020년 2월 9일 일요일 오후 2:41</td>\n",
       "      <td>종밤이</td>\n",
       "      <td>알게쏘</td>\n",
       "    </tr>\n",
       "    <tr>\n",
       "      <th>665</th>\n",
       "      <td>2020년 3월 12일 목요일 오후 2:03</td>\n",
       "      <td>종밤이</td>\n",
       "      <td>안해</td>\n",
       "    </tr>\n",
       "    <tr>\n",
       "      <th>32</th>\n",
       "      <td>2020년 2월 6일 목요일 오후 11:26</td>\n",
       "      <td>종밤이</td>\n",
       "      <td>재밌었다 안뇽</td>\n",
       "    </tr>\n",
       "    <tr>\n",
       "      <th>212</th>\n",
       "      <td>2020년 2월 16일 일요일 오후 4:23</td>\n",
       "      <td>노내영</td>\n",
       "      <td>이렇게 멀줄 예상못했다 ㅋㅋㅋ</td>\n",
       "    </tr>\n",
       "  </tbody>\n",
       "</table>\n",
       "</div>"
      ],
      "text/plain": [
       "                      datetime user               msg\n",
       "1055  2020년 4월 23일 목요일 오후 6:12  종밤이                 홀\n",
       "87     2020년 2월 9일 일요일 오후 2:41  종밤이               알게쏘\n",
       "665   2020년 3월 12일 목요일 오후 2:03  종밤이                안해\n",
       "32    2020년 2월 6일 목요일 오후 11:26  종밤이           재밌었다 안뇽\n",
       "212   2020년 2월 16일 일요일 오후 4:23  노내영  이렇게 멀줄 예상못했다 ㅋㅋㅋ"
      ]
     },
     "execution_count": 21,
     "metadata": {},
     "output_type": "execute_result"
    }
   ],
   "source": [
    "data.sample(5)"
   ]
  },
  {
   "cell_type": "code",
   "execution_count": null,
   "metadata": {},
   "outputs": [],
   "source": []
  }
 ],
 "metadata": {
  "kernelspec": {
   "display_name": "Python 3",
   "language": "python",
   "name": "python3"
  },
  "language_info": {
   "codemirror_mode": {
    "name": "ipython",
    "version": 3
   },
   "file_extension": ".py",
   "mimetype": "text/x-python",
   "name": "python",
   "nbconvert_exporter": "python",
   "pygments_lexer": "ipython3",
   "version": "3.7.9"
  }
 },
 "nbformat": 4,
 "nbformat_minor": 4
}
