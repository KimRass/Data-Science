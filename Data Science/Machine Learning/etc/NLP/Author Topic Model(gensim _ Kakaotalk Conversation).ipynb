{
 "cells": [
  {
   "cell_type": "code",
   "execution_count": 70,
   "metadata": {},
   "outputs": [],
   "source": [
    "import pandas as pd\n",
    "import nltk\n",
    "import MeCab\n",
    "import re\n",
    "import string\n",
    "import matplotlib as mpl\n",
    "import matplotlib.pyplot as plt\n",
    "import platform\n",
    "from wordcloud import WordCloud\n",
    "import numpy as np\n",
    "import pprint\n",
    "import gensim\n",
    "import os\n",
    "\n",
    "path = \"C:/Windows/Fonts/malgun.ttf\"\n",
    "if platform.system() == \"Darwin\":\n",
    "    mpl.rc(\"font\", family=\"AppleGothic\")\n",
    "elif platform.system() == \"Windows\":\n",
    "    font_name = mpl.font_manager.FontProperties(fname=path).get_name()\n",
    "    mpl.rc('font', family=font_name)"
   ]
  },
  {
   "cell_type": "code",
   "execution_count": 2,
   "metadata": {},
   "outputs": [],
   "source": [
    "def pos(text):\n",
    "    p = re.compile(\".+\\t[A-Z]+\")\n",
    "    return [tuple(p.match(line).group().split(\"\\t\")) for line in MeCab.Tagger().parse(text).splitlines()[:-1]]\n",
    "\n",
    "def morphs(text):\n",
    "    p = re.compile(\".+\\t[A-Z]+\")\n",
    "    return [p.match(line).group().split(\"\\t\")[0] for line in MeCab.Tagger().parse(text).splitlines()[:-1]]\n",
    "\n",
    "def nouns(text):\n",
    "    p = re.compile(\".+\\t[A-Z]+\")\n",
    "    temp = [tuple(p.match(line).group().split(\"\\t\")) for line in MeCab.Tagger().parse(text).splitlines()[:-1]]\n",
    "    nouns=[]\n",
    "    for word in temp:\n",
    "        if word[1] in [\"NNG\", \"NNP\", \"NNB\", \"NNBC\", \"NP\", \"NR\"]:\n",
    "            nouns.append(word[0])\n",
    "    return nouns\n",
    "\n",
    "def cln(text):\n",
    "    return re.sub(\"[^ㄱ-ㅣ가-힣 ]\", \"\", text)\n",
    "\n",
    "def def_sw(path):\n",
    "    sw = set()\n",
    "    for i in string.punctuation:\n",
    "        sw.add(i)\n",
    "    with open(path, encoding=\"utf-8\") as f:\n",
    "        for word in f:\n",
    "            sw.add(word.split(\"\\n\")[0])\n",
    "    return sw\n",
    "\n",
    "sw = def_sw(\"stopwords-ko.txt\")"
   ]
  },
  {
   "cell_type": "code",
   "execution_count": 3,
   "metadata": {},
   "outputs": [],
   "source": [
    "raw_data = pd.read_excel(\"카톡.xlsx\", index_col=0)"
   ]
  },
  {
   "cell_type": "code",
   "execution_count": 295,
   "metadata": {},
   "outputs": [],
   "source": [
    "data = raw_data\n",
    "\n",
    "auts = data.groupby(\"user\", as_index=True)"
   ]
  },
  {
   "cell_type": "code",
   "execution_count": 296,
   "metadata": {},
   "outputs": [],
   "source": [
    "aut2doc = {}\n",
    "for user, idx in auts.groups.items():\n",
    "    aut2doc[user] = list(idx)"
   ]
  },
  {
   "cell_type": "code",
   "execution_count": 297,
   "metadata": {},
   "outputs": [],
   "source": [
    "msgs_tkn = [msg.split() for msg in data[\"msg\"]]\n",
    "\n",
    "if not os.path.exists(\"kakaotalk id2word\"):\n",
    "    id2word = gensim.corpora.Dictionary(msgs_tkn)\n",
    "    id2word.save(\"kakaotalk id2word\")\n",
    "else:\n",
    "    id2word = gensim.corpora.Dictionary.load(\"kakaotalk id2word\")"
   ]
  },
  {
   "cell_type": "code",
   "execution_count": 298,
   "metadata": {},
   "outputs": [],
   "source": [
    "if not os.path.exists(\"kakaotalk dtm\"):\n",
    "    dtm = [id2word.doc2bow(msg) for msg in msgs_tkn]\n",
    "    gensim.corpora.BleiCorpus.serialize(\"kakaotalk dtm\", dtm)\n",
    "else:\n",
    "    dtm = gensim.corpora.bleicorpus.BleiCorpus(\"kakaotalk dtm\")"
   ]
  },
  {
   "cell_type": "code",
   "execution_count": 299,
   "metadata": {},
   "outputs": [
    {
     "name": "stdout",
     "output_type": "stream",
     "text": [
      "Wall time: 8.98 ms\n"
     ]
    }
   ],
   "source": [
    "%%time\n",
    "n_topics = 4\n",
    "if not os.path.exists(\"kakaotalk model\"):\n",
    "    model = gensim.models.AuthorTopicModel(corpus=dtm, id2word=id2word, num_topics=n_topics, author2doc=aut2doc, passes=1000)\n",
    "    model.save(\"kakaotalk model\")\n",
    "else:\n",
    "    model = gensim.models.AuthorTopicModel.load(\"kakaotalk model\")"
   ]
  },
  {
   "cell_type": "code",
   "execution_count": 300,
   "metadata": {},
   "outputs": [
    {
     "data": {
      "text/plain": [
       "[('애저', 0.0003456090116005109),\n",
       " ('ㅋㅋㅋ', 0.00033980361590891595),\n",
       " ('사진', 0.0003398034430835203),\n",
       " ('아님?', 0.00033979944199907667),\n",
       " ('ㅋㅋㅋㅋ', 0.00033979685393563684),\n",
       " ('7시10분', 0.00033979624721101285),\n",
       " ('ㅋㅋ', 0.00033979560989994245),\n",
       " ('아', 0.0003397955392544214),\n",
       " ('ㅇㅇ', 0.00033979271215195796),\n",
       " ('ㅋㅋㅋㅋㅋㅋ', 0.0003397926560857651),\n",
       " ('굳', 0.00033979199123262407),\n",
       " ('오', 0.00033979171986388436),\n",
       " ('ㅋㅋㅋㅋㅋ', 0.0003397914965882391),\n",
       " ('나', 0.0003397914806650847),\n",
       " ('골드스푼!', 0.0003397914695042316),\n",
       " ('허허', 0.0003397914397771411),\n",
       " ('가볼까?', 0.0003397913927656504),\n",
       " ('헐진짜?!', 0.0003397913776875538),\n",
       " ('구글드라이브', 0.0003397912750498104),\n",
       " ('밤에?', 0.00033979098444283484)]"
      ]
     },
     "execution_count": 300,
     "metadata": {},
     "output_type": "execute_result"
    }
   ],
   "source": [
    "model.show_topic(1, topn=20)"
   ]
  },
  {
   "cell_type": "code",
   "execution_count": null,
   "metadata": {},
   "outputs": [],
   "source": []
  }
 ],
 "metadata": {
  "kernelspec": {
   "display_name": "Python 3",
   "language": "python",
   "name": "python3"
  },
  "language_info": {
   "codemirror_mode": {
    "name": "ipython",
    "version": 3
   },
   "file_extension": ".py",
   "mimetype": "text/x-python",
   "name": "python",
   "nbconvert_exporter": "python",
   "pygments_lexer": "ipython3",
   "version": "3.7.7"
  }
 },
 "nbformat": 4,
 "nbformat_minor": 4
}
