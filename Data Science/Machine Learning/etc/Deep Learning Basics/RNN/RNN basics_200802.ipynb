{
 "cells": [
  {
   "cell_type": "code",
   "execution_count": 1,
   "metadata": {},
   "outputs": [],
   "source": [
    "import numpy as np\n",
    "\n",
    "import tensorflow as tf"
   ]
  },
  {
   "cell_type": "code",
   "execution_count": 2,
   "metadata": {},
   "outputs": [],
   "source": [
    "h = [1, 0, 0, 0]\n",
    "e = [0, 1, 0, 0]\n",
    "l = [0, 0, 1, 0]\n",
    "o = [0, 0, 0, 1]"
   ]
  },
  {
   "cell_type": "code",
   "execution_count": 19,
   "metadata": {},
   "outputs": [
    {
     "name": "stdout",
     "output_type": "stream",
     "text": [
      "x_data: [[[1. 0. 0. 0.]]], shape: (1, 1, 4)\n",
      "outputs: [[[0.49774322 0.6420193 ]]], shape: (1, 1, 2)\n",
      "states: [[0.49774322 0.6420193 ]], shape: (1, 2)\n"
     ]
    }
   ],
   "source": [
    "x_data = np.array([[h]], dtype=np.float32) #(batch_size, sequence length, input dimension)\n",
    "\n",
    "hidden_size = 2\n",
    "rnn = tf.keras.layers.SimpleRNN(units=hidden_size, return_sequences=True, return_state=True)\n",
    "\n",
    "outputs, states = rnn(x_data)\n",
    "\n",
    "print('x_data: {}, shape: {}'.format(x_data, x_data.shape))\n",
    "print('outputs: {}, shape: {}'.format(outputs, outputs.shape))\n",
    "print('states: {}, shape: {}'.format(states, states.shape))"
   ]
  },
  {
   "cell_type": "code",
   "execution_count": 20,
   "metadata": {},
   "outputs": [
    {
     "name": "stdout",
     "output_type": "stream",
     "text": [
      "x_data: [[[1. 0. 0. 0.]\n",
      "  [0. 1. 0. 0.]\n",
      "  [0. 0. 1. 0.]\n",
      "  [0. 0. 1. 0.]\n",
      "  [0. 0. 0. 1.]]], shape: (1, 5, 4) \n",
      "\n",
      "outputs: [[[ 0.34121484  0.04105452]\n",
      "  [-0.53974617  0.24268186]\n",
      "  [ 0.24104525  0.17630343]\n",
      "  [ 0.24466586 -0.5409046 ]\n",
      "  [-0.46444875  0.4172612 ]]], shape: (1, 5, 2) \n",
      "\n",
      "states: [[-0.46444875  0.4172612 ]], shape: (1, 2)\n"
     ]
    }
   ],
   "source": [
    "x_data = np.array([[h, e, l, l, o]], dtype=np.float32)\n",
    "\n",
    "hidden_size = 2\n",
    "rnn = tf.keras.layers.SimpleRNN(units=hidden_size, return_sequences=True, return_state=True)\n",
    "\n",
    "outputs, states = rnn(x_data)\n",
    "\n",
    "print('x_data: {}, shape: {} \\n'.format(x_data, x_data.shape))\n",
    "print('outputs: {}, shape: {} \\n'.format(outputs, outputs.shape))\n",
    "print('states: {}, shape: {}'.format(states, states.shape))"
   ]
  },
  {
   "cell_type": "code",
   "execution_count": 21,
   "metadata": {},
   "outputs": [
    {
     "name": "stdout",
     "output_type": "stream",
     "text": [
      "x_data: [[[1. 0. 0. 0.]\n",
      "  [0. 1. 0. 0.]\n",
      "  [0. 0. 1. 0.]\n",
      "  [0. 0. 1. 0.]\n",
      "  [0. 0. 0. 1.]]\n",
      "\n",
      " [[0. 1. 0. 0.]\n",
      "  [0. 0. 0. 1.]\n",
      "  [0. 0. 1. 0.]\n",
      "  [0. 0. 1. 0.]\n",
      "  [0. 0. 1. 0.]]\n",
      "\n",
      " [[0. 0. 1. 0.]\n",
      "  [0. 0. 1. 0.]\n",
      "  [0. 1. 0. 0.]\n",
      "  [0. 1. 0. 0.]\n",
      "  [0. 0. 1. 0.]]], shape: (3, 5, 4) \n",
      "\n",
      "outputs: [[[-0.6616912   0.53088856]\n",
      "  [ 0.9363193   0.23846272]\n",
      "  [ 0.28962305 -0.8026673 ]\n",
      "  [ 0.10484887  0.103909  ]\n",
      "  [-0.67376935  0.67976356]]\n",
      "\n",
      " [[ 0.69604975  0.20805915]\n",
      "  [-0.832511    0.34772292]\n",
      "  [ 0.93623126 -0.03045019]\n",
      "  [ 0.12153974 -0.71763796]\n",
      "  [ 0.28024873  0.14895852]]\n",
      "\n",
      " [[ 0.69091624 -0.3029375 ]\n",
      "  [ 0.128427   -0.4900902 ]\n",
      "  [ 0.41499394  0.46012697]\n",
      "  [ 0.6896115  -0.38707992]\n",
      "  [ 0.07489137 -0.43959436]]], shape: (3, 5, 2) \n",
      "\n",
      "states: [[-0.67376935  0.67976356]\n",
      " [ 0.28024873  0.14895852]\n",
      " [ 0.07489137 -0.43959436]], shape: (3, 2)\n"
     ]
    }
   ],
   "source": [
    "x_data = np.array([[h, e, l, l, o],\n",
    "                   [e, o, l, l, l],\n",
    "                   [l, l, e, e, l]], dtype=np.float32)\n",
    "\n",
    "hidden_size = 2\n",
    "rnn = tf.keras.layers.SimpleRNN(units=hidden_size, return_sequences=True, return_state=True)    \n",
    "outputs, states = rnn(x_data)\n",
    "\n",
    "print('x_data: {}, shape: {} \\n'.format(x_data, x_data.shape))\n",
    "print('outputs: {}, shape: {} \\n'.format(outputs, outputs.shape))\n",
    "print('states: {}, shape: {}'.format(states, states.shape))"
   ]
  },
  {
   "cell_type": "code",
   "execution_count": null,
   "metadata": {},
   "outputs": [],
   "source": []
  }
 ],
 "metadata": {
  "kernelspec": {
   "display_name": "Python 3",
   "language": "python",
   "name": "python3"
  },
  "language_info": {
   "codemirror_mode": {
    "name": "ipython",
    "version": 3
   },
   "file_extension": ".py",
   "mimetype": "text/x-python",
   "name": "python",
   "nbconvert_exporter": "python",
   "pygments_lexer": "ipython3",
   "version": "3.7.7"
  }
 },
 "nbformat": 4,
 "nbformat_minor": 4
}
