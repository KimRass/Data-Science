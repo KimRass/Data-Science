{
 "cells": [
  {
   "cell_type": "code",
   "execution_count": 86,
   "metadata": {
    "ExecuteTime": {
     "end_time": "2022-01-19T04:06:03.441753Z",
     "start_time": "2022-01-19T04:06:03.428770Z"
    }
   },
   "outputs": [],
   "source": [
    "import wget\n",
    "import pandas as pd\n",
    "import sentencepiece as spm\n",
    "import csv"
   ]
  },
  {
   "cell_type": "markdown",
   "metadata": {},
   "source": [
    "# Training"
   ]
  },
  {
   "cell_type": "code",
   "execution_count": 100,
   "metadata": {
    "ExecuteTime": {
     "end_time": "2022-01-19T04:07:07.909138Z",
     "start_time": "2022-01-19T04:07:07.893143Z"
    }
   },
   "outputs": [
    {
     "data": {
      "text/plain": [
       "-1"
      ]
     },
     "execution_count": 100,
     "metadata": {},
     "output_type": "execute_result"
    }
   ],
   "source": [
    "sp.pad_id()"
   ]
  },
  {
   "cell_type": "code",
   "execution_count": 87,
   "metadata": {
    "ExecuteTime": {
     "end_time": "2022-01-19T04:06:03.456789Z",
     "start_time": "2022-01-19T04:06:03.444756Z"
    },
    "id": "9F_I3csz0sdi"
   },
   "outputs": [],
   "source": [
    "data = pd.read_csv(\"./Datasets/IMDb/imdb.zip\")"
   ]
  },
  {
   "cell_type": "code",
   "execution_count": 88,
   "metadata": {
    "ExecuteTime": {
     "end_time": "2022-01-19T04:06:03.629751Z",
     "start_time": "2022-01-19T04:06:03.459754Z"
    },
    "id": "fmhCRd330vWX"
   },
   "outputs": [],
   "source": [
    "with open(\"./imdb_review.txt\", \"w\", encoding=\"utf8\") as f:\n",
    "    f.write(\"\\n\".join(data[\"review\"]))\n",
    "\n",
    "input_ = \"./imdb_review.txt\"\n",
    "model_prefix = \"imdb\"\n",
    "vocab_size = 1000\n",
    "model_type = \"bpe\"\n",
    "spm.SentencePieceTrainer.train(f\"--input={input_} --model_prefix={model_prefix} --vocab_size={vocab_size} --model_type={model_type}\")"
   ]
  },
  {
   "cell_type": "code",
   "execution_count": 89,
   "metadata": {
    "ExecuteTime": {
     "end_time": "2022-01-19T04:06:03.661780Z",
     "start_time": "2022-01-19T04:06:03.632753Z"
    },
    "id": "vjM5coBM0zGQ"
   },
   "outputs": [],
   "source": [
    "subwords = pd.read_csv(\"imdb.vocab\", sep=\"\\t\", header=None, quoting=csv.QUOTE_NONE)"
   ]
  },
  {
   "cell_type": "code",
   "execution_count": 90,
   "metadata": {
    "ExecuteTime": {
     "end_time": "2022-01-19T04:06:03.677753Z",
     "start_time": "2022-01-19T04:06:03.663751Z"
    },
    "colab": {
     "base_uri": "https://localhost:8080/",
     "height": 347
    },
    "id": "BUALlx_C0-nN",
    "outputId": "4eca36f5-b832-4abb-f969-983fb1c6345e"
   },
   "outputs": [
    {
     "data": {
      "text/html": [
       "<div>\n",
       "<style scoped>\n",
       "    .dataframe tbody tr th:only-of-type {\n",
       "        vertical-align: middle;\n",
       "    }\n",
       "\n",
       "    .dataframe tbody tr th {\n",
       "        vertical-align: top;\n",
       "    }\n",
       "\n",
       "    .dataframe thead th {\n",
       "        text-align: right;\n",
       "    }\n",
       "</style>\n",
       "<table border=\"1\" class=\"dataframe\">\n",
       "  <thead>\n",
       "    <tr style=\"text-align: right;\">\n",
       "      <th></th>\n",
       "      <th>0</th>\n",
       "      <th>1</th>\n",
       "    </tr>\n",
       "  </thead>\n",
       "  <tbody>\n",
       "    <tr>\n",
       "      <th>330</th>\n",
       "      <td>▁man</td>\n",
       "      <td>-327</td>\n",
       "    </tr>\n",
       "    <tr>\n",
       "      <th>460</th>\n",
       "      <td>ans</td>\n",
       "      <td>-457</td>\n",
       "    </tr>\n",
       "    <tr>\n",
       "      <th>799</th>\n",
       "      <td>▁actually</td>\n",
       "      <td>-796</td>\n",
       "    </tr>\n",
       "    <tr>\n",
       "      <th>229</th>\n",
       "      <td>um</td>\n",
       "      <td>-226</td>\n",
       "    </tr>\n",
       "    <tr>\n",
       "      <th>681</th>\n",
       "      <td>fin</td>\n",
       "      <td>-678</td>\n",
       "    </tr>\n",
       "    <tr>\n",
       "      <th>803</th>\n",
       "      <td>▁predictable</td>\n",
       "      <td>-800</td>\n",
       "    </tr>\n",
       "    <tr>\n",
       "      <th>792</th>\n",
       "      <td>finitely</td>\n",
       "      <td>-789</td>\n",
       "    </tr>\n",
       "    <tr>\n",
       "      <th>690</th>\n",
       "      <td>▁Sh</td>\n",
       "      <td>-687</td>\n",
       "    </tr>\n",
       "    <tr>\n",
       "      <th>826</th>\n",
       "      <td>▁id</td>\n",
       "      <td>-823</td>\n",
       "    </tr>\n",
       "    <tr>\n",
       "      <th>4</th>\n",
       "      <td>▁a</td>\n",
       "      <td>-1</td>\n",
       "    </tr>\n",
       "  </tbody>\n",
       "</table>\n",
       "</div>"
      ],
      "text/plain": [
       "                0    1\n",
       "330          ▁man -327\n",
       "460           ans -457\n",
       "799     ▁actually -796\n",
       "229            um -226\n",
       "681           fin -678\n",
       "803  ▁predictable -800\n",
       "792      finitely -789\n",
       "690           ▁Sh -687\n",
       "826           ▁id -823\n",
       "4              ▁a   -1"
      ]
     },
     "execution_count": 90,
     "metadata": {},
     "output_type": "execute_result"
    }
   ],
   "source": [
    "subwords.sample(10)"
   ]
  },
  {
   "cell_type": "code",
   "execution_count": 91,
   "metadata": {
    "ExecuteTime": {
     "end_time": "2022-01-19T04:06:03.709786Z",
     "start_time": "2022-01-19T04:06:03.680753Z"
    },
    "colab": {
     "base_uri": "https://localhost:8080/",
     "height": 34
    },
    "id": "EttG7Gc01BpA",
    "outputId": "ce8f85ee-03fa-423c-981b-2c702fa14eb4"
   },
   "outputs": [],
   "source": [
    "sp = spm.SentencePieceProcessor(model_file=\"./imdb.model\")"
   ]
  },
  {
   "cell_type": "code",
   "execution_count": 92,
   "metadata": {
    "ExecuteTime": {
     "end_time": "2022-01-19T04:06:03.725816Z",
     "start_time": "2022-01-19T04:06:03.711799Z"
    },
    "colab": {
     "base_uri": "https://localhost:8080/",
     "height": 34
    },
    "id": "jlUUkSY21H5R",
    "outputId": "a3699cfb-ce5d-4005-c88d-84885e2c2c7a"
   },
   "outputs": [
    {
     "name": "stdout",
     "output_type": "stream",
     "text": [
      "A very, very, very slow-moving, aimless movie about a distressed, drifting young man.\n",
      "['▁A', '▁very', ',', '▁very', ',', '▁very', '▁sl', 'ow', '-', 'm', 'o', 'ving', ',', '▁a', 'im', 'less', '▁movie', '▁about', '▁a', '▁d', 'ist', 'res', 'sed', ',', '▁d', 'ri', 'f', 'ting', '▁you', 'ng', '▁man', '.']\n",
      "[87, 163, 951, 163, 951, 163, 572, 75, 956, 941, 933, 403, 951, 4, 86, 416, 70, 206, 4, 36, 193, 231, 397, 951, 36, 77, 943, 653, 102, 881, 330, 947]\n"
     ]
    }
   ],
   "source": [
    "text = data.loc[0, \"review\"]\n",
    "print(text)\n",
    "print(sp.encode(text, out_type=str))\n",
    "print(sp.encode(text, out_type=int))"
   ]
  },
  {
   "cell_type": "code",
   "execution_count": 93,
   "metadata": {
    "ExecuteTime": {
     "end_time": "2022-01-19T04:06:03.741751Z",
     "start_time": "2022-01-19T04:06:03.730790Z"
    }
   },
   "outputs": [
    {
     "name": "stdout",
     "output_type": "stream",
     "text": [
      "[87, 163, 951, 163, 951, 163, 572, 75, 956, 941, 933, 403, 951, 4, 86, 416, 70, 206, 4, 36, 193, 231, 397, 951, 36, 77, 943, 653, 102, 881, 330, 947]\n",
      "['▁A', '▁very', ',', '▁very', ',', '▁very', '▁sl', 'ow', '-', 'm', 'o', 'ving', ',', '▁a', 'im', 'less', '▁movie', '▁about', '▁a', '▁d', 'ist', 'res', 'sed', ',', '▁d', 'ri', 'f', 'ting', '▁you', 'ng', '▁man', '.']\n"
     ]
    }
   ],
   "source": [
    "print(sp.encode(text, out_type=int))\n",
    "print(sp.encode(text, out_type=str))"
   ]
  },
  {
   "cell_type": "code",
   "execution_count": 94,
   "metadata": {
    "ExecuteTime": {
     "end_time": "2022-01-19T04:06:04.249870Z",
     "start_time": "2022-01-19T04:06:03.744754Z"
    },
    "id": "b-hYjFStzz3T"
   },
   "outputs": [],
   "source": [
    "ratings_data = pd.read_table(\"ratings.txt\")\n",
    "ratings_data = ratings_data.dropna(subset=[\"document\"])"
   ]
  },
  {
   "cell_type": "code",
   "execution_count": 95,
   "metadata": {
    "ExecuteTime": {
     "end_time": "2022-01-19T04:06:16.181555Z",
     "start_time": "2022-01-19T04:06:04.251771Z"
    },
    "id": "K7LxEwdc1HZp"
   },
   "outputs": [],
   "source": [
    "with open(\"./nsmc_document.txt\", \"w\", encoding=\"utf8\") as f:\n",
    "    f.write(\"\\n\".join(ratings_data[\"document\"]))\n",
    "\n",
    "input_ = \"./nsmc_document.txt\"\n",
    "model_prefix = \"nsmc\"\n",
    "vocab_size = 5000\n",
    "model_type = \"bpe\"\n",
    "spm.SentencePieceTrainer.train(f\"--input={input_} --model_prefix={model_prefix} --vocab_size={vocab_size} --model_type={model_type}\")"
   ]
  },
  {
   "cell_type": "code",
   "execution_count": 96,
   "metadata": {
    "ExecuteTime": {
     "end_time": "2022-01-19T04:06:16.228164Z",
     "start_time": "2022-01-19T04:06:16.183368Z"
    },
    "id": "IaKBT6xj3wF1"
   },
   "outputs": [],
   "source": [
    "subwords = pd.read_csv(\"nsmc.vocab\", sep=\"\\t\", header=None, quoting=csv.QUOTE_NONE)"
   ]
  },
  {
   "cell_type": "code",
   "execution_count": 97,
   "metadata": {
    "ExecuteTime": {
     "end_time": "2022-01-19T04:06:16.244175Z",
     "start_time": "2022-01-19T04:06:16.229852Z"
    },
    "colab": {
     "base_uri": "https://localhost:8080/",
     "height": 347
    },
    "id": "TPbT6TYLAwt0",
    "outputId": "283d91d0-6693-429d-e0f5-4b747042e9b8"
   },
   "outputs": [
    {
     "data": {
      "text/html": [
       "<div>\n",
       "<style scoped>\n",
       "    .dataframe tbody tr th:only-of-type {\n",
       "        vertical-align: middle;\n",
       "    }\n",
       "\n",
       "    .dataframe tbody tr th {\n",
       "        vertical-align: top;\n",
       "    }\n",
       "\n",
       "    .dataframe thead th {\n",
       "        text-align: right;\n",
       "    }\n",
       "</style>\n",
       "<table border=\"1\" class=\"dataframe\">\n",
       "  <thead>\n",
       "    <tr style=\"text-align: right;\">\n",
       "      <th></th>\n",
       "      <th>0</th>\n",
       "      <th>1</th>\n",
       "    </tr>\n",
       "  </thead>\n",
       "  <tbody>\n",
       "    <tr>\n",
       "      <th>548</th>\n",
       "      <td>▁좋다</td>\n",
       "      <td>-545</td>\n",
       "    </tr>\n",
       "    <tr>\n",
       "      <th>2476</th>\n",
       "      <td>(?)</td>\n",
       "      <td>-2473</td>\n",
       "    </tr>\n",
       "    <tr>\n",
       "      <th>1770</th>\n",
       "      <td>처음</td>\n",
       "      <td>-1767</td>\n",
       "    </tr>\n",
       "    <tr>\n",
       "      <th>55</th>\n",
       "      <td>▁연기</td>\n",
       "      <td>-52</td>\n",
       "    </tr>\n",
       "    <tr>\n",
       "      <th>4753</th>\n",
       "      <td>뮬</td>\n",
       "      <td>-4750</td>\n",
       "    </tr>\n",
       "    <tr>\n",
       "      <th>1460</th>\n",
       "      <td>▁뭐지</td>\n",
       "      <td>-1457</td>\n",
       "    </tr>\n",
       "    <tr>\n",
       "      <th>3450</th>\n",
       "      <td>악</td>\n",
       "      <td>-3447</td>\n",
       "    </tr>\n",
       "    <tr>\n",
       "      <th>4961</th>\n",
       "      <td>쌉</td>\n",
       "      <td>-4958</td>\n",
       "    </tr>\n",
       "    <tr>\n",
       "      <th>2156</th>\n",
       "      <td>▁못보</td>\n",
       "      <td>-2153</td>\n",
       "    </tr>\n",
       "    <tr>\n",
       "      <th>4545</th>\n",
       "      <td>쉣</td>\n",
       "      <td>-4542</td>\n",
       "    </tr>\n",
       "  </tbody>\n",
       "</table>\n",
       "</div>"
      ],
      "text/plain": [
       "        0     1\n",
       "548   ▁좋다  -545\n",
       "2476  (?) -2473\n",
       "1770   처음 -1767\n",
       "55    ▁연기   -52\n",
       "4753    뮬 -4750\n",
       "1460  ▁뭐지 -1457\n",
       "3450    악 -3447\n",
       "4961    쌉 -4958\n",
       "2156  ▁못보 -2153\n",
       "4545    쉣 -4542"
      ]
     },
     "execution_count": 97,
     "metadata": {},
     "output_type": "execute_result"
    }
   ],
   "source": [
    "subwords.sample(10)"
   ]
  },
  {
   "cell_type": "markdown",
   "metadata": {},
   "source": [
    "# Segmentation"
   ]
  },
  {
   "cell_type": "code",
   "execution_count": 98,
   "metadata": {
    "ExecuteTime": {
     "end_time": "2022-01-19T04:06:16.259869Z",
     "start_time": "2022-01-19T04:06:16.247871Z"
    }
   },
   "outputs": [
    {
     "name": "stdout",
     "output_type": "stream",
     "text": [
      "['▁', 'T', 'h', 'i', 's', '▁', 'is', '▁a', '▁te', 's', 't']\n",
      "['▁', 'T', 'h', 'i', 's', '▁', 'i', 's', '▁a', '▁t', 'est']\n",
      "['▁T', 'h', 'is', '▁', 'i', 's', '▁', 'a', '▁te', 'st']\n",
      "['▁', 'T', 'h', 'i', 's', '▁is', '▁a', '▁', 't', 'e', 's', 't']\n",
      "['▁', 'T', 'h', 'i', 's', '▁', 'i', 's', '▁', 'a', '▁te', 's', 't']\n",
      "['▁', 'T', 'h', 'is', '▁', 'is', '▁', 'a', '▁t', 'est']\n",
      "['▁Th', 'i', 's', '▁is', '▁a', '▁t', 'es', 't']\n",
      "['▁Th', 'is', '▁', 'is', '▁', 'a', '▁t', 'e', 's', 't']\n",
      "['▁Th', 'is', '▁', 'is', '▁a', '▁', 't', 'est']\n",
      "['▁', 'T', 'h', 'i', 's', '▁i', 's', '▁a', '▁', 't', 'es', 't']\n"
     ]
    }
   ],
   "source": [
    "for _ in range(10):\n",
    "    print(sp.encode('This is a test', out_type=str, enable_sampling=True, alpha=0.5, nbest_size=-1))"
   ]
  }
 ],
 "metadata": {
  "accelerator": "GPU",
  "colab": {
   "collapsed_sections": [],
   "machine_shape": "hm",
   "name": "Subword Tokenizer(SubwordTextEncoder, sentencepiece / IMDb, Naver Movie Review Dataset).ipynb",
   "provenance": [],
   "toc_visible": true
  },
  "hide_input": false,
  "kernelspec": {
   "display_name": "Python 3",
   "language": "python",
   "name": "python3"
  },
  "language_info": {
   "codemirror_mode": {
    "name": "ipython",
    "version": 3
   },
   "file_extension": ".py",
   "mimetype": "text/x-python",
   "name": "python",
   "nbconvert_exporter": "python",
   "pygments_lexer": "ipython3",
   "version": "3.8.5"
  },
  "toc": {
   "base_numbering": 1,
   "nav_menu": {},
   "number_sections": true,
   "sideBar": true,
   "skip_h1_title": false,
   "title_cell": "Table of Contents",
   "title_sidebar": "Contents",
   "toc_cell": false,
   "toc_position": {},
   "toc_section_display": true,
   "toc_window_display": false
  },
  "varInspector": {
   "cols": {
    "lenName": 16,
    "lenType": 16,
    "lenVar": 40
   },
   "kernels_config": {
    "python": {
     "delete_cmd_postfix": "",
     "delete_cmd_prefix": "del ",
     "library": "var_list.py",
     "varRefreshCmd": "print(var_dic_list())"
    },
    "r": {
     "delete_cmd_postfix": ") ",
     "delete_cmd_prefix": "rm(",
     "library": "var_list.r",
     "varRefreshCmd": "cat(var_dic_list()) "
    }
   },
   "types_to_exclude": [
    "module",
    "function",
    "builtin_function_or_method",
    "instance",
    "_Feature"
   ],
   "window_display": false
  }
 },
 "nbformat": 4,
 "nbformat_minor": 1
}
