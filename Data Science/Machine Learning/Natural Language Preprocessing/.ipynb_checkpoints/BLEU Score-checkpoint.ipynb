{
 "cells": [
  {
   "cell_type": "markdown",
   "metadata": {
    "toc": true
   },
   "source": [
    "<h1>Table of Contents<span class=\"tocSkip\"></span></h1>\n",
    "<div class=\"toc\"><ul class=\"toc-item\"><li><span><a href=\"#Implementation\" data-toc-modified-id=\"Implementation-1\"><span class=\"toc-item-num\">1&nbsp;&nbsp;</span>Implementation</a></span><ul class=\"toc-item\"><li><span><a href=\"#N-gram-Precision\" data-toc-modified-id=\"N-gram-Precision-1.1\"><span class=\"toc-item-num\">1.1&nbsp;&nbsp;</span>N-gram Precision</a></span></li><li><span><a href=\"#Modified-N-gram-Precision\" data-toc-modified-id=\"Modified-N-gram-Precision-1.2\"><span class=\"toc-item-num\">1.2&nbsp;&nbsp;</span>Modified N-gram Precision</a></span></li><li><span><a href=\"#Brevity-Penalty\" data-toc-modified-id=\"Brevity-Penalty-1.3\"><span class=\"toc-item-num\">1.3&nbsp;&nbsp;</span>Brevity Penalty</a></span></li></ul></li><li><span><a href=\"#Using-corpus_bleu()\" data-toc-modified-id=\"Using-corpus_bleu()-2\"><span class=\"toc-item-num\">2&nbsp;&nbsp;</span>Using <code>corpus_bleu()</code></a></span></li><li><span><a href=\"#Using-sentence_bleu()\" data-toc-modified-id=\"Using-sentence_bleu()-3\"><span class=\"toc-item-num\">3&nbsp;&nbsp;</span>Using <code>sentence_bleu()</code></a></span><ul class=\"toc-item\"><li><span><a href=\"#NLTK의-BLEU-Vs.-구현한-BLEU-함수\" data-toc-modified-id=\"NLTK의-BLEU-Vs.-구현한-BLEU-함수-3.1\"><span class=\"toc-item-num\">3.1&nbsp;&nbsp;</span>NLTK의 BLEU Vs. 구현한 BLEU 함수</a></span></li></ul></li></ul></div>"
   ]
  },
  {
   "cell_type": "code",
   "execution_count": 6,
   "metadata": {
    "ExecuteTime": {
     "end_time": "2022-01-19T15:05:01.705651Z",
     "start_time": "2022-01-19T15:05:01.681643Z"
    },
    "id": "kb9QnE3_0iw-"
   },
   "outputs": [],
   "source": [
    "import nltk\n",
    "from nltk.translate.bleu_score import corpus_bleu\n",
    "from nltk.translate.bleu_score import sentence_bleu\n",
    "import numpy as np\n",
    "from collections import Counter"
   ]
  },
  {
   "cell_type": "markdown",
   "metadata": {
    "id": "k7BhqvQ6xLTi"
   },
   "source": [
    "# Implementation"
   ]
  },
  {
   "cell_type": "code",
   "execution_count": 4,
   "metadata": {
    "ExecuteTime": {
     "end_time": "2022-01-19T15:02:44.824825Z",
     "start_time": "2022-01-19T15:02:44.809817Z"
    },
    "id": "Yi7AfUmRxYgZ"
   },
   "outputs": [],
   "source": [
    "def get_ngram2cnt(cand, n):\n",
    "    return Counter(nltk.ngrams(cand, n))"
   ]
  },
  {
   "cell_type": "code",
   "execution_count": 5,
   "metadata": {
    "ExecuteTime": {
     "end_time": "2022-01-19T15:02:46.229131Z",
     "start_time": "2022-01-19T15:02:46.106092Z"
    },
    "id": "ytGG39gC0ixA",
    "outputId": "3799c0ac-2575-4a7b-dfda-f9de4bece902"
   },
   "outputs": [
    {
     "ename": "NameError",
     "evalue": "name 'cand1' is not defined",
     "output_type": "error",
     "traceback": [
      "\u001b[1;31m---------------------------------------------------------------------------\u001b[0m",
      "\u001b[1;31mNameError\u001b[0m                                 Traceback (most recent call last)",
      "\u001b[1;32m<ipython-input-5-7b716435f856>\u001b[0m in \u001b[0;36m<module>\u001b[1;34m\u001b[0m\n\u001b[1;32m----> 1\u001b[1;33m \u001b[0mget_ngram2cnt\u001b[0m\u001b[1;33m(\u001b[0m\u001b[0mcand1\u001b[0m\u001b[1;33m,\u001b[0m \u001b[1;36m3\u001b[0m\u001b[1;33m)\u001b[0m\u001b[1;33m\u001b[0m\u001b[1;33m\u001b[0m\u001b[0m\n\u001b[0m",
      "\u001b[1;31mNameError\u001b[0m: name 'cand1' is not defined"
     ]
    }
   ],
   "source": [
    "get_ngram2cnt(cand1, 3)"
   ]
  },
  {
   "cell_type": "markdown",
   "metadata": {
    "id": "KoNmktwjxieM"
   },
   "source": [
    "## N-gram Precision"
   ]
  },
  {
   "cell_type": "code",
   "execution_count": null,
   "metadata": {
    "id": "i_zjPuyW0ixC"
   },
   "outputs": [],
   "source": [
    "def get_ngram_precision(cand, refs, n):\n",
    "    ngram2cnt_refs = Counter()\n",
    "    for ref in refs:\n",
    "        ngram2cnt_refs += get_ngram2cnt(ref, n)\n",
    "    ngrams_in_refs = 0\n",
    "    len_cand = 0\n",
    "    for ngram, cnt in get_ngram2cnt(cand, n).items():\n",
    "        if ngram in ngram2cnt_refs:\n",
    "            ngrams_in_refs += cnt \n",
    "        len_cand += cnt\n",
    "    return ngrams_in_refs/len_cand"
   ]
  },
  {
   "cell_type": "code",
   "execution_count": null,
   "metadata": {
    "id": "lTPdHH_e0ixD",
    "outputId": "5c027715-6d09-4942-8dea-a548df56653a",
    "scrolled": true
   },
   "outputs": [
    {
     "name": "stdout",
     "output_type": "stream",
     "text": [
      "0.9444444444444444\n",
      "0.5714285714285714\n"
     ]
    }
   ],
   "source": [
    "print(get_ngram_precision(cand1, refs, 1))\n",
    "print(get_ngram_precision(cand2, refs, 1))"
   ]
  },
  {
   "cell_type": "markdown",
   "metadata": {
    "id": "uSXUjRrN0ixE"
   },
   "source": [
    "## Modified N-gram Precision"
   ]
  },
  {
   "cell_type": "code",
   "execution_count": null,
   "metadata": {
    "id": "6vz7FgLi0ixE"
   },
   "outputs": [],
   "source": [
    "def get_modified_ngram_precision(cand, refs, n):\n",
    "    def get_count_clip(ngram, cand, refs, n):\n",
    "        def get_max_ref_count(ngram, refs, n):\n",
    "            temp = list()\n",
    "            for ref in refs:\n",
    "                ngram2cnt_ref = get_ngram2cnt(ref, n)\n",
    "                temp.append(ngram2cnt_ref[ngram])\n",
    "            return max(temp)    \n",
    "\n",
    "        def get_count(ngram, cand, n):\n",
    "            return get_ngram2cnt(cand, 1)[ngram]\n",
    "\n",
    "        return min(get_count(ngram, cand, n), get_max_ref_count(ngram, refs, n))\n",
    "    \n",
    "    sum_countclip = 0\n",
    "    len_cand = 0\n",
    "    for ngram, cnt in get_ngram2cnt(cand, n).items():\n",
    "        sum_countclip += get_count_clip(ngram, cand, refs, n)\n",
    "        len_cand += cnt\n",
    "    return sum_countclip/len_cand"
   ]
  },
  {
   "cell_type": "code",
   "execution_count": null,
   "metadata": {
    "id": "Ri4LNA260ixG",
    "outputId": "ba5b1486-9477-48d1-f504-7e6373635219"
   },
   "outputs": [
    {
     "name": "stdout",
     "output_type": "stream",
     "text": [
      "0.9444444444444444\n",
      "0.5714285714285714\n"
     ]
    }
   ],
   "source": [
    "print(get_modified_ngram_precision(cand1, refs, 1))\n",
    "print(get_modified_ngram_precision(cand2, refs, 1))"
   ]
  },
  {
   "cell_type": "code",
   "execution_count": null,
   "metadata": {
    "id": "4PiWATOk0ixH",
    "outputId": "c9ceba5c-33b0-45c0-96c5-17b8d026db46"
   },
   "outputs": [
    {
     "name": "stdout",
     "output_type": "stream",
     "text": [
      "1.0\n",
      "0.5714285714285714\n"
     ]
    }
   ],
   "source": [
    "cand = \"the the the the the the the\"\n",
    "print(get_ngram_precision(cand.split(\" \"), refs, 1))\n",
    "print(get_modified_ngram_precision(cand.split(\" \"), refs, 1))"
   ]
  },
  {
   "cell_type": "markdown",
   "metadata": {
    "id": "rgsirDfSkpEF"
   },
   "source": [
    "## Brevity Penalty"
   ]
  },
  {
   "cell_type": "code",
   "execution_count": null,
   "metadata": {
    "id": "RQUUVtYXkhET"
   },
   "outputs": [],
   "source": [
    "def closest_ref_length(cand, ref_list): # Ca 길이와 가장 근접한 Ref의 길이를 리턴하는 함수\n",
    "    ca_len = len(cand) # ca 길이\n",
    "    ref_lens = (len(ref) for ref in ref_list) # Ref들의 길이\n",
    "    closest_ref_len = min(ref_lens, key=lambda ref_len: (abs(ref_len - ca_len), ref_len))\n",
    "    # 길이 차이를 최소화하는 Ref를 찾아서 Ref의 길이를 리턴\n",
    "    return closest_ref_len"
   ]
  },
  {
   "cell_type": "code",
   "execution_count": null,
   "metadata": {
    "id": "MQhnL1IFlFhj"
   },
   "outputs": [],
   "source": [
    "def brevity_penalty(cand, ref_list):\n",
    "    ca_len = len(cand)\n",
    "    ref_len = closest_ref_length(cand, ref_list)\n",
    "\n",
    "    if ca_len > ref_len:\n",
    "        return 1\n",
    "    elif ca_len == 0 :\n",
    "    # cand가 비어있다면 BP = 0 → BLEU = 0.0\n",
    "        return 0\n",
    "    else:\n",
    "        return np.exp(1 - ref_len/ca_len)"
   ]
  },
  {
   "cell_type": "code",
   "execution_count": null,
   "metadata": {
    "id": "v9veUzn1lGP6"
   },
   "outputs": [],
   "source": [
    "def bleu_score(cand, ref_list, weights=[0.25, 0.25, 0.25, 0.25]):\n",
    "    bp = brevity_penalty(cand, ref_list) # 브레버티 패널티, BP\n",
    "\n",
    "    p_n = [modified_precision(cand, ref_list, n=n) for n, _ in enumerate(weights,start=1)] \n",
    "    #p1, p2, p3, ..., pn\n",
    "    score = np.sum([w_i * np.log(p_i) if p_i != 0 else 0 for w_i, p_i in zip(weights, p_n)])\n",
    "    return bp * np.exp(score)"
   ]
  },
  {
   "cell_type": "markdown",
   "metadata": {
    "id": "SbUorUGolQ4x"
   },
   "source": [
    "위 함수가 동작하기 위해서는 앞서 구현한 get_ngram2cnt, count_clip, modified_precision, brevity_penalty 4개의 함수 또한 모두 구현되어져 있어야 합니다. 지금까지 구현한 BLEU 코드로 계산된 점수와 NLTK 패키지에 이미 구현되어져 있는 BLEU 코드로 계산된 점수를 비교해봅시다."
   ]
  },
  {
   "cell_type": "markdown",
   "metadata": {},
   "source": [
    "# Using `corpus_bleu()`"
   ]
  },
  {
   "cell_type": "code",
   "execution_count": 7,
   "metadata": {
    "ExecuteTime": {
     "end_time": "2022-01-19T15:05:20.972631Z",
     "start_time": "2022-01-19T15:05:20.962626Z"
    }
   },
   "outputs": [
    {
     "name": "stdout",
     "output_type": "stream",
     "text": [
      "1.0\n"
     ]
    }
   ],
   "source": [
    "references = [[['this', 'is', 'a', 'test'], ['this', 'is' 'test']]]\n",
    "candidates = [['this', 'is', 'a', 'test']]\n",
    "score = corpus_bleu(references, candidates)\n",
    "print(score)"
   ]
  },
  {
   "cell_type": "markdown",
   "metadata": {
    "id": "wJrYyJOqxE5b"
   },
   "source": [
    "# Using `sentence_bleu()`"
   ]
  },
  {
   "cell_type": "code",
   "execution_count": 3,
   "metadata": {
    "ExecuteTime": {
     "end_time": "2022-01-19T14:17:44.949609Z",
     "start_time": "2022-01-19T14:17:44.931590Z"
    },
    "colab": {
     "base_uri": "https://localhost:8080/",
     "height": 34
    },
    "id": "DwlomX-d1TSa",
    "outputId": "e733e272-62e5-4542-8778-3e20acdd5b2e"
   },
   "outputs": [
    {
     "name": "stdout",
     "output_type": "stream",
     "text": [
      "1.0\n"
     ]
    }
   ],
   "source": [
    "refs = [[\"this\", \"is\", \"a\", \"test\"], [\"this\", \"is\" \"test\"]]\n",
    "cands = [\"this\", \"is\", \"a\", \"test\"]\n",
    "score = sentence_bleu(refs, cands)\n",
    "print(score)"
   ]
  },
  {
   "cell_type": "markdown",
   "metadata": {
    "id": "y3LGHmUPlUWz"
   },
   "source": [
    "## NLTK의 BLEU Vs. 구현한 BLEU 함수"
   ]
  },
  {
   "cell_type": "code",
   "execution_count": null,
   "metadata": {
    "colab": {
     "base_uri": "https://localhost:8080/",
     "height": 52
    },
    "id": "h0uOo_H-lXbz",
    "outputId": "6ad2db98-ac10-4462-b3b0-c2a217fc06ee"
   },
   "outputs": [
    {
     "name": "stdout",
     "output_type": "stream",
     "text": [
      "0.5045666840058485\n",
      "0.5045666840058485\n"
     ]
    }
   ],
   "source": [
    "import nltk.translate.bleu_score as bleu\n",
    "\n",
    "\n",
    "cand = \"It is a guide to action which ensures that the military always obeys the commands of the party\"\n",
    "refs = [\"It is a guide to action that ensures that the military will forever heed Party commands\", \"It is the guiding principle which guarantees the military forces always being under the command of the Party\", \"It is the practical guide for the army always to heed the directions of the party\"]\n",
    "\n",
    "# 이번 챕터에서 구현한 코드로 계산한 BLEU 점수\n",
    "print(bleu_score(cand.split(),list(map(lambda ref: ref.split(), refs))))\n",
    "# NLTK 패키지 구현되어져 있는 코드로 계산한 BLEU 점수\n",
    "print(bleu.sentence_bleu(list(map(lambda ref: ref.split(), refs)),cand.split()))"
   ]
  }
 ],
 "metadata": {
  "accelerator": "GPU",
  "colab": {
   "collapsed_sections": [],
   "machine_shape": "hm",
   "name": "BLEU(BiLingual Evaluation Understudy) Score",
   "provenance": [],
   "toc_visible": true
  },
  "hide_input": false,
  "kernelspec": {
   "display_name": "Python 3",
   "language": "python",
   "name": "python3"
  },
  "language_info": {
   "codemirror_mode": {
    "name": "ipython",
    "version": 3
   },
   "file_extension": ".py",
   "mimetype": "text/x-python",
   "name": "python",
   "nbconvert_exporter": "python",
   "pygments_lexer": "ipython3",
   "version": "3.8.5"
  },
  "toc": {
   "base_numbering": 1,
   "nav_menu": {},
   "number_sections": true,
   "sideBar": true,
   "skip_h1_title": false,
   "title_cell": "Table of Contents",
   "title_sidebar": "Contents",
   "toc_cell": true,
   "toc_position": {},
   "toc_section_display": true,
   "toc_window_display": false
  },
  "varInspector": {
   "cols": {
    "lenName": 16,
    "lenType": 16,
    "lenVar": 40
   },
   "kernels_config": {
    "python": {
     "delete_cmd_postfix": "",
     "delete_cmd_prefix": "del ",
     "library": "var_list.py",
     "varRefreshCmd": "print(var_dic_list())"
    },
    "r": {
     "delete_cmd_postfix": ") ",
     "delete_cmd_prefix": "rm(",
     "library": "var_list.r",
     "varRefreshCmd": "cat(var_dic_list()) "
    }
   },
   "types_to_exclude": [
    "module",
    "function",
    "builtin_function_or_method",
    "instance",
    "_Feature"
   ],
   "window_display": false
  }
 },
 "nbformat": 4,
 "nbformat_minor": 1
}
