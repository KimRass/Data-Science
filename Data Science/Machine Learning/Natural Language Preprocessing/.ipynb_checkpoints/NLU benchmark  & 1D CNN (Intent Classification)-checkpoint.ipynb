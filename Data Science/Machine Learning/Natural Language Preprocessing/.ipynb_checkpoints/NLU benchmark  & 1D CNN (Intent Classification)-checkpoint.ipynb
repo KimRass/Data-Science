{
 "cells": [
  {
   "cell_type": "code",
   "execution_count": null,
   "metadata": {
    "id": "x_h_cwnezpzv",
    "outputId": "adec0209-9e01-4c09-d183-2549137335b2"
   },
   "outputs": [
    {
     "name": "stderr",
     "output_type": "stream",
     "text": [
      "C:\\Users\\5CG7092POZ\\Anaconda3\\envs\\tf2.3\\lib\\site-packages\\tqdm\\std.py:703: FutureWarning: The Panel class is removed from pandas. Accessing it from the top-level namespace will also be removed in the next version\n",
      "  from pandas import Panel\n"
     ]
    }
   ],
   "source": [
    "import pandas as pd\n",
    "import numpy as np\n",
    "import tensorflow as tf\n",
    "import urllib.request\n",
    "import matplotlib as mpl\n",
    "import matplotlib.pyplot as plt\n",
    "import seaborn as sb\n",
    "import string\n",
    "# from hanspell import spell_checker\n",
    "from tqdm.notebook import tqdm\n",
    "from soynlp.normalizer import *\n",
    "import MeCab\n",
    "from konlpy.tag import *\n",
    "import json\n",
    "import re\n",
    "from sklearn.model_selection import train_test_split\n",
    "import random\n",
    "import nltk\n",
    "import wget\n",
    "import zipfile\n",
    "import sklearn\n",
    "import os\n",
    "\n",
    "fpath = \"C:/Windows/Fonts/malgun.ttf\"\n",
    "font_name = mpl.font_manager.FontProperties(fname=fpath).get_name()\n",
    "mpl.rc(\"font\", family=font_name)\n",
    "\n",
    "class Mecab:\n",
    "    def pos(self, text):\n",
    "        p = re.compile(\".+\\t[A-Z]+\")\n",
    "        return [tuple(p.match(line).group().split(\"\\t\")) for line in MeCab.Tagger().parse(text).splitlines()[:-1]]\n",
    "    \n",
    "    def morphs(self, text):\n",
    "        p = re.compile(\".+\\t[A-Z]+\")\n",
    "        return [p.match(line).group().split(\"\\t\")[0] for line in MeCab.Tagger().parse(text).splitlines()[:-1]]\n",
    "    \n",
    "    def nouns(self, text):\n",
    "        p = re.compile(\".+\\t[A-Z]+\")\n",
    "        temp = [tuple(p.match(line).group().split(\"\\t\")) for line in MeCab.Tagger().parse(text).splitlines()[:-1]]\n",
    "        nouns=[]\n",
    "        for word in temp:\n",
    "            if word[1] in [\"NNG\", \"NNP\", \"NNB\", \"NNBC\", \"NP\", \"NR\"]:\n",
    "                nouns.append(word[0])\n",
    "        return nouns\n",
    "    \n",
    "mcb = Mecab()\n",
    "\n",
    "tqdm.pandas()\n",
    "\n",
    "plt.style.use(\"dark_background\")"
   ]
  },
  {
   "cell_type": "code",
   "execution_count": null,
   "metadata": {
    "id": "eIWTydHbLMJw"
   },
   "outputs": [],
   "source": [
    "urllib.request.urlretrieve(\"https://github.com/ajinkyaT/CNN_Intent_Classification/raw/master/data/train_text.npy\", filename=\"train_text.npy\")\n",
    "urllib.request.urlretrieve(\"https://github.com/ajinkyaT/CNN_Intent_Classification/raw/master/data/test_text.npy\", filename=\"test_text.npy\")\n",
    "urllib.request.urlretrieve(\"https://github.com/ajinkyaT/CNN_Intent_Classification/raw/master/data/train_label.npy\", filename=\"train_label.npy\")\n",
    "urllib.request.urlretrieve(\"https://github.com/ajinkyaT/CNN_Intent_Classification/raw/master/data/test_label.npy\", filename=\"test_label.npy\")"
   ]
  },
  {
   "cell_type": "code",
   "execution_count": null,
   "metadata": {
    "id": "ZvhPCHc6zpz2"
   },
   "outputs": [],
   "source": [
    "intent_train = np.load(\"train_text.npy\", allow_pickle=True).tolist()\n",
    "label_train = np.load(\"train_label.npy\", allow_pickle=True).tolist()\n",
    "intent_test = np.load(\"test_text.npy\", allow_pickle=True).tolist()\n",
    "label_test = np.load(\"test_label.npy\", allow_pickle=True).tolist()\n",
    "\n",
    "# intent_train, intent_val, label_train, label_val = train_test_split(intent_train, label_train, train_size=0.8, shuffle=True, random_state=3213)"
   ]
  },
  {
   "cell_type": "code",
   "execution_count": null,
   "metadata": {
    "id": "hhJoFnT7zpz3",
    "outputId": "c2c5aa65-2b44-4e2c-84f3-998e668d76d3"
   },
   "outputs": [
    {
     "data": {
      "image/png": "[encoded data removed]",
      "text/plain": [
       "<Figure size 432x288 with 1 Axes>"
      ]
     },
     "metadata": {
      "tags": []
     },
     "output_type": "display_data"
    }
   ],
   "source": [
    "fig, ax = plt.subplots()\n",
    "\n",
    "sb.countplot(ax=ax, x=label_train)\n",
    "\n",
    "ax.tick_params(axis=\"x\", labelrotation=90)"
   ]
  },
  {
   "cell_type": "code",
   "execution_count": null,
   "metadata": {
    "id": "CFxW6-9szpz5"
   },
   "outputs": [],
   "source": [
    "le = sklearn.preprocessing.LabelEncoder()\n",
    "le.fit(label_train)\n",
    "label_train = le.transform(label_train)\n",
    "label_test = le.transform(label_test)\n",
    "\n",
    "label2idx = dict(zip(le.classes_, set(label_train)))"
   ]
  },
  {
   "cell_type": "markdown",
   "metadata": {
    "id": "tw8jxaFxKNUH"
   },
   "source": [
    "## 토큰화 & 정수 인코딩 & 패딩"
   ]
  },
  {
   "cell_type": "code",
   "execution_count": null,
   "metadata": {
    "id": "2yrTtXVazpz7",
    "outputId": "01438336-a8cc-440d-9c29-ccb776d6f4db"
   },
   "outputs": [
    {
     "name": "stdout",
     "output_type": "stream",
     "text": [
      "8,765개의 단어로 전체 data의 99%를 표현할 수 있습니다.\n",
      "9,869개의 단어 중 88.8%에 해당합니다.\n"
     ]
    }
   ],
   "source": [
    "tkn = tf.keras.preprocessing.text.Tokenizer()\n",
    "tkn.fit_on_texts(intent_train)\n",
    "\n",
    "word2idx = tkn.word_index\n",
    "word2cnts = dict(sorted(tkn.word_counts.items(), key=lambda x:x[1], reverse=True))\n",
    "\n",
    "cnts = list(word2cnts.values())\n",
    "ratio = 0.99\n",
    "for vocab_size, value in enumerate(np.cumsum(cnts)/np.sum(cnts)):\n",
    "    if value >= ratio:\n",
    "        break\n",
    "\n",
    "print(f\"{vocab_size:,}개의 단어로 전체 data의 {ratio:.0%}를 표현할 수 있습니다.\")\n",
    "print(f\"{len(word2idx):,}개의 단어 중 {vocab_size/len(word2idx):.1%}에 해당합니다.\")"
   ]
  },
  {
   "cell_type": "code",
   "execution_count": null,
   "metadata": {
    "id": "9LTRBsxvzpz8",
    "outputId": "01b5bebd-2e06-46c1-cc46-9befc142a809"
   },
   "outputs": [
    {
     "name": "stdout",
     "output_type": "stream",
     "text": [
      "길이가 19 이하인 리뷰가 전체의 99%를 차지합니다.\n"
     ]
    }
   ],
   "source": [
    "tkn = tf.keras.preprocessing.text.Tokenizer(num_words=vocab_size+2, oov_token=\"UNK\")\n",
    "tkn.fit_on_texts(intent_train)\n",
    "\n",
    "word2idx = tkn.word_index\n",
    "word2cnts = dict(sorted(tkn.word_counts.items(), key=lambda x:x[1], reverse=True))\n",
    "\n",
    "X_train = tkn.texts_to_sequences(intent_train)\n",
    "X_test = tkn.texts_to_sequences(intent_test)\n",
    "\n",
    "lens = sorted([len(doc) for doc in X_train])\n",
    "for idx, max_len in enumerate(lens):\n",
    "    if idx/len(lens) >= ratio:\n",
    "        break\n",
    "print(f\"길이가 {max_len} 이하인 리뷰가 전체의 {ratio:.0%}를 차지합니다.\")"
   ]
  },
  {
   "cell_type": "code",
   "execution_count": null,
   "metadata": {
    "id": "0jxMxdSUzpz9"
   },
   "outputs": [],
   "source": [
    "X_train = tf.keras.preprocessing.sequence.pad_sequences(X_train, maxlen=max_len)\n",
    "X_test = tf.keras.preprocessing.sequence.pad_sequences(X_test, maxlen=max_len)\n",
    "\n",
    "X_train, X_val, y_train, y_val = train_test_split(X_train, label_train, train_size=0.8, shuffle=True, random_state=3213)"
   ]
  },
  {
   "cell_type": "markdown",
   "metadata": {
    "id": "Z9Iv4ttBKNUK"
   },
   "source": [
    "## Pre-traiend Word Embedding\n",
    "- 여기서는 스탠포드 대학교에서 제공하는 사전 훈련된 GloVe 임베딩을 사용합니다."
   ]
  },
  {
   "cell_type": "code",
   "execution_count": null,
   "metadata": {
    "id": "iAkdNRZfOtYa"
   },
   "outputs": [],
   "source": [
    "# wget.download(\"http://nlp.stanford.edu/data/glove.6B.zip\")\n",
    "\n",
    "# zipfile.ZipFile(\"glove.6B.zip\").extractall()"
   ]
  },
  {
   "cell_type": "code",
   "execution_count": null,
   "metadata": {
    "colab": {
     "referenced_widgets": [
      "8cb9c02e394e4447a465fce3883e6c8b"
     ]
    },
    "id": "-nl8PQCdzpz_",
    "outputId": "06bc2ff9-7d8b-4f3b-d4d5-18d15dafd6d1"
   },
   "outputs": [
    {
     "data": {
      "application/vnd.jupyter.widget-view+json": {
       "model_id": "8cb9c02e394e4447a465fce3883e6c8b",
       "version_major": 2,
       "version_minor": 0
      },
      "text/plain": [
       "HBox(children=(HTML(value=''), FloatProgress(value=1.0, bar_style='info', layout=Layout(width='20px'), max=1.0…"
      ]
     },
     "metadata": {
      "tags": []
     },
     "output_type": "display_data"
    },
    {
     "name": "stdout",
     "output_type": "stream",
     "text": [
      "\n"
     ]
    }
   ],
   "source": [
    "emb_dic = {}\n",
    "f = open(\"glove.6B.100d.txt\", mode=\"r\", encoding=\"utf-8\")\n",
    "for line in tqdm(f):\n",
    "    line = line.split()\n",
    "    word = line[0]\n",
    "    emb_vector = np.array(line[1:], dtype=\"float32\")\n",
    "    emb_dic[word] = emb_vector\n",
    "f.close()"
   ]
  },
  {
   "cell_type": "code",
   "execution_count": null,
   "metadata": {
    "colab": {
     "referenced_widgets": [
      "79550b93017d4ce9a12033d8f5c74cb8"
     ]
    },
    "id": "uBRBhNRHzp0A",
    "outputId": "5379ec18-c479-4fe6-d642-116225320407"
   },
   "outputs": [
    {
     "data": {
      "application/vnd.jupyter.widget-view+json": {
       "model_id": "79550b93017d4ce9a12033d8f5c74cb8",
       "version_major": 2,
       "version_minor": 0
      },
      "text/plain": [
       "HBox(children=(HTML(value=''), FloatProgress(value=0.0, max=9870.0), HTML(value='')))"
      ]
     },
     "metadata": {
      "tags": []
     },
     "output_type": "display_data"
    },
    {
     "name": "stdout",
     "output_type": "stream",
     "text": [
      "\n"
     ]
    }
   ],
   "source": [
    "emb_dim = 100\n",
    "emb_mat = np.zeros((vocab_size+2, emb_dim))\n",
    "for word, idx in tqdm(word2idx.items()):\n",
    "    try:\n",
    "        emb_mat[idx] = emb_dic[word]\n",
    "    except:\n",
    "        continue"
   ]
  },
  {
   "cell_type": "markdown",
   "metadata": {
    "id": "DCKs_VLNKNUT"
   },
   "source": [
    "### (3) 모델 생성하기"
   ]
  },
  {
   "cell_type": "code",
   "execution_count": null,
   "metadata": {
    "id": "lmeeiXmecey5"
   },
   "outputs": [],
   "source": [
    "model_path = \"glove_6b_100d_CNN.h5\"\n",
    "if os.path.exists(model_path):\n",
    "    model = tf.keras.models.load_model(model_path)\n",
    "else:\n",
    "    kernel_sizes = [2,3,5]\n",
    "    n_kernels = 512\n",
    "    drop_rate = 0.5\n",
    "\n",
    "    inputs = tf.keras.Input(shape=(max_len,))\n",
    "    z = tf.keras.layers.Embedding(input_dim=vocab_size+2, output_dim=emb_dim, mask_zero=True, weights=[emb_mat], trainable=False)(inputs)\n",
    "\n",
    "    conv_blocks = []\n",
    "    for kernel_size in kernel_sizes:\n",
    "        z2 = tf.keras.layers.Conv1D(filters=n_kernels, kernel_size=kernel_size, padding=\"valid\", activation=\"relu\", strides=1)(z)\n",
    "        z2 = tf.keras.layers.GlobalMaxPooling1D()(z2)\n",
    "        z2 = tf.keras.layers.Flatten()(z2)\n",
    "        conv_blocks.append(z2)\n",
    "\n",
    "    z3 = tf.keras.layers.Concatenate(axis=1)(conv_blocks)\n",
    "    z3 = tf.keras.layers.Dropout(rate=drop_rate)(z3)\n",
    "    outputs = tf.keras.layers.Dense(units=len(le.classes_), activation=\"softmax\")(z3)\n",
    "\n",
    "    model = tf.keras.Model(inputs, outputs)\n",
    "\n",
    "    model.summary()\n",
    "\n",
    "    model.compile(loss=\"sparse_categorical_crossentropy\", optimizer=\"adam\", metrics=[\"sparse_categorical_accuracy\"])\n",
    "\n",
    "    es = tf.keras.callbacks.EarlyStopping(monitor=\"val_loss\", mode=\"auto\", verbose=1, patience=3)\n",
    "    mc = tf.keras.callbacks.ModelCheckpoint(filepath=model_path, monitor=\"val_sparse_categorical_accuracy\", mode=\"auto\", verbose=1, save_best_only=True)\n",
    "    hist = model.fit(x=X_train, y=y_train, validation_data=(X_val, y_val), batch_size=64, epochs=10, verbose=1, shuffle=True, callbacks=[es, mc])"
   ]
  },
  {
   "cell_type": "markdown",
   "metadata": {
    "id": "vwxFQsXNKNUa"
   },
   "source": [
    "훈련 데이터와 검증 데이터에서 각각 99%와 98%의 정확도를 얻어냅니다.  \n",
    "사전 훈련된 워드 임베딩의 힘이 크지 않았나 생각합니다.  \n",
    "일반 Embedding()으로도 한 번 해보세요"
   ]
  },
  {
   "cell_type": "code",
   "execution_count": null,
   "metadata": {
    "id": "DIgavvFazp0F",
    "outputId": "e7de2435-29b0-49f8-c896-ea20fe7e4c10"
   },
   "outputs": [
    {
     "ename": "NameError",
     "evalue": "name 'hist' is not defined",
     "output_type": "error",
     "traceback": [
      "\u001b[1;31m---------------------------------------------------------------------------\u001b[0m",
      "\u001b[1;31mNameError\u001b[0m                                 Traceback (most recent call last)",
      "\u001b[1;32m<ipython-input-18-4c3af6fa4778>\u001b[0m in \u001b[0;36m<module>\u001b[1;34m\u001b[0m\n\u001b[1;32m----> 1\u001b[1;33m \u001b[0mepochs\u001b[0m \u001b[1;33m=\u001b[0m \u001b[0mrange\u001b[0m\u001b[1;33m(\u001b[0m\u001b[1;36m1\u001b[0m\u001b[1;33m,\u001b[0m \u001b[0mlen\u001b[0m\u001b[1;33m(\u001b[0m\u001b[0mhist\u001b[0m\u001b[1;33m.\u001b[0m\u001b[0mhistory\u001b[0m\u001b[1;33m[\u001b[0m\u001b[1;34m\"loss\"\u001b[0m\u001b[1;33m]\u001b[0m\u001b[1;33m)\u001b[0m\u001b[1;33m+\u001b[0m\u001b[1;36m1\u001b[0m\u001b[1;33m)\u001b[0m\u001b[1;33m\u001b[0m\u001b[1;33m\u001b[0m\u001b[0m\n\u001b[0m\u001b[0;32m      2\u001b[0m \u001b[1;33m\u001b[0m\u001b[0m\n\u001b[0;32m      3\u001b[0m \u001b[0mfig\u001b[0m\u001b[1;33m,\u001b[0m \u001b[1;33m(\u001b[0m\u001b[0max1\u001b[0m\u001b[1;33m,\u001b[0m \u001b[0max2\u001b[0m\u001b[1;33m)\u001b[0m \u001b[1;33m=\u001b[0m \u001b[0mplt\u001b[0m\u001b[1;33m.\u001b[0m\u001b[0msubplots\u001b[0m\u001b[1;33m(\u001b[0m\u001b[1;36m1\u001b[0m\u001b[1;33m,\u001b[0m \u001b[1;36m2\u001b[0m\u001b[1;33m,\u001b[0m \u001b[0mfigsize\u001b[0m\u001b[1;33m=\u001b[0m\u001b[1;33m(\u001b[0m\u001b[1;36m12\u001b[0m\u001b[1;33m,\u001b[0m \u001b[1;36m6\u001b[0m\u001b[1;33m)\u001b[0m\u001b[1;33m)\u001b[0m\u001b[1;33m\u001b[0m\u001b[1;33m\u001b[0m\u001b[0m\n\u001b[0;32m      4\u001b[0m \u001b[1;33m\u001b[0m\u001b[0m\n\u001b[0;32m      5\u001b[0m \u001b[0mepochs\u001b[0m \u001b[1;33m=\u001b[0m \u001b[0mrange\u001b[0m\u001b[1;33m(\u001b[0m\u001b[1;36m1\u001b[0m\u001b[1;33m,\u001b[0m \u001b[0mlen\u001b[0m\u001b[1;33m(\u001b[0m\u001b[0mhist\u001b[0m\u001b[1;33m.\u001b[0m\u001b[0mhistory\u001b[0m\u001b[1;33m[\u001b[0m\u001b[1;34m\"loss\"\u001b[0m\u001b[1;33m]\u001b[0m\u001b[1;33m)\u001b[0m\u001b[1;33m+\u001b[0m\u001b[1;36m1\u001b[0m\u001b[1;33m)\u001b[0m\u001b[1;33m\u001b[0m\u001b[1;33m\u001b[0m\u001b[0m\n",
      "\u001b[1;31mNameError\u001b[0m: name 'hist' is not defined"
     ]
    }
   ],
   "source": [
    "epochs = range(1, len(hist.history[\"loss\"])+1)\n",
    "\n",
    "fig, (ax1, ax2) = plt.subplots(1, 2, figsize=(12, 6))\n",
    "\n",
    "epochs = range(1, len(hist.history[\"loss\"])+1)\n",
    "\n",
    "ax1.plot(epochs, hist.history[\"loss\"])\n",
    "ax1.plot(epochs, hist.history[\"val_loss\"])\n",
    "ax1.legend([\"train\", \"test\"])\n",
    "\n",
    "ax2.plot(epochs, hist.history[\"sparse_categorical_accuracy\"])\n",
    "ax2.plot(epochs, hist.history[\"val_sparse_categorical_accuracy\"])\n",
    "ax2.legend([\"train\", \"test\"])"
   ]
  },
  {
   "cell_type": "markdown",
   "metadata": {
    "id": "fEjZ_MxlKNUd"
   },
   "source": [
    "### (4) test set에 대한 평가"
   ]
  },
  {
   "cell_type": "code",
   "execution_count": null,
   "metadata": {
    "id": "yrCaAPCOKNUe"
   },
   "outputs": [],
   "source": [
    "y_pred = tf.math.argmax(model.predict(X_test), axis=1)\n",
    "y_pred = le.inverse_transform(y_pred)\n",
    "y_test = le.inverse_transform(label_test)"
   ]
  },
  {
   "cell_type": "code",
   "execution_count": null,
   "metadata": {
    "id": "AJe8SFt4zp0H",
    "outputId": "ee5e8393-1225-4dd8-a879-e70c10b4f461"
   },
   "outputs": [
    {
     "name": "stdout",
     "output_type": "stream",
     "text": [
      "tf.Tensor(0.9916667, shape=(), dtype=float32)\n",
      "                      precision    recall  f1-score   support\n",
      "\n",
      "       AddToPlaylist       0.99      1.00      0.99        99\n",
      "      BookRestaurant       1.00      1.00      1.00       100\n",
      "          GetWeather       1.00      0.99      1.00       101\n",
      "            RateBook       1.00      1.00      1.00       100\n",
      "  SearchCreativeWork       1.00      0.96      0.98       104\n",
      "SearchScreeningEvent       0.96      1.00      0.98        96\n",
      "\n",
      "            accuracy                           0.99       600\n",
      "           macro avg       0.99      0.99      0.99       600\n",
      "        weighted avg       0.99      0.99      0.99       600\n",
      "\n"
     ]
    }
   ],
   "source": [
    "acc = tf.math.reduce_mean(tf.cast(tf.math.equal(y_pred, y_test), dtype=tf.float32))\n",
    "print(acc)\n",
    "print(sklearn.metrics.classification_report(y_pred, y_test))"
   ]
  }
 ],
 "metadata": {
  "accelerator": "GPU",
  "anaconda-cloud": {},
  "colab": {
   "collapsed_sections": [
    "DCKs_VLNKNUT",
    "fEjZ_MxlKNUd",
    "kBNu4A72zp0I",
    "gnixuDjl5SfB",
    "0lSLahfb5WEA",
    "zu1sKSNp5ZgD",
    "4s26rEWE5bnJ",
    "Fm0EDwNe5gDP",
    "1_Xr6-i65kFc",
    "7A_Pg1R65mcC"
   ],
   "machine_shape": "hm",
   "name": "Intent Classification(LSTM, CNN / )",
   "provenance": [],
   "toc_visible": true
  },
  "hide_input": false,
  "kernelspec": {
   "display_name": "Python 3",
   "language": "python",
   "name": "python3"
  },
  "language_info": {
   "codemirror_mode": {
    "name": "ipython",
    "version": 3
   },
   "file_extension": ".py",
   "mimetype": "text/x-python",
   "name": "python",
   "nbconvert_exporter": "python",
   "pygments_lexer": "ipython3",
   "version": "3.8.5"
  },
  "toc": {
   "base_numbering": 1,
   "nav_menu": {},
   "number_sections": true,
   "sideBar": true,
   "skip_h1_title": false,
   "title_cell": "Table of Contents",
   "title_sidebar": "Contents",
   "toc_cell": false,
   "toc_position": {},
   "toc_section_display": true,
   "toc_window_display": false
  },
  "varInspector": {
   "cols": {
    "lenName": 16,
    "lenType": 16,
    "lenVar": 40
   },
   "kernels_config": {
    "python": {
     "delete_cmd_postfix": "",
     "delete_cmd_prefix": "del ",
     "library": "var_list.py",
     "varRefreshCmd": "print(var_dic_list())"
    },
    "r": {
     "delete_cmd_postfix": ") ",
     "delete_cmd_prefix": "rm(",
     "library": "var_list.r",
     "varRefreshCmd": "cat(var_dic_list()) "
    }
   },
   "types_to_exclude": [
    "module",
    "function",
    "builtin_function_or_method",
    "instance",
    "_Feature"
   ],
   "window_display": false
  }
 },
 "nbformat": 4,
 "nbformat_minor": 1
}
