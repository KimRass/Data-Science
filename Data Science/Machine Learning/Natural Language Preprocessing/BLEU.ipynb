{
 "cells": [
  {
   "cell_type": "markdown",
   "metadata": {
    "toc": true
   },
   "source": [
    "<h1>Table of Contents<span class=\"tocSkip\"></span></h1>\n",
    "<div class=\"toc\"><ul class=\"toc-item\"><li><span><a href=\"#Implementation\" data-toc-modified-id=\"Implementation-1\"><span class=\"toc-item-num\">1&nbsp;&nbsp;</span>Implementation</a></span><ul class=\"toc-item\"><li><span><a href=\"#N-Gram-Precision\" data-toc-modified-id=\"N-Gram-Precision-1.1\"><span class=\"toc-item-num\">1.1&nbsp;&nbsp;</span>N-Gram Precision</a></span></li><li><span><a href=\"#Modified-N-Gram-Precision\" data-toc-modified-id=\"Modified-N-Gram-Precision-1.2\"><span class=\"toc-item-num\">1.2&nbsp;&nbsp;</span>Modified N-Gram Precision</a></span></li><li><span><a href=\"#BLEU-Score\" data-toc-modified-id=\"BLEU-Score-1.3\"><span class=\"toc-item-num\">1.3&nbsp;&nbsp;</span>BLEU Score</a></span></li></ul></li><li><span><a href=\"#Using-corpus_bleu()\" data-toc-modified-id=\"Using-corpus_bleu()-2\"><span class=\"toc-item-num\">2&nbsp;&nbsp;</span>Using <code>corpus_bleu()</code></a></span></li><li><span><a href=\"#Using-sentence_bleu()\" data-toc-modified-id=\"Using-sentence_bleu()-3\"><span class=\"toc-item-num\">3&nbsp;&nbsp;</span>Using <code>sentence_bleu()</code></a></span></li><li><span><a href=\"#Comparison\" data-toc-modified-id=\"Comparison-4\"><span class=\"toc-item-num\">4&nbsp;&nbsp;</span>Comparison</a></span></li></ul></div>"
   ]
  },
  {
   "cell_type": "code",
   "execution_count": 248,
   "metadata": {
    "ExecuteTime": {
     "end_time": "2022-01-20T09:34:37.342891Z",
     "start_time": "2022-01-20T09:34:37.338902Z"
    },
    "id": "kb9QnE3_0iw-"
   },
   "outputs": [],
   "source": [
    "import nltk\n",
    "from nltk.translate.bleu_score import corpus_bleu\n",
    "from nltk.translate.bleu_score import sentence_bleu\n",
    "import numpy as np\n",
    "from collections import Counter"
   ]
  },
  {
   "cell_type": "markdown",
   "metadata": {
    "id": "k7BhqvQ6xLTi"
   },
   "source": [
    "# Implementation"
   ]
  },
  {
   "cell_type": "code",
   "execution_count": 272,
   "metadata": {
    "ExecuteTime": {
     "end_time": "2022-01-20T09:36:42.090169Z",
     "start_time": "2022-01-20T09:36:42.086177Z"
    }
   },
   "outputs": [],
   "source": [
    "refs = [\"It is a guide to action that ensures that the military will forever heed Party commands\", \"It is the guiding principle which guarantees the military forces always being under the command of the Party\", \"It is the practical guide for the army always to heed the directions of the party\"]\n",
    "cand = \"It is a guide to action which ensures that the military always obeys the commands of the party\"\n",
    "\n",
    "refs = [i.split() for i in refs]\n",
    "cand = cand.split()"
   ]
  },
  {
   "cell_type": "code",
   "execution_count": 250,
   "metadata": {
    "ExecuteTime": {
     "end_time": "2022-01-20T09:34:37.356853Z",
     "start_time": "2022-01-20T09:34:37.351867Z"
    },
    "id": "Yi7AfUmRxYgZ"
   },
   "outputs": [],
   "source": [
    "def simple_count(cand, n):\n",
    "    return Counter(nltk.ngrams(cand, n))"
   ]
  },
  {
   "cell_type": "markdown",
   "metadata": {
    "id": "KoNmktwjxieM"
   },
   "source": [
    "## N-Gram Precision"
   ]
  },
  {
   "cell_type": "code",
   "execution_count": 251,
   "metadata": {
    "ExecuteTime": {
     "end_time": "2022-01-20T09:34:37.364832Z",
     "start_time": "2022-01-20T09:34:37.358848Z"
    },
    "id": "i_zjPuyW0ixC"
   },
   "outputs": [],
   "source": [
    "def ngram_precision(cand, refs, n):\n",
    "    ngram2cnt_ref = Counter()\n",
    "    for ref in refs:\n",
    "        ngram2cnt_ref += simple_count(ref, n)\n",
    "    \n",
    "    ngrams_cand = simple_count(cand, n)\n",
    "    tot_cnt = 0\n",
    "    for ngram, cnt in ngrams_cand.items():\n",
    "        if ngram in ngram2cnt_ref:\n",
    "            tot_cnt += cnt \n",
    "    return tot_cnt/len(cand) - n + 1"
   ]
  },
  {
   "cell_type": "code",
   "execution_count": 252,
   "metadata": {
    "ExecuteTime": {
     "end_time": "2022-01-20T09:34:37.371815Z",
     "start_time": "2022-01-20T09:34:37.366826Z"
    },
    "id": "lTPdHH_e0ixD",
    "outputId": "5c027715-6d09-4942-8dea-a548df56653a",
    "scrolled": true
   },
   "outputs": [
    {
     "name": "stdout",
     "output_type": "stream",
     "text": [
      "0.08510638297872342\n"
     ]
    }
   ],
   "source": [
    "print(ngram_precision(cand, refs, 1))"
   ]
  },
  {
   "cell_type": "markdown",
   "metadata": {
    "id": "uSXUjRrN0ixE"
   },
   "source": [
    "## Modified N-Gram Precision"
   ]
  },
  {
   "cell_type": "code",
   "execution_count": 253,
   "metadata": {
    "ExecuteTime": {
     "end_time": "2022-01-20T09:34:37.380789Z",
     "start_time": "2022-01-20T09:34:37.373807Z"
    },
    "id": "6vz7FgLi0ixE"
   },
   "outputs": [],
   "source": [
    "def modified_ngram_precision(cand, refs, n):\n",
    "    def max_ref_count(ngram, refs, n):\n",
    "        maxim = 0\n",
    "        for ref in refs:\n",
    "            ngram2cnt_ref = simple_count(ref, n)\n",
    "            if ngram2cnt_ref[ngram] > maxim:\n",
    "                maxim = ngram2cnt_ref[ngram]\n",
    "        return maxim\n",
    "    \n",
    "    def count_clip(ngram, cand, refs, n):\n",
    "        return min(simple_count(cand, n)[ngram], max_ref_count(ngram, refs, n))\n",
    "    \n",
    "    sum_count_clip = 0\n",
    "    for ngram, cnt in simple_count(cand, n).items():\n",
    "        sum_count_clip += count_clip(ngram, cand, refs, n)\n",
    "    return sum_count_clip/len(cand) - n + 1"
   ]
  },
  {
   "cell_type": "code",
   "execution_count": 254,
   "metadata": {
    "ExecuteTime": {
     "end_time": "2022-01-20T09:34:37.389766Z",
     "start_time": "2022-01-20T09:34:37.382784Z"
    },
    "id": "Ri4LNA260ixG",
    "outputId": "ba5b1486-9477-48d1-f504-7e6373635219"
   },
   "outputs": [
    {
     "name": "stdout",
     "output_type": "stream",
     "text": [
      "0.010638297872340385\n"
     ]
    }
   ],
   "source": [
    "print(modified_ngram_precision(cand, refs, 1))"
   ]
  },
  {
   "cell_type": "code",
   "execution_count": 255,
   "metadata": {
    "ExecuteTime": {
     "end_time": "2022-01-20T09:34:37.397744Z",
     "start_time": "2022-01-20T09:34:37.393756Z"
    },
    "id": "4PiWATOk0ixH",
    "outputId": "c9ceba5c-33b0-45c0-96c5-17b8d026db46"
   },
   "outputs": [],
   "source": [
    "# cand = \"the the the the the the the\"\n",
    "# print(ngram_precision(cand.split(\" \"), refs, 1))\n",
    "# print(modified_ngram_precision(cand.split(\" \"), refs, 1))"
   ]
  },
  {
   "cell_type": "markdown",
   "metadata": {
    "id": "rgsirDfSkpEF"
   },
   "source": [
    "## BLEU Score"
   ]
  },
  {
   "cell_type": "code",
   "execution_count": 256,
   "metadata": {
    "ExecuteTime": {
     "end_time": "2022-01-20T09:34:37.405722Z",
     "start_time": "2022-01-20T09:34:37.400736Z"
    },
    "id": "RQUUVtYXkhET"
   },
   "outputs": [],
   "source": [
    "def best_match_length(cand, refs):\n",
    "    ref_lens = (len(ref) for ref in refs)\n",
    "    return min(ref_lens, key=lambda x:(abs(x - len(cand)), x))"
   ]
  },
  {
   "cell_type": "code",
   "execution_count": 257,
   "metadata": {
    "ExecuteTime": {
     "end_time": "2022-01-20T09:34:37.415706Z",
     "start_time": "2022-01-20T09:34:37.409713Z"
    },
    "id": "MQhnL1IFlFhj"
   },
   "outputs": [],
   "source": [
    "def brevity_penalty(cand, refs):\n",
    "    c = len(cand)\n",
    "    r = best_match_length(cand, refs)\n",
    "\n",
    "    if c == 0:\n",
    "        return 0\n",
    "    else:\n",
    "        if c > r:\n",
    "            return 1\n",
    "        else:\n",
    "            return np.exp(1 - r/c)"
   ]
  },
  {
   "cell_type": "code",
   "execution_count": 258,
   "metadata": {
    "ExecuteTime": {
     "end_time": "2022-01-20T09:34:37.427663Z",
     "start_time": "2022-01-20T09:34:37.419687Z"
    },
    "id": "v9veUzn1lGP6"
   },
   "outputs": [],
   "source": [
    "def bleu_score(cand, refs, weights=[0.25, 0.25, 0.25, 0.25]):\n",
    "    bp = brevity_penalty(cand, refs)\n",
    "\n",
    "    p_n = [modified_ngram_precision(cand, refs, n=n) for n, _ in enumerate(weights,start=1)] \n",
    "    #p1, p2, p3, ..., pn\n",
    "    score = np.sum([w_i * np.log(p_i) if p_i != 0 else 0 for w_i, p_i in zip(weights, p_n)])\n",
    "    return bp * np.exp(score)"
   ]
  },
  {
   "cell_type": "markdown",
   "metadata": {},
   "source": [
    "# Using `corpus_bleu()`"
   ]
  },
  {
   "cell_type": "code",
   "execution_count": 282,
   "metadata": {
    "ExecuteTime": {
     "end_time": "2022-01-20T09:39:32.014588Z",
     "start_time": "2022-01-20T09:39:32.010597Z"
    }
   },
   "outputs": [
    {
     "name": "stdout",
     "output_type": "stream",
     "text": [
      "0.5045666840058485\n"
     ]
    }
   ],
   "source": [
    "score = corpus_bleu([refs], [cand])\n",
    "print(score)"
   ]
  },
  {
   "cell_type": "markdown",
   "metadata": {
    "id": "wJrYyJOqxE5b"
   },
   "source": [
    "# Using `sentence_bleu()`"
   ]
  },
  {
   "cell_type": "code",
   "execution_count": 281,
   "metadata": {
    "ExecuteTime": {
     "end_time": "2022-01-20T09:39:22.026308Z",
     "start_time": "2022-01-20T09:39:22.022318Z"
    },
    "colab": {
     "base_uri": "https://localhost:8080/",
     "height": 34
    },
    "id": "DwlomX-d1TSa",
    "outputId": "e733e272-62e5-4542-8778-3e20acdd5b2e"
   },
   "outputs": [
    {
     "name": "stdout",
     "output_type": "stream",
     "text": [
      "0.5045666840058485\n"
     ]
    }
   ],
   "source": [
    "score = sentence_bleu(refs, cand)\n",
    "print(score)"
   ]
  },
  {
   "cell_type": "markdown",
   "metadata": {
    "id": "y3LGHmUPlUWz"
   },
   "source": [
    "# Comparison"
   ]
  },
  {
   "cell_type": "code",
   "execution_count": 284,
   "metadata": {
    "ExecuteTime": {
     "end_time": "2022-01-20T09:39:50.749467Z",
     "start_time": "2022-01-20T09:39:50.741518Z"
    }
   },
   "outputs": [
    {
     "name": "stdout",
     "output_type": "stream",
     "text": [
      "nan\n"
     ]
    },
    {
     "name": "stderr",
     "output_type": "stream",
     "text": [
      "C:\\Users\\00006363\\Anaconda3\\envs\\tf2.3\\lib\\site-packages\\ipykernel_launcher.py:6: RuntimeWarning: invalid value encountered in log\n",
      "  \n"
     ]
    }
   ],
   "source": [
    "print(bleu_score(cand, refs))"
   ]
  },
  {
   "cell_type": "code",
   "execution_count": null,
   "metadata": {
    "ExecuteTime": {
     "end_time": "2022-01-20T09:34:37.445616Z",
     "start_time": "2022-01-20T09:34:37.364Z"
    },
    "colab": {
     "base_uri": "https://localhost:8080/",
     "height": 52
    },
    "id": "h0uOo_H-lXbz",
    "outputId": "6ad2db98-ac10-4462-b3b0-c2a217fc06ee"
   },
   "outputs": [],
   "source": [
    "# print(bleu_score(cand.split(),list(map(lambda ref: ref.split(), refs))))\n",
    "print(bleu_score(cand,refs))\n",
    "print(sentence_bleu(list(map(lambda ref: ref.split(), refs)),cand.split()))"
   ]
  }
 ],
 "metadata": {
  "accelerator": "GPU",
  "colab": {
   "collapsed_sections": [],
   "machine_shape": "hm",
   "name": "BLEU(BiLingual Evaluation Understudy) Score",
   "provenance": [],
   "toc_visible": true
  },
  "hide_input": false,
  "kernelspec": {
   "display_name": "Python 3",
   "language": "python",
   "name": "python3"
  },
  "language_info": {
   "codemirror_mode": {
    "name": "ipython",
    "version": 3
   },
   "file_extension": ".py",
   "mimetype": "text/x-python",
   "name": "python",
   "nbconvert_exporter": "python",
   "pygments_lexer": "ipython3",
   "version": "3.7.7"
  },
  "toc": {
   "base_numbering": 1,
   "nav_menu": {},
   "number_sections": true,
   "sideBar": true,
   "skip_h1_title": false,
   "title_cell": "Table of Contents",
   "title_sidebar": "Contents",
   "toc_cell": true,
   "toc_position": {},
   "toc_section_display": true,
   "toc_window_display": false
  },
  "varInspector": {
   "cols": {
    "lenName": 16,
    "lenType": 16,
    "lenVar": 40
   },
   "kernels_config": {
    "python": {
     "delete_cmd_postfix": "",
     "delete_cmd_prefix": "del ",
     "library": "var_list.py",
     "varRefreshCmd": "print(var_dic_list())"
    },
    "r": {
     "delete_cmd_postfix": ") ",
     "delete_cmd_prefix": "rm(",
     "library": "var_list.r",
     "varRefreshCmd": "cat(var_dic_list()) "
    }
   },
   "types_to_exclude": [
    "module",
    "function",
    "builtin_function_or_method",
    "instance",
    "_Feature"
   ],
   "window_display": false
  }
 },
 "nbformat": 4,
 "nbformat_minor": 1
}
