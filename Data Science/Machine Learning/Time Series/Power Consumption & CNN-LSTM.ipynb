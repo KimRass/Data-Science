{
  "cells": [
    {
      "cell_type": "markdown",
      "metadata": {
        "id": "view-in-github",
        "colab_type": "text"
      },
      "source": [
        "<a href=\"https://colab.research.google.com/github/KimRass/Programming/blob/master/Data%20Science/Machine%20Learning/Time%20Series/Power%20Consumption%20%26%20CNN-LSTM.ipynb\" target=\"_parent\"><img src=\"https://colab.research.google.com/assets/colab-badge.svg\" alt=\"Open In Colab\"/></a>"
      ]
    },
    {
      "cell_type": "markdown",
      "metadata": {
        "toc": true,
        "id": "2TnpxpQNO4Cx"
      },
      "source": [
        "<h1>Table of Contents<span class=\"tocSkip\"></span></h1>\n",
        "<div class=\"toc\"><ul class=\"toc-item\"><li><span><a href=\"#Modeling\" data-toc-modified-id=\"Modeling-1\"><span class=\"toc-item-num\">1&nbsp;&nbsp;</span>Modeling</a></span></li></ul></div>"
      ]
    },
    {
      "cell_type": "code",
      "execution_count": null,
      "metadata": {
        "ExecuteTime": {
          "end_time": "2022-02-07T03:20:35.916094Z",
          "start_time": "2022-02-07T03:20:35.901160Z"
        },
        "id": "OYGXR5YLO4C2"
      },
      "outputs": [],
      "source": [
        "# train, test = data.values[1:-328], data.values[-328:-6]\n",
        "\n",
        "# train = np.array(np.split(train, len(train)/7))\n",
        "# test = np.array(np.split(test, len(test)/7))\n",
        "\n",
        "# train = train.reshape((train.shape[0]*train.shape[1], train.shape[2]))\n",
        "# X, y = list(), list()\n",
        "# i = 0\n",
        "# for i in range(len(train) - window_size - h + 1):\n",
        "#     x_input = train[i:i + window_size, 0]\n",
        "#     x_input = x_input.reshape((len(x_input), 1))\n",
        "#     X.append(x_input)\n",
        "#     y.append(train[i + window_size:i + window_size + h, 0])\n",
        "#     i += 1\n",
        "# tr_X = np.array(X)\n",
        "# tr_y = np.array(y)\n",
        "\n",
        "# print(tr_X.shape)\n",
        "# print(tr_y.shape)\n",
        "\n",
        "# def evaluate_model(train, test, window_sizesize):\n",
        "# # \tmodel = build_model(train, window_size)\n",
        "#     tr_X, tr_y = to_supervised(train, window_size)\n",
        "#     verbose, epochs, batch_size = 0, 20, 16\n",
        "#     n_timesteps, n_features, n_outputs = tr_X.shape[1], tr_X.shape[2], tr_y.shape[1]\n",
        "#     tr_y = tr_y.reshape((tr_y.shape[0], tr_y.shape[1], 1))\n",
        "\n",
        "#     model = Sequential()\n",
        "#     model.add(Conv1D(filters=64, kernel_size=3, activation=\"relu\", input_shape=(n_timesteps, n_features)))\n",
        "#     model.add(Conv1D(filters=64, kernel_size=3, activation=\"relu\"))\n",
        "#     model.add(MaxPool1D(pool_size=2, strides=1))\n",
        "#     model.add(Flatten())\n",
        "#     model.add(RepeatVector(n_outputs)) # 펼친 벡터를 LSTM에다가 각각 입력으로 넣음.\n",
        "#     model.add(LSTM(200, activation=\"relu\", return_sequences=True))\n",
        "#     model.add(Dropout(rate=0.5))\n",
        "#     model.add(LSTM(200, activation=\"relu\", return_sequences=True))\n",
        "#     model.add(TimeDistributed(Dense(units=100, activation=\"relu\"))) # LSTM의 리턴값으로 받은 시퀀스 각각에 대해 수행\n",
        "#     model.add(TimeDistributed(Dense(units=1)))\n",
        "#     model.compile(optimizer=\"adam\", loss=\"mse\", metrics=[\"acc\"])\n",
        "#     model.fit(tr_X, tr_y, epochs=epochs, batch_size=batch_size, verbose=verbose)"
      ]
    },
    {
      "cell_type": "code",
      "execution_count": 1,
      "metadata": {
        "ExecuteTime": {
          "end_time": "2022-02-07T03:28:52.602299Z",
          "start_time": "2022-02-07T03:28:41.891941Z"
        },
        "id": "mP-glsiGhiEK",
        "colab": {
          "base_uri": "https://localhost:8080/"
        },
        "outputId": "6898058f-4a1b-435e-c9d6-92cd5e94c503"
      },
      "outputs": [
        {
          "output_type": "stream",
          "name": "stdout",
          "text": [
            "Mounted at /content/drive\n"
          ]
        }
      ],
      "source": [
        "# Data Science/Machine Learning/Time Series/Power Consumption & CNN-LSTM.ipynb\n",
        "\n",
        "from google.colab import drive\n",
        "import os\n",
        "drive.mount(\"/content/drive\")\n",
        "os.chdir(\"/content\")\n",
        "\n",
        "import pandas as pd\n",
        "import matplotlib.pyplot as plt\n",
        "from datetime import datetime, timedelta\n",
        "from google_drive_downloader import GoogleDriveDownloader as gdd\n",
        "import math\n",
        "import numpy as np\n",
        "from datetime import datetime, timedelta\n",
        "from sklearn.metrics import mean_squared_error\n",
        "from sklearn.feature_extraction.text import CountVectorizer, TfidfVectorizer\n",
        "from sklearn.model_selection import train_test_split, KFold, GroupKFold, LeaveOneOut, LeaveOneGroupOut\n",
        "from sklearn.preprocessing import OneHotEncoder, LabelEncoder, StandardScaler, MinMaxScaler, RobustScaler, Normalizer\n",
        "from sklearn.decomposition import PCA\n",
        "from sklearn.tree import DecisionTreeRegressor\n",
        "from sklearn.ensemble import RandomForestRegressor, GradientBoostingRegressor, AdaBoostRegressor\n",
        "import tensorflow as tf\n",
        "from tensorflow.keras import Input, Model, Sequential\n",
        "from tensorflow.keras.utils import to_categorical, plot_model\n",
        "from tensorflow.keras.preprocessing import image_dataset_from_directory\n",
        "from tensorflow.keras.preprocessing.sequence import pad_sequences\n",
        "from tensorflow.keras.preprocessing.text import Tokenizer\n",
        "from tensorflow.keras.preprocessing.image import load_img, img_to_array, ImageDataGenerator\n",
        "from tensorflow.keras.layers import Layer, Dense, Flatten, Dropout, Concatenate, Add, Dot, Multiply, Reshape, Activation, BatchNormalization, SimpleRNNCell, RNN, SimpleRNN, LSTM, Embedding, Bidirectional, TimeDistributed, Conv1D, Conv2D, MaxPool1D, MaxPool2D, GlobalMaxPool1D, GlobalMaxPool2D, AveragePooling1D, AveragePooling2D, GlobalAveragePooling1D, GlobalAveragePooling2D, ZeroPadding2D, RepeatVector\n",
        "from tensorflow.keras.optimizers import SGD, Adam, Adagrad\n",
        "from tensorflow.keras.metrics import MeanSquaredError, RootMeanSquaredError, MeanAbsoluteError, MeanAbsolutePercentageError, BinaryCrossentropy, CategoricalCrossentropy, SparseCategoricalCrossentropy, CosineSimilarity\n",
        "from tensorflow.keras.layers.experimental.preprocessing import Rescaling\n",
        "from tensorflow.keras.callbacks import EarlyStopping, ModelCheckpoint\n",
        "from tensorflow.keras.activations import linear, sigmoid, relu\n",
        "from tensorflow.keras.initializers import RandomNormal, glorot_uniform, he_uniform, Constant\n",
        "from tensorflow.keras.models import load_model\n",
        "\n",
        "plt.style.use(\"dark_background\")"
      ]
    },
    {
      "cell_type": "code",
      "execution_count": 8,
      "metadata": {
        "ExecuteTime": {
          "end_time": "2022-02-07T03:29:15.816385Z",
          "start_time": "2022-02-07T03:29:11.106819Z"
        },
        "id": "nzIb9r8KO4C8"
      },
      "outputs": [],
      "source": [
        "# raw_data = pd.read_csv(\"D:/household_power_consumption.txt\", sep=\";\")\n",
        "# raw_data[\"datetime\"] = pd.to_datetime(raw_data[\"Date\"] + \" \" + raw_data[\"Time\"])\n",
        "# raw_data = raw_data.set_index([\"datetime\"], drop=True)\n",
        "\n",
        "os.chdir(\"/content/drive/MyDrive/TS/Datasets/Power Consumption\")\n",
        "gdd.download_file_from_google_drive(file_id=\"122XXMOwYgMxvgAVrm_VwXnyV42IgBiiC\", dest_path=\"./household_power_consumption.csv\")\n",
        "\n",
        "raw_data = pd.read_csv(\"./household_power_consumption.csv\", header=0, infer_datetime_format=True, parse_dates=[\"datetime\"], index_col=[\"datetime\"])\n",
        "\n",
        "data = raw_data.resample(\"D\").sum()\n",
        "data = data.iloc[1:-1]"
      ]
    },
    {
      "cell_type": "code",
      "execution_count": 9,
      "metadata": {
        "ExecuteTime": {
          "start_time": "2022-02-07T03:29:11.264Z"
        },
        "id": "tHemujzPhpYK",
        "colab": {
          "base_uri": "https://localhost:8080/"
        },
        "outputId": "67b1cd97-fe7e-41d3-a8c9-951843bb399b"
      },
      "outputs": [
        {
          "output_type": "stream",
          "name": "stdout",
          "text": [
            "(1132, 14, 1)\n",
            "(1132, 7)\n"
          ]
        }
      ],
      "source": [
        "test_size = len(data)//10*2\n",
        "cutoff = data.index.max() - timedelta(days=test_size)\n",
        "data_tr, data_te = train_test_split(data[\"Global_active_power\"], test_size=test_size, shuffle=False)\n",
        "\n",
        "def blocked_cv(data, window_size, h):\n",
        "    X = list()\n",
        "    y = list()\n",
        "    for i in range(len(data) - window_size - h + 1):\n",
        "        X.append(data[i:i + window_size])\n",
        "        y.append(data[i + window_size:i + window_size + h])\n",
        "    return np.array(X), np.array(y)\n",
        "\n",
        "window_size = 14\n",
        "h = 7\n",
        "tr_X, tr_y = blocked_cv(data_tr, window_size, h)\n",
        "tr_X = tr_X[:, :, None]\n",
        "\n",
        "print(tr_X.shape)\n",
        "print(tr_y.shape)\n",
        "# verbose, epochs, batch_size = 0, 20, 16\n",
        "# n_timesteps, n_features, hputs = tr_X.shape[1], tr_X.shape[2], tr_y.shape[1]\n",
        "# tr_y = tr_y.reshape((tr_y.shape[0], tr_y.shape[1], 1))"
      ]
    },
    {
      "cell_type": "markdown",
      "metadata": {
        "id": "sOuOEJ6ocymp"
      },
      "source": [
        "# Modeling"
      ]
    },
    {
      "cell_type": "code",
      "execution_count": 23,
      "metadata": {
        "ExecuteTime": {
          "start_time": "2022-02-07T03:29:11.800Z"
        },
        "colab": {
          "base_uri": "https://localhost:8080/"
        },
        "id": "uXx9F4YHh9Ow",
        "outputId": "319f05a3-67bb-4e26-bbf4-09bc800671b8"
      },
      "outputs": [
        {
          "output_type": "stream",
          "name": "stdout",
          "text": [
            "Model: \"model_4\"\n",
            "_________________________________________________________________\n",
            " Layer (type)                Output Shape              Param #   \n",
            "=================================================================\n",
            " input_5 (InputLayer)        [(None, 14, 1)]           0         \n",
            "                                                                 \n",
            " conv1d_8 (Conv1D)           (None, 12, 256)           1024      \n",
            "                                                                 \n",
            " conv1d_9 (Conv1D)           (None, 10, 256)           196864    \n",
            "                                                                 \n",
            " max_pooling1d_4 (MaxPooling  (None, 9, 256)           0         \n",
            " 1D)                                                             \n",
            "                                                                 \n",
            " flatten_4 (Flatten)         (None, 2304)              0         \n",
            "                                                                 \n",
            " repeat_vector_4 (RepeatVect  (None, 7, 2304)          0         \n",
            " or)                                                             \n",
            "                                                                 \n",
            " lstm_8 (LSTM)               (None, 7, 512)            5769216   \n",
            "                                                                 \n",
            " dropout_4 (Dropout)         (None, 7, 512)            0         \n",
            "                                                                 \n",
            " lstm_9 (LSTM)               (None, 7, 512)            2099200   \n",
            "                                                                 \n",
            " time_distributed_8 (TimeDis  (None, 7, 128)           65664     \n",
            " tributed)                                                       \n",
            "                                                                 \n",
            " time_distributed_9 (TimeDis  (None, 7, 1)             129       \n",
            " tributed)                                                       \n",
            "                                                                 \n",
            "=================================================================\n",
            "Total params: 8,132,097\n",
            "Trainable params: 8,132,097\n",
            "Non-trainable params: 0\n",
            "_________________________________________________________________\n"
          ]
        }
      ],
      "source": [
        "inputs = Input(shape=(window_size, 1))\n",
        "\n",
        "z = Conv1D(filters=256, kernel_size=3, activation=\"relu\")(inputs)\n",
        "z = Conv1D(filters=256, kernel_size=3, activation=\"relu\")(z)\n",
        "z = MaxPool1D(pool_size=2, strides=1)(z)\n",
        "z = Flatten()(z)\n",
        "z = RepeatVector(h)(z)\n",
        "z = LSTM(units=512, activation=\"relu\", return_sequences=True)(z)\n",
        "z = Dropout(rate=0.5)(z)\n",
        "z = LSTM(units=512, activation=\"relu\", return_sequences=True)(z)\n",
        "z = TimeDistributed(Dense(units=128, activation=\"relu\"))(z)\n",
        "\n",
        "outputs = TimeDistributed(Dense(units=1))(z)\n",
        "\n",
        "model = Model(inputs=inputs, outputs=outputs)\n",
        "model.summary()"
      ]
    },
    {
      "cell_type": "code",
      "execution_count": null,
      "metadata": {
        "ExecuteTime": {
          "end_time": "2022-02-07T02:25:33.304099Z",
          "start_time": "2022-02-07T02:25:11.441Z"
        },
        "colab": {
          "base_uri": "https://localhost:8080/"
        },
        "outputId": "4dd92bc8-1db4-4112-92a3-79a06c5aa584",
        "id": "ayg-iDJ0O4C_"
      },
      "outputs": [
        {
          "output_type": "stream",
          "name": "stdout",
          "text": [
            "Epoch 1/128\n",
            "57/57 - 25s - loss: 1281488.3750 - mse: 1281488.3750 - val_loss: 321837.6875 - val_mse: 321837.6875 - 25s/epoch - 445ms/step\n",
            "Epoch 2/128\n",
            "57/57 - 20s - loss: 691354.5625 - mse: 691354.5625 - val_loss: 366102.3750 - val_mse: 366102.3750 - 20s/epoch - 360ms/step\n",
            "Epoch 3/128\n",
            "57/57 - 21s - loss: 552935.6875 - mse: 552935.6875 - val_loss: 299606.0000 - val_mse: 299606.0000 - 21s/epoch - 375ms/step\n",
            "Epoch 4/128\n",
            "57/57 - 21s - loss: 469038.2188 - mse: 469038.2188 - val_loss: 491979.8125 - val_mse: 491979.8125 - 21s/epoch - 369ms/step\n",
            "Epoch 5/128\n",
            "57/57 - 22s - loss: 451840.9062 - mse: 451840.9062 - val_loss: 452568.5625 - val_mse: 452568.5625 - 22s/epoch - 384ms/step\n",
            "Epoch 6/128\n",
            "57/57 - 23s - loss: 788852.3125 - mse: 788852.3125 - val_loss: 804154.8750 - val_mse: 804154.8750 - 23s/epoch - 406ms/step\n",
            "Epoch 7/128\n",
            "57/57 - 25s - loss: 646893.0000 - mse: 646893.0000 - val_loss: 884155.6875 - val_mse: 884155.6875 - 25s/epoch - 438ms/step\n",
            "Epoch 8/128\n",
            "57/57 - 22s - loss: 461719.6250 - mse: 461719.6250 - val_loss: 595762.6875 - val_mse: 595762.6875 - 22s/epoch - 385ms/step\n",
            "Epoch 9/128\n",
            "57/57 - 22s - loss: 390044.2500 - mse: 390044.2500 - val_loss: 530052.0625 - val_mse: 530052.0625 - 22s/epoch - 387ms/step\n",
            "Epoch 10/128\n",
            "57/57 - 22s - loss: 364266.1250 - mse: 364266.1250 - val_loss: 662375.0625 - val_mse: 662375.0625 - 22s/epoch - 388ms/step\n",
            "Epoch 11/128\n",
            "57/57 - 22s - loss: 368190.4688 - mse: 368190.4688 - val_loss: 769936.5625 - val_mse: 769936.5625 - 22s/epoch - 379ms/step\n",
            "Epoch 12/128\n",
            "57/57 - 21s - loss: 364499.2500 - mse: 364499.2500 - val_loss: 885137.6250 - val_mse: 885137.6250 - 21s/epoch - 371ms/step\n",
            "Epoch 13/128\n",
            "57/57 - 21s - loss: 345055.9375 - mse: 345055.9375 - val_loss: 606122.5000 - val_mse: 606122.5000 - 21s/epoch - 372ms/step\n",
            "Epoch 14/128\n",
            "57/57 - 21s - loss: 354935.0312 - mse: 354935.0312 - val_loss: 738143.6875 - val_mse: 738143.6875 - 21s/epoch - 377ms/step\n",
            "Epoch 15/128\n",
            "57/57 - 21s - loss: 344011.9375 - mse: 344011.9375 - val_loss: 748546.8125 - val_mse: 748546.8125 - 21s/epoch - 375ms/step\n",
            "Epoch 16/128\n",
            "57/57 - 21s - loss: 337035.2188 - mse: 337035.2188 - val_loss: 874417.7500 - val_mse: 874417.7500 - 21s/epoch - 372ms/step\n",
            "Epoch 17/128\n",
            "57/57 - 21s - loss: 337208.2812 - mse: 337208.2812 - val_loss: 832701.3750 - val_mse: 832701.3750 - 21s/epoch - 373ms/step\n",
            "Epoch 18/128\n",
            "57/57 - 21s - loss: 334582.2500 - mse: 334582.2500 - val_loss: 870155.5000 - val_mse: 870155.5000 - 21s/epoch - 372ms/step\n",
            "Epoch 19/128\n",
            "57/57 - 21s - loss: 326573.5312 - mse: 326573.5312 - val_loss: 757180.1250 - val_mse: 757180.1250 - 21s/epoch - 372ms/step\n",
            "Epoch 20/128\n",
            "57/57 - 21s - loss: 319456.6562 - mse: 319456.6562 - val_loss: 798008.5000 - val_mse: 798008.5000 - 21s/epoch - 372ms/step\n",
            "Epoch 21/128\n",
            "57/57 - 20s - loss: 323362.5000 - mse: 323362.5000 - val_loss: 816330.5625 - val_mse: 816330.5625 - 20s/epoch - 354ms/step\n",
            "Epoch 22/128\n",
            "57/57 - 20s - loss: 332793.9062 - mse: 332793.9062 - val_loss: 824455.0625 - val_mse: 824455.0625 - 20s/epoch - 359ms/step\n",
            "Epoch 23/128\n",
            "57/57 - 20s - loss: 317046.5625 - mse: 317046.5625 - val_loss: 797451.4375 - val_mse: 797451.4375 - 20s/epoch - 355ms/step\n",
            "Epoch 24/128\n",
            "57/57 - 20s - loss: 321946.4375 - mse: 321946.4375 - val_loss: 738208.5625 - val_mse: 738208.5625 - 20s/epoch - 355ms/step\n",
            "Epoch 25/128\n",
            "57/57 - 20s - loss: 319806.0625 - mse: 319806.0625 - val_loss: 792283.9375 - val_mse: 792283.9375 - 20s/epoch - 352ms/step\n",
            "Epoch 26/128\n",
            "57/57 - 20s - loss: 323730.9062 - mse: 323730.9062 - val_loss: 845118.4375 - val_mse: 845118.4375 - 20s/epoch - 356ms/step\n",
            "Epoch 27/128\n",
            "57/57 - 20s - loss: 312571.4375 - mse: 312571.4375 - val_loss: 744669.4375 - val_mse: 744669.4375 - 20s/epoch - 352ms/step\n",
            "Epoch 28/128\n",
            "57/57 - 20s - loss: 320920.8125 - mse: 320920.8125 - val_loss: 641239.3750 - val_mse: 641239.3750 - 20s/epoch - 356ms/step\n",
            "Epoch 29/128\n",
            "57/57 - 21s - loss: 316658.4375 - mse: 316658.4375 - val_loss: 666599.3125 - val_mse: 666599.3125 - 21s/epoch - 360ms/step\n",
            "Epoch 30/128\n",
            "57/57 - 20s - loss: 343662.9688 - mse: 343662.9688 - val_loss: 671120.5625 - val_mse: 671120.5625 - 20s/epoch - 357ms/step\n",
            "Epoch 31/128\n",
            "57/57 - 21s - loss: 337907.7812 - mse: 337907.7812 - val_loss: 595334.1875 - val_mse: 595334.1875 - 21s/epoch - 360ms/step\n",
            "Epoch 32/128\n",
            "57/57 - 20s - loss: 345526.8750 - mse: 345526.8750 - val_loss: 621061.9375 - val_mse: 621061.9375 - 20s/epoch - 358ms/step\n",
            "Epoch 33/128\n",
            "57/57 - 20s - loss: 347786.1562 - mse: 347786.1562 - val_loss: 745412.7500 - val_mse: 745412.7500 - 20s/epoch - 354ms/step\n",
            "Epoch 34/128\n",
            "57/57 - 20s - loss: 328865.3125 - mse: 328865.3125 - val_loss: 661323.0000 - val_mse: 661323.0000 - 20s/epoch - 357ms/step\n",
            "Epoch 35/128\n",
            "57/57 - 20s - loss: 309671.5000 - mse: 309671.5000 - val_loss: 663243.5000 - val_mse: 663243.5000 - 20s/epoch - 351ms/step\n",
            "Epoch 36/128\n",
            "57/57 - 20s - loss: 334794.9375 - mse: 334794.9375 - val_loss: 603700.7500 - val_mse: 603700.7500 - 20s/epoch - 354ms/step\n",
            "Epoch 37/128\n",
            "57/57 - 20s - loss: 338664.3750 - mse: 338664.3750 - val_loss: 633620.0000 - val_mse: 633620.0000 - 20s/epoch - 357ms/step\n",
            "Epoch 38/128\n",
            "57/57 - 20s - loss: 332014.2812 - mse: 332014.2812 - val_loss: 675382.8125 - val_mse: 675382.8125 - 20s/epoch - 356ms/step\n",
            "Epoch 39/128\n",
            "57/57 - 20s - loss: 324905.6875 - mse: 324905.6875 - val_loss: 703420.5000 - val_mse: 703420.5000 - 20s/epoch - 354ms/step\n",
            "Epoch 40/128\n",
            "57/57 - 21s - loss: 316901.8750 - mse: 316901.8750 - val_loss: 590329.1875 - val_mse: 590329.1875 - 21s/epoch - 372ms/step\n",
            "Epoch 41/128\n",
            "57/57 - 20s - loss: 328957.8438 - mse: 328957.8438 - val_loss: 610238.1250 - val_mse: 610238.1250 - 20s/epoch - 355ms/step\n",
            "Epoch 42/128\n",
            "57/57 - 20s - loss: 321942.5312 - mse: 321942.5312 - val_loss: 538781.6875 - val_mse: 538781.6875 - 20s/epoch - 354ms/step\n",
            "Epoch 43/128\n",
            "57/57 - 20s - loss: 331662.2812 - mse: 331662.2812 - val_loss: 779735.0625 - val_mse: 779735.0625 - 20s/epoch - 355ms/step\n",
            "Epoch 44/128\n",
            "57/57 - 20s - loss: 315672.0000 - mse: 315672.0000 - val_loss: 766152.6875 - val_mse: 766152.6875 - 20s/epoch - 357ms/step\n",
            "Epoch 45/128\n",
            "57/57 - 20s - loss: 322713.4688 - mse: 322713.4688 - val_loss: 601416.4375 - val_mse: 601416.4375 - 20s/epoch - 359ms/step\n",
            "Epoch 46/128\n",
            "57/57 - 20s - loss: 330678.6562 - mse: 330678.6562 - val_loss: 596245.1250 - val_mse: 596245.1250 - 20s/epoch - 359ms/step\n",
            "Epoch 47/128\n",
            "57/57 - 20s - loss: 335112.0000 - mse: 335112.0000 - val_loss: 608300.3750 - val_mse: 608300.3750 - 20s/epoch - 355ms/step\n",
            "Epoch 48/128\n",
            "57/57 - 20s - loss: 337701.8438 - mse: 337701.8438 - val_loss: 670226.1875 - val_mse: 670226.1875 - 20s/epoch - 355ms/step\n",
            "Epoch 49/128\n",
            "57/57 - 20s - loss: 331912.3438 - mse: 331912.3438 - val_loss: 607016.6250 - val_mse: 607016.6250 - 20s/epoch - 358ms/step\n",
            "Epoch 50/128\n",
            "57/57 - 20s - loss: 330680.5000 - mse: 330680.5000 - val_loss: 577847.2500 - val_mse: 577847.2500 - 20s/epoch - 356ms/step\n",
            "Epoch 51/128\n",
            "57/57 - 20s - loss: 313913.3750 - mse: 313913.3750 - val_loss: 434542.9375 - val_mse: 434542.9375 - 20s/epoch - 359ms/step\n",
            "Epoch 52/128\n",
            "57/57 - 21s - loss: 328837.9375 - mse: 328837.9375 - val_loss: 442661.8125 - val_mse: 442661.8125 - 21s/epoch - 368ms/step\n",
            "Epoch 53/128\n",
            "57/57 - 20s - loss: 312650.4062 - mse: 312650.4062 - val_loss: 497535.2500 - val_mse: 497535.2500 - 20s/epoch - 358ms/step\n",
            "Epoch 54/128\n",
            "57/57 - 21s - loss: 317760.3750 - mse: 317760.3750 - val_loss: 565034.5625 - val_mse: 565034.5625 - 21s/epoch - 369ms/step\n",
            "Epoch 55/128\n",
            "57/57 - 22s - loss: 314549.2500 - mse: 314549.2500 - val_loss: 470582.6875 - val_mse: 470582.6875 - 22s/epoch - 377ms/step\n",
            "Epoch 56/128\n",
            "57/57 - 21s - loss: 324349.3438 - mse: 324349.3438 - val_loss: 556008.6250 - val_mse: 556008.6250 - 21s/epoch - 372ms/step\n",
            "Epoch 57/128\n",
            "57/57 - 22s - loss: 306801.8438 - mse: 306801.8438 - val_loss: 571834.6875 - val_mse: 571834.6875 - 22s/epoch - 386ms/step\n",
            "Epoch 58/128\n",
            "57/57 - 22s - loss: 305729.5625 - mse: 305729.5625 - val_loss: 617908.4375 - val_mse: 617908.4375 - 22s/epoch - 379ms/step\n",
            "Epoch 59/128\n",
            "57/57 - 21s - loss: 307184.2188 - mse: 307184.2188 - val_loss: 558428.2500 - val_mse: 558428.2500 - 21s/epoch - 376ms/step\n",
            "Epoch 60/128\n",
            "57/57 - 21s - loss: 308465.2812 - mse: 308465.2812 - val_loss: 603315.8750 - val_mse: 603315.8750 - 21s/epoch - 375ms/step\n",
            "Epoch 61/128\n",
            "57/57 - 22s - loss: 307205.0000 - mse: 307205.0000 - val_loss: 538829.3125 - val_mse: 538829.3125 - 22s/epoch - 380ms/step\n",
            "Epoch 62/128\n",
            "57/57 - 21s - loss: 326311.5938 - mse: 326311.5938 - val_loss: 572747.8125 - val_mse: 572747.8125 - 21s/epoch - 376ms/step\n",
            "Epoch 63/128\n",
            "57/57 - 21s - loss: 303214.2188 - mse: 303214.2188 - val_loss: 582127.5625 - val_mse: 582127.5625 - 21s/epoch - 376ms/step\n",
            "Epoch 64/128\n",
            "57/57 - 21s - loss: 319062.5312 - mse: 319062.5312 - val_loss: 606543.8125 - val_mse: 606543.8125 - 21s/epoch - 376ms/step\n",
            "Epoch 65/128\n",
            "57/57 - 20s - loss: 296572.7188 - mse: 296572.7188 - val_loss: 585047.3750 - val_mse: 585047.3750 - 20s/epoch - 359ms/step\n",
            "Epoch 66/128\n",
            "57/57 - 20s - loss: 308552.9062 - mse: 308552.9062 - val_loss: 708365.2500 - val_mse: 708365.2500 - 20s/epoch - 357ms/step\n",
            "Epoch 67/128\n",
            "57/57 - 21s - loss: 290417.2500 - mse: 290417.2500 - val_loss: 612909.6875 - val_mse: 612909.6875 - 21s/epoch - 361ms/step\n",
            "Epoch 68/128\n",
            "57/57 - 21s - loss: 307078.3438 - mse: 307078.3438 - val_loss: 636957.0000 - val_mse: 636957.0000 - 21s/epoch - 365ms/step\n",
            "Epoch 69/128\n",
            "57/57 - 21s - loss: 294677.2188 - mse: 294677.2188 - val_loss: 590693.0625 - val_mse: 590693.0625 - 21s/epoch - 364ms/step\n",
            "Epoch 70/128\n",
            "57/57 - 20s - loss: 302477.3750 - mse: 302477.3750 - val_loss: 582301.8750 - val_mse: 582301.8750 - 20s/epoch - 358ms/step\n",
            "Epoch 71/128\n",
            "57/57 - 20s - loss: 293361.4062 - mse: 293361.4062 - val_loss: 664520.1250 - val_mse: 664520.1250 - 20s/epoch - 357ms/step\n",
            "Epoch 72/128\n",
            "57/57 - 20s - loss: 284639.7812 - mse: 284639.7812 - val_loss: 607629.1250 - val_mse: 607629.1250 - 20s/epoch - 359ms/step\n",
            "Epoch 73/128\n",
            "57/57 - 20s - loss: 302556.7500 - mse: 302556.7500 - val_loss: 631200.1875 - val_mse: 631200.1875 - 20s/epoch - 359ms/step\n",
            "Epoch 74/128\n",
            "57/57 - 20s - loss: 293469.7188 - mse: 293469.7188 - val_loss: 652191.6875 - val_mse: 652191.6875 - 20s/epoch - 359ms/step\n",
            "Epoch 75/128\n",
            "57/57 - 20s - loss: 290210.9062 - mse: 290210.9062 - val_loss: 681984.6875 - val_mse: 681984.6875 - 20s/epoch - 351ms/step\n",
            "Epoch 76/128\n",
            "57/57 - 20s - loss: 286894.5625 - mse: 286894.5625 - val_loss: 715757.8125 - val_mse: 715757.8125 - 20s/epoch - 354ms/step\n",
            "Epoch 77/128\n",
            "57/57 - 20s - loss: 290036.8438 - mse: 290036.8438 - val_loss: 694243.8750 - val_mse: 694243.8750 - 20s/epoch - 352ms/step\n",
            "Epoch 78/128\n",
            "57/57 - 20s - loss: 283017.4375 - mse: 283017.4375 - val_loss: 643087.5625 - val_mse: 643087.5625 - 20s/epoch - 348ms/step\n",
            "Epoch 79/128\n",
            "57/57 - 20s - loss: 284512.8125 - mse: 284512.8125 - val_loss: 601068.3750 - val_mse: 601068.3750 - 20s/epoch - 354ms/step\n",
            "Epoch 80/128\n",
            "57/57 - 20s - loss: 299936.7500 - mse: 299936.7500 - val_loss: 634303.8125 - val_mse: 634303.8125 - 20s/epoch - 353ms/step\n",
            "Epoch 81/128\n",
            "57/57 - 20s - loss: 291037.5625 - mse: 291037.5625 - val_loss: 665232.8750 - val_mse: 665232.8750 - 20s/epoch - 356ms/step\n",
            "Epoch 82/128\n",
            "57/57 - 20s - loss: 284649.1562 - mse: 284649.1562 - val_loss: 628161.2500 - val_mse: 628161.2500 - 20s/epoch - 353ms/step\n",
            "Epoch 83/128\n",
            "57/57 - 20s - loss: 291227.1875 - mse: 291227.1875 - val_loss: 639103.5000 - val_mse: 639103.5000 - 20s/epoch - 351ms/step\n",
            "Epoch 84/128\n",
            "57/57 - 20s - loss: 291286.2188 - mse: 291286.2188 - val_loss: 565072.8125 - val_mse: 565072.8125 - 20s/epoch - 352ms/step\n",
            "Epoch 85/128\n",
            "57/57 - 20s - loss: 288205.0312 - mse: 288205.0312 - val_loss: 597547.0625 - val_mse: 597547.0625 - 20s/epoch - 351ms/step\n",
            "Epoch 86/128\n",
            "57/57 - 20s - loss: 295103.6562 - mse: 295103.6562 - val_loss: 576496.8125 - val_mse: 576496.8125 - 20s/epoch - 353ms/step\n",
            "Epoch 87/128\n",
            "57/57 - 21s - loss: 282397.0625 - mse: 282397.0625 - val_loss: 701257.3125 - val_mse: 701257.3125 - 21s/epoch - 367ms/step\n",
            "Epoch 88/128\n",
            "57/57 - 20s - loss: 282987.3750 - mse: 282987.3750 - val_loss: 661848.1875 - val_mse: 661848.1875 - 20s/epoch - 358ms/step\n",
            "Epoch 89/128\n",
            "57/57 - 20s - loss: 285614.0000 - mse: 285614.0000 - val_loss: 771759.5000 - val_mse: 771759.5000 - 20s/epoch - 354ms/step\n",
            "Epoch 90/128\n",
            "57/57 - 20s - loss: 282642.3750 - mse: 282642.3750 - val_loss: 710752.1875 - val_mse: 710752.1875 - 20s/epoch - 349ms/step\n",
            "Epoch 91/128\n",
            "57/57 - 20s - loss: 284274.4688 - mse: 284274.4688 - val_loss: 658277.0000 - val_mse: 658277.0000 - 20s/epoch - 352ms/step\n",
            "Epoch 92/128\n",
            "57/57 - 20s - loss: 284787.9062 - mse: 284787.9062 - val_loss: 656154.3750 - val_mse: 656154.3750 - 20s/epoch - 354ms/step\n",
            "Epoch 93/128\n",
            "57/57 - 20s - loss: 294095.1875 - mse: 294095.1875 - val_loss: 699666.4375 - val_mse: 699666.4375 - 20s/epoch - 358ms/step\n",
            "Epoch 94/128\n",
            "57/57 - 20s - loss: 289624.3125 - mse: 289624.3125 - val_loss: 652288.9375 - val_mse: 652288.9375 - 20s/epoch - 355ms/step\n",
            "Epoch 95/128\n",
            "57/57 - 25s - loss: 281800.6875 - mse: 281800.6875 - val_loss: 657453.5625 - val_mse: 657453.5625 - 25s/epoch - 438ms/step\n",
            "Epoch 96/128\n",
            "57/57 - 21s - loss: 274866.8438 - mse: 274866.8438 - val_loss: 651452.0000 - val_mse: 651452.0000 - 21s/epoch - 360ms/step\n",
            "Epoch 97/128\n",
            "57/57 - 20s - loss: 278379.9688 - mse: 278379.9688 - val_loss: 622931.4375 - val_mse: 622931.4375 - 20s/epoch - 357ms/step\n",
            "Epoch 98/128\n",
            "57/57 - 20s - loss: 275673.9688 - mse: 275673.9688 - val_loss: 684919.6250 - val_mse: 684919.6250 - 20s/epoch - 359ms/step\n",
            "Epoch 99/128\n",
            "57/57 - 20s - loss: 275726.1562 - mse: 275726.1562 - val_loss: 717065.9375 - val_mse: 717065.9375 - 20s/epoch - 356ms/step\n",
            "Epoch 100/128\n",
            "57/57 - 20s - loss: 274023.1562 - mse: 274023.1562 - val_loss: 706871.7500 - val_mse: 706871.7500 - 20s/epoch - 356ms/step\n",
            "Epoch 101/128\n",
            "57/57 - 20s - loss: 273898.7188 - mse: 273898.7188 - val_loss: 722899.3750 - val_mse: 722899.3750 - 20s/epoch - 354ms/step\n",
            "Epoch 102/128\n",
            "57/57 - 20s - loss: 273017.2812 - mse: 273017.2812 - val_loss: 842901.6875 - val_mse: 842901.6875 - 20s/epoch - 354ms/step\n",
            "Epoch 103/128\n",
            "57/57 - 21s - loss: 267056.0625 - mse: 267056.0625 - val_loss: 714841.2500 - val_mse: 714841.2500 - 21s/epoch - 366ms/step\n",
            "Epoch 104/128\n",
            "57/57 - 20s - loss: 265871.5938 - mse: 265871.5938 - val_loss: 703198.1250 - val_mse: 703198.1250 - 20s/epoch - 354ms/step\n",
            "Epoch 105/128\n",
            "57/57 - 20s - loss: 267744.0312 - mse: 267744.0312 - val_loss: 671018.5000 - val_mse: 671018.5000 - 20s/epoch - 357ms/step\n",
            "Epoch 106/128\n",
            "57/57 - 20s - loss: 268341.5625 - mse: 268341.5625 - val_loss: 736389.3125 - val_mse: 736389.3125 - 20s/epoch - 354ms/step\n",
            "Epoch 107/128\n",
            "57/57 - 20s - loss: 267083.9375 - mse: 267083.9375 - val_loss: 635172.8125 - val_mse: 635172.8125 - 20s/epoch - 353ms/step\n",
            "Epoch 108/128\n",
            "57/57 - 20s - loss: 287855.8750 - mse: 287855.8750 - val_loss: 647774.0000 - val_mse: 647774.0000 - 20s/epoch - 355ms/step\n",
            "Epoch 109/128\n",
            "57/57 - 21s - loss: 274588.6875 - mse: 274588.6875 - val_loss: 729045.9375 - val_mse: 729045.9375 - 21s/epoch - 371ms/step\n",
            "Epoch 110/128\n",
            "57/57 - 22s - loss: 272381.4375 - mse: 272381.4375 - val_loss: 734221.3750 - val_mse: 734221.3750 - 22s/epoch - 388ms/step\n",
            "Epoch 111/128\n",
            "57/57 - 20s - loss: 264539.3125 - mse: 264539.3125 - val_loss: 744925.1250 - val_mse: 744925.1250 - 20s/epoch - 355ms/step\n",
            "Epoch 112/128\n",
            "57/57 - 20s - loss: 265414.3438 - mse: 265414.3438 - val_loss: 689763.8750 - val_mse: 689763.8750 - 20s/epoch - 350ms/step\n",
            "Epoch 113/128\n",
            "57/57 - 20s - loss: 271415.5312 - mse: 271415.5312 - val_loss: 773949.0625 - val_mse: 773949.0625 - 20s/epoch - 355ms/step\n",
            "Epoch 114/128\n",
            "57/57 - 21s - loss: 252945.6562 - mse: 252945.6562 - val_loss: 720869.4375 - val_mse: 720869.4375 - 21s/epoch - 363ms/step\n",
            "Epoch 115/128\n",
            "57/57 - 20s - loss: 260416.9688 - mse: 260416.9688 - val_loss: 695158.3125 - val_mse: 695158.3125 - 20s/epoch - 355ms/step\n",
            "Epoch 116/128\n"
          ]
        }
      ],
      "source": [
        "model.compile(optimizer=\"adam\", loss=\"mse\", metrics=[\"mse\"])\n",
        "\n",
        "es = EarlyStopping(monitor=\"val_mse\", mode=\"auto\", verbose=1, patience=2)\n",
        "model_path = \"powerconsumption_cnn-lstm.h5\"\n",
        "mc = ModelCheckpoint(filepath=model_path, monitor=\"val_mse\", mode=\"auto\", verbose=1, save_best_only=True)\n",
        "hist = model.fit(x=tr_X, y=tr_y, validation_split=0.2, shuffle=False, epochs=128, batch_size=16, verbose=2)"
      ]
    },
    {
      "cell_type": "code",
      "source": [
        "fig, axes = plt.subplots(1, 1, figsize=(10, 6))\n",
        "axes.plot(hist.history[\"mse\"][1:], label=\"mse\");\n",
        "axes.plot(hist.history[\"val_mse\"][1:], label=\"val_mse\");\n",
        "axes.legend();"
      ],
      "metadata": {
        "id": "wSP-zZU1RnIP"
      },
      "execution_count": null,
      "outputs": []
    },
    {
      "cell_type": "code",
      "source": [
        "X, y = blocked_cv(data[\"Global_active_power\"], window_size, h)\n",
        "X = X[:, :, None]\n",
        "\n",
        "preds = model.predict(X)\n",
        "\n",
        "plt.subplots(figsize=(20, 12))\n",
        "plt.plot(preds[:, -1], label=\"preds\");\n",
        "plt.plot(np.array(data[\"Global_active_power\"].iloc[window_size + h - 1:]), label=\"data\");\n",
        "plt.legend();\n",
        "plt.axvline(x=len(data) - test_size, c=\"red\", ls=\"--\");"
      ],
      "metadata": {
        "id": "BLm0Z_40Vdpg"
      },
      "execution_count": null,
      "outputs": []
    },
    {
      "cell_type": "code",
      "execution_count": 42,
      "metadata": {
        "ExecuteTime": {
          "end_time": "2022-02-05T13:26:45.367371Z",
          "start_time": "2022-02-05T13:26:45.328277Z"
        },
        "colab": {
          "base_uri": "https://localhost:8080/",
          "height": 400
        },
        "outputId": "5aa091fb-b1b9-4b60-81b7-d919877b98eb",
        "id": "EY9YXINIO4DA"
      },
      "outputs": [
        {
          "output_type": "error",
          "ename": "KeyboardInterrupt",
          "evalue": "ignored",
          "traceback": [
            "\u001b[0;31m---------------------------------------------------------------------------\u001b[0m",
            "\u001b[0;31mKeyboardInterrupt\u001b[0m                         Traceback (most recent call last)",
            "\u001b[0;32m<ipython-input-42-4bb6711ba1a0>\u001b[0m in \u001b[0;36m<module>\u001b[0;34m()\u001b[0m\n\u001b[1;32m      6\u001b[0m     \u001b[0minput_x\u001b[0m \u001b[0;34m=\u001b[0m \u001b[0mdf\u001b[0m\u001b[0;34m[\u001b[0m\u001b[0;34m-\u001b[0m\u001b[0mwindow_size\u001b[0m\u001b[0;34m:\u001b[0m\u001b[0;34m]\u001b[0m\u001b[0;34m\u001b[0m\u001b[0;34m\u001b[0m\u001b[0m\n\u001b[1;32m      7\u001b[0m     \u001b[0minput_x\u001b[0m \u001b[0;34m=\u001b[0m \u001b[0minput_x\u001b[0m\u001b[0;34m.\u001b[0m\u001b[0mreshape\u001b[0m\u001b[0;34m(\u001b[0m\u001b[0;34m(\u001b[0m\u001b[0;36m1\u001b[0m\u001b[0;34m,\u001b[0m \u001b[0mlen\u001b[0m\u001b[0;34m(\u001b[0m\u001b[0minput_x\u001b[0m\u001b[0;34m)\u001b[0m\u001b[0;34m,\u001b[0m \u001b[0;36m1\u001b[0m\u001b[0;34m)\u001b[0m\u001b[0;34m)\u001b[0m\u001b[0;34m\u001b[0m\u001b[0;34m\u001b[0m\u001b[0m\n\u001b[0;32m----> 8\u001b[0;31m     \u001b[0myhat\u001b[0m \u001b[0;34m=\u001b[0m \u001b[0mmodel\u001b[0m\u001b[0;34m.\u001b[0m\u001b[0mpredict\u001b[0m\u001b[0;34m(\u001b[0m\u001b[0minput_x\u001b[0m\u001b[0;34m,\u001b[0m \u001b[0mverbose\u001b[0m\u001b[0;34m=\u001b[0m\u001b[0;36m0\u001b[0m\u001b[0;34m)\u001b[0m\u001b[0;34m\u001b[0m\u001b[0;34m\u001b[0m\u001b[0m\n\u001b[0m\u001b[1;32m      9\u001b[0m     \u001b[0myhat\u001b[0m \u001b[0;34m=\u001b[0m \u001b[0myhat\u001b[0m\u001b[0;34m[\u001b[0m\u001b[0;36m0\u001b[0m\u001b[0;34m]\u001b[0m\u001b[0;34m\u001b[0m\u001b[0;34m\u001b[0m\u001b[0m\n\u001b[1;32m     10\u001b[0m     \u001b[0mpredictions\u001b[0m\u001b[0;34m.\u001b[0m\u001b[0mappend\u001b[0m\u001b[0;34m(\u001b[0m\u001b[0myhat\u001b[0m\u001b[0;34m)\u001b[0m\u001b[0;34m\u001b[0m\u001b[0;34m\u001b[0m\u001b[0m\n",
            "\u001b[0;32m/usr/local/lib/python3.7/dist-packages/keras/utils/traceback_utils.py\u001b[0m in \u001b[0;36merror_handler\u001b[0;34m(*args, **kwargs)\u001b[0m\n\u001b[1;32m     62\u001b[0m     \u001b[0mfiltered_tb\u001b[0m \u001b[0;34m=\u001b[0m \u001b[0;32mNone\u001b[0m\u001b[0;34m\u001b[0m\u001b[0;34m\u001b[0m\u001b[0m\n\u001b[1;32m     63\u001b[0m     \u001b[0;32mtry\u001b[0m\u001b[0;34m:\u001b[0m\u001b[0;34m\u001b[0m\u001b[0;34m\u001b[0m\u001b[0m\n\u001b[0;32m---> 64\u001b[0;31m       \u001b[0;32mreturn\u001b[0m \u001b[0mfn\u001b[0m\u001b[0;34m(\u001b[0m\u001b[0;34m*\u001b[0m\u001b[0margs\u001b[0m\u001b[0;34m,\u001b[0m \u001b[0;34m**\u001b[0m\u001b[0mkwargs\u001b[0m\u001b[0;34m)\u001b[0m\u001b[0;34m\u001b[0m\u001b[0;34m\u001b[0m\u001b[0m\n\u001b[0m\u001b[1;32m     65\u001b[0m     \u001b[0;32mexcept\u001b[0m \u001b[0mException\u001b[0m \u001b[0;32mas\u001b[0m \u001b[0me\u001b[0m\u001b[0;34m:\u001b[0m  \u001b[0;31m# pylint: disable=broad-except\u001b[0m\u001b[0;34m\u001b[0m\u001b[0;34m\u001b[0m\u001b[0m\n\u001b[1;32m     66\u001b[0m       \u001b[0mfiltered_tb\u001b[0m \u001b[0;34m=\u001b[0m \u001b[0m_process_traceback_frames\u001b[0m\u001b[0;34m(\u001b[0m\u001b[0me\u001b[0m\u001b[0;34m.\u001b[0m\u001b[0m__traceback__\u001b[0m\u001b[0;34m)\u001b[0m\u001b[0;34m\u001b[0m\u001b[0;34m\u001b[0m\u001b[0m\n",
            "\u001b[0;32m/usr/local/lib/python3.7/dist-packages/keras/engine/training.py\u001b[0m in \u001b[0;36mpredict\u001b[0;34m(self, x, batch_size, verbose, steps, callbacks, max_queue_size, workers, use_multiprocessing)\u001b[0m\n\u001b[1;32m   1766\u001b[0m           \u001b[0muse_multiprocessing\u001b[0m\u001b[0;34m=\u001b[0m\u001b[0muse_multiprocessing\u001b[0m\u001b[0;34m,\u001b[0m\u001b[0;34m\u001b[0m\u001b[0;34m\u001b[0m\u001b[0m\n\u001b[1;32m   1767\u001b[0m           \u001b[0mmodel\u001b[0m\u001b[0;34m=\u001b[0m\u001b[0mself\u001b[0m\u001b[0;34m,\u001b[0m\u001b[0;34m\u001b[0m\u001b[0;34m\u001b[0m\u001b[0m\n\u001b[0;32m-> 1768\u001b[0;31m           steps_per_execution=self._steps_per_execution)\n\u001b[0m\u001b[1;32m   1769\u001b[0m \u001b[0;34m\u001b[0m\u001b[0m\n\u001b[1;32m   1770\u001b[0m       \u001b[0;31m# Container that configures and calls `tf.keras.Callback`s.\u001b[0m\u001b[0;34m\u001b[0m\u001b[0;34m\u001b[0m\u001b[0;34m\u001b[0m\u001b[0m\n",
            "\u001b[0;32m/usr/local/lib/python3.7/dist-packages/keras/engine/data_adapter.py\u001b[0m in \u001b[0;36mget_data_handler\u001b[0;34m(*args, **kwargs)\u001b[0m\n\u001b[1;32m   1401\u001b[0m   \u001b[0;32mif\u001b[0m \u001b[0mgetattr\u001b[0m\u001b[0;34m(\u001b[0m\u001b[0mkwargs\u001b[0m\u001b[0;34m[\u001b[0m\u001b[0;34m\"model\"\u001b[0m\u001b[0;34m]\u001b[0m\u001b[0;34m,\u001b[0m \u001b[0;34m\"_cluster_coordinator\"\u001b[0m\u001b[0;34m,\u001b[0m \u001b[0;32mNone\u001b[0m\u001b[0;34m)\u001b[0m\u001b[0;34m:\u001b[0m\u001b[0;34m\u001b[0m\u001b[0;34m\u001b[0m\u001b[0m\n\u001b[1;32m   1402\u001b[0m     \u001b[0;32mreturn\u001b[0m \u001b[0m_ClusterCoordinatorDataHandler\u001b[0m\u001b[0;34m(\u001b[0m\u001b[0;34m*\u001b[0m\u001b[0margs\u001b[0m\u001b[0;34m,\u001b[0m \u001b[0;34m**\u001b[0m\u001b[0mkwargs\u001b[0m\u001b[0;34m)\u001b[0m\u001b[0;34m\u001b[0m\u001b[0;34m\u001b[0m\u001b[0m\n\u001b[0;32m-> 1403\u001b[0;31m   \u001b[0;32mreturn\u001b[0m \u001b[0mDataHandler\u001b[0m\u001b[0;34m(\u001b[0m\u001b[0;34m*\u001b[0m\u001b[0margs\u001b[0m\u001b[0;34m,\u001b[0m \u001b[0;34m**\u001b[0m\u001b[0mkwargs\u001b[0m\u001b[0;34m)\u001b[0m\u001b[0;34m\u001b[0m\u001b[0;34m\u001b[0m\u001b[0m\n\u001b[0m\u001b[1;32m   1404\u001b[0m \u001b[0;34m\u001b[0m\u001b[0m\n\u001b[1;32m   1405\u001b[0m \u001b[0;34m\u001b[0m\u001b[0m\n",
            "\u001b[0;32m/usr/local/lib/python3.7/dist-packages/keras/engine/data_adapter.py\u001b[0m in \u001b[0;36m__init__\u001b[0;34m(self, x, y, sample_weight, batch_size, steps_per_epoch, initial_epoch, epochs, shuffle, class_weight, max_queue_size, workers, use_multiprocessing, model, steps_per_execution, distribute)\u001b[0m\n\u001b[1;32m   1163\u001b[0m         \u001b[0muse_multiprocessing\u001b[0m\u001b[0;34m=\u001b[0m\u001b[0muse_multiprocessing\u001b[0m\u001b[0;34m,\u001b[0m\u001b[0;34m\u001b[0m\u001b[0;34m\u001b[0m\u001b[0m\n\u001b[1;32m   1164\u001b[0m         \u001b[0mdistribution_strategy\u001b[0m\u001b[0;34m=\u001b[0m\u001b[0mtf\u001b[0m\u001b[0;34m.\u001b[0m\u001b[0mdistribute\u001b[0m\u001b[0;34m.\u001b[0m\u001b[0mget_strategy\u001b[0m\u001b[0;34m(\u001b[0m\u001b[0;34m)\u001b[0m\u001b[0;34m,\u001b[0m\u001b[0;34m\u001b[0m\u001b[0;34m\u001b[0m\u001b[0m\n\u001b[0;32m-> 1165\u001b[0;31m         model=model)\n\u001b[0m\u001b[1;32m   1166\u001b[0m \u001b[0;34m\u001b[0m\u001b[0m\n\u001b[1;32m   1167\u001b[0m     \u001b[0mstrategy\u001b[0m \u001b[0;34m=\u001b[0m \u001b[0mtf\u001b[0m\u001b[0;34m.\u001b[0m\u001b[0mdistribute\u001b[0m\u001b[0;34m.\u001b[0m\u001b[0mget_strategy\u001b[0m\u001b[0;34m(\u001b[0m\u001b[0;34m)\u001b[0m\u001b[0;34m\u001b[0m\u001b[0;34m\u001b[0m\u001b[0m\n",
            "\u001b[0;32m/usr/local/lib/python3.7/dist-packages/keras/engine/data_adapter.py\u001b[0m in \u001b[0;36m__init__\u001b[0;34m(self, x, y, sample_weights, sample_weight_modes, batch_size, epochs, steps, shuffle, **kwargs)\u001b[0m\n\u001b[1;32m    289\u001b[0m     \u001b[0;31m# trigger the next permutation. On the other hand, too many simultaneous\u001b[0m\u001b[0;34m\u001b[0m\u001b[0;34m\u001b[0m\u001b[0;34m\u001b[0m\u001b[0m\n\u001b[1;32m    290\u001b[0m     \u001b[0;31m# shuffles can contend on a hardware level and degrade all performance.\u001b[0m\u001b[0;34m\u001b[0m\u001b[0;34m\u001b[0m\u001b[0;34m\u001b[0m\u001b[0m\n\u001b[0;32m--> 291\u001b[0;31m     \u001b[0mindices_dataset\u001b[0m \u001b[0;34m=\u001b[0m \u001b[0mindices_dataset\u001b[0m\u001b[0;34m.\u001b[0m\u001b[0mmap\u001b[0m\u001b[0;34m(\u001b[0m\u001b[0mpermutation\u001b[0m\u001b[0;34m)\u001b[0m\u001b[0;34m.\u001b[0m\u001b[0mprefetch\u001b[0m\u001b[0;34m(\u001b[0m\u001b[0;36m1\u001b[0m\u001b[0;34m)\u001b[0m\u001b[0;34m\u001b[0m\u001b[0;34m\u001b[0m\u001b[0m\n\u001b[0m\u001b[1;32m    292\u001b[0m \u001b[0;34m\u001b[0m\u001b[0m\n\u001b[1;32m    293\u001b[0m     \u001b[0;32mdef\u001b[0m \u001b[0mslice_batch_indices\u001b[0m\u001b[0;34m(\u001b[0m\u001b[0mindices\u001b[0m\u001b[0;34m)\u001b[0m\u001b[0;34m:\u001b[0m\u001b[0;34m\u001b[0m\u001b[0;34m\u001b[0m\u001b[0m\n",
            "\u001b[0;32m/usr/local/lib/python3.7/dist-packages/tensorflow/python/data/ops/dataset_ops.py\u001b[0m in \u001b[0;36mmap\u001b[0;34m(self, map_func, num_parallel_calls, deterministic, name)\u001b[0m\n\u001b[1;32m   2002\u001b[0m         warnings.warn(\"The `deterministic` argument has no effect unless the \"\n\u001b[1;32m   2003\u001b[0m                       \"`num_parallel_calls` argument is specified.\")\n\u001b[0;32m-> 2004\u001b[0;31m       \u001b[0;32mreturn\u001b[0m \u001b[0mMapDataset\u001b[0m\u001b[0;34m(\u001b[0m\u001b[0mself\u001b[0m\u001b[0;34m,\u001b[0m \u001b[0mmap_func\u001b[0m\u001b[0;34m,\u001b[0m \u001b[0mpreserve_cardinality\u001b[0m\u001b[0;34m=\u001b[0m\u001b[0;32mTrue\u001b[0m\u001b[0;34m,\u001b[0m \u001b[0mname\u001b[0m\u001b[0;34m=\u001b[0m\u001b[0mname\u001b[0m\u001b[0;34m)\u001b[0m\u001b[0;34m\u001b[0m\u001b[0;34m\u001b[0m\u001b[0m\n\u001b[0m\u001b[1;32m   2005\u001b[0m     \u001b[0;32melse\u001b[0m\u001b[0;34m:\u001b[0m\u001b[0;34m\u001b[0m\u001b[0;34m\u001b[0m\u001b[0m\n\u001b[1;32m   2006\u001b[0m       return ParallelMapDataset(\n",
            "\u001b[0;32m/usr/local/lib/python3.7/dist-packages/tensorflow/python/data/ops/dataset_ops.py\u001b[0m in \u001b[0;36m__init__\u001b[0;34m(self, input_dataset, map_func, use_inter_op_parallelism, preserve_cardinality, use_legacy_function, name)\u001b[0m\n\u001b[1;32m   5457\u001b[0m         \u001b[0mself\u001b[0m\u001b[0;34m.\u001b[0m\u001b[0m_transformation_name\u001b[0m\u001b[0;34m(\u001b[0m\u001b[0;34m)\u001b[0m\u001b[0;34m,\u001b[0m\u001b[0;34m\u001b[0m\u001b[0;34m\u001b[0m\u001b[0m\n\u001b[1;32m   5458\u001b[0m         \u001b[0mdataset\u001b[0m\u001b[0;34m=\u001b[0m\u001b[0minput_dataset\u001b[0m\u001b[0;34m,\u001b[0m\u001b[0;34m\u001b[0m\u001b[0;34m\u001b[0m\u001b[0m\n\u001b[0;32m-> 5459\u001b[0;31m         use_legacy_function=use_legacy_function)\n\u001b[0m\u001b[1;32m   5460\u001b[0m     \u001b[0mself\u001b[0m\u001b[0;34m.\u001b[0m\u001b[0m_metadata\u001b[0m \u001b[0;34m=\u001b[0m \u001b[0mdataset_metadata_pb2\u001b[0m\u001b[0;34m.\u001b[0m\u001b[0mMetadata\u001b[0m\u001b[0;34m(\u001b[0m\u001b[0;34m)\u001b[0m\u001b[0;34m\u001b[0m\u001b[0;34m\u001b[0m\u001b[0m\n\u001b[1;32m   5461\u001b[0m     \u001b[0;32mif\u001b[0m \u001b[0mname\u001b[0m\u001b[0;34m:\u001b[0m\u001b[0;34m\u001b[0m\u001b[0;34m\u001b[0m\u001b[0m\n",
            "\u001b[0;32m/usr/local/lib/python3.7/dist-packages/tensorflow/python/data/ops/dataset_ops.py\u001b[0m in \u001b[0;36m__init__\u001b[0;34m(self, func, transformation_name, dataset, input_classes, input_shapes, input_types, input_structure, add_to_graph, use_legacy_function, defun_kwargs)\u001b[0m\n\u001b[1;32m   4531\u001b[0m         \u001b[0mfn_factory\u001b[0m \u001b[0;34m=\u001b[0m \u001b[0mtrace_tf_function\u001b[0m\u001b[0;34m(\u001b[0m\u001b[0mdefun_kwargs\u001b[0m\u001b[0;34m)\u001b[0m\u001b[0;34m\u001b[0m\u001b[0;34m\u001b[0m\u001b[0m\n\u001b[1;32m   4532\u001b[0m \u001b[0;34m\u001b[0m\u001b[0m\n\u001b[0;32m-> 4533\u001b[0;31m     \u001b[0mself\u001b[0m\u001b[0;34m.\u001b[0m\u001b[0m_function\u001b[0m \u001b[0;34m=\u001b[0m \u001b[0mfn_factory\u001b[0m\u001b[0;34m(\u001b[0m\u001b[0;34m)\u001b[0m\u001b[0;34m\u001b[0m\u001b[0;34m\u001b[0m\u001b[0m\n\u001b[0m\u001b[1;32m   4534\u001b[0m     \u001b[0;31m# There is no graph to add in eager mode.\u001b[0m\u001b[0;34m\u001b[0m\u001b[0;34m\u001b[0m\u001b[0;34m\u001b[0m\u001b[0m\n\u001b[1;32m   4535\u001b[0m     \u001b[0madd_to_graph\u001b[0m \u001b[0;34m&=\u001b[0m \u001b[0;32mnot\u001b[0m \u001b[0mcontext\u001b[0m\u001b[0;34m.\u001b[0m\u001b[0mexecuting_eagerly\u001b[0m\u001b[0;34m(\u001b[0m\u001b[0;34m)\u001b[0m\u001b[0;34m\u001b[0m\u001b[0;34m\u001b[0m\u001b[0m\n",
            "\u001b[0;32m/usr/local/lib/python3.7/dist-packages/tensorflow/python/eager/function.py\u001b[0m in \u001b[0;36mget_concrete_function\u001b[0;34m(self, *args, **kwargs)\u001b[0m\n\u001b[1;32m   3243\u001b[0m     \"\"\"\n\u001b[1;32m   3244\u001b[0m     graph_function = self._get_concrete_function_garbage_collected(\n\u001b[0;32m-> 3245\u001b[0;31m         *args, **kwargs)\n\u001b[0m\u001b[1;32m   3246\u001b[0m     \u001b[0mgraph_function\u001b[0m\u001b[0;34m.\u001b[0m\u001b[0m_garbage_collector\u001b[0m\u001b[0;34m.\u001b[0m\u001b[0mrelease\u001b[0m\u001b[0;34m(\u001b[0m\u001b[0;34m)\u001b[0m  \u001b[0;31m# pylint: disable=protected-access\u001b[0m\u001b[0;34m\u001b[0m\u001b[0;34m\u001b[0m\u001b[0m\n\u001b[1;32m   3247\u001b[0m     \u001b[0;32mreturn\u001b[0m \u001b[0mgraph_function\u001b[0m\u001b[0;34m\u001b[0m\u001b[0;34m\u001b[0m\u001b[0m\n",
            "\u001b[0;32m/usr/local/lib/python3.7/dist-packages/tensorflow/python/eager/function.py\u001b[0m in \u001b[0;36m_get_concrete_function_garbage_collected\u001b[0;34m(self, *args, **kwargs)\u001b[0m\n\u001b[1;32m   3208\u001b[0m       \u001b[0margs\u001b[0m\u001b[0;34m,\u001b[0m \u001b[0mkwargs\u001b[0m \u001b[0;34m=\u001b[0m \u001b[0;32mNone\u001b[0m\u001b[0;34m,\u001b[0m \u001b[0;32mNone\u001b[0m\u001b[0;34m\u001b[0m\u001b[0;34m\u001b[0m\u001b[0m\n\u001b[1;32m   3209\u001b[0m     \u001b[0;32mwith\u001b[0m \u001b[0mself\u001b[0m\u001b[0;34m.\u001b[0m\u001b[0m_lock\u001b[0m\u001b[0;34m:\u001b[0m\u001b[0;34m\u001b[0m\u001b[0;34m\u001b[0m\u001b[0m\n\u001b[0;32m-> 3210\u001b[0;31m       \u001b[0mgraph_function\u001b[0m\u001b[0;34m,\u001b[0m \u001b[0m_\u001b[0m \u001b[0;34m=\u001b[0m \u001b[0mself\u001b[0m\u001b[0;34m.\u001b[0m\u001b[0m_maybe_define_function\u001b[0m\u001b[0;34m(\u001b[0m\u001b[0margs\u001b[0m\u001b[0;34m,\u001b[0m \u001b[0mkwargs\u001b[0m\u001b[0;34m)\u001b[0m\u001b[0;34m\u001b[0m\u001b[0;34m\u001b[0m\u001b[0m\n\u001b[0m\u001b[1;32m   3211\u001b[0m       \u001b[0mseen_names\u001b[0m \u001b[0;34m=\u001b[0m \u001b[0mset\u001b[0m\u001b[0;34m(\u001b[0m\u001b[0;34m)\u001b[0m\u001b[0;34m\u001b[0m\u001b[0;34m\u001b[0m\u001b[0m\n\u001b[1;32m   3212\u001b[0m       captured = object_identity.ObjectIdentitySet(\n",
            "\u001b[0;32m/usr/local/lib/python3.7/dist-packages/tensorflow/python/eager/function.py\u001b[0m in \u001b[0;36m_maybe_define_function\u001b[0;34m(self, args, kwargs)\u001b[0m\n\u001b[1;32m   3555\u001b[0m \u001b[0;34m\u001b[0m\u001b[0m\n\u001b[1;32m   3556\u001b[0m           \u001b[0mself\u001b[0m\u001b[0;34m.\u001b[0m\u001b[0m_function_cache\u001b[0m\u001b[0;34m.\u001b[0m\u001b[0mmissed\u001b[0m\u001b[0;34m.\u001b[0m\u001b[0madd\u001b[0m\u001b[0;34m(\u001b[0m\u001b[0mcall_context_key\u001b[0m\u001b[0;34m)\u001b[0m\u001b[0;34m\u001b[0m\u001b[0;34m\u001b[0m\u001b[0m\n\u001b[0;32m-> 3557\u001b[0;31m           \u001b[0mgraph_function\u001b[0m \u001b[0;34m=\u001b[0m \u001b[0mself\u001b[0m\u001b[0;34m.\u001b[0m\u001b[0m_create_graph_function\u001b[0m\u001b[0;34m(\u001b[0m\u001b[0margs\u001b[0m\u001b[0;34m,\u001b[0m \u001b[0mkwargs\u001b[0m\u001b[0;34m)\u001b[0m\u001b[0;34m\u001b[0m\u001b[0;34m\u001b[0m\u001b[0m\n\u001b[0m\u001b[1;32m   3558\u001b[0m           \u001b[0mself\u001b[0m\u001b[0;34m.\u001b[0m\u001b[0m_function_cache\u001b[0m\u001b[0;34m.\u001b[0m\u001b[0mprimary\u001b[0m\u001b[0;34m[\u001b[0m\u001b[0mcache_key\u001b[0m\u001b[0;34m]\u001b[0m \u001b[0;34m=\u001b[0m \u001b[0mgraph_function\u001b[0m\u001b[0;34m\u001b[0m\u001b[0;34m\u001b[0m\u001b[0m\n\u001b[1;32m   3559\u001b[0m \u001b[0;34m\u001b[0m\u001b[0m\n",
            "\u001b[0;32m/usr/local/lib/python3.7/dist-packages/tensorflow/python/eager/function.py\u001b[0m in \u001b[0;36m_create_graph_function\u001b[0;34m(self, args, kwargs, override_flat_arg_shapes)\u001b[0m\n\u001b[1;32m   3400\u001b[0m             \u001b[0marg_names\u001b[0m\u001b[0;34m=\u001b[0m\u001b[0marg_names\u001b[0m\u001b[0;34m,\u001b[0m\u001b[0;34m\u001b[0m\u001b[0;34m\u001b[0m\u001b[0m\n\u001b[1;32m   3401\u001b[0m             \u001b[0moverride_flat_arg_shapes\u001b[0m\u001b[0;34m=\u001b[0m\u001b[0moverride_flat_arg_shapes\u001b[0m\u001b[0;34m,\u001b[0m\u001b[0;34m\u001b[0m\u001b[0;34m\u001b[0m\u001b[0m\n\u001b[0;32m-> 3402\u001b[0;31m             capture_by_value=self._capture_by_value),\n\u001b[0m\u001b[1;32m   3403\u001b[0m         \u001b[0mself\u001b[0m\u001b[0;34m.\u001b[0m\u001b[0m_function_attributes\u001b[0m\u001b[0;34m,\u001b[0m\u001b[0;34m\u001b[0m\u001b[0;34m\u001b[0m\u001b[0m\n\u001b[1;32m   3404\u001b[0m         \u001b[0mfunction_spec\u001b[0m\u001b[0;34m=\u001b[0m\u001b[0mself\u001b[0m\u001b[0;34m.\u001b[0m\u001b[0mfunction_spec\u001b[0m\u001b[0;34m,\u001b[0m\u001b[0;34m\u001b[0m\u001b[0;34m\u001b[0m\u001b[0m\n",
            "\u001b[0;32m/usr/local/lib/python3.7/dist-packages/tensorflow/python/framework/func_graph.py\u001b[0m in \u001b[0;36mfunc_graph_from_py_func\u001b[0;34m(name, python_func, args, kwargs, signature, func_graph, autograph, autograph_options, add_control_dependencies, arg_names, op_return_value, collections, capture_by_value, override_flat_arg_shapes, acd_record_initial_resource_uses)\u001b[0m\n\u001b[1;32m   1182\u001b[0m         if x is not None)\n\u001b[1;32m   1183\u001b[0m \u001b[0;34m\u001b[0m\u001b[0m\n\u001b[0;32m-> 1184\u001b[0;31m     \u001b[0mfunc_graph\u001b[0m\u001b[0;34m.\u001b[0m\u001b[0mvariables\u001b[0m \u001b[0;34m=\u001b[0m \u001b[0mvariables\u001b[0m\u001b[0;34m\u001b[0m\u001b[0;34m\u001b[0m\u001b[0m\n\u001b[0m\u001b[1;32m   1185\u001b[0m \u001b[0;34m\u001b[0m\u001b[0m\n\u001b[1;32m   1186\u001b[0m   \u001b[0;32mif\u001b[0m \u001b[0madd_control_dependencies\u001b[0m\u001b[0;34m:\u001b[0m\u001b[0;34m\u001b[0m\u001b[0;34m\u001b[0m\u001b[0m\n",
            "\u001b[0;32m/usr/lib/python3.7/contextlib.py\u001b[0m in \u001b[0;36m__exit__\u001b[0;34m(self, type, value, traceback)\u001b[0m\n\u001b[1;32m    117\u001b[0m         \u001b[0;32mif\u001b[0m \u001b[0mtype\u001b[0m \u001b[0;32mis\u001b[0m \u001b[0;32mNone\u001b[0m\u001b[0;34m:\u001b[0m\u001b[0;34m\u001b[0m\u001b[0;34m\u001b[0m\u001b[0m\n\u001b[1;32m    118\u001b[0m             \u001b[0;32mtry\u001b[0m\u001b[0;34m:\u001b[0m\u001b[0;34m\u001b[0m\u001b[0;34m\u001b[0m\u001b[0m\n\u001b[0;32m--> 119\u001b[0;31m                 \u001b[0mnext\u001b[0m\u001b[0;34m(\u001b[0m\u001b[0mself\u001b[0m\u001b[0;34m.\u001b[0m\u001b[0mgen\u001b[0m\u001b[0;34m)\u001b[0m\u001b[0;34m\u001b[0m\u001b[0;34m\u001b[0m\u001b[0m\n\u001b[0m\u001b[1;32m    120\u001b[0m             \u001b[0;32mexcept\u001b[0m \u001b[0mStopIteration\u001b[0m\u001b[0;34m:\u001b[0m\u001b[0;34m\u001b[0m\u001b[0;34m\u001b[0m\u001b[0m\n\u001b[1;32m    121\u001b[0m                 \u001b[0;32mreturn\u001b[0m \u001b[0;32mFalse\u001b[0m\u001b[0;34m\u001b[0m\u001b[0;34m\u001b[0m\u001b[0m\n",
            "\u001b[0;32m/usr/local/lib/python3.7/dist-packages/tensorflow/python/framework/func_graph.py\u001b[0m in \u001b[0;36minner_cm\u001b[0;34m()\u001b[0m\n\u001b[1;32m    513\u001b[0m             \u001b[0mself\u001b[0m\u001b[0;34m.\u001b[0m\u001b[0m_device_function_stack\u001b[0m \u001b[0;34m=\u001b[0m \u001b[0mold_device_stack\u001b[0m\u001b[0;34m\u001b[0m\u001b[0;34m\u001b[0m\u001b[0m\n\u001b[1;32m    514\u001b[0m             \u001b[0mself\u001b[0m\u001b[0;34m.\u001b[0m\u001b[0m_variable_creator_stack\u001b[0m \u001b[0;34m=\u001b[0m \u001b[0mold_creator_stack\u001b[0m\u001b[0;34m\u001b[0m\u001b[0;34m\u001b[0m\u001b[0m\n\u001b[0;32m--> 515\u001b[0;31m             \u001b[0mself\u001b[0m\u001b[0;34m.\u001b[0m\u001b[0m_graph_key\u001b[0m \u001b[0;34m=\u001b[0m \u001b[0mold_graph_key\u001b[0m\u001b[0;34m\u001b[0m\u001b[0;34m\u001b[0m\u001b[0m\n\u001b[0m\u001b[1;32m    516\u001b[0m     \u001b[0;32mreturn\u001b[0m \u001b[0minner_cm\u001b[0m\u001b[0;34m(\u001b[0m\u001b[0;34m)\u001b[0m\u001b[0;34m\u001b[0m\u001b[0;34m\u001b[0m\u001b[0m\n\u001b[1;32m    517\u001b[0m \u001b[0;34m\u001b[0m\u001b[0m\n",
            "\u001b[0;32m/usr/lib/python3.7/contextlib.py\u001b[0m in \u001b[0;36m__exit__\u001b[0;34m(self, type, value, traceback)\u001b[0m\n\u001b[1;32m    117\u001b[0m         \u001b[0;32mif\u001b[0m \u001b[0mtype\u001b[0m \u001b[0;32mis\u001b[0m \u001b[0;32mNone\u001b[0m\u001b[0;34m:\u001b[0m\u001b[0;34m\u001b[0m\u001b[0;34m\u001b[0m\u001b[0m\n\u001b[1;32m    118\u001b[0m             \u001b[0;32mtry\u001b[0m\u001b[0;34m:\u001b[0m\u001b[0;34m\u001b[0m\u001b[0;34m\u001b[0m\u001b[0m\n\u001b[0;32m--> 119\u001b[0;31m                 \u001b[0mnext\u001b[0m\u001b[0;34m(\u001b[0m\u001b[0mself\u001b[0m\u001b[0;34m.\u001b[0m\u001b[0mgen\u001b[0m\u001b[0;34m)\u001b[0m\u001b[0;34m\u001b[0m\u001b[0;34m\u001b[0m\u001b[0m\n\u001b[0m\u001b[1;32m    120\u001b[0m             \u001b[0;32mexcept\u001b[0m \u001b[0mStopIteration\u001b[0m\u001b[0;34m:\u001b[0m\u001b[0;34m\u001b[0m\u001b[0;34m\u001b[0m\u001b[0m\n\u001b[1;32m    121\u001b[0m                 \u001b[0;32mreturn\u001b[0m \u001b[0;32mFalse\u001b[0m\u001b[0;34m\u001b[0m\u001b[0;34m\u001b[0m\u001b[0m\n",
            "\u001b[0;32m/usr/local/lib/python3.7/dist-packages/tensorflow/python/framework/ops.py\u001b[0m in \u001b[0;36mget_controller\u001b[0;34m(self, default)\u001b[0m\n\u001b[1;32m   5768\u001b[0m       \u001b[0;31m# If an exception is raised here it may be hiding a related exception in\u001b[0m\u001b[0;34m\u001b[0m\u001b[0;34m\u001b[0m\u001b[0;34m\u001b[0m\u001b[0m\n\u001b[1;32m   5769\u001b[0m       \u001b[0;31m# the try-block (just above).\u001b[0m\u001b[0;34m\u001b[0m\u001b[0;34m\u001b[0m\u001b[0;34m\u001b[0m\u001b[0m\n\u001b[0;32m-> 5770\u001b[0;31m       \u001b[0mcontext\u001b[0m\u001b[0;34m.\u001b[0m\u001b[0mcontext\u001b[0m\u001b[0;34m(\u001b[0m\u001b[0;34m)\u001b[0m\u001b[0;34m.\u001b[0m\u001b[0mcontext_switches\u001b[0m\u001b[0;34m.\u001b[0m\u001b[0mpop\u001b[0m\u001b[0;34m(\u001b[0m\u001b[0;34m)\u001b[0m\u001b[0;34m\u001b[0m\u001b[0;34m\u001b[0m\u001b[0m\n\u001b[0m\u001b[1;32m   5771\u001b[0m \u001b[0;34m\u001b[0m\u001b[0m\n\u001b[1;32m   5772\u001b[0m \u001b[0;34m\u001b[0m\u001b[0m\n",
            "\u001b[0;31mKeyboardInterrupt\u001b[0m: "
          ]
        }
      ],
      "source": [
        "history = [x for x in data_tr]\n",
        "predictions = list()\n",
        "for i in range(len(data_te)):\n",
        "    df = np.array(history)\n",
        "    # df = df.reshape((df.shape[0]*df.shape[1], df.shape[2]))\n",
        "    input_x = df[-window_size:]\n",
        "    input_x = input_x.reshape((1, len(input_x), 1))\n",
        "    yhat = model.predict(input_x, verbose=0)\n",
        "    yhat = yhat[0]\n",
        "    predictions.append(yhat)\n",
        "    history.append(data_te.iloc[i])\n",
        "predictions = np.array(predictions)\n",
        "\n",
        "scores = list()\n",
        "for i in range(len(data_te)):\n",
        "    mse = mean_squared_error(data_te.iloc([i], predictions[:, i])\n",
        "    rmse = math.sqrt(mse)\n",
        "    scores.append(rmse)\n",
        "s = 0\n",
        "for row in range(data_te[:, :, 0].shape[0]):\n",
        "    for col in range(data_te[:, :, 0].shape[1]):\n",
        "        s += (data_te[:, :, 0][row, col] - predictions[row, col])**2\n",
        "score = math.sqrt(s / (data_te[:, :, 0].shape[0] * data_te[:, :, 0].shape[1]))\n",
        "\n",
        "\n",
        "s_scores = ', '.join(['%.1f' % s for s in scores])\n",
        "print('%s: [%.3f] %s' % (\"lstm\", score, s_scores))\n",
        "    \n",
        "days = [\"sun\", \"mon\", \"tue\", \"wed\", \"thr\", \"fri\", \"sat\"]\n",
        "plt.plot(days, scores, marker=\"o\", label=\"lstm\");"
      ]
    }
  ],
  "metadata": {
    "colab": {
      "collapsed_sections": [],
      "name": "Power Consumption & CNN-LSTM.ipynb",
      "provenance": [],
      "include_colab_link": true
    },
    "hide_input": false,
    "kernelspec": {
      "display_name": "Python 3",
      "language": "python",
      "name": "python3"
    },
    "language_info": {
      "codemirror_mode": {
        "name": "ipython",
        "version": 3
      },
      "file_extension": ".py",
      "mimetype": "text/x-python",
      "name": "python",
      "nbconvert_exporter": "python",
      "pygments_lexer": "ipython3",
      "version": "3.7.7"
    },
    "toc": {
      "base_numbering": 1,
      "nav_menu": {},
      "number_sections": true,
      "sideBar": true,
      "skip_h1_title": false,
      "title_cell": "Table of Contents",
      "title_sidebar": "Contents",
      "toc_cell": true,
      "toc_position": {},
      "toc_section_display": true,
      "toc_window_display": false
    },
    "varInspector": {
      "cols": {
        "lenName": 16,
        "lenType": 16,
        "lenVar": 40
      },
      "kernels_config": {
        "python": {
          "delete_cmd_postfix": "",
          "delete_cmd_prefix": "del ",
          "library": "var_list.py",
          "varRefreshCmd": "print(var_dic_list())"
        },
        "r": {
          "delete_cmd_postfix": ") ",
          "delete_cmd_prefix": "rm(",
          "library": "var_list.r",
          "varRefreshCmd": "cat(var_dic_list()) "
        }
      },
      "types_to_exclude": [
        "module",
        "function",
        "builtin_function_or_method",
        "instance",
        "_Feature"
      ],
      "window_display": false
    }
  },
  "nbformat": 4,
  "nbformat_minor": 0
}