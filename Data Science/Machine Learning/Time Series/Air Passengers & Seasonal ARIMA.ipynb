{
 "cells": [
  {
   "cell_type": "code",
   "execution_count": 1,
   "metadata": {
    "ExecuteTime": {
     "end_time": "2022-01-26T03:09:56.407737Z",
     "start_time": "2022-01-26T03:09:54.145774Z"
    },
    "id": "zRNj30oaslPf"
   },
   "outputs": [
    {
     "ename": "ModuleNotFoundError",
     "evalue": "No module named 'pmdarima'",
     "output_type": "error",
     "traceback": [
      "\u001b[1;31m---------------------------------------------------------------------------\u001b[0m",
      "\u001b[1;31mModuleNotFoundError\u001b[0m                       Traceback (most recent call last)",
      "\u001b[1;32m<ipython-input-1-556f673d0f3a>\u001b[0m in \u001b[0;36m<module>\u001b[1;34m\u001b[0m\n\u001b[0;32m      3\u001b[0m \u001b[1;32mfrom\u001b[0m \u001b[0mstatsmodels\u001b[0m\u001b[1;33m.\u001b[0m\u001b[0mtsa\u001b[0m\u001b[1;33m.\u001b[0m\u001b[0mstatespace\u001b[0m\u001b[1;33m.\u001b[0m\u001b[0msarimax\u001b[0m \u001b[1;32mimport\u001b[0m \u001b[0mSARIMAX\u001b[0m\u001b[1;33m\u001b[0m\u001b[1;33m\u001b[0m\u001b[0m\n\u001b[0;32m      4\u001b[0m \u001b[1;32mfrom\u001b[0m \u001b[0mstatsmodels\u001b[0m\u001b[1;33m.\u001b[0m\u001b[0mtsa\u001b[0m\u001b[1;33m.\u001b[0m\u001b[0marima_model\u001b[0m \u001b[1;32mimport\u001b[0m \u001b[0mARIMA\u001b[0m\u001b[1;33m\u001b[0m\u001b[1;33m\u001b[0m\u001b[0m\n\u001b[1;32m----> 5\u001b[1;33m \u001b[1;32mfrom\u001b[0m \u001b[0mpmdarima\u001b[0m\u001b[1;33m.\u001b[0m\u001b[0marima\u001b[0m \u001b[1;32mimport\u001b[0m \u001b[0mauto_arima\u001b[0m\u001b[1;33m\u001b[0m\u001b[1;33m\u001b[0m\u001b[0m\n\u001b[0m\u001b[0;32m      6\u001b[0m \u001b[1;32mimport\u001b[0m \u001b[0mstatsmodels\u001b[0m\u001b[1;33m.\u001b[0m\u001b[0mapi\u001b[0m \u001b[1;32mas\u001b[0m \u001b[0msm\u001b[0m\u001b[1;33m\u001b[0m\u001b[1;33m\u001b[0m\u001b[0m\n\u001b[0;32m      7\u001b[0m \u001b[1;32mimport\u001b[0m \u001b[0mpandas\u001b[0m \u001b[1;32mas\u001b[0m \u001b[0mpd\u001b[0m\u001b[1;33m\u001b[0m\u001b[1;33m\u001b[0m\u001b[0m\n",
      "\u001b[1;31mModuleNotFoundError\u001b[0m: No module named 'pmdarima'"
     ]
    }
   ],
   "source": [
    "import itertools\n",
    "import seaborn as sb\n",
    "from statsmodels.tsa.statespace.sarimax import SARIMAX\n",
    "from statsmodels.tsa.arima_model import ARIMA\n",
    "from pmdarima.arima import auto_arima\n",
    "import statsmodels.api as sm\n",
    "import pandas as pd\n",
    "import numpy as np\n",
    "from sklearn.model_selection import train_test_split\n",
    "from sklearn.metrics import r2_score\n",
    "import matplotlib.pyplot as plt\n",
    "import matplotlib\n",
    "import math\n",
    "\n",
    "plt.style.use(\"dark_background\")"
   ]
  },
  {
   "cell_type": "code",
   "execution_count": null,
   "metadata": {
    "ExecuteTime": {
     "end_time": "2022-01-26T03:08:35.500167Z",
     "start_time": "2022-01-26T03:08:31.883Z"
    },
    "id": "bSeGMWbMt1HC"
   },
   "outputs": [],
   "source": [
    "data = pd.read_csv(\"D:/Datasets/Air Passengers/AirPassengers.csv\")\n",
    "\n",
    "data = data.rename({\"Month\": \"month\", \"#Passengers\": \"passengers\"}, axis=1)\n",
    "data[\"month\"] = pd.to_datetime(data[\"month\"])\n",
    "data = data.set_index(\"month\")\n",
    "data = data.asfreq(freq=\"MS\")"
   ]
  },
  {
   "cell_type": "code",
   "execution_count": null,
   "metadata": {
    "ExecuteTime": {
     "end_time": "2022-01-26T03:08:35.501165Z",
     "start_time": "2022-01-26T03:08:31.885Z"
    }
   },
   "outputs": [],
   "source": [
    "data_tr, data_te = train_test_split(data, test_size=0.2, shuffle=False)"
   ]
  },
  {
   "cell_type": "code",
   "execution_count": null,
   "metadata": {
    "ExecuteTime": {
     "end_time": "2022-01-26T03:08:35.502162Z",
     "start_time": "2022-01-26T03:08:31.887Z"
    }
   },
   "outputs": [],
   "source": [
    "data_tr[\"passengers_log\"] = np.log(data_tr[\"passengers\"])\n",
    "data_tr[\"passengers_log_diff\"] = data_tr[\"passengers_log\"].diff(1)\n",
    "\n",
    "fig, axes = plt.subplots(3, 1, figsize=(8, 6))\n",
    "data_tr[\"passengers\"].plot.line(ax=axes[0]);\n",
    "data_tr[\"passengers_log\"].plot.line(ax=axes[1]);\n",
    "data_tr[\"passengers_log_diff\"].plot.line(ax=axes[2]);"
   ]
  },
  {
   "cell_type": "code",
   "execution_count": null,
   "metadata": {
    "ExecuteTime": {
     "end_time": "2022-01-26T03:08:35.504171Z",
     "start_time": "2022-01-26T03:08:31.889Z"
    },
    "colab": {
     "base_uri": "https://localhost:8080/",
     "height": 647
    },
    "id": "dbgz6734upDb",
    "outputId": "de2caacd-bb71-4ef4-e879-ddb55a483eb7"
   },
   "outputs": [],
   "source": [
    "decomp = sm.tsa.seasonal_decompose(data_tr[\"passengers\"], model=\"additive\")\n",
    "fig = decomp.plot()\n",
    "fig.set_size_inches(10, 10)"
   ]
  },
  {
   "cell_type": "code",
   "execution_count": null,
   "metadata": {
    "ExecuteTime": {
     "end_time": "2022-01-26T03:08:35.505154Z",
     "start_time": "2022-01-26T03:08:31.891Z"
    }
   },
   "outputs": [],
   "source": [
    "decomp = sm.tsa.seasonal_decompose(data_tr[\"passengers_log\"], model=\"additive\")\n",
    "fig = decomp.plot()\n",
    "fig.set_size_inches(10, 10)"
   ]
  },
  {
   "cell_type": "code",
   "execution_count": null,
   "metadata": {
    "ExecuteTime": {
     "end_time": "2022-01-26T03:08:35.506152Z",
     "start_time": "2022-01-26T03:08:31.893Z"
    }
   },
   "outputs": [],
   "source": [
    "decomp = sm.tsa.seasonal_decompose(data_tr[\"passengers_log_diff\"], model=\"additive\")\n",
    "fig = decomp.plot()\n",
    "fig.set_size_inches(10, 10)"
   ]
  },
  {
   "cell_type": "code",
   "execution_count": null,
   "metadata": {
    "ExecuteTime": {
     "end_time": "2022-01-26T03:08:35.508146Z",
     "start_time": "2022-01-26T03:08:31.895Z"
    },
    "colab": {
     "base_uri": "https://localhost:8080/",
     "height": 741
    },
    "id": "U0mzwT7GwADI",
    "outputId": "3648ec76-2df9-43ba-fd9f-c499f1bee4fe"
   },
   "outputs": [],
   "source": [
    "fig, axes = plt.subplots(1, 2, figsize=(12, 4))\n",
    "sm.graphics.tsa.plot_acf(ax=axes[0], x=data_tr[\"passengers_log\"], lags=50);\n",
    "sm.graphics.tsa.plot_pacf(ax=axes[1], x=data_tr[\"passengers_log\"], lags=50);"
   ]
  },
  {
   "cell_type": "code",
   "execution_count": null,
   "metadata": {
    "ExecuteTime": {
     "end_time": "2022-01-26T03:08:35.509143Z",
     "start_time": "2022-01-26T03:08:31.898Z"
    }
   },
   "outputs": [],
   "source": [
    "fig, axes = plt.subplots(1, 2, figsize=(12, 4))\n",
    "sm.graphics.tsa.plot_acf(ax=axes[0], x=data_tr[\"passengers_log_diff\"], lags=30);\n",
    "sm.graphics.tsa.plot_pacf(ax=axes[1], x=data_tr[\"passengers_log_diff\"], lags=30);"
   ]
  },
  {
   "cell_type": "markdown",
   "metadata": {
    "id": "o7stFeEu6ycH"
   },
   "source": [
    "# Non-Seasonal ARIMA Modeling\n",
    "\n",
    "## Hyperparameter Tunning\n",
    "\n",
    "### Implementation"
   ]
  },
  {
   "cell_type": "code",
   "execution_count": null,
   "metadata": {
    "ExecuteTime": {
     "end_time": "2022-01-26T03:08:35.510141Z",
     "start_time": "2022-01-26T03:08:31.901Z"
    },
    "colab": {
     "base_uri": "https://localhost:8080/"
    },
    "id": "OdWNRzDsyXAt",
    "outputId": "2b05897b-d307-498c-b776-1605f958073f"
   },
   "outputs": [],
   "source": [
    "minim = math.inf\n",
    "for params in itertools.product(range(0, 3), range(0, 2), range(0, 3)):\n",
    "    model = SARIMAX(endog=data_tr[\"passengers_log\"], order=params)\n",
    "    hist = model.fit()\n",
    "    aic = hist.aic\n",
    "    if aic < minim:\n",
    "        minim = aic\n",
    "        best_params = params\n",
    "print(f\"best_params: {best_params}\")\n",
    "\n",
    "model = SARIMAX(data_tr[\"passengers_log\"], order=best_params)\n",
    "hist = model.fit()\n",
    "hist.summary()\n",
    "\n",
    "pred_res = hist.get_forecast(len(data_te))\n",
    "preds = np.exp(pred_res.predicted_mean)\n",
    "preds_lb = np.exp(pred_res.conf_int().iloc[:, 0])\n",
    "preds_ub = np.exp(pred_res.conf_int().iloc[:, 1])\n",
    "\n",
    "fig = plt.figure(figsize=(12, 6))\n",
    "data[\"passengers\"].plot.line();\n",
    "preds.plot.line(label=\"Prediction\");\n",
    "plt.axvline(x=\"1958-08-01\", linestyle=\"--\", color=\"r\", label=\"forecast boundary\");\n",
    "plt.fill_between(x=data_te.index, y1=preds_lb, y2=preds_ub, color=\"b\", alpha=0.3, label=\"95% Confidence Interval\");\n",
    "plt.legend(loc=\"upper left\");\n",
    "print(f\"r2_score: {r2_score(data_te['passengers'], preds)}\")"
   ]
  },
  {
   "cell_type": "markdown",
   "metadata": {},
   "source": [
    "# Seasonal ARIMA Modeling"
   ]
  },
  {
   "cell_type": "code",
   "execution_count": null,
   "metadata": {
    "ExecuteTime": {
     "end_time": "2022-01-26T03:08:35.512135Z",
     "start_time": "2022-01-26T03:08:31.903Z"
    },
    "colab": {
     "base_uri": "https://localhost:8080/"
    },
    "id": "mABXhWoK4tWe",
    "outputId": "4e645f0d-b699-43a8-88a4-8395d86aed87"
   },
   "outputs": [],
   "source": [
    "model = SARIMAX(data_tr[\"passengers_log\"], order=best_params, seasonal_order=best_params + (12,))\n",
    "hist = model.fit()\n",
    "hist.summary()\n",
    "\n",
    "pred_res = hist.get_forecast(len(data_te))\n",
    "preds = np.exp(pred_res.predicted_mean)\n",
    "preds_lb = np.exp(pred_res.conf_int().iloc[:, 0])\n",
    "preds_ub = np.exp(pred_res.conf_int().iloc[:, 1])\n",
    "\n",
    "fig = plt.figure(figsize=(12, 6))\n",
    "data[\"passengers\"].plot.line();\n",
    "preds.plot.line(label=\"Prediction\");\n",
    "plt.axvline(x=\"1958-08-01\", linestyle=\"--\", color=\"r\", label=\"forecast boundary\");\n",
    "plt.fill_between(x=data_te.index, y1=preds_lb, y2=preds_ub, color=\"b\", alpha=0.3, label=\"95% Confidence Interval\");\n",
    "plt.legend(loc=\"upper left\");\n",
    "\n",
    "print(f\"model.order: {model.order}\")\n",
    "print(f\"model.seasonal_order: {model.seasonal_order}\")\n",
    "print(f\"r2_score: {r2_score(data_te['passengers'], preds)}\")"
   ]
  },
  {
   "cell_type": "code",
   "execution_count": null,
   "metadata": {
    "ExecuteTime": {
     "end_time": "2022-01-26T03:08:35.513133Z",
     "start_time": "2022-01-26T03:08:31.905Z"
    }
   },
   "outputs": [],
   "source": [
    "params = (1, 0, 2)\n",
    "model = SARIMAX(data_tr[\"passengers_log_diff\"], order=params, seasonal_order=params + (12,))\n",
    "hist = model.fit()\n",
    "hist.summary()\n",
    "\n",
    "pred_res = hist.get_forecast(len(data_te))\n",
    "preds = np.exp(data_tr[\"passengers_log\"].iloc[-1] + pred_res.predicted_mean.cumsum())\n",
    "# preds_lb = np.exp(data_tr[\"passengers_log\"].iloc[-1] + pred_res.conf_int().iloc[:, 0].cumsum())\n",
    "# preds_ub = np.exp(data_tr[\"passengers_log\"].iloc[-1] + pred_res.conf_int().iloc[:, 1].cumsum())\n",
    "# preds = np.exp(pred_res.predicted_mean)\n",
    "# preds_lb = np.exp(pred_res.conf_int().iloc[:, 0])\n",
    "# preds_ub = np.exp(pred_res.conf_int().iloc[:, 1])\n",
    "\n",
    "fig = plt.figure(figsize=(12, 6))\n",
    "data[\"passengers\"].plot.line();\n",
    "preds.plot.line(label=\"Prediction\");\n",
    "plt.axvline(x=\"1958-08-01\", linestyle=\"--\", color=\"r\", label=\"forecast boundary\");\n",
    "# plt.fill_between(x=data_te.index, y1=preds_lb, y2=preds_ub, color=\"b\", alpha=0.3, label=\"95% Confidence Interval\");\n",
    "plt.legend(loc=\"upper left\");\n",
    "\n",
    "print(f\"model.order: {model.order}\")\n",
    "print(f\"model.seasonal_order: {model.seasonal_order}\")\n",
    "print(f\"r2_score: {r2_score(data_te['passengers'], preds)}\")"
   ]
  },
  {
   "cell_type": "markdown",
   "metadata": {},
   "source": [
    "## Hyperparameter Tunning\n",
    "\n",
    "### Using `pmdarima.arima.auto_arima()`"
   ]
  },
  {
   "cell_type": "code",
   "execution_count": null,
   "metadata": {
    "ExecuteTime": {
     "end_time": "2022-01-26T03:08:35.515129Z",
     "start_time": "2022-01-26T03:08:31.908Z"
    }
   },
   "outputs": [],
   "source": [
    "model = auto_arima(data_tr[\"passengers_log\"], start_p=1, max_p=3, d=1, start_q=1, max_q=3, seasonal=True, max_P=3, D=1, max_Q=3, m=12, trace=True, error_action=\"ignore\")\n",
    "\n",
    "pred_res = model.predict(len(data_te), return_conf_int=True)\n",
    "preds = pd.Series(np.exp(pred_res[0]), index=data_te.index)\n",
    "preds_lb = pd.Series(np.exp(pred_res[1])[:, 0], index=data_te.index)\n",
    "preds_ub = pd.Series(np.exp(pred_res[1])[:, 1], index=data_te.index)\n",
    "\n",
    "# model = SARIMAX(data_tr[\"passengers_log\"], order=model.order, seasonal_order=model.seasonal_order)\n",
    "# hist = model.fit()\n",
    "# hist.summary()\n",
    "\n",
    "# pred_res = hist.get_forecast(len(data_te))\n",
    "# preds = np.exp(pred_res.predicted_mean)\n",
    "# preds_lb = np.exp(pred_res.conf_int().iloc[:, 0])\n",
    "# preds_ub = np.exp(pred_res.conf_int().iloc[:, 1])\n",
    "\n",
    "fig = plt.figure(figsize=(12, 6))\n",
    "data[\"passengers\"].plot.line();\n",
    "preds.plot.line(label=\"Prediction\");\n",
    "plt.axvline(x=\"1958-08-01\", linestyle=\"--\", color=\"r\", label=\"forecast boundary\");\n",
    "plt.fill_between(x=data_te.index, y1=preds_lb, y2=preds_ub, color=\"b\", alpha=0.3, label=\"95% Confidence Interval\");\n",
    "plt.legend(loc=\"upper left\");\n",
    "print(f\"r2_score: {r2_score(data_te['passengers'], preds)}\")"
   ]
  }
 ],
 "metadata": {
  "accelerator": "GPU",
  "colab": {
   "collapsed_sections": [],
   "name": "Box-Jenkins-Renew.ipynb",
   "provenance": []
  },
  "hide_input": false,
  "kernelspec": {
   "display_name": "Python 3",
   "language": "python",
   "name": "python3"
  },
  "toc": {
   "base_numbering": 1,
   "nav_menu": {},
   "number_sections": true,
   "sideBar": true,
   "skip_h1_title": false,
   "title_cell": "Table of Contents",
   "title_sidebar": "Contents",
   "toc_cell": false,
   "toc_position": {},
   "toc_section_display": true,
   "toc_window_display": false
  },
  "varInspector": {
   "cols": {
    "lenName": 16,
    "lenType": 16,
    "lenVar": 40
   },
   "kernels_config": {
    "python": {
     "delete_cmd_postfix": "",
     "delete_cmd_prefix": "del ",
     "library": "var_list.py",
     "varRefreshCmd": "print(var_dic_list())"
    },
    "r": {
     "delete_cmd_postfix": ") ",
     "delete_cmd_prefix": "rm(",
     "library": "var_list.r",
     "varRefreshCmd": "cat(var_dic_list()) "
    }
   },
   "types_to_exclude": [
    "module",
    "function",
    "builtin_function_or_method",
    "instance",
    "_Feature"
   ],
   "window_display": false
  }
 },
 "nbformat": 4,
 "nbformat_minor": 1
}
