{
 "cells": [
  {
   "cell_type": "code",
   "execution_count": 20,
   "metadata": {
    "ExecuteTime": {
     "end_time": "2022-01-20T14:31:08.934232Z",
     "start_time": "2022-01-20T14:31:08.924540Z"
    },
    "colab": {
     "base_uri": "https://localhost:8080/"
    },
    "executionInfo": {
     "elapsed": 4493,
     "status": "ok",
     "timestamp": 1637379602836,
     "user": {
      "displayName": "James Lee",
      "photoUrl": "https://lh3.googleusercontent.com/a/default-user=s64",
      "userId": "17665317456088603930"
     },
     "user_tz": -540
    },
    "id": "uPo7Uuzfbs9E",
    "outputId": "4a11cf7a-55f4-444e-9590-1fce3d0f56be"
   },
   "outputs": [],
   "source": [
    "import numpy as np\n",
    "import pmdarima\n",
    "from pmdarima import model_selection"
   ]
  },
  {
   "cell_type": "code",
   "execution_count": 21,
   "metadata": {
    "ExecuteTime": {
     "end_time": "2022-01-20T14:31:10.488043Z",
     "start_time": "2022-01-20T14:31:08.934232Z"
    },
    "colab": {
     "base_uri": "https://localhost:8080/"
    },
    "executionInfo": {
     "elapsed": 4493,
     "status": "ok",
     "timestamp": 1637379602836,
     "user": {
      "displayName": "James Lee",
      "photoUrl": "https://lh3.googleusercontent.com/a/default-user=s64",
      "userId": "17665317456088603930"
     },
     "user_tz": -540
    },
    "id": "uPo7Uuzfbs9E",
    "outputId": "4a11cf7a-55f4-444e-9590-1fce3d0f56be"
   },
   "outputs": [
    {
     "name": "stdout",
     "output_type": "stream",
     "text": [
      "[CV] fold=0 ..........................................................\n",
      "[CV] fold=1 ..........................................................\n",
      "[CV] fold=2 ..........................................................\n",
      "[CV] fold=0 ..........................................................\n",
      "[CV] fold=1 ..........................................................\n",
      "[CV] fold=2 ..........................................................\n",
      "scores_model1: [23.92897667 22.28966615  3.74840893]\n",
      "scores_model2: [ 1.52039644 15.41342726  5.57222576]\n"
     ]
    }
   ],
   "source": [
    "data = pmdarima.datasets.load_wineind()\n",
    "tr, te = model_selection.train_test_split(data, train_size=165)\n",
    "\n",
    "model1 = pmdarima.ARIMA(order=(2, 1, 1))\n",
    "model2 = pmdarima.ARIMA(order=(1, 1, 2), seasonal_order=(0, 1, 1, 12), suppress_warnings=True)\n",
    "\n",
    "cv = model_selection.SlidingWindowForecastCV(window_size=100, step=24, h=1)\n",
    "\n",
    "scores_model1 = model_selection.cross_val_score(model1, tr, scoring=\"smape\", cv=cv, verbose=2)\n",
    "scores_model2 = model_selection.cross_val_score(model2, tr, scoring=\"smape\", cv=cv, verbose=2)\n",
    "\n",
    "print(f\"scores_model1: {scores_model1}\")\n",
    "print(f\"scores_model2: {scores_model2}\")"
   ]
  }
 ],
 "metadata": {
  "colab": {
   "authorship_tag": "ABX9TyPVCMunbxHnrCpWDtxZJOWo",
   "name": "ARIMA-CROSSVALIDATION.ipynb",
   "provenance": []
  },
  "hide_input": false,
  "kernelspec": {
   "display_name": "Python 3",
   "language": "python",
   "name": "python3"
  },
  "language_info": {
   "codemirror_mode": {
    "name": "ipython",
    "version": 3
   },
   "file_extension": ".py",
   "mimetype": "text/x-python",
   "name": "python",
   "nbconvert_exporter": "python",
   "pygments_lexer": "ipython3",
   "version": "3.8.5"
  },
  "toc": {
   "base_numbering": 1,
   "nav_menu": {},
   "number_sections": true,
   "sideBar": true,
   "skip_h1_title": false,
   "title_cell": "Table of Contents",
   "title_sidebar": "Contents",
   "toc_cell": false,
   "toc_position": {},
   "toc_section_display": true,
   "toc_window_display": false
  },
  "varInspector": {
   "cols": {
    "lenName": 16,
    "lenType": 16,
    "lenVar": 40
   },
   "kernels_config": {
    "python": {
     "delete_cmd_postfix": "",
     "delete_cmd_prefix": "del ",
     "library": "var_list.py",
     "varRefreshCmd": "print(var_dic_list())"
    },
    "r": {
     "delete_cmd_postfix": ") ",
     "delete_cmd_prefix": "rm(",
     "library": "var_list.r",
     "varRefreshCmd": "cat(var_dic_list()) "
    }
   },
   "types_to_exclude": [
    "module",
    "function",
    "builtin_function_or_method",
    "instance",
    "_Feature"
   ],
   "window_display": false
  }
 },
 "nbformat": 4,
 "nbformat_minor": 1
}
