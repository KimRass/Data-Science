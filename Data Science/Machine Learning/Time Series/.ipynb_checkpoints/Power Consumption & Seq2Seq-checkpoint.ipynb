{
 "cells": [
  {
   "cell_type": "code",
   "execution_count": null,
   "metadata": {
    "executionInfo": {
     "elapsed": 6702,
     "status": "ok",
     "timestamp": 1638588691100,
     "user": {
      "displayName": "James Lee",
      "photoUrl": "https://lh3.googleusercontent.com/a/default-user=s64",
      "userId": "17665317456088603930"
     },
     "user_tz": -540
    },
    "id": "7eU4wtmWat51"
   },
   "outputs": [],
   "source": [
    "import pandas as pd\n",
    "from datetime import datetime, timedelta"
   ]
  },
  {
   "cell_type": "code",
   "execution_count": 1,
   "metadata": {
    "executionInfo": {
     "elapsed": 6702,
     "status": "ok",
     "timestamp": 1638588691100,
     "user": {
      "displayName": "James Lee",
      "photoUrl": "https://lh3.googleusercontent.com/a/default-user=s64",
      "userId": "17665317456088603930"
     },
     "user_tz": -540
    },
    "id": "7eU4wtmWat51"
   },
   "outputs": [],
   "source": [
    "gdd.download_file_from_google_drive(file_id=\"122XXMOwYgMxvgAVrm_VwXnyV42IgBiiC\", dest_path=\"D:/household_power_consumption.csv\")\n",
    "\n",
    "raw_data = pd.read_csv(\"D:/household_power_consumption.csv\", header=0, infer_datetime_format=True, parse_dates=[\"datetime\"], index_col=[\"datetime\"])"
   ]
  },
  {
   "cell_type": "code",
   "execution_count": 2,
   "metadata": {
    "colab": {
     "base_uri": "https://localhost:8080/",
     "height": 822
    },
    "executionInfo": {
     "elapsed": 15,
     "status": "ok",
     "timestamp": 1638588691100,
     "user": {
      "displayName": "James Lee",
      "photoUrl": "https://lh3.googleusercontent.com/a/default-user=s64",
      "userId": "17665317456088603930"
     },
     "user_tz": -540
    },
    "id": "pDH-WO7pfjRc",
    "outputId": "fc921d52-7037-4a01-a49d-b346e577d20a"
   },
   "outputs": [
    {
     "data": {
      "text/html": [
       "<div>\n",
       "<style scoped>\n",
       "    .dataframe tbody tr th:only-of-type {\n",
       "        vertical-align: middle;\n",
       "    }\n",
       "\n",
       "    .dataframe tbody tr th {\n",
       "        vertical-align: top;\n",
       "    }\n",
       "\n",
       "    .dataframe thead th {\n",
       "        text-align: right;\n",
       "    }\n",
       "</style>\n",
       "<table border=\"1\" class=\"dataframe\">\n",
       "  <thead>\n",
       "    <tr style=\"text-align: right;\">\n",
       "      <th></th>\n",
       "      <th>Global_active_power</th>\n",
       "      <th>Global_reactive_power</th>\n",
       "      <th>Voltage</th>\n",
       "      <th>Global_intensity</th>\n",
       "      <th>Sub_metering_1</th>\n",
       "      <th>Sub_metering_2</th>\n",
       "      <th>Sub_metering_3</th>\n",
       "      <th>sub_metering_4</th>\n",
       "    </tr>\n",
       "    <tr>\n",
       "      <th>datetime</th>\n",
       "      <th></th>\n",
       "      <th></th>\n",
       "      <th></th>\n",
       "      <th></th>\n",
       "      <th></th>\n",
       "      <th></th>\n",
       "      <th></th>\n",
       "      <th></th>\n",
       "    </tr>\n",
       "  </thead>\n",
       "  <tbody>\n",
       "    <tr>\n",
       "      <th>2006-12-16 17:24:00</th>\n",
       "      <td>4.216</td>\n",
       "      <td>0.418</td>\n",
       "      <td>234.84</td>\n",
       "      <td>18.4</td>\n",
       "      <td>0.0</td>\n",
       "      <td>1.0</td>\n",
       "      <td>17.0</td>\n",
       "      <td>52.266670</td>\n",
       "    </tr>\n",
       "    <tr>\n",
       "      <th>2006-12-16 17:25:00</th>\n",
       "      <td>5.360</td>\n",
       "      <td>0.436</td>\n",
       "      <td>233.63</td>\n",
       "      <td>23.0</td>\n",
       "      <td>0.0</td>\n",
       "      <td>1.0</td>\n",
       "      <td>16.0</td>\n",
       "      <td>72.333336</td>\n",
       "    </tr>\n",
       "    <tr>\n",
       "      <th>2006-12-16 17:26:00</th>\n",
       "      <td>5.374</td>\n",
       "      <td>0.498</td>\n",
       "      <td>233.29</td>\n",
       "      <td>23.0</td>\n",
       "      <td>0.0</td>\n",
       "      <td>2.0</td>\n",
       "      <td>17.0</td>\n",
       "      <td>70.566666</td>\n",
       "    </tr>\n",
       "    <tr>\n",
       "      <th>2006-12-16 17:27:00</th>\n",
       "      <td>5.388</td>\n",
       "      <td>0.502</td>\n",
       "      <td>233.74</td>\n",
       "      <td>23.0</td>\n",
       "      <td>0.0</td>\n",
       "      <td>1.0</td>\n",
       "      <td>17.0</td>\n",
       "      <td>71.800000</td>\n",
       "    </tr>\n",
       "    <tr>\n",
       "      <th>2006-12-16 17:28:00</th>\n",
       "      <td>3.666</td>\n",
       "      <td>0.528</td>\n",
       "      <td>235.68</td>\n",
       "      <td>15.8</td>\n",
       "      <td>0.0</td>\n",
       "      <td>1.0</td>\n",
       "      <td>17.0</td>\n",
       "      <td>43.100000</td>\n",
       "    </tr>\n",
       "    <tr>\n",
       "      <th>...</th>\n",
       "      <td>...</td>\n",
       "      <td>...</td>\n",
       "      <td>...</td>\n",
       "      <td>...</td>\n",
       "      <td>...</td>\n",
       "      <td>...</td>\n",
       "      <td>...</td>\n",
       "      <td>...</td>\n",
       "    </tr>\n",
       "    <tr>\n",
       "      <th>2010-11-26 20:58:00</th>\n",
       "      <td>0.946</td>\n",
       "      <td>0.000</td>\n",
       "      <td>240.43</td>\n",
       "      <td>4.0</td>\n",
       "      <td>0.0</td>\n",
       "      <td>0.0</td>\n",
       "      <td>0.0</td>\n",
       "      <td>15.766666</td>\n",
       "    </tr>\n",
       "    <tr>\n",
       "      <th>2010-11-26 20:59:00</th>\n",
       "      <td>0.944</td>\n",
       "      <td>0.000</td>\n",
       "      <td>240.00</td>\n",
       "      <td>4.0</td>\n",
       "      <td>0.0</td>\n",
       "      <td>0.0</td>\n",
       "      <td>0.0</td>\n",
       "      <td>15.733334</td>\n",
       "    </tr>\n",
       "    <tr>\n",
       "      <th>2010-11-26 21:00:00</th>\n",
       "      <td>0.938</td>\n",
       "      <td>0.000</td>\n",
       "      <td>239.82</td>\n",
       "      <td>3.8</td>\n",
       "      <td>0.0</td>\n",
       "      <td>0.0</td>\n",
       "      <td>0.0</td>\n",
       "      <td>15.633333</td>\n",
       "    </tr>\n",
       "    <tr>\n",
       "      <th>2010-11-26 21:01:00</th>\n",
       "      <td>0.934</td>\n",
       "      <td>0.000</td>\n",
       "      <td>239.70</td>\n",
       "      <td>3.8</td>\n",
       "      <td>0.0</td>\n",
       "      <td>0.0</td>\n",
       "      <td>0.0</td>\n",
       "      <td>15.566667</td>\n",
       "    </tr>\n",
       "    <tr>\n",
       "      <th>2010-11-26 21:02:00</th>\n",
       "      <td>0.932</td>\n",
       "      <td>0.000</td>\n",
       "      <td>239.55</td>\n",
       "      <td>3.8</td>\n",
       "      <td>0.0</td>\n",
       "      <td>0.0</td>\n",
       "      <td>0.0</td>\n",
       "      <td>15.533334</td>\n",
       "    </tr>\n",
       "  </tbody>\n",
       "</table>\n",
       "<p>2075259 rows × 8 columns</p>\n",
       "</div>"
      ],
      "text/plain": [
       "                     Global_active_power  ...  sub_metering_4\n",
       "datetime                                  ...                \n",
       "2006-12-16 17:24:00                4.216  ...       52.266670\n",
       "2006-12-16 17:25:00                5.360  ...       72.333336\n",
       "2006-12-16 17:26:00                5.374  ...       70.566666\n",
       "2006-12-16 17:27:00                5.388  ...       71.800000\n",
       "2006-12-16 17:28:00                3.666  ...       43.100000\n",
       "...                                  ...  ...             ...\n",
       "2010-11-26 20:58:00                0.946  ...       15.766666\n",
       "2010-11-26 20:59:00                0.944  ...       15.733334\n",
       "2010-11-26 21:00:00                0.938  ...       15.633333\n",
       "2010-11-26 21:01:00                0.934  ...       15.566667\n",
       "2010-11-26 21:02:00                0.932  ...       15.533334\n",
       "\n",
       "[2075259 rows x 8 columns]"
      ]
     },
     "execution_count": 2,
     "metadata": {},
     "output_type": "execute_result"
    }
   ],
   "source": [
    "all_df"
   ]
  },
  {
   "cell_type": "code",
   "execution_count": 3,
   "metadata": {
    "colab": {
     "base_uri": "https://localhost:8080/"
    },
    "executionInfo": {
     "elapsed": 12,
     "status": "ok",
     "timestamp": 1638588691101,
     "user": {
      "displayName": "James Lee",
      "photoUrl": "https://lh3.googleusercontent.com/a/default-user=s64",
      "userId": "17665317456088603930"
     },
     "user_tz": -540
    },
    "id": "6OYLwK2ifW9C",
    "outputId": "bca86fcc-c156-4d33-bf45-1e55ffeeca29"
   },
   "outputs": [
    {
     "name": "stdout",
     "output_type": "stream",
     "text": [
      "(1442, 8)\n",
      "            Global_active_power  ...  sub_metering_4\n",
      "datetime                         ...                \n",
      "2006-12-16             1209.176  ...    14680.933319\n",
      "2006-12-17             3390.460  ...    36946.666732\n",
      "2006-12-18             2203.826  ...    19028.433281\n",
      "2006-12-19             1666.194  ...    13131.900043\n",
      "2006-12-20             2225.748  ...    20384.800011\n",
      "\n",
      "[5 rows x 8 columns]\n"
     ]
    }
   ],
   "source": [
    "daily_groups = all_df.resample('D')\n",
    "daily_data = daily_groups.sum()\n",
    "# summarize\n",
    "print(daily_data.shape)\n",
    "print(daily_data.head())"
   ]
  },
  {
   "cell_type": "code",
   "execution_count": 4,
   "metadata": {
    "colab": {
     "base_uri": "https://localhost:8080/",
     "height": 649
    },
    "executionInfo": {
     "elapsed": 10,
     "status": "ok",
     "timestamp": 1638588691102,
     "user": {
      "displayName": "James Lee",
      "photoUrl": "https://lh3.googleusercontent.com/a/default-user=s64",
      "userId": "17665317456088603930"
     },
     "user_tz": -540
    },
    "id": "AJTGlMOifuBB",
    "outputId": "e427b74d-93cf-4245-c689-0ed343ec8447"
   },
   "outputs": [
    {
     "data": {
      "text/html": [
       "<div>\n",
       "<style scoped>\n",
       "    .dataframe tbody tr th:only-of-type {\n",
       "        vertical-align: middle;\n",
       "    }\n",
       "\n",
       "    .dataframe tbody tr th {\n",
       "        vertical-align: top;\n",
       "    }\n",
       "\n",
       "    .dataframe thead th {\n",
       "        text-align: right;\n",
       "    }\n",
       "</style>\n",
       "<table border=\"1\" class=\"dataframe\">\n",
       "  <thead>\n",
       "    <tr style=\"text-align: right;\">\n",
       "      <th></th>\n",
       "      <th>Global_active_power</th>\n",
       "      <th>Global_reactive_power</th>\n",
       "      <th>Voltage</th>\n",
       "      <th>Global_intensity</th>\n",
       "      <th>Sub_metering_1</th>\n",
       "      <th>Sub_metering_2</th>\n",
       "      <th>Sub_metering_3</th>\n",
       "      <th>sub_metering_4</th>\n",
       "    </tr>\n",
       "    <tr>\n",
       "      <th>datetime</th>\n",
       "      <th></th>\n",
       "      <th></th>\n",
       "      <th></th>\n",
       "      <th></th>\n",
       "      <th></th>\n",
       "      <th></th>\n",
       "      <th></th>\n",
       "      <th></th>\n",
       "    </tr>\n",
       "  </thead>\n",
       "  <tbody>\n",
       "    <tr>\n",
       "      <th>2006-12-16</th>\n",
       "      <td>1209.176</td>\n",
       "      <td>34.922</td>\n",
       "      <td>93552.53</td>\n",
       "      <td>5180.8</td>\n",
       "      <td>0.0</td>\n",
       "      <td>546.0</td>\n",
       "      <td>4926.0</td>\n",
       "      <td>14680.933319</td>\n",
       "    </tr>\n",
       "    <tr>\n",
       "      <th>2006-12-17</th>\n",
       "      <td>3390.460</td>\n",
       "      <td>226.006</td>\n",
       "      <td>345725.32</td>\n",
       "      <td>14398.6</td>\n",
       "      <td>2033.0</td>\n",
       "      <td>4187.0</td>\n",
       "      <td>13341.0</td>\n",
       "      <td>36946.666732</td>\n",
       "    </tr>\n",
       "    <tr>\n",
       "      <th>2006-12-18</th>\n",
       "      <td>2203.826</td>\n",
       "      <td>161.792</td>\n",
       "      <td>347373.64</td>\n",
       "      <td>9247.2</td>\n",
       "      <td>1063.0</td>\n",
       "      <td>2621.0</td>\n",
       "      <td>14018.0</td>\n",
       "      <td>19028.433281</td>\n",
       "    </tr>\n",
       "    <tr>\n",
       "      <th>2006-12-19</th>\n",
       "      <td>1666.194</td>\n",
       "      <td>150.942</td>\n",
       "      <td>348479.01</td>\n",
       "      <td>7094.0</td>\n",
       "      <td>839.0</td>\n",
       "      <td>7602.0</td>\n",
       "      <td>6197.0</td>\n",
       "      <td>13131.900043</td>\n",
       "    </tr>\n",
       "    <tr>\n",
       "      <th>2006-12-20</th>\n",
       "      <td>2225.748</td>\n",
       "      <td>160.998</td>\n",
       "      <td>348923.61</td>\n",
       "      <td>9313.0</td>\n",
       "      <td>0.0</td>\n",
       "      <td>2648.0</td>\n",
       "      <td>14063.0</td>\n",
       "      <td>20384.800011</td>\n",
       "    </tr>\n",
       "    <tr>\n",
       "      <th>...</th>\n",
       "      <td>...</td>\n",
       "      <td>...</td>\n",
       "      <td>...</td>\n",
       "      <td>...</td>\n",
       "      <td>...</td>\n",
       "      <td>...</td>\n",
       "      <td>...</td>\n",
       "      <td>...</td>\n",
       "    </tr>\n",
       "    <tr>\n",
       "      <th>2010-11-22</th>\n",
       "      <td>2041.536</td>\n",
       "      <td>142.354</td>\n",
       "      <td>345883.85</td>\n",
       "      <td>8660.4</td>\n",
       "      <td>4855.0</td>\n",
       "      <td>2110.0</td>\n",
       "      <td>10136.0</td>\n",
       "      <td>16924.600023</td>\n",
       "    </tr>\n",
       "    <tr>\n",
       "      <th>2010-11-23</th>\n",
       "      <td>1577.536</td>\n",
       "      <td>137.450</td>\n",
       "      <td>346428.76</td>\n",
       "      <td>6731.2</td>\n",
       "      <td>1871.0</td>\n",
       "      <td>458.0</td>\n",
       "      <td>7611.0</td>\n",
       "      <td>16352.266679</td>\n",
       "    </tr>\n",
       "    <tr>\n",
       "      <th>2010-11-24</th>\n",
       "      <td>1796.248</td>\n",
       "      <td>132.460</td>\n",
       "      <td>345644.59</td>\n",
       "      <td>7559.4</td>\n",
       "      <td>1096.0</td>\n",
       "      <td>2848.0</td>\n",
       "      <td>12224.0</td>\n",
       "      <td>13769.466664</td>\n",
       "    </tr>\n",
       "    <tr>\n",
       "      <th>2010-11-25</th>\n",
       "      <td>1431.164</td>\n",
       "      <td>116.128</td>\n",
       "      <td>347812.21</td>\n",
       "      <td>6004.0</td>\n",
       "      <td>1076.0</td>\n",
       "      <td>426.0</td>\n",
       "      <td>5072.0</td>\n",
       "      <td>17278.733338</td>\n",
       "    </tr>\n",
       "    <tr>\n",
       "      <th>2010-11-26</th>\n",
       "      <td>1488.104</td>\n",
       "      <td>120.826</td>\n",
       "      <td>303487.57</td>\n",
       "      <td>6259.8</td>\n",
       "      <td>1080.0</td>\n",
       "      <td>385.0</td>\n",
       "      <td>9989.0</td>\n",
       "      <td>13347.733336</td>\n",
       "    </tr>\n",
       "  </tbody>\n",
       "</table>\n",
       "<p>1442 rows × 8 columns</p>\n",
       "</div>"
      ],
      "text/plain": [
       "            Global_active_power  ...  sub_metering_4\n",
       "datetime                         ...                \n",
       "2006-12-16             1209.176  ...    14680.933319\n",
       "2006-12-17             3390.460  ...    36946.666732\n",
       "2006-12-18             2203.826  ...    19028.433281\n",
       "2006-12-19             1666.194  ...    13131.900043\n",
       "2006-12-20             2225.748  ...    20384.800011\n",
       "...                         ...  ...             ...\n",
       "2010-11-22             2041.536  ...    16924.600023\n",
       "2010-11-23             1577.536  ...    16352.266679\n",
       "2010-11-24             1796.248  ...    13769.466664\n",
       "2010-11-25             1431.164  ...    17278.733338\n",
       "2010-11-26             1488.104  ...    13347.733336\n",
       "\n",
       "[1442 rows x 8 columns]"
      ]
     },
     "execution_count": 4,
     "metadata": {},
     "output_type": "execute_result"
    }
   ],
   "source": [
    "daily_data"
   ]
  },
  {
   "cell_type": "code",
   "execution_count": 5,
   "metadata": {
    "executionInfo": {
     "elapsed": 10,
     "status": "ok",
     "timestamp": 1638588691103,
     "user": {
      "displayName": "James Lee",
      "photoUrl": "https://lh3.googleusercontent.com/a/default-user=s64",
      "userId": "17665317456088603930"
     },
     "user_tz": -540
    },
    "id": "woW9fzR_gAoO"
   },
   "outputs": [],
   "source": [
    "dataset = daily_data"
   ]
  },
  {
   "cell_type": "markdown",
   "metadata": {
    "id": "IcPT2yg5wMl8"
   },
   "source": [
    "# Helper"
   ]
  },
  {
   "cell_type": "code",
   "execution_count": 6,
   "metadata": {
    "executionInfo": {
     "elapsed": 425,
     "status": "ok",
     "timestamp": 1638588691519,
     "user": {
      "displayName": "James Lee",
      "photoUrl": "https://lh3.googleusercontent.com/a/default-user=s64",
      "userId": "17665317456088603930"
     },
     "user_tz": -540
    },
    "id": "SS6-iZyea0Jj"
   },
   "outputs": [],
   "source": [
    "import numpy as np\n",
    "from numpy import split\n",
    "from numpy import array\n",
    "\n",
    "def split_dataset(data):\n",
    "\ttrain, test = data[1:-328], data[-328:-6]\n",
    "\n",
    "\ttrain = array(split(train, len(train)/7))\n",
    "\ttest = array(split(test, len(test)/7))\n",
    "\treturn train, test"
   ]
  },
  {
   "cell_type": "code",
   "execution_count": 7,
   "metadata": {
    "colab": {
     "base_uri": "https://localhost:8080/"
    },
    "executionInfo": {
     "elapsed": 6,
     "status": "ok",
     "timestamp": 1638588691519,
     "user": {
      "displayName": "James Lee",
      "photoUrl": "https://lh3.googleusercontent.com/a/default-user=s64",
      "userId": "17665317456088603930"
     },
     "user_tz": -540
    },
    "id": "YYiApjiJb8-P",
    "outputId": "3f2d4e92-5512-402f-a59d-f79b47a07243"
   },
   "outputs": [
    {
     "name": "stdout",
     "output_type": "stream",
     "text": [
      "(159, 7, 8)\n",
      "3390.46 1309.2679999999998\n",
      "(46, 7, 8)\n",
      "2083.4539999999984 2197.006000000004\n"
     ]
    }
   ],
   "source": [
    "train, test = split_dataset(dataset.values)\n",
    "# validate train data\n",
    "print(train.shape)\n",
    "print(train[0, 0, 0], train[-1, -1, 0])\n",
    "# validate test\n",
    "print(test.shape)\n",
    "print(test[0, 0, 0], test[-1, -1, 0])"
   ]
  },
  {
   "cell_type": "code",
   "execution_count": 8,
   "metadata": {
    "executionInfo": {
     "elapsed": 5,
     "status": "ok",
     "timestamp": 1638588691520,
     "user": {
      "displayName": "James Lee",
      "photoUrl": "https://lh3.googleusercontent.com/a/default-user=s64",
      "userId": "17665317456088603930"
     },
     "user_tz": -540
    },
    "id": "7I43jAirggTH"
   },
   "outputs": [],
   "source": [
    "from sklearn.metrics import mean_squared_error\n",
    "\n",
    "def evaluate_forecasts(actual, predicted):\n",
    "\tscores = list()\n",
    "\tfor i in range(actual.shape[1]):\n",
    "\t\tmse = mean_squared_error(actual[:, i], predicted[:, i])\n",
    "\t\trmse = sqrt(mse)\n",
    "\t\tscores.append(rmse)\n",
    "\ts = 0\n",
    "\tfor row in range(actual.shape[0]):\n",
    "\t\tfor col in range(actual.shape[1]):\n",
    "\t\t\ts += (actual[row, col] - predicted[row, col])**2\n",
    "\tscore = sqrt(s / (actual.shape[0] * actual.shape[1]))\n",
    "\treturn score, scores"
   ]
  },
  {
   "cell_type": "code",
   "execution_count": 9,
   "metadata": {
    "executionInfo": {
     "elapsed": 342,
     "status": "ok",
     "timestamp": 1638588691857,
     "user": {
      "displayName": "James Lee",
      "photoUrl": "https://lh3.googleusercontent.com/a/default-user=s64",
      "userId": "17665317456088603930"
     },
     "user_tz": -540
    },
    "id": "2g256P7cbSjb"
   },
   "outputs": [],
   "source": [
    "def evaluate_model(train, test, n_input):\n",
    "\tmodel = build_model(train, n_input)\n",
    "\thistory = [x for x in train]\n",
    "\tpredictions = list()\n",
    "\tfor i in range(len(test)):\n",
    "\t\tyhat_sequence = forecast(model, history, n_input)\n",
    "\t\tpredictions.append(yhat_sequence)\n",
    "\t\thistory.append(test[i, :])\n",
    "\tpredictions = array(predictions)\n",
    "\tscore, scores = evaluate_forecasts(test[:, :, 0], predictions)\n",
    "\treturn score, scores"
   ]
  },
  {
   "cell_type": "code",
   "execution_count": 10,
   "metadata": {
    "executionInfo": {
     "elapsed": 5,
     "status": "ok",
     "timestamp": 1638588691858,
     "user": {
      "displayName": "James Lee",
      "photoUrl": "https://lh3.googleusercontent.com/a/default-user=s64",
      "userId": "17665317456088603930"
     },
     "user_tz": -540
    },
    "id": "t4rvpwi7cwH1"
   },
   "outputs": [],
   "source": [
    "def summarize_scores(name, score, scores):\n",
    "\ts_scores = ', '.join(['%.1f' % s for s in scores])\n",
    "\tprint('%s: [%.3f] %s' % (name, score, s_scores))"
   ]
  },
  {
   "cell_type": "code",
   "execution_count": 11,
   "metadata": {
    "executionInfo": {
     "elapsed": 6,
     "status": "ok",
     "timestamp": 1638588691860,
     "user": {
      "displayName": "James Lee",
      "photoUrl": "https://lh3.googleusercontent.com/a/default-user=s64",
      "userId": "17665317456088603930"
     },
     "user_tz": -540
    },
    "id": "iR6DbPS0cIja"
   },
   "outputs": [],
   "source": [
    "def to_supervised(train, n_input, n_out=7):\n",
    "\tdata = train.reshape((train.shape[0]*train.shape[1], train.shape[2]))\n",
    "\tX, y = list(), list()\n",
    "\tin_start = 0\n",
    "\tfor _ in range(len(data)):\n",
    "\t\tin_end = in_start + n_input\n",
    "\t\tout_end = in_end + n_out\n",
    "\t\tif out_end <= len(data):\n",
    "\t\t\tx_input = data[in_start:in_end, 0]\n",
    "\t\t\tx_input = x_input.reshape((len(x_input), 1))\n",
    "\t\t\tX.append(x_input)\n",
    "\t\t\ty.append(data[in_end:out_end, 0])\n",
    "\t\tin_start += 1\n",
    "\treturn array(X), array(y)"
   ]
  },
  {
   "cell_type": "markdown",
   "metadata": {
    "id": "vMTDvqRdwQS5"
   },
   "source": [
    "# HELPER"
   ]
  },
  {
   "cell_type": "markdown",
   "metadata": {
    "id": "mKMny38_wUOU"
   },
   "source": [
    "## Seq2Seq 모델링 시작."
   ]
  },
  {
   "cell_type": "markdown",
   "metadata": {
    "id": "-2i_IqEQ2wOw"
   },
   "source": [
    "# LSTM 코드"
   ]
  },
  {
   "cell_type": "code",
   "execution_count": 12,
   "metadata": {
    "executionInfo": {
     "elapsed": 2319,
     "status": "ok",
     "timestamp": 1638588937727,
     "user": {
      "displayName": "James Lee",
      "photoUrl": "https://lh3.googleusercontent.com/a/default-user=s64",
      "userId": "17665317456088603930"
     },
     "user_tz": -540
    },
    "id": "3y5FYfD5gupR"
   },
   "outputs": [],
   "source": [
    "from keras.models import Sequential\n",
    "from keras.layers import Dense\n",
    "from keras.layers import Flatten\n",
    "from keras.layers import LSTM\n",
    "from keras.layers import RepeatVector\n",
    "from keras.layers import TimeDistributed\n",
    "\n",
    "def build_model(train, n_input):\n",
    "\ttrain_x, train_y = to_supervised(train, n_input)\n",
    "\tverbose, epochs, batch_size = 0, 20, 16\n",
    "\tn_timesteps, n_features, n_outputs = train_x.shape[1], train_x.shape[2], train_y.shape[1]\n",
    "\ttrain_y = train_y.reshape((train_y.shape[0], train_y.shape[1], 1))\n",
    "\t# 모델의 시작. => 순차적으로 입력이 들어가는 경우는 Sequential\n",
    "\tmodel = Sequential()\n",
    "  # LSTM => CNN-LSTM => 과제.\n",
    "\tmodel.add(LSTM(200, \n",
    "\t               activation='relu', \n",
    "\t\t\t\t\t\t\t\t  input_shape=(n_timesteps, n_features))\n",
    " ) # encoder state를 만듬.\n",
    "\tmodel.add(Dense(1024)) # <= encoder state. encoder state의 차원을 지정. \n",
    "\tmodel.add(RepeatVector(n_outputs)) # 앞에 레이어의 출력이 뒤에 레이어에 반복해서 입력으로 들어감.\n",
    "\tmodel.add(LSTM(200, activation='relu', return_sequences=True))\n",
    "\tmodel.add(TimeDistributed(Dense(100, activation='relu')))\n",
    "\tmodel.add(TimeDistributed(Dense(1)))\n",
    "\tmodel.compile(loss='mse', optimizer='adam')\n",
    "\tmodel.fit(train_x, train_y, epochs=epochs, batch_size=batch_size, verbose=verbose)\n",
    "\treturn model\n",
    " \n",
    "def forecast(model, history, n_input):\n",
    "\tdata = array(history)\n",
    "\tdata = data.reshape((data.shape[0]*data.shape[1], data.shape[2]))\n",
    "\tinput_x = data[-n_input:, 0]\n",
    "\tinput_x = input_x.reshape((1, len(input_x), 1))\n",
    "\tyhat = model.predict(input_x, verbose=0)\n",
    "\tyhat = yhat[0]\n",
    "\treturn yhat"
   ]
  },
  {
   "cell_type": "markdown",
   "metadata": {
    "id": "S-wwV81O23Qg"
   },
   "source": [
    "# CNN-LSTM"
   ]
  },
  {
   "cell_type": "code",
   "execution_count": null,
   "metadata": {
    "id": "G8-HLCbP2upg"
   },
   "outputs": [],
   "source": [
    "from keras.models import Sequential\n",
    "from keras.layers import Dense\n",
    "from keras.layers import Flatten\n",
    "from keras.layers import LSTM\n",
    "from keras.layers import RepeatVector\n",
    "from keras.layers import TimeDistributed\n",
    "from keras.layers import Dropout\n",
    "from keras.layers.convolutional import Conv1D\n",
    "from keras.layers.convolutional import MaxPooling1D\n",
    "\n",
    "\n",
    "def build_model(train, n_input):\n",
    "    train_x, train_y = to_supervised(train, n_input)\n",
    "    verbose, epochs, batch_size = 0, 20, 16\n",
    "    n_timesteps, n_features, n_outputs = train_x.shape[1], train_x.shape[2], train_y.shape[1]\n",
    "    train_y = train_y.reshape((train_y.shape[0], train_y.shape[1], 1))\n",
    "    \n",
    "    model = Sequential()\n",
    "\n",
    "                # conv => 요약된 정보의 차원:64, kernel_size=window 사이즈, 3 \n",
    "    model.add(Conv1D(filters=64, kernel_size=3, activation='relu',\n",
    "\t          input_shape=(n_timesteps, n_features)))\n",
    "                # conv => 64차원, window 3\n",
    "    model.add(Conv1D(filters=64, kernel_size=3, activation='relu')) # 1주까지 요약\n",
    "    model.add(MaxPooling1D(pool_size=2)) # 중요한 정보만 남김\n",
    "    model.add(Flatten())  # 펼침\n",
    "    model.add(RepeatVector(n_outputs)) # 펼친 벡터를 LSTM에다가 각각 입력으로 넣음.\n",
    "    model.add(LSTM(200, activation='relu', return_sequences=True))\n",
    "    model.add(Dropout(0.5))\n",
    "    model.add(LSTM(200, activation='relu')) # encoder state\n",
    "    model.add(RepeatVector(n_outputs))\n",
    "    model.add(LSTM(200, activation='relu', return_sequences=True))\n",
    "    model.add(TimeDistributed(Dense(100, activation='relu')))\n",
    "    model.add(TimeDistributed(Dense(1)))\n",
    "    model.compile(loss='mse', optimizer='adam')\n",
    "    model.fit(train_x, train_y, epochs=epochs, batch_size=batch_size, verbose=verbose)\n",
    "    return model\n",
    " \n",
    "def forecast(model, history, n_input):\n",
    "\tdata = array(history)\n",
    "\tdata = data.reshape((data.shape[0]*data.shape[1], data.shape[2]))\n",
    "\tinput_x = data[-n_input:, 0]\n",
    "\tinput_x = input_x.reshape((1, len(input_x), 1))\n",
    "\tyhat = model.predict(input_x, verbose=0)\n",
    "\tyhat = yhat[0]\n",
    "\treturn yhat"
   ]
  },
  {
   "cell_type": "markdown",
   "metadata": {
    "id": "a2Vh5JoJ20lR"
   },
   "source": [
    "# CNN-LSTM"
   ]
  },
  {
   "cell_type": "code",
   "execution_count": 13,
   "metadata": {
    "colab": {
     "base_uri": "https://localhost:8080/",
     "height": 284
    },
    "executionInfo": {
     "elapsed": 77104,
     "status": "ok",
     "timestamp": 1638589024232,
     "user": {
      "displayName": "James Lee",
      "photoUrl": "https://lh3.googleusercontent.com/a/default-user=s64",
      "userId": "17665317456088603930"
     },
     "user_tz": -540
    },
    "id": "Qj_9h2cjg4n-",
    "outputId": "d4156212-b2c8-4171-a0c2-77fde3374f53"
   },
   "outputs": [
    {
     "name": "stdout",
     "output_type": "stream",
     "text": [
      "lstm: [377.349] 384.1, 386.7, 341.4, 370.4, 385.6, 308.3, 449.7\n"
     ]
    },
    {
     "data": {
      "image/png": "[encoded data removed]",
      "text/plain": [
       "<Figure size 432x288 with 1 Axes>"
      ]
     },
     "metadata": {
      "needs_background": "light"
     },
     "output_type": "display_data"
    }
   ],
   "source": [
    "from math import sqrt\n",
    "import matplotlib.pyplot as plt\n",
    "\n",
    "n_input = 14\n",
    "score, scores = evaluate_model(train, test, n_input)\n",
    "# summarize scores\n",
    "summarize_scores('lstm', score, scores)\n",
    "# plot scores\n",
    "days = ['sun', 'mon', 'tue', 'wed', 'thr', 'fri', 'sat']\n",
    "plt.plot(days, scores, marker='o', label='lstm')\n",
    "plt.show()"
   ]
  },
  {
   "cell_type": "code",
   "execution_count": null,
   "metadata": {
    "colab": {
     "base_uri": "https://localhost:8080/",
     "height": 309
    },
    "executionInfo": {
     "elapsed": 840,
     "status": "ok",
     "timestamp": 1637285065603,
     "user": {
      "displayName": "James Lee",
      "photoUrl": "https://lh3.googleusercontent.com/a/default-user=s64",
      "userId": "17665317456088603930"
     },
     "user_tz": -540
    },
    "id": "f_Myia-UhYIT",
    "outputId": "d29bf5f7-6f1e-426e-c925-662a5a661386"
   },
   "outputs": [
    {
     "data": {
      "text/plain": [
       "<matplotlib.axes._subplots.AxesSubplot at 0x7fb6dda20c10>"
      ]
     },
     "execution_count": 15,
     "metadata": {},
     "output_type": "execute_result"
    },
    {
     "data": {
      "image/png": "[encoded data removed]",
      "text/plain": [
       "<Figure size 432x288 with 1 Axes>"
      ]
     },
     "metadata": {
      "needs_background": "light"
     },
     "output_type": "display_data"
    }
   ],
   "source": [
    "dataset['sub_metering_4'].plot()"
   ]
  },
  {
   "cell_type": "code",
   "execution_count": null,
   "metadata": {
    "id": "8aAMF7hEy2z_"
   },
   "outputs": [],
   "source": []
  }
 ],
 "metadata": {
  "colab": {
   "authorship_tag": "ABX9TyMe53RMR5V2+QrmiYQH5PNj",
   "mount_file_id": "1XsSzHDV9v0AbsM9OE08bJbDqwc23Q9I8",
   "name": "Seq2Seq.ipynb",
   "provenance": []
  },
  "kernelspec": {
   "display_name": "Python 3",
   "language": "python",
   "name": "python3"
  },
  "language_info": {
   "codemirror_mode": {
    "name": "ipython",
    "version": 3
   },
   "file_extension": ".py",
   "mimetype": "text/x-python",
   "name": "python",
   "nbconvert_exporter": "python",
   "pygments_lexer": "ipython3",
   "version": "3.7.7"
  },
  "toc": {
   "base_numbering": 1,
   "nav_menu": {},
   "number_sections": true,
   "sideBar": true,
   "skip_h1_title": false,
   "title_cell": "Table of Contents",
   "title_sidebar": "Contents",
   "toc_cell": false,
   "toc_position": {},
   "toc_section_display": true,
   "toc_window_display": false
  }
 },
 "nbformat": 4,
 "nbformat_minor": 1
}
