{
 "cells": [
  {
   "cell_type": "markdown",
   "metadata": {
    "toc": true
   },
   "source": [
    "<h1>Table of Contents<span class=\"tocSkip\"></span></h1>\n",
    "<div class=\"toc\"><ul class=\"toc-item\"></ul></div>"
   ]
  },
  {
   "cell_type": "code",
   "execution_count": 42,
   "metadata": {
    "ExecuteTime": {
     "end_time": "2022-02-06T08:03:44.719460Z",
     "start_time": "2022-02-06T08:03:44.704262Z"
    },
    "executionInfo": {
     "elapsed": 3452,
     "status": "ok",
     "timestamp": 1638589659726,
     "user": {
      "displayName": "James Lee",
      "photoUrl": "https://lh3.googleusercontent.com/a/default-user=s64",
      "userId": "17665317456088603930"
     },
     "user_tz": -540
    },
    "id": "T4VEc-1Ei3za"
   },
   "outputs": [],
   "source": [
    "import tensorflow_probability as tfp\n",
    "import pandas as pd\n",
    "from datetime import datetime, timedelta\n",
    "from numpy import array\n",
    "import matplotlib.pyplot as plt\n",
    "from sklearn.metrics import mean_squared_error\n",
    "from sklearn.feature_extraction.text import CountVectorizer, TfidfVectorizer\n",
    "from sklearn.model_selection import train_test_split, KFold, GroupKFold, LeaveOneOut, LeaveOneGroupOut\n",
    "from sklearn.preprocessing import OneHotEncoder, LabelEncoder, StandardScaler, MinMaxScaler, RobustScaler, Normalizer\n",
    "from sklearn.decomposition import PCA\n",
    "from sklearn.tree import DecisionTreeRegressor\n",
    "from sklearn.ensemble import RandomForestRegressor, GradientBoostingRegressor, AdaBoostRegressor\n",
    "import tensorflow as tf\n",
    "from tensorflow.keras import Input, Model, Sequential\n",
    "from tensorflow.keras.models import load_model\n",
    "from tensorflow.keras.layers import Layer, Dense, Flatten, Dropout, Concatenate, Add, Dot, Multiply, Reshape, Activation, BatchNormalization, SimpleRNNCell, RNN, SimpleRNN, LSTM, Embedding, Bidirectional, TimeDistributed, Conv1D, Conv2D, MaxPool1D, MaxPool2D, GlobalMaxPool1D, GlobalMaxPool2D, AveragePooling1D, AveragePooling2D, GlobalAveragePooling1D, GlobalAveragePooling2D, ZeroPadding2D, RepeatVector\n",
    "from tensorflow.keras.layers.experimental.preprocessing import Rescaling\n",
    "from tensorflow.keras.utils import to_categorical\n",
    "from tensorflow.keras.preprocessing import image_dataset_from_directory\n",
    "from tensorflow.keras.preprocessing.sequence import pad_sequences\n",
    "from tensorflow.keras.preprocessing.text import Tokenizer\n",
    "from tensorflow.keras.preprocessing.image import load_img, img_to_array, ImageDataGenerator\n",
    "from tensorflow.keras.optimizers import SGD, Adagrad, Adam\n",
    "from tensorflow.keras.metrics import MeanSquaredError, RootMeanSquaredError, MeanAbsoluteError, MeanAbsolutePercentageError, BinaryCrossentropy, CategoricalCrossentropy, SparseCategoricalCrossentropy, CosineSimilarity\n",
    "from tensorflow.keras.callbacks import EarlyStopping, ModelCheckpoint\n",
    "from tensorflow.keras.activations import linear, sigmoid, relu\n",
    "from tensorflow.keras.initializers import RandomNormal, glorot_uniform, he_uniform, Constant"
   ]
  },
  {
   "cell_type": "code",
   "execution_count": 3,
   "metadata": {
    "ExecuteTime": {
     "end_time": "2022-02-06T06:40:25.912420Z",
     "start_time": "2022-02-06T06:40:25.856406Z"
    },
    "executionInfo": {
     "elapsed": 1456,
     "status": "ok",
     "timestamp": 1638589666872,
     "user": {
      "displayName": "James Lee",
      "photoUrl": "https://lh3.googleusercontent.com/a/default-user=s64",
      "userId": "17665317456088603930"
     },
     "user_tz": -540
    },
    "id": "mro7BoppojRj"
   },
   "outputs": [],
   "source": [
    "data = pd.read_csv(\"./Datasets/Ethereum/ETH_USD.csv\", skiprows=1, parse_dates=[\"Date\"], index_col=\"Date\")\n",
    "\n",
    "data = data.drop([\"Symbol\",\"Unix Timestamp\"] , axis=1)\n",
    "data = data.sort_index()"
   ]
  },
  {
   "cell_type": "code",
   "execution_count": 6,
   "metadata": {
    "ExecuteTime": {
     "end_time": "2022-02-06T06:40:50.240079Z",
     "start_time": "2022-02-06T06:40:49.940979Z"
    }
   },
   "outputs": [
    {
     "data": {
      "image/png": "[encoded data removed]",
      "text/plain": [
       "<Figure size 432x288 with 1 Axes>"
      ]
     },
     "metadata": {
      "needs_background": "light"
     },
     "output_type": "display_data"
    }
   ],
   "source": [
    "test_size = 360\n",
    "cutoff = data.index.max() - timedelta(days=test_size)\n",
    "data_tr, data_te = train_test_split(data[\"Close\"], test_size=test_size, shuffle=False)\n",
    "\n",
    "data[\"Close\"].plot.line();\n",
    "plt.axvline(x=cutoff, c=\"red\", ls=\"--\");"
   ]
  },
  {
   "cell_type": "code",
   "execution_count": 19,
   "metadata": {
    "ExecuteTime": {
     "end_time": "2022-02-06T06:49:53.882536Z",
     "start_time": "2022-02-06T06:49:53.872963Z"
    },
    "executionInfo": {
     "elapsed": 1456,
     "status": "ok",
     "timestamp": 1638589666872,
     "user": {
      "displayName": "James Lee",
      "photoUrl": "https://lh3.googleusercontent.com/a/default-user=s64",
      "userId": "17665317456088603930"
     },
     "user_tz": -540
    },
    "id": "mro7BoppojRj"
   },
   "outputs": [],
   "source": [
    "# Feature Scaling\n",
    "mean_tr = data_tr.mean()\n",
    "std_tr = data_tr.std()\n",
    "tr_sc = (data_tr - mean_tr)/std_tr\n",
    "\n",
    "mean_te = data_te.mean()\n",
    "std_te = data_te.std()\n",
    "te_sc = (data_te - mean_te)/std_te"
   ]
  },
  {
   "cell_type": "code",
   "execution_count": 23,
   "metadata": {
    "ExecuteTime": {
     "end_time": "2022-02-06T06:53:38.304170Z",
     "start_time": "2022-02-06T06:53:38.096289Z"
    },
    "executionInfo": {
     "elapsed": 1456,
     "status": "ok",
     "timestamp": 1638589666872,
     "user": {
      "displayName": "James Lee",
      "photoUrl": "https://lh3.googleusercontent.com/a/default-user=s64",
      "userId": "17665317456088603930"
     },
     "user_tz": -540
    },
    "id": "mro7BoppojRj"
   },
   "outputs": [],
   "source": [
    "def blocked_cv(data, window_size, h):\n",
    "    X = list()\n",
    "    y = list()\n",
    "    for i in range(len(data) - window_size - h + 1):\n",
    "        X.append(data[i:i + window_size])\n",
    "        y.append(data[i + window_size:i + window_size + h])\n",
    "    return np.array(X), np.array(y)\n",
    "\n",
    "window_size = 30\n",
    "h = 1\n",
    "tr_X, tr_y = blocked_cv(tr_sc, window_size, h)\n",
    "tr_X = tr_X[:, :, None]\n",
    "tr_y = tr_y[:, :, None]\n",
    "\n",
    "te_X, te_y = blocked_cv(te_sc, window_size, h)\n",
    "te_X = te_X[:, :, None]"
   ]
  },
  {
   "cell_type": "code",
   "execution_count": 40,
   "metadata": {
    "ExecuteTime": {
     "end_time": "2022-02-06T07:55:58.275523Z",
     "start_time": "2022-02-06T07:55:58.235680Z"
    }
   },
   "outputs": [
    {
     "data": {
      "text/plain": [
       "[<tf.Variable 'lstm_4/lstm_cell_4/kernel:0' shape=(1, 4096) dtype=float32, numpy=\n",
       " array([[-8.9757368e-03, -2.1365611e-02, -8.3856285e-06, ...,\n",
       "          1.9299492e-02, -5.8147535e-03,  1.1391155e-03]], dtype=float32)>,\n",
       " <tf.Variable 'lstm_4/lstm_cell_4/recurrent_kernel:0' shape=(1024, 4096) dtype=float32, numpy=\n",
       " array([[ 0.00893688,  0.03041932,  0.01529908, ...,  0.00081145,\n",
       "          0.00966654,  0.01147404],\n",
       "        [-0.00057603,  0.00819707, -0.01155975, ..., -0.0026508 ,\n",
       "         -0.0099264 , -0.01909453],\n",
       "        [-0.00329547, -0.01358908, -0.0010165 , ..., -0.01160807,\n",
       "         -0.00281111,  0.01986706],\n",
       "        ...,\n",
       "        [-0.00333851, -0.00282354,  0.01140914, ..., -0.00093225,\n",
       "         -0.00766307,  0.01010309],\n",
       "        [-0.00089017,  0.01303386,  0.0346087 , ...,  0.00853994,\n",
       "          0.00677585, -0.00944795],\n",
       "        [ 0.01203952,  0.00507393, -0.02629428, ...,  0.01298906,\n",
       "          0.03399539, -0.00816256]], dtype=float32)>,\n",
       " <tf.Variable 'lstm_4/lstm_cell_4/bias:0' shape=(4096,) dtype=float32, numpy=array([0., 0., 0., ..., 0., 0., 0.], dtype=float32)>,\n",
       " <tf.Variable 'lstm_5/lstm_cell_5/kernel:0' shape=(1024, 4096) dtype=float32, numpy=\n",
       " array([[ 0.02962748, -0.01737235,  0.00253067, ...,  0.003384  ,\n",
       "          0.00447394, -0.01161434],\n",
       "        [ 0.00218434,  0.02861426,  0.03401358, ...,  0.02939682,\n",
       "          0.0178384 ,  0.00194575],\n",
       "        [-0.01036503,  0.03224624,  0.02888852, ..., -0.02700522,\n",
       "         -0.01066558, -0.00927298],\n",
       "        ...,\n",
       "        [ 0.01533462, -0.00736503, -0.00325458, ..., -0.00474529,\n",
       "         -0.031402  , -0.01740356],\n",
       "        [ 0.0340641 , -0.01301894, -0.01086835, ...,  0.00749376,\n",
       "         -0.01967434,  0.0034671 ],\n",
       "        [-0.03410347, -0.03394275,  0.01645474, ..., -0.01851412,\n",
       "          0.00761059, -0.02439922]], dtype=float32)>,\n",
       " <tf.Variable 'lstm_5/lstm_cell_5/recurrent_kernel:0' shape=(1024, 4096) dtype=float32, numpy=\n",
       " array([[ 0.01224279,  0.00017554,  0.00586826, ..., -0.01042738,\n",
       "         -0.00761426, -0.01662828],\n",
       "        [-0.00676631,  0.01448536, -0.01157983, ..., -0.01144895,\n",
       "          0.00661085,  0.00623839],\n",
       "        [ 0.00151258, -0.01240939,  0.00175154, ...,  0.00349415,\n",
       "          0.00022663,  0.01396794],\n",
       "        ...,\n",
       "        [ 0.00805934,  0.01677792,  0.01265893, ..., -0.00395621,\n",
       "          0.00802026, -0.01065734],\n",
       "        [-0.043436  ,  0.00557576,  0.00579073, ..., -0.00896951,\n",
       "          0.01211423, -0.0121896 ],\n",
       "        [-0.01415939, -0.00744781, -0.00304957, ..., -0.00334611,\n",
       "         -0.00373506,  0.00192287]], dtype=float32)>,\n",
       " <tf.Variable 'lstm_5/lstm_cell_5/bias:0' shape=(4096,) dtype=float32, numpy=array([0., 0., 0., ..., 0., 0., 0.], dtype=float32)>,\n",
       " <tf.Variable 'lstm_6/lstm_cell_6/kernel:0' shape=(1024, 4096) dtype=float32, numpy=\n",
       " array([[-0.0017555 , -0.00466499,  0.02966769, ...,  0.02953739,\n",
       "          0.00886331, -0.02246399],\n",
       "        [ 0.02209868,  0.02403509, -0.02934621, ...,  0.0328891 ,\n",
       "          0.01842034,  0.00491223],\n",
       "        [ 0.00279955, -0.02407532,  0.02127515, ..., -0.02310708,\n",
       "         -0.00200839, -0.00384785],\n",
       "        ...,\n",
       "        [ 0.0258242 ,  0.02911621, -0.01648514, ...,  0.00759805,\n",
       "          0.02696377, -0.01481671],\n",
       "        [ 0.01632454, -0.0250659 ,  0.00398084, ..., -0.02648982,\n",
       "         -0.00054013, -0.00102144],\n",
       "        [-0.00547736,  0.03033195, -0.02228289, ...,  0.02652559,\n",
       "          0.00829403,  0.02442663]], dtype=float32)>,\n",
       " <tf.Variable 'lstm_6/lstm_cell_6/recurrent_kernel:0' shape=(1024, 4096) dtype=float32, numpy=\n",
       " array([[ 0.02593112, -0.01631686, -0.01300292, ..., -0.00197742,\n",
       "          0.01714916,  0.00113283],\n",
       "        [ 0.00902846,  0.01608729,  0.0079425 , ...,  0.01111302,\n",
       "         -0.00732126,  0.01594409],\n",
       "        [-0.00238152,  0.01850439, -0.02998865, ..., -0.00835891,\n",
       "         -0.00177518, -0.01559476],\n",
       "        ...,\n",
       "        [ 0.01910006,  0.02722739, -0.00845383, ..., -0.0018448 ,\n",
       "         -0.00042653,  0.01082249],\n",
       "        [-0.00695445,  0.02122062,  0.00076108, ...,  0.00755468,\n",
       "         -0.01543843,  0.00476643],\n",
       "        [ 0.00063068,  0.01276369,  0.00544819, ..., -0.01125023,\n",
       "          0.02016494, -0.01572214]], dtype=float32)>,\n",
       " <tf.Variable 'lstm_6/lstm_cell_6/bias:0' shape=(4096,) dtype=float32, numpy=array([0., 0., 0., ..., 0., 0., 0.], dtype=float32)>,\n",
       " <tf.Variable 'lstm_7/lstm_cell_7/kernel:0' shape=(1024, 4096) dtype=float32, numpy=\n",
       " array([[-0.02228513,  0.00791709,  0.02607388, ...,  0.01296918,\n",
       "          0.01559068,  0.03210035],\n",
       "        [ 0.02856648, -0.02076435,  0.01642135, ..., -0.0268899 ,\n",
       "          0.01935194, -0.00837613],\n",
       "        [ 0.03334913,  0.03018848,  0.00693818, ..., -0.02787909,\n",
       "          0.01157293,  0.01213133],\n",
       "        ...,\n",
       "        [ 0.01007581, -0.01968306, -0.01331113, ..., -0.00420608,\n",
       "         -0.0075497 , -0.00734988],\n",
       "        [-0.03306264, -0.01874797,  0.03298578, ...,  0.00698496,\n",
       "          0.00890928,  0.01216346],\n",
       "        [ 0.02043805,  0.02208176, -0.00557668, ...,  0.02653503,\n",
       "          0.00800705, -0.02035111]], dtype=float32)>,\n",
       " <tf.Variable 'lstm_7/lstm_cell_7/recurrent_kernel:0' shape=(1024, 4096) dtype=float32, numpy=\n",
       " array([[ 0.01419723,  0.0123023 , -0.00146128, ..., -0.00492608,\n",
       "          0.00076914, -0.00377199],\n",
       "        [-0.00377164, -0.00518513, -0.01108475, ..., -0.0166306 ,\n",
       "          0.00829513,  0.00047431],\n",
       "        [-0.02470305, -0.02360738, -0.0043205 , ...,  0.01201215,\n",
       "         -0.01104375, -0.00403311],\n",
       "        ...,\n",
       "        [-0.02685033,  0.00547519,  0.00685583, ...,  0.01555485,\n",
       "         -0.02303945, -0.00203981],\n",
       "        [ 0.01395615, -0.00350788, -0.02165283, ..., -0.02466726,\n",
       "         -0.00524889,  0.00918935],\n",
       "        [ 0.02051068, -0.01769603, -0.01837108, ...,  0.00250632,\n",
       "         -0.0086601 ,  0.00012525]], dtype=float32)>,\n",
       " <tf.Variable 'lstm_7/lstm_cell_7/bias:0' shape=(4096,) dtype=float32, numpy=array([0., 0., 0., ..., 0., 0., 0.], dtype=float32)>,\n",
       " <tf.Variable 'dense_2/kernel:0' shape=(1024, 1) dtype=float32, numpy=\n",
       " array([[-0.01607542],\n",
       "        [ 0.02303044],\n",
       "        [ 0.06229626],\n",
       "        ...,\n",
       "        [-0.02089626],\n",
       "        [-0.04311014],\n",
       "        [ 0.05449124]], dtype=float32)>,\n",
       " <tf.Variable 'dense_2/bias:0' shape=(1,) dtype=float32, numpy=array([0.], dtype=float32)>,\n",
       " <tf.Variable 'dense_3/kernel:0' shape=(1024, 1) dtype=float32, numpy=\n",
       " array([[ 0.00260567],\n",
       "        [-0.05265393],\n",
       "        [-0.03464022],\n",
       "        ...,\n",
       "        [-0.05022759],\n",
       "        [ 0.06634773],\n",
       "        [-0.01011811]], dtype=float32)>,\n",
       " <tf.Variable 'dense_3/bias:0' shape=(1,) dtype=float32, numpy=array([0.], dtype=float32)>]"
      ]
     },
     "execution_count": 40,
     "metadata": {},
     "output_type": "execute_result"
    }
   ],
   "source": [
    "# model.summary()\n",
    "model.trainable_variables"
   ]
  },
  {
   "cell_type": "code",
   "execution_count": 43,
   "metadata": {
    "ExecuteTime": {
     "end_time": "2022-02-06T08:12:19.991283Z",
     "start_time": "2022-02-06T08:11:19.659584Z"
    },
    "colab": {
     "base_uri": "https://localhost:8080/"
    },
    "executionInfo": {
     "elapsed": 385175,
     "status": "ok",
     "timestamp": 1638590115473,
     "user": {
      "displayName": "James Lee",
      "photoUrl": "https://lh3.googleusercontent.com/a/default-user=s64",
      "userId": "17665317456088603930"
     },
     "user_tz": -540
    },
    "id": "zcN0VUAvjAai",
    "outputId": "3cf9fbaa-e324-4692-d4c7-4df9a1ee7e06"
   },
   "outputs": [
    {
     "name": "stderr",
     "output_type": "stream",
     "text": [
      "ERROR:root:Internal Python error in the inspect module.\n",
      "Below is the traceback from this internal error.\n",
      "\n"
     ]
    },
    {
     "name": "stdout",
     "output_type": "stream",
     "text": [
      "Traceback (most recent call last):\n"
     ]
    },
    {
     "name": "stderr",
     "output_type": "stream",
     "text": [
      "\n",
      "KeyboardInterrupt\n",
      "\n"
     ]
    }
   ],
   "source": [
    "def log_gaussian_loss(mu, sigma, y):\n",
    "    return -tf.reduce_sum(tfp.distributions.Normal(loc=mu, scale=sigma).log_prob(y))\n",
    "\n",
    "lstm_units = 1024\n",
    "epochs = 10000\n",
    "\n",
    "optimizer = Adam()\n",
    "metrics = RootMeanSquaredError()\n",
    "for epoch in range(1, epochs + 1):\n",
    "    with tf.GradientTape() as tape:\n",
    "        inputs = Input(shape=(window_size, 1))\n",
    "\n",
    "        z, _, _ = LSTM(units=lstm_units, return_sequences=True, return_state=True)(inputs, initial_state=None)\n",
    "        z, _, _ = LSTM(units=lstm_units, return_sequences=True, return_state=True)(z)\n",
    "        z, _, _ = LSTM(units=lstm_units, return_sequences=True, return_state=True)(z)\n",
    "        z, _, _ = LSTM(units=lstm_units, return_sequences=True, return_state=True)(z)\n",
    "\n",
    "        outputs = [Dense(units=1)(z), Dense(units=1, activation=\"softplus\")(z)]\n",
    "\n",
    "        model = Model(inputs=inputs, outputs=outputs)\n",
    "        \n",
    "        mu, sigma = model(tr_X)\n",
    "        loss = log_gaussian_loss(mu, sigma, tr_y)\n",
    "    grads = tape.gradient(loss, model.trainable_variables)\n",
    "    optimizer.apply_gradients(zip(grads, model.trainable_variables))\n",
    "    metrics(tr_y, mu)\n",
    "    \n",
    "    print(\"Epoch %d, metrics %.4f\" % (epoch, metrics.result().numpy()))\n",
    "    metrics.reset_states()"
   ]
  },
  {
   "cell_type": "code",
   "execution_count": null,
   "metadata": {
    "id": "FC9GQWWQkKId"
   },
   "outputs": [],
   "source": [
    "# 샘플링된 값들을 예측값으로 반환.\n",
    "pred = model.predict(test_X)"
   ]
  },
  {
   "cell_type": "code",
   "execution_count": null,
   "metadata": {
    "colab": {
     "base_uri": "https://localhost:8080/"
    },
    "executionInfo": {
     "elapsed": 13,
     "status": "ok",
     "timestamp": 1637290435668,
     "user": {
      "displayName": "James Lee",
      "photoUrl": "https://lh3.googleusercontent.com/a/default-user=s64",
      "userId": "17665317456088603930"
     },
     "user_tz": -540
    },
    "id": "1vsooS_FSPUa",
    "outputId": "32233c7e-6a37-48f0-e02b-7f86be28b402"
   },
   "outputs": [
    {
     "data": {
      "text/plain": [
       "(60, 30, 1)"
      ]
     },
     "execution_count": 19,
     "metadata": {},
     "output_type": "execute_result"
    }
   ],
   "source": [
    "pred[0].shape\n",
    "\n",
    "# median => 실제 예측값.\n",
    "# 5% 퍼센타일 => lower bound\n",
    "# 95% 퍼센타일 => upper bound"
   ]
  },
  {
   "cell_type": "code",
   "execution_count": null,
   "metadata": {
    "colab": {
     "base_uri": "https://localhost:8080/"
    },
    "executionInfo": {
     "elapsed": 10,
     "status": "ok",
     "timestamp": 1637290435668,
     "user": {
      "displayName": "James Lee",
      "photoUrl": "https://lh3.googleusercontent.com/a/default-user=s64",
      "userId": "17665317456088603930"
     },
     "user_tz": -540
    },
    "id": "YkVM1b9nry45",
    "outputId": "1a4f6adc-9b29-41bb-9956-fece72440614"
   },
   "outputs": [
    {
     "data": {
      "text/plain": [
       "(60, 1)"
      ]
     },
     "execution_count": 20,
     "metadata": {},
     "output_type": "execute_result"
    }
   ],
   "source": [
    "test_y.shape # 라벨의 shape"
   ]
  },
  {
   "cell_type": "code",
   "execution_count": null,
   "metadata": {
    "id": "O48vZJy1ruNw"
   },
   "outputs": [],
   "source": [
    "import numpy as np\n",
    "lower_bound = []\n",
    "upper_bound = []\n",
    "median = []\n",
    "for step_pred in pred[0]:\n",
    "                           # 정규화된 값을 원래대로.\n",
    "    lb = (np.quantile(step_pred, 0.05) + mean_te) * std_te\n",
    "    ub = (np.quantile(step_pred, 0.95) + mean_te) * std_te\n",
    "    med = (np.quantile(step_pred, 0.5) + mean_te) * std_te\n",
    "    lower_bound.append(lb)\n",
    "    upper_bound.append(ub)\n",
    "    median.append(med)"
   ]
  },
  {
   "cell_type": "code",
   "execution_count": null,
   "metadata": {
    "colab": {
     "base_uri": "https://localhost:8080/",
     "height": 332
    },
    "executionInfo": {
     "elapsed": 1022,
     "status": "ok",
     "timestamp": 1637290436686,
     "user": {
      "displayName": "James Lee",
      "photoUrl": "https://lh3.googleusercontent.com/a/default-user=s64",
      "userId": "17665317456088603930"
     },
     "user_tz": -540
    },
    "id": "H_t45YvTEVxc",
    "outputId": "a46cd714-df0d-4d21-ef90-d4a0cd09119d"
   },
   "outputs": [
    {
     "data": {
      "text/plain": [
       "<matplotlib.axes._subplots.AxesSubplot at 0x7f518b675050>"
      ]
     },
     "execution_count": 24,
     "metadata": {},
     "output_type": "execute_result"
    },
    {
     "data": {
      "image/png": "[encoded data removed]",
      "text/plain": [
       "<Figure size 432x288 with 1 Axes>"
      ]
     },
     "metadata": {
      "needs_background": "light"
     },
     "output_type": "display_data"
    }
   ],
   "source": [
    "data_te.plot()"
   ]
  },
  {
   "cell_type": "code",
   "execution_count": null,
   "metadata": {
    "id": "gS7uZNLES-0_"
   },
   "outputs": [],
   "source": []
  },
  {
   "cell_type": "code",
   "execution_count": null,
   "metadata": {
    "colab": {
     "base_uri": "https://localhost:8080/"
    },
    "executionInfo": {
     "elapsed": 10,
     "status": "ok",
     "timestamp": 1637290436689,
     "user": {
      "displayName": "James Lee",
      "photoUrl": "https://lh3.googleusercontent.com/a/default-user=s64",
      "userId": "17665317456088603930"
     },
     "user_tz": -540
    },
    "id": "zzQnZcYdXcAZ",
    "outputId": "8ac2ea91-b39a-4599-ac39-aaa2c55d7b2b"
   },
   "outputs": [
    {
     "data": {
      "text/plain": [
       "Timestamp('2020-08-22 00:00:00')"
      ]
     },
     "execution_count": 27,
     "metadata": {},
     "output_type": "execute_result"
    }
   ],
   "source": [
    "test_cutoff_date"
   ]
  },
  {
   "cell_type": "code",
   "execution_count": null,
   "metadata": {
    "colab": {
     "base_uri": "https://localhost:8080/",
     "height": 406
    },
    "executionInfo": {
     "elapsed": 574,
     "status": "ok",
     "timestamp": 1637290437255,
     "user": {
      "displayName": "James Lee",
      "photoUrl": "https://lh3.googleusercontent.com/a/default-user=s64",
      "userId": "17665317456088603930"
     },
     "user_tz": -540
    },
    "id": "Q9DZD8xzWMUi",
    "outputId": "77c116e3-34ab-49b1-a2d7-58311ed616cb"
   },
   "outputs": [
    {
     "data": {
      "text/plain": [
       "<matplotlib.legend.Legend at 0x7f518b9c8510>"
      ]
     },
     "execution_count": 28,
     "metadata": {},
     "output_type": "execute_result"
    },
    {
     "data": {
      "image/png": "[encoded data removed]",
      "text/plain": [
       "<Figure size 864x432 with 1 Axes>"
      ]
     },
     "metadata": {
      "needs_background": "light"
     },
     "output_type": "display_data"
    }
   ],
   "source": [
    "fig = plt.figure(figsize = (12,6))\n",
    "ax = fig.add_subplot(111)\n",
    "\n",
    "\n",
    "data['Close'].plot(ax=ax)\n",
    "ax.vlines('2020-08-22', 0, 1000, linestyle='--', color='r', label='forecast boundary')\n",
    "ax.fill_between(data_te[30:].index, lower_bound, upper_bound, color='b', alpha=0.1, label='95% Confidence Interval')\n",
    "ax.plot(data_te[30:].index, median, label='Prediction')\n",
    "ax.legend(loc='upper left')\n",
    "# plt.suptitle(f\"ARIMA {optimal[0][0]} Prediction Result (r2 score: {r2}\")\n",
    "# plt.show()"
   ]
  },
  {
   "cell_type": "code",
   "execution_count": null,
   "metadata": {
    "colab": {
     "base_uri": "https://localhost:8080/"
    },
    "executionInfo": {
     "elapsed": 335,
     "status": "ok",
     "timestamp": 1628308309083,
     "user": {
      "displayName": "James Lee",
      "photoUrl": "",
      "userId": "17665317456088603930"
     },
     "user_tz": -540
    },
    "id": "0zQjxQjwXtIS",
    "outputId": "bc963ffd-e890-4b58-c786-881a59dd5071"
   },
   "outputs": [
    {
     "name": "stdout",
     "output_type": "stream",
     "text": [
      "Sat Aug  7 03:51:48 2021       \n",
      "+-----------------------------------------------------------------------------+\n",
      "| NVIDIA-SMI 470.42.01    Driver Version: 460.32.03    CUDA Version: 11.2     |\n",
      "|-------------------------------+----------------------+----------------------+\n",
      "| GPU  Name        Persistence-M| Bus-Id        Disp.A | Volatile Uncorr. ECC |\n",
      "| Fan  Temp  Perf  Pwr:Usage/Cap|         Memory-Usage | GPU-Util  Compute M. |\n",
      "|                               |                      |               MIG M. |\n",
      "|===============================+======================+======================|\n",
      "|   0  Tesla T4            Off  | 00000000:00:04.0 Off |                    0 |\n",
      "| N/A   61C    P8    11W /  70W |      0MiB / 15109MiB |      0%      Default |\n",
      "|                               |                      |                  N/A |\n",
      "+-------------------------------+----------------------+----------------------+\n",
      "                                                                               \n",
      "+-----------------------------------------------------------------------------+\n",
      "| Processes:                                                                  |\n",
      "|  GPU   GI   CI        PID   Type   Process name                  GPU Memory |\n",
      "|        ID   ID                                                   Usage      |\n",
      "|=============================================================================|\n",
      "|  No running processes found                                                 |\n",
      "+-----------------------------------------------------------------------------+\n"
     ]
    }
   ],
   "source": [
    "!nvidia-smi"
   ]
  },
  {
   "cell_type": "markdown",
   "metadata": {
    "id": "YvvGYRXYvMEr"
   },
   "source": []
  }
 ],
 "metadata": {
  "accelerator": "GPU",
  "colab": {
   "authorship_tag": "ABX9TyPQESNI28HTFdmYAcCVgtzu",
   "collapsed_sections": [],
   "mount_file_id": "1fh4WRtomtCTKsExcCXwtCFK3NN13R75e",
   "name": "DeepAR.ipynb",
   "provenance": []
  },
  "hide_input": false,
  "kernelspec": {
   "display_name": "Python 3",
   "language": "python",
   "name": "python3"
  },
  "language_info": {
   "codemirror_mode": {
    "name": "ipython",
    "version": 3
   },
   "file_extension": ".py",
   "mimetype": "text/x-python",
   "name": "python",
   "nbconvert_exporter": "python",
   "pygments_lexer": "ipython3",
   "version": "3.8.5"
  },
  "toc": {
   "base_numbering": 1,
   "nav_menu": {},
   "number_sections": true,
   "sideBar": true,
   "skip_h1_title": false,
   "title_cell": "Table of Contents",
   "title_sidebar": "Contents",
   "toc_cell": true,
   "toc_position": {},
   "toc_section_display": true,
   "toc_window_display": false
  },
  "varInspector": {
   "cols": {
    "lenName": 16,
    "lenType": 16,
    "lenVar": 40
   },
   "kernels_config": {
    "python": {
     "delete_cmd_postfix": "",
     "delete_cmd_prefix": "del ",
     "library": "var_list.py",
     "varRefreshCmd": "print(var_dic_list())"
    },
    "r": {
     "delete_cmd_postfix": ") ",
     "delete_cmd_prefix": "rm(",
     "library": "var_list.r",
     "varRefreshCmd": "cat(var_dic_list()) "
    }
   },
   "types_to_exclude": [
    "module",
    "function",
    "builtin_function_or_method",
    "instance",
    "_Feature"
   ],
   "window_display": false
  }
 },
 "nbformat": 4,
 "nbformat_minor": 1
}
