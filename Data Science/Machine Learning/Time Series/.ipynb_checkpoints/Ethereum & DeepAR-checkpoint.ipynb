{
 "cells": [
  {
   "cell_type": "code",
   "execution_count": 1,
   "metadata": {
    "ExecuteTime": {
     "end_time": "2022-02-05T02:39:39.490523Z",
     "start_time": "2022-02-05T02:39:35.414463Z"
    },
    "executionInfo": {
     "elapsed": 3452,
     "status": "ok",
     "timestamp": 1638589659726,
     "user": {
      "displayName": "James Lee",
      "photoUrl": "https://lh3.googleusercontent.com/a/default-user=s64",
      "userId": "17665317456088603930"
     },
     "user_tz": -540
    },
    "id": "T4VEc-1Ei3za"
   },
   "outputs": [],
   "source": [
    "# import tensorflow_probability as tfp\n",
    "import pandas as pd\n",
    "from datetime import datetime, timedelta\n",
    "from numpy import array\n",
    "import matplotlib.pyplot as plt\n",
    "import tensorflow as tf\n",
    "from tensorflow.keras import Input, Model, Sequential\n",
    "from tensorflow.keras.models import load_model\n",
    "from tensorflow.keras.layers import Layer, Dense, Flatten, Dropout, Concatenate, Add, Dot, Multiply, Reshape, Activation, BatchNormalization, SimpleRNNCell, RNN, SimpleRNN, LSTM, Embedding, Bidirectional, TimeDistributed, Conv1D, Conv2D, MaxPool1D, MaxPool2D, GlobalMaxPool1D, GlobalMaxPool2D, AveragePooling1D, AveragePooling2D, GlobalAveragePooling1D, GlobalAveragePooling2D, ZeroPadding2D, RepeatVector\n",
    "from tensorflow.keras.layers.experimental.preprocessing import Rescaling\n",
    "from tensorflow.keras.utils import to_categorical\n",
    "from tensorflow.keras.preprocessing import image_dataset_from_directory\n",
    "from tensorflow.keras.preprocessing.sequence import pad_sequences\n",
    "from tensorflow.keras.preprocessing.text import Tokenizer\n",
    "from tensorflow.keras.preprocessing.image import load_img, img_to_array, ImageDataGenerator\n",
    "from tensorflow.keras.optimizers import SGD, Adam, Adagrad\n",
    "from tensorflow.keras.metrics import MeanSquaredError, RootMeanSquaredError, MeanAbsoluteError, MeanAbsolutePercentageError, BinaryCrossentropy, CategoricalCrossentropy, SparseCategoricalCrossentropy, CosineSimilarity\n",
    "from tensorflow.keras.callbacks import EarlyStopping, ModelCheckpoint\n",
    "from tensorflow.keras.activations import linear, sigmoid, relu\n",
    "from tensorflow.keras.initializers import RandomNormal, glorot_uniform, he_uniform, Constant"
   ]
  },
  {
   "cell_type": "code",
   "execution_count": 1,
   "metadata": {
    "executionInfo": {
     "elapsed": 3452,
     "status": "ok",
     "timestamp": 1638589659726,
     "user": {
      "displayName": "James Lee",
      "photoUrl": "https://lh3.googleusercontent.com/a/default-user=s64",
      "userId": "17665317456088603930"
     },
     "user_tz": -540
    },
    "id": "T4VEc-1Ei3za"
   },
   "outputs": [],
   "source": [
    "# LSTM 기반의 가우시안 분포를 추정하는 Simple DeepAR\n",
    "# 원리만 알면 뭐든 만들 수 있다.\n",
    "\n",
    "# 챌린지\n",
    "# 1. Seq2Seq로 변환.\n",
    "# 2. LSTM이 아닌 다른 모델의 도입 (CNN-LSTM, GRU)\n",
    "# 3. 분포 함수를 바꿔보기 => 분포 추정 계수를 mu, sigma가 아니고 다른 값으로 변경이 필요.\n",
    "# 2주 정도 시간 들여서 해보기. (6주차에 솔루션 업로드)\n",
    "# 4. 분포 함수 자체를 딥러닝으로 모델링 하기.  (5,6주차 때 다룰 예정, GAN/AutoEncoder)\n",
    "\n",
    "# 클래스\n",
    "class DeepAR(tf.keras.models.Model):\n",
    "  # init => initialize\n",
    "    def __init__(self, lstm_units, window_size, h, n_features):\n",
    "        super().__init__()\n",
    "        # 모델에서 모델링 해야될 레이어들을 만들어놓는다.\n",
    "        self.lstm = LSTM(lstm_units, return_sequences=True, return_state=True, input_shape=(window_size, n_features))\n",
    "        self.lstm2 = LSTM(lstm_units, return_sequences=True, return_state=True)\n",
    "        self.lstm3 = LSTM(lstm_units, return_sequences=True, return_state=True)\n",
    "        self.lstm4 = LSTM(lstm_units, return_sequences=True, return_state=True)\n",
    "        self.dense_mu = Dense(1) # 정규분포 (가우시안 분포)의 평균\n",
    "        self.dense_sigma = Dense(1, activation='softplus') # 정규분포 (가우시안 분포)의 시그마\n",
    "    # 모델을 호출한다 => 모델에 입력이 들어간다.\n",
    "    def call(self, inputs, initial_state=None):\n",
    "      # outputs = LSTM의 출력을 저장, state => LSTM의 스테이트 (weight)\n",
    "        outputs, state_h, state_c = self.lstm(inputs, initial_state=initial_state) # LSTM에 입력을 넣는다.\n",
    "        outputs2, state_h2, state_c2 = self.lstm2(outputs) # 첫번째 LSTM의 결과가 입력으로 들어감\n",
    "        outputs3, state_h3, state_c3 = self.lstm3(outputs2) # 두번째 LSTM의 결과가 입력으로 들어감.\n",
    "        outputs4, state_h4, state_c4 = self.lstm4(outputs3) # 세번째 LSTM의 결과가 입력으로 들어감\n",
    "\n",
    "        mu = self.dense_mu(outputs4) # 정규분포의 평균을 추정하는 레이어 => LSTM의 출력을 가지고 liklihood의 평균을 모델링\n",
    "        sigma = self.dense_sigma(outputs4) # 정규분포의 표준편차를 추정하는 레이어 => LSTM의 출력을 가지고 liklihood의 편차를 모델링\n",
    "        state = [state_h4, state_c4]\n",
    "\n",
    "        return [mu, sigma, state]\n",
    "\n",
    "# 모델의 로스를 계산하는 부분\n",
    "# 모델링된 mu와 sigma를 가지고 분포 생성\n",
    "# y_true=실제값과 분포에서 샘플링된 값의 차이를 구함.\n",
    "def log_gaussian_loss(mu, sigma, y_true):\n",
    "    return -tf.reduce_sum(tfp.distributions.Normal(loc=mu, scale=sigma).log_prob(y_true))"
   ]
  },
  {
   "cell_type": "code",
   "execution_count": 12,
   "metadata": {
    "ExecuteTime": {
     "end_time": "2022-02-04T08:15:11.821655Z",
     "start_time": "2022-02-04T08:15:11.245197Z"
    },
    "executionInfo": {
     "elapsed": 1456,
     "status": "ok",
     "timestamp": 1638589666872,
     "user": {
      "displayName": "James Lee",
      "photoUrl": "https://lh3.googleusercontent.com/a/default-user=s64",
      "userId": "17665317456088603930"
     },
     "user_tz": -540
    },
    "id": "mro7BoppojRj"
   },
   "outputs": [],
   "source": [
    "data = pd.read_csv(\"./Datasets/Ethereum/ETH_USD.csv\", skiprows=1, parse_dates=[\"Date\"], index_col=\"Date\")\n",
    "\n",
    "data = data.drop([\"Symbol\",\"Unix Timestamp\"] , axis=1)\n",
    "data = data.sort_index()"
   ]
  },
  {
   "cell_type": "code",
   "execution_count": 2,
   "metadata": {
    "executionInfo": {
     "elapsed": 1456,
     "status": "ok",
     "timestamp": 1638589666872,
     "user": {
      "displayName": "James Lee",
      "photoUrl": "https://lh3.googleusercontent.com/a/default-user=s64",
      "userId": "17665317456088603930"
     },
     "user_tz": -540
    },
    "id": "mro7BoppojRj"
   },
   "outputs": [],
   "source": [
    "test_cutoff_date = data.index.max() - timedelta(days=90)\n",
    "\n",
    "data_test = data[data.index > test_cutoff_date]['Close'] # 테스트\n",
    "data_train = data[data.index <= test_cutoff_date]['Close'] # 학습\n",
    "\n",
    "# 데이터를 정규화\n",
    "training_mean = data_train.mean() # train의 평균\n",
    "training_std = data_train.std() # train의 편차\n",
    "data_training_value = (data_train - training_mean) / training_std # 데이터 = (원본 - 평균) / 편차로 정규화\n",
    "\n",
    "test_mean = data_test.mean() # test의 평균\n",
    "test_std = data_test.std() # test의 편차\n",
    "data_test_value = (data_test - test_mean) / test_std # 데이터 = (원본 - 평균) / 편차로 정규화\n",
    "\n",
    "# def blocked_cv(sequence, window_size, h):\n",
    "#     X, y = list(), list()\n",
    "#     for i in range(len(sequence)):\n",
    "#         end_ix = i + window_size\n",
    "#         out_end_ix = end_ix + h\n",
    "#         if out_end_ix > len(sequence):\n",
    "#             break\n",
    "#         seq_x, seq_y = sequence[i:end_ix], sequence[end_ix:out_end_ix]\n",
    "#         X.append(seq_x)\n",
    "#         y.append(seq_y)\n",
    "#     return array(X), array(y)\n",
    "\n",
    "def blocked_cv(data, window_size, h):\n",
    "    X = list()\n",
    "    y = list()\n",
    "    for i in range(len(data) - window_size - h + 1):\n",
    "        X.append(data[i:i + window_size])\n",
    "        y.append(data[i + window_size:i + window_size + h])\n",
    "    return np.array(X), np.array(y)\n",
    "\n",
    "raw_seq = data_training_value\n",
    "window_size = 30\n",
    "h = 1\n",
    "\n",
    "X, y = blocked_cv(raw_seq, window_size, h)\n",
    "\n",
    "n_features = 1\n",
    "X = X.reshape((X.shape[0], X.shape[1], n_features))\n",
    "y = y.reshape((y.shape[0], y.shape[1], n_features))\n",
    "\n",
    "test_raw_seq = data_test_value\n",
    "\n",
    "test_X, test_y = blocked_cv(test_raw_seq, window_size, h)\n",
    "test_X = test_X.reshape((test_X.shape[0], test_X.shape[1], n_features))"
   ]
  },
  {
   "cell_type": "code",
   "execution_count": 2,
   "metadata": {
    "ExecuteTime": {
     "end_time": "2022-02-05T02:52:59.760762Z",
     "start_time": "2022-02-05T02:52:59.732151Z"
    },
    "colab": {
     "base_uri": "https://localhost:8080/"
    },
    "executionInfo": {
     "elapsed": 385175,
     "status": "ok",
     "timestamp": 1638590115473,
     "user": {
      "displayName": "James Lee",
      "photoUrl": "https://lh3.googleusercontent.com/a/default-user=s64",
      "userId": "17665317456088603930"
     },
     "user_tz": -540
    },
    "id": "zcN0VUAvjAai",
    "outputId": "3cf9fbaa-e324-4692-d4c7-4df9a1ee7e06"
   },
   "outputs": [
    {
     "ename": "SyntaxError",
     "evalue": "invalid syntax (<ipython-input-2-8ecdf5ba5149>, line 20)",
     "output_type": "error",
     "traceback": [
      "\u001b[1;36m  File \u001b[1;32m\"<ipython-input-2-8ecdf5ba5149>\"\u001b[1;36m, line \u001b[1;32m20\u001b[0m\n\u001b[1;33m    loss = log_gaussian_loss(mu, sigma, y) # Forward Learning\u001b[0m\n\u001b[1;37m    ^\u001b[0m\n\u001b[1;31mSyntaxError\u001b[0m\u001b[1;31m:\u001b[0m invalid syntax\n"
     ]
    }
   ],
   "source": [
    "LSTM_UNITS = 1024\n",
    "EPOCHS = 10000\n",
    "\n",
    "# model = DeepAR(LSTM_UNITS, window_size, h, n_features)\n",
    "optimizer = tf.keras.optimizers.Adam()\n",
    "rmse = tf.keras.metrics.RootMeanSquaredError()\n",
    "\n",
    "def train_step(x, y):\n",
    "    with tf.GradientTape() as tape:\n",
    "        inputs = Input(input_shape=(window_size, n_features))\n",
    "\n",
    "        z, _, _ = LSTM(lstm_units, return_sequences=True, return_state=True)(inputs, initial_state=None)\n",
    "        z, _, _ = LSTM(lstm_units, return_sequences=True, return_state=True)(z)\n",
    "        z, _, _ = LSTM(lstm_units, return_sequences=True, return_state=True)(z)\n",
    "        z, h_state, c_state = LSTM(lstm_units, return_sequences=True, return_state=True)(z)\n",
    "\n",
    "        mu = Dense(units=1)(z)\n",
    "        sigma = Dense(units=1, activation=\"softplut\"(z)\n",
    "#         state = [h_state, c_state]\n",
    "        loss = log_gaussian_loss(mu, sigma, y) # Forward Learning\n",
    "    # backword\n",
    "    grads = tape.gradient(loss, model.trainable_variables)\n",
    "    optimizer.apply_gradients(zip(grads, model.trainable_variables))\n",
    "    rmse(y, mu)\n",
    "\n",
    "for epoch in range(EPOCHS):\n",
    "    train_step(X, y)\n",
    "    print('Epoch %d, RMSE %.4f' % (epoch + 1, rmse.result().numpy()))\n",
    "    rmse.reset_states()"
   ]
  },
  {
   "cell_type": "code",
   "execution_count": null,
   "metadata": {
    "id": "FC9GQWWQkKId"
   },
   "outputs": [],
   "source": [
    "# 샘플링된 값들을 예측값으로 반환.\n",
    "pred = model.predict(test_X)"
   ]
  },
  {
   "cell_type": "code",
   "execution_count": null,
   "metadata": {
    "colab": {
     "base_uri": "https://localhost:8080/"
    },
    "executionInfo": {
     "elapsed": 13,
     "status": "ok",
     "timestamp": 1637290435668,
     "user": {
      "displayName": "James Lee",
      "photoUrl": "https://lh3.googleusercontent.com/a/default-user=s64",
      "userId": "17665317456088603930"
     },
     "user_tz": -540
    },
    "id": "1vsooS_FSPUa",
    "outputId": "32233c7e-6a37-48f0-e02b-7f86be28b402"
   },
   "outputs": [
    {
     "data": {
      "text/plain": [
       "(60, 30, 1)"
      ]
     },
     "execution_count": 19,
     "metadata": {},
     "output_type": "execute_result"
    }
   ],
   "source": [
    "pred[0].shape\n",
    "\n",
    "# median => 실제 예측값.\n",
    "# 5% 퍼센타일 => lower bound\n",
    "# 95% 퍼센타일 => upper bound"
   ]
  },
  {
   "cell_type": "code",
   "execution_count": null,
   "metadata": {
    "colab": {
     "base_uri": "https://localhost:8080/"
    },
    "executionInfo": {
     "elapsed": 10,
     "status": "ok",
     "timestamp": 1637290435668,
     "user": {
      "displayName": "James Lee",
      "photoUrl": "https://lh3.googleusercontent.com/a/default-user=s64",
      "userId": "17665317456088603930"
     },
     "user_tz": -540
    },
    "id": "YkVM1b9nry45",
    "outputId": "1a4f6adc-9b29-41bb-9956-fece72440614"
   },
   "outputs": [
    {
     "data": {
      "text/plain": [
       "(60, 1)"
      ]
     },
     "execution_count": 20,
     "metadata": {},
     "output_type": "execute_result"
    }
   ],
   "source": [
    "test_y.shape # 라벨의 shape"
   ]
  },
  {
   "cell_type": "code",
   "execution_count": null,
   "metadata": {
    "id": "O48vZJy1ruNw"
   },
   "outputs": [],
   "source": [
    "import numpy as np\n",
    "lower_bound = []\n",
    "upper_bound = []\n",
    "median = []\n",
    "for step_pred in pred[0]:\n",
    "                           # 정규화된 값을 원래대로.\n",
    "    lb = (np.quantile(step_pred, 0.05) + test_mean) * test_std\n",
    "    ub = (np.quantile(step_pred, 0.95) + test_mean) * test_std\n",
    "    med = (np.quantile(step_pred, 0.5) + test_mean) * test_std\n",
    "    lower_bound.append(lb)\n",
    "    upper_bound.append(ub)\n",
    "    median.append(med)"
   ]
  },
  {
   "cell_type": "code",
   "execution_count": null,
   "metadata": {
    "colab": {
     "base_uri": "https://localhost:8080/",
     "height": 332
    },
    "executionInfo": {
     "elapsed": 1022,
     "status": "ok",
     "timestamp": 1637290436686,
     "user": {
      "displayName": "James Lee",
      "photoUrl": "https://lh3.googleusercontent.com/a/default-user=s64",
      "userId": "17665317456088603930"
     },
     "user_tz": -540
    },
    "id": "H_t45YvTEVxc",
    "outputId": "a46cd714-df0d-4d21-ef90-d4a0cd09119d"
   },
   "outputs": [
    {
     "data": {
      "text/plain": [
       "<matplotlib.axes._subplots.AxesSubplot at 0x7f518b675050>"
      ]
     },
     "execution_count": 24,
     "metadata": {},
     "output_type": "execute_result"
    },
    {
     "data": {
      "image/png": "[encoded data removed]",
      "text/plain": [
       "<Figure size 432x288 with 1 Axes>"
      ]
     },
     "metadata": {
      "needs_background": "light"
     },
     "output_type": "display_data"
    }
   ],
   "source": [
    "data_test.plot()"
   ]
  },
  {
   "cell_type": "code",
   "execution_count": null,
   "metadata": {
    "id": "gS7uZNLES-0_"
   },
   "outputs": [],
   "source": []
  },
  {
   "cell_type": "code",
   "execution_count": null,
   "metadata": {
    "colab": {
     "base_uri": "https://localhost:8080/"
    },
    "executionInfo": {
     "elapsed": 10,
     "status": "ok",
     "timestamp": 1637290436689,
     "user": {
      "displayName": "James Lee",
      "photoUrl": "https://lh3.googleusercontent.com/a/default-user=s64",
      "userId": "17665317456088603930"
     },
     "user_tz": -540
    },
    "id": "zzQnZcYdXcAZ",
    "outputId": "8ac2ea91-b39a-4599-ac39-aaa2c55d7b2b"
   },
   "outputs": [
    {
     "data": {
      "text/plain": [
       "Timestamp('2020-08-22 00:00:00')"
      ]
     },
     "execution_count": 27,
     "metadata": {},
     "output_type": "execute_result"
    }
   ],
   "source": [
    "test_cutoff_date"
   ]
  },
  {
   "cell_type": "code",
   "execution_count": null,
   "metadata": {
    "colab": {
     "base_uri": "https://localhost:8080/",
     "height": 406
    },
    "executionInfo": {
     "elapsed": 574,
     "status": "ok",
     "timestamp": 1637290437255,
     "user": {
      "displayName": "James Lee",
      "photoUrl": "https://lh3.googleusercontent.com/a/default-user=s64",
      "userId": "17665317456088603930"
     },
     "user_tz": -540
    },
    "id": "Q9DZD8xzWMUi",
    "outputId": "77c116e3-34ab-49b1-a2d7-58311ed616cb"
   },
   "outputs": [
    {
     "data": {
      "text/plain": [
       "<matplotlib.legend.Legend at 0x7f518b9c8510>"
      ]
     },
     "execution_count": 28,
     "metadata": {},
     "output_type": "execute_result"
    },
    {
     "data": {
      "image/png": "[encoded data removed]",
      "text/plain": [
       "<Figure size 864x432 with 1 Axes>"
      ]
     },
     "metadata": {
      "needs_background": "light"
     },
     "output_type": "display_data"
    }
   ],
   "source": [
    "fig = plt.figure(figsize = (12,6))\n",
    "ax = fig.add_subplot(111)\n",
    "\n",
    "\n",
    "data['Close'].plot(ax=ax)\n",
    "ax.vlines('2020-08-22', 0, 1000, linestyle='--', color='r', label='forecast boundary')\n",
    "ax.fill_between(data_test[30:].index, lower_bound, upper_bound, color='b', alpha=0.1, label='95% Confidence Interval')\n",
    "ax.plot(data_test[30:].index, median, label='Prediction')\n",
    "ax.legend(loc='upper left')\n",
    "# plt.suptitle(f\"ARIMA {optimal[0][0]} Prediction Result (r2 score: {r2}\")\n",
    "# plt.show()"
   ]
  },
  {
   "cell_type": "code",
   "execution_count": null,
   "metadata": {
    "colab": {
     "base_uri": "https://localhost:8080/"
    },
    "executionInfo": {
     "elapsed": 335,
     "status": "ok",
     "timestamp": 1628308309083,
     "user": {
      "displayName": "James Lee",
      "photoUrl": "",
      "userId": "17665317456088603930"
     },
     "user_tz": -540
    },
    "id": "0zQjxQjwXtIS",
    "outputId": "bc963ffd-e890-4b58-c786-881a59dd5071"
   },
   "outputs": [
    {
     "name": "stdout",
     "output_type": "stream",
     "text": [
      "Sat Aug  7 03:51:48 2021       \n",
      "+-----------------------------------------------------------------------------+\n",
      "| NVIDIA-SMI 470.42.01    Driver Version: 460.32.03    CUDA Version: 11.2     |\n",
      "|-------------------------------+----------------------+----------------------+\n",
      "| GPU  Name        Persistence-M| Bus-Id        Disp.A | Volatile Uncorr. ECC |\n",
      "| Fan  Temp  Perf  Pwr:Usage/Cap|         Memory-Usage | GPU-Util  Compute M. |\n",
      "|                               |                      |               MIG M. |\n",
      "|===============================+======================+======================|\n",
      "|   0  Tesla T4            Off  | 00000000:00:04.0 Off |                    0 |\n",
      "| N/A   61C    P8    11W /  70W |      0MiB / 15109MiB |      0%      Default |\n",
      "|                               |                      |                  N/A |\n",
      "+-------------------------------+----------------------+----------------------+\n",
      "                                                                               \n",
      "+-----------------------------------------------------------------------------+\n",
      "| Processes:                                                                  |\n",
      "|  GPU   GI   CI        PID   Type   Process name                  GPU Memory |\n",
      "|        ID   ID                                                   Usage      |\n",
      "|=============================================================================|\n",
      "|  No running processes found                                                 |\n",
      "+-----------------------------------------------------------------------------+\n"
     ]
    }
   ],
   "source": [
    "!nvidia-smi"
   ]
  },
  {
   "cell_type": "markdown",
   "metadata": {
    "id": "YvvGYRXYvMEr"
   },
   "source": []
  }
 ],
 "metadata": {
  "accelerator": "GPU",
  "colab": {
   "authorship_tag": "ABX9TyPQESNI28HTFdmYAcCVgtzu",
   "collapsed_sections": [],
   "mount_file_id": "1fh4WRtomtCTKsExcCXwtCFK3NN13R75e",
   "name": "DeepAR.ipynb",
   "provenance": []
  },
  "hide_input": false,
  "kernelspec": {
   "display_name": "Python 3",
   "language": "python",
   "name": "python3"
  },
  "language_info": {
   "codemirror_mode": {
    "name": "ipython",
    "version": 3
   },
   "file_extension": ".py",
   "mimetype": "text/x-python",
   "name": "python",
   "nbconvert_exporter": "python",
   "pygments_lexer": "ipython3",
   "version": "3.8.5"
  },
  "toc": {
   "base_numbering": 1,
   "nav_menu": {},
   "number_sections": true,
   "sideBar": true,
   "skip_h1_title": false,
   "title_cell": "Table of Contents",
   "title_sidebar": "Contents",
   "toc_cell": false,
   "toc_position": {},
   "toc_section_display": true,
   "toc_window_display": false
  },
  "varInspector": {
   "cols": {
    "lenName": 16,
    "lenType": 16,
    "lenVar": 40
   },
   "kernels_config": {
    "python": {
     "delete_cmd_postfix": "",
     "delete_cmd_prefix": "del ",
     "library": "var_list.py",
     "varRefreshCmd": "print(var_dic_list())"
    },
    "r": {
     "delete_cmd_postfix": ") ",
     "delete_cmd_prefix": "rm(",
     "library": "var_list.r",
     "varRefreshCmd": "cat(var_dic_list()) "
    }
   },
   "types_to_exclude": [
    "module",
    "function",
    "builtin_function_or_method",
    "instance",
    "_Feature"
   ],
   "window_display": false
  }
 },
 "nbformat": 4,
 "nbformat_minor": 1
}
