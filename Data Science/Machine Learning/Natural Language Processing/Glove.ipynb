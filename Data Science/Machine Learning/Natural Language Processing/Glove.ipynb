{
 "cells": [
  {
   "cell_type": "markdown",
   "metadata": {
    "toc": true
   },
   "source": [
    "<h1>Table of Contents<span class=\"tocSkip\"></span></h1>\n",
    "<div class=\"toc\"><ul class=\"toc-item\"><li><ul class=\"toc-item\"><li><span><a href=\"#4.-Embedding-layer-Vs.-Pretrained-Embedding\" data-toc-modified-id=\"4.-Embedding-layer-Vs.-Pretrained-Embedding-0.1\"><span class=\"toc-item-num\">0.1&nbsp;&nbsp;</span>4. Embedding layer Vs. Pretrained Embedding</a></span><ul class=\"toc-item\"><li><span><a href=\"#4-1.-Embedding-layer-기초\" data-toc-modified-id=\"4-1.-Embedding-layer-기초-0.1.1\"><span class=\"toc-item-num\">0.1.1&nbsp;&nbsp;</span>4-1. Embedding layer 기초</a></span></li><li><span><a href=\"#4-2.-감성-분류하기(Embedding-layer)\" data-toc-modified-id=\"4-2.-감성-분류하기(Embedding-layer)-0.1.2\"><span class=\"toc-item-num\">0.1.2&nbsp;&nbsp;</span>4-2. 감성 분류하기(Embedding layer)</a></span></li><li><span><a href=\"#4-3.-감성-분류하기(Pre-trained-Embedding)\" data-toc-modified-id=\"4-3.-감성-분류하기(Pre-trained-Embedding)-0.1.3\"><span class=\"toc-item-num\">0.1.3&nbsp;&nbsp;</span>4-3. 감성 분류하기(Pre-trained Embedding)</a></span></li></ul></li></ul></li><li><span><a href=\"#Tensorflow-Hub로부터-Pre-trained-tf.keras.layers-사용하기\" data-toc-modified-id=\"Tensorflow-Hub로부터-Pre-trained-tf.keras.layers-사용하기-1\"><span class=\"toc-item-num\">1&nbsp;&nbsp;</span>Tensorflow Hub로부터 Pre-trained tf.keras.layers 사용하기</a></span></li></ul></div>"
   ]
  },
  {
   "cell_type": "code",
   "execution_count": 1,
   "metadata": {
    "ExecuteTime": {
     "end_time": "2022-01-23T03:44:39.214073Z",
     "start_time": "2022-01-23T03:44:34.364595Z"
    },
    "id": "oNTRDLsF5_A1",
    "outputId": "96b314bb-8fea-4bf6-ca01-678793e7de3e"
   },
   "outputs": [
    {
     "name": "stderr",
     "output_type": "stream",
     "text": [
      "[nltk_data] Downloading package punkt to\n",
      "[nltk_data]     C:\\Users\\82104\\AppData\\Roaming\\nltk_data...\n",
      "[nltk_data]   Package punkt is already up-to-date!\n",
      "[nltk_data] Downloading package stopwords to\n",
      "[nltk_data]     C:\\Users\\82104\\AppData\\Roaming\\nltk_data...\n",
      "[nltk_data]   Package stopwords is already up-to-date!\n",
      "[nltk_data] Downloading package wordnet to\n",
      "[nltk_data]     C:\\Users\\82104\\AppData\\Roaming\\nltk_data...\n",
      "[nltk_data]   Package wordnet is already up-to-date!\n"
     ]
    }
   ],
   "source": [
    "import nltk\n",
    "from nltk.corpus import stopwords\n",
    "import gensim\n",
    "from konlpy.tag import *\n",
    "# from ckonlpy.tag import Twitter\n",
    "# import MeCab\n",
    "from collections import Counter\n",
    "import tensorflow as tf\n",
    "import numpy as np\n",
    "import re\n",
    "from sklearn.feature_extraction.text import CountVectorizer\n",
    "from sklearn.datasets import fetch_20newsgroups\n",
    "import pandas as pd\n",
    "from math import log\n",
    "import urllib\n",
    "import wget\n",
    "import matplotlib as mpl\n",
    "import matplotlib.pyplot as plt\n",
    "import json\n",
    "import os\n",
    "import platform\n",
    "from tqdm.notebook import tqdm\n",
    "from lxml import etree\n",
    "import zipfile\n",
    "from sklearn.datasets import fetch_20newsgroups\n",
    "\n",
    "plt.style.use(\"dark_background\")\n",
    "\n",
    "np.set_printoptions(precision=3)\n",
    "\n",
    "# okt = Okt()\n",
    "# kkm = Kkma()\n",
    "# kmr = Komoran()\n",
    "# hnn = Hannanum()\n",
    "\n",
    "# class Mecab:\n",
    "#     def pos(self, text):\n",
    "#         p = re.compile(\".+\\t[A-Z]+\")\n",
    "#         return [tuple(p.match(line).group().split(\"\\t\")) for line in MeCab.Tagger().parse(text).splitlines()[:-1]]\n",
    "    \n",
    "#     def morphs(self, text):\n",
    "#         p = re.compile(\".+\\t[A-Z]+\")\n",
    "#         return [p.match(line).group().split(\"\\t\")[0] for line in MeCab.Tagger().parse(text).splitlines()[:-1]]\n",
    "    \n",
    "#     def nouns(self, text):\n",
    "#         p = re.compile(\".+\\t[A-Z]+\")\n",
    "#         temp = [tuple(p.match(line).group().split(\"\\t\")) for line in MeCab.Tagger().parse(text).splitlines()[:-1]]\n",
    "#         nouns=[]\n",
    "#         for word in temp:\n",
    "#             if word[1] in [\"NNG\", \"NNP\", \"NNB\", \"NNBC\", \"NP\", \"NR\"]:\n",
    "#                 nouns.append(word[0])\n",
    "#         return nouns\n",
    "    \n",
    "# mc = Mecab()\n",
    "\n",
    "nltk.download(\"punkt\")\n",
    "nltk.download(\"stopwords\")\n",
    "nltk.download(\"wordnet\")\n",
    "\n",
    "path = \"C:/Windows/Fonts/malgun.ttf\"\n",
    "if platform.system() == \"Darwin\":\n",
    "    mpl.rc(\"font\", family=\"AppleGothic\")\n",
    "elif platform.system() == \"Windows\":\n",
    "    font_name = mpl.font_manager.FontProperties(fname=path).get_name()\n",
    "    mpl.rc('font', family=font_name)\n",
    "    \n",
    "mpl.rc(\"axes\", unicode_minus=False)"
   ]
  },
  {
   "cell_type": "code",
   "execution_count": null,
   "metadata": {
    "id": "NNsiaqrY5_BU",
    "scrolled": false
   },
   "outputs": [],
   "source": [
    "# !pip install glove_python"
   ]
  },
  {
   "cell_type": "code",
   "execution_count": 2,
   "metadata": {
    "ExecuteTime": {
     "end_time": "2022-01-23T03:45:56.870157Z",
     "start_time": "2022-01-23T03:45:56.259562Z"
    },
    "id": "KjnBLp0g5_BV",
    "outputId": "d90c1167-8b02-42fb-9b66-c24e175fc2e7"
   },
   "outputs": [
    {
     "ename": "ModuleNotFoundError",
     "evalue": "No module named 'glove'",
     "output_type": "error",
     "traceback": [
      "\u001b[1;31m---------------------------------------------------------------------------\u001b[0m",
      "\u001b[1;31mModuleNotFoundError\u001b[0m                       Traceback (most recent call last)",
      "\u001b[1;32m<ipython-input-2-7384b61e905d>\u001b[0m in \u001b[0;36m<module>\u001b[1;34m\u001b[0m\n\u001b[1;32m----> 1\u001b[1;33m \u001b[1;32mimport\u001b[0m \u001b[0mglove\u001b[0m\u001b[1;33m\u001b[0m\u001b[1;33m\u001b[0m\u001b[0m\n\u001b[0m",
      "\u001b[1;31mModuleNotFoundError\u001b[0m: No module named 'glove'"
     ]
    }
   ],
   "source": [
    "import glove"
   ]
  },
  {
   "cell_type": "code",
   "execution_count": null,
   "metadata": {
    "colab": {
     "base_uri": "https://localhost:8080/",
     "height": 390
    },
    "id": "d1YMJ_RQDCOp",
    "outputId": "6a1fc093-cea5-4821-d450-d2f62653ddc2"
   },
   "outputs": [
    {
     "name": "stdout",
     "output_type": "stream",
     "text": [
      "Performing 20 training epochs with 4 threads\n",
      "Epoch 0\n",
      "Epoch 1\n",
      "Epoch 2\n",
      "Epoch 3\n",
      "Epoch 4\n",
      "Epoch 5\n",
      "Epoch 6\n",
      "Epoch 7\n",
      "Epoch 8\n",
      "Epoch 9\n",
      "Epoch 10\n",
      "Epoch 11\n",
      "Epoch 12\n",
      "Epoch 13\n",
      "Epoch 14\n",
      "Epoch 15\n",
      "Epoch 16\n",
      "Epoch 17\n",
      "Epoch 18\n",
      "Epoch 19\n"
     ]
    }
   ],
   "source": [
    "import glove\n",
    "\n",
    "corpus = Corpus() \n",
    "corpus.fit(result, window=5)\n",
    "# 훈련 데이터로부터 GloVe에서 사용할 동시 등장 행렬 생성\n",
    "\n",
    "glove = Glove(no_components=100, learning_rate=0.05)\n",
    "glove.fit(corpus.matrix, epochs=20, no_threads=4, verbose=True)\n",
    "glove.add_dictionary(corpus.dictionary)\n",
    "# 학습에 이용할 쓰레드의 개수는 4로 설정, 에포크는 20."
   ]
  },
  {
   "cell_type": "code",
   "execution_count": null,
   "metadata": {
    "colab": {
     "base_uri": "https://localhost:8080/",
     "height": 34
    },
    "id": "xxNYSAj5DD-Z",
    "outputId": "8151d990-78a8-4efb-b7e5-68161d994beb"
   },
   "outputs": [
    {
     "name": "stdout",
     "output_type": "stream",
     "text": [
      "[('woman', 0.9605876132425566), ('guy', 0.8873543995635172), ('girl', 0.851644711353462), ('young', 0.8454644715719105)]\n"
     ]
    }
   ],
   "source": [
    "model_result1 = glove.most_similar(\"man\")\n",
    "print(model_result1)"
   ]
  },
  {
   "cell_type": "code",
   "execution_count": null,
   "metadata": {
    "colab": {
     "base_uri": "https://localhost:8080/",
     "height": 34
    },
    "id": "Nf7MdSG4DGGJ",
    "outputId": "8f20054d-3c75-4d75-ed34-993024a15093"
   },
   "outputs": [
    {
     "name": "stdout",
     "output_type": "stream",
     "text": [
      "[('girl', 0.9419230106533926), ('kid', 0.8353257929535401), ('woman', 0.8300046728060503), ('man', 0.8214572429272888)]\n"
     ]
    }
   ],
   "source": [
    "model_result2=glove.most_similar(\"boy\")\n",
    "print(model_result2)"
   ]
  },
  {
   "cell_type": "code",
   "execution_count": null,
   "metadata": {
    "colab": {
     "base_uri": "https://localhost:8080/",
     "height": 34
    },
    "id": "UzgSATQxDHov",
    "outputId": "4bd505f7-7cc4-4182-b5fc-3460605fa411"
   },
   "outputs": [
    {
     "name": "stdout",
     "output_type": "stream",
     "text": [
      "[('harvard', 0.8891058026544912), ('mit', 0.8655953916957512), ('stanford', 0.8466465957274574), ('cambridge', 0.8443982653416059)]\n"
     ]
    }
   ],
   "source": [
    "model_result3=glove.most_similar(\"university\")\n",
    "print(model_result3)"
   ]
  },
  {
   "cell_type": "code",
   "execution_count": null,
   "metadata": {
    "colab": {
     "base_uri": "https://localhost:8080/",
     "height": 34
    },
    "id": "6KI3cBS_DI3L",
    "outputId": "e545169b-97c8-40aa-f386-1848e6ddeb95"
   },
   "outputs": [
    {
     "name": "stdout",
     "output_type": "stream",
     "text": [
      "[('clean', 0.8497457787246371), ('air', 0.8434838133871023), ('fresh', 0.8294691419399418), ('electricity', 0.8201486509192097)]\n"
     ]
    }
   ],
   "source": [
    "model_result4=glove.most_similar(\"water\")\n",
    "print(model_result4)"
   ]
  },
  {
   "cell_type": "code",
   "execution_count": null,
   "metadata": {
    "colab": {
     "base_uri": "https://localhost:8080/",
     "height": 34
    },
    "id": "2lZVYEhrDJvR",
    "outputId": "8bff36ed-f50b-447a-df02-cfff0a55fa6f"
   },
   "outputs": [
    {
     "name": "stdout",
     "output_type": "stream",
     "text": [
      "[('chemistry', 0.8879813137524931), ('economics', 0.8671791836455324), ('biology', 0.851880595257216), ('mathematics', 0.8505414029308055)]\n"
     ]
    }
   ],
   "source": [
    "model_result5=glove.most_similar(\"physics\")\n",
    "print(model_result5)"
   ]
  },
  {
   "cell_type": "code",
   "execution_count": null,
   "metadata": {
    "colab": {
     "base_uri": "https://localhost:8080/",
     "height": 34
    },
    "id": "nXj8L52zDK4L",
    "outputId": "9198ec63-2268-4b75-daaa-6b71f235f9e5"
   },
   "outputs": [
    {
     "name": "stdout",
     "output_type": "stream",
     "text": [
      "[('tissue', 0.8330768461898297), ('nerve', 0.8261792360472352), ('skeletal', 0.7678621802032819), ('stem', 0.7529100804581816)]\n"
     ]
    }
   ],
   "source": [
    "model_result6=glove.most_similar(\"muscle\")\n",
    "print(model_result6)"
   ]
  },
  {
   "cell_type": "code",
   "execution_count": null,
   "metadata": {
    "colab": {
     "base_uri": "https://localhost:8080/",
     "height": 34
    },
    "id": "N_aN-DFODMAo",
    "outputId": "f3a2c20e-9837-4e24-8bbb-4d60f5807562"
   },
   "outputs": [
    {
     "name": "stdout",
     "output_type": "stream",
     "text": [
      "[('fresh', 0.8671807133278371), ('water', 0.8497457787246372), ('drinking', 0.7980126180711001), ('heat', 0.7928526111116708)]\n"
     ]
    }
   ],
   "source": [
    "model_result7=glove.most_similar(\"clean\")\n",
    "print(model_result7)"
   ]
  },
  {
   "cell_type": "markdown",
   "metadata": {
    "id": "HAb1_wXND16i"
   },
   "source": [
    "## 4. Embedding layer Vs. Pretrained Embedding"
   ]
  },
  {
   "cell_type": "markdown",
   "metadata": {
    "id": "-x46aeaxC2F7"
   },
   "source": [
    "### 4-1. Embedding layer 기초"
   ]
  },
  {
   "cell_type": "code",
   "execution_count": null,
   "metadata": {
    "id": "9cmCPyN3DlFl"
   },
   "outputs": [],
   "source": [
    "# 임의의 문서 3개 생성\n",
    "sample_text_1 = \"bitty bought a bit of butter\"\n",
    "sample_text_2 = \"but the bit of butter was a bit bitter\"\n",
    "sample_text_3 = \"so she bought some better butter to make the bitter butter better\"\n",
    "\n",
    "docs = [sample_text_1, sample_text_2, sample_text_3]\n",
    "n_docs=len(docs)"
   ]
  },
  {
   "cell_type": "code",
   "execution_count": null,
   "metadata": {
    "id": "w8nVO1uc5_BY"
   },
   "outputs": [],
   "source": [
    "vocab_size = 50\n",
    "tkn = tf.keras.preprocessing.text.Tokenizer(num_words=vocab_size+1)\n",
    "tkn.fit_on_texts(docs)\n",
    "\n",
    "corpus_idx = tkn.texts_to_sequences(docs)"
   ]
  },
  {
   "cell_type": "code",
   "execution_count": null,
   "metadata": {
    "id": "RVNOwJQB5_BZ",
    "outputId": "f16145d9-3aa6-4f9c-fafb-a140ebf5f3da"
   },
   "outputs": [
    {
     "name": "stdout",
     "output_type": "stream",
     "text": [
      "{'butter': 1, 'bit': 2, 'bought': 3, 'a': 4, 'of': 5, 'the': 6, 'bitter': 7, 'better': 8, 'bitty': 9, 'but': 10, 'was': 11, 'so': 12, 'she': 13, 'some': 14, 'to': 15, 'make': 16}\n",
      "[[9, 3, 4, 2, 5, 1], [10, 6, 2, 5, 1, 11, 4, 2, 7], [12, 13, 3, 14, 8, 1, 15, 16, 6, 7, 1, 8]]\n"
     ]
    }
   ],
   "source": [
    "print(tkn.word_index)\n",
    "print(corpus_idx)"
   ]
  },
  {
   "cell_type": "code",
   "execution_count": null,
   "metadata": {
    "id": "GFkzOMHUDl0H",
    "scrolled": true
   },
   "outputs": [],
   "source": [
    "# corpus_idx=[]\n",
    "# for i, doc in enumerate(docs):\n",
    "#     corpus_idx.append(tf.keras.preprocessing.text.one_hot(doc, 50))"
   ]
  },
  {
   "cell_type": "code",
   "execution_count": null,
   "metadata": {
    "id": "ODAbCbNHDoY3"
   },
   "outputs": [],
   "source": [
    "model = tf.keras.Sequential()\n",
    "model.add(tf.keras.layers.Embedding(input_dim=vocab_size, output_dim=128))"
   ]
  },
  {
   "cell_type": "code",
   "execution_count": null,
   "metadata": {
    "id": "_eCSTN7SDpmP"
   },
   "outputs": [],
   "source": [
    "# 룩업 테이블 저장\n",
    "emb_matrix = model.layers[0].get_weights()[0]"
   ]
  },
  {
   "cell_type": "code",
   "execution_count": null,
   "metadata": {
    "colab": {
     "base_uri": "https://localhost:8080/",
     "height": 34
    },
    "id": "UFVEweByDqVQ",
    "outputId": "9bad016c-65e5-42ae-dcd9-ad2dc53e7b15"
   },
   "outputs": [
    {
     "name": "stdout",
     "output_type": "stream",
     "text": [
      "(50, 128)\n"
     ]
    }
   ],
   "source": [
    "# 룩업 테이블 크기 확인\n",
    "print(emb_matrix.shape)"
   ]
  },
  {
   "cell_type": "code",
   "execution_count": null,
   "metadata": {
    "colab": {
     "base_uri": "https://localhost:8080/",
     "height": 478
    },
    "id": "nvw56UB5DrFn",
    "outputId": "61f9851b-3c12-4e81-8459-5c2a88368f0c"
   },
   "outputs": [
    {
     "data": {
      "text/plain": [
       "array([ 0.03263989, -0.02002963, -0.02926129,  0.04062835,  0.03773863,\n",
       "        0.02971169,  0.02677151,  0.01759437, -0.01188103, -0.04960748,\n",
       "       -0.02214905, -0.04100679,  0.02732602, -0.02526584, -0.04764689,\n",
       "        0.0352012 ,  0.03894139, -0.00759046,  0.00392884, -0.04250013,\n",
       "       -0.04886044,  0.0075701 , -0.03111113, -0.01642779, -0.01951819,\n",
       "       -0.04288147, -0.04315158, -0.03305702, -0.04738927, -0.01854967,\n",
       "        0.01183575, -0.00665712,  0.00902815,  0.03308349,  0.04552216,\n",
       "        0.04750897,  0.0264256 ,  0.04714967,  0.04600301,  0.04704997,\n",
       "        0.01090372, -0.02848966,  0.02545423,  0.0307886 , -0.02648999,\n",
       "       -0.0449039 , -0.01753411, -0.01702175, -0.01818275,  0.0410333 ,\n",
       "        0.01874287, -0.03222505, -0.03681958, -0.02393687,  0.02087081,\n",
       "       -0.00901114, -0.01822656, -0.02156426, -0.02489222, -0.0186474 ,\n",
       "       -0.0010251 , -0.00876205,  0.02386303, -0.04325956, -0.02246397,\n",
       "       -0.02926103,  0.01149505,  0.01657571, -0.00582244,  0.02053413,\n",
       "       -0.04881555,  0.00789959, -0.01659892, -0.00987439, -0.02075645,\n",
       "       -0.02823541, -0.02829878,  0.01955562, -0.04728704,  0.00813466,\n",
       "       -0.02398418, -0.02306868,  0.01795098,  0.03679407, -0.01219111,\n",
       "        0.04488437, -0.00338963, -0.00287709, -0.03201611,  0.01615829,\n",
       "       -0.0154469 ,  0.02621894, -0.02088437,  0.03871555, -0.03421636,\n",
       "       -0.0447155 ,  0.0181476 ,  0.02621837, -0.02943436,  0.01547733,\n",
       "       -0.01705706, -0.03425314, -0.04803681, -0.01708652, -0.04288428,\n",
       "        0.00748303,  0.02799119, -0.02606081,  0.02020899, -0.02300559,\n",
       "       -0.02080305,  0.03640057, -0.0238284 ,  0.0441422 ,  0.01290727,\n",
       "       -0.0440301 , -0.0120992 , -0.00345448, -0.00899358, -0.04054157,\n",
       "       -0.02264692,  0.01972497, -0.04430547,  0.01315306, -0.00206684,\n",
       "       -0.02792461, -0.03835345, -0.02438252], dtype=float32)"
      ]
     },
     "execution_count": 97,
     "metadata": {
      "tags": []
     },
     "output_type": "execute_result"
    }
   ],
   "source": [
    "# 34번째 단어 임베딩 값 확인\n",
    "emb_matrix[34]"
   ]
  },
  {
   "cell_type": "code",
   "execution_count": null,
   "metadata": {
    "colab": {
     "base_uri": "https://localhost:8080/",
     "height": 34
    },
    "id": "JPvexWwxDsA_",
    "outputId": "98e55852-67f6-4f74-9eee-707ef42d3895"
   },
   "outputs": [
    {
     "data": {
      "text/plain": [
       "(6, 128)"
      ]
     },
     "execution_count": 98,
     "metadata": {
      "tags": []
     },
     "output_type": "execute_result"
    }
   ],
   "source": [
    "# 첫번째 문서 임베딩화\n",
    "emb_matrix[corpus_idx[0]].shape"
   ]
  },
  {
   "cell_type": "markdown",
   "metadata": {
    "id": "W8VxrLfOD7ub"
   },
   "source": [
    "### 4-2. 감성 분류하기(Embedding layer)"
   ]
  },
  {
   "cell_type": "code",
   "execution_count": null,
   "metadata": {
    "id": "eGdEm9emD_tx"
   },
   "outputs": [],
   "source": [
    "sents = [\"nice great best amazing\", \"stop lies\", \"pitiful nerd\", \"excellent work\", \"supreme quality\", \"bad\", \"highly respectable\"]\n",
    "y_train = [1, 0, 0, 1, 1, 0, 1]\n",
    "\n",
    "tkn = tf.keras.preprocessing.text.Tokenizer()\n",
    "tkn.fit_on_texts(sents)\n",
    "vocab_size = len(tkn.word_index)"
   ]
  },
  {
   "cell_type": "code",
   "execution_count": null,
   "metadata": {
    "id": "RjiYo_cL5_Bb",
    "outputId": "79b68d68-d759-4c88-f75b-04df50da2c59"
   },
   "outputs": [
    {
     "data": {
      "text/plain": [
       "{'nice': 1,\n",
       " 'great': 2,\n",
       " 'best': 3,\n",
       " 'amazing': 4,\n",
       " 'stop': 5,\n",
       " 'lies': 6,\n",
       " 'pitiful': 7,\n",
       " 'nerd': 8,\n",
       " 'excellent': 9,\n",
       " 'work': 10,\n",
       " 'supreme': 11,\n",
       " 'quality': 12,\n",
       " 'bad': 13,\n",
       " 'highly': 14,\n",
       " 'respectable': 15}"
      ]
     },
     "execution_count": 107,
     "metadata": {
      "tags": []
     },
     "output_type": "execute_result"
    }
   ],
   "source": [
    "tkn.word_index"
   ]
  },
  {
   "cell_type": "code",
   "execution_count": null,
   "metadata": {
    "id": "nQ2UTBfLECYn"
   },
   "outputs": [],
   "source": [
    "corpus_idx = tkn.texts_to_sequences(sents)"
   ]
  },
  {
   "cell_type": "code",
   "execution_count": null,
   "metadata": {
    "colab": {
     "base_uri": "https://localhost:8080/",
     "height": 34
    },
    "id": "lYAxkZyc5_Bd",
    "outputId": "99aafb63-6ab0-4f2f-bbed-e6b700cb05d7"
   },
   "outputs": [
    {
     "name": "stdout",
     "output_type": "stream",
     "text": [
      "[[1, 2, 3, 4], [5, 6], [7, 8], [9, 10], [11, 12], [13], [14, 15]]\n"
     ]
    }
   ],
   "source": [
    "print(corpus_idx)"
   ]
  },
  {
   "cell_type": "code",
   "execution_count": null,
   "metadata": {
    "id": "LPkOpkzSEEsW"
   },
   "outputs": [],
   "source": [
    "max_len = max([len(i) for i in corpus_idx])\n",
    "\n",
    "X_train = tf.keras.preprocessing.sequence.pad_sequences(corpus_idx, maxlen=max_len, padding=\"post\")\n",
    "y_train = np.array(y_train)"
   ]
  },
  {
   "cell_type": "code",
   "execution_count": null,
   "metadata": {
    "id": "owDvwJfhEFm4",
    "scrolled": true
   },
   "outputs": [],
   "source": [
    "model = tf.keras.Sequential()\n",
    "model.add(tf.keras.layers.Embedding(input_dim=vocab_size+1, output_dim=4, input_length=max_len))\n",
    "model.add(tf.keras.layers.Flatten()) # tf.keras.layers.Dense의 입력으로 넣기위함.\n",
    "model.add(tf.keras.layers.Dense(1, activation=\"sigmoid\"))"
   ]
  },
  {
   "cell_type": "code",
   "execution_count": null,
   "metadata": {
    "colab": {
     "base_uri": "https://localhost:8080/",
     "height": 1000
    },
    "id": "TNJYLk-wEGZT",
    "outputId": "4ddad814-b1ea-4662-b502-c3b4bbbf0ad9"
   },
   "outputs": [
    {
     "name": "stdout",
     "output_type": "stream",
     "text": [
      "Epoch 1/100\n",
      "1/1 - 0s - loss: 0.6871 - binary_accuracy: 0.5714\n",
      "Epoch 2/100\n",
      "1/1 - 0s - loss: 0.6857 - binary_accuracy: 0.5714\n",
      "Epoch 3/100\n",
      "1/1 - 0s - loss: 0.6843 - binary_accuracy: 0.5714\n",
      "Epoch 4/100\n",
      "1/1 - 0s - loss: 0.6829 - binary_accuracy: 0.5714\n",
      "Epoch 5/100\n",
      "1/1 - 0s - loss: 0.6815 - binary_accuracy: 0.5714\n",
      "Epoch 6/100\n",
      "1/1 - 0s - loss: 0.6801 - binary_accuracy: 0.5714\n",
      "Epoch 7/100\n",
      "1/1 - 0s - loss: 0.6787 - binary_accuracy: 0.5714\n",
      "Epoch 8/100\n",
      "1/1 - 0s - loss: 0.6773 - binary_accuracy: 0.5714\n",
      "Epoch 9/100\n",
      "1/1 - 0s - loss: 0.6759 - binary_accuracy: 0.5714\n",
      "Epoch 10/100\n",
      "1/1 - 0s - loss: 0.6745 - binary_accuracy: 0.5714\n",
      "Epoch 11/100\n",
      "1/1 - 0s - loss: 0.6731 - binary_accuracy: 0.5714\n",
      "Epoch 12/100\n",
      "1/1 - 0s - loss: 0.6717 - binary_accuracy: 0.5714\n",
      "Epoch 13/100\n",
      "1/1 - 0s - loss: 0.6704 - binary_accuracy: 0.5714\n",
      "Epoch 14/100\n",
      "1/1 - 0s - loss: 0.6690 - binary_accuracy: 0.5714\n",
      "Epoch 15/100\n",
      "1/1 - 0s - loss: 0.6676 - binary_accuracy: 0.5714\n",
      "Epoch 16/100\n",
      "1/1 - 0s - loss: 0.6662 - binary_accuracy: 0.5714\n",
      "Epoch 17/100\n",
      "1/1 - 0s - loss: 0.6648 - binary_accuracy: 0.5714\n",
      "Epoch 18/100\n",
      "1/1 - 0s - loss: 0.6634 - binary_accuracy: 0.5714\n",
      "Epoch 19/100\n",
      "1/1 - 0s - loss: 0.6620 - binary_accuracy: 0.5714\n",
      "Epoch 20/100\n",
      "1/1 - 0s - loss: 0.6606 - binary_accuracy: 0.5714\n",
      "Epoch 21/100\n",
      "1/1 - 0s - loss: 0.6591 - binary_accuracy: 0.7143\n",
      "Epoch 22/100\n",
      "1/1 - 0s - loss: 0.6577 - binary_accuracy: 0.7143\n",
      "Epoch 23/100\n",
      "1/1 - 0s - loss: 0.6563 - binary_accuracy: 0.7143\n",
      "Epoch 24/100\n",
      "1/1 - 0s - loss: 0.6548 - binary_accuracy: 0.7143\n",
      "Epoch 25/100\n",
      "1/1 - 0s - loss: 0.6534 - binary_accuracy: 0.8571\n",
      "Epoch 26/100\n",
      "1/1 - 0s - loss: 0.6519 - binary_accuracy: 0.8571\n",
      "Epoch 27/100\n",
      "1/1 - 0s - loss: 0.6505 - binary_accuracy: 0.8571\n",
      "Epoch 28/100\n",
      "1/1 - 0s - loss: 0.6490 - binary_accuracy: 0.8571\n",
      "Epoch 29/100\n",
      "1/1 - 0s - loss: 0.6475 - binary_accuracy: 0.8571\n",
      "Epoch 30/100\n",
      "1/1 - 0s - loss: 0.6461 - binary_accuracy: 0.8571\n",
      "Epoch 31/100\n",
      "1/1 - 0s - loss: 0.6446 - binary_accuracy: 0.8571\n",
      "Epoch 32/100\n",
      "1/1 - 0s - loss: 0.6431 - binary_accuracy: 0.8571\n",
      "Epoch 33/100\n",
      "1/1 - 0s - loss: 0.6415 - binary_accuracy: 0.8571\n",
      "Epoch 34/100\n",
      "1/1 - 0s - loss: 0.6400 - binary_accuracy: 1.0000\n",
      "Epoch 35/100\n",
      "1/1 - 0s - loss: 0.6385 - binary_accuracy: 1.0000\n",
      "Epoch 36/100\n",
      "1/1 - 0s - loss: 0.6370 - binary_accuracy: 1.0000\n",
      "Epoch 37/100\n",
      "1/1 - 0s - loss: 0.6354 - binary_accuracy: 1.0000\n",
      "Epoch 38/100\n",
      "1/1 - 0s - loss: 0.6338 - binary_accuracy: 1.0000\n",
      "Epoch 39/100\n",
      "1/1 - 0s - loss: 0.6323 - binary_accuracy: 1.0000\n",
      "Epoch 40/100\n",
      "1/1 - 0s - loss: 0.6307 - binary_accuracy: 1.0000\n",
      "Epoch 41/100\n",
      "1/1 - 0s - loss: 0.6291 - binary_accuracy: 1.0000\n",
      "Epoch 42/100\n",
      "1/1 - 0s - loss: 0.6275 - binary_accuracy: 1.0000\n",
      "Epoch 43/100\n",
      "1/1 - 0s - loss: 0.6259 - binary_accuracy: 1.0000\n",
      "Epoch 44/100\n",
      "1/1 - 0s - loss: 0.6242 - binary_accuracy: 1.0000\n",
      "Epoch 45/100\n",
      "1/1 - 0s - loss: 0.6226 - binary_accuracy: 1.0000\n",
      "Epoch 46/100\n",
      "1/1 - 0s - loss: 0.6210 - binary_accuracy: 1.0000\n",
      "Epoch 47/100\n",
      "1/1 - 0s - loss: 0.6193 - binary_accuracy: 1.0000\n",
      "Epoch 48/100\n",
      "1/1 - 0s - loss: 0.6176 - binary_accuracy: 1.0000\n",
      "Epoch 49/100\n",
      "1/1 - 0s - loss: 0.6160 - binary_accuracy: 1.0000\n",
      "Epoch 50/100\n",
      "1/1 - 0s - loss: 0.6143 - binary_accuracy: 1.0000\n",
      "Epoch 51/100\n",
      "1/1 - 0s - loss: 0.6126 - binary_accuracy: 1.0000\n",
      "Epoch 52/100\n",
      "1/1 - 0s - loss: 0.6109 - binary_accuracy: 1.0000\n",
      "Epoch 53/100\n",
      "1/1 - 0s - loss: 0.6092 - binary_accuracy: 1.0000\n",
      "Epoch 54/100\n",
      "1/1 - 0s - loss: 0.6074 - binary_accuracy: 1.0000\n",
      "Epoch 55/100\n",
      "1/1 - 0s - loss: 0.6057 - binary_accuracy: 1.0000\n",
      "Epoch 56/100\n",
      "1/1 - 0s - loss: 0.6039 - binary_accuracy: 1.0000\n",
      "Epoch 57/100\n",
      "1/1 - 0s - loss: 0.6022 - binary_accuracy: 1.0000\n",
      "Epoch 58/100\n",
      "1/1 - 0s - loss: 0.6004 - binary_accuracy: 1.0000\n",
      "Epoch 59/100\n",
      "1/1 - 0s - loss: 0.5986 - binary_accuracy: 1.0000\n",
      "Epoch 60/100\n",
      "1/1 - 0s - loss: 0.5968 - binary_accuracy: 1.0000\n",
      "Epoch 61/100\n",
      "1/1 - 0s - loss: 0.5950 - binary_accuracy: 1.0000\n",
      "Epoch 62/100\n",
      "1/1 - 0s - loss: 0.5932 - binary_accuracy: 1.0000\n",
      "Epoch 63/100\n",
      "1/1 - 0s - loss: 0.5914 - binary_accuracy: 1.0000\n",
      "Epoch 64/100\n",
      "1/1 - 0s - loss: 0.5896 - binary_accuracy: 1.0000\n",
      "Epoch 65/100\n",
      "1/1 - 0s - loss: 0.5877 - binary_accuracy: 1.0000\n",
      "Epoch 66/100\n",
      "1/1 - 0s - loss: 0.5859 - binary_accuracy: 1.0000\n",
      "Epoch 67/100\n",
      "1/1 - 0s - loss: 0.5840 - binary_accuracy: 1.0000\n",
      "Epoch 68/100\n",
      "1/1 - 0s - loss: 0.5822 - binary_accuracy: 1.0000\n",
      "Epoch 69/100\n",
      "1/1 - 0s - loss: 0.5803 - binary_accuracy: 1.0000\n",
      "Epoch 70/100\n",
      "1/1 - 0s - loss: 0.5784 - binary_accuracy: 1.0000\n",
      "Epoch 71/100\n",
      "1/1 - 0s - loss: 0.5765 - binary_accuracy: 1.0000\n",
      "Epoch 72/100\n",
      "1/1 - 0s - loss: 0.5746 - binary_accuracy: 1.0000\n",
      "Epoch 73/100\n",
      "1/1 - 0s - loss: 0.5727 - binary_accuracy: 1.0000\n",
      "Epoch 74/100\n",
      "1/1 - 0s - loss: 0.5708 - binary_accuracy: 1.0000\n",
      "Epoch 75/100\n",
      "1/1 - 0s - loss: 0.5689 - binary_accuracy: 1.0000\n",
      "Epoch 76/100\n",
      "1/1 - 0s - loss: 0.5669 - binary_accuracy: 1.0000\n",
      "Epoch 77/100\n",
      "1/1 - 0s - loss: 0.5650 - binary_accuracy: 1.0000\n",
      "Epoch 78/100\n",
      "1/1 - 0s - loss: 0.5630 - binary_accuracy: 1.0000\n",
      "Epoch 79/100\n",
      "1/1 - 0s - loss: 0.5611 - binary_accuracy: 1.0000\n",
      "Epoch 80/100\n",
      "1/1 - 0s - loss: 0.5591 - binary_accuracy: 1.0000\n",
      "Epoch 81/100\n",
      "1/1 - 0s - loss: 0.5571 - binary_accuracy: 1.0000\n",
      "Epoch 82/100\n",
      "1/1 - 0s - loss: 0.5551 - binary_accuracy: 1.0000\n",
      "Epoch 83/100\n",
      "1/1 - 0s - loss: 0.5532 - binary_accuracy: 1.0000\n",
      "Epoch 84/100\n",
      "1/1 - 0s - loss: 0.5512 - binary_accuracy: 1.0000\n",
      "Epoch 85/100\n",
      "1/1 - 0s - loss: 0.5492 - binary_accuracy: 1.0000\n",
      "Epoch 86/100\n",
      "1/1 - 0s - loss: 0.5472 - binary_accuracy: 1.0000\n",
      "Epoch 87/100\n",
      "1/1 - 0s - loss: 0.5451 - binary_accuracy: 1.0000\n",
      "Epoch 88/100\n",
      "1/1 - 0s - loss: 0.5431 - binary_accuracy: 1.0000\n",
      "Epoch 89/100\n",
      "1/1 - 0s - loss: 0.5411 - binary_accuracy: 1.0000\n",
      "Epoch 90/100\n",
      "1/1 - 0s - loss: 0.5391 - binary_accuracy: 1.0000\n",
      "Epoch 91/100\n",
      "1/1 - 0s - loss: 0.5370 - binary_accuracy: 1.0000\n",
      "Epoch 92/100\n",
      "1/1 - 0s - loss: 0.5350 - binary_accuracy: 1.0000\n",
      "Epoch 93/100\n",
      "1/1 - 0s - loss: 0.5329 - binary_accuracy: 1.0000\n",
      "Epoch 94/100\n",
      "1/1 - 0s - loss: 0.5309 - binary_accuracy: 1.0000\n",
      "Epoch 95/100\n",
      "1/1 - 0s - loss: 0.5288 - binary_accuracy: 1.0000\n",
      "Epoch 96/100\n",
      "1/1 - 0s - loss: 0.5267 - binary_accuracy: 1.0000\n",
      "Epoch 97/100\n",
      "1/1 - 0s - loss: 0.5247 - binary_accuracy: 1.0000\n",
      "Epoch 98/100\n",
      "1/1 - 0s - loss: 0.5226 - binary_accuracy: 1.0000\n",
      "Epoch 99/100\n",
      "1/1 - 0s - loss: 0.5205 - binary_accuracy: 1.0000\n",
      "Epoch 100/100\n",
      "1/1 - 0s - loss: 0.5184 - binary_accuracy: 1.0000\n"
     ]
    },
    {
     "data": {
      "text/plain": [
       "<tensorflow.python.keras.callbacks.History at 0x22c47d938c8>"
      ]
     },
     "execution_count": 127,
     "metadata": {
      "tags": []
     },
     "output_type": "execute_result"
    }
   ],
   "source": [
    "model.compile(optimizer=\"adam\", loss=\"binary_crossentropy\", metrics=[\"binary_accuracy\"])\n",
    "\n",
    "model.fit(X_train, y_train, epochs=100, verbose=2)"
   ]
  },
  {
   "cell_type": "markdown",
   "metadata": {
    "id": "ZZxrwxt7EKHp"
   },
   "source": [
    "### 4-3. 감성 분류하기(Pre-trained Embedding)"
   ]
  },
  {
   "cell_type": "code",
   "execution_count": null,
   "metadata": {
    "id": "hQABlZvY5_Bg"
   },
   "outputs": [],
   "source": [
    "path = \"GoogleNews-vectors-negative300.bin.gz\"\n",
    "if os.path.exists(path):\n",
    "    pass\n",
    "else:\n",
    "    wget.download(f\"https://s3.amazonaws.com/dl4j-distribution/{path}\")\n",
    "\n",
    "# 구글의 사전 훈련된 Word2vec 모델을 로드합니다.\n",
    "w2v_google = gensim.models.KeyedVectors.load_word2vec_format(path, binary=True)"
   ]
  },
  {
   "cell_type": "code",
   "execution_count": null,
   "metadata": {
    "colab": {
     "base_uri": "https://localhost:8080/",
     "height": 34
    },
    "id": "Lq1EENY_ESaQ",
    "outputId": "c38a01b1-38e2-4f74-a864-1b4eb744eb11"
   },
   "outputs": [
    {
     "name": "stdout",
     "output_type": "stream",
     "text": [
      "(3000000, 300)\n"
     ]
    }
   ],
   "source": [
    "print(w2v_google.vectors.shape) # 모델의 크기 확인"
   ]
  },
  {
   "cell_type": "code",
   "execution_count": null,
   "metadata": {
    "id": "u1tTd77XETPg"
   },
   "outputs": [],
   "source": [
    "#단어 집합 크기의 행과 300개의 열을 가지는 행렬 생성. 값은 전부 0으로 채워진다.\n",
    "emb_matrix = np.zeros((vocab_size+1, 300))"
   ]
  },
  {
   "cell_type": "code",
   "execution_count": null,
   "metadata": {
    "id": "TBci3LruEUUu"
   },
   "outputs": [],
   "source": [
    "def get_vector(word):\n",
    "    if word in w2v_google:\n",
    "        return w2v_google[word]\n",
    "    else:\n",
    "        return None"
   ]
  },
  {
   "cell_type": "code",
   "execution_count": null,
   "metadata": {
    "id": "CEf4RNJ25_Bh",
    "outputId": "fcd62cbb-820a-4d90-9189-9c6ab67294b1"
   },
   "outputs": [
    {
     "name": "stdout",
     "output_type": "stream",
     "text": [
      "{'nice': 1, 'great': 2, 'best': 3, 'amazing': 4, 'stop': 5, 'lies': 6, 'pitiful': 7, 'nerd': 8, 'excellent': 9, 'work': 10, 'supreme': 11, 'quality': 12, 'bad': 13, 'highly': 14, 'respectable': 15}\n"
     ]
    }
   ],
   "source": [
    "print(tkn.word_index)"
   ]
  },
  {
   "cell_type": "code",
   "execution_count": null,
   "metadata": {
    "id": "cnIoFroj5_Bi"
   },
   "outputs": [],
   "source": [
    "for word, idx in tkn.word_index.items():\n",
    "    try:\n",
    "        emb_matrix[idx] = w2v_google[word]\n",
    "    except:\n",
    "        continue"
   ]
  },
  {
   "cell_type": "code",
   "execution_count": null,
   "metadata": {
    "id": "X7Hl1Ies5_Bi",
    "outputId": "c7e79d88-c127-42fb-acc6-dc19ae4b7ff0"
   },
   "outputs": [
    {
     "data": {
      "text/plain": [
       "array([ 0.174,  0.173,  0.113,  0.166,  0.059, -0.014,  0.129, -0.218,\n",
       "        0.074,  0.205, -0.097, -0.011, -0.032,  0.064, -0.054,  0.116,\n",
       "        0.215,  0.116, -0.108,  0.021,  0.124,  0.079, -0.244,  0.119,\n",
       "        0.219, -0.142, -0.093,  0.099,  0.132, -0.012,  0.057,  0.124,\n",
       "        0.118,  0.512,  0.046, -0.021,  0.017,  0.109,  0.117,  0.085,\n",
       "        0.17 , -0.246,  0.129, -0.045, -0.004, -0.149,  0.237,  0.12 ,\n",
       "       -0.157, -0.024, -0.047,  0.188,  0.008,  0.307, -0.101,  0.099,\n",
       "       -0.266, -0.357,  0.059, -0.021,  0.012,  0.06 ,  0.234, -0.018,\n",
       "        0.002, -0.042,  0.188,  0.025, -0.076, -0.029, -0.021, -0.058,\n",
       "       -0.047,  0.17 ,  0.046, -0.132,  0.033,  0.018,  0.147, -0.107,\n",
       "       -0.108,  0.04 ,  0.068, -0.095,  0.157, -0.234, -0.038,  0.053,\n",
       "       -0.074, -0.021, -0.055, -0.226,  0.033, -0.044,  0.004, -0.041,\n",
       "       -0.134,  0.046, -0.096, -0.242,  0.165,  0.204,  0.086, -0.086,\n",
       "       -0.112,  0.224, -0.164, -0.083, -0.034,  0.035,  0.158,  0.134,\n",
       "       -0.21 ,  0.445,  0.342, -0.122, -0.113,  0.11 ,  0.207, -0.204,\n",
       "       -0.011,  0.059, -0.084, -0.021,  0.016,  0.297,  0.104, -0.328,\n",
       "        0.13 ,  0.011,  0.035,  0.223, -0.181,  0.016,  0.031, -0.018,\n",
       "       -0.07 , -0.061,  0.143,  0.062,  0.141, -0.104,  0.059, -0.092,\n",
       "       -0.134,  0.003, -0.238, -0.118,  0.056,  0.143,  0.138,  0.229,\n",
       "       -0.18 ,  0.139, -0.013,  0.044, -0.065, -0.105,  0.207, -0.163,\n",
       "       -0.081, -0.182,  0.303, -0.159, -0.153, -0.295,  0.175, -0.056,\n",
       "        0.041,  0.105, -0.215, -0.071,  0.065,  0.05 , -0.124, -0.119,\n",
       "       -0.048, -0.252, -0.018, -0.132, -0.229,  0.04 , -0.11 , -0.367,\n",
       "       -0.111,  0.256,  0.037,  0.024, -0.022,  0.195, -0.009,  0.449,\n",
       "        0.053,  0.049,  0.099, -0.197,  0.003, -0.06 , -0.014, -0.169,\n",
       "       -0.169,  0.189, -0.219, -0.027, -0.08 , -0.118,  0.053,  0.047,\n",
       "       -0.023,  0.078, -0.098,  0.031,  0.102, -0.202, -0.301, -0.108,\n",
       "       -0.092, -0.163,  0.011,  0.134,  0.052, -0.041,  0.275,  0.147,\n",
       "       -0.022,  0.029,  0.189,  0.205, -0.086,  0.197, -0.21 , -0.25 ,\n",
       "       -0.118,  0.293,  0.165,  0.03 ,  0.069,  0.147, -0.02 ,  0.195,\n",
       "       -0.256, -0.254,  0.381, -0.014,  0.021, -0.071, -0.041, -0.215,\n",
       "        0.192, -0.094,  0.099,  0.188, -0.044,  0.207,  0.303, -0.196,\n",
       "       -0.223,  0.098,  0.111,  0.139,  0.234, -0.021, -0.064, -0.029,\n",
       "        0.224, -0.047,  0.01 , -0.026,  0.066,  0.053, -0.033,  0.307,\n",
       "       -0.184, -0.106, -0.096, -0.125, -0.344, -0.367, -0.314,  0.277,\n",
       "       -0.045,  0.024,  0.239, -0.031,  0.085,  0.035, -0.023,  0.044,\n",
       "        0.089,  0.217,  0.141, -0.222, -0.056,  0.034, -0.12 , -0.082,\n",
       "        0.121, -0.164, -0.128,  0.098], dtype=float32)"
      ]
     },
     "execution_count": 162,
     "metadata": {
      "tags": []
     },
     "output_type": "execute_result"
    }
   ],
   "source": [
    "w2v_google[\"supreme\"]"
   ]
  },
  {
   "cell_type": "code",
   "execution_count": null,
   "metadata": {
    "colab": {
     "base_uri": "https://localhost:8080/",
     "height": 34
    },
    "id": "lV_9jIh7EXHH",
    "outputId": "280279d9-4084-46bd-ef79-400eca5997db"
   },
   "outputs": [
    {
     "data": {
      "text/plain": [
       "array([ 0.174,  0.173,  0.113,  0.166,  0.059, -0.014,  0.129, -0.218,\n",
       "        0.074,  0.205, -0.097, -0.011, -0.032,  0.064, -0.054,  0.116,\n",
       "        0.215,  0.116, -0.108,  0.021,  0.124,  0.079, -0.244,  0.119,\n",
       "        0.219, -0.142, -0.093,  0.099,  0.132, -0.012,  0.057,  0.124,\n",
       "        0.118,  0.512,  0.046, -0.021,  0.017,  0.109,  0.117,  0.085,\n",
       "        0.17 , -0.246,  0.129, -0.045, -0.004, -0.149,  0.237,  0.12 ,\n",
       "       -0.157, -0.024, -0.047,  0.188,  0.008,  0.307, -0.101,  0.099,\n",
       "       -0.266, -0.357,  0.059, -0.021,  0.012,  0.06 ,  0.234, -0.018,\n",
       "        0.002, -0.042,  0.188,  0.025, -0.076, -0.029, -0.021, -0.058,\n",
       "       -0.047,  0.17 ,  0.046, -0.132,  0.033,  0.018,  0.147, -0.107,\n",
       "       -0.108,  0.04 ,  0.068, -0.095,  0.157, -0.234, -0.038,  0.053,\n",
       "       -0.074, -0.021, -0.055, -0.226,  0.033, -0.044,  0.004, -0.041,\n",
       "       -0.134,  0.046, -0.096, -0.242,  0.165,  0.204,  0.086, -0.086,\n",
       "       -0.112,  0.224, -0.164, -0.083, -0.034,  0.035,  0.158,  0.134,\n",
       "       -0.21 ,  0.445,  0.342, -0.122, -0.113,  0.11 ,  0.207, -0.204,\n",
       "       -0.011,  0.059, -0.084, -0.021,  0.016,  0.297,  0.104, -0.328,\n",
       "        0.13 ,  0.011,  0.035,  0.223, -0.181,  0.016,  0.031, -0.018,\n",
       "       -0.07 , -0.061,  0.143,  0.062,  0.141, -0.104,  0.059, -0.092,\n",
       "       -0.134,  0.003, -0.238, -0.118,  0.056,  0.143,  0.138,  0.229,\n",
       "       -0.18 ,  0.139, -0.013,  0.044, -0.065, -0.105,  0.207, -0.163,\n",
       "       -0.081, -0.182,  0.303, -0.159, -0.153, -0.295,  0.175, -0.056,\n",
       "        0.041,  0.105, -0.215, -0.071,  0.065,  0.05 , -0.124, -0.119,\n",
       "       -0.048, -0.252, -0.018, -0.132, -0.229,  0.04 , -0.11 , -0.367,\n",
       "       -0.111,  0.256,  0.037,  0.024, -0.022,  0.195, -0.009,  0.449,\n",
       "        0.053,  0.049,  0.099, -0.197,  0.003, -0.06 , -0.014, -0.169,\n",
       "       -0.169,  0.189, -0.219, -0.027, -0.08 , -0.118,  0.053,  0.047,\n",
       "       -0.023,  0.078, -0.098,  0.031,  0.102, -0.202, -0.301, -0.108,\n",
       "       -0.092, -0.163,  0.011,  0.134,  0.052, -0.041,  0.275,  0.147,\n",
       "       -0.022,  0.029,  0.189,  0.205, -0.086,  0.197, -0.21 , -0.25 ,\n",
       "       -0.118,  0.293,  0.165,  0.03 ,  0.069,  0.147, -0.02 ,  0.195,\n",
       "       -0.256, -0.254,  0.381, -0.014,  0.021, -0.071, -0.041, -0.215,\n",
       "        0.192, -0.094,  0.099,  0.188, -0.044,  0.207,  0.303, -0.196,\n",
       "       -0.223,  0.098,  0.111,  0.139,  0.234, -0.021, -0.064, -0.029,\n",
       "        0.224, -0.047,  0.01 , -0.026,  0.066,  0.053, -0.033,  0.307,\n",
       "       -0.184, -0.106, -0.096, -0.125, -0.344, -0.367, -0.314,  0.277,\n",
       "       -0.045,  0.024,  0.239, -0.031,  0.085,  0.035, -0.023,  0.044,\n",
       "        0.089,  0.217,  0.141, -0.222, -0.056,  0.034, -0.12 , -0.082,\n",
       "        0.121, -0.164, -0.128,  0.098])"
      ]
     },
     "execution_count": 164,
     "metadata": {
      "tags": []
     },
     "output_type": "execute_result"
    }
   ],
   "source": [
    "emb_matrix[11]"
   ]
  },
  {
   "cell_type": "code",
   "execution_count": null,
   "metadata": {
    "colab": {
     "base_uri": "https://localhost:8080/",
     "height": 1000
    },
    "id": "_WrcCmuuEYk_",
    "outputId": "7114d568-2b6b-4ace-e61d-5761434b1615"
   },
   "outputs": [
    {
     "name": "stdout",
     "output_type": "stream",
     "text": [
      "Epoch 1/100\n",
      "1/1 - 0s - loss: 0.7204 - binary_accuracy: 0.2857\n",
      "Epoch 2/100\n",
      "1/1 - 0s - loss: 0.7013 - binary_accuracy: 0.2857\n",
      "Epoch 3/100\n",
      "1/1 - 0s - loss: 0.6827 - binary_accuracy: 0.5714\n",
      "Epoch 4/100\n",
      "1/1 - 0s - loss: 0.6646 - binary_accuracy: 0.7143\n",
      "Epoch 5/100\n",
      "1/1 - 0s - loss: 0.6471 - binary_accuracy: 0.7143\n",
      "Epoch 6/100\n",
      "1/1 - 0s - loss: 0.6302 - binary_accuracy: 0.8571\n",
      "Epoch 7/100\n",
      "1/1 - 0s - loss: 0.6138 - binary_accuracy: 0.8571\n",
      "Epoch 8/100\n",
      "1/1 - 0s - loss: 0.5979 - binary_accuracy: 1.0000\n",
      "Epoch 9/100\n",
      "1/1 - 0s - loss: 0.5825 - binary_accuracy: 1.0000\n",
      "Epoch 10/100\n",
      "1/1 - 0s - loss: 0.5677 - binary_accuracy: 1.0000\n",
      "Epoch 11/100\n",
      "1/1 - 0s - loss: 0.5533 - binary_accuracy: 1.0000\n",
      "Epoch 12/100\n",
      "1/1 - 0s - loss: 0.5394 - binary_accuracy: 1.0000\n",
      "Epoch 13/100\n",
      "1/1 - 0s - loss: 0.5260 - binary_accuracy: 1.0000\n",
      "Epoch 14/100\n",
      "1/1 - 0s - loss: 0.5131 - binary_accuracy: 1.0000\n",
      "Epoch 15/100\n",
      "1/1 - 0s - loss: 0.5006 - binary_accuracy: 1.0000\n",
      "Epoch 16/100\n",
      "1/1 - 0s - loss: 0.4885 - binary_accuracy: 1.0000\n",
      "Epoch 17/100\n",
      "1/1 - 0s - loss: 0.4768 - binary_accuracy: 1.0000\n",
      "Epoch 18/100\n",
      "1/1 - 0s - loss: 0.4655 - binary_accuracy: 1.0000\n",
      "Epoch 19/100\n",
      "1/1 - 0s - loss: 0.4545 - binary_accuracy: 1.0000\n",
      "Epoch 20/100\n",
      "1/1 - 0s - loss: 0.4439 - binary_accuracy: 1.0000\n",
      "Epoch 21/100\n",
      "1/1 - 0s - loss: 0.4337 - binary_accuracy: 1.0000\n",
      "Epoch 22/100\n",
      "1/1 - 0s - loss: 0.4237 - binary_accuracy: 1.0000\n",
      "Epoch 23/100\n",
      "1/1 - 0s - loss: 0.4141 - binary_accuracy: 1.0000\n",
      "Epoch 24/100\n",
      "1/1 - 0s - loss: 0.4048 - binary_accuracy: 1.0000\n",
      "Epoch 25/100\n",
      "1/1 - 0s - loss: 0.3958 - binary_accuracy: 1.0000\n",
      "Epoch 26/100\n",
      "1/1 - 0s - loss: 0.3870 - binary_accuracy: 1.0000\n",
      "Epoch 27/100\n",
      "1/1 - 0s - loss: 0.3785 - binary_accuracy: 1.0000\n",
      "Epoch 28/100\n",
      "1/1 - 0s - loss: 0.3703 - binary_accuracy: 1.0000\n",
      "Epoch 29/100\n",
      "1/1 - 0s - loss: 0.3623 - binary_accuracy: 1.0000\n",
      "Epoch 30/100\n",
      "1/1 - 0s - loss: 0.3546 - binary_accuracy: 1.0000\n",
      "Epoch 31/100\n",
      "1/1 - 0s - loss: 0.3470 - binary_accuracy: 1.0000\n",
      "Epoch 32/100\n",
      "1/1 - 0s - loss: 0.3398 - binary_accuracy: 1.0000\n",
      "Epoch 33/100\n",
      "1/1 - 0s - loss: 0.3327 - binary_accuracy: 1.0000\n",
      "Epoch 34/100\n",
      "1/1 - 0s - loss: 0.3258 - binary_accuracy: 1.0000\n",
      "Epoch 35/100\n",
      "1/1 - 0s - loss: 0.3191 - binary_accuracy: 1.0000\n",
      "Epoch 36/100\n",
      "1/1 - 0s - loss: 0.3127 - binary_accuracy: 1.0000\n",
      "Epoch 37/100\n",
      "1/1 - 0s - loss: 0.3064 - binary_accuracy: 1.0000\n",
      "Epoch 38/100\n",
      "1/1 - 0s - loss: 0.3003 - binary_accuracy: 1.0000\n",
      "Epoch 39/100\n",
      "1/1 - 0s - loss: 0.2943 - binary_accuracy: 1.0000\n",
      "Epoch 40/100\n",
      "1/1 - 0s - loss: 0.2886 - binary_accuracy: 1.0000\n",
      "Epoch 41/100\n",
      "1/1 - 0s - loss: 0.2830 - binary_accuracy: 1.0000\n",
      "Epoch 42/100\n",
      "1/1 - 0s - loss: 0.2775 - binary_accuracy: 1.0000\n",
      "Epoch 43/100\n",
      "1/1 - 0s - loss: 0.2722 - binary_accuracy: 1.0000\n",
      "Epoch 44/100\n",
      "1/1 - 0s - loss: 0.2671 - binary_accuracy: 1.0000\n",
      "Epoch 45/100\n",
      "1/1 - 0s - loss: 0.2621 - binary_accuracy: 1.0000\n",
      "Epoch 46/100\n",
      "1/1 - 0s - loss: 0.2572 - binary_accuracy: 1.0000\n",
      "Epoch 47/100\n",
      "1/1 - 0s - loss: 0.2524 - binary_accuracy: 1.0000\n",
      "Epoch 48/100\n",
      "1/1 - 0s - loss: 0.2478 - binary_accuracy: 1.0000\n",
      "Epoch 49/100\n",
      "1/1 - 0s - loss: 0.2434 - binary_accuracy: 1.0000\n",
      "Epoch 50/100\n",
      "1/1 - 0s - loss: 0.2390 - binary_accuracy: 1.0000\n",
      "Epoch 51/100\n",
      "1/1 - 0s - loss: 0.2347 - binary_accuracy: 1.0000\n",
      "Epoch 52/100\n",
      "1/1 - 0s - loss: 0.2306 - binary_accuracy: 1.0000\n",
      "Epoch 53/100\n",
      "1/1 - 0s - loss: 0.2266 - binary_accuracy: 1.0000\n",
      "Epoch 54/100\n",
      "1/1 - 0s - loss: 0.2227 - binary_accuracy: 1.0000\n",
      "Epoch 55/100\n",
      "1/1 - 0s - loss: 0.2188 - binary_accuracy: 1.0000\n",
      "Epoch 56/100\n",
      "1/1 - 0s - loss: 0.2151 - binary_accuracy: 1.0000\n",
      "Epoch 57/100\n",
      "1/1 - 0s - loss: 0.2115 - binary_accuracy: 1.0000\n",
      "Epoch 58/100\n",
      "1/1 - 0s - loss: 0.2080 - binary_accuracy: 1.0000\n",
      "Epoch 59/100\n",
      "1/1 - 0s - loss: 0.2045 - binary_accuracy: 1.0000\n",
      "Epoch 60/100\n",
      "1/1 - 0s - loss: 0.2012 - binary_accuracy: 1.0000\n",
      "Epoch 61/100\n",
      "1/1 - 0s - loss: 0.1979 - binary_accuracy: 1.0000\n",
      "Epoch 62/100\n",
      "1/1 - 0s - loss: 0.1947 - binary_accuracy: 1.0000\n",
      "Epoch 63/100\n",
      "1/1 - 0s - loss: 0.1916 - binary_accuracy: 1.0000\n",
      "Epoch 64/100\n",
      "1/1 - 0s - loss: 0.1885 - binary_accuracy: 1.0000\n",
      "Epoch 65/100\n",
      "1/1 - 0s - loss: 0.1856 - binary_accuracy: 1.0000\n",
      "Epoch 66/100\n",
      "1/1 - 0s - loss: 0.1827 - binary_accuracy: 1.0000\n",
      "Epoch 67/100\n",
      "1/1 - 0s - loss: 0.1798 - binary_accuracy: 1.0000\n",
      "Epoch 68/100\n",
      "1/1 - 0s - loss: 0.1771 - binary_accuracy: 1.0000\n",
      "Epoch 69/100\n",
      "1/1 - 0s - loss: 0.1744 - binary_accuracy: 1.0000\n",
      "Epoch 70/100\n",
      "1/1 - 0s - loss: 0.1718 - binary_accuracy: 1.0000\n",
      "Epoch 71/100\n",
      "1/1 - 0s - loss: 0.1692 - binary_accuracy: 1.0000\n",
      "Epoch 72/100\n",
      "1/1 - 0s - loss: 0.1667 - binary_accuracy: 1.0000\n",
      "Epoch 73/100\n",
      "1/1 - 0s - loss: 0.1642 - binary_accuracy: 1.0000\n",
      "Epoch 74/100\n",
      "1/1 - 0s - loss: 0.1618 - binary_accuracy: 1.0000\n",
      "Epoch 75/100\n",
      "1/1 - 0s - loss: 0.1595 - binary_accuracy: 1.0000\n",
      "Epoch 76/100\n",
      "1/1 - 0s - loss: 0.1572 - binary_accuracy: 1.0000\n",
      "Epoch 77/100\n",
      "1/1 - 0s - loss: 0.1549 - binary_accuracy: 1.0000\n",
      "Epoch 78/100\n",
      "1/1 - 0s - loss: 0.1528 - binary_accuracy: 1.0000\n",
      "Epoch 79/100\n",
      "1/1 - 0s - loss: 0.1506 - binary_accuracy: 1.0000\n",
      "Epoch 80/100\n",
      "1/1 - 0s - loss: 0.1485 - binary_accuracy: 1.0000\n",
      "Epoch 81/100\n",
      "1/1 - 0s - loss: 0.1465 - binary_accuracy: 1.0000\n",
      "Epoch 82/100\n",
      "1/1 - 0s - loss: 0.1445 - binary_accuracy: 1.0000\n",
      "Epoch 83/100\n",
      "1/1 - 0s - loss: 0.1425 - binary_accuracy: 1.0000\n",
      "Epoch 84/100\n",
      "1/1 - 0s - loss: 0.1406 - binary_accuracy: 1.0000\n",
      "Epoch 85/100\n",
      "1/1 - 0s - loss: 0.1387 - binary_accuracy: 1.0000\n",
      "Epoch 86/100\n",
      "1/1 - 0s - loss: 0.1368 - binary_accuracy: 1.0000\n",
      "Epoch 87/100\n",
      "1/1 - 0s - loss: 0.1350 - binary_accuracy: 1.0000\n",
      "Epoch 88/100\n",
      "1/1 - 0s - loss: 0.1333 - binary_accuracy: 1.0000\n",
      "Epoch 89/100\n",
      "1/1 - 0s - loss: 0.1315 - binary_accuracy: 1.0000\n",
      "Epoch 90/100\n",
      "1/1 - 0s - loss: 0.1298 - binary_accuracy: 1.0000\n",
      "Epoch 91/100\n",
      "1/1 - 0s - loss: 0.1282 - binary_accuracy: 1.0000\n",
      "Epoch 92/100\n",
      "1/1 - 0s - loss: 0.1266 - binary_accuracy: 1.0000\n",
      "Epoch 93/100\n",
      "1/1 - 0s - loss: 0.1250 - binary_accuracy: 1.0000\n",
      "Epoch 94/100\n",
      "1/1 - 0s - loss: 0.1234 - binary_accuracy: 1.0000\n",
      "Epoch 95/100\n",
      "1/1 - 0s - loss: 0.1219 - binary_accuracy: 1.0000\n",
      "Epoch 96/100\n",
      "1/1 - 0s - loss: 0.1204 - binary_accuracy: 1.0000\n",
      "Epoch 97/100\n",
      "1/1 - 0s - loss: 0.1189 - binary_accuracy: 1.0000\n",
      "Epoch 98/100\n",
      "1/1 - 0s - loss: 0.1174 - binary_accuracy: 1.0000\n",
      "Epoch 99/100\n",
      "1/1 - 0s - loss: 0.1160 - binary_accuracy: 1.0000\n",
      "Epoch 100/100\n",
      "1/1 - 0s - loss: 0.1146 - binary_accuracy: 1.0000\n"
     ]
    },
    {
     "data": {
      "text/plain": [
       "<tensorflow.python.keras.callbacks.History at 0x22c59d70a48>"
      ]
     },
     "execution_count": 167,
     "metadata": {
      "tags": []
     },
     "output_type": "execute_result"
    }
   ],
   "source": [
    "model = tf.keras.Sequential()\n",
    "model.add(tf.keras.layers.Embedding(input_dim=vocab_size+1, output_dim=300, weights=[emb_matrix], input_length=max_len, trainable=False))\n",
    "model.add(tf.keras.layers.Flatten())\n",
    "model.add(tf.keras.layers.Dense(1, activation=\"sigmoid\"))\n",
    "\n",
    "model.compile(optimizer=\"adam\", loss=\"binary_crossentropy\", metrics=[\"binary_accuracy\"])\n",
    "\n",
    "model.fit(X_train, y_train, epochs=100, verbose=2)"
   ]
  },
  {
   "cell_type": "markdown",
   "metadata": {
    "id": "O4QYT3BVK64Z"
   },
   "source": [
    "# Tensorflow Hub로부터 Pre-trained tf.keras.layers 사용하기"
   ]
  },
  {
   "cell_type": "code",
   "execution_count": null,
   "metadata": {
    "id": "GZDwvdYeEf9a"
   },
   "outputs": [],
   "source": [
    "import tensorflow as tf\n",
    "import tensorflow_datasets as tfds\n",
    "import tensorflow_hub as hub"
   ]
  },
  {
   "cell_type": "code",
   "execution_count": null,
   "metadata": {
    "id": "ysjJcE7qHSub"
   },
   "outputs": [],
   "source": [
    "(train_data, validation_data, test_data), info = tfds.load(\"imdb_reviews\", split=[\"train[:80%]\", \"train[80%:90%]\", \"train[90%:]\"], with_info=True, as_supervised=True)"
   ]
  },
  {
   "cell_type": "code",
   "execution_count": null,
   "metadata": {
    "colab": {
     "base_uri": "https://localhost:8080/",
     "height": 250
    },
    "id": "mHLg9mD7HUAp",
    "outputId": "6baf3aa7-55ac-4d6b-ba15-2db8dab059f3"
   },
   "outputs": [
    {
     "data": {
      "text/plain": [
       "<tf.Tensor: shape=(10,), dtype=string, numpy=\n",
       "array([b\"This was an absolutely terrible movie. Don't be lured in by Christopher Walken or Michael Ironside. Both are great actors, but this must simply be their worst role in history. Even their great acting could not redeem this movie's ridiculous storyline. This movie is an early nineties US propaganda piece. The most pathetic scenes were those when the Columbian rebels were making their cases for revolutions. Maria Conchita Alonso appeared phony, and her pseudo-love affair with Walken was nothing but a pathetic emotional plug in a movie that was devoid of any real meaning. I am disappointed that there are movies like this, ruining actor's like Christopher Walken's good name. I could barely sit through it.\",\n",
       "       b'I have been known to fall asleep during films, but this is usually due to a combination of things including, really tired, being warm and comfortable on the sette and having just eaten a lot. However on this occasion I fell asleep because the film was rubbish. The plot development was constant. Constantly slow and boring. Things seemed to happen, but with no explanation of what was causing them or why. I admit, I may have missed part of the film, but i watched the majority of it and everything just seemed to happen of its own accord without any real concern for anything else. I cant recommend this film at all.',\n",
       "       b'Mann photographs the Alberta Rocky Mountains in a superb fashion, and Jimmy Stewart and Walter Brennan give enjoyable performances as they always seem to do. <br /><br />But come on Hollywood - a Mountie telling the people of Dawson City, Yukon to elect themselves a marshal (yes a marshal!) and to enforce the law themselves, then gunfighters battling it out on the streets for control of the town? <br /><br />Nothing even remotely resembling that happened on the Canadian side of the border during the Klondike gold rush. Mr. Mann and company appear to have mistaken Dawson City for Deadwood, the Canadian North for the American Wild West.<br /><br />Canadian viewers be prepared for a Reefer Madness type of enjoyable howl with this ludicrous plot, or, to shake your head in disgust.',\n",
       "       b'This is the kind of film for a snowy Sunday afternoon when the rest of the world can go ahead with its own business as you descend into a big arm-chair and mellow for a couple of hours. Wonderful performances from Cher and Nicolas Cage (as always) gently row the plot along. There are no rapids to cross, no dangerous waters, just a warm and witty paddle through New York life at its best. A family film in every sense and one that deserves the praise it received.',\n",
       "       b'As others have mentioned, all the women that go nude in this film are mostly absolutely gorgeous. The plot very ably shows the hypocrisy of the female libido. When men are around they want to be pursued, but when no \"men\" are around, they become the pursuers of a 14 year old boy. And the boy becomes a man really fast (we should all be so lucky at this age!). He then gets up the courage to pursue his true love.',\n",
       "       b\"This is a film which should be seen by anybody interested in, effected by, or suffering from an eating disorder. It is an amazingly accurate and sensitive portrayal of bulimia in a teenage girl, its causes and its symptoms. The girl is played by one of the most brilliant young actresses working in cinema today, Alison Lohman, who was later so spectacular in 'Where the Truth Lies'. I would recommend that this film be shown in all schools, as you will never see a better on this subject. Alison Lohman is absolutely outstanding, and one marvels at her ability to convey the anguish of a girl suffering from this compulsive disorder. If barometers tell us the air pressure, Alison Lohman tells us the emotional pressure with the same degree of accuracy. Her emotional range is so precise, each scene could be measured microscopically for its gradations of trauma, on a scale of rising hysteria and desperation which reaches unbearable intensity. Mare Winningham is the perfect choice to play her mother, and does so with immense sympathy and a range of emotions just as finely tuned as Lohman's. Together, they make a pair of sensitive emotional oscillators vibrating in resonance with one another. This film is really an astonishing achievement, and director Katt Shea should be proud of it. The only reason for not seeing it is if you are not interested in people. But even if you like nature films best, this is after all animal behaviour at the sharp edge. Bulimia is an extreme version of how a tormented soul can destroy her own body in a frenzy of despair. And if we don't sympathise with people suffering from the depths of despair, then we are dead inside.\",\n",
       "       b'Okay, you have:<br /><br />Penelope Keith as Miss Herringbone-Tweed, B.B.E. (Backbone of England.) She\\'s killed off in the first scene - that\\'s right, folks; this show has no backbone!<br /><br />Peter O\\'Toole as Ol\\' Colonel Cricket from The First War and now the emblazered Lord of the Manor.<br /><br />Joanna Lumley as the ensweatered Lady of the Manor, 20 years younger than the colonel and 20 years past her own prime but still glamourous (Brit spelling, not mine) enough to have a toy-boy on the side. It\\'s alright, they have Col. Cricket\\'s full knowledge and consent (they guy even comes \\'round for Christmas!) Still, she\\'s considerate of the colonel enough to have said toy-boy her own age (what a gal!)<br /><br />David McCallum as said toy-boy, equally as pointlessly glamourous as his squeeze. Pilcher couldn\\'t come up with any cover for him within the story, so she gave him a hush-hush job at the Circus.<br /><br />and finally:<br /><br />Susan Hampshire as Miss Polonia Teacups, Venerable Headmistress of the Venerable Girls\\' Boarding-School, serving tea in her office with a dash of deep, poignant advice for life in the outside world just before graduation. Her best bit of advice: \"I\\'ve only been to Nancherrow (the local Stately Home of England) once. I thought it was very beautiful but, somehow, not part of the real world.\" Well, we can\\'t say they didn\\'t warn us.<br /><br />Ah, Susan - time was, your character would have been running the whole show. They don\\'t write \\'em like that any more. Our loss, not yours.<br /><br />So - with a cast and setting like this, you have the re-makings of \"Brideshead Revisited,\" right?<br /><br />Wrong! They took these 1-dimensional supporting roles because they paid so well. After all, acting is one of the oldest temp-jobs there is (YOU name another!)<br /><br />First warning sign: lots and lots of backlighting. They get around it by shooting outdoors - \"hey, it\\'s just the sunlight!\"<br /><br />Second warning sign: Leading Lady cries a lot. When not crying, her eyes are moist. That\\'s the law of romance novels: Leading Lady is \"dewy-eyed.\"<br /><br />Henceforth, Leading Lady shall be known as L.L.<br /><br />Third warning sign: L.L. actually has stars in her eyes when she\\'s in love. Still, I\\'ll give Emily Mortimer an award just for having to act with that spotlight in her eyes (I wonder . did they use contacts?)<br /><br />And lastly, fourth warning sign: no on-screen female character is \"Mrs.\" She\\'s either \"Miss\" or \"Lady.\"<br /><br />When all was said and done, I still couldn\\'t tell you who was pursuing whom and why. I couldn\\'t even tell you what was said and done.<br /><br />To sum up: they all live through World War II without anything happening to them at all.<br /><br />OK, at the end, L.L. finds she\\'s lost her parents to the Japanese prison camps and baby sis comes home catatonic. Meanwhile (there\\'s always a \"meanwhile,\") some young guy L.L. had a crush on (when, I don\\'t know) comes home from some wartime tough spot and is found living on the street by Lady of the Manor (must be some street if SHE\\'s going to find him there.) Both war casualties are whisked away to recover at Nancherrow (SOMEBODY has to be \"whisked away\" SOMEWHERE in these romance stories!)<br /><br />Great drama.',\n",
       "       b'The film is based on a genuine 1950s novel.<br /><br />Journalist Colin McInnes wrote a set of three \"London novels\": \"Absolute Beginners\", \"City of Spades\" and \"Mr Love and Justice\". I have read all three. The first two are excellent. The last, perhaps an experiment that did not come off. But McInnes\\'s work is highly acclaimed; and rightly so. This musical is the novelist\\'s ultimate nightmare - to see the fruits of one\\'s mind being turned into a glitzy, badly-acted, soporific one-dimensional apology of a film that says it captures the spirit of 1950s London, and does nothing of the sort.<br /><br />Thank goodness Colin McInnes wasn\\'t alive to witness it.',\n",
       "       b'I really love the sexy action and sci-fi films of the sixties and its because of the actress\\'s that appeared in them. They found the sexiest women to be in these films and it didn\\'t matter if they could act (Remember \"Candy\"?). The reason I was disappointed by this film was because it wasn\\'t nostalgic enough. The story here has a European sci-fi film called \"Dragonfly\" being made and the director is fired. So the producers decide to let a young aspiring filmmaker (Jeremy Davies) to complete the picture. They\\'re is one real beautiful woman in the film who plays Dragonfly but she\\'s barely in it. Film is written and directed by Roman Coppola who uses some of his fathers exploits from his early days and puts it into the script. I wish the film could have been an homage to those early films. They could have lots of cameos by actors who appeared in them. There is one actor in this film who was popular from the sixties and its John Phillip Law (Barbarella). Gerard Depardieu, Giancarlo Giannini and Dean Stockwell appear as well. I guess I\\'m going to have to continue waiting for a director to make a good homage to the films of the sixties. If any are reading this, \"Make it as sexy as you can\"! I\\'ll be waiting!',\n",
       "       b'Sure, this one isn\\'t really a blockbuster, nor does it target such a position. \"Dieter\" is the first name of a quite popular German musician, who is either loved or hated for his kind of acting and thats exactly what this movie is about. It is based on the autobiography \"Dieter Bohlen\" wrote a few years ago but isn\\'t meant to be accurate on that. The movie is filled with some sexual offensive content (at least for American standard) which is either amusing (not for the other \"actors\" of course) or dumb - it depends on your individual kind of humor or on you being a \"Bohlen\"-Fan or not. Technically speaking there isn\\'t much to criticize. Speaking of me I find this movie to be an OK-movie.'],\n",
       "      dtype=object)>"
      ]
     },
     "execution_count": 143,
     "metadata": {
      "tags": []
     },
     "output_type": "execute_result"
    }
   ],
   "source": [
    "train_examples_batch, train_labels_batch = next(iter(train_data.batch(10)))\n",
    "train_examples_batch"
   ]
  },
  {
   "cell_type": "code",
   "execution_count": null,
   "metadata": {
    "colab": {
     "base_uri": "https://localhost:8080/",
     "height": 34
    },
    "id": "XM9a4nzRHVwp",
    "outputId": "5ac3d38c-e4f5-479f-ad6f-64e9f8d8709f"
   },
   "outputs": [
    {
     "data": {
      "text/plain": [
       "<tf.Tensor: shape=(10,), dtype=int64, numpy=array([0, 0, 0, 1, 1, 1, 0, 0, 0, 0])>"
      ]
     },
     "execution_count": 144,
     "metadata": {
      "tags": []
     },
     "output_type": "execute_result"
    }
   ],
   "source": [
    "train_labels_batch"
   ]
  },
  {
   "cell_type": "code",
   "execution_count": null,
   "metadata": {
    "colab": {
     "base_uri": "https://localhost:8080/",
     "height": 265
    },
    "id": "PHyd83pdHWm5",
    "outputId": "07301a59-40d3-42b0-9499-4fd7c9a0b70f"
   },
   "outputs": [
    {
     "data": {
      "text/plain": [
       "<tf.Tensor: shape=(3, 20), dtype=float32, numpy=\n",
       "array([[ 1.765786  , -3.882232  ,  3.9134233 , -1.5557289 , -3.3362343 ,\n",
       "        -1.7357955 , -1.9954445 ,  1.2989551 ,  5.081598  , -1.1041286 ,\n",
       "        -2.0503852 , -0.72675157, -0.65675956,  0.24436149, -3.7208383 ,\n",
       "         2.0954835 ,  2.2969332 , -2.0689783 , -2.9489717 , -1.1315987 ],\n",
       "       [ 1.8804485 , -2.5852382 ,  3.4066997 ,  1.0982676 , -4.056685  ,\n",
       "        -4.891284  , -2.785554  ,  1.3874227 ,  3.8476458 , -0.9256538 ,\n",
       "        -1.896706  ,  1.2113281 ,  0.11474707,  0.76209456, -4.8791065 ,\n",
       "         2.906149  ,  4.7087674 , -2.3652055 , -3.5015898 , -1.6390051 ],\n",
       "       [ 0.71152234, -0.6353217 ,  1.7385626 , -1.1168286 , -0.5451594 ,\n",
       "        -1.1808156 ,  0.09504455,  1.4653089 ,  0.66059524,  0.79308075,\n",
       "        -2.2268345 ,  0.07446612, -1.4075904 , -0.70645386, -1.907037  ,\n",
       "         1.4419787 ,  1.9551861 , -0.42660055, -2.8022065 ,  0.43727064]],\n",
       "      dtype=float32)>"
      ]
     },
     "execution_count": 149,
     "metadata": {
      "tags": []
     },
     "output_type": "execute_result"
    }
   ],
   "source": [
    "tf.keras.layers = \"https://tfhub.dev/google/tf2-preview/gnews-swivel-20dim/1\"\n",
    "hub_layer = hub.KerasLayer(tf.keras.layers, input_shape=[], \n",
    "                           dtype=tf.string, trainable=True)\n",
    "hub_layer(train_examples_batch[:3])"
   ]
  },
  {
   "cell_type": "code",
   "execution_count": null,
   "metadata": {
    "colab": {
     "base_uri": "https://localhost:8080/",
     "height": 265
    },
    "id": "tyVBURk3HX3x",
    "outputId": "cbefece3-7c67-4570-b4f9-af1afb5156ea"
   },
   "outputs": [
    {
     "name": "stdout",
     "output_type": "stream",
     "text": [
      "Model: \"sequential_2\"\n",
      "_________________________________________________________________\n",
      "Layer (type)                 Output Shape              Param #   \n",
      "=================================================================\n",
      "keras_layer (KerasLayer)     (None, 20)                400020    \n",
      "_________________________________________________________________\n",
      "dense_2 (Dense)              (None, 16)                336       \n",
      "_________________________________________________________________\n",
      "dense_3 (Dense)              (None, 1)                 17        \n",
      "=================================================================\n",
      "Total params: 400,373\n",
      "Trainable params: 400,373\n",
      "Non-trainable params: 0\n",
      "_________________________________________________________________\n"
     ]
    }
   ],
   "source": [
    "model = tf.keras.tf.keras.models()\n",
    "model.add(hub_layer)\n",
    "model.add(tf.keras.layers.tf.keras.layers.Dense(16, activation=\"relu\"))\n",
    "model.add(tf.keras.layers.tf.keras.layers.Dense(1, activation=\"sigmoid\"))\n",
    "\n",
    "model.summary()"
   ]
  },
  {
   "cell_type": "code",
   "execution_count": null,
   "metadata": {
    "id": "dSgpmvZfHaOo"
   },
   "outputs": [],
   "source": [
    "model.compile(optimizer=\"adam\",\n",
    "              loss=\"binary_crossentropy\",\n",
    "              metrics=[\"accuracy\"])"
   ]
  },
  {
   "cell_type": "code",
   "execution_count": null,
   "metadata": {
    "colab": {
     "base_uri": "https://localhost:8080/",
     "height": 727
    },
    "id": "wqdwI_79HbxK",
    "outputId": "66fb1251-c242-46f9-8eb2-f2009d2208be"
   },
   "outputs": [
    {
     "name": "stdout",
     "output_type": "stream",
     "text": [
      "Epoch 1/20\n",
      "40/40 [==============================] - 3s 79ms/step - loss: 1.0590 - accuracy: 0.4897 - val_loss: 0.7653 - val_accuracy: 0.4656\n",
      "Epoch 2/20\n",
      "40/40 [==============================] - 3s 69ms/step - loss: 0.7244 - accuracy: 0.5088 - val_loss: 0.6995 - val_accuracy: 0.5448\n",
      "Epoch 3/20\n",
      "40/40 [==============================] - 3s 71ms/step - loss: 0.6714 - accuracy: 0.5929 - val_loss: 0.6558 - val_accuracy: 0.6228\n",
      "Epoch 4/20\n",
      "40/40 [==============================] - 3s 70ms/step - loss: 0.6317 - accuracy: 0.6512 - val_loss: 0.6214 - val_accuracy: 0.6648\n",
      "Epoch 5/20\n",
      "40/40 [==============================] - 3s 68ms/step - loss: 0.5965 - accuracy: 0.6873 - val_loss: 0.5880 - val_accuracy: 0.6968\n",
      "Epoch 6/20\n",
      "40/40 [==============================] - 3s 68ms/step - loss: 0.5611 - accuracy: 0.7211 - val_loss: 0.5517 - val_accuracy: 0.7220\n",
      "Epoch 7/20\n",
      "40/40 [==============================] - 3s 70ms/step - loss: 0.5224 - accuracy: 0.7526 - val_loss: 0.5142 - val_accuracy: 0.7508\n",
      "Epoch 8/20\n",
      "40/40 [==============================] - 3s 70ms/step - loss: 0.4802 - accuracy: 0.7807 - val_loss: 0.4763 - val_accuracy: 0.7800\n",
      "Epoch 9/20\n",
      "40/40 [==============================] - 3s 70ms/step - loss: 0.4377 - accuracy: 0.8089 - val_loss: 0.4387 - val_accuracy: 0.8068\n",
      "Epoch 10/20\n",
      "40/40 [==============================] - 3s 71ms/step - loss: 0.3959 - accuracy: 0.8324 - val_loss: 0.4068 - val_accuracy: 0.8208\n",
      "Epoch 11/20\n",
      "40/40 [==============================] - 3s 72ms/step - loss: 0.3593 - accuracy: 0.8500 - val_loss: 0.3813 - val_accuracy: 0.8312\n",
      "Epoch 12/20\n",
      "40/40 [==============================] - 3s 69ms/step - loss: 0.3267 - accuracy: 0.8673 - val_loss: 0.3599 - val_accuracy: 0.8440\n",
      "Epoch 13/20\n",
      "40/40 [==============================] - 3s 70ms/step - loss: 0.2983 - accuracy: 0.8812 - val_loss: 0.3436 - val_accuracy: 0.8544\n",
      "Epoch 14/20\n",
      "40/40 [==============================] - 3s 71ms/step - loss: 0.2741 - accuracy: 0.8933 - val_loss: 0.3337 - val_accuracy: 0.8588\n",
      "Epoch 15/20\n",
      "40/40 [==============================] - 3s 70ms/step - loss: 0.2539 - accuracy: 0.9023 - val_loss: 0.3219 - val_accuracy: 0.8656\n",
      "Epoch 16/20\n",
      "40/40 [==============================] - 3s 71ms/step - loss: 0.2349 - accuracy: 0.9107 - val_loss: 0.3156 - val_accuracy: 0.8664\n",
      "Epoch 17/20\n",
      "40/40 [==============================] - 3s 71ms/step - loss: 0.2193 - accuracy: 0.9186 - val_loss: 0.3113 - val_accuracy: 0.8668\n",
      "Epoch 18/20\n",
      "40/40 [==============================] - 3s 71ms/step - loss: 0.2057 - accuracy: 0.9251 - val_loss: 0.3095 - val_accuracy: 0.8716\n",
      "Epoch 19/20\n",
      "40/40 [==============================] - 3s 72ms/step - loss: 0.1930 - accuracy: 0.9291 - val_loss: 0.3072 - val_accuracy: 0.8728\n",
      "Epoch 20/20\n",
      "40/40 [==============================] - 3s 72ms/step - loss: 0.1815 - accuracy: 0.9347 - val_loss: 0.3059 - val_accuracy: 0.8760\n"
     ]
    }
   ],
   "source": [
    "history = model.fit(train_data.shuffle(10000).batch(512),\n",
    "                    epochs=20,\n",
    "                    validation_data=validation_data.batch(512),\n",
    "                    verbose=1)"
   ]
  },
  {
   "cell_type": "code",
   "execution_count": null,
   "metadata": {
    "colab": {
     "base_uri": "https://localhost:8080/",
     "height": 70
    },
    "id": "HZL6tB3GLBJx",
    "outputId": "7d03f4a3-1f43-4672-c77a-6324ace94184"
   },
   "outputs": [
    {
     "ename": "NameError",
     "evalue": "name 'model' is not defined",
     "output_type": "error",
     "traceback": [
      "\u001b[1;31m---------------------------------------------------------------------------\u001b[0m",
      "\u001b[1;31mNameError\u001b[0m                                 Traceback (most recent call last)",
      "\u001b[1;32m<ipython-input-3-1e0e20b9aabf>\u001b[0m in \u001b[0;36m<module>\u001b[1;34m\u001b[0m\n\u001b[1;32m----> 1\u001b[1;33m \u001b[0mresults\u001b[0m \u001b[1;33m=\u001b[0m \u001b[0mmodel\u001b[0m\u001b[1;33m.\u001b[0m\u001b[0mevaluate\u001b[0m\u001b[1;33m(\u001b[0m\u001b[0mtest_data\u001b[0m\u001b[1;33m.\u001b[0m\u001b[0mbatch\u001b[0m\u001b[1;33m(\u001b[0m\u001b[1;36m512\u001b[0m\u001b[1;33m)\u001b[0m\u001b[1;33m,\u001b[0m \u001b[0mverbose\u001b[0m\u001b[1;33m=\u001b[0m\u001b[1;36m2\u001b[0m\u001b[1;33m)\u001b[0m\u001b[1;33m\u001b[0m\u001b[1;33m\u001b[0m\u001b[0m\n\u001b[0m\u001b[0;32m      2\u001b[0m \u001b[1;32mfor\u001b[0m \u001b[0mname\u001b[0m\u001b[1;33m,\u001b[0m \u001b[0mvalue\u001b[0m \u001b[1;32min\u001b[0m \u001b[0mzip\u001b[0m\u001b[1;33m(\u001b[0m\u001b[0mmodel\u001b[0m\u001b[1;33m.\u001b[0m\u001b[0mmetrics_names\u001b[0m\u001b[1;33m,\u001b[0m \u001b[0mresults\u001b[0m\u001b[1;33m)\u001b[0m\u001b[1;33m:\u001b[0m\u001b[1;33m\u001b[0m\u001b[1;33m\u001b[0m\u001b[0m\n\u001b[0;32m      3\u001b[0m     \u001b[0mprint\u001b[0m\u001b[1;33m(\u001b[0m\u001b[1;34m\"%s: %.3f\"\u001b[0m \u001b[1;33m%\u001b[0m \u001b[1;33m(\u001b[0m\u001b[0mname\u001b[0m\u001b[1;33m,\u001b[0m \u001b[0mvalue\u001b[0m\u001b[1;33m)\u001b[0m\u001b[1;33m)\u001b[0m\u001b[1;33m\u001b[0m\u001b[1;33m\u001b[0m\u001b[0m\n",
      "\u001b[1;31mNameError\u001b[0m: name 'model' is not defined"
     ]
    }
   ],
   "source": [
    "results = model.evaluate(test_data.batch(512), verbose=2)\n",
    "for name, value in zip(model.metrics_names, results):\n",
    "    print(\"%s: %.3f\" % (name, value))"
   ]
  }
 ],
 "metadata": {
  "colab": {
   "collapsed_sections": [
    "oUJTbLUFAyi6",
    "aQn5Rel6CpqH",
    "HAb1_wXND16i",
    "-x46aeaxC2F7",
    "W8VxrLfOD7ub",
    "ZZxrwxt7EKHp",
    "Hw-6XHdW5_Bx"
   ],
   "name": "Word Embedding(Word2Vec, FastText, SGNS / TED, NSMC Dataset)",
   "provenance": []
  },
  "hide_input": false,
  "kernelspec": {
   "display_name": "Python 3",
   "language": "python",
   "name": "python3"
  },
  "language_info": {
   "codemirror_mode": {
    "name": "ipython",
    "version": 3
   },
   "file_extension": ".py",
   "mimetype": "text/x-python",
   "name": "python",
   "nbconvert_exporter": "python",
   "pygments_lexer": "ipython3",
   "version": "3.8.5"
  },
  "toc": {
   "base_numbering": 1,
   "nav_menu": {},
   "number_sections": true,
   "sideBar": true,
   "skip_h1_title": false,
   "title_cell": "Table of Contents",
   "title_sidebar": "Contents",
   "toc_cell": true,
   "toc_position": {
    "height": "calc(100% - 180px)",
    "left": "10px",
    "top": "150px",
    "width": "191.594px"
   },
   "toc_section_display": true,
   "toc_window_display": false
  },
  "varInspector": {
   "cols": {
    "lenName": 16,
    "lenType": 16,
    "lenVar": 40
   },
   "kernels_config": {
    "python": {
     "delete_cmd_postfix": "",
     "delete_cmd_prefix": "del ",
     "library": "var_list.py",
     "varRefreshCmd": "print(var_dic_list())"
    },
    "r": {
     "delete_cmd_postfix": ") ",
     "delete_cmd_prefix": "rm(",
     "library": "var_list.r",
     "varRefreshCmd": "cat(var_dic_list()) "
    }
   },
   "types_to_exclude": [
    "module",
    "function",
    "builtin_function_or_method",
    "instance",
    "_Feature"
   ],
   "window_display": false
  }
 },
 "nbformat": 4,
 "nbformat_minor": 1
}
