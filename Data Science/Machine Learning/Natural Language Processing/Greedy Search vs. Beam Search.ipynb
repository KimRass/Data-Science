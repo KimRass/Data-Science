{
 "cells": [
  {
   "cell_type": "markdown",
   "metadata": {
    "toc": true
   },
   "source": [
    "<h1>Table of Contents<span class=\"tocSkip\"></span></h1>\n",
    "<div class=\"toc\"><ul class=\"toc-item\"><li><span><a href=\"#Greedy-Search\" data-toc-modified-id=\"Greedy-Search-1\"><span class=\"toc-item-num\">1&nbsp;&nbsp;</span>Greedy Search</a></span></li><li><span><a href=\"#Beam-Search\" data-toc-modified-id=\"Beam-Search-2\"><span class=\"toc-item-num\">2&nbsp;&nbsp;</span>Beam Search</a></span></li></ul></div>"
   ]
  },
  {
   "cell_type": "code",
   "execution_count": 48,
   "metadata": {
    "ExecuteTime": {
     "end_time": "2022-01-25T06:21:53.697997Z",
     "start_time": "2022-01-25T06:21:53.695004Z"
    },
    "id": "6owvXYYCcPcR"
   },
   "outputs": [],
   "source": [
    "import math\n",
    "import numpy as np\n",
    "import random"
   ]
  },
  {
   "cell_type": "code",
   "execution_count": 49,
   "metadata": {
    "ExecuteTime": {
     "end_time": "2022-01-25T06:21:53.706981Z",
     "start_time": "2022-01-25T06:21:53.699991Z"
    }
   },
   "outputs": [],
   "source": [
    "probs = [1, 2, 3, 4, 5]\n",
    "data = np.array([random.sample(probs, k=5) for _ in range(10)])"
   ]
  },
  {
   "cell_type": "markdown",
   "metadata": {
    "id": "wQ0wtBYIc5i7"
   },
   "source": [
    "# Greedy Search"
   ]
  },
  {
   "cell_type": "code",
   "execution_count": 50,
   "metadata": {
    "ExecuteTime": {
     "end_time": "2022-01-25T06:21:53.716944Z",
     "start_time": "2022-01-25T06:21:53.708966Z"
    }
   },
   "outputs": [],
   "source": [
    "def greedy_search(data):\n",
    "    return np.argmax(data, axis=1)"
   ]
  },
  {
   "cell_type": "code",
   "execution_count": 51,
   "metadata": {
    "ExecuteTime": {
     "end_time": "2022-01-25T06:21:53.730914Z",
     "start_time": "2022-01-25T06:21:53.720934Z"
    }
   },
   "outputs": [
    {
     "data": {
      "text/plain": [
       "array([2, 0, 1, 0, 4, 1, 1, 0, 2, 1], dtype=int64)"
      ]
     },
     "execution_count": 51,
     "metadata": {},
     "output_type": "execute_result"
    }
   ],
   "source": [
    "greedy_search(data)"
   ]
  },
  {
   "cell_type": "markdown",
   "metadata": {
    "id": "sniA-i8GcZrd"
   },
   "source": [
    "# Beam Search"
   ]
  },
  {
   "cell_type": "code",
   "execution_count": 52,
   "metadata": {
    "ExecuteTime": {
     "end_time": "2022-01-25T06:21:53.739883Z",
     "start_time": "2022-01-25T06:21:53.733900Z"
    }
   },
   "outputs": [],
   "source": [
    "def beam_search(data, k):\n",
    "    seq_score = [[list(), 0]]\n",
    "    for probs in data:\n",
    "        cands = list()\n",
    "        for seq, score in seq_score:\n",
    "            for i, prob in enumerate(probs):\n",
    "                cands.append([seq + [i], score - np.log(prob)])\n",
    "        seq_score.extend(cands)\n",
    "        seq_score = sorted(seq_score, key=lambda x:x[1])[:k]\n",
    "    return [np.array(i[0]) for i in seq_score]"
   ]
  },
  {
   "cell_type": "code",
   "execution_count": 54,
   "metadata": {
    "ExecuteTime": {
     "end_time": "2022-01-25T06:22:11.364733Z",
     "start_time": "2022-01-25T06:22:11.358777Z"
    }
   },
   "outputs": [
    {
     "data": {
      "text/plain": [
       "[array([2, 0, 1, 0, 4, 1, 1, 0, 2, 1]),\n",
       " array([2, 0, 1, 0, 4, 1, 1, 0, 2, 4]),\n",
       " array([2, 0, 1, 0, 4, 1, 1, 0, 0, 1]),\n",
       " array([2, 0, 1, 0, 4, 1, 1, 1, 2, 1])]"
      ]
     },
     "execution_count": 54,
     "metadata": {},
     "output_type": "execute_result"
    }
   ],
   "source": [
    "beam_search(data, 4)"
   ]
  }
 ],
 "metadata": {
  "accelerator": "GPU",
  "colab": {
   "collapsed_sections": [],
   "machine_shape": "hm",
   "name": "Greedy Search vs. Beam Search",
   "provenance": [],
   "toc_visible": true
  },
  "hide_input": false,
  "kernelspec": {
   "display_name": "Python 3",
   "language": "python",
   "name": "python3"
  },
  "language_info": {
   "codemirror_mode": {
    "name": "ipython",
    "version": 3
   },
   "file_extension": ".py",
   "mimetype": "text/x-python",
   "name": "python",
   "nbconvert_exporter": "python",
   "pygments_lexer": "ipython3",
   "version": "3.7.7"
  },
  "toc": {
   "base_numbering": 1,
   "nav_menu": {},
   "number_sections": true,
   "sideBar": true,
   "skip_h1_title": false,
   "title_cell": "Table of Contents",
   "title_sidebar": "Contents",
   "toc_cell": true,
   "toc_position": {},
   "toc_section_display": true,
   "toc_window_display": false
  },
  "varInspector": {
   "cols": {
    "lenName": 16,
    "lenType": 16,
    "lenVar": 40
   },
   "kernels_config": {
    "python": {
     "delete_cmd_postfix": "",
     "delete_cmd_prefix": "del ",
     "library": "var_list.py",
     "varRefreshCmd": "print(var_dic_list())"
    },
    "r": {
     "delete_cmd_postfix": ") ",
     "delete_cmd_prefix": "rm(",
     "library": "var_list.r",
     "varRefreshCmd": "cat(var_dic_list()) "
    }
   },
   "types_to_exclude": [
    "module",
    "function",
    "builtin_function_or_method",
    "instance",
    "_Feature"
   ],
   "window_display": false
  }
 },
 "nbformat": 4,
 "nbformat_minor": 1
}
