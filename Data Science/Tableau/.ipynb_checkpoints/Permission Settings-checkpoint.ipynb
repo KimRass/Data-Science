{
 "cells": [
  {
   "cell_type": "markdown",
   "metadata": {},
   "source": [
    "- Reference: https://tableau.github.io/server-client-python/docs/api-ref\n",
    "- \"HDC현대산업개발\": \"2a21240d-3f53-4f02-944d-b01647c3dd51\""
   ]
  },
  {
   "cell_type": "code",
   "execution_count": 1,
   "metadata": {
    "ExecuteTime": {
     "end_time": "2022-03-28T00:28:23.656794Z",
     "start_time": "2022-03-28T00:28:21.821367Z"
    }
   },
   "outputs": [],
   "source": [
    "import tableauserverclient as TSC\n",
    "import pandas as pd\n",
    "import numpy as np\n",
    "import pymssql\n",
    "from dateutil.relativedelta import relativedelta\n",
    "\n",
    "f = open(\"D:/Github/Work/Tableau/datamart_password.txt\", \"r\")\n",
    "pw1 = f.readline()\n",
    "f = open(\"D:/Github/Work/Tableau/tableau_server_password.txt\", \"r\")\n",
    "pw2 = f.readline()\n",
    "\n",
    "pd.set_option(\"display.max_columns\", None)\n",
    "\n",
    "# SIgn In\n",
    "tableau_auth = TSC.TableauAuth(\"6363\", pw2)\n",
    "server = TSC.Server(\"https://datalab.hdc-dvp.com\", use_server_version=True)"
   ]
  },
  {
   "cell_type": "code",
   "execution_count": 31,
   "metadata": {
    "ExecuteTime": {
     "end_time": "2022-03-28T01:21:42.349204Z",
     "start_time": "2022-03-28T01:21:41.409036Z"
    }
   },
   "outputs": [],
   "source": [
    "conn = pymssql.connect(server=\"133.186.215.165\", database=\"HDCMART\", user=\"hdcmart_user\", password=pw1, charset=\"UTF8\")\n",
    "query = f\"\"\"\n",
    "SELECT id_sabun AS num, ds_hname AS name, ds_email AS email, ds_bonbu AS hq, ds_dept AS dept, ds_occupation AS job, DS_EMPTYPE AS sub\n",
    "FROM DATAMART_DAAV_BASEINFO_DETAIL_ALL\n",
    "where cd_corp = 'A101' and ds_retire = '재직';\n",
    "\"\"\"\n",
    "hr = pd.read_sql(query, conn)\n",
    "hr.columns = hr.columns.str.lower()\n",
    "for col in hr.columns:\n",
    "    if pd.api.types.is_string_dtype(hr[col]):\n",
    "        hr[col] = hr[col].str.encode(\"latin-1\", errors=\"ignore\").str.decode(\"euc-kr\", errors=\"ignore\")\n",
    "        \n",
    "hr.loc[hr[\"num\"]==\"1\", \"num\"] = \"0001\"\n",
    "\n",
    "empls = {str(row[\"num\"]):(row[\"hq\"], row[\"dept\"], row[\"job\"], row[\"sub\"], row[\"name\"]) for _, row in hr.iterrows()}\n",
    "\n",
    "req_opts = TSC.RequestOptions(pagesize=1000)"
   ]
  },
  {
   "cell_type": "markdown",
   "metadata": {},
   "source": [
    "# Create or Remove Users"
   ]
  },
  {
   "cell_type": "code",
   "execution_count": 9,
   "metadata": {
    "ExecuteTime": {
     "end_time": "2022-03-28T01:06:52.973233Z",
     "start_time": "2022-03-28T01:06:47.804427Z"
    },
    "scrolled": true
   },
   "outputs": [
    {
     "name": "stdout",
     "output_type": "stream",
     "text": [
      "Created users;\n",
      "Removed users;\n",
      "All completed!\n"
     ]
    }
   ],
   "source": [
    "with server.auth.sign_in(tableau_auth):\n",
    "    all_users, _ = server.users.get(req_options=req_opts)\n",
    "\n",
    "users_to_create = hr[(hr[\"job\"]==\"회장\") | (hr[\"job\"]==\"부회장\") | (hr[\"job\"]==\"대표이사\") | (hr[\"job\"]==\"CSO\") | (hr[\"job\"]==\"본부장\") | ((hr[\"sub\"]!=\"정보기술/CS외주\") & (hr[\"job\"]==\"팀장\")) | (hr[\"job\"]==\"실장\") | (hr[\"job\"]==\"그룹장\") | (hr[\"job\"]==\"부문장\") | (hr[\"job\"]==\"단장\") | (hr[\"job\"]==\"PL\") | (hr[\"job\"]==\"PM\") | (hr[\"job\"]==\"TFT장\") | (hr[\"job\"]==\"건축소장\") | (hr[\"job\"]==\"토목소장\") | ((hr[\"dept\"]==\"경영분석팀\") & (hr[\"sub\"]==\"일반직\") & (hr[\"job\"]==\"팀원\") & (~hr[\"num\"].isin([\"4113\"]))) | ((hr[\"dept\"]==\"HR혁신팀\") & (hr[\"sub\"]==\"일반직\") & (hr[\"job\"]==\"팀원\")) | (hr[\"dept\"]==\"상근고문\") | ((hr[\"dept\"]==\"안전기획팀\") & (hr[\"sub\"]!=\"파견직\")) | (hr[\"num\"].isin([\"6363\", \"5899\", \"5947\", \"4100435\", \"4001380\", \"4100222\", \"1101320\", \"4001360\", \"4001386\", \"1101291\", \"6294\", \"6111\", \"6048\", \"6403\", \"6032\", \"6354\", \"5704\", \"5720\", \"5707\", \"6084\", \"6161\", \"5934\", \"5218\", \"6110\", \"4632\", \"5104\", \"5892\", \"6335\", \"6353\", \"6284\", \"5467\", \"6281\", \"6427\", \"6012\", \"6360\", \"6122\", \"5994\", \"6385\", \"6310\", \"6389\", \"5516\", \"6455\", \"5903\", \"5919\", \"6457\", \"6036\", \"5308\", \"6469\", \"6034\", \"6333\", \"5634\", \"3991\", \"4154\", \"4826\", \"5381\", \"5477\", \"5555\", \"5634\", \"5673\", \"5720\", \"5892\", \"5969\", \"6033\", \"6253\", \"6376\", \"6414\", \"6453\", \"6456\", \"6460\", \"6045\", \"6448\", \"3684\", \"3805\", \"3872\", \"3911\", \"3991\", \"4009\", \"4057\", \"4078\", \"4540\", \"4598\", \"6446\"]))]\n",
    "\n",
    "print(\"Created users;\")\n",
    "with server.auth.sign_in(tableau_auth):\n",
    "    for _, row in users_to_create.iterrows():\n",
    "        # `site_role` 결정\n",
    "        if row[\"num\"] not in [i.name for i in all_users]:\n",
    "            print(row[\"num\"], row[\"name\"], row[\"dept\"], row[\"job\"])\n",
    "            if row[\"num\"] in [\"4100435\"]: # 이재호\n",
    "                user = TSC.UserItem(row[\"num\"], \"SiteAdministratorCreator\")\n",
    "            elif row[\"num\"] in [\"4001380\"]: # 김아현\n",
    "                user = TSC.UserItem(row[\"num\"], \"Creator\")\n",
    "            else:\n",
    "                user = TSC.UserItem(row[\"num\"], \"Viewer\")                \n",
    "            user = server.users.add(user)\n",
    "        else:\n",
    "            user = [i for i in all_users if i.name == row[\"num\"]][0]\n",
    "            \n",
    "        if row[\"job\"] in [\"회장\", \"부회장\", \"대표이사\", \"CSO\", \"본부장\", \"팀장\", \"실장\", \"그룹장\", \"부문장\", \"단장\", \"PL\", \"PM\", \"TFT장\", \"건축소장\", \"토목소장\"]:\n",
    "            user.fullname = f\"{row['name']}({row['job']})\"\n",
    "        else:\n",
    "            user.fullname = f\"{row['name']}({row['dept']})\"\n",
    "        user.email = row[\"email\"]\n",
    "        user = server.users.update(user)\n",
    "    \n",
    "print(\"Removed users;\")\n",
    "with server.auth.sign_in(tableau_auth):\n",
    "    for user in all_users:\n",
    "        if user.name not in users_to_create[\"num\"].tolist() + [\"0001\", \"6415\", \"4686\", \"Test\", \"goodcen\", \"creator\"]: # 정경구, 도기탁, 랩스, 굿센\n",
    "            print(user.name, user.fullname)\n",
    "            server.users.remove(user.id)\n",
    "#             temp = hr[hr[\"num\"]==user.name]\n",
    "#             if len(temp) > 0:\n",
    "#                 print(temp.iloc[0][\"num\"], temp.iloc[0][\"name\"], temp.iloc[0][\"dept\"], temp.iloc[0][\"job\"])\n",
    "#                 server.users.remove(user.id)\n",
    "\n",
    "print(\"All completed!\")"
   ]
  },
  {
   "cell_type": "markdown",
   "metadata": {},
   "source": [
    "# Add Users to Groups"
   ]
  },
  {
   "cell_type": "code",
   "execution_count": 41,
   "metadata": {
    "ExecuteTime": {
     "end_time": "2022-03-28T01:28:23.330057Z",
     "start_time": "2022-03-28T01:28:18.137796Z"
    }
   },
   "outputs": [
    {
     "name": "stdout",
     "output_type": "stream",
     "text": [
      "All completed!\n"
     ]
    }
   ],
   "source": [
    "# all_users_df.csv\n",
    "with server.auth.sign_in(tableau_auth):\n",
    "    all_users, _ = server.users.get(req_options=req_opts)\n",
    "all_users_df = [(user.id, user.name, user.fullname, user.site_role) + empls[user.name] if user.name in empls.keys() else (user.id, user.name, user.fullname, user.site_role, None, None, None, None) for user in all_users]\n",
    "all_users_df = pd.DataFrame(all_users_df, columns=[\"user_id\", \"user_name\", \"user_fnm\", \"site_role\", \"hq\", \"dept\", \"job\", \"sub\", \"name\"])\n",
    "all_users_df = all_users_df.sort_values([\"user_fnm\"])\n",
    "all_users_df.to_csv(\"./all_users_df.csv\", encoding=\"euc-kr\")\n",
    "\n",
    "# all_groups.csv\n",
    "with server.auth.sign_in(tableau_auth):\n",
    "    all_groups, _ = server.groups.get(req_options=req_opts)\n",
    "all_groups = [(group.name, group.id) for group in all_groups]\n",
    "all_groups = pd.DataFrame(all_groups, columns=[\"group\", \"group_id\"])\n",
    "\n",
    "def add_users_to_groups(users_to_alloc, tar_grp, tar_grp_text):\n",
    "    with server.auth.sign_in(tableau_auth):\n",
    "        groups, pagination_item = server.groups.get(req_options=req_opts)\n",
    "        tar_grp = [i for i in groups if i.id == tar_grp][0]\n",
    "        for _, row in users_to_alloc.iterrows():\n",
    "            user_id = row[\"user_id\"]\n",
    "            try:\n",
    "                server.groups.add_user(tar_grp, user_id)\n",
    "                print(f\"{tar_grp_text}: {row['user_name']} {row['user_fnm']}\")\n",
    "            except:\n",
    "                continue\n",
    "                \n",
    "# 관리자\n",
    "users_to_alloc = users_to_alloc[(users_to_alloc[\"user_name\"].isin([\"6363\", \"5899\", \"5947\"])) | ((users_to_alloc[\"job\"]==\"팀장\") & (users_to_alloc[\"dept\"]==\"디지털플랫폼팀\"))]\n",
    "tar_grp = \"6e2fc4f0-46f2-4114-8b25-341b38af9f7d\"\n",
    "add_users_to_groups(users_to_alloc, tar_grp, \"관리자\")\n",
    "\n",
    "# 회장/부회장/대표이사/본부장\n",
    "users_to_alloc = users_to_alloc[(users_to_alloc[\"job\"]==\"회장\") | (users_to_alloc[\"job\"]==\"부회장\") | (users_to_alloc[\"job\"]==\"대표이사\") | (users_to_alloc[\"job\"]==\"CSO\") | (users_to_alloc[\"job\"]==\"본부장\") | ((users_to_alloc[\"job\"]==\"팀장\") & (users_to_alloc[\"dept\"]==\"디지털플랫폼팀\")) | (users_to_alloc[\"dept\"]==\"상근고문\") | (users_to_alloc[\"user_name\"].isin([\"6032\", \"6294\", \"6111\", \"6403\", \"1101291\", \"6048\", \"5634\"]))]\n",
    "tar_grp = \"f827e0fe-ff32-4443-9c40-701c94a13ba1\"\n",
    "add_users_to_groups(users_to_alloc, tar_grp, \"회장/부회장/대표이사/본부장\")\n",
    "\n",
    "# 팀장/실장/그룹장/부문장/단장/PL/PM/TFT장\n",
    "users_to_alloc = users_to_alloc[((users_to_alloc[\"sub\"] != \"정보기술/CS외주\") & (users_to_alloc[\"job\"]==\"팀장\")) | (users_to_alloc[\"job\"]==\"실장\") | (users_to_alloc[\"job\"]==\"그룹장\") | (users_to_alloc[\"job\"]==\"부문장\") | (users_to_alloc[\"job\"]==\"단장\") | (users_to_alloc[\"job\"]==\"PL\") | (users_to_alloc[\"job\"]==\"PM\") | (users_to_alloc[\"job\"]==\"TFT장\")]\n",
    "tar_grp = \"39dc2d08-d291-4534-97d5-b1a6b3b6f67c\"\n",
    "add_users_to_groups(users_to_alloc, tar_grp, \"팀장/실장/그룹장/부문장/단장/PL/PM/TFT장\")\n",
    "\n",
    "# 건축소장/토목소장\n",
    "users_to_alloc = users_to_alloc[(users_to_alloc[\"job\"]==\"건축소장\") | (users_to_alloc[\"job\"]==\"토목소장\")]\n",
    "tar_grp = \"05fa4bd0-e1df-4971-bb89-4e39f24782d7\"\n",
    "add_users_to_groups(users_to_alloc, tar_grp, \"건축소장/토목소장\")\n",
    "\n",
    "# HR혁신팀\n",
    "users_to_alloc = users_to_alloc[(users_to_alloc[\"user_name\"].isin([\"4100222\"])) | ((users_to_alloc[\"dept\"]==\"users_to_alloc혁신팀\") & (users_to_alloc[\"sub\"]==\"일반직\"))]\n",
    "tar_grp = \"1ac1f9c5-d4b9-47d9-8c40-618df8f87f6b\"\n",
    "add_users_to_groups(users_to_alloc, tar_grp, \"HR혁신팀\")\n",
    "\n",
    "# 경영현안 회의\n",
    "users_to_alloc = users_to_alloc[(users_to_alloc[\"user_name\"].isin([\"3991\", \"4154\", \"4826\", \"5381\", \"5477\", \"5555\", \"5634\", \"5673\", \"5720\", \"5892\", \"5969\", \"6033\", \"6253\", \"6376\", \"6414\", \"6453\", \"6456\", \"6460\", \"3684\", \"3805\", \"3872\", \"3911\", \"3991\", \"4009\", \"4057\", \"4078\", \"4540\", \"4598\", \"6446\", \"6415\", \"4686\", \"5704\", \"6045\", \"6012\", \"4001380\", \"6036\", \"6442\", \"6248\", \"4095\", \"5888\"]))]\n",
    "tar_grp = \"388136df-5404-4b2d-8805-0276a6c3080a\"\n",
    "add_users_to_groups(users_to_alloc, tar_grp, \"경영현안 회의\")\n",
    "            \n",
    "# 본부장 회의 일반 사용자\n",
    "users_to_alloc = users_to_alloc[(users_to_alloc[\"user_name\"].isin([\"6427\", \"6457\", \"6036\", \"6335\", \"4001380\", \"4100435\", \"6281\", \"4001341\", \"4001360\", \"4001386\", \"5653\", \"6012\", \"6360\", \"6122\", \"5994\", \"6385\", \"6389\", \"5516\", \"6455\", \"5835\", \"5903\", \"5919\", \"6354\", \"5704\", \"5720\", \"4632\", \"5308\", \"5888\", \"6428\", \"6034\", \"6333\", \"5467\", \"6281\"]))]\n",
    "tar_grp = \"0ef096dd-2c99-4473-b80b-855d1c0b29e1\"\n",
    "add_users_to_groups(users_to_alloc, tar_grp, \"본부장 회의 일반 사용자\")\n",
    "            \n",
    "# 경영 현황 일반 사용자\n",
    "users_to_alloc = users_to_alloc[((users_to_alloc[\"dept\"]==\"경영분석팀\") & (users_to_alloc[\"sub\"]==\"일반직\") & (users_to_alloc[\"job\"]==\"팀원\") & (~users_to_alloc[\"user_name\"].isin([\"4113\"]))) | (users_to_alloc[\"user_name\"].isin([\"6360\", \"6122\", \"5994\", \"6385\", \"6310\", \"6389\", \"5516\", \"6455\", \"5835\", \"5903\", \"5919\", \"6354\", \"5704\", \"5720\", \"6469\", \"5308\", \"6034\", \"6333\", \"5467\", \"6281\"]))]\n",
    "tar_grp = \"91d8104c-e669-4ea2-a5fa-27b6be938858\"\n",
    "add_users_to_groups(users_to_alloc, tar_grp, \"경영 현황 일반 사용자\")\n",
    "\n",
    "# HR 현황 일반 사용자\n",
    "users_to_alloc = users_to_alloc[((users_to_alloc[\"dept\"]==\"안전기획팀\") & (users_to_alloc[\"sub\"]!=\"파견직\")) | (users_to_alloc[\"user_name\"].isin([\"6385\", \"6385\", \"6122\", \"6455\", \"5903\", \"5919\", \"6354\", \"5704\", \"5720\", \"6284\", \"5104\", \"6469\", \"5308\", \"6034\", \"6333\", \"5467\", \"6281\"]))]\n",
    "tar_grp = \"fef23089-cfd7-403d-8982-894afac13b32\"\n",
    "add_users_to_groups(users_to_alloc, tar_grp, \"HR 현황 일반 사용자\")\n",
    "            \n",
    "# 영업 현황 일반 사용자\n",
    "users_to_alloc = users_to_alloc[((users_to_alloc[\"dept\"]==\"경영분석팀\") & (users_to_alloc[\"sub\"]==\"일반직\") & (users_to_alloc[\"job\"]==\"팀원\") & (~users_to_alloc[\"user_name\"].isin([\"4113\"]))) | (users_to_alloc[\"user_name\"].isin([\"5218\", \"6337\", \"4632\", \"6110\", \"6122\", \"5994\", \"6385\", \"6310\", \"6389\", \"5516\", \"6455\", \"5835\", \"5903\", \"5919\", \"6354\", \"5704\", \"5720\", \"6284\", \"5934\", \"5104\", \"6469\", \"6457\", \"6036\", \"5308\", \"6034\", \"6333\", \"5467\", \"6281\"]))]\n",
    "tar_grp = \"0715f81d-9385-4fc8-8c2a-76f8b9481dac\"\n",
    "add_users_to_groups(users_to_alloc, tar_grp, \"영업 현황 일반 사용자\")\n",
    "\n",
    "# 현장 현황 일반 사용자\n",
    "users_to_alloc = all_users_df[((all_users_df[\"dept\"]==\"경영분석팀\") & (all_users_df[\"sub\"]==\"일반직\") & (all_users_df[\"job\"]==\"팀원\") & (~all_users_df[\"user_name\"].isin([\"4113\"]))) | ((all_users_df[\"dept\"]==\"안전기획팀\") & (all_users_df[\"sub\"]!=\"파견직\")) | (all_users_df[\"user_name\"].isin([\"5947\", \"6353\", \"6360\", \"6122\", \"5994\", \"6385\", \"6310\", \"6389\", \"5516\", \"6455\", \"5835\", \"5903\", \"5919\", \"6354\", \"5704\", \"5720\", \"6284\", \"5934\", \"5104\", \"6469\", \"5308\",\n",
    "\"6034\", \"6333\", \"5467\", \"6281\"]))]\n",
    "tar_grp = \"fcace1dd-cfa8-4f64-8b20-803c739e1e3c\"\n",
    "add_users_to_groups(users_to_alloc, tar_grp, \"현장 현황 일반 사용자\")\n",
    "            \n",
    "# 직무정보 일반 사용자\n",
    "users_to_alloc = all_users_df[(all_users_df[\"user_name\"].isin([\"5892\"]))]\n",
    "tar_grp = \"b2e29db6-c54f-45ce-b021-31596d75efc1\"\n",
    "add_users_to_groups(users_to_alloc, tar_grp, \"직무정보 일반 사용자\")\n",
    "            \n",
    "# 안전 현황 일반 사용자\n",
    "users_to_alloc = all_users_df[(all_users_df[\"hq\"]==\"건설본부\") | (all_users_df[\"dept\"].isin([\"미래전략팀\", \"디지털플랫폼팀\"])) | (all_users_df[\"user_name\"].isin([\"5467\", \"6281\"]))]\n",
    "tar_grp = \"bfbfae75-a700-4a3f-aba1-7d8bb7f81663\"\n",
    "add_users_to_groups(users_to_alloc, tar_grp, \"안전 현황 일반 사용자\")\n",
    "            \n",
    "print(\"All completed!\")"
   ]
  },
  {
   "cell_type": "code",
   "execution_count": 20,
   "metadata": {
    "ExecuteTime": {
     "end_time": "2022-03-28T01:15:12.653480Z",
     "start_time": "2022-03-28T01:15:12.644462Z"
    }
   },
   "outputs": [],
   "source": [
    "# # all_users_df.csv\n",
    "# with server.auth.sign_in(tableau_auth):\n",
    "#     all_users, _ = server.users.get(req_options=req_opts)\n",
    "# all_users_df = [(user.id, user.name, user.fullname, user.site_role) + empls[user.name] if user.name in empls.keys() else (user.id, user.name, user.fullname, user.site_role, None, None, None, None) for user in all_users]\n",
    "# all_users_df = pd.DataFrame(all_users_df, columns=[\"user_id\", \"user_name\", \"user_fnm\", \"site_role\", \"hq\", \"dept\", \"job\", \"name\"])\n",
    "# all_users_df = all_users_df.sort_values([\"user_fnm\"])\n",
    "# all_users_df.to_csv(\"./all_users_df.csv\", encoding=\"euc-kr\")\n",
    "\n",
    "# # all_groups.csv\n",
    "# with server.auth.sign_in(tableau_auth):\n",
    "#     all_groups, _ = server.groups.get(req_options=req_opts)\n",
    "# all_groups = [(group.name, group.id) for group in all_groups]\n",
    "# all_groups = pd.DataFrame(all_groups, columns=[\"group\", \"group_id\"])\n",
    "\n",
    "# # 관리자\n",
    "# users_to_alloc = hr[(hr[\"num\"].isin([\"6363\", \"5899\", \"5947\"])) | ((hr[\"job\"]==\"팀장\") & (hr[\"dept\"]==\"디지털플랫폼팀\"))]\n",
    "# tar_grp = \"6e2fc4f0-46f2-4114-8b25-341b38af9f7d\"\n",
    "# with server.auth.sign_in(tableau_auth):\n",
    "#     groups, pagination_item = server.groups.get(req_options=req_opts)\n",
    "#     tar_grp = [i for i in groups if i.id == tar_grp][0]\n",
    "#     for _, row in users_to_alloc.iterrows():\n",
    "#         user_id = all_users_df.loc[all_users_df[\"user_name\"]==row[\"num\"], \"user_id\"].tolist()[0]\n",
    "#         try:\n",
    "#             server.groups.add_user(tar_grp, user_id)\n",
    "#         except:\n",
    "#             continue\n",
    "\n",
    "# # 회장/부회장/대표이사/본부장\n",
    "# users_to_alloc = hr[(hr[\"job\"]==\"회장\") | (hr[\"job\"]==\"부회장\") | (hr[\"job\"]==\"대표이사\") | (hr[\"job\"]==\"CSO\") | (hr[\"job\"]==\"본부장\") | ((hr[\"job\"]==\"팀장\") & (hr[\"dept\"]==\"디지털플랫폼팀\")) | (hr[\"dept\"]==\"상근고문\") | (hr[\"num\"].isin([\"6032\", \"6294\", \"6111\", \"6403\", \"1101291\", \"6048\",\n",
    "# # \"6119\", # 조도연\n",
    "# \"5634\"]))] # ERP 관련\n",
    "# tar_grp = \"f827e0fe-ff32-4443-9c40-701c94a13ba1\"\n",
    "# with server.auth.sign_in(tableau_auth):\n",
    "#     groups, pagination_item = server.groups.get(req_options=req_opts)\n",
    "#     tar_grp = [i for i in groups if i.id == tar_grp][0]\n",
    "#     for _, row in users_to_alloc.iterrows():\n",
    "#         user_id = all_users_df.loc[all_users_df[\"user_name\"]==row[\"num\"], \"user_id\"].tolist()[0]\n",
    "#         try:\n",
    "#             server.groups.add_user(tar_grp, user_id)\n",
    "#             print(f\"경영진: {row['num']} {row['name']}\")\n",
    "#         except:\n",
    "#             continue\n",
    "\n",
    "# # 팀장/실장/그룹장/부문장/단장/PL/PM/TFT장\n",
    "# users_to_alloc = hr[((hr[\"sub\"] != \"정보기술/CS외주\") & (hr[\"job\"]==\"팀장\")) | (hr[\"job\"]==\"실장\") | (hr[\"job\"]==\"그룹장\") | (hr[\"job\"]==\"부문장\") | (hr[\"job\"]==\"단장\") | (hr[\"job\"]==\"PL\") | (hr[\"job\"]==\"PM\") | (hr[\"job\"]==\"TFT장\")]\n",
    "# tar_grp = \"39dc2d08-d291-4534-97d5-b1a6b3b6f67c\"\n",
    "# with server.auth.sign_in(tableau_auth):\n",
    "#     groups, pagination_item = server.groups.get(req_options=req_opts)\n",
    "#     tar_grp = [i for i in groups if i.id == tar_grp][0]\n",
    "#     for _, row in users_to_alloc.iterrows():\n",
    "#         user_id = all_users_df.loc[all_users_df[\"user_name\"]==row[\"num\"], \"user_id\"].tolist()[0]\n",
    "#         try:\n",
    "#             server.groups.add_user(tar_grp, user_id)\n",
    "#             print(f\"팀장 이하: {row['num']} {row['name']}\")\n",
    "#         except:\n",
    "#             continue\n",
    "        \n",
    "# # 건축소장/토목소장\n",
    "# users_to_alloc = hr[(hr[\"job\"]==\"건축소장\") | (hr[\"job\"]==\"토목소장\")]\n",
    "# tar_grp = \"05fa4bd0-e1df-4971-bb89-4e39f24782d7\"\n",
    "# with server.auth.sign_in(tableau_auth):\n",
    "#     groups, pagination_item = server.groups.get(req_options=req_opts)\n",
    "#     tar_grp = [i for i in groups if i.id == tar_grp][0]\n",
    "#     for _, row in users_to_alloc.iterrows():\n",
    "#         user_id = all_users_df.loc[all_users_df[\"user_name\"]==row[\"num\"], \"user_id\"].tolist()[0]\n",
    "#         try:\n",
    "#             server.groups.add_user(tar_grp, user_id)\n",
    "#             print(f\"건축소장/토목소장: {row['num']} {row['name']}\")\n",
    "#         except:\n",
    "#             continue\n",
    "\n",
    "# # HR혁신팀\n",
    "# users_to_alloc = hr[(hr[\"num\"].isin([\"4100222\"])) | ((hr[\"dept\"]==\"HR혁신팀\") & (hr[\"sub\"]==\"일반직\"))]\n",
    "# tar_grp = \"1ac1f9c5-d4b9-47d9-8c40-618df8f87f6b\"\n",
    "# with server.auth.sign_in(tableau_auth):\n",
    "#     groups, pagination_item = server.groups.get(req_options=req_opts)\n",
    "#     tar_grp = [i for i in groups if i.id == tar_grp][0]\n",
    "#     for _, row in users_to_alloc.iterrows():\n",
    "#         user_id = all_users_df.loc[all_users_df[\"user_name\"]==row[\"num\"], \"user_id\"].tolist()[0]\n",
    "#         try:\n",
    "#             server.groups.add_user(tar_grp, user_id)\n",
    "#             print(f\"HR혁신팀: {row['num']} {row['name']}\")\n",
    "#         except:\n",
    "#             continue\n",
    "\n",
    "# # 경영현안 회의\n",
    "# users_to_alloc = hr[(hr[\"num\"].isin([\"3991\", \"4154\", \"4826\", \"5381\", \"5477\", \"5555\", \"5634\", \"5673\", \"5720\", \"5892\", \"5969\", \"6033\", \"6253\", \"6376\", \"6414\", \"6453\", \"6456\", \"6460\", \"3684\", \"3805\", \"3872\", \"3911\", \"3991\", \"4009\", \"4057\", \"4078\", \"4540\", \"4598\", \"6446\", \"6415\", \"4686\", \"5704\", \"6045\", \"6012\", \"4001380\", \"6036\", \"6442\", \"6248\", \"4095\", \"5888\"]))]\n",
    "# tar_grp = \"388136df-5404-4b2d-8805-0276a6c3080a\"\n",
    "# with server.auth.sign_in(tableau_auth):\n",
    "#     groups, pagination_item = server.groups.get(req_options=req_opts)\n",
    "#     tar_grp = [i for i in groups if i.id == tar_grp][0]\n",
    "#     for _, row in users_to_alloc.iterrows():\n",
    "#         user_id = all_users_df.loc[all_users_df[\"user_name\"]==row[\"num\"], \"user_id\"].tolist()[0]\n",
    "#         try:\n",
    "#             server.groups.add_user(tar_grp, user_id)\n",
    "#             print(f\"경영현안 회의: {row['num']} {row['name']}\")\n",
    "#         except:\n",
    "#             continue\n",
    "            \n",
    "# # 본부장 회의 일반 사용자\n",
    "# users_to_alloc = hr[(hr[\"num\"].isin([\"6427\", \"6457\", \"6036\", \"6335\", \"4001380\", \"4100435\", \"6281\", \"4001341\", \"4001360\", \"4001386\", \"5653\", \"6012\", \"6360\", \"6122\", \"5994\", \"6385\", \"6389\", \"5516\", \"6455\", \"5835\", \"5903\", \"5919\", \"6354\", \"5704\", \"5720\", \"4632\", \"5308\", \"5888\", \"6428\", \"6034\", \"6333\", \"5467\", \"6281\"]))]\n",
    "# tar_grp = \"0ef096dd-2c99-4473-b80b-855d1c0b29e1\"\n",
    "# with server.auth.sign_in(tableau_auth):\n",
    "#     groups, pagination_item = server.groups.get(req_options=req_opts)\n",
    "#     tar_grp = [i for i in groups if i.id == tar_grp][0]\n",
    "#     for _, row in users_to_alloc.iterrows():\n",
    "#         user_id = all_users_df.loc[all_users_df[\"user_name\"]==row[\"num\"], \"user_id\"].tolist()[0]\n",
    "#         try:\n",
    "#             server.groups.add_user(tar_grp, user_id)\n",
    "#             print(f\"본부장 회의 일반 사용자: {row['num']} {row['name']}\")\n",
    "#         except:\n",
    "#             continue\n",
    "            \n",
    "# # 경영 현황 일반 사용자\n",
    "# users_to_alloc = hr[((hr[\"dept\"]==\"경영분석팀\") & (hr[\"sub\"]==\"일반직\") & (hr[\"job\"]==\"팀원\") & (~hr[\"num\"].isin([\"4113\"]))) | (hr[\"num\"].isin([\"6360\", \"6122\", \"5994\", \"6385\", \"6310\", \"6389\", \"5516\", \"6455\", \"5835\", \"5903\", \"5919\", \"6354\", \"5704\", \"5720\", \"6469\", \"5308\", \"6034\", \"6333\", \"5467\", \"6281\"]))]\n",
    "# tar_grp = \"91d8104c-e669-4ea2-a5fa-27b6be938858\"\n",
    "# with server.auth.sign_in(tableau_auth):\n",
    "#     groups, pagination_item = server.groups.get(req_options=req_opts)\n",
    "#     tar_grp = [i for i in groups if i.id == tar_grp][0]\n",
    "#     for _, row in users_to_alloc.iterrows():\n",
    "#         user_id = all_users_df.loc[all_users_df[\"user_name\"]==row[\"num\"], \"user_id\"].tolist()[0]\n",
    "#         try:\n",
    "#             server.groups.add_user(tar_grp, user_id)\n",
    "#             print(f\"경영 현황 일반 사용자: {row['num']} {row['name']}\")\n",
    "#         except:\n",
    "#             continue\n",
    "\n",
    "# # HR 현황 일반 사용자\n",
    "# users_to_alloc = hr[((hr[\"dept\"]==\"안전기획팀\") & (hr[\"sub\"]!=\"파견직\")) | (hr[\"num\"].isin([\"6385\", \"6385\", \"6122\", \"6455\", \"5903\", \"5919\", \"6354\", \"5704\", \"5720\", \"6284\", \"5104\", \"6469\", \"5308\", \"6034\", \"6333\", \"5467\", \"6281\"]))]\n",
    "# tar_grp = \"fef23089-cfd7-403d-8982-894afac13b32\"\n",
    "# with server.auth.sign_in(tableau_auth):\n",
    "#     groups, pagination_item = server.groups.get(req_options=req_opts)\n",
    "#     tar_grp = [i for i in groups if i.id == tar_grp][0]\n",
    "#     for _, row in users_to_alloc.iterrows():\n",
    "#         user_id = all_users_df.loc[all_users_df[\"user_name\"]==row[\"num\"], \"user_id\"].tolist()[0]\n",
    "#         try:\n",
    "#             server.groups.add_user(tar_grp, user_id)\n",
    "#             print(f\"HR 현황 일반 사용자: {row['num']} {row['name']}\")\n",
    "#         except:\n",
    "#             continue\n",
    "            \n",
    "# # 영업 현황 일반 사용자\n",
    "# users_to_alloc = hr[((hr[\"dept\"]==\"경영분석팀\") & (hr[\"sub\"]==\"일반직\") & (hr[\"job\"]==\"팀원\") & (~hr[\"num\"].isin([\"4113\"]))) | (hr[\"num\"].isin([\"5218\", \"6337\", \"4632\", \"6110\", \"6122\", \"5994\", \"6385\", \"6310\", \"6389\", \"5516\", \"6455\", \"5835\", \"5903\", \"5919\", \"6354\", \"5704\", \"5720\", \"6284\", \"5934\", \"5104\", \"6469\", \"6457\", \"6036\", \"5308\", \"6034\", \"6333\", \"5467\", \"6281\"]))]\n",
    "# tar_grp = \"0715f81d-9385-4fc8-8c2a-76f8b9481dac\"\n",
    "# with server.auth.sign_in(tableau_auth):\n",
    "#     groups, pagination_item = server.groups.get(req_options=req_opts)\n",
    "#     tar_grp = [i for i in groups if i.id == tar_grp][0]\n",
    "#     for _, row in users_to_alloc.iterrows():\n",
    "#         user_id = all_users_df.loc[all_users_df[\"user_name\"]==row[\"num\"], \"user_id\"].tolist()[0]\n",
    "#         try:\n",
    "#             server.groups.add_user(tar_grp, user_id)\n",
    "#             print(f\"영업 현황 일반 사용자: {row['num']} {row['name']}\")\n",
    "#         except:\n",
    "#             continue\n",
    "\n",
    "# # 현장 현황 일반 사용자\n",
    "# users_to_alloc = hr[((hr[\"dept\"]==\"경영분석팀\") & (hr[\"sub\"]==\"일반직\") & (hr[\"job\"]==\"팀원\") & (~hr[\"num\"].isin([\"4113\"]))) | ((hr[\"dept\"]==\"안전기획팀\") & (hr[\"sub\"]!=\"파견직\")) | (hr[\"num\"].isin([\"5947\", \"6353\", \"6360\", \"6122\", \"5994\", \"6385\", \"6310\", \"6389\", \"5516\", \"6455\", \"5835\", \"5903\", \"5919\", \"6354\", \"5704\", \"5720\", \"6284\", \"5934\", \"5104\", \"6469\", \"5308\",\n",
    "# \"6034\", \"6333\", \"5467\", \"6281\"]))]\n",
    "# tar_grp = \"fcace1dd-cfa8-4f64-8b20-803c739e1e3c\"\n",
    "# with server.auth.sign_in(tableau_auth):\n",
    "#     groups, pagination_item = server.groups.get(req_options=req_opts)\n",
    "#     tar_grp = [i for i in groups if i.id == tar_grp][0]\n",
    "#     for _, row in users_to_alloc.iterrows():\n",
    "# #         user_id = all_users_df.loc[all_users_df[\"user_name\"]==row[\"num\"], \"user_id\"].tolist()[0]\n",
    "#         user_id = row[\"user_id\"]\n",
    "#         try:\n",
    "#             server.groups.add_user(tar_grp, user_id)\n",
    "# #             print(f\"현장 현황 일반 사용자: {row['num']} {row['name']}\")\n",
    "#             print(f\"현장 현황 일반 사용자: {row['user_name']} {row['user_fnm']}\")\n",
    "#         except:\n",
    "#             continue\n",
    "            \n",
    "# # 직무정보 일반 사용자\n",
    "# users_to_alloc = hr[(hr[\"num\"].isin([\"5892\"]))] # 서유민\n",
    "# tar_grp = \"b2e29db6-c54f-45ce-b021-31596d75efc1\"\n",
    "# with server.auth.sign_in(tableau_auth):\n",
    "#     groups, pagination_item = server.groups.get(req_options=req_opts)\n",
    "#     tar_grp = [i for i in groups if i.id == tar_grp][0]\n",
    "#     for _, row in users_to_alloc.iterrows():\n",
    "# #         user_id = all_users_df.loc[all_users_df[\"user_name\"]==row[\"num\"], \"user_id\"].tolist()[0]\n",
    "#         user_id = row[\"user_id\"]\n",
    "#         try:\n",
    "#             server.groups.add_user(tar_grp, user_id)\n",
    "#             print(f\"직무정보 일반 사용자: {row['user_name']} {row['user_fnm']}\")\n",
    "#         except:\n",
    "#             continue\n",
    "            \n",
    "# # 안전 현황 일반 사용자\n",
    "# users_to_alloc = all_users_df[(all_users_df[\"hq\"]==\"건설본부\") | (all_users_df[\"dept\"].isin([\"미래전략팀\", \"디지털플랫폼팀\"])) | (hr[\"num\"].isin([\"5467\", \"6281\"]))]\n",
    "# tar_grp = \"bfbfae75-a700-4a3f-aba1-7d8bb7f81663\"\n",
    "# with server.auth.sign_in(tableau_auth):\n",
    "#     groups, pagination_item = server.groups.get(req_options=req_opts)\n",
    "#     tar_grp = [i for i in groups if i.id == tar_grp][0]\n",
    "#     for _, row in users_to_alloc.iterrows():\n",
    "#         user_id = row[\"user_id\"]\n",
    "#         try:\n",
    "#             server.groups.add_user(tar_grp, user_id)\n",
    "#             print(f\"안전 현황 일반 사용자: {row['user_name']} {row['user_fnm']}\")\n",
    "#         except:\n",
    "#             continue\n",
    "            \n",
    "# print(\"All completed!\")"
   ]
  },
  {
   "cell_type": "code",
   "execution_count": 19,
   "metadata": {
    "ExecuteTime": {
     "end_time": "2022-03-28T01:13:28.268862Z",
     "start_time": "2022-03-28T01:13:25.826143Z"
    }
   },
   "outputs": [
    {
     "name": "stderr",
     "output_type": "stream",
     "text": [
      "C:\\Users\\00006363\\Anaconda3\\envs\\tf2.3\\lib\\site-packages\\ipykernel_launcher.py:2: UserWarning: Boolean Series key will be reindexed to match DataFrame index.\n",
      "  \n"
     ]
    }
   ],
   "source": [
    "users_to_alloc = all_users_df[(all_users_df[\"hq\"]==\"건설본부\") | (all_users_df[\"dept\"].isin([\"미래전략팀\", \"디지털플랫폼팀\"])) | (hr[\"num\"].isin([\"5467\", \"6281\"]))]\n",
    "tar_grp = \"bfbfae75-a700-4a3f-aba1-7d8bb7f81663\"\n",
    "add_users_to_groups(users_to_alloc, tar_grp, \"안전 현황 일반 사용자\")"
   ]
  },
  {
   "cell_type": "code",
   "execution_count": 13,
   "metadata": {
    "ExecuteTime": {
     "end_time": "2022-03-28T01:08:03.239233Z",
     "start_time": "2022-03-28T01:08:03.226693Z"
    }
   },
   "outputs": [
    {
     "data": {
      "text/plain": [
       "user_id      20f73b43-8f92-4513-b1e7-330345b18f13\n",
       "user_name                                    5355\n",
       "user_fnm                                황세환(토목소장)\n",
       "site_role                                  Viewer\n",
       "hq                                           건설본부\n",
       "dept                           인도뭄바이해안도로(2공구)건설공사\n",
       "job                                          토목소장\n",
       "name                                          황세환\n",
       "Name: 77, dtype: object"
      ]
     },
     "execution_count": 13,
     "metadata": {},
     "output_type": "execute_result"
    }
   ],
   "source": [
    "row"
   ]
  },
  {
   "cell_type": "markdown",
   "metadata": {},
   "source": [
    "# Modify User Information"
   ]
  },
  {
   "cell_type": "code",
   "execution_count": 8,
   "metadata": {
    "ExecuteTime": {
     "end_time": "2021-12-08T01:03:56.956501Z",
     "start_time": "2021-12-08T01:03:56.572808Z"
    }
   },
   "outputs": [
    {
     "name": "stdout",
     "output_type": "stream",
     "text": [
      "All Completed!\n"
     ]
    }
   ],
   "source": [
    "with server.auth.sign_in(tableau_auth):\n",
    "    all_users, _ = server.users.get(req_options=req_opts)\n",
    "    for user in all_users:\n",
    "        if user.name in [\"5899\"]:\n",
    "            user = server.users.update(user, password=\"secretpassword\")\n",
    "print(\"All Completed!\")"
   ]
  },
  {
   "cell_type": "markdown",
   "metadata": {},
   "source": [
    "# Remove Users"
   ]
  },
  {
   "cell_type": "code",
   "execution_count": null,
   "metadata": {},
   "outputs": [],
   "source": [
    "# 발령 이력 활용\n",
    "\n",
    "# conn = pymssql.connect(server=\"133.186.215.165\", database=\"HDCMART\", user=\"hdcmart_user\", password=password, charset=\"UTF8\")\n",
    "# query = \"\"\"\n",
    "# SELECT id_sabun, ds_hname, ds_order1, ds_order2, ds_deptt, ds_position, ds_emptype, dt_order, dt_orderend \n",
    "# FROM DATAMART_DAAV_ORDER\n",
    "# WHERE cd_corp = 'A101' AND dt_order > '20190101'\n",
    "# \"\"\"\n",
    "# hist = pd.read_sql(query, conn)\n",
    "# hist.columns = hist.columns.str.lower()\n",
    "# for col in hist.columns:\n",
    "#     if pd.api.types.is_string_dtype(hist[col]):\n",
    "#         hist[col] = hist[col].str.encode(\"latin-1\").str.decode(\"euc-kr\")"
   ]
  },
  {
   "cell_type": "code",
   "execution_count": null,
   "metadata": {},
   "outputs": [],
   "source": [
    "# conn = pymssql.connect(server=\"133.186.215.165\", database=\"HDCMART\", user=\"hdcmart_user\", password=pw1, charset=\"UTF8\")\n",
    "# query = \"\"\"\n",
    "# SELECT id_sabun, ds_hname, ds_bonbu, ds_deptt, ds_emptype, ds_position, ds_occupation, ds_retire\n",
    "# FROM DATAMART_DAAV_BASEINFO_DETAIL\n",
    "# \"\"\"\n",
    "# hr2 = pd.read_sql(query, conn)\n",
    "\n",
    "# hr2.columns = hr2.columns.str.lower()\n",
    "# for col in hr2.columns:\n",
    "#     if pd.api.types.is_string_dtype(hr2[col]):\n",
    "#         hr2[col] = hr2[col].str.encode(\"latin-1\", errors=\"ignore\").str.decode(\"euc-kr\", errors=\"ignore\")\n",
    "\n",
    "# hr2[(hr2[\"ds_retire\"]==\"재직\") & ((hr2[\"ds_position\"]==\"회장\") | (hr2[\"ds_position\"]==\"부회장\") | (hr2[\"ds_occupation\"]==\"대표이사\") | (hr2[\"ds_occupation\"]==\"본부장\") | (hr2[\"ds_occupation\"]==\"팀장\") | (hr2[\"ds_occupation\"]==\"실장\") | (hr2[\"ds_occupation\"]==\"그룹장\") | (hr2[\"ds_occupation\"]==\"부문장\") | (hr2[\"ds_occupation\"]==\"단장\") | (hr2[\"ds_occupation\"]==\"PL\") | (hr2[\"ds_occupation\"]==\"PM\") | (hr2[\"ds_occupation\"]==\"TFT장\") | (hr2[\"ds_occupation\"]==\"건축소장\") | ((hr2[\"ds_deptt\"]==\"HR혁신팀\") & (hr2[\"ds_emptype\"]==\"일반직\")))]"
   ]
  },
  {
   "cell_type": "markdown",
   "metadata": {},
   "source": [
    "# Create Fundamental Datasets"
   ]
  },
  {
   "cell_type": "code",
   "execution_count": 6,
   "metadata": {
    "ExecuteTime": {
     "end_time": "2022-03-03T05:30:58.236066Z",
     "start_time": "2022-03-03T05:30:46.411712Z"
    }
   },
   "outputs": [],
   "source": [
    "# user_group.csv\n",
    "user_group = list()\n",
    "with server.auth.sign_in(tableau_auth):\n",
    "    users, pagination_item = server.users.get(req_options=req_opts)\n",
    "    for user in users:\n",
    "        pagination_item = server.users.populate_groups(user, req_options=req_opts)\n",
    "        user_group.extend([(user.id, user.name, user.fullname, user.site_role) + empls[user.name] + (group.name,) if user.name in empls.keys() else (user.id, user.name, user.fullname, user.site_role, None, None, None, None, group.name) for group in user.groups if group.name != \"All Users\"])\n",
    "user_group = pd.DataFrame(user_group, columns=[\"user_id\", \"user_name\", \"user_fnm\", \"site_role\", \"hq\", \"dept\", \"job\", \"name\", \"group\"])\n",
    "\n",
    "user_group.to_csv(\"user_group.csv\", index=False, encoding=\"euc-kr\")\n",
    "\n",
    "# group_user.csv\n",
    "group_user = list()\n",
    "with server.auth.sign_in(tableau_auth):\n",
    "    groups, pagination_item = server.groups.get(req_options=req_opts)\n",
    "    for group in groups[1:]:\n",
    "        pagination_item = server.groups.populate_users(group, req_options=req_opts)\n",
    "        group_user.extend([(group.name,) + empls[user.name] + (user.site_role,) if user.name in empls.keys() else (group.name, None, None, None, user.name, user.site_role) for user in group.users])\n",
    "\n",
    "group_user = pd.DataFrame(group_user, columns=[\"group\", \"hq\", \"dept\", \"job\", \"name\", \"site_role\"])\n",
    "\n",
    "group_user.to_csv(\"group_user.csv\", index=False, encoding=\"euc-kr\")\n",
    "\n",
    "# user_workbook\n",
    "user_wb = list()\n",
    "with server.auth.sign_in(tableau_auth):\n",
    "    users, pagination_item = server.users.get(req_options=req_opts)\n",
    "    for user in users:\n",
    "#         print(user)\n",
    "#         print(user.workbooks)\n",
    "        pagination_item = server.users.populate_workbooks(user, req_options=req_opts)\n",
    "        user_wb.extend([(user.id, user.name, user.fullname, user.site_role) + empls[user.name] + (wb.name,) if user.name in empls.keys() else (user.id, user.name, user.fullname, user.site_role, None, None, None, None, wb.name) for wb in user.workbooks if wb.project_name==\"EIS\"])\n",
    "user_wb = pd.DataFrame(user_wb, columns=[\"user_id\", \"user_name\", \"user_fnm\", \"site_role\", \"hq\", \"dept\", \"job\", \"name\", \"wb\"])\n",
    "\n",
    "user_wb.to_csv(\"user_wb.csv\", index=False, encoding=\"euc-kr\")\n",
    "\n",
    "# # have_account\n",
    "# have_account = hr[[\"num\", \"hq\", \"dept\", \"name\", \"sub\", \"job\", \"rank\", \"email\"]]\n",
    "# have_account[\"have\"] = have_account[\"num\"].apply(lambda x:True if str(x) in all_users[\"user_name\"].tolist() else False)\n",
    "\n",
    "# have_account.to_csv(\"D:/Github/Work/Tableau/have_account.csv\", index=False, encoding=\"euc-kr\")\n",
    "\n",
    "# print(\"All completed!\")"
   ]
  },
  {
   "cell_type": "code",
   "execution_count": null,
   "metadata": {},
   "outputs": [],
   "source": [
    "# hr2 = pd.read_excel(\"D:/Github/Work/Tableau/직원 명단_조직 기준_211130.xlsx\")\n",
    "# hr2[\"성명\"] = hr2[\"성명\"].apply(lambda x:x.replace(\" \", \"\"))\n",
    "# hr2 = hr2[[\"사번\", \"EMAIL\", \"본부명(조직단위기준)\", \"조직명\", \"하위그룹\", \"직무\", \"직급\", \"성명\"]]\n",
    "# hr2 = hr2.rename({\"사번\":\"num\", \"EMAIL\":\"email\", \"본부명(조직단위기준)\":\"hq\", \"조직명\":\"dept\", \"하위그룹\":\"sub\", \"직무\":\"job\", \"직급\":\"rank\", \"성명\":\"name\"}, axis=1)\n",
    "# hr2 = hr2.sort_values(by=[\"job\", \"rank\", \"hq\", \"dept\"], axis=0)\n",
    "# hr2[\"num\"] = hr2[\"num\"].astype(\"str\")\n",
    "\n",
    "# hr2.loc[hr2[\"num\"]==\"1\", \"num\"] = \"0001\""
   ]
  }
 ],
 "metadata": {
  "hide_input": false,
  "kernelspec": {
   "display_name": "Python 3",
   "language": "python",
   "name": "python3"
  },
  "language_info": {
   "codemirror_mode": {
    "name": "ipython",
    "version": 3
   },
   "file_extension": ".py",
   "mimetype": "text/x-python",
   "name": "python",
   "nbconvert_exporter": "python",
   "pygments_lexer": "ipython3",
   "version": "3.7.7"
  },
  "toc": {
   "base_numbering": 1,
   "nav_menu": {},
   "number_sections": true,
   "sideBar": true,
   "skip_h1_title": false,
   "title_cell": "Table of Contents",
   "title_sidebar": "Contents",
   "toc_cell": false,
   "toc_position": {},
   "toc_section_display": true,
   "toc_window_display": false
  },
  "varInspector": {
   "cols": {
    "lenName": 16,
    "lenType": 16,
    "lenVar": 40
   },
   "kernels_config": {
    "python": {
     "delete_cmd_postfix": "",
     "delete_cmd_prefix": "del ",
     "library": "var_list.py",
     "varRefreshCmd": "print(var_dic_list())"
    },
    "r": {
     "delete_cmd_postfix": ") ",
     "delete_cmd_prefix": "rm(",
     "library": "var_list.r",
     "varRefreshCmd": "cat(var_dic_list()) "
    }
   },
   "types_to_exclude": [
    "module",
    "function",
    "builtin_function_or_method",
    "instance",
    "_Feature"
   ],
   "window_display": false
  }
 },
 "nbformat": 4,
 "nbformat_minor": 4
}
