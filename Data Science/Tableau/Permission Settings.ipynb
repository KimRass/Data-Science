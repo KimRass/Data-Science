{
 "cells": [
  {
   "cell_type": "markdown",
   "metadata": {},
   "source": [
    "- Reference: https://tableau.github.io/server-client-python/docs/api-ref\n",
    "- \"HDC현대산업개발\": \"2a21240d-3f53-4f02-944d-b01647c3dd51\""
   ]
  },
  {
   "cell_type": "code",
   "execution_count": 2,
   "metadata": {
    "ExecuteTime": {
     "end_time": "2021-12-07T07:43:06.894512Z",
     "start_time": "2021-12-07T07:43:04.712191Z"
    }
   },
   "outputs": [],
   "source": [
    "import tableauserverclient as TSC\n",
    "import pandas as pd\n",
    "import numpy as np\n",
    "import pymssql\n",
    "from dateutil.relativedelta import relativedelta\n",
    "\n",
    "f = open(\"D:/Github/Work/Tableau/datamart_password.txt\", \"r\")\n",
    "# f = open(\"C:/Work/Tableau/datamart_password.txt\", \"r\")\n",
    "pw1 = f.readline()\n",
    "f = open(\"D:/Github/Work/Tableau/tableau_server_password.txt\", \"r\")\n",
    "# f = open(\"C:/Work/Tableau/datamart_password.txt\", \"r\")\n",
    "pw2 = f.readline()\n",
    "\n",
    "pd.set_option(\"display.max_columns\", None)"
   ]
  },
  {
   "cell_type": "code",
   "execution_count": 98,
   "metadata": {
    "ExecuteTime": {
     "end_time": "2021-12-07T08:50:39.873543Z",
     "start_time": "2021-12-07T08:50:38.489162Z"
    }
   },
   "outputs": [],
   "source": [
    "conn = pymssql.connect(server=\"133.186.215.165\", database=\"HDCMART\", user=\"hdcmart_user\", password=pw1, charset=\"UTF8\")\n",
    "query = f\"\"\"\n",
    "SELECT id_sabun AS num, ds_hname AS name, ds_bonbu AS hq, ds_dept AS dept, ds_occupation AS job, DS_EMPTYPE AS sub\n",
    "FROM DATAMART_DAAV_BASEINFO_DETAIL_ALL\n",
    "where cd_corp = 'A101' and ds_retire = '재직';\n",
    "\"\"\"\n",
    "hr = pd.read_sql(query, conn)\n",
    "hr.columns = hr.columns.str.lower()\n",
    "for col in hr.columns:\n",
    "    if pd.api.types.is_string_dtype(hr[col]):\n",
    "        hr[col] = hr[col].str.encode(\"latin-1\", errors=\"ignore\").str.decode(\"euc-kr\", errors=\"ignore\")\n",
    "        \n",
    "hr.loc[hr[\"num\"]==\"1\", \"num\"] = \"0001\"\n",
    "\n",
    "empls = {str(row[\"num\"]):(row[\"hq\"], row[\"dept\"], row[\"job\"], row[\"name\"]) for _, row in hr.iterrows()}\n",
    "\n",
    "req_opts = TSC.RequestOptions(pagesize=1000)"
   ]
  },
  {
   "cell_type": "code",
   "execution_count": 99,
   "metadata": {
    "ExecuteTime": {
     "end_time": "2021-12-07T08:50:40.640412Z",
     "start_time": "2021-12-07T08:50:40.067968Z"
    }
   },
   "outputs": [],
   "source": [
    "hr2 = pd.read_excel(\"D:/Github/Work/Tableau/직원 명단_조직 기준_211130.xlsx\")\n",
    "hr2[\"성명\"] = hr2[\"성명\"].apply(lambda x:x.replace(\" \", \"\"))\n",
    "hr2 = hr2[[\"사번\", \"EMAIL\", \"본부명(조직단위기준)\", \"조직명\", \"하위그룹\", \"직무\", \"직급\", \"성명\"]]\n",
    "hr2 = hr2.rename({\"사번\":\"num\", \"EMAIL\":\"email\", \"본부명(조직단위기준)\":\"hq\", \"조직명\":\"dept\", \"하위그룹\":\"sub\", \"직무\":\"job\", \"직급\":\"rank\", \"성명\":\"name\"}, axis=1)\n",
    "hr2 = hr2.sort_values(by=[\"job\", \"rank\", \"hq\", \"dept\"], axis=0)\n",
    "hr2[\"num\"] = hr2[\"num\"].astype(\"str\")\n",
    "\n",
    "hr2.loc[hr2[\"num\"]==\"1\", \"num\"] = \"0001\""
   ]
  },
  {
   "cell_type": "markdown",
   "metadata": {},
   "source": [
    "# SIgn In"
   ]
  },
  {
   "cell_type": "code",
   "execution_count": 27,
   "metadata": {
    "ExecuteTime": {
     "end_time": "2021-12-07T07:52:41.083936Z",
     "start_time": "2021-12-07T07:52:40.850467Z"
    }
   },
   "outputs": [],
   "source": [
    "tableau_auth = TSC.TableauAuth(\"6363\", pw2)\n",
    "server = TSC.Server(\"https://datalab.hdc-dvp.com\", use_server_version=True)"
   ]
  },
  {
   "cell_type": "markdown",
   "metadata": {},
   "source": [
    "# Create and Remove Users"
   ]
  },
  {
   "cell_type": "code",
   "execution_count": 101,
   "metadata": {
    "ExecuteTime": {
     "end_time": "2021-12-07T08:51:06.770495Z",
     "start_time": "2021-12-07T08:51:06.749551Z"
    }
   },
   "outputs": [
    {
     "data": {
      "text/html": [
       "<div>\n",
       "<style scoped>\n",
       "    .dataframe tbody tr th:only-of-type {\n",
       "        vertical-align: middle;\n",
       "    }\n",
       "\n",
       "    .dataframe tbody tr th {\n",
       "        vertical-align: top;\n",
       "    }\n",
       "\n",
       "    .dataframe thead th {\n",
       "        text-align: right;\n",
       "    }\n",
       "</style>\n",
       "<table border=\"1\" class=\"dataframe\">\n",
       "  <thead>\n",
       "    <tr style=\"text-align: right;\">\n",
       "      <th></th>\n",
       "      <th>num</th>\n",
       "      <th>name</th>\n",
       "      <th>hq</th>\n",
       "      <th>dept</th>\n",
       "      <th>job</th>\n",
       "      <th>sub</th>\n",
       "    </tr>\n",
       "  </thead>\n",
       "  <tbody>\n",
       "    <tr>\n",
       "      <th>1542</th>\n",
       "      <td>4100222</td>\n",
       "      <td>김혜영</td>\n",
       "      <td>미래혁신본부</td>\n",
       "      <td>HR혁신팀</td>\n",
       "      <td>팀원</td>\n",
       "      <td>CS외주</td>\n",
       "    </tr>\n",
       "  </tbody>\n",
       "</table>\n",
       "</div>"
      ],
      "text/plain": [
       "          num name      hq   dept job   sub\n",
       "1542  4100222  김혜영  미래혁신본부  HR혁신팀  팀원  CS외주"
      ]
     },
     "execution_count": 101,
     "metadata": {},
     "output_type": "execute_result"
    }
   ],
   "source": [
    "hr[(hr[\"num\"].isin([\"4100222\"]))]"
   ]
  },
  {
   "cell_type": "code",
   "execution_count": 40,
   "metadata": {
    "ExecuteTime": {
     "end_time": "2021-12-06T07:29:38.814431Z",
     "start_time": "2021-12-06T07:29:34.586739Z"
    }
   },
   "outputs": [
    {
     "name": "stdout",
     "output_type": "stream",
     "text": [
      "Create Users;\n",
      "Remove Users;\n",
      "f77e1c88-338b-4759-9557-f309d0b4f0b1 3881\n",
      "c20b5340-8e94-4720-b2fc-b60e5e70e8fc 4628\n",
      "All Completed!\n"
     ]
    }
   ],
   "source": [
    "with server.auth.sign_in(tableau_auth):\n",
    "    all_users, _ = server.users.get(req_options=req_opts)\n",
    "\n",
    "users_to_create = hr[(hr[\"job\"]==\"회장\") | (hr[\"job\"]==\"부회장\") | (hr[\"job\"]==\"대표이사\") | (hr[\"job\"]==\"본부장\") | (hr[\"job\"]==\"팀장\") | (hr[\"job\"]==\"실장\") | (hr[\"job\"]==\"그룹장\") | (hr[\"job\"]==\"부문장\") | (hr[\"job\"]==\"단장\") | (hr[\"job\"]==\"PL\") | (hr[\"job\"]==\"PM\") | (hr[\"job\"]==\"TFT장\") | (hr[\"job\"]==\"건축소장\") | (hr[\"job\"]==\"토목소장\") | ((hr[\"dept\"]==\"경영분석팀\") & (hr[\"sub\"]==\"일반직 \") & (hr[\"job\"]!=\"축구협\")) | ((hr[\"dept\"]==\"HR혁신팀\") & (hr[\"sub\"]==\"일반직 \")) | (hr[\"num\"].isin([\n",
    "\"6363\", \"5899\", \"5947\", # 관리자\n",
    "\"4001380\", # 김아현\n",
    "\"4100222\", # 김혜영\n",
    "\"4001341\", \"4001360\", \"4001386\", # 비서\n",
    "\"1101291\", \"6294\", \"6111\", \"6048\", \"6403\", \"6032\", # 디지털플랫폼팀 or BI 관련\n",
    "\"6354\", \"5704\", \"5720\", # 건설기획팀\n",
    "# 이하 그 외\n",
    "\"5707\", \"6084\", \"6161\", \"5934\", \"5218\", \"6110\", \"4632\", \"5308\", \"5104\", \"5892\", \"6168\", \"6335\", \"6353\", \"6284\", \"6281\", \"6427\", \"6012\", \"6360\", \"6122\", \"5994\", \"6385\", \"6310\", \"6389\", \"5516\", \"6455\", \"5903\", \"5919\"]))]\n",
    "\n",
    "print(\"Create Users;\")\n",
    "with server.auth.sign_in(tableau_auth):\n",
    "    for _, row in users_to_create.iterrows():\n",
    "        # `site_role` 결정\n",
    "        if row[\"num\"] not in [i.name for i in all_users]:\n",
    "            print(row[\"num\"], row[\"name\"])\n",
    "            # 이재호\n",
    "            if row[\"num\"] in [\"4100435\"]:\n",
    "                user = TSC.UserItem(row[\"num\"], \"SiteAdministratorCreator\")\n",
    "            # 김아현\n",
    "            elif row[\"num\"] in [\"4001380\"]:\n",
    "                user = TSC.UserItem(row[\"num\"], \"Creator\")\n",
    "            else:\n",
    "                user = TSC.UserItem(row[\"num\"], \"Viewer\")                \n",
    "            user = server.users.add(user)\n",
    "        else:\n",
    "            user = [i for i in all_users if i.name == row[\"num\"]][0]\n",
    "            \n",
    "        if row[\"job\"] in [\"회장\", \"부회장\", \"대표이사사장\", \"본부장\", \"팀장\", \"실장\", \"그룹장\", \"부문장\", \"단장\", \"리더\", \"PM\", \"건축PM\", \"TFT팀장\", \"소장\"] or row[\"num\"] in [\"5308\"]:\n",
    "            user.fullname = f\"{row['name']}({row['job']})\"\n",
    "        else:\n",
    "            user.fullname = f\"{row['name']}({row['dept']})\"\n",
    "        user.email = row[\"email\"]\n",
    "        user = server.users.update(user)\n",
    "    \n",
    "print(\"Remove Users;\")\n",
    "with server.auth.sign_in(tableau_auth):\n",
    "    for user in all_users:\n",
    "        if user.name not in users_to_create[\"num\"].tolist() + [\"6406\", \"4686\", \"Test\"]:\n",
    "            print(user.id, user.name)\n",
    "            server.users.remove(user.id)\n",
    "\n",
    "print(\"All Completed!\")"
   ]
  },
  {
   "cell_type": "markdown",
   "metadata": {},
   "source": [
    "# Add Users to Groups"
   ]
  },
  {
   "cell_type": "code",
   "execution_count": 41,
   "metadata": {
    "ExecuteTime": {
     "end_time": "2021-12-06T07:29:44.584959Z",
     "start_time": "2021-12-06T07:29:42.458650Z"
    }
   },
   "outputs": [
    {
     "ename": "IndexError",
     "evalue": "list index out of range",
     "output_type": "error",
     "traceback": [
      "\u001b[1;31m---------------------------------------------------------------------------\u001b[0m",
      "\u001b[1;31mIndexError\u001b[0m                                Traceback (most recent call last)",
      "\u001b[1;32m<ipython-input-41-8228fdd34255>\u001b[0m in \u001b[0;36m<module>\u001b[1;34m\u001b[0m\n\u001b[0;32m     44\u001b[0m     \u001b[0mtar_grp\u001b[0m \u001b[1;33m=\u001b[0m \u001b[1;33m[\u001b[0m\u001b[0mi\u001b[0m \u001b[1;32mfor\u001b[0m \u001b[0mi\u001b[0m \u001b[1;32min\u001b[0m \u001b[0mgroups\u001b[0m \u001b[1;32mif\u001b[0m \u001b[0mi\u001b[0m\u001b[1;33m.\u001b[0m\u001b[0mid\u001b[0m \u001b[1;33m==\u001b[0m \u001b[0mtar_grp\u001b[0m\u001b[1;33m]\u001b[0m\u001b[1;33m[\u001b[0m\u001b[1;36m0\u001b[0m\u001b[1;33m]\u001b[0m\u001b[1;33m\u001b[0m\u001b[1;33m\u001b[0m\u001b[0m\n\u001b[0;32m     45\u001b[0m     \u001b[1;32mfor\u001b[0m \u001b[0m_\u001b[0m\u001b[1;33m,\u001b[0m \u001b[0mrow\u001b[0m \u001b[1;32min\u001b[0m \u001b[0musers_to_alloc\u001b[0m\u001b[1;33m.\u001b[0m\u001b[0miterrows\u001b[0m\u001b[1;33m(\u001b[0m\u001b[1;33m)\u001b[0m\u001b[1;33m:\u001b[0m\u001b[1;33m\u001b[0m\u001b[1;33m\u001b[0m\u001b[0m\n\u001b[1;32m---> 46\u001b[1;33m         \u001b[0muser_id\u001b[0m \u001b[1;33m=\u001b[0m \u001b[0mall_users_df\u001b[0m\u001b[1;33m.\u001b[0m\u001b[0mloc\u001b[0m\u001b[1;33m[\u001b[0m\u001b[0mall_users_df\u001b[0m\u001b[1;33m[\u001b[0m\u001b[1;34m\"user_name\"\u001b[0m\u001b[1;33m]\u001b[0m\u001b[1;33m==\u001b[0m\u001b[0mrow\u001b[0m\u001b[1;33m[\u001b[0m\u001b[1;34m\"num\"\u001b[0m\u001b[1;33m]\u001b[0m\u001b[1;33m,\u001b[0m \u001b[1;34m\"user_id\"\u001b[0m\u001b[1;33m]\u001b[0m\u001b[1;33m.\u001b[0m\u001b[0mtolist\u001b[0m\u001b[1;33m(\u001b[0m\u001b[1;33m)\u001b[0m\u001b[1;33m[\u001b[0m\u001b[1;36m0\u001b[0m\u001b[1;33m]\u001b[0m\u001b[1;33m\u001b[0m\u001b[1;33m\u001b[0m\u001b[0m\n\u001b[0m\u001b[0;32m     47\u001b[0m         \u001b[1;32mtry\u001b[0m\u001b[1;33m:\u001b[0m\u001b[1;33m\u001b[0m\u001b[1;33m\u001b[0m\u001b[0m\n\u001b[0;32m     48\u001b[0m             \u001b[0mserver\u001b[0m\u001b[1;33m.\u001b[0m\u001b[0mgroups\u001b[0m\u001b[1;33m.\u001b[0m\u001b[0madd_user\u001b[0m\u001b[1;33m(\u001b[0m\u001b[0mtar_grp\u001b[0m\u001b[1;33m,\u001b[0m \u001b[0muser_id\u001b[0m\u001b[1;33m)\u001b[0m\u001b[1;33m\u001b[0m\u001b[1;33m\u001b[0m\u001b[0m\n",
      "\u001b[1;31mIndexError\u001b[0m: list index out of range"
     ]
    }
   ],
   "source": [
    "# all_users.csv\n",
    "with server.auth.sign_in(tableau_auth):\n",
    "    all_users, _ = server.users.get(req_options=req_opts)\n",
    "all_users_df = [(user.id, user.name, user.fullname, user.site_role) + empls[user.name] if user.name in empls.keys() else (user.id, user.name, user.fullname, user.site_role, None, None, None, None) for user in all_users]\n",
    "all_users_df = pd.DataFrame(all_users_df, columns=[\"user_id\", \"user_name\", \"user_fnm\", \"site_role\", \"hq\", \"dept\", \"job\", \"name\"])\n",
    "\n",
    "# all_groups.csv\n",
    "with server.auth.sign_in(tableau_auth):\n",
    "    all_groups, _ = server.groups.get(req_options=req_opts)\n",
    "all_groups = [(group.name, group.id) for group in all_groups]\n",
    "all_groups = pd.DataFrame(all_groups, columns=[\"group\", \"group_id\"])\n",
    "\n",
    "# 관리자\n",
    "users_to_alloc = hr[(hr[\"num\"].isin([\"6363\", \"5899\", \"5947\"]))]\n",
    "tar_grp = \"6e2fc4f0-46f2-4114-8b25-341b38af9f7d\"\n",
    "with server.auth.sign_in(tableau_auth):\n",
    "    groups, pagination_item = server.groups.get(req_options=req_opts)\n",
    "    tar_grp = [i for i in groups if i.id == tar_grp][0]\n",
    "    for _, row in users_to_alloc.iterrows():\n",
    "        user_id = all_users_df.loc[all_users_df[\"user_name\"]==row[\"num\"], \"user_id\"].tolist()[0]\n",
    "        try:\n",
    "            server.groups.add_user(tar_grp, user_id)\n",
    "        except:\n",
    "            continue\n",
    "\n",
    "# 회장/부회장/대표이사사장/본부장\n",
    "users_to_alloc = hr[(hr[\"job\"]==\"회장\") | (hr[\"job\"]==\"부회장\") | (hr[\"job\"]==\"대표이사사장\") | (hr[\"job\"]==\"본부장\") |((hr[\"job\"]==\"팀장\") & (hr[\"dept\"]==\"디지털플랫폼팀\")) | (hr[\"num\"].isin([\"6032\", \"6294\", \"6119\", \"6111\", \"6403\", \"1101291\", \"5634\", \"6048\"]))]\n",
    "tar_grp = \"f827e0fe-ff32-4443-9c40-701c94a13ba1\"\n",
    "with server.auth.sign_in(tableau_auth):\n",
    "    groups, pagination_item = server.groups.get(req_options=req_opts)\n",
    "    tar_grp = [i for i in groups if i.id == tar_grp][0]\n",
    "    for _, row in users_to_alloc.iterrows():\n",
    "        user_id = all_users_df.loc[all_users_df[\"user_name\"]==row[\"num\"], \"user_id\"].tolist()[0]\n",
    "        try:\n",
    "            server.groups.add_user(tar_grp, user_id)\n",
    "        except:\n",
    "            continue\n",
    "\n",
    "# 팀장/실장/그룹장/부문장/단장/리더/PM/건축PM\n",
    "users_to_alloc = hr[((hr[\"sub\"] != \"정보기술외주\") & (hr[\"job\"]==\"팀장\")) | (hr[\"job\"]==\"실장\") | (hr[\"job\"]==\"그룹장\") | (hr[\"job\"]==\"부문장\") | (hr[\"job\"]==\"단장\") | (hr[\"job\"]==\"리더\") | (hr[\"job\"]==\"PM\") | (hr[\"job\"]==\"건축PM\") | (hr[\"job\"]==\"TFT팀장\") | (hr[\"num\"].isin([\"5308\"]))]\n",
    "tar_grp = \"39dc2d08-d291-4534-97d5-b1a6b3b6f67c\"\n",
    "with server.auth.sign_in(tableau_auth):\n",
    "    groups, pagination_item = server.groups.get(req_options=req_opts)\n",
    "    tar_grp = [i for i in groups if i.id == tar_grp][0]\n",
    "    for _, row in users_to_alloc.iterrows():\n",
    "        user_id = all_users_df.loc[all_users_df[\"user_name\"]==row[\"num\"], \"user_id\"].tolist()[0]\n",
    "        try:\n",
    "            server.groups.add_user(tar_grp, user_id)\n",
    "        except:\n",
    "            continue\n",
    "        \n",
    "# 소장\n",
    "users_to_alloc = hr[(hr[\"job\"]==\"소장\")]\n",
    "tar_grp = \"05fa4bd0-e1df-4971-bb89-4e39f24782d7\"\n",
    "with server.auth.sign_in(tableau_auth):\n",
    "    groups, pagination_item = server.groups.get(req_options=req_opts)\n",
    "    tar_grp = [i for i in groups if i.id == tar_grp][0]\n",
    "    for _, row in users_to_alloc.iterrows():\n",
    "        user_id = all_users_df.loc[all_users_df[\"user_name\"]==row[\"num\"], \"user_id\"].tolist()[0]\n",
    "        try:\n",
    "            server.groups.add_user(tar_grp, user_id)\n",
    "        except:\n",
    "            continue\n",
    "\n",
    "# HR혁신팀\n",
    "users_to_alloc = hr[(hr[\"num\"].isin([\"4100222\"])) | ((hr[\"dept\"]==\"HR혁신팀\") & (hr[\"sub\"]==\"일반직\"))]\n",
    "tar_grp = \"1ac1f9c5-d4b9-47d9-8c40-618df8f87f6b\"\n",
    "with server.auth.sign_in(tableau_auth):\n",
    "    groups, pagination_item = server.groups.get(req_options=req_opts)\n",
    "    tar_grp = [i for i in groups if i.id == tar_grp][0]\n",
    "    for _, row in users_to_alloc.iterrows():\n",
    "        user_id = all_users_df.loc[all_users_df[\"user_name\"]==row[\"num\"], \"user_id\"].tolist()[0]\n",
    "        try:\n",
    "            server.groups.add_user(tar_grp, user_id)\n",
    "        except:\n",
    "            continue\n",
    "            \n",
    "# 본부장 회의 일반 사용자\n",
    "users_to_alloc = hr[(hr[\"num\"].isin([\"6427\", \"6168\", \"6335\", \"5882\", \"4001380\", \"4100435\", \"6281\", \"4001341\", \"4001360\", \"4001386\", \"5653\", \"6012\", \"6360\", \"6122\", \"5994\", \"6385\", \"6389\", \"5516\", \"6455\", \"5835\", \"5903\", \"5919\", \"6354\", \"5704\", \"5720\", \"4632\"]))]\n",
    "tar_grp = \"0ef096dd-2c99-4473-b80b-855d1c0b29e1\"\n",
    "with server.auth.sign_in(tableau_auth):\n",
    "    groups, pagination_item = server.groups.get(req_options=req_opts)\n",
    "    tar_grp = [i for i in groups if i.id == tar_grp][0]\n",
    "    for _, row in users_to_alloc.iterrows():\n",
    "        user_id = all_users_df.loc[all_users_df[\"user_name\"]==row[\"num\"], \"user_id\"].tolist()[0]\n",
    "        try:\n",
    "            server.groups.add_user(tar_grp, user_id)\n",
    "        except:\n",
    "            continue\n",
    "            \n",
    "# 경영 현황 일반 사용자\n",
    "users_to_alloc = hr[(hr[\"num\"].isin([\"6360\", \"6122\", \"5994\", \"6385\", \"6310\", \"6389\", \"5516\", \"6455\", \"5835\", \"5903\", \"5919\", \"6354\", \"5704\", \"5720\"]))]\n",
    "tar_grp = \"91d8104c-e669-4ea2-a5fa-27b6be938858\"\n",
    "with server.auth.sign_in(tableau_auth):\n",
    "    groups, pagination_item = server.groups.get(req_options=req_opts)\n",
    "    tar_grp = [i for i in groups if i.id == tar_grp][0]\n",
    "    for _, row in users_to_alloc.iterrows():\n",
    "        user_id = all_users_df.loc[all_users_df[\"user_name\"]==row[\"num\"], \"user_id\"].tolist()[0]\n",
    "        try:\n",
    "            server.groups.add_user(tar_grp, user_id)\n",
    "        except:\n",
    "            continue\n",
    "\n",
    "# HR 현황 일반 사용자\n",
    "users_to_alloc = hr[(hr[\"num\"].isin([\"6385\", \"6385\", \"6122\", \"6455\", \"5903\", \"5919\", \"6354\", \"5704\", \"5720\", \"6284\", \"5104\"]))]\n",
    "tar_grp = \"fef23089-cfd7-403d-8982-894afac13b32\"\n",
    "with server.auth.sign_in(tableau_auth):\n",
    "    groups, pagination_item = server.groups.get(req_options=req_opts)\n",
    "    tar_grp = [i for i in groups if i.id == tar_grp][0]\n",
    "    for _, row in users_to_alloc.iterrows():\n",
    "        user_id = all_users_df.loc[all_users_df[\"user_name\"]==row[\"num\"], \"user_id\"].tolist()[0]\n",
    "        try:\n",
    "            server.groups.add_user(tar_grp, user_id)\n",
    "        except:\n",
    "            continue\n",
    "            \n",
    "# 영업 현황 일반 사용자\n",
    "users_to_alloc = hr[(hr[\"num\"].isin([\"5218\", \"6337\", \"4632\", \"6110\", \"6122\", \"5994\", \"6385\", \"6310\", \"6389\", \"5516\", \"6455\", \"5835\", \"5903\", \"5919\", \"6354\", \"5704\", \"5720\", \"6284\", \"5934\", \"5104\"]))]\n",
    "tar_grp = \"0715f81d-9385-4fc8-8c2a-76f8b9481dac\"\n",
    "with server.auth.sign_in(tableau_auth):\n",
    "    groups, pagination_item = server.groups.get(req_options=req_opts)\n",
    "    tar_grp = [i for i in groups if i.id == tar_grp][0]\n",
    "    for _, row in users_to_alloc.iterrows():\n",
    "        user_id = all_users_df.loc[all_users_df[\"user_name\"]==row[\"num\"], \"user_id\"].tolist()[0]\n",
    "        try:\n",
    "            server.groups.add_user(tar_grp, user_id)\n",
    "        except:\n",
    "            continue\n",
    "\n",
    "# 현장 현황 일반 사용자\n",
    "users_to_alloc = hr[(hr[\"num\"].isin([\"5947\", \"6353\", \"6360\", \"6122\", \"5994\", \"6385\", \"6310\", \"6389\", \"5516\", \"6455\", \"5835\", \"5903\", \"5919\", \"6354\", \"5704\", \"5720\", \"6284\", \"5934\", \"5104\"]))]\n",
    "tar_grp = \"fcace1dd-cfa8-4f64-8b20-803c739e1e3c\"\n",
    "with server.auth.sign_in(tableau_auth):\n",
    "    groups, pagination_item = server.groups.get(req_options=req_opts)\n",
    "    tar_grp = [i for i in groups if i.id == tar_grp][0]\n",
    "    for _, row in users_to_alloc.iterrows():\n",
    "        user_id = all_users_df.loc[all_users_df[\"user_name\"]==row[\"num\"], \"user_id\"].tolist()[0]\n",
    "        try:\n",
    "            server.groups.add_user(tar_grp, user_id)\n",
    "        except:\n",
    "            continue\n",
    "            \n",
    "# 직무정보 일반 사용자\n",
    "users_to_alloc = hr[(hr[\"num\"].isin([\"5892\"]))]\n",
    "tar_grp = \"b2e29db6-c54f-45ce-b021-31596d75efc1\"\n",
    "with server.auth.sign_in(tableau_auth):\n",
    "    groups, pagination_item = server.groups.get(req_options=req_opts)\n",
    "    tar_grp = [i for i in groups if i.id == tar_grp][0]\n",
    "    for _, row in users_to_alloc.iterrows():\n",
    "        user_id = all_users_df.loc[all_users_df[\"user_name\"]==row[\"num\"], \"user_id\"].tolist()[0]\n",
    "        try:\n",
    "            server.groups.add_user(tar_grp, user_id)\n",
    "        except:\n",
    "            continue\n",
    "            \n",
    "print(\"All completed!\")"
   ]
  },
  {
   "cell_type": "markdown",
   "metadata": {},
   "source": [
    "# Modify User Information"
   ]
  },
  {
   "cell_type": "code",
   "execution_count": 17,
   "metadata": {
    "ExecuteTime": {
     "end_time": "2021-12-02T04:27:19.216029Z",
     "start_time": "2021-12-02T04:27:18.982683Z"
    }
   },
   "outputs": [
    {
     "name": "stdout",
     "output_type": "stream",
     "text": [
      "All Completed!\n"
     ]
    }
   ],
   "source": [
    "with server.auth.sign_in(tableau_auth):\n",
    "    for user in all_users:\n",
    "        if user.name in [\"5903\"]:\n",
    "            user = server.users.update(user, password=\"secretpassword\")\n",
    "print(\"All Completed!\")"
   ]
  },
  {
   "cell_type": "code",
   "execution_count": 18,
   "metadata": {
    "ExecuteTime": {
     "end_time": "2021-12-02T04:27:31.300695Z",
     "start_time": "2021-12-02T04:27:31.297732Z"
    }
   },
   "outputs": [],
   "source": [
    "# for _, row in all_users.iterrows():\n",
    "#     with server.auth.sign_in(tableau_auth):\n",
    "#         if row[\"user_name\"] not in [\"5899\"]:\n",
    "#             print(row[\"user_id\"], row[\"user_name\"])\n",
    "#             user = server.users.get_by_id(row[\"user_id\"])\n",
    "#             user = server.users.update(user, password=\"secretpassword\")\n",
    "# print(\"All Completed!\")"
   ]
  },
  {
   "cell_type": "markdown",
   "metadata": {},
   "source": [
    "# Remove Users"
   ]
  },
  {
   "cell_type": "code",
   "execution_count": 39,
   "metadata": {
    "ExecuteTime": {
     "end_time": "2021-12-06T07:28:33.828272Z",
     "start_time": "2021-12-06T07:28:33.617835Z"
    }
   },
   "outputs": [
    {
     "name": "stdout",
     "output_type": "stream",
     "text": [
      "f77e1c88-338b-4759-9557-f309d0b4f0b1 3881\n",
      "c20b5340-8e94-4720-b2fc-b60e5e70e8fc 4628\n",
      "All completed!\n"
     ]
    }
   ],
   "source": [
    "with server.auth.sign_in(tableau_auth):\n",
    "    for user in all_users:\n",
    "        if user.name not in users_to_create[\"num\"].tolist() + [\"6406\", \"4686\", \"Test\"]:\n",
    "            print(user.id, user.name)\n",
    "#             server.users.remove(user.id)\n",
    "print(\"All completed!\")"
   ]
  },
  {
   "cell_type": "code",
   "execution_count": null,
   "metadata": {},
   "outputs": [],
   "source": [
    "# 발령 이력 활용\n",
    "\n",
    "# conn = pymssql.connect(server=\"133.186.215.165\", database=\"HDCMART\", user=\"hdcmart_user\", password=password, charset=\"UTF8\")\n",
    "# query = \"\"\"\n",
    "# SELECT id_sabun, ds_hname, ds_order1, ds_order2, ds_deptt, ds_position, ds_emptype, dt_order, dt_orderend \n",
    "# FROM DATAMART_DAAV_ORDER\n",
    "# WHERE cd_corp = 'A101' AND dt_order > '20190101'\n",
    "# \"\"\"\n",
    "# hist = pd.read_sql(query, conn)\n",
    "# hist.columns = hist.columns.str.lower()\n",
    "# for col in hist.columns:\n",
    "#     if pd.api.types.is_string_dtype(hist[col]):\n",
    "#         hist[col] = hist[col].str.encode(\"latin-1\").str.decode(\"euc-kr\")"
   ]
  },
  {
   "cell_type": "code",
   "execution_count": null,
   "metadata": {},
   "outputs": [],
   "source": [
    "# conn = pymssql.connect(server=\"133.186.215.165\", database=\"HDCMART\", user=\"hdcmart_user\", password=pw1, charset=\"UTF8\")\n",
    "# query = \"\"\"\n",
    "# SELECT id_sabun, ds_hname, ds_bonbu, ds_deptt, ds_emptype, ds_position, ds_occupation, ds_retire\n",
    "# FROM DATAMART_DAAV_BASEINFO_DETAIL\n",
    "# \"\"\"\n",
    "# hr2 = pd.read_sql(query, conn)\n",
    "\n",
    "# hr2.columns = hr2.columns.str.lower()\n",
    "# for col in hr2.columns:\n",
    "#     if pd.api.types.is_string_dtype(hr2[col]):\n",
    "#         hr2[col] = hr2[col].str.encode(\"latin-1\", errors=\"ignore\").str.decode(\"euc-kr\", errors=\"ignore\")\n",
    "\n",
    "# hr2[(hr2[\"ds_retire\"]==\"재직\") & ((hr2[\"ds_position\"]==\"회장\") | (hr2[\"ds_position\"]==\"부회장\") | (hr2[\"ds_occupation\"]==\"대표이사\") | (hr2[\"ds_occupation\"]==\"본부장\") | (hr2[\"ds_occupation\"]==\"팀장\") | (hr2[\"ds_occupation\"]==\"실장\") | (hr2[\"ds_occupation\"]==\"그룹장\") | (hr2[\"ds_occupation\"]==\"부문장\") | (hr2[\"ds_occupation\"]==\"단장\") | (hr2[\"ds_occupation\"]==\"PL\") | (hr2[\"ds_occupation\"]==\"PM\") | (hr2[\"ds_occupation\"]==\"TFT장\") | (hr2[\"ds_occupation\"]==\"건축소장\") | ((hr2[\"ds_deptt\"]==\"HR혁신팀\") & (hr2[\"ds_emptype\"]==\"일반직\")))]"
   ]
  },
  {
   "cell_type": "markdown",
   "metadata": {},
   "source": [
    "Create Fundamental Datasets"
   ]
  },
  {
   "cell_type": "code",
   "execution_count": null,
   "metadata": {},
   "outputs": [],
   "source": [
    "# # user_group.csv\n",
    "# user_group = list()\n",
    "# with server.auth.sign_in(tableau_auth):\n",
    "#     users, pagination_item = server.users.get(req_options=req_opts)\n",
    "#     for user in users:\n",
    "#         pagination_item = server.users.populate_groups(user, req_options=req_opts)\n",
    "#         user_group.extend([(user.id, user.name, user.fullname, user.site_role) + empls[user.name] + (group.name,) if user.name in empls.keys() else (user.id, user.name, user.fullname, user.site_role, None, None, None, None, group.name) for group in user.groups if group.name != \"All Users\"])\n",
    "# user_group = pd.DataFrame(user_group, columns=[\"user_id\", \"user_name\", \"user_fnm\", \"site_role\", \"hq\", \"dept\", \"job\", \"name\", \"group\"])\n",
    "\n",
    "# user_group.to_csv(\"D:/Github/Work/Tableau/user_group.csv\", index=False, encoding=\"euc-kr\")\n",
    "\n",
    "# # group_user.csv\n",
    "# group_user = list()\n",
    "# with server.auth.sign_in(tableau_auth):\n",
    "#     groups, pagination_item = server.groups.get(req_options=req_opts)\n",
    "#     for group in groups[1:]:\n",
    "#         pagination_item = server.groups.populate_users(group, req_options=req_opts)\n",
    "#         group_user.extend([(group.name,) + empls[user.name] + (user.site_role,) if user.name in empls.keys() else (group.name, None, None, None, user.name, user.site_role) for user in group.users])\n",
    "\n",
    "# group_user = pd.DataFrame(group_user, columns=[\"group\", \"hq\", \"dept\", \"job\", \"name\", \"site_role\"])\n",
    "\n",
    "# group_user.to_csv(\"D:/Github/Work/Tableau/group_user.csv\", index=False, encoding=\"euc-kr\")\n",
    "\n",
    "# # user_workbook\n",
    "# user_wb = list()\n",
    "# with server.auth.sign_in(tableau_auth):\n",
    "#     users, pagination_item = server.users.get(req_options=req_opts)\n",
    "#     for user in users:\n",
    "#         pagination_item = server.users.populate_workbooks(user, req_options=req_opts)\n",
    "#         user_wb.extend([(user.id, user.name, user.fullname, user.site_role) + empls[user.name] + (wb.name,) if user.name in empls.keys() else (user.id, user.name, user.fullname, user.site_role, None, None, None, None, wb.name) for wb in user.workbooks if wb.project_name==\"HDC현대산업개발\"])\n",
    "# user_wb = pd.DataFrame(user_wb, columns=[\"user_id\", \"user_name\", \"user_fnm\", \"site_role\", \"hq\", \"dept\", \"job\", \"name\", \"wb\"])\n",
    "\n",
    "# user_wb.to_csv(\"D:/Github/Work/Tableau/user_wb.csv\", index=False, encoding=\"euc-kr\")\n",
    "\n",
    "# # have_account\n",
    "# have_account = hr[[\"num\", \"hq\", \"dept\", \"name\", \"sub\", \"job\", \"rank\", \"email\"]]\n",
    "# have_account[\"have\"] = have_account[\"num\"].apply(lambda x:True if str(x) in all_users[\"user_name\"].tolist() else False)\n",
    "\n",
    "# have_account.to_csv(\"D:/Github/Work/Tableau/have_account.csv\", index=False, encoding=\"euc-kr\")\n",
    "\n",
    "# print(\"All completed!\")"
   ]
  }
 ],
 "metadata": {
  "hide_input": false,
  "kernelspec": {
   "display_name": "Python 3",
   "language": "python",
   "name": "python3"
  },
  "language_info": {
   "codemirror_mode": {
    "name": "ipython",
    "version": 3
   },
   "file_extension": ".py",
   "mimetype": "text/x-python",
   "name": "python",
   "nbconvert_exporter": "python",
   "pygments_lexer": "ipython3",
   "version": "3.7.7"
  },
  "toc": {
   "base_numbering": 1,
   "nav_menu": {},
   "number_sections": true,
   "sideBar": true,
   "skip_h1_title": false,
   "title_cell": "Table of Contents",
   "title_sidebar": "Contents",
   "toc_cell": false,
   "toc_position": {},
   "toc_section_display": true,
   "toc_window_display": false
  },
  "varInspector": {
   "cols": {
    "lenName": 16,
    "lenType": 16,
    "lenVar": 40
   },
   "kernels_config": {
    "python": {
     "delete_cmd_postfix": "",
     "delete_cmd_prefix": "del ",
     "library": "var_list.py",
     "varRefreshCmd": "print(var_dic_list())"
    },
    "r": {
     "delete_cmd_postfix": ") ",
     "delete_cmd_prefix": "rm(",
     "library": "var_list.r",
     "varRefreshCmd": "cat(var_dic_list()) "
    }
   },
   "types_to_exclude": [
    "module",
    "function",
    "builtin_function_or_method",
    "instance",
    "_Feature"
   ],
   "window_display": false
  }
 },
 "nbformat": 4,
 "nbformat_minor": 4
}
