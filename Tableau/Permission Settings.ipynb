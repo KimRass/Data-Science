{
 "cells": [
  {
   "cell_type": "markdown",
   "metadata": {},
   "source": [
    "- Source: https://tableau.github.io/server-client-python/docs/api-ref\n",
    "- \"HDC현대산업개발\": \"2a21240d-3f53-4f02-944d-b01647c3dd51\""
   ]
  },
  {
   "cell_type": "code",
   "execution_count": 1,
   "metadata": {},
   "outputs": [],
   "source": [
    "import tableauserverclient as TSC\n",
    "import pandas as pd\n",
    "import pickle as pk"
   ]
  },
  {
   "cell_type": "code",
   "execution_count": 2,
   "metadata": {},
   "outputs": [],
   "source": [
    "hr = pd.read_excel(\"D:/디지털혁신팀/태블로/직원명단_조직_210630.xlsx\")\n",
    "hr[\"성명\"] = hr[\"성명\"].apply(lambda x:x.replace(\" \", \"\"))"
   ]
  },
  {
   "cell_type": "code",
   "execution_count": 3,
   "metadata": {},
   "outputs": [],
   "source": [
    "empls = {str(row[\"사번\"]):(row[\"본부명(조직단위기준)\"], row[\"조직명\"], row[\"직무\"], row[\"성명\"]) for _, row in hr.iterrows()}\n",
    "\n",
    "req_opts = TSC.RequestOptions(pagesize=1000)"
   ]
  },
  {
   "cell_type": "markdown",
   "metadata": {},
   "source": [
    "## SIgn In"
   ]
  },
  {
   "cell_type": "code",
   "execution_count": 5,
   "metadata": {},
   "outputs": [],
   "source": [
    "with open(\"D:/디지털혁신팀/태블로/admin_TOKEN.pkl\", \"rb\") as f:\n",
    "    token = pk.load(f)\n",
    "tableau_auth = TSC.PersonalAccessTokenAuth(\"admin_TOKEN\", token)\n",
    "server = TSC.Server(\"http://218.153.56.75/\", use_server_version=True)"
   ]
  },
  {
   "cell_type": "markdown",
   "metadata": {},
   "source": [
    "## Projects"
   ]
  },
  {
   "cell_type": "code",
   "execution_count": 48,
   "metadata": {},
   "outputs": [
    {
     "name": "stdout",
     "output_type": "stream",
     "text": [
      "[('기본값', '7ff34228-4f13-11eb-8d94-cbbd9e107787'), ('Tableau 샘플', '07b1c1a3-d2fb-4a12-b4ba-c65b396f593c'), ('HDC현대산업개발', '2a21240d-3f53-4f02-944d-b01647c3dd51'), ('6월 데이터 확인', '44546321-94c8-4746-b0e5-0dfb3fa4ce5a')]\n"
     ]
    }
   ],
   "source": [
    "with server.auth.sign_in(tableau_auth):\n",
    "    all_project_items, pagination_item = server.projects.get(req_options=req_opts)\n",
    "    print([(prj.name, prj.id) for prj in all_project_items])"
   ]
  },
  {
   "cell_type": "markdown",
   "metadata": {},
   "source": [
    "## Workbooks"
   ]
  },
  {
   "cell_type": "code",
   "execution_count": 307,
   "metadata": {},
   "outputs": [],
   "source": [
    "# with server.auth.sign_in(tableau_auth):\n",
    "#     all_wbs, pagination_item = server.workbooks.get()\n",
    "# all_wbs = [(wb.project_name, wb.name) for wb in all_wbs]\n",
    "# all_wbs = pd.DataFrame(all_wbs, columns=[\"prj\", \"wb\"])\n",
    "# all_wbs = all_wbs.sort_values(by=[\"prj\", \"wb\"])"
   ]
  },
  {
   "cell_type": "markdown",
   "metadata": {},
   "source": [
    "## Groups\n",
    "\n",
    "## groups.get(), groups.populate_users()"
   ]
  },
  {
   "cell_type": "code",
   "execution_count": 34,
   "metadata": {},
   "outputs": [],
   "source": [
    "with server.auth.sign_in(tableau_auth):\n",
    "    all_groups, pagination_item = server.groups.get(req_options=req_opts)\n",
    "all_groups = [(group.name, group.id) for group in all_groups]\n",
    "all_groups = pd.DataFrame(all_groups, columns=[\"group\", \"group_id\"])\n",
    "# all_groups = all_groups.sort_values(by=[\"group\", \"group_id\"])\n",
    "# all_groups = all_groups.reset_index(drop=True)"
   ]
  },
  {
   "cell_type": "code",
   "execution_count": 162,
   "metadata": {},
   "outputs": [
    {
     "data": {
      "text/html": [
       "<div>\n",
       "<style scoped>\n",
       "    .dataframe tbody tr th:only-of-type {\n",
       "        vertical-align: middle;\n",
       "    }\n",
       "\n",
       "    .dataframe tbody tr th {\n",
       "        vertical-align: top;\n",
       "    }\n",
       "\n",
       "    .dataframe thead th {\n",
       "        text-align: right;\n",
       "    }\n",
       "</style>\n",
       "<table border=\"1\" class=\"dataframe\">\n",
       "  <thead>\n",
       "    <tr style=\"text-align: right;\">\n",
       "      <th></th>\n",
       "      <th>group</th>\n",
       "      <th>group_id</th>\n",
       "    </tr>\n",
       "  </thead>\n",
       "  <tbody>\n",
       "    <tr>\n",
       "      <th>0</th>\n",
       "      <td>\"HR현황\" 접근 가능 그룹</td>\n",
       "      <td>8bae0a19-c83c-4713-b932-a489754653de</td>\n",
       "    </tr>\n",
       "    <tr>\n",
       "      <th>1</th>\n",
       "      <td>\"본부장 회의\" 접근 가능 그룹</td>\n",
       "      <td>01b579e9-e0b0-458d-b12a-94292171d3a7</td>\n",
       "    </tr>\n",
       "    <tr>\n",
       "      <th>2</th>\n",
       "      <td>\"분양일보\" 접근 가능 그룹</td>\n",
       "      <td>16065e45-21b3-4e1b-80e1-c7c41079adfd</td>\n",
       "    </tr>\n",
       "    <tr>\n",
       "      <th>3</th>\n",
       "      <td>All Users</td>\n",
       "      <td>80307210-4f13-11eb-8d95-5bc411fd9c23</td>\n",
       "    </tr>\n",
       "    <tr>\n",
       "      <th>4</th>\n",
       "      <td>디지털혁신팀</td>\n",
       "      <td>516aa22e-b1ef-47b1-ad64-6e5116622c7f</td>\n",
       "    </tr>\n",
       "  </tbody>\n",
       "</table>\n",
       "</div>"
      ],
      "text/plain": [
       "               group                              group_id\n",
       "0    \"HR현황\" 접근 가능 그룹  8bae0a19-c83c-4713-b932-a489754653de\n",
       "1  \"본부장 회의\" 접근 가능 그룹  01b579e9-e0b0-458d-b12a-94292171d3a7\n",
       "2    \"분양일보\" 접근 가능 그룹  16065e45-21b3-4e1b-80e1-c7c41079adfd\n",
       "3          All Users  80307210-4f13-11eb-8d95-5bc411fd9c23\n",
       "4             디지털혁신팀  516aa22e-b1ef-47b1-ad64-6e5116622c7f"
      ]
     },
     "execution_count": 162,
     "metadata": {},
     "output_type": "execute_result"
    }
   ],
   "source": [
    "all_groups.to_csv(\"D:/디지털혁신팀/태블로/all_groups.csv\", index=False, encoding=\"euc-kr\")\n",
    "all_groups.head()"
   ]
  },
  {
   "cell_type": "code",
   "execution_count": 82,
   "metadata": {},
   "outputs": [],
   "source": [
    "group_user = list()\n",
    "with server.auth.sign_in(tableau_auth):\n",
    "    groups, pagination_item = server.groups.get(req_options=req_opts)\n",
    "    for group in groups[1:]:\n",
    "        pagination_item = server.groups.populate_users(group, req_options=req_opts)\n",
    "        group_user.extend([(group.name,) + empls[user.name] + (user.site_role,) if user.name in empls.keys() else (group.name, None, None, None, user.name, user.site_role) for user in group.users])\n",
    "\n",
    "group_user = pd.DataFrame(group_user, columns=[\"group\", \"hq\", \"dep\", \"job\", \"name\", \"site_role\"])\n",
    "group_user = group_user.sort_values(by=[\"group\", \"hq\", \"dep\", \"job\", \"name\", \"site_role\"])\n",
    "group_user = group_user.reset_index(drop=True)"
   ]
  },
  {
   "cell_type": "code",
   "execution_count": 83,
   "metadata": {},
   "outputs": [
    {
     "data": {
      "text/html": [
       "<div>\n",
       "<style scoped>\n",
       "    .dataframe tbody tr th:only-of-type {\n",
       "        vertical-align: middle;\n",
       "    }\n",
       "\n",
       "    .dataframe tbody tr th {\n",
       "        vertical-align: top;\n",
       "    }\n",
       "\n",
       "    .dataframe thead th {\n",
       "        text-align: right;\n",
       "    }\n",
       "</style>\n",
       "<table border=\"1\" class=\"dataframe\">\n",
       "  <thead>\n",
       "    <tr style=\"text-align: right;\">\n",
       "      <th></th>\n",
       "      <th>group</th>\n",
       "      <th>hq</th>\n",
       "      <th>dep</th>\n",
       "      <th>job</th>\n",
       "      <th>name</th>\n",
       "      <th>site_role</th>\n",
       "    </tr>\n",
       "  </thead>\n",
       "  <tbody>\n",
       "    <tr>\n",
       "      <th>0</th>\n",
       "      <td>HR현황</td>\n",
       "      <td>건설본부</td>\n",
       "      <td>건설기획팀</td>\n",
       "      <td>팀원</td>\n",
       "      <td>심창식</td>\n",
       "      <td>Viewer</td>\n",
       "    </tr>\n",
       "    <tr>\n",
       "      <th>1</th>\n",
       "      <td>HR현황</td>\n",
       "      <td>미래혁신본부</td>\n",
       "      <td>HR혁신팀</td>\n",
       "      <td>팀장</td>\n",
       "      <td>선영욱</td>\n",
       "      <td>Viewer</td>\n",
       "    </tr>\n",
       "    <tr>\n",
       "      <th>2</th>\n",
       "      <td>HR현황</td>\n",
       "      <td>미래혁신본부</td>\n",
       "      <td>디지털플랫폼팀</td>\n",
       "      <td>팀원</td>\n",
       "      <td>박미숙</td>\n",
       "      <td>Viewer</td>\n",
       "    </tr>\n",
       "    <tr>\n",
       "      <th>3</th>\n",
       "      <td>HR현황</td>\n",
       "      <td>미래혁신본부</td>\n",
       "      <td>미래전략팀</td>\n",
       "      <td>서무</td>\n",
       "      <td>김아현</td>\n",
       "      <td>Viewer</td>\n",
       "    </tr>\n",
       "    <tr>\n",
       "      <th>4</th>\n",
       "      <td>공수현황 접근그룹</td>\n",
       "      <td>개발영업본부</td>\n",
       "      <td>견적그룹(개발영업)</td>\n",
       "      <td>그룹장</td>\n",
       "      <td>소문석</td>\n",
       "      <td>Viewer</td>\n",
       "    </tr>\n",
       "  </tbody>\n",
       "</table>\n",
       "</div>"
      ],
      "text/plain": [
       "       group      hq         dep  job name site_role\n",
       "0       HR현황    건설본부       건설기획팀   팀원  심창식    Viewer\n",
       "1       HR현황  미래혁신본부       HR혁신팀   팀장  선영욱    Viewer\n",
       "2       HR현황  미래혁신본부     디지털플랫폼팀   팀원  박미숙    Viewer\n",
       "3       HR현황  미래혁신본부       미래전략팀   서무  김아현    Viewer\n",
       "4  공수현황 접근그룹  개발영업본부  견적그룹(개발영업)  그룹장  소문석    Viewer"
      ]
     },
     "execution_count": 83,
     "metadata": {},
     "output_type": "execute_result"
    }
   ],
   "source": [
    "group_user.to_csv(\"D:/디지털혁신팀/태블로/group_user.csv\", index=False, encoding=\"euc-kr\")\n",
    "group_user.head()"
   ]
  },
  {
   "cell_type": "markdown",
   "metadata": {},
   "source": [
    "### groups.create()"
   ]
  },
  {
   "cell_type": "code",
   "execution_count": 66,
   "metadata": {},
   "outputs": [],
   "source": [
    "try:\n",
    "    with server.auth.sign_in(tableau_auth):\n",
    "        newgroup = TSC.GroupItem(\"마이호미\")\n",
    "        newgroup.minimum_site_role = TSC.UserItem.Roles.Viewer\n",
    "        newgroup = server.groups.create(newgroup)\n",
    "except:\n",
    "    pass"
   ]
  },
  {
   "cell_type": "markdown",
   "metadata": {},
   "source": [
    "### groups.add_user()"
   ]
  },
  {
   "cell_type": "code",
   "execution_count": 76,
   "metadata": {},
   "outputs": [],
   "source": [
    "keyword = \"호미\"\n",
    "num = \"5634\"\n",
    "\n",
    "group_idx = all_groups[all_groups[\"group\"].str.contains(keyword)].index[0]\n",
    "with server.auth.sign_in(tableau_auth):\n",
    "    groups, pagination_item = server.groups.get(req_options=req_opts)\n",
    "    group = groups[group_idx]\n",
    "    \n",
    "    user_idx = all_users[all_users[\"user_name\"] == num].index[0]\n",
    "    users, pagination_item = server.users.get(req_options=req_opts)\n",
    "    user_id = users[user_idx].id\n",
    "    \n",
    "    server.groups.add_user(group, user_id)"
   ]
  },
  {
   "cell_type": "markdown",
   "metadata": {},
   "source": [
    "## Users\n",
    "\n",
    "### users.get(), users.populate_groups()"
   ]
  },
  {
   "cell_type": "code",
   "execution_count": 6,
   "metadata": {},
   "outputs": [],
   "source": [
    "with server.auth.sign_in(tableau_auth):\n",
    "    all_users, pagination_item = server.users.get(req_options=req_opts)\n",
    "all_users = [(user.id, user.name, user.fullname, user.site_role) + empls[user.name] if user.name in empls.keys() else (user.id, user.name, user.fullname, user.site_role, None, None, None, None) for user in all_users]\n",
    "all_users = pd.DataFrame(all_users, columns=[\"user_id\", \"user_name\", \"user_fullname\", \"site_role\", \"hq\", \"dep\", \"job\", \"name\"])\n",
    "# all_users = all_users.sort_values(by=[\"hq\", \"dep\", \"job\", \"name\", \"site_role\"])\n",
    "# all_users = all_users.reset_index(drop=True)"
   ]
  },
  {
   "cell_type": "code",
   "execution_count": 7,
   "metadata": {},
   "outputs": [
    {
     "data": {
      "text/html": [
       "<div>\n",
       "<style scoped>\n",
       "    .dataframe tbody tr th:only-of-type {\n",
       "        vertical-align: middle;\n",
       "    }\n",
       "\n",
       "    .dataframe tbody tr th {\n",
       "        vertical-align: top;\n",
       "    }\n",
       "\n",
       "    .dataframe thead th {\n",
       "        text-align: right;\n",
       "    }\n",
       "</style>\n",
       "<table border=\"1\" class=\"dataframe\">\n",
       "  <thead>\n",
       "    <tr style=\"text-align: right;\">\n",
       "      <th></th>\n",
       "      <th>user_id</th>\n",
       "      <th>user_name</th>\n",
       "      <th>user_fullname</th>\n",
       "      <th>site_role</th>\n",
       "      <th>hq</th>\n",
       "      <th>dep</th>\n",
       "      <th>job</th>\n",
       "      <th>name</th>\n",
       "    </tr>\n",
       "  </thead>\n",
       "  <tbody>\n",
       "    <tr>\n",
       "      <th>0</th>\n",
       "      <td>bdebde0b-b41d-4e9a-a6b7-423ab68bb16b</td>\n",
       "      <td>admin</td>\n",
       "      <td>admin</td>\n",
       "      <td>ServerAdministrator</td>\n",
       "      <td>None</td>\n",
       "      <td>None</td>\n",
       "      <td>None</td>\n",
       "      <td>None</td>\n",
       "    </tr>\n",
       "    <tr>\n",
       "      <th>1</th>\n",
       "      <td>a6e879b8-950e-4b05-9ff6-fe5565da5018</td>\n",
       "      <td>viewer</td>\n",
       "      <td>viewer(디지털플랫폼팀)</td>\n",
       "      <td>Viewer</td>\n",
       "      <td>None</td>\n",
       "      <td>None</td>\n",
       "      <td>None</td>\n",
       "      <td>None</td>\n",
       "    </tr>\n",
       "    <tr>\n",
       "      <th>2</th>\n",
       "      <td>2c2ceaa8-9387-4edb-8ab2-38b17f686304</td>\n",
       "      <td>2912</td>\n",
       "      <td>김동진</td>\n",
       "      <td>Viewer</td>\n",
       "      <td>건설본부</td>\n",
       "      <td>건축PM</td>\n",
       "      <td>건축PM</td>\n",
       "      <td>김동진</td>\n",
       "    </tr>\n",
       "    <tr>\n",
       "      <th>3</th>\n",
       "      <td>c232b3be-3aac-4f4f-83fb-bc8a15dab963</td>\n",
       "      <td>3109</td>\n",
       "      <td>배영선</td>\n",
       "      <td>Viewer</td>\n",
       "      <td>건설본부</td>\n",
       "      <td>건축PM</td>\n",
       "      <td>건축PM</td>\n",
       "      <td>배영선</td>\n",
       "    </tr>\n",
       "    <tr>\n",
       "      <th>4</th>\n",
       "      <td>e17666e4-a736-40a7-badc-865a60ebd7f2</td>\n",
       "      <td>3139</td>\n",
       "      <td>서태철</td>\n",
       "      <td>Viewer</td>\n",
       "      <td>건설본부</td>\n",
       "      <td>광주학동4구역</td>\n",
       "      <td>소장</td>\n",
       "      <td>서태철</td>\n",
       "    </tr>\n",
       "  </tbody>\n",
       "</table>\n",
       "</div>"
      ],
      "text/plain": [
       "                                user_id user_name    user_fullname  \\\n",
       "0  bdebde0b-b41d-4e9a-a6b7-423ab68bb16b     admin            admin   \n",
       "1  a6e879b8-950e-4b05-9ff6-fe5565da5018    viewer  viewer(디지털플랫폼팀)   \n",
       "2  2c2ceaa8-9387-4edb-8ab2-38b17f686304      2912              김동진   \n",
       "3  c232b3be-3aac-4f4f-83fb-bc8a15dab963      3109              배영선   \n",
       "4  e17666e4-a736-40a7-badc-865a60ebd7f2      3139              서태철   \n",
       "\n",
       "             site_role    hq      dep   job  name  \n",
       "0  ServerAdministrator  None     None  None  None  \n",
       "1               Viewer  None     None  None  None  \n",
       "2               Viewer  건설본부     건축PM  건축PM   김동진  \n",
       "3               Viewer  건설본부     건축PM  건축PM   배영선  \n",
       "4               Viewer  건설본부  광주학동4구역    소장   서태철  "
      ]
     },
     "execution_count": 7,
     "metadata": {},
     "output_type": "execute_result"
    }
   ],
   "source": [
    "all_users.to_csv(\"D:/디지털혁신팀/태블로/all_users.csv\", index=False, encoding=\"euc-kr\")\n",
    "all_users.head()"
   ]
  },
  {
   "cell_type": "code",
   "execution_count": 84,
   "metadata": {},
   "outputs": [],
   "source": [
    "user_group = list()\n",
    "with server.auth.sign_in(tableau_auth):\n",
    "    users, pagination_item = server.users.get(req_options=req_opts)\n",
    "    for user in users:\n",
    "        pagination_item = server.users.populate_groups(user, req_options=req_opts)\n",
    "        user_group.extend([empls[user.name] + (user.site_role, group.name) if user.name in empls.keys() else (None, None, None, user.name, user.site_role, group.name) for group in user.groups if group.name != \"All Users\"])\n",
    "        \n",
    "user_group = pd.DataFrame(user_group, columns=[\"hq\", \"dep\", \"job\", \"name\", \"site_role\", \"group\"])\n",
    "# user_group = user_group.sort_values(by=[\"hq\", \"dep\", \"job\", \"name\", \"site_role\", \"group\"])\n",
    "# user_group = user_group.reset_index(drop=True)"
   ]
  },
  {
   "cell_type": "code",
   "execution_count": 87,
   "metadata": {},
   "outputs": [
    {
     "data": {
      "text/html": [
       "<div>\n",
       "<style scoped>\n",
       "    .dataframe tbody tr th:only-of-type {\n",
       "        vertical-align: middle;\n",
       "    }\n",
       "\n",
       "    .dataframe tbody tr th {\n",
       "        vertical-align: top;\n",
       "    }\n",
       "\n",
       "    .dataframe thead th {\n",
       "        text-align: right;\n",
       "    }\n",
       "</style>\n",
       "<table border=\"1\" class=\"dataframe\">\n",
       "  <thead>\n",
       "    <tr style=\"text-align: right;\">\n",
       "      <th></th>\n",
       "      <th>hq</th>\n",
       "      <th>dep</th>\n",
       "      <th>job</th>\n",
       "      <th>name</th>\n",
       "      <th>site_role</th>\n",
       "      <th>group</th>\n",
       "    </tr>\n",
       "  </thead>\n",
       "  <tbody>\n",
       "    <tr>\n",
       "      <th>0</th>\n",
       "      <td>None</td>\n",
       "      <td>None</td>\n",
       "      <td>None</td>\n",
       "      <td>admin</td>\n",
       "      <td>ServerAdministrator</td>\n",
       "      <td>디지털혁신팀</td>\n",
       "    </tr>\n",
       "    <tr>\n",
       "      <th>1</th>\n",
       "      <td>None</td>\n",
       "      <td>None</td>\n",
       "      <td>None</td>\n",
       "      <td>viewer</td>\n",
       "      <td>Viewer</td>\n",
       "      <td>디지털혁신팀</td>\n",
       "    </tr>\n",
       "    <tr>\n",
       "      <th>2</th>\n",
       "      <td>건설본부</td>\n",
       "      <td>건축PM</td>\n",
       "      <td>건축PM</td>\n",
       "      <td>김동진</td>\n",
       "      <td>Viewer</td>\n",
       "      <td>본사팀장/그룹장</td>\n",
       "    </tr>\n",
       "    <tr>\n",
       "      <th>3</th>\n",
       "      <td>건설본부</td>\n",
       "      <td>건축PM</td>\n",
       "      <td>건축PM</td>\n",
       "      <td>배영선</td>\n",
       "      <td>Viewer</td>\n",
       "      <td>본사팀장/그룹장</td>\n",
       "    </tr>\n",
       "    <tr>\n",
       "      <th>4</th>\n",
       "      <td>건설본부</td>\n",
       "      <td>외주구매팀</td>\n",
       "      <td>팀장</td>\n",
       "      <td>정상민</td>\n",
       "      <td>Viewer</td>\n",
       "      <td>본사팀장/그룹장</td>\n",
       "    </tr>\n",
       "    <tr>\n",
       "      <th>...</th>\n",
       "      <td>...</td>\n",
       "      <td>...</td>\n",
       "      <td>...</td>\n",
       "      <td>...</td>\n",
       "      <td>...</td>\n",
       "      <td>...</td>\n",
       "    </tr>\n",
       "    <tr>\n",
       "      <th>122</th>\n",
       "      <td>사장직속</td>\n",
       "      <td>안전경영실</td>\n",
       "      <td>팀원</td>\n",
       "      <td>고유경</td>\n",
       "      <td>ExplorerCanPublish</td>\n",
       "      <td>본부장 회의</td>\n",
       "    </tr>\n",
       "    <tr>\n",
       "      <th>123</th>\n",
       "      <td>개발영업본부</td>\n",
       "      <td>인프라개발팀</td>\n",
       "      <td>도로,철도</td>\n",
       "      <td>박경신</td>\n",
       "      <td>Viewer</td>\n",
       "      <td>본부장 회의</td>\n",
       "    </tr>\n",
       "    <tr>\n",
       "      <th>124</th>\n",
       "      <td>미래혁신본부</td>\n",
       "      <td>디지털플랫폼팀</td>\n",
       "      <td>팀원</td>\n",
       "      <td>배인준</td>\n",
       "      <td>Viewer</td>\n",
       "      <td>마이호미</td>\n",
       "    </tr>\n",
       "    <tr>\n",
       "      <th>125</th>\n",
       "      <td>None</td>\n",
       "      <td>None</td>\n",
       "      <td>None</td>\n",
       "      <td>1101296</td>\n",
       "      <td>Viewer</td>\n",
       "      <td>분양일보</td>\n",
       "    </tr>\n",
       "    <tr>\n",
       "      <th>126</th>\n",
       "      <td>None</td>\n",
       "      <td>None</td>\n",
       "      <td>None</td>\n",
       "      <td>1101296</td>\n",
       "      <td>Viewer</td>\n",
       "      <td>마이호미</td>\n",
       "    </tr>\n",
       "  </tbody>\n",
       "</table>\n",
       "<p>127 rows × 6 columns</p>\n",
       "</div>"
      ],
      "text/plain": [
       "         hq      dep    job     name            site_role     group\n",
       "0      None     None   None    admin  ServerAdministrator    디지털혁신팀\n",
       "1      None     None   None   viewer               Viewer    디지털혁신팀\n",
       "2      건설본부     건축PM   건축PM      김동진               Viewer  본사팀장/그룹장\n",
       "3      건설본부     건축PM   건축PM      배영선               Viewer  본사팀장/그룹장\n",
       "4      건설본부    외주구매팀     팀장      정상민               Viewer  본사팀장/그룹장\n",
       "..      ...      ...    ...      ...                  ...       ...\n",
       "122    사장직속    안전경영실     팀원      고유경   ExplorerCanPublish    본부장 회의\n",
       "123  개발영업본부   인프라개발팀  도로,철도      박경신               Viewer    본부장 회의\n",
       "124  미래혁신본부  디지털플랫폼팀     팀원      배인준               Viewer      마이호미\n",
       "125    None     None   None  1101296               Viewer      분양일보\n",
       "126    None     None   None  1101296               Viewer      마이호미\n",
       "\n",
       "[127 rows x 6 columns]"
      ]
     },
     "execution_count": 87,
     "metadata": {},
     "output_type": "execute_result"
    }
   ],
   "source": [
    "user_group"
   ]
  },
  {
   "cell_type": "code",
   "execution_count": 88,
   "metadata": {},
   "outputs": [
    {
     "data": {
      "text/html": [
       "<div>\n",
       "<style scoped>\n",
       "    .dataframe tbody tr th:only-of-type {\n",
       "        vertical-align: middle;\n",
       "    }\n",
       "\n",
       "    .dataframe tbody tr th {\n",
       "        vertical-align: top;\n",
       "    }\n",
       "\n",
       "    .dataframe thead th {\n",
       "        text-align: right;\n",
       "    }\n",
       "</style>\n",
       "<table border=\"1\" class=\"dataframe\">\n",
       "  <thead>\n",
       "    <tr style=\"text-align: right;\">\n",
       "      <th></th>\n",
       "      <th>hq</th>\n",
       "      <th>dep</th>\n",
       "      <th>job</th>\n",
       "      <th>name</th>\n",
       "      <th>site_role</th>\n",
       "      <th>group</th>\n",
       "    </tr>\n",
       "  </thead>\n",
       "  <tbody>\n",
       "    <tr>\n",
       "      <th>109</th>\n",
       "      <td>미래혁신본부</td>\n",
       "      <td>미래전략팀</td>\n",
       "      <td>서무</td>\n",
       "      <td>김아현</td>\n",
       "      <td>Viewer</td>\n",
       "      <td>HR현황</td>\n",
       "    </tr>\n",
       "    <tr>\n",
       "      <th>110</th>\n",
       "      <td>미래혁신본부</td>\n",
       "      <td>미래전략팀</td>\n",
       "      <td>서무</td>\n",
       "      <td>김아현</td>\n",
       "      <td>Viewer</td>\n",
       "      <td>분양일보</td>\n",
       "    </tr>\n",
       "    <tr>\n",
       "      <th>111</th>\n",
       "      <td>미래혁신본부</td>\n",
       "      <td>미래전략팀</td>\n",
       "      <td>서무</td>\n",
       "      <td>김아현</td>\n",
       "      <td>Viewer</td>\n",
       "      <td>본부장 회의</td>\n",
       "    </tr>\n",
       "  </tbody>\n",
       "</table>\n",
       "</div>"
      ],
      "text/plain": [
       "         hq    dep job name site_role   group\n",
       "109  미래혁신본부  미래전략팀  서무  김아현    Viewer    HR현황\n",
       "110  미래혁신본부  미래전략팀  서무  김아현    Viewer    분양일보\n",
       "111  미래혁신본부  미래전략팀  서무  김아현    Viewer  본부장 회의"
      ]
     },
     "execution_count": 88,
     "metadata": {},
     "output_type": "execute_result"
    }
   ],
   "source": [
    "user_group[user_group[\"name\"] == \"김아현\"]"
   ]
  },
  {
   "cell_type": "code",
   "execution_count": 30,
   "metadata": {},
   "outputs": [
    {
     "data": {
      "text/html": [
       "<div>\n",
       "<style scoped>\n",
       "    .dataframe tbody tr th:only-of-type {\n",
       "        vertical-align: middle;\n",
       "    }\n",
       "\n",
       "    .dataframe tbody tr th {\n",
       "        vertical-align: top;\n",
       "    }\n",
       "\n",
       "    .dataframe thead th {\n",
       "        text-align: right;\n",
       "    }\n",
       "</style>\n",
       "<table border=\"1\" class=\"dataframe\">\n",
       "  <thead>\n",
       "    <tr style=\"text-align: right;\">\n",
       "      <th></th>\n",
       "      <th>hq</th>\n",
       "      <th>dep</th>\n",
       "      <th>job</th>\n",
       "      <th>name</th>\n",
       "      <th>site_role</th>\n",
       "      <th>group</th>\n",
       "    </tr>\n",
       "  </thead>\n",
       "  <tbody>\n",
       "    <tr>\n",
       "      <th>0</th>\n",
       "      <td>개발영업본부</td>\n",
       "      <td>개발부문</td>\n",
       "      <td>부문장</td>\n",
       "      <td>김태수</td>\n",
       "      <td>Viewer</td>\n",
       "      <td>본사팀장/그룹장</td>\n",
       "    </tr>\n",
       "    <tr>\n",
       "      <th>1</th>\n",
       "      <td>개발영업본부</td>\n",
       "      <td>개발영업본부</td>\n",
       "      <td>본부장</td>\n",
       "      <td>박희윤</td>\n",
       "      <td>Viewer</td>\n",
       "      <td>본부장 이상</td>\n",
       "    </tr>\n",
       "    <tr>\n",
       "      <th>2</th>\n",
       "      <td>개발영업본부</td>\n",
       "      <td>견적그룹(개발영업)</td>\n",
       "      <td>그룹장</td>\n",
       "      <td>소문석</td>\n",
       "      <td>Viewer</td>\n",
       "      <td>본사팀장/그룹장</td>\n",
       "    </tr>\n",
       "    <tr>\n",
       "      <th>3</th>\n",
       "      <td>개발영업본부</td>\n",
       "      <td>도시개발1팀</td>\n",
       "      <td>팀원</td>\n",
       "      <td>임유빈</td>\n",
       "      <td>Viewer</td>\n",
       "      <td>\"본부장 회의\" 접근 가능 그룹</td>\n",
       "    </tr>\n",
       "    <tr>\n",
       "      <th>4</th>\n",
       "      <td>개발영업본부</td>\n",
       "      <td>도시개발1팀</td>\n",
       "      <td>팀장</td>\n",
       "      <td>이현우</td>\n",
       "      <td>Viewer</td>\n",
       "      <td>\"분양일보\" 접근 가능 그룹</td>\n",
       "    </tr>\n",
       "  </tbody>\n",
       "</table>\n",
       "</div>"
      ],
      "text/plain": [
       "       hq         dep  job name site_role              group\n",
       "0  개발영업본부        개발부문  부문장  김태수    Viewer           본사팀장/그룹장\n",
       "1  개발영업본부      개발영업본부  본부장  박희윤    Viewer             본부장 이상\n",
       "2  개발영업본부  견적그룹(개발영업)  그룹장  소문석    Viewer           본사팀장/그룹장\n",
       "3  개발영업본부      도시개발1팀   팀원  임유빈    Viewer  \"본부장 회의\" 접근 가능 그룹\n",
       "4  개발영업본부      도시개발1팀   팀장  이현우    Viewer    \"분양일보\" 접근 가능 그룹"
      ]
     },
     "execution_count": 30,
     "metadata": {},
     "output_type": "execute_result"
    }
   ],
   "source": [
    "# user_group.to_csv(\"D:/디지털혁신팀/태블로/user_group.csv\", index=False, encoding=\"euc-kr\")\n",
    "user_group.head()"
   ]
  },
  {
   "cell_type": "markdown",
   "metadata": {},
   "source": [
    "### users.populate_workbooks()"
   ]
  },
  {
   "cell_type": "code",
   "execution_count": 31,
   "metadata": {},
   "outputs": [
    {
     "name": "stdout",
     "output_type": "stream",
     "text": [
      "분양일보_DM 테스트 (2)\n",
      "AS_210324\n",
      "마이호미_210326\n",
      "menu navi test3\n",
      "CS 현황_test\n",
      "분양일보_test_210326\n",
      "진행 현장 실적\n",
      "Test (현장현황)\n",
      "menu navi test2\n",
      "Test (협업플랫폼 사용량)\n",
      "현장 조직도_210319\n",
      "마이호미_210329\n",
      "분양일보_test_월 단위_210329\n",
      "TEST\n",
      "CS 현황_6월 데이터 확인\n",
      "원자재 가격_210202\n",
      "마이호미_210223\n",
      "마이호미_210325\n",
      "분양일보_DM 테스트\n",
      "설비그룹 조직도_210322\n",
      "분양일보_모바일\n",
      "현장 현황test\n",
      "menu navi\n",
      "동호표_210331\n",
      "CS 현황\n",
      "홈 화면_디자인 변경\n",
      "마이호미_210322\n",
      "분양일보_test_210329\n",
      "협업플랫폼 사용량\n",
      "본부장회의자료_test\n",
      "진행 현장 실적\n",
      "본부장회의자료\n",
      "마이호미\n"
     ]
    }
   ],
   "source": [
    "with server.auth.sign_in(tableau_auth):\n",
    "    user = server.users.get_by_id(\"515c7d10-953c-4bfc-af9a-e87cf34ccb85\")\n",
    "    page_n = server.users.populate_workbooks(user)\n",
    "    for workbook in user.workbooks :\n",
    "        print(workbook.name)"
   ]
  },
  {
   "cell_type": "markdown",
   "metadata": {},
   "source": [
    "### users.add()"
   ]
  },
  {
   "cell_type": "code",
   "execution_count": 115,
   "metadata": {},
   "outputs": [],
   "source": [
    "with server.auth.sign_in(tableau_auth):\n",
    "    name = \"1101296\"\n",
    "    site_role = \"Viewer\"\n",
    "    new_user = TSC.UserItem(name, site_role)\n",
    "    \n",
    "    new_user = server.users.add(new_user)   \n",
    "    new_user.fullname = \"황승환(디지털플랫폼팀)\"\n",
    "    new_user.email = \"hwangsh@hdc-dvp.com\"\n",
    "    \n",
    "    new_user = server.users.update(new_user, password=f\"hdc{name}\")"
   ]
  },
  {
   "cell_type": "markdown",
   "metadata": {},
   "source": [
    "### user.update()"
   ]
  },
  {
   "cell_type": "code",
   "execution_count": 16,
   "metadata": {},
   "outputs": [],
   "source": [
    "with server.auth.sign_in(tableau_auth):\n",
    "    user = server.users.get_by_id(\"a6e879b8-950e-4b05-9ff6-fe5565da5018\")\n",
    "    user.fullname = \"viewer(디지털플랫폼팀)\"\n",
    "    \n",
    "    user_rev = server.users.update(user)"
   ]
  },
  {
   "cell_type": "markdown",
   "metadata": {},
   "source": [
    "### user.remove()"
   ]
  },
  {
   "cell_type": "code",
   "execution_count": 114,
   "metadata": {},
   "outputs": [],
   "source": [
    "with server.auth.sign_in(tableau_auth):\n",
    "    server.users.remove(\"7103bcd9-9df5-4b0c-9e63-50698dd74392\")"
   ]
  },
  {
   "cell_type": "markdown",
   "metadata": {},
   "source": [
    "## Upload a Workbook"
   ]
  },
  {
   "cell_type": "code",
   "execution_count": 50,
   "metadata": {},
   "outputs": [],
   "source": [
    "# filepath = \"D:/디지털혁신팀/태블로/마이호미/마이호미_FINAL/마이호미.twbx\"\n",
    "# with server.auth.sign_in(tableau_auth):\n",
    "#     wb = TSC.WorkbookItem(name=\"마이호미\", project_id=\"44546321-94c8-4746-b0e5-0dfb3fa4ce5a\")\n",
    "#     wb = server.workbooks.publish(wb, filepath, \"Overwrite\")"
   ]
  },
  {
   "cell_type": "markdown",
   "metadata": {},
   "source": [
    "### Sign Out"
   ]
  },
  {
   "cell_type": "code",
   "execution_count": 33,
   "metadata": {
    "scrolled": true
   },
   "outputs": [],
   "source": [
    "# server.auth.sign_out()"
   ]
  }
 ],
 "metadata": {
  "kernelspec": {
   "display_name": "Python 3",
   "language": "python",
   "name": "python3"
  },
  "language_info": {
   "codemirror_mode": {
    "name": "ipython",
    "version": 3
   },
   "file_extension": ".py",
   "mimetype": "text/x-python",
   "name": "python",
   "nbconvert_exporter": "python",
   "pygments_lexer": "ipython3",
   "version": "3.7.7"
  }
 },
 "nbformat": 4,
 "nbformat_minor": 4
}
