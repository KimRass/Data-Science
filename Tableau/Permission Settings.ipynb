{
 "cells": [
  {
   "cell_type": "markdown",
   "metadata": {},
   "source": [
    "- Reference: https://tableau.github.io/server-client-python/docs/api-ref\n",
    "- \"HDC현대산업개발\": \"2a21240d-3f53-4f02-944d-b01647c3dd51\""
   ]
  },
  {
   "cell_type": "code",
   "execution_count": 1,
   "metadata": {
    "ExecuteTime": {
     "end_time": "2021-11-01T08:52:49.585800Z",
     "start_time": "2021-11-01T08:52:47.577978Z"
    }
   },
   "outputs": [],
   "source": [
    "import tableauserverclient as TSC\n",
    "import pandas as pd\n",
    "import numpy as np\n",
    "import pymssql\n",
    "from dateutil.relativedelta import relativedelta\n",
    "\n",
    "f = open(\"D:/Github/Work/Tableau/datamart_password.txt\", \"r\")\n",
    "# f = open(\"C:/Work/Tableau/datamart_password.txt\", \"r\")\n",
    "password = f.readline()\n",
    "\n",
    "pd.set_option(\"display.max_columns\", None)"
   ]
  },
  {
   "cell_type": "code",
   "execution_count": 2,
   "metadata": {
    "ExecuteTime": {
     "end_time": "2021-11-01T08:52:49.591024Z",
     "start_time": "2021-11-01T08:52:49.585800Z"
    }
   },
   "outputs": [],
   "source": [
    "# conn = pymssql.connect(server=\"133.186.215.165\", database=\"HDCMART\", user=\"hdcmart_user\", password=password, charset=\"UTF8\")\n",
    "# query = \"\"\"\n",
    "# SELECT id_sabun, ds_hname, ds_order1, ds_order2, ds_dept, ds_position, ds_emptype, dt_order, dt_orderend \n",
    "# FROM DATAMART_DAAV_ORDER\n",
    "# WHERE cd_corp = 'A101' AND dt_order > '20190101'\n",
    "# \"\"\"\n",
    "# hist = pd.read_sql(query, conn)\n",
    "# hist.columns = hist.columns.str.lower()\n",
    "# for col in hist.columns:\n",
    "#     if pd.api.types.is_string_dtype(hist[col]):\n",
    "#         hist[col] = hist[col].str.encode(\"latin-1\").str.decode(\"euc-kr\")"
   ]
  },
  {
   "cell_type": "code",
   "execution_count": 3,
   "metadata": {
    "ExecuteTime": {
     "end_time": "2021-11-01T08:52:50.286845Z",
     "start_time": "2021-11-01T08:52:49.593019Z"
    }
   },
   "outputs": [],
   "source": [
    "hr = pd.read_excel(\"D:/Github/Work/Tableau/직원 명단_조직 기준_210930.xlsx\")\n",
    "hr[\"성명\"] = hr[\"성명\"].apply(lambda x:x.replace(\" \", \"\"))\n",
    "hr = hr[[\"사번\", \"EMAIL\", \"본부명(조직단위기준)\", \"조직명\", \"하위그룹\", \"직무\", \"직급\", \"성명\"]]\n",
    "hr = hr.rename({\"사번\":\"num\", \"EMAIL\":\"email\", \"본부명(조직단위기준)\":\"hq\", \"조직명\":\"dep\", \"하위그룹\":\"sub\", \"직무\":\"job\", \"직급\":\"rank\", \"성명\":\"name\"}, axis=1)\n",
    "hr = hr.sort_values(by=[\"job\", \"rank\", \"hq\", \"dep\"], axis=0)\n",
    "hr[\"num\"] = hr[\"num\"].map(str)\n",
    "\n",
    "hr.loc[hr[\"num\"]==\"1\", \"num\"] = \"0001\"\n",
    "\n",
    "empls = {str(row[\"num\"]):(row[\"hq\"], row[\"dep\"], row[\"job\"], row[\"name\"]) for _, row in hr.iterrows()}\n",
    "\n",
    "req_opts = TSC.RequestOptions(pagesize=1000)"
   ]
  },
  {
   "cell_type": "markdown",
   "metadata": {},
   "source": [
    "# SIgn In"
   ]
  },
  {
   "cell_type": "code",
   "execution_count": 4,
   "metadata": {
    "ExecuteTime": {
     "end_time": "2021-11-01T08:52:50.487927Z",
     "start_time": "2021-11-01T08:52:50.286845Z"
    }
   },
   "outputs": [],
   "source": [
    "tableau_auth = TSC.TableauAuth(\"6363\", \"6363!hdc\")\n",
    "server = TSC.Server(\"https://datalab.hdc-dvp.com\", use_server_version=True)"
   ]
  },
  {
   "cell_type": "markdown",
   "metadata": {},
   "source": [
    "# Create Fundamental Datasets"
   ]
  },
  {
   "cell_type": "code",
   "execution_count": 109,
   "metadata": {
    "ExecuteTime": {
     "end_time": "2021-10-28T07:02:53.256427Z",
     "start_time": "2021-10-28T07:02:44.704333Z"
    },
    "scrolled": true
   },
   "outputs": [
    {
     "name": "stdout",
     "output_type": "stream",
     "text": [
      "All completed!\n"
     ]
    },
    {
     "name": "stderr",
     "output_type": "stream",
     "text": [
      "C:\\Users\\00006363\\Anaconda3\\envs\\tf2.3\\lib\\site-packages\\ipykernel_launcher.py:53: SettingWithCopyWarning: \n",
      "A value is trying to be set on a copy of a slice from a DataFrame.\n",
      "Try using .loc[row_indexer,col_indexer] = value instead\n",
      "\n",
      "See the caveats in the documentation: https://pandas.pydata.org/pandas-docs/stable/user_guide/indexing.html#returning-a-view-versus-a-copy\n"
     ]
    }
   ],
   "source": [
    "# # user_group.csv\n",
    "# user_group = list()\n",
    "# with server.auth.sign_in(tableau_auth):\n",
    "#     users, pagination_item = server.users.get(req_options=req_opts)\n",
    "#     for user in users:\n",
    "#         pagination_item = server.users.populate_groups(user, req_options=req_opts)\n",
    "#         user_group.extend([(user.id, user.name, user.fullname, user.site_role) + empls[user.name] + (group.name,) if user.name in empls.keys() else (user.id, user.name, user.fullname, user.site_role, None, None, None, None, group.name) for group in user.groups if group.name != \"All Users\"])\n",
    "# user_group = pd.DataFrame(user_group, columns=[\"user_id\", \"user_name\", \"user_fnm\", \"site_role\", \"hq\", \"dep\", \"job\", \"name\", \"group\"])\n",
    "\n",
    "# user_group.to_csv(\"D:/Github/Work/Tableau/user_group.csv\", index=False, encoding=\"euc-kr\")\n",
    "\n",
    "# # group_user.csv\n",
    "# group_user = list()\n",
    "# with server.auth.sign_in(tableau_auth):\n",
    "#     groups, pagination_item = server.groups.get(req_options=req_opts)\n",
    "#     for group in groups[1:]:\n",
    "#         pagination_item = server.groups.populate_users(group, req_options=req_opts)\n",
    "#         group_user.extend([(group.name,) + empls[user.name] + (user.site_role,) if user.name in empls.keys() else (group.name, None, None, None, user.name, user.site_role) for user in group.users])\n",
    "\n",
    "# group_user = pd.DataFrame(group_user, columns=[\"group\", \"hq\", \"dep\", \"job\", \"name\", \"site_role\"])\n",
    "\n",
    "# group_user.to_csv(\"D:/Github/Work/Tableau/group_user.csv\", index=False, encoding=\"euc-kr\")\n",
    "\n",
    "# # user_workbook\n",
    "# user_wb = list()\n",
    "# with server.auth.sign_in(tableau_auth):\n",
    "#     users, pagination_item = server.users.get(req_options=req_opts)\n",
    "#     for user in users:\n",
    "#         pagination_item = server.users.populate_workbooks(user, req_options=req_opts)\n",
    "#         user_wb.extend([(user.id, user.name, user.fullname, user.site_role) + empls[user.name] + (wb.name,) if user.name in empls.keys() else (user.id, user.name, user.fullname, user.site_role, None, None, None, None, wb.name) for wb in user.workbooks if wb.project_name==\"HDC현대산업개발\"])\n",
    "# user_wb = pd.DataFrame(user_wb, columns=[\"user_id\", \"user_name\", \"user_fnm\", \"site_role\", \"hq\", \"dep\", \"job\", \"name\", \"wb\"])\n",
    "\n",
    "# user_wb.to_csv(\"D:/Github/Work/Tableau/user_wb.csv\", index=False, encoding=\"euc-kr\")\n",
    "\n",
    "# # have_account\n",
    "# have_account = hr[[\"num\", \"hq\", \"dep\", \"name\", \"sub\", \"job\", \"rank\", \"email\"]]\n",
    "# have_account[\"have\"] = have_account[\"num\"].apply(lambda x:True if str(x) in all_users[\"user_name\"].tolist() else False)\n",
    "# have_account.to_csv(\"D:/Github/Work/Tableau/have_account.csv\", index=False, encoding=\"euc-kr\")\n",
    "\n",
    "# print(\"All completed!\")"
   ]
  },
  {
   "cell_type": "markdown",
   "metadata": {},
   "source": [
    "# Create Users"
   ]
  },
  {
   "cell_type": "code",
   "execution_count": 7,
   "metadata": {
    "ExecuteTime": {
     "end_time": "2021-11-01T08:53:18.525221Z",
     "start_time": "2021-11-01T08:53:18.513253Z"
    }
   },
   "outputs": [
    {
     "data": {
      "text/html": [
       "<div>\n",
       "<style scoped>\n",
       "    .dataframe tbody tr th:only-of-type {\n",
       "        vertical-align: middle;\n",
       "    }\n",
       "\n",
       "    .dataframe tbody tr th {\n",
       "        vertical-align: top;\n",
       "    }\n",
       "\n",
       "    .dataframe thead th {\n",
       "        text-align: right;\n",
       "    }\n",
       "</style>\n",
       "<table border=\"1\" class=\"dataframe\">\n",
       "  <thead>\n",
       "    <tr style=\"text-align: right;\">\n",
       "      <th></th>\n",
       "      <th>user_id</th>\n",
       "      <th>user_name</th>\n",
       "      <th>user_fnm</th>\n",
       "      <th>site_role</th>\n",
       "      <th>hq</th>\n",
       "      <th>dep</th>\n",
       "      <th>job</th>\n",
       "      <th>name</th>\n",
       "    </tr>\n",
       "  </thead>\n",
       "  <tbody>\n",
       "    <tr>\n",
       "      <th>2</th>\n",
       "      <td>63721ecb-87f7-4565-83a2-94a12c583fd3</td>\n",
       "      <td>5947</td>\n",
       "      <td>하지선(디지털플랫폼팀)</td>\n",
       "      <td>ServerAdministrator</td>\n",
       "      <td>미래혁신본부</td>\n",
       "      <td>디지털플랫폼팀</td>\n",
       "      <td>팀원</td>\n",
       "      <td>하지선</td>\n",
       "    </tr>\n",
       "  </tbody>\n",
       "</table>\n",
       "</div>"
      ],
      "text/plain": [
       "                                user_id user_name      user_fnm  \\\n",
       "2  63721ecb-87f7-4565-83a2-94a12c583fd3      5947  하지선(디지털플랫폼팀)   \n",
       "\n",
       "             site_role      hq      dep job name  \n",
       "2  ServerAdministrator  미래혁신본부  디지털플랫폼팀  팀원  하지선  "
      ]
     },
     "execution_count": 7,
     "metadata": {},
     "output_type": "execute_result"
    }
   ],
   "source": [
    "all_users[all_users[\"user_name\"]==\"5947\"]"
   ]
  },
  {
   "cell_type": "code",
   "execution_count": 5,
   "metadata": {
    "ExecuteTime": {
     "end_time": "2021-10-29T00:57:02.179930Z",
     "start_time": "2021-10-29T00:56:58.782034Z"
    }
   },
   "outputs": [
    {
     "name": "stdout",
     "output_type": "stream",
     "text": [
      "All Completed!\n"
     ]
    }
   ],
   "source": [
    "users_to_create = hr[(hr[\"job\"]==\"회장\") | (hr[\"job\"]==\"부회장\") | (hr[\"job\"]==\"대표이사사장\") | (hr[\"job\"]==\"본부장\") | ((hr[\"sub\"] != \"정보기술외주\") & (hr[\"job\"]==\"팀장\")) | (hr[\"job\"]==\"실장\") | (hr[\"job\"]==\"그룹장\") | (hr[\"job\"]==\"부문장\") | (hr[\"job\"]==\"단장\") | (hr[\"job\"]==\"리더\") | (hr[\"job\"]==\"PM\") | (hr[\"job\"]==\"건축PM\") | (hr[\"job\"]==\"TFT팀장\") | (hr[\"job\"]==\"소장\") | (hr[\"num\"].isin([\"4100435\", \"5720\", \"5704\", \"5707\", \"6084\", \"6161\", \"4001341\", \"4001360\", \"4001386\", \"5934\", \"4001380\", \"6119\", \"5218\", \"6110\", \"4632\", \"5308\", \"5104\", \"5882\", \"5892\", \"6168\", \"6335\", \"6353\", \"6284\", \"6337\", \"6281\", \"6427\", \"6403\", \"1101291\", \"6012\", \"5653\", \"6032\", \"6294\", \"6111\", \"5555\", \"5653\", \"5835\", \"5898\", \"6331\", \"6119\", \"6262\", \"6283\", \"4100222\"]))]\n",
    "\n",
    "with server.auth.sign_in(tableau_auth):\n",
    "    for _, row in users_to_create.iterrows():\n",
    "        user = TSC.UserItem(row[\"num\"], \"Viewer\")\n",
    "        try:\n",
    "            user = server.users.add(user)\n",
    "            if row[\"job\"] in [\"회장\", \"부회장\", \"대표이사사장\", \"본부장\", \"팀장\", \"실장\", \"그룹장\", \"부문장\", \"단장\", \"리더\", \"PM\", \"건축PM\", \"소장\", \"원가관리자\"]:\n",
    "                user.fullname = f\"{row['name']}({row['job']})\"\n",
    "            else:\n",
    "                user.fullname = f\"{row['name']}({row['dep']})\"\n",
    "            user.email = row[\"email\"]\n",
    "            user = server.users.update(user, password=f\"secretpassword\")\n",
    "        except:\n",
    "            continue\n",
    "            \n",
    "# all_users.csv\n",
    "with server.auth.sign_in(tableau_auth):\n",
    "    all_users, pagination_item = server.users.get(req_options=req_opts)\n",
    "all_users = [(user.id, user.name, user.fullname, user.site_role) + empls[user.name] if user.name in empls.keys() else (user.id, user.name, user.fullname, user.site_role, None, None, None, None) for user in all_users]\n",
    "all_users = pd.DataFrame(all_users, columns=[\"user_id\", \"user_name\", \"user_fnm\", \"site_role\", \"hq\", \"dep\", \"job\", \"name\"])\n",
    "\n",
    "all_users.to_csv(\"D:/Github/Work/Tableau/all_users.csv\", index=False, encoding=\"euc-kr\")\n",
    "            \n",
    "print(\"All Completed!\")"
   ]
  },
  {
   "cell_type": "markdown",
   "metadata": {},
   "source": [
    "# Add Users to Groups"
   ]
  },
  {
   "cell_type": "code",
   "execution_count": 6,
   "metadata": {
    "ExecuteTime": {
     "end_time": "2021-10-29T04:20:15.562006Z",
     "start_time": "2021-10-29T04:20:10.669075Z"
    }
   },
   "outputs": [
    {
     "name": "stdout",
     "output_type": "stream",
     "text": [
      "All completed!\n"
     ]
    }
   ],
   "source": [
    "# all_groups.csv\n",
    "with server.auth.sign_in(tableau_auth):\n",
    "    all_groups, pagination_item = server.groups.get(req_options=req_opts)\n",
    "all_groups = [(group.name, group.id) for group in all_groups]\n",
    "all_groups = pd.DataFrame(all_groups, columns=[\"group\", \"group_id\"])\n",
    "\n",
    "all_groups.to_csv(\"D:/Github/Work/Tableau/all_groups.csv\", index=False, encoding=\"euc-kr\")\n",
    "\n",
    "# 회장/부회장/대표이사사장/본부장\n",
    "users_to_alloc = hr[(hr[\"job\"]==\"회장\") | (hr[\"job\"]==\"부회장\") | (hr[\"job\"]==\"대표이사사장\") | (hr[\"job\"]==\"본부장\") |((hr[\"job\"]==\"팀장\") & (hr[\"dep\"]==\"디지털플랫폼팀\")) | (hr[\"num\"].isin([\"6032\", \"6294\", \"6119\", \"6111\", \"6403\", \"1101291\", \"5634\"]))]\n",
    "tar_grp = \"f827e0fe-ff32-4443-9c40-701c94a13ba1\"\n",
    "\n",
    "with server.auth.sign_in(tableau_auth):\n",
    "    groups, pagination_item = server.groups.get(req_options=req_opts)\n",
    "    tar_grp = [i for i in groups if i.id == tar_grp][0]\n",
    "    for _, row in users_to_alloc.iterrows():\n",
    "        user_id = all_users.loc[all_users[\"user_name\"]==row[\"num\"], \"user_id\"].tolist()[0]\n",
    "        try:\n",
    "            server.groups.add_user(tar_grp, user_id)\n",
    "        except:\n",
    "            continue\n",
    "\n",
    "# 팀장/실장/그룹장/부문장/단장/리더/PM/건축PM\n",
    "users_to_alloc = hr[((hr[\"sub\"] != \"정보기술외주\") & (hr[\"job\"]==\"팀장\")) | (hr[\"job\"]==\"실장\") | (hr[\"job\"]==\"그룹장\") | (hr[\"job\"]==\"부문장\") | (hr[\"job\"]==\"단장\") | (hr[\"job\"]==\"리더\") | (hr[\"job\"]==\"PM\") | (hr[\"job\"]==\"건축PM\") | (hr[\"job\"]==\"TFT팀장\")]\n",
    "tar_grp = \"39dc2d08-d291-4534-97d5-b1a6b3b6f67c\"\n",
    "\n",
    "with server.auth.sign_in(tableau_auth):\n",
    "    groups, pagination_item = server.groups.get(req_options=req_opts)\n",
    "    tar_grp = [i for i in groups if i.id == tar_grp][0]\n",
    "    for _, row in users_to_alloc.iterrows():\n",
    "        user_id = all_users.loc[all_users[\"user_name\"]==row[\"num\"], \"user_id\"].tolist()[0]\n",
    "        try:\n",
    "            server.groups.add_user(tar_grp, user_id)\n",
    "        except:\n",
    "            continue\n",
    "        \n",
    "# 소장\n",
    "users_to_alloc = hr[(hr[\"job\"]==\"소장\")]\n",
    "tar_grp = \"05fa4bd0-e1df-4971-bb89-4e39f24782d7\"\n",
    "\n",
    "with server.auth.sign_in(tableau_auth):\n",
    "    groups, pagination_item = server.groups.get(req_options=req_opts)\n",
    "    tar_grp = [i for i in groups if i.id == tar_grp][0]\n",
    "    for _, row in users_to_alloc.iterrows():\n",
    "        user_id = all_users.loc[all_users[\"user_name\"]==row[\"num\"], \"user_id\"].tolist()[0]\n",
    "        try:\n",
    "            server.groups.add_user(tar_grp, user_id)\n",
    "        except:\n",
    "            continue\n",
    "            \n",
    "\n",
    "# 본부장 회의\n",
    "users_to_alloc = hr[(hr[\"num\"].isin([\"6427\", \"6168\", \"6335\", \"5704\", \"5720\", \"5882\", \"4001380\", \"4100435\", \"6281\", \"4001341\", \"4001360\", \"4001386\", \"5653\", \"6012\"]))]\n",
    "tar_grp = \"0ef096dd-2c99-4473-b80b-855d1c0b29e1\"\n",
    "\n",
    "with server.auth.sign_in(tableau_auth):\n",
    "    groups, pagination_item = server.groups.get(req_options=req_opts)\n",
    "    tar_grp = [i for i in groups if i.id == tar_grp][0]\n",
    "    for _, row in users_to_alloc.iterrows():\n",
    "        user_id = all_users.loc[all_users[\"user_name\"]==row[\"num\"], \"user_id\"].tolist()[0]\n",
    "        try:\n",
    "            server.groups.add_user(tar_grp, user_id)\n",
    "        except:\n",
    "            continue\n",
    "            \n",
    "# 경영 현황 일반 사용자\n",
    "tar_grp = \"91d8104c-e669-4ea2-a5fa-27b6be938858\"\n",
    "\n",
    "# HR 현황 일반 사용자\n",
    "users_to_alloc = hr[(hr[\"num\"].isin([\"6119\", \"5555\", \"5653\", \"5835\", \"5898\", \"6331\", \"6119\", \"6262\", \"6283\", \"4100222\"]))]\n",
    "tar_grp = \"1ac1f9c5-d4b9-47d9-8c40-618df8f87f6b\"\n",
    "\n",
    "with server.auth.sign_in(tableau_auth):\n",
    "    groups, pagination_item = server.groups.get(req_options=req_opts)\n",
    "    tar_grp = [i for i in groups if i.id == tar_grp][0]\n",
    "    for _, row in users_to_alloc.iterrows():\n",
    "        user_id = all_users.loc[all_users[\"user_name\"]==row[\"num\"], \"user_id\"].tolist()[0]\n",
    "        try:\n",
    "            server.groups.add_user(tar_grp, user_id)\n",
    "        except:\n",
    "            continue\n",
    "            \n",
    "# 영업 현황 일반 사용자\n",
    "tar_grp = \"0715f81d-9385-4fc8-8c2a-76f8b9481dac\"\n",
    "\n",
    "# 현장 현황 일반 사용자\n",
    "users_to_alloc = hr[(hr[\"num\"].isin([\"5947\", \"6353\"]))]\n",
    "tar_grp = \"fcace1dd-cfa8-4f64-8b20-803c739e1e3c\"\n",
    "\n",
    "with server.auth.sign_in(tableau_auth):\n",
    "    groups, pagination_item = server.groups.get(req_options=req_opts)\n",
    "    tar_grp = [i for i in groups if i.id == tar_grp][0]\n",
    "    for _, row in users_to_alloc.iterrows():\n",
    "        user_id = all_users.loc[all_users[\"user_name\"]==row[\"num\"], \"user_id\"].tolist()[0]\n",
    "        try:\n",
    "            server.groups.add_user(tar_grp, user_id)\n",
    "        except:\n",
    "            continue\n",
    "\n",
    "# 분양 상세 현황 일반 사용자\n",
    "users_to_alloc = hr[(hr[\"num\"].isin([\"4001380\", \"5218\", \"6337\", \"4632\"]))]\n",
    "tar_grp = \"3babc0fe-dbbb-403c-9577-27fe942bcf38\"\n",
    "\n",
    "with server.auth.sign_in(tableau_auth):\n",
    "    groups, pagination_item = server.groups.get(req_options=req_opts)\n",
    "    tar_grp = [i for i in groups if i.id == tar_grp][0]\n",
    "    for _, row in users_to_alloc.iterrows():\n",
    "        user_id = all_users.loc[all_users[\"user_name\"]==row[\"num\"], \"user_id\"].tolist()[0]\n",
    "        try:\n",
    "            server.groups.add_user(tar_grp, user_id)\n",
    "        except:\n",
    "            continue\n",
    "            \n",
    "# 관리자\n",
    "users_to_alloc = hr[(hr[\"num\"].isin([\"6363\", \"5899\", \"5947\"]))]\n",
    "tar_grp = \"6e2fc4f0-46f2-4114-8b25-341b38af9f7d\"\n",
    "\n",
    "with server.auth.sign_in(tableau_auth):\n",
    "    groups, pagination_item = server.groups.get(req_options=req_opts)\n",
    "    tar_grp = [i for i in groups if i.id == tar_grp][0]\n",
    "    for _, row in users_to_alloc.iterrows():\n",
    "        user_id = all_users.loc[all_users[\"user_name\"]==row[\"num\"], \"user_id\"].tolist()[0]\n",
    "        try:\n",
    "            server.groups.add_user(tar_grp, user_id)\n",
    "        except:\n",
    "            continue\n",
    "            \n",
    "print(\"All completed!\")"
   ]
  },
  {
   "cell_type": "code",
   "execution_count": 20,
   "metadata": {
    "ExecuteTime": {
     "end_time": "2021-08-18T01:54:34.946941Z",
     "start_time": "2021-08-18T01:54:34.942973Z"
    }
   },
   "outputs": [],
   "source": [
    "# # user_workbook\n",
    "# with server.auth.sign_in(tableau_auth):\n",
    "#     user = server.users.get_by_id(\"b71d75c3-a34c-4dc5-a92b-de46dc681212\")\n",
    "#     server.users.populate_workbooks(user)\n",
    "#     for workbook in user.workbooks:\n",
    "#         if workbook.project_name==\"HDC현대산업개발\":\n",
    "#             print(workbook.name)"
   ]
  },
  {
   "cell_type": "markdown",
   "metadata": {},
   "source": [
    "# Modify User Information"
   ]
  },
  {
   "cell_type": "code",
   "execution_count": 8,
   "metadata": {
    "ExecuteTime": {
     "end_time": "2021-11-01T08:54:58.700617Z",
     "start_time": "2021-11-01T08:54:58.273726Z"
    }
   },
   "outputs": [
    {
     "name": "stdout",
     "output_type": "stream",
     "text": [
      "All Completed!\n"
     ]
    }
   ],
   "source": [
    "with server.auth.sign_in(tableau_auth):\n",
    "    user = server.users.get_by_id(\"63721ecb-87f7-4565-83a2-94a12c583fd3\")\n",
    "#     user.fullname = \"최혁(팀장)\"\n",
    "    user = server.users.update(user, password=\"secretpassword\")\n",
    "print(\"All Completed!\")"
   ]
  },
  {
   "cell_type": "markdown",
   "metadata": {},
   "source": [
    "# Remove Users"
   ]
  },
  {
   "cell_type": "code",
   "execution_count": 74,
   "metadata": {
    "ExecuteTime": {
     "end_time": "2021-09-14T06:10:54.645023Z",
     "start_time": "2021-09-14T06:10:54.370753Z"
    }
   },
   "outputs": [
    {
     "name": "stdout",
     "output_type": "stream",
     "text": [
      "Completed!\n"
     ]
    }
   ],
   "source": [
    "user_id = \"c63d33fe-e955-4765-94d4-f83f2001b1c0\"\n",
    "with server.auth.sign_in(tableau_auth):\n",
    "    server.users.remove(user_id)\n",
    "print(\"Completed!\")"
   ]
  }
 ],
 "metadata": {
  "hide_input": false,
  "kernelspec": {
   "display_name": "Python 3",
   "language": "python",
   "name": "python3"
  },
  "language_info": {
   "codemirror_mode": {
    "name": "ipython",
    "version": 3
   },
   "file_extension": ".py",
   "mimetype": "text/x-python",
   "name": "python",
   "nbconvert_exporter": "python",
   "pygments_lexer": "ipython3",
   "version": "3.7.7"
  },
  "toc": {
   "base_numbering": 1,
   "nav_menu": {},
   "number_sections": true,
   "sideBar": true,
   "skip_h1_title": false,
   "title_cell": "Table of Contents",
   "title_sidebar": "Contents",
   "toc_cell": false,
   "toc_position": {},
   "toc_section_display": true,
   "toc_window_display": false
  },
  "varInspector": {
   "cols": {
    "lenName": 16,
    "lenType": 16,
    "lenVar": 40
   },
   "kernels_config": {
    "python": {
     "delete_cmd_postfix": "",
     "delete_cmd_prefix": "del ",
     "library": "var_list.py",
     "varRefreshCmd": "print(var_dic_list())"
    },
    "r": {
     "delete_cmd_postfix": ") ",
     "delete_cmd_prefix": "rm(",
     "library": "var_list.r",
     "varRefreshCmd": "cat(var_dic_list()) "
    }
   },
   "types_to_exclude": [
    "module",
    "function",
    "builtin_function_or_method",
    "instance",
    "_Feature"
   ],
   "window_display": false
  }
 },
 "nbformat": 4,
 "nbformat_minor": 4
}
