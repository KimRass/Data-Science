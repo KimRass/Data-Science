{
 "cells": [
  {
   "cell_type": "markdown",
   "metadata": {},
   "source": [
    "- Reference: https://tableau.github.io/server-client-python/docs/api-ref\n",
    "- \"HDC현대산업개발\": \"2a21240d-3f53-4f02-944d-b01647c3dd51\""
   ]
  },
  {
   "cell_type": "code",
   "execution_count": 1,
   "metadata": {
    "ExecuteTime": {
     "end_time": "2021-10-25T06:03:32.266037Z",
     "start_time": "2021-10-25T06:03:30.342186Z"
    }
   },
   "outputs": [],
   "source": [
    "import tableauserverclient as TSC\n",
    "import pandas as pd\n",
    "import numpy as np\n",
    "import pymssql\n",
    "from dateutil.relativedelta import relativedelta\n",
    "\n",
    "f = open(\"D:/Github/Work/Tableau/datamart_password.txt\", \"r\")\n",
    "# f = open(\"C:/Work/Tableau/datamart_password.txt\", \"r\")\n",
    "password = f.readline()\n",
    "\n",
    "pd.set_option(\"display.max_columns\", None)"
   ]
  },
  {
   "cell_type": "code",
   "execution_count": 43,
   "metadata": {
    "ExecuteTime": {
     "end_time": "2021-10-22T06:09:19.183132Z",
     "start_time": "2021-10-22T06:09:14.662214Z"
    }
   },
   "outputs": [],
   "source": [
    "conn = pymssql.connect(server=\"133.186.215.165\", database=\"HDCMART\", user=\"hdcmart_user\", password=password, charset=\"UTF8\")\n",
    "query = \"\"\"\n",
    "SELECT id_sabun, ds_hname, ds_order1, ds_order2, ds_dept, ds_position, ds_emptype, dt_order, dt_orderend \n",
    "FROM DATAMART_DAAV_ORDER\n",
    "WHERE cd_corp = 'A101' AND dt_order > '20190101'\n",
    "\"\"\"\n",
    "hist = pd.read_sql(query, conn)\n",
    "hist.columns = hist.columns.str.lower()\n",
    "for col in hist.columns:\n",
    "    if pd.api.types.is_string_dtype(hist[col]):\n",
    "        hist[col] = hist[col].str.encode(\"latin-1\").str.decode(\"euc-kr\")"
   ]
  },
  {
   "cell_type": "code",
   "execution_count": 53,
   "metadata": {
    "ExecuteTime": {
     "end_time": "2021-10-22T06:22:10.600450Z",
     "start_time": "2021-10-22T06:22:10.582498Z"
    }
   },
   "outputs": [
    {
     "data": {
      "text/html": [
       "<div>\n",
       "<style scoped>\n",
       "    .dataframe tbody tr th:only-of-type {\n",
       "        vertical-align: middle;\n",
       "    }\n",
       "\n",
       "    .dataframe tbody tr th {\n",
       "        vertical-align: top;\n",
       "    }\n",
       "\n",
       "    .dataframe thead th {\n",
       "        text-align: right;\n",
       "    }\n",
       "</style>\n",
       "<table border=\"1\" class=\"dataframe\">\n",
       "  <thead>\n",
       "    <tr style=\"text-align: right;\">\n",
       "      <th></th>\n",
       "      <th>id_sabun</th>\n",
       "      <th>ds_hname</th>\n",
       "      <th>ds_order1</th>\n",
       "      <th>ds_order2</th>\n",
       "      <th>ds_dept</th>\n",
       "      <th>ds_position</th>\n",
       "      <th>ds_emptype</th>\n",
       "      <th>dt_order</th>\n",
       "      <th>dt_orderend</th>\n",
       "    </tr>\n",
       "  </thead>\n",
       "  <tbody>\n",
       "    <tr>\n",
       "      <th>9027</th>\n",
       "      <td>6143</td>\n",
       "      <td>황종열</td>\n",
       "      <td>조직개편</td>\n",
       "      <td>직급통합</td>\n",
       "      <td>베트남지사</td>\n",
       "      <td>2급</td>\n",
       "      <td>일반직</td>\n",
       "      <td>20191001</td>\n",
       "      <td>20210915</td>\n",
       "    </tr>\n",
       "    <tr>\n",
       "      <th>9028</th>\n",
       "      <td>6143</td>\n",
       "      <td>황종열</td>\n",
       "      <td>부서이동</td>\n",
       "      <td>전보</td>\n",
       "      <td>투자운영팀</td>\n",
       "      <td>2급</td>\n",
       "      <td>일반직</td>\n",
       "      <td>20210915</td>\n",
       "      <td>20211022</td>\n",
       "    </tr>\n",
       "  </tbody>\n",
       "</table>\n",
       "</div>"
      ],
      "text/plain": [
       "     id_sabun ds_hname ds_order1 ds_order2 ds_dept ds_position ds_emptype  \\\n",
       "9027     6143      황종열      조직개편      직급통합   베트남지사          2급       일반직    \n",
       "9028     6143      황종열      부서이동        전보   투자운영팀          2급       일반직    \n",
       "\n",
       "      dt_order dt_orderend  \n",
       "9027  20191001    20210915  \n",
       "9028  20210915    20211022  "
      ]
     },
     "execution_count": 53,
     "metadata": {},
     "output_type": "execute_result"
    }
   ],
   "source": [
    "hist[hist[\"id_sabun\"]==\"6143\"]"
   ]
  },
  {
   "cell_type": "code",
   "execution_count": 49,
   "metadata": {
    "ExecuteTime": {
     "end_time": "2021-10-22T06:18:02.825354Z",
     "start_time": "2021-10-22T06:18:02.808400Z"
    }
   },
   "outputs": [
    {
     "data": {
      "text/html": [
       "<div>\n",
       "<style scoped>\n",
       "    .dataframe tbody tr th:only-of-type {\n",
       "        vertical-align: middle;\n",
       "    }\n",
       "\n",
       "    .dataframe tbody tr th {\n",
       "        vertical-align: top;\n",
       "    }\n",
       "\n",
       "    .dataframe thead th {\n",
       "        text-align: right;\n",
       "    }\n",
       "</style>\n",
       "<table border=\"1\" class=\"dataframe\">\n",
       "  <thead>\n",
       "    <tr style=\"text-align: right;\">\n",
       "      <th></th>\n",
       "      <th>num</th>\n",
       "      <th>email</th>\n",
       "      <th>hq</th>\n",
       "      <th>dep</th>\n",
       "      <th>sub</th>\n",
       "      <th>job</th>\n",
       "      <th>rank</th>\n",
       "      <th>name</th>\n",
       "    </tr>\n",
       "  </thead>\n",
       "  <tbody>\n",
       "    <tr>\n",
       "      <th>81</th>\n",
       "      <td>3740</td>\n",
       "      <td>ideal333@hdc-dvp.com</td>\n",
       "      <td>건설본부</td>\n",
       "      <td>고속국도제32호선아산-천안간건설공사(5공구)</td>\n",
       "      <td>일반직</td>\n",
       "      <td>토목</td>\n",
       "      <td>2급</td>\n",
       "      <td>고영진</td>\n",
       "    </tr>\n",
       "  </tbody>\n",
       "</table>\n",
       "</div>"
      ],
      "text/plain": [
       "     num                 email    hq                       dep  sub job rank  \\\n",
       "81  3740  ideal333@hdc-dvp.com  건설본부  고속국도제32호선아산-천안간건설공사(5공구)  일반직  토목   2급   \n",
       "\n",
       "   name  \n",
       "81  고영진  "
      ]
     },
     "execution_count": 49,
     "metadata": {},
     "output_type": "execute_result"
    }
   ],
   "source": [
    "hr[hr[\"num\"]==\"3740\"]"
   ]
  },
  {
   "cell_type": "code",
   "execution_count": 3,
   "metadata": {
    "ExecuteTime": {
     "end_time": "2021-10-25T06:03:44.572113Z",
     "start_time": "2021-10-25T06:03:44.081427Z"
    }
   },
   "outputs": [],
   "source": [
    "hr = pd.read_excel(\"D:/Github/Work/Tableau/직원 명단_조직 기준_210930.xlsx\")\n",
    "hr[\"성명\"] = hr[\"성명\"].apply(lambda x:x.replace(\" \", \"\"))\n",
    "hr = hr[[\"사번\", \"EMAIL\", \"본부명(조직단위기준)\", \"조직명\", \"하위그룹\", \"직무\", \"직급\", \"성명\"]]\n",
    "hr = hr.rename({\"사번\":\"num\", \"EMAIL\":\"email\", \"본부명(조직단위기준)\":\"hq\", \"조직명\":\"dep\", \"하위그룹\":\"sub\", \"직무\":\"job\", \"직급\":\"rank\", \"성명\":\"name\"}, axis=1)\n",
    "hr = hr.sort_values(by=[\"job\", \"rank\", \"hq\", \"dep\"], axis=0)\n",
    "hr[\"num\"] = hr[\"num\"].map(str)\n",
    "\n",
    "hr.loc[hr[\"num\"]==\"1\", \"num\"] = \"0001\""
   ]
  },
  {
   "cell_type": "code",
   "execution_count": 4,
   "metadata": {
    "ExecuteTime": {
     "end_time": "2021-10-25T06:03:44.742657Z",
     "start_time": "2021-10-25T06:03:44.574108Z"
    }
   },
   "outputs": [],
   "source": [
    "empls = {str(row[\"num\"]):(row[\"hq\"], row[\"dep\"], row[\"job\"], row[\"name\"]) for _, row in hr.iterrows()}\n",
    "\n",
    "req_opts = TSC.RequestOptions(pagesize=1000)"
   ]
  },
  {
   "cell_type": "markdown",
   "metadata": {},
   "source": [
    "# SIgn In"
   ]
  },
  {
   "cell_type": "code",
   "execution_count": 5,
   "metadata": {
    "ExecuteTime": {
     "end_time": "2021-10-25T06:03:45.650228Z",
     "start_time": "2021-10-25T06:03:45.256284Z"
    }
   },
   "outputs": [],
   "source": [
    "token = f.readline()\n",
    "tableau_auth = TSC.TableauAuth(\"6363\", \"6363!hdc\")\n",
    "# server = TSC.Server(\"http://datalab.hdc-dvp.com\", use_server_version=True)\n",
    "server = TSC.Server(\"https://tableau.hdc-dvp.com\", use_server_version=True)"
   ]
  },
  {
   "cell_type": "markdown",
   "metadata": {},
   "source": [
    "# Create Fundamental Datasets"
   ]
  },
  {
   "cell_type": "code",
   "execution_count": 24,
   "metadata": {
    "ExecuteTime": {
     "end_time": "2021-10-22T05:58:52.116115Z",
     "start_time": "2021-10-22T05:58:34.945056Z"
    },
    "scrolled": true
   },
   "outputs": [
    {
     "name": "stdout",
     "output_type": "stream",
     "text": [
      "Completed!\n"
     ]
    },
    {
     "name": "stderr",
     "output_type": "stream",
     "text": [
      "C:\\Users\\00006363\\Anaconda3\\envs\\tf2.3\\lib\\site-packages\\ipykernel_launcher.py:53: SettingWithCopyWarning: \n",
      "A value is trying to be set on a copy of a slice from a DataFrame.\n",
      "Try using .loc[row_indexer,col_indexer] = value instead\n",
      "\n",
      "See the caveats in the documentation: https://pandas.pydata.org/pandas-docs/stable/user_guide/indexing.html#returning-a-view-versus-a-copy\n"
     ]
    }
   ],
   "source": [
    "# all_users.csv\n",
    "with server.auth.sign_in(tableau_auth):\n",
    "    all_users, pagination_item = server.users.get(req_options=req_opts)\n",
    "all_users = [(user.id, user.name, user.fullname, user.site_role) + empls[user.name] if user.name in empls.keys() else (user.id, user.name, user.fullname, user.site_role, None, None, None, None) for user in all_users]\n",
    "all_users = pd.DataFrame(all_users, columns=[\"user_id\", \"user_name\", \"user_fnm\", \"site_role\", \"hq\", \"dep\", \"job\", \"name\"])\n",
    "\n",
    "all_users.to_csv(\"D:/Github/Work/Tableau/all_users.csv\", index=False, encoding=\"euc-kr\")\n",
    "\n",
    "# all_groups.csv\n",
    "with server.auth.sign_in(tableau_auth):\n",
    "    all_groups, pagination_item = server.groups.get(req_options=req_opts)\n",
    "all_groups = [(group.name, group.id) for group in all_groups]\n",
    "all_groups = pd.DataFrame(all_groups, columns=[\"group\", \"group_id\"])\n",
    "\n",
    "all_groups.to_csv(\"D:/Github/Work/Tableau/all_groups.csv\", index=False, encoding=\"euc-kr\")\n",
    "\n",
    "# user_group.csv\n",
    "user_group = list()\n",
    "with server.auth.sign_in(tableau_auth):\n",
    "    users, pagination_item = server.users.get(req_options=req_opts)\n",
    "    for user in users:\n",
    "        pagination_item = server.users.populate_groups(user, req_options=req_opts)\n",
    "        user_group.extend([(user.id, user.name, user.fullname, user.site_role) + empls[user.name] + (group.name,) if user.name in empls.keys() else (user.id, user.name, user.fullname, user.site_role, None, None, None, None, group.name) for group in user.groups if group.name != \"All Users\"])\n",
    "user_group = pd.DataFrame(user_group, columns=[\"user_id\", \"user_name\", \"user_fnm\", \"site_role\", \"hq\", \"dep\", \"job\", \"name\", \"group\"])\n",
    "\n",
    "user_group.to_csv(\"D:/Github/Work/Tableau/user_group.csv\", index=False, encoding=\"euc-kr\")\n",
    "\n",
    "# group_user.csv\n",
    "group_user = list()\n",
    "with server.auth.sign_in(tableau_auth):\n",
    "    groups, pagination_item = server.groups.get(req_options=req_opts)\n",
    "    for group in groups[1:]:\n",
    "        pagination_item = server.groups.populate_users(group, req_options=req_opts)\n",
    "        group_user.extend([(group.name,) + empls[user.name] + (user.site_role,) if user.name in empls.keys() else (group.name, None, None, None, user.name, user.site_role) for user in group.users])\n",
    "\n",
    "group_user = pd.DataFrame(group_user, columns=[\"group\", \"hq\", \"dep\", \"job\", \"name\", \"site_role\"])\n",
    "\n",
    "group_user.to_csv(\"D:/Github/Work/Tableau/group_user.csv\", index=False, encoding=\"euc-kr\")\n",
    "\n",
    "# user_workbook\n",
    "user_wb = list()\n",
    "with server.auth.sign_in(tableau_auth):\n",
    "    users, pagination_item = server.users.get(req_options=req_opts)\n",
    "    for user in users:\n",
    "        pagination_item = server.users.populate_workbooks(user, req_options=req_opts)\n",
    "        user_wb.extend([(user.id, user.name, user.fullname, user.site_role) + empls[user.name] + (wb.name,) if user.name in empls.keys() else (user.id, user.name, user.fullname, user.site_role, None, None, None, None, wb.name) for wb in user.workbooks if wb.project_name==\"HDC현대산업개발\"])\n",
    "user_wb = pd.DataFrame(user_wb, columns=[\"user_id\", \"user_name\", \"user_fnm\", \"site_role\", \"hq\", \"dep\", \"job\", \"name\", \"wb\"])\n",
    "\n",
    "user_wb.to_csv(\"D:/Github/Work/Tableau/user_wb.csv\", index=False, encoding=\"euc-kr\")\n",
    "\n",
    "# have_account\n",
    "have_account = hr[[\"num\", \"hq\", \"dep\", \"name\", \"sub\", \"job\", \"rank\", \"email\"]]\n",
    "have_account[\"have\"] = have_account[\"num\"].apply(lambda x:True if str(x) in all_users[\"user_name\"].tolist() else False)\n",
    "have_account.to_csv(\"D:/Github/Work/Tableau/have_account.csv\", index=False, encoding=\"euc-kr\")\n",
    "\n",
    "print(\"Completed!\")"
   ]
  },
  {
   "cell_type": "markdown",
   "metadata": {},
   "source": [
    "# 그룹별 유저 배정"
   ]
  },
  {
   "cell_type": "code",
   "execution_count": 71,
   "metadata": {},
   "outputs": [],
   "source": [
    "# \"HR현황\"\n",
    "ls = hr[(hr[\"job\"]==\"회장\") | (hr[\"job\"]==\"부회장\") | (hr[\"job\"]==\"대표이사사장\") | (hr[\"job\"]==\"본부장\")][\"num\"].tolist()\n",
    "for num in ls:\n",
    "    try:\n",
    "        user_id = all_users.loc[all_users[\"user_name\"]==num, \"user_id\"].values[0]\n",
    "    except:\n",
    "        print(f\"No Account; {num}\")\n",
    "#         with server.auth.sign_in(tableau_auth):\n",
    "#             new_user = TSC.UserItem(num, \"Viewer\")\n",
    "#             new_user = server.users.add(new_user)   \n",
    "#             new_user.fullname = f\"{hr.loc[hr[\"num\"]==num, \"name\"].values[0]}({hr.loc[hr[\"num\"]==num, \"dep\"].values[0]})\"\n",
    "#             new_user.email = hr.loc[hr[\"num\"]==num, \"email\"].values[0]\n",
    "#             new_user = server.users.update(new_user, password=f\"hdc{name}\")\n",
    "#             user_id = all_users.loc[all_users[\"user_name\"]==num, \"user_id\"].values[0]\n",
    "    with server.auth.sign_in(tableau_auth):\n",
    "        groups, pagination_item = server.groups.get(req_options=req_opts)\n",
    "        group = [i for i in groups if i.id==\"8bae0a19-c83c-4713-b932-a489754653de\"][0]\n",
    "        server.groups.add_user(group, user_id)"
   ]
  },
  {
   "cell_type": "markdown",
   "metadata": {},
   "source": [
    "# 그룹별 유저 기준\n",
    "## 필수 발급\n",
    "```python\n",
    "have_account[(have_account[\"job\"]==\"회장\") | (have_account[\"job\"]==\"부회장\") | (have_account[\"job\"]==\"대표이사사장\") | (have_account[\"job\"]==\"본부장\") | ((have_account[\"sub\"] != \"정보기술외주\") & (have_account[\"job\"]==\"팀장\")) | (have_account[\"job\"]==\"실장\") | (have_account[\"job\"]==\"그룹장\") | (have_account[\"job\"]==\"부문장\") | (have_account[\"job\"]==\"단장\") | (have_account[\"job\"]==\"리더\") | (have_account[\"job\"]==\"PM\") | (have_account[\"job\"]==\"건축PM\") | (have_account[\"job\"]==\"소장\") | (have_account[\"job\"]==\"원가관리자\")]\n",
    "```\n",
    "\n",
    "## 현장 실적 + 예산변경 현황, CS접수현황, 협업플랫폼 사용현황\n",
    "- 사용자 전체\n",
    "\n",
    "## 분양일보(\"16065e45-21b3-4e1b-80e1-c7c41079adfd\")\n",
    "```python\n",
    "hr[(hr[\"job\"]==\"회장\") | (hr[\"job\"]==\"부회장\") | (hr[\"job\"]==\"대표이사사장\") | (hr[\"job\"]==\"본부장\") | ((hr[\"dep\"]==\"도시개발1팀\") & (hr[\"job\"]==\"팀장\")) | ((hr[\"dep\"]==\"도시개발2팀\") & (hr[\"job\"]==\"팀장\")) | ((hr[\"dep\"]==\"도시정비1팀\") & (hr[\"job\"]==\"팀장\")) | ((hr[\"dep\"]==\"도시정비2팀\") & (hr[\"job\"]==\"팀장\")) | ((hr[\"dep\"]==\"마케팅팀\") & (hr[\"job\"]==\"팀장\")) | ((hr[\"dep\"]==\"민간수주1팀\") & (hr[\"job\"]==\"팀장\")) | ((hr[\"dep\"]==\"민간수주2팀\") & (hr[\"job\"]==\"팀장\")) | ((hr[\"dep\"]==\"고객서비스팀\") & (hr[\"job\"]==\"팀장\")) | ((hr[\"dep\"]==\"경영분석팀\") & (hr[\"job\"]==\"팀장\")) | ((hr[\"dep\"]==\"재무팀\") & (hr[\"job\"]==\"팀장\")) | ((hr[\"dep\"]==\"회계팀\") & (hr[\"job\"]==\"팀장\")) | ((hr[\"dep\"]==\"디지털플랫폼팀\") & (hr[\"job\"]==\"팀장\")) | ((hr[\"dep\"]==\"미래전략팀\") & (hr[\"job\"]==\"팀장\")) | (hr[\"num\"]==\"6110\") | (hr[\"num\"]==\"4001380\") | (hr[\"num\"]==\"5218\")]\n",
    "```\n",
    "- 회장님 비서?, 부문장?, 김대중?\n",
    "\n",
    "## 수주정보\n",
    "```python\n",
    "hr[(hr[\"job\"]==\"회장\") | (hr[\"job\"]==\"부회장\") | (hr[\"job\"]==\"대표이사사장\") | (hr[\"job\"]==\"본부장\")]\n",
    "```\n",
    "\n",
    "## 본부장 회의(\"01b579e9-e0b0-458d-b12a-94292171d3a7\")\n",
    "```python\n",
    "hr[(hr[\"job\"]==\"회장\") | (hr[\"job\"]==\"부회장\") | (hr[\"job\"]==\"대표이사사장\") | (hr[\"job\"]==\"본부장\") | ((hr[\"sub\"] != \"정보기술외주\") & (hr[\"job\"]==\"팀장\")) | (hr[\"job\"]==\"실장\") | (hr[\"job\"]==\"그룹장\") | (hr[\"job\"]==\"부문장\") | (hr[\"job\"]==\"단장\") | (hr[\"job\"]==\"리더\") | (hr[\"job\"]==\"PM\") | (hr[\"job\"]==\"건축PM\") | (hr[\"num\"]==\"6447\") | (hr[\"num\"]==\"6406\") | (hr[\"num\"]==\"6486\") | (hr[\"num\"]==\"6427\") | (hr[\"num\"]==\"6168\") | (hr[\"num\"]==\"6335\") | (hr[\"num\"]==\"5704\") | (hr[\"num\"]==\"5720\") | (hr[\"num\"]==\"5882\") | (hr[\"num\"]==\"4001380\") | (hr[\"num\"]==\"4100435\") | (hr[\"num\"]==\"6281\") | (hr[\"num\"]==\"6048\") | (hr[\"num\"]==\"4001341\") | (hr[\"num\"]==\"4001360\") | (hr[\"num\"]==\"4001386\")]\n",
    "```\n",
    "- 회장님 비서?, 김주완?\n",
    "\n",
    "## 마이호미\n",
    "```python\n",
    "hr[(hr[\"job\"]==\"회장\") | (hr[\"job\"]==\"부회장\") | (hr[\"job\"]==\"대표이사사장\") | (hr[\"job\"]==\"본부장\") | ((hr[\"dep\"]==\"디지털플랫폼팀\") & (hr[\"job\"]==\"팀장\")) | (hr[\"num\"]==\"6371\") | (hr[\"num\"]==\"1101296\") | (hr[\"num\"]==\"6371\")]\n",
    "```\n",
    "- 회장님 비서?\n",
    "\n",
    "## 공수현황\n",
    "```python\n",
    "hr[(hr[\"job\"]==\"회장\") | (hr[\"job\"]==\"부회장\") | (hr[\"job\"]==\"대표이사사장\") | (hr[\"job\"]==\"본부장\") | ((hr[\"dep\"]==\"실시설계팀\") & (hr[\"job\"]==\"팀장\")) | ((hr[\"dep\"]==\"일반견적팀\") & (hr[\"job\"]==\"팀장\")) | ((hr[\"dep\"]==\"예산견적팀\") & (hr[\"job\"]==\"팀장\")) | ((hr[\"dep\"]==\"디지털플랫폼팀\") & (hr[\"job\"]==\"팀장\")) | ((hr[\"dep\"]==\"견적그룹(개발영업)\") & (hr[\"job\"]==\"그룹장\")) | ((hr[\"dep\"]==\"설계그룹(개발영업)\") & (hr[\"job\"]==\"그룹장\"))]\n",
    "```"
   ]
  },
  {
   "cell_type": "code",
   "execution_count": 20,
   "metadata": {
    "ExecuteTime": {
     "end_time": "2021-08-18T01:54:34.946941Z",
     "start_time": "2021-08-18T01:54:34.942973Z"
    }
   },
   "outputs": [],
   "source": [
    "# # user_workbook\n",
    "# with server.auth.sign_in(tableau_auth):\n",
    "#     user = server.users.get_by_id(\"b71d75c3-a34c-4dc5-a92b-de46dc681212\")\n",
    "#     server.users.populate_workbooks(user)\n",
    "#     for workbook in user.workbooks:\n",
    "#         if workbook.project_name==\"HDC현대산업개발\":\n",
    "#             print(workbook.name)"
   ]
  },
  {
   "cell_type": "markdown",
   "metadata": {},
   "source": [
    "# Create Users"
   ]
  },
  {
   "cell_type": "code",
   "execution_count": 12,
   "metadata": {
    "ExecuteTime": {
     "end_time": "2021-10-25T07:40:59.788188Z",
     "start_time": "2021-10-25T07:40:59.772231Z"
    }
   },
   "outputs": [],
   "source": [
    "users_to_create = hr[(hr[\"job\"]==\"회장\") | (hr[\"job\"]==\"부회장\") | (hr[\"job\"]==\"대표이사사장\") | (hr[\"job\"]==\"본부장\") | ((hr[\"sub\"] != \"정보기술외주\") & (hr[\"job\"]==\"팀장\")) | (hr[\"job\"]==\"실장\") | (hr[\"job\"]==\"그룹장\") | (hr[\"job\"]==\"부문장\") | (hr[\"job\"]==\"단장\") | (hr[\"job\"]==\"리더\") | (hr[\"job\"]==\"PM\") | (hr[\"job\"]==\"건축PM\") | (hr[\"job\"]==\"소장\") | (hr[\"num\"].isin([\"4100435\", \"5720\", \"5704\", \"5707\", \"6084\", \"6161\", \"4001341\", \"4001360\", \"4001386\", \"5934\", \"4001380\", \"6119\", \"5218\", \"6110\", \"4632\", \"5308\", \"5104\", \"5882\", \"5892\", \"6168\", \"6335\", \"6353\", \"6284\", \"6337\", \"6281\", \"6427\"]))]"
   ]
  },
  {
   "cell_type": "code",
   "execution_count": 9,
   "metadata": {
    "ExecuteTime": {
     "end_time": "2021-10-25T06:30:53.408963Z",
     "start_time": "2021-10-25T06:30:38.526780Z"
    }
   },
   "outputs": [
    {
     "name": "stdout",
     "output_type": "stream",
     "text": [
      "All Completed!\n"
     ]
    }
   ],
   "source": [
    "with server.auth.sign_in(tableau_auth):\n",
    "    for _, row in users_to_create.iterrows():\n",
    "        user = TSC.UserItem(row[\"num\"], \"Viewer\")\n",
    "        user = server.users.add(user)\n",
    "        if row[\"job\"] in [\"회장\", \"부회장\", \"대표이사사장\", \"본부장\", \"팀장\", \"실장\", \"그룹장\", \"부문장\", \"단장\", \"리더\", \"PM\", \"건축PM\", \"소장\", \"원가관리자\"]:\n",
    "            user.fullname = f\"{row['name']}({row['job']})\"\n",
    "        else:\n",
    "            user.fullname = f\"{row['name']}({row['dep']})\"\n",
    "        user.email = row[\"email\"]\n",
    "        user = server.users.update(user, password=f\"secretpassword\")\n",
    "print(\"All Completed!\")"
   ]
  },
  {
   "cell_type": "markdown",
   "metadata": {},
   "source": [
    "# Add Users to Groups"
   ]
  },
  {
   "cell_type": "code",
   "execution_count": 73,
   "metadata": {
    "scrolled": true
   },
   "outputs": [],
   "source": [
    "# with server.auth.sign_in(tableau_auth):\n",
    "#     groups, pagination_item = server.groups.get(req_options=req_opts)\n",
    "#     users, pagination_item = server.users.get(req_options=req_opts)\n",
    "#     for _, row in hr[hr[\"check\"].notna()].iterrows():\n",
    "#         idx = all_groups[all_groups[\"group\"]==row[\"check\"]].index[0]\n",
    "#         group = groups[idx]\n",
    "        \n",
    "#         user_idx = all_users[all_users[\"user_name\"]==row[\"num\"]].index[0]\n",
    "#         user_id = users[user_idx].id\n",
    "    \n",
    "#         server.groups.add_user(group, user_id)"
   ]
  },
  {
   "cell_type": "code",
   "execution_count": 41,
   "metadata": {},
   "outputs": [],
   "source": [
    "keyword = \"혁신팀\"\n",
    "num = \"1101291\"\n",
    "\n",
    "group_idx = all_groups[all_groups[\"group\"].str.contains(keyword)].index[0]\n",
    "with server.auth.sign_in(tableau_auth):\n",
    "    groups, pagination_item = server.groups.get(req_options=req_opts)\n",
    "    group = groups[group_idx]\n",
    "    \n",
    "    user_idx = all_users[all_users[\"user_name\"]==num].index[0]\n",
    "    users, pagination_item = server.users.get(req_options=req_opts)\n",
    "    user_id = users[user_idx].id\n",
    "    \n",
    "    server.groups.add_user(group, user_id)"
   ]
  },
  {
   "cell_type": "markdown",
   "metadata": {},
   "source": [
    "# Modify User Information"
   ]
  },
  {
   "cell_type": "code",
   "execution_count": 29,
   "metadata": {
    "ExecuteTime": {
     "end_time": "2021-09-14T06:31:54.354975Z",
     "start_time": "2021-09-14T06:31:54.344997Z"
    }
   },
   "outputs": [],
   "source": [
    "user_modify = all_users[((all_users[\"job\"]==\"회장\") | (all_users[\"job\"]==\"부회장\") | (all_users[\"job\"]==\"대표이사사장\") | (all_users[\"job\"]==\"본부장\") | (all_users[\"job\"]==\"팀장\") | (all_users[\"job\"]==\"실장\") | (all_users[\"job\"]==\"그룹장\") | (all_users[\"job\"]==\"부문장\") | (all_users[\"job\"]==\"단장\") | (all_users[\"job\"]==\"리더\") | (all_users[\"job\"]==\"PM\") | (all_users[\"job\"]==\"건축PM\") | (all_users[\"job\"]==\"소장\") | (all_users[\"job\"]==\"원가관리자\"))]"
   ]
  },
  {
   "cell_type": "code",
   "execution_count": 7,
   "metadata": {
    "ExecuteTime": {
     "end_time": "2021-10-19T01:44:36.600416Z",
     "start_time": "2021-10-19T01:44:36.588449Z"
    }
   },
   "outputs": [
    {
     "data": {
      "text/html": [
       "<div>\n",
       "<style scoped>\n",
       "    .dataframe tbody tr th:only-of-type {\n",
       "        vertical-align: middle;\n",
       "    }\n",
       "\n",
       "    .dataframe tbody tr th {\n",
       "        vertical-align: top;\n",
       "    }\n",
       "\n",
       "    .dataframe thead th {\n",
       "        text-align: right;\n",
       "    }\n",
       "</style>\n",
       "<table border=\"1\" class=\"dataframe\">\n",
       "  <thead>\n",
       "    <tr style=\"text-align: right;\">\n",
       "      <th></th>\n",
       "      <th>user_id</th>\n",
       "      <th>user_name</th>\n",
       "      <th>user_fullname</th>\n",
       "      <th>site_role</th>\n",
       "      <th>hq</th>\n",
       "      <th>dep</th>\n",
       "      <th>job</th>\n",
       "      <th>name</th>\n",
       "    </tr>\n",
       "  </thead>\n",
       "  <tbody>\n",
       "    <tr>\n",
       "      <th>143</th>\n",
       "      <td>5ae9b472-674f-4cf3-a4cb-2a2bd23a53f9</td>\n",
       "      <td>5308</td>\n",
       "      <td>최혁(마케팅팀)</td>\n",
       "      <td>Viewer</td>\n",
       "      <td>개발영업본부</td>\n",
       "      <td>마케팅팀</td>\n",
       "      <td>팀원</td>\n",
       "      <td>최혁</td>\n",
       "    </tr>\n",
       "  </tbody>\n",
       "</table>\n",
       "</div>"
      ],
      "text/plain": [
       "                                  user_id user_name user_fullname site_role  \\\n",
       "143  5ae9b472-674f-4cf3-a4cb-2a2bd23a53f9      5308      최혁(마케팅팀)    Viewer   \n",
       "\n",
       "         hq   dep job name  \n",
       "143  개발영업본부  마케팅팀  팀원   최혁  "
      ]
     },
     "execution_count": 7,
     "metadata": {},
     "output_type": "execute_result"
    }
   ],
   "source": [
    "all_users[all_users[\"user_fnm\"].str.contains(\"최혁\")]"
   ]
  },
  {
   "cell_type": "code",
   "execution_count": 8,
   "metadata": {
    "ExecuteTime": {
     "end_time": "2021-10-19T01:45:36.382485Z",
     "start_time": "2021-10-19T01:45:35.943639Z"
    }
   },
   "outputs": [
    {
     "name": "stdout",
     "output_type": "stream",
     "text": [
      "All Completed!\n"
     ]
    }
   ],
   "source": [
    "with server.auth.sign_in(tableau_auth):\n",
    "    user = server.users.get_by_id(\"5ae9b472-674f-4cf3-a4cb-2a2bd23a53f9\")\n",
    "    user.fullname = \"최혁(팀장)\"\n",
    "    user = server.users.update(user)\n",
    "print(\"All Completed!\")"
   ]
  },
  {
   "cell_type": "code",
   "execution_count": 35,
   "metadata": {
    "ExecuteTime": {
     "end_time": "2021-09-14T06:36:08.374305Z",
     "start_time": "2021-09-14T06:35:57.302922Z"
    }
   },
   "outputs": [
    {
     "name": "stdout",
     "output_type": "stream",
     "text": [
      "김동진(건축PM)\n",
      "배영선(건축PM)\n",
      "김행대(소장)\n",
      "정상민(팀장)\n",
      "김영도(소장)\n",
      "김유겸(소장)\n",
      "이문경(소장)\n",
      "이종일(소장)\n",
      "고영진(소장)\n",
      "이창규(건축PM)\n",
      "김달운(소장)\n",
      "한희태(소장)\n",
      "김한덕(소장)\n",
      "최영준(소장)\n",
      "김창환(소장)\n",
      "이현대(건축PM)\n",
      "김창범(소장)\n",
      "하원기(본부장)\n",
      "김범동(PM)\n",
      "박용호(소장)\n",
      "강민석(팀장)\n",
      "이상호(소장)\n",
      "최영근(소장)\n",
      "이대용(소장)\n",
      "김용남(소장)\n",
      "김현철(소장)\n",
      "곽동호(소장)\n",
      "안정찬(소장)\n",
      "최성일(소장)\n",
      "박상우(소장)\n",
      "박혁종(팀장)\n",
      "문치성(팀장)\n",
      "노창기(소장)\n",
      "박정화(팀장)\n",
      "박찬호(그룹장)\n",
      "진동성(소장)\n",
      "장태영(소장)\n",
      "고재영(소장)\n",
      "박형건(소장)\n",
      "조정익(소장)\n",
      "최정환(소장)\n",
      "이현우(그룹장)\n",
      "김영철(소장)\n",
      "강병철(소장)\n",
      "손관철(소장)\n",
      "양승철(소장)\n",
      "박홍열(소장)\n",
      "김정우(소장)\n",
      "최창구(팀장)\n",
      "문인석(소장)\n",
      "김용주(팀장)\n",
      "이유로(팀장)\n",
      "전정하(팀장)\n",
      "신웅식(소장)\n",
      "민성우(소장)\n",
      "김상균(소장)\n",
      "이현우(팀장)\n",
      "구영아(소장)\n",
      "김근호(소장)\n",
      "박범수(소장)\n",
      "최종우(소장)\n",
      "장도순(소장)\n",
      "소문석(그룹장)\n",
      "여승의(팀장)\n",
      "호명기(실장)\n",
      "장용석(팀장)\n",
      "이준희(리더)\n",
      "김지현(팀장)\n",
      "이홍석(팀장)\n",
      "황세환(소장)\n",
      "박상일(부문장)\n",
      "이종민(PM)\n",
      "백장준(팀장)\n",
      "선영욱(팀장)\n",
      "한상현(팀장)\n",
      "권양현(팀장)\n",
      "맹은주(팀장)\n",
      "김용권(그룹장)\n",
      "현규섭(그룹장)\n",
      "윤보은(팀장)\n",
      "권두섭(팀장)\n",
      "신현철(팀장)\n",
      "김태수(부문장)\n",
      "노형주(팀장)\n",
      "김대철(부회장)\n",
      "권순호(대표이사사장)\n",
      "박희윤(본부장)\n",
      "이완희(팀장)\n",
      "정경구(본부장)\n",
      "고영호(팀장)\n",
      "정영도(팀장)\n",
      "김대중(부문장)\n",
      "김동수(단장)\n",
      "정몽규(회장)\n",
      "빙창민(소장)\n",
      "김도헌(소장)\n",
      "이일재(소장)\n",
      "장수호(팀장)\n",
      "김윤호(소장)\n",
      "이부근(소장)\n",
      "김정훈(소장)\n",
      "박재환(소장)\n",
      "이정은(부문장)\n",
      "강미희(팀장)\n",
      "김자현(팀장)\n",
      "이동훈(팀장)\n",
      "김의성(팀장)\n",
      "김홍일(본부장)\n",
      "최용(팀장)\n",
      "류강선(소장)\n",
      "윤태원(소장)\n",
      "장봉준(소장)\n",
      "유신재(소장)\n",
      "박준용(소장)\n",
      "윤홍중(소장)\n",
      "성동석(소장)\n",
      "오형석(소장)\n",
      "김동욱(소장)\n",
      "이천우(소장)\n",
      "김기호(소장)\n",
      "문병재(소장)\n",
      "엄성용(소장)\n",
      "이용상(소장)\n",
      "김일수(소장)\n",
      "박호종(소장)\n",
      "이종욱(원가관리자)\n",
      "이상영(원가관리자)\n",
      "백영수(원가관리자)\n",
      "김영철(원가관리자)\n",
      "강남성(원가관리자)\n",
      "복진호(원가관리자)\n",
      "이희윤(원가관리자)\n",
      "오종서(원가관리자)\n",
      "박인승(원가관리자)\n",
      "최영준(원가관리자)\n",
      "안상도(원가관리자)\n",
      "문성준(원가관리자)\n",
      "김진웅(원가관리자)\n",
      "노창주(원가관리자)\n",
      "이영식(원가관리자)\n",
      "신준협(원가관리자)\n",
      "양기석(원가관리자)\n",
      "배춘호(원가관리자)\n",
      "정성원(원가관리자)\n",
      "이기정(원가관리자)\n",
      "김종필(원가관리자)\n",
      "김성기(원가관리자)\n",
      "박성규(원가관리자)\n",
      "민왕기(원가관리자)\n",
      "김동균(원가관리자)\n",
      "이강식(원가관리자)\n",
      "최원철(원가관리자)\n",
      "김선출(원가관리자)\n",
      "강영묵(원가관리자)\n",
      "어윤준(원가관리자)\n",
      "김영균(원가관리자)\n",
      "최기정(원가관리자)\n",
      "배상명(원가관리자)\n",
      "김명호(원가관리자)\n",
      "이재호(원가관리자)\n",
      "김동연(원가관리자)\n",
      "이동훈(원가관리자)\n",
      "김석진(원가관리자)\n",
      "박성준(원가관리자)\n",
      "김윤호(원가관리자)\n",
      "장낙광(원가관리자)\n",
      "김종택(원가관리자)\n",
      "남영우(원가관리자)\n",
      "박성준(원가관리자)\n",
      "김성중(원가관리자)\n",
      "강기진(원가관리자)\n",
      "권혁훈(원가관리자)\n",
      "류홍우(원가관리자)\n",
      "박철희(원가관리자)\n",
      "송영민(원가관리자)\n",
      "이호권(원가관리자)\n",
      "양영모(원가관리자)\n",
      "표소옥(원가관리자)\n",
      "박진용(원가관리자)\n",
      "이병권(원가관리자)\n",
      "나성수(원가관리자)\n",
      "전덕규(원가관리자)\n",
      "황기익(원가관리자)\n",
      "최석범(원가관리자)\n",
      "정경우(원가관리자)\n",
      "송영욱(원가관리자)\n",
      "최종기(원가관리자)\n",
      "오태구(원가관리자)\n",
      "김일환(원가관리자)\n",
      "김은찬(원가관리자)\n",
      "차영훈(원가관리자)\n",
      "박진우(원가관리자)\n",
      "김성윤(원가관리자)\n",
      "임승한(원가관리자)\n",
      "박지훈(원가관리자)\n",
      "김효진(원가관리자)\n",
      "조현학(원가관리자)\n",
      "심재병(팀장)\n",
      "All Completed!\n"
     ]
    }
   ],
   "source": [
    "with server.auth.sign_in(tableau_auth):\n",
    "    for _, row in user_modify.iterrows():\n",
    "        user = server.users.get_by_id(f\"{row['user_id']}\")\n",
    "\n",
    "        fullname = f\"{row['name']}({row['job']})\"\n",
    "#         print(fullname)\n",
    "        user.fullname = fullname\n",
    "        user = server.users.update(user)\n",
    "print(\"All Completed!\")"
   ]
  },
  {
   "cell_type": "markdown",
   "metadata": {},
   "source": [
    "# Remove Users"
   ]
  },
  {
   "cell_type": "code",
   "execution_count": 74,
   "metadata": {
    "ExecuteTime": {
     "end_time": "2021-09-14T06:10:54.645023Z",
     "start_time": "2021-09-14T06:10:54.370753Z"
    }
   },
   "outputs": [
    {
     "name": "stdout",
     "output_type": "stream",
     "text": [
      "Completed!\n"
     ]
    }
   ],
   "source": [
    "user_id = \"c63d33fe-e955-4765-94d4-f83f2001b1c0\"\n",
    "with server.auth.sign_in(tableau_auth):\n",
    "    server.users.remove(user_id)\n",
    "print(\"Completed!\")"
   ]
  }
 ],
 "metadata": {
  "hide_input": false,
  "kernelspec": {
   "display_name": "Python 3",
   "language": "python",
   "name": "python3"
  },
  "language_info": {
   "codemirror_mode": {
    "name": "ipython",
    "version": 3
   },
   "file_extension": ".py",
   "mimetype": "text/x-python",
   "name": "python",
   "nbconvert_exporter": "python",
   "pygments_lexer": "ipython3",
   "version": "3.7.7"
  },
  "toc": {
   "base_numbering": 1,
   "nav_menu": {},
   "number_sections": true,
   "sideBar": true,
   "skip_h1_title": false,
   "title_cell": "Table of Contents",
   "title_sidebar": "Contents",
   "toc_cell": false,
   "toc_position": {},
   "toc_section_display": true,
   "toc_window_display": false
  },
  "varInspector": {
   "cols": {
    "lenName": 16,
    "lenType": 16,
    "lenVar": 40
   },
   "kernels_config": {
    "python": {
     "delete_cmd_postfix": "",
     "delete_cmd_prefix": "del ",
     "library": "var_list.py",
     "varRefreshCmd": "print(var_dic_list())"
    },
    "r": {
     "delete_cmd_postfix": ") ",
     "delete_cmd_prefix": "rm(",
     "library": "var_list.r",
     "varRefreshCmd": "cat(var_dic_list()) "
    }
   },
   "types_to_exclude": [
    "module",
    "function",
    "builtin_function_or_method",
    "instance",
    "_Feature"
   ],
   "window_display": false
  }
 },
 "nbformat": 4,
 "nbformat_minor": 4
}
