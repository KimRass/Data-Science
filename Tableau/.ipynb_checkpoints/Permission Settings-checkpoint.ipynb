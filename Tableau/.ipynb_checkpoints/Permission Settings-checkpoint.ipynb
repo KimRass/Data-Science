{
 "cells": [
  {
   "cell_type": "markdown",
   "metadata": {},
   "source": [
    "- Reference: https://tableau.github.io/server-client-python/docs/api-ref\n",
    "- \"HDC현대산업개발\": \"2a21240d-3f53-4f02-944d-b01647c3dd51\""
   ]
  },
  {
   "cell_type": "code",
   "execution_count": 1,
   "metadata": {
    "ExecuteTime": {
     "end_time": "2021-11-19T04:57:49.898648Z",
     "start_time": "2021-11-19T04:57:46.762041Z"
    }
   },
   "outputs": [],
   "source": [
    "import tableauserverclient as TSC\n",
    "import pandas as pd\n",
    "import numpy as np\n",
    "import pymssql\n",
    "from dateutil.relativedelta import relativedelta\n",
    "\n",
    "f = open(\"D:/Github/Work/Tableau/datamart_password.txt\", \"r\")\n",
    "# f = open(\"C:/Work/Tableau/datamart_password.txt\", \"r\")\n",
    "pw1 = f.readline()\n",
    "f = open(\"D:/Github/Work/Tableau/tableau_server_password.txt\", \"r\")\n",
    "# f = open(\"C:/Work/Tableau/datamart_password.txt\", \"r\")\n",
    "pw2 = f.readline()\n",
    "\n",
    "pd.set_option(\"display.max_columns\", None)"
   ]
  },
  {
   "cell_type": "code",
   "execution_count": 2,
   "metadata": {
    "ExecuteTime": {
     "end_time": "2021-11-19T04:57:49.907624Z",
     "start_time": "2021-11-19T04:57:49.902639Z"
    }
   },
   "outputs": [],
   "source": [
    "# 발령 이력 활용\n",
    "\n",
    "# conn = pymssql.connect(server=\"133.186.215.165\", database=\"HDCMART\", user=\"hdcmart_user\", password=password, charset=\"UTF8\")\n",
    "# query = \"\"\"\n",
    "# SELECT id_sabun, ds_hname, ds_order1, ds_order2, ds_dept, ds_position, ds_emptype, dt_order, dt_orderend \n",
    "# FROM DATAMART_DAAV_ORDER\n",
    "# WHERE cd_corp = 'A101' AND dt_order > '20190101'\n",
    "# \"\"\"\n",
    "# hist = pd.read_sql(query, conn)\n",
    "# hist.columns = hist.columns.str.lower()\n",
    "# for col in hist.columns:\n",
    "#     if pd.api.types.is_string_dtype(hist[col]):\n",
    "#         hist[col] = hist[col].str.encode(\"latin-1\").str.decode(\"euc-kr\")"
   ]
  },
  {
   "cell_type": "code",
   "execution_count": 3,
   "metadata": {
    "ExecuteTime": {
     "end_time": "2021-11-19T04:57:50.909942Z",
     "start_time": "2021-11-19T04:57:49.913610Z"
    }
   },
   "outputs": [],
   "source": [
    "hr = pd.read_excel(\"D:/Github/Work/Tableau/직원 명단_조직 기준_211031.xlsx\")\n",
    "hr[\"성명\"] = hr[\"성명\"].apply(lambda x:x.replace(\" \", \"\"))\n",
    "hr = hr[[\"사번\", \"EMAIL\", \"본부명(조직단위기준)\", \"조직명\", \"하위그룹\", \"직무\", \"직급\", \"성명\"]]\n",
    "hr = hr.rename({\"사번\":\"num\", \"EMAIL\":\"email\", \"본부명(조직단위기준)\":\"hq\", \"조직명\":\"dep\", \"하위그룹\":\"sub\", \"직무\":\"job\", \"직급\":\"rank\", \"성명\":\"name\"}, axis=1)\n",
    "hr = hr.sort_values(by=[\"job\", \"rank\", \"hq\", \"dep\"], axis=0)\n",
    "hr[\"num\"] = hr[\"num\"].map(str)\n",
    "\n",
    "hr.loc[hr[\"num\"]==\"1\", \"num\"] = \"0001\"\n",
    "\n",
    "empls = {str(row[\"num\"]):(row[\"hq\"], row[\"dep\"], row[\"job\"], row[\"name\"]) for _, row in hr.iterrows()}\n",
    "\n",
    "req_opts = TSC.RequestOptions(pagesize=1000)"
   ]
  },
  {
   "cell_type": "markdown",
   "metadata": {},
   "source": [
    "# SIgn In"
   ]
  },
  {
   "cell_type": "code",
   "execution_count": 4,
   "metadata": {
    "ExecuteTime": {
     "end_time": "2021-11-19T04:57:51.138338Z",
     "start_time": "2021-11-19T04:57:50.911959Z"
    }
   },
   "outputs": [],
   "source": [
    "tableau_auth = TSC.TableauAuth(\"6363\", pw2)\n",
    "server = TSC.Server(\"https://datalab.hdc-dvp.com\", use_server_version=True)"
   ]
  },
  {
   "cell_type": "markdown",
   "metadata": {},
   "source": [
    "# Create Fundamental Datasets"
   ]
  },
  {
   "cell_type": "code",
   "execution_count": 5,
   "metadata": {
    "ExecuteTime": {
     "end_time": "2021-11-18T09:00:01.480951Z",
     "start_time": "2021-11-18T09:00:01.475938Z"
    },
    "scrolled": true
   },
   "outputs": [],
   "source": [
    "# # user_group.csv\n",
    "# user_group = list()\n",
    "# with server.auth.sign_in(tableau_auth):\n",
    "#     users, pagination_item = server.users.get(req_options=req_opts)\n",
    "#     for user in users:\n",
    "#         pagination_item = server.users.populate_groups(user, req_options=req_opts)\n",
    "#         user_group.extend([(user.id, user.name, user.fullname, user.site_role) + empls[user.name] + (group.name,) if user.name in empls.keys() else (user.id, user.name, user.fullname, user.site_role, None, None, None, None, group.name) for group in user.groups if group.name != \"All Users\"])\n",
    "# user_group = pd.DataFrame(user_group, columns=[\"user_id\", \"user_name\", \"user_fnm\", \"site_role\", \"hq\", \"dep\", \"job\", \"name\", \"group\"])\n",
    "\n",
    "# user_group.to_csv(\"D:/Github/Work/Tableau/user_group.csv\", index=False, encoding=\"euc-kr\")\n",
    "\n",
    "# # group_user.csv\n",
    "# group_user = list()\n",
    "# with server.auth.sign_in(tableau_auth):\n",
    "#     groups, pagination_item = server.groups.get(req_options=req_opts)\n",
    "#     for group in groups[1:]:\n",
    "#         pagination_item = server.groups.populate_users(group, req_options=req_opts)\n",
    "#         group_user.extend([(group.name,) + empls[user.name] + (user.site_role,) if user.name in empls.keys() else (group.name, None, None, None, user.name, user.site_role) for user in group.users])\n",
    "\n",
    "# group_user = pd.DataFrame(group_user, columns=[\"group\", \"hq\", \"dep\", \"job\", \"name\", \"site_role\"])\n",
    "\n",
    "# group_user.to_csv(\"D:/Github/Work/Tableau/group_user.csv\", index=False, encoding=\"euc-kr\")\n",
    "\n",
    "# # user_workbook\n",
    "# user_wb = list()\n",
    "# with server.auth.sign_in(tableau_auth):\n",
    "#     users, pagination_item = server.users.get(req_options=req_opts)\n",
    "#     for user in users:\n",
    "#         pagination_item = server.users.populate_workbooks(user, req_options=req_opts)\n",
    "#         user_wb.extend([(user.id, user.name, user.fullname, user.site_role) + empls[user.name] + (wb.name,) if user.name in empls.keys() else (user.id, user.name, user.fullname, user.site_role, None, None, None, None, wb.name) for wb in user.workbooks if wb.project_name==\"HDC현대산업개발\"])\n",
    "# user_wb = pd.DataFrame(user_wb, columns=[\"user_id\", \"user_name\", \"user_fnm\", \"site_role\", \"hq\", \"dep\", \"job\", \"name\", \"wb\"])\n",
    "\n",
    "# user_wb.to_csv(\"D:/Github/Work/Tableau/user_wb.csv\", index=False, encoding=\"euc-kr\")\n",
    "\n",
    "# # have_account\n",
    "# have_account = hr[[\"num\", \"hq\", \"dep\", \"name\", \"sub\", \"job\", \"rank\", \"email\"]]\n",
    "# have_account[\"have\"] = have_account[\"num\"].apply(lambda x:True if str(x) in all_users[\"user_name\"].tolist() else False)\n",
    "\n",
    "# have_account.to_csv(\"D:/Github/Work/Tableau/have_account.csv\", index=False, encoding=\"euc-kr\")\n",
    "\n",
    "# print(\"All completed!\")"
   ]
  },
  {
   "cell_type": "markdown",
   "metadata": {},
   "source": [
    "# Create Users"
   ]
  },
  {
   "cell_type": "code",
   "execution_count": 7,
   "metadata": {
    "ExecuteTime": {
     "end_time": "2021-11-19T04:59:32.355076Z",
     "start_time": "2021-11-19T04:59:29.011023Z"
    }
   },
   "outputs": [
    {
     "name": "stdout",
     "output_type": "stream",
     "text": [
      "All Completed!\n"
     ]
    }
   ],
   "source": [
    "users_to_create = hr[(hr[\"job\"]==\"회장\") | (hr[\"job\"]==\"부회장\") | (hr[\"job\"]==\"대표이사사장\") | (hr[\"job\"]==\"본부장\") | ((hr[\"sub\"] != \"정보기술외주\") & (hr[\"job\"]==\"팀장\")) | (hr[\"job\"]==\"실장\") | (hr[\"job\"]==\"그룹장\") | (hr[\"job\"]==\"부문장\") | (hr[\"job\"]==\"단장\") | (hr[\"job\"]==\"리더\") | (hr[\"job\"]==\"PM\") | (hr[\"job\"]==\"건축PM\") | (hr[\"job\"]==\"TFT팀장\") | (hr[\"job\"]==\"소장\") | (hr[\"num\"].isin([\"4100435\", \"5720\", \"5704\", \"5707\", \"6084\", \"6161\", \"4001341\", \"4001360\", \"4001386\", \"5934\", \"4001380\", \"6119\", \"5218\", \"6110\", \"4632\", \"5308\", \"5104\", \"5882\", \"5892\", \"6168\", \"6335\", \"6353\", \"6284\", \"6337\", \"6281\", \"6427\", \"6403\", \"1101291\", \"6012\", \"5653\", \"6032\", \"6294\", \"6111\", \"5555\", \"5653\", \"5835\", \"5898\", \"6331\", \"6119\", \"6262\", \"6283\", \"4100222\", \"6360\", \"6122\", \"5994\", \"6385\", \"6310\", \"6389\", \"6048\"]))]\n",
    "\n",
    "with server.auth.sign_in(tableau_auth):\n",
    "    for _, row in users_to_create.iterrows():\n",
    "        if row[\"num\"] in [\"4100435\"]:\n",
    "            user = TSC.UserItem(row[\"num\"], \"SiteAdministratorCreator\")\n",
    "        if row[\"num\"] in [\"4001380\"]:\n",
    "            user = TSC.UserItem(row[\"num\"], \"Creator\")\n",
    "        else:\n",
    "            user = TSC.UserItem(row[\"num\"], \"Viewer\")\n",
    "        try:\n",
    "            user = server.users.add(user)\n",
    "            if row[\"job\"] in [\"회장\", \"부회장\", \"대표이사사장\", \"본부장\", \"팀장\", \"실장\", \"그룹장\", \"부문장\", \"단장\", \"리더\", \"PM\", \"건축PM\", \"소장\", \"원가관리자\"]:\n",
    "                user.fullname = f\"{row['name']}({row['job']})\"\n",
    "            else:\n",
    "                user.fullname = f\"{row['name']}({row['dep']})\"\n",
    "            user.email = row[\"email\"]\n",
    "            user = server.users.update(user)\n",
    "        except:\n",
    "            continue\n",
    "            \n",
    "# all_users.csv\n",
    "with server.auth.sign_in(tableau_auth):\n",
    "    all_users, pagination_item = server.users.get(req_options=req_opts)\n",
    "all_users = [(user.id, user.name, user.fullname, user.site_role) + empls[user.name] if user.name in empls.keys() else (user.id, user.name, user.fullname, user.site_role, None, None, None, None) for user in all_users]\n",
    "all_users = pd.DataFrame(all_users, columns=[\"user_id\", \"user_name\", \"user_fnm\", \"site_role\", \"hq\", \"dep\", \"job\", \"name\"])\n",
    "\n",
    "all_users.to_csv(\"D:/Github/Work/Tableau/all_users.csv\", index=False, encoding=\"euc-kr\")\n",
    "            \n",
    "print(\"All Completed!\")"
   ]
  },
  {
   "cell_type": "markdown",
   "metadata": {},
   "source": [
    "# Add Users to Groups"
   ]
  },
  {
   "cell_type": "code",
   "execution_count": 8,
   "metadata": {
    "ExecuteTime": {
     "end_time": "2021-11-19T04:59:36.980699Z",
     "start_time": "2021-11-19T04:59:32.357072Z"
    }
   },
   "outputs": [
    {
     "name": "stdout",
     "output_type": "stream",
     "text": [
      "All completed!\n"
     ]
    }
   ],
   "source": [
    "# all_groups.csv\n",
    "with server.auth.sign_in(tableau_auth):\n",
    "    all_groups, pagination_item = server.groups.get(req_options=req_opts)\n",
    "all_groups = [(group.name, group.id) for group in all_groups]\n",
    "all_groups = pd.DataFrame(all_groups, columns=[\"group\", \"group_id\"])\n",
    "\n",
    "all_groups.to_csv(\"D:/Github/Work/Tableau/all_groups.csv\", index=False, encoding=\"euc-kr\")\n",
    "\n",
    "# 회장/부회장/대표이사사장/본부장\n",
    "users_to_alloc = hr[(hr[\"job\"]==\"회장\") | (hr[\"job\"]==\"부회장\") | (hr[\"job\"]==\"대표이사사장\") | (hr[\"job\"]==\"본부장\") |((hr[\"job\"]==\"팀장\") & (hr[\"dep\"]==\"디지털플랫폼팀\")) | (hr[\"num\"].isin([\"6032\", \"6294\", \"6119\", \"6111\", \"6403\", \"1101291\", \"5634\", \"6048\"]))]\n",
    "tar_grp = \"f827e0fe-ff32-4443-9c40-701c94a13ba1\"\n",
    "with server.auth.sign_in(tableau_auth):\n",
    "    groups, pagination_item = server.groups.get(req_options=req_opts)\n",
    "    tar_grp = [i for i in groups if i.id == tar_grp][0]\n",
    "    for _, row in users_to_alloc.iterrows():\n",
    "        user_id = all_users.loc[all_users[\"user_name\"]==row[\"num\"], \"user_id\"].tolist()[0]\n",
    "        try:\n",
    "            server.groups.add_user(tar_grp, user_id)\n",
    "        except:\n",
    "            continue\n",
    "\n",
    "# 팀장/실장/그룹장/부문장/단장/리더/PM/건축PM\n",
    "users_to_alloc = hr[((hr[\"sub\"] != \"정보기술외주\") & (hr[\"job\"]==\"팀장\")) | (hr[\"job\"]==\"실장\") | (hr[\"job\"]==\"그룹장\") | (hr[\"job\"]==\"부문장\") | (hr[\"job\"]==\"단장\") | (hr[\"job\"]==\"리더\") | (hr[\"job\"]==\"PM\") | (hr[\"job\"]==\"건축PM\") | (hr[\"job\"]==\"TFT팀장\")]\n",
    "tar_grp = \"39dc2d08-d291-4534-97d5-b1a6b3b6f67c\"\n",
    "with server.auth.sign_in(tableau_auth):\n",
    "    groups, pagination_item = server.groups.get(req_options=req_opts)\n",
    "    tar_grp = [i for i in groups if i.id == tar_grp][0]\n",
    "    for _, row in users_to_alloc.iterrows():\n",
    "        user_id = all_users.loc[all_users[\"user_name\"]==row[\"num\"], \"user_id\"].tolist()[0]\n",
    "        try:\n",
    "            server.groups.add_user(tar_grp, user_id)\n",
    "        except:\n",
    "            continue\n",
    "        \n",
    "# 소장\n",
    "users_to_alloc = hr[(hr[\"job\"]==\"소장\")]\n",
    "tar_grp = \"05fa4bd0-e1df-4971-bb89-4e39f24782d7\"\n",
    "with server.auth.sign_in(tableau_auth):\n",
    "    groups, pagination_item = server.groups.get(req_options=req_opts)\n",
    "    tar_grp = [i for i in groups if i.id == tar_grp][0]\n",
    "    for _, row in users_to_alloc.iterrows():\n",
    "        user_id = all_users.loc[all_users[\"user_name\"]==row[\"num\"], \"user_id\"].tolist()[0]\n",
    "        try:\n",
    "            server.groups.add_user(tar_grp, user_id)\n",
    "        except:\n",
    "            continue\n",
    "            \n",
    "\n",
    "# 본부장 회의 일반 사용자\n",
    "users_to_alloc = hr[(hr[\"num\"].isin([\"6427\", \"6168\", \"6335\", \"5704\", \"5720\", \"5882\", \"4001380\", \"4100435\", \"6281\", \"4001341\", \"4001360\", \"4001386\", \"5653\", \"6012\", \"6360\", \"6122\", \"5994\", \"6385\", \"6389\"]))]\n",
    "tar_grp = \"0ef096dd-2c99-4473-b80b-855d1c0b29e1\"\n",
    "with server.auth.sign_in(tableau_auth):\n",
    "    groups, pagination_item = server.groups.get(req_options=req_opts)\n",
    "    tar_grp = [i for i in groups if i.id == tar_grp][0]\n",
    "    for _, row in users_to_alloc.iterrows():\n",
    "        user_id = all_users.loc[all_users[\"user_name\"]==row[\"num\"], \"user_id\"].tolist()[0]\n",
    "        try:\n",
    "            server.groups.add_user(tar_grp, user_id)\n",
    "        except:\n",
    "            continue\n",
    "            \n",
    "# 경영 현황 일반 사용자\n",
    "users_to_alloc = hr[(hr[\"num\"].isin([\"6360\", \"6122\", \"5994\", \"6385\", \"6310\", \"6389\"]))]\n",
    "tar_grp = \"91d8104c-e669-4ea2-a5fa-27b6be938858\"\n",
    "with server.auth.sign_in(tableau_auth):\n",
    "    groups, pagination_item = server.groups.get(req_options=req_opts)\n",
    "    tar_grp = [i for i in groups if i.id == tar_grp][0]\n",
    "    for _, row in users_to_alloc.iterrows():\n",
    "        user_id = all_users.loc[all_users[\"user_name\"]==row[\"num\"], \"user_id\"].tolist()[0]\n",
    "        try:\n",
    "            server.groups.add_user(tar_grp, user_id)\n",
    "        except:\n",
    "            continue\n",
    "\n",
    "# HR 현황 일반 사용자\n",
    "users_to_alloc = hr[(hr[\"num\"].isin([\"6119\", \"5555\", \"5653\", \"5835\", \"5898\", \"6331\", \"6119\", \"6262\", \"6283\", \"4100222\", \"6122\", \"6385\", \"6389\"]))]\n",
    "tar_grp = \"1ac1f9c5-d4b9-47d9-8c40-618df8f87f6b\"\n",
    "with server.auth.sign_in(tableau_auth):\n",
    "    groups, pagination_item = server.groups.get(req_options=req_opts)\n",
    "    tar_grp = [i for i in groups if i.id == tar_grp][0]\n",
    "    for _, row in users_to_alloc.iterrows():\n",
    "        user_id = all_users.loc[all_users[\"user_name\"]==row[\"num\"], \"user_id\"].tolist()[0]\n",
    "        try:\n",
    "            server.groups.add_user(tar_grp, user_id)\n",
    "        except:\n",
    "            continue\n",
    "            \n",
    "# 영업 현황 일반 사용자\n",
    "users_to_alloc = hr[(hr[\"num\"].isin([\"5218\", \"6337\", \"4632\", \"6110\", \"6122\", \"5994\", \"6385\", \"6310\", \"6389\"]))]\n",
    "tar_grp = \"0715f81d-9385-4fc8-8c2a-76f8b9481dac\"\n",
    "with server.auth.sign_in(tableau_auth):\n",
    "    groups, pagination_item = server.groups.get(req_options=req_opts)\n",
    "    tar_grp = [i for i in groups if i.id == tar_grp][0]\n",
    "    for _, row in users_to_alloc.iterrows():\n",
    "        user_id = all_users.loc[all_users[\"user_name\"]==row[\"num\"], \"user_id\"].tolist()[0]\n",
    "        try:\n",
    "            server.groups.add_user(tar_grp, user_id)\n",
    "        except:\n",
    "            continue\n",
    "\n",
    "# 현장 현황 일반 사용자\n",
    "users_to_alloc = hr[(hr[\"num\"].isin([\"5947\", \"6353\", \"6360\", \"6122\", \"5994\", \"6385\", \"6310\", \"6389\"]))]\n",
    "tar_grp = \"fcace1dd-cfa8-4f64-8b20-803c739e1e3c\"\n",
    "with server.auth.sign_in(tableau_auth):\n",
    "    groups, pagination_item = server.groups.get(req_options=req_opts)\n",
    "    tar_grp = [i for i in groups if i.id == tar_grp][0]\n",
    "    for _, row in users_to_alloc.iterrows():\n",
    "        user_id = all_users.loc[all_users[\"user_name\"]==row[\"num\"], \"user_id\"].tolist()[0]\n",
    "        try:\n",
    "            server.groups.add_user(tar_grp, user_id)\n",
    "        except:\n",
    "            continue\n",
    "            \n",
    "# 관리자\n",
    "users_to_alloc = hr[(hr[\"num\"].isin([\"6363\", \"5899\", \"5947\"]))]\n",
    "tar_grp = \"6e2fc4f0-46f2-4114-8b25-341b38af9f7d\"\n",
    "with server.auth.sign_in(tableau_auth):\n",
    "    groups, pagination_item = server.groups.get(req_options=req_opts)\n",
    "    tar_grp = [i for i in groups if i.id == tar_grp][0]\n",
    "    for _, row in users_to_alloc.iterrows():\n",
    "        user_id = all_users.loc[all_users[\"user_name\"]==row[\"num\"], \"user_id\"].tolist()[0]\n",
    "        try:\n",
    "            server.groups.add_user(tar_grp, user_id)\n",
    "        except:\n",
    "            continue\n",
    "            \n",
    "print(\"All completed!\")"
   ]
  },
  {
   "cell_type": "code",
   "execution_count": 20,
   "metadata": {
    "ExecuteTime": {
     "end_time": "2021-08-18T01:54:34.946941Z",
     "start_time": "2021-08-18T01:54:34.942973Z"
    }
   },
   "outputs": [],
   "source": [
    "# # user_workbook\n",
    "# with server.auth.sign_in(tableau_auth):\n",
    "#     user = server.users.get_by_id(\"b71d75c3-a34c-4dc5-a92b-de46dc681212\")\n",
    "#     server.users.populate_workbooks(user)\n",
    "#     for workbook in user.workbooks:\n",
    "#         if workbook.project_name==\"HDC현대산업개발\":\n",
    "#             print(workbook.name)"
   ]
  },
  {
   "cell_type": "markdown",
   "metadata": {},
   "source": [
    "# Modify User Information"
   ]
  },
  {
   "cell_type": "code",
   "execution_count": 14,
   "metadata": {
    "ExecuteTime": {
     "end_time": "2021-11-02T08:43:35.803954Z",
     "start_time": "2021-11-02T08:43:16.435794Z"
    }
   },
   "outputs": [
    {
     "name": "stdout",
     "output_type": "stream",
     "text": [
      "63721ecb-87f7-4565-83a2-94a12c583fd3 5947\n",
      "61953d10-634d-473e-8618-e2109f55d0f3 4100435\n",
      "905bc16c-1ff8-46b4-b454-7d42503905ce 3911\n",
      "48907c52-0121-427f-adc3-b811e5e433fd 5421\n",
      "259bb107-9312-4416-b131-e03f545866a4 5720\n",
      "da7d953c-a162-4571-b7a1-aab14df76b8c 2912\n",
      "8b973f9b-e7e4-488e-a196-ffd68f4a7b4a 3109\n",
      "4be0790e-543c-460e-863a-3c77f8dfec24 3755\n",
      "f41f9bdd-16eb-4917-9102-3f229772e68c 3817\n",
      "2a0abc3b-5674-48ed-a4d4-4f642edfc650 5704\n",
      "f297d47f-e950-4bf5-b2d1-ea2cfb6bbcbc 4187\n",
      "8a1cb6fc-dd6e-4a2b-92c1-7f8cf88a88a1 5011\n",
      "215ff929-136d-48bd-8d24-17fa2e734441 5820\n",
      "cc8ba237-2fdf-4df6-9c46-dab270be95fb 5769\n",
      "efb6e5cf-0235-4ba3-a937-51d9776cbe2b 4398\n",
      "0e4c38ab-1484-4dbd-9b76-870175def153 3010\n",
      "4e4b3693-ec7e-4af3-8647-afcf77c6264f 6379\n",
      "2ae792ef-328a-4176-8da3-41a34dafd920 5207\n",
      "be4c3da0-fb7c-4dab-9fe7-8564160ed775 3904\n",
      "d473b11d-817a-4ab6-9c8f-9ee52a06c75a 6400\n",
      "0d16e7d1-4586-40db-9a7c-373a93a48462 6415\n",
      "255a3d86-4fb7-4bc3-8c72-863de5e74cc6 6459\n",
      "12676a06-8eac-43d7-85b1-ff4dd92159e5 6442\n",
      "041b8e1f-47aa-4343-bfcd-f9c94b724086 6253\n",
      "fb6c129f-dd74-435d-8bf2-23fabafab3b6 6453\n",
      "5c3ac9e1-81ed-44c3-b354-5579351c635a 5381\n",
      "cc720c21-c39a-439a-86fb-db0822c17c4b 6377\n",
      "9768e4d3-7b86-4d88-8ecc-85c9a051caf4 5707\n",
      "1b9d4a5c-ddfb-4aff-9797-f9c709b7cae0 6084\n",
      "286a1afa-55f8-4767-94c3-c5445368b83e 6161\n",
      "bfc148c5-541a-4833-b201-008884a369ec 4001341\n",
      "125ccd7e-3b5e-4558-8376-9f8b08f19e55 4001360\n",
      "cc87e00c-4fc6-47e7-82ec-1276be2e9932 4001386\n",
      "b05815f2-f049-47c1-9e26-adceb4c519cb 5934\n",
      "c25ff91e-1583-444e-9ee7-fe79749240a4 4001380\n",
      "a7307055-c93b-4c7c-8117-433f4985d313 3684\n",
      "8c2b2c5a-d407-47bc-ab65-ce309da2fc85 4009\n",
      "19441ef2-22a9-4d90-913d-1d02d9f99431 4540\n",
      "6b96efd4-ea4a-42c6-b6ff-c6574390e41c 4826\n",
      "f868479c-f1e3-44da-a6c7-9c561f185057 3872\n",
      "b209b286-b19b-4674-876c-b1208025c002 4057\n",
      "2e93b6cc-0eaa-46b8-b56c-3b3daf01f230 4080\n",
      "3d6734d2-131e-4049-ad04-858ed3e3aa62 3768\n",
      "238d4be9-44e2-40de-8f9e-cb04379e4cb4 3513\n",
      "4226d842-1836-4c68-8075-86f45b4fa8a6 4491\n",
      "34fb7f9e-7f79-4cb7-b4f0-282fdcff1cbe 4923\n",
      "9a6c33b9-2595-432f-a854-4e2c19569529 4063\n",
      "fbd40de0-59e5-458f-b7c1-4396bce605b0 4968\n",
      "4b319072-0845-493b-883f-9cd19a9bff97 3991\n",
      "6ca43c26-7e99-4fab-b7fd-fc792a55d9ed 4599\n",
      "cdf5c561-6973-4ac0-9a87-8b2c5489d46b 4136\n",
      "7bafe62a-f945-4eeb-8105-fe857808bd14 3702\n",
      "572f67c0-c43d-48b0-9779-33650039c5b9 3766\n",
      "1230ae91-7f20-4fda-825d-98cab7199d2e 3946\n",
      "7d50b7d0-b81c-4e0f-a2cd-618a91ad8577 4828\n",
      "88b71577-2270-46b3-bb15-21444da9dce0 3807\n",
      "b734aebf-2290-449c-9de1-61955d98652e 3797\n",
      "389878e3-f331-426a-af35-ef84435c8bbe 4482\n",
      "c04fdfae-6f5f-4629-8122-f9890e1654fc 4825\n",
      "df117186-9019-4ba0-bfb8-65a7c6489ba8 5273\n",
      "e01310ec-e062-4403-8b3c-9af0f617312c 3369\n",
      "a0a9e831-ac68-427c-94e4-a3ad94d0b08c 4402\n",
      "0f2273d5-df6a-4e59-a7c5-35544eda77e1 3753\n",
      "0ed60660-4e88-4f94-88ab-588a4f9a36d9 4902\n",
      "c65919bc-e963-434e-a835-40732bcb1bfd 4007\n",
      "4b063ea1-bbec-4225-b9d4-96d9516ef613 4192\n",
      "5d6ecc82-6e8e-493b-aebb-c05177b5a7f8 4987\n",
      "ff917e35-86ff-4cc1-baa6-fb75d977a674 3549\n",
      "c10198a3-3d1c-4166-9ebe-941289d6cce4 3945\n",
      "fb1cef5d-878d-4ead-b19d-55f205217f1a 4425\n",
      "8f00e638-6f50-4748-bb7e-1d13597714dd 4325\n",
      "e72a4743-bbb0-45b4-85c1-2885b05281ca 4931\n",
      "895491aa-3df8-4cd7-a1a9-5df22f4938ec 3362\n",
      "d8a40931-f7d9-4213-8a24-a75bdd445b70 4198\n",
      "6e3ae5e7-27ef-4aae-b0a4-e62e07fe9cc5 3990\n",
      "1daffd3c-f4b5-4aa4-afc5-bdaf5da5278d 4404\n",
      "4b537bcd-eae2-4a41-88d3-1faa5952e952 4353\n",
      "824db724-d497-4bde-8221-d64483c33db5 3805\n",
      "ae94f7bf-f400-40f9-93bb-d614e4ac7c1f 3767\n",
      "30652d4d-535a-4c40-be69-d5f1b4941a77 3809\n",
      "fa42e1e9-1046-43a9-b5e3-7c200978694e 5430\n",
      "e77e13f6-b7f6-43fb-9211-8a6398510086 4054\n",
      "f54be799-c515-45e5-844d-c0c8ac480ce6 4544\n",
      "c87e8413-67a7-47e7-92d5-a0f420178ee1 4283\n",
      "8d834256-4696-465a-953e-c03a892ca11c 4354\n",
      "4443abc5-9b9c-49cc-a95d-6cfe90ca7b64 3815\n",
      "33c7e91c-e5f7-4ded-acf0-960f426cff45 4064\n",
      "0cb8e747-88fe-4417-a314-c4679f183fd2 4877\n",
      "869c5f86-bba2-45d5-adc3-3fdf58bca33f 4581\n",
      "20f73b43-8f92-4513-b1e7-330345b18f13 5355\n",
      "1d490396-310a-4a93-8c02-78cc05f0cc26 4351\n",
      "283b690f-1f46-487c-a5ee-844ba9397d9b 4724\n",
      "a24b9168-837a-482b-8d5d-e30f11d0e0bb 3812\n",
      "877a1f77-cd43-445b-aa35-adb30e14c780 3950\n",
      "4b094cbc-08f3-4870-96c3-fdb0dd08fefa 4900\n",
      "01bd6ad7-6ea5-47a9-867d-58737520e60f 4598\n",
      "af93bf3f-a0dc-416a-a0d5-9932b5e5a141 5002\n",
      "7635461f-871a-4124-99ec-b8b7fda19ad8 4824\n",
      "5f471ecf-f252-43f1-8ba6-58876aca34a2 3138\n",
      "e29ebdde-e6ab-4562-a777-f0e118e94bd2 3483\n",
      "f3a45aed-429d-4062-ad85-a03080031c1b 3919\n",
      "004d51c0-9d49-4c25-a694-42e20ff99b2a 4053\n",
      "0407cc78-c586-4bb8-bacc-87aac4b8ac3f 1101259\n",
      "940e4506-b186-4380-bbd4-fbb6bd0b2a4d 1101266\n",
      "60a65330-90ff-49c0-9f08-fb9ec51a155f 5029\n",
      "9a7acbd2-69fc-4f75-80fe-ca35738e7bdb 6119\n",
      "75d8b4b9-c40a-4f80-b0c2-9175e41e367f 5218\n",
      "e37f8f54-d5a2-48f5-8510-3fe1137ad27e 6110\n",
      "e7bf1c9f-612e-4d0e-8cb1-3b361eb654a3 4632\n",
      "38d14ba4-0c57-45cf-8dd9-67cefda80af2 5308\n",
      "44c50d8a-152e-47c5-b11a-6883a622b8e1 5104\n",
      "0a364380-b389-4a01-b388-71993579f899 5882\n",
      "95352767-5ff8-422b-9972-6295cb84098b 5892\n",
      "fda2febc-72f3-4571-bfdb-3e28c6171e54 6168\n",
      "bb79671f-440e-4c70-b1ff-6c7cd20e0795 6335\n",
      "1461d697-855e-4bff-aef9-0b3a05f5da4b 6353\n",
      "0e8b3e48-dd4a-4324-96be-9b3393211358 6284\n",
      "f301a20f-c0eb-4e71-a817-c208c32111c5 6337\n",
      "28dd47c0-b11e-4db6-953f-77d50bd41707 6281\n",
      "318c3324-485d-44cd-abee-7ca10182f403 6427\n",
      "16da6963-f895-4878-a3dd-6463ad544df4 4865\n",
      "fd9568ab-3eb1-415d-93d6-0ffffa8f77e4 4116\n",
      "574b4a0d-c7d8-4c60-9734-6cb206850297 5408\n",
      "3d87c49a-4c66-4d5a-9528-eeb8226dae78 4154\n",
      "b1c304e6-ffc1-4fbd-a3d5-3f4ff3a422eb 6446\n",
      "474a0ed2-88a2-4b76-8cb6-01c35ccaccd1 3449\n",
      "44f39c1f-2d7a-4865-a153-38f2e6e67156 5969\n",
      "264d0bb5-d8f6-47c5-8f33-e04b7cea7839 6467\n",
      "2593fe44-cea9-4d88-bb4a-0aeb264d3027 5212\n",
      "63c7beed-3a78-4586-9d9a-9ecbefa2f946 6241\n",
      "ec65b69f-02ce-4253-9b57-90ec38623e31 5838\n",
      "72cd233c-0502-40b6-87e4-27552f66a693 5560\n",
      "00a058a2-ab45-40fd-b613-ffabfe891c8f 5530\n",
      "e13541af-2684-4433-bc3f-d62ac9978e4b 6225\n",
      "14477538-b2e7-4ab5-91f3-055a3943cea5 6148\n",
      "f77e1c88-338b-4759-9557-f309d0b4f0b1 3881\n",
      "c20b5340-8e94-4720-b2fc-b60e5e70e8fc 4628\n",
      "75134a08-2b74-49aa-91e2-2a89df2cbba6 4793\n",
      "37eef876-a056-41fe-a1fe-bcedc822bce4 5599\n",
      "3642fbbf-3442-4a15-81c7-13750563aad4 5047\n",
      "24176fbf-15a2-4fd2-ad1b-ea31c2679a75 5806\n",
      "5ec97be5-21d1-4c68-8a2d-0e85c824607d 3974\n",
      "80f71547-3ec8-4d77-b21d-26c6bbd0b91f 4114\n",
      "e70c5f87-1f3c-48a0-a7f8-1d0b937cee2b 5018\n",
      "43640744-f747-4624-9400-ce882e809f16 4587\n",
      "89416a89-5bfe-4001-9f52-fb86d461397c 5208\n",
      "34236fc1-8c9a-469f-9757-df6f4a894833 4610\n",
      "3665bc51-2f26-4d7f-9ce6-57145991d2d5 4785\n",
      "785bc982-78d2-43fe-89d1-7e3b7b9a8a81 6460\n",
      "0d4fee9c-df67-4a1f-b25e-428969ab2eaa 6376\n",
      "c207185d-29d4-408f-9158-d35282fc6776 6414\n",
      "23f5bf8b-cebc-4cfe-be05-415452c5b6b1 5555\n",
      "2e0e5ada-6a55-47d5-bb19-d69dc5655043 5634\n",
      "30614cf9-84f5-4c4a-ab05-1ca3fab49f7b 6443\n",
      "23b432d5-cde2-48a2-bf78-52967822370d 0001\n",
      "63384010-11f2-4e7d-adb4-32b6e3db6238 common\n",
      "147b24ac-782e-4a7d-b4bc-5e238ce0072e 6297\n",
      "c3aa74be-7032-49be-94df-b4a82fdbcb83 6447\n",
      "6ec48777-3ea3-4c39-9b56-bd810253368e 6403\n",
      "fd62ca21-85e8-4d59-a382-84a6242a17e7 1101291\n",
      "1a32e176-702f-4f62-aca9-44e9ce999d75 6012\n",
      "ff486399-7caf-4ddd-a107-62eb9e66fec8 5653\n",
      "b112c84f-7450-4461-a933-ce167a310848 6032\n",
      "c32d0c7d-b257-483c-b286-91f7423f0629 6294\n",
      "c59d9b1a-e414-4014-bede-adc796539fef 6111\n",
      "339e7186-fdf5-46ad-b452-632eab13ade3 6331\n",
      "1e7e91c1-35ed-4aea-b233-ab32eb92eb9d 5835\n",
      "def6a9f7-7aca-4868-b7aa-6158252f5881 5898\n",
      "4e7e6b53-c44e-40a4-872f-fa015502240e 6262\n",
      "3aceb228-da8a-4810-85bd-920776f67070 6283\n",
      "44b8e004-76f5-47d4-a46b-8f993e0fd53f 4100222\n",
      "8ee82cd0-4667-4418-b304-3c5a5a73e6e0 6406\n",
      "42988ed3-6c96-450a-a466-ae75d8cd1bee 4686\n",
      "All Completed!\n"
     ]
    }
   ],
   "source": [
    "# all_users.csv\n",
    "with server.auth.sign_in(tableau_auth):\n",
    "    all_users, pagination_item = server.users.get(req_options=req_opts)\n",
    "all_users = [(user.id, user.name, user.fullname, user.site_role) + empls[user.name] if user.name in empls.keys() else (user.id, user.name, user.fullname, user.site_role, None, None, None, None) for user in all_users]\n",
    "all_users = pd.DataFrame(all_users, columns=[\"user_id\", \"user_name\", \"user_fnm\", \"site_role\", \"hq\", \"dep\", \"job\", \"name\"])\n",
    "\n",
    "for _, row in all_users.iterrows():\n",
    "    with server.auth.sign_in(tableau_auth):\n",
    "        if row[\"user_name\"] not in [\"5899\", \"6363\", \"admin\"]:\n",
    "            print(row[\"user_id\"], row[\"user_name\"])\n",
    "            user = server.users.get_by_id(row[\"user_id\"])\n",
    "#             user = server.users.update(user, password=\"secretpassword\")\n",
    "print(\"All Completed!\")"
   ]
  },
  {
   "cell_type": "markdown",
   "metadata": {},
   "source": [
    "# Remove Users"
   ]
  },
  {
   "cell_type": "code",
   "execution_count": 74,
   "metadata": {
    "ExecuteTime": {
     "end_time": "2021-09-14T06:10:54.645023Z",
     "start_time": "2021-09-14T06:10:54.370753Z"
    }
   },
   "outputs": [
    {
     "name": "stdout",
     "output_type": "stream",
     "text": [
      "Completed!\n"
     ]
    }
   ],
   "source": [
    "user_id = \"c63d33fe-e955-4765-94d4-f83f2001b1c0\"\n",
    "with server.auth.sign_in(tableau_auth):\n",
    "    server.users.remove(user_id)\n",
    "print(\"Completed!\")"
   ]
  }
 ],
 "metadata": {
  "hide_input": false,
  "kernelspec": {
   "display_name": "Python 3",
   "language": "python",
   "name": "python3"
  },
  "language_info": {
   "codemirror_mode": {
    "name": "ipython",
    "version": 3
   },
   "file_extension": ".py",
   "mimetype": "text/x-python",
   "name": "python",
   "nbconvert_exporter": "python",
   "pygments_lexer": "ipython3",
   "version": "3.7.7"
  },
  "toc": {
   "base_numbering": 1,
   "nav_menu": {},
   "number_sections": true,
   "sideBar": true,
   "skip_h1_title": false,
   "title_cell": "Table of Contents",
   "title_sidebar": "Contents",
   "toc_cell": false,
   "toc_position": {},
   "toc_section_display": true,
   "toc_window_display": false
  },
  "varInspector": {
   "cols": {
    "lenName": 16,
    "lenType": 16,
    "lenVar": 40
   },
   "kernels_config": {
    "python": {
     "delete_cmd_postfix": "",
     "delete_cmd_prefix": "del ",
     "library": "var_list.py",
     "varRefreshCmd": "print(var_dic_list())"
    },
    "r": {
     "delete_cmd_postfix": ") ",
     "delete_cmd_prefix": "rm(",
     "library": "var_list.r",
     "varRefreshCmd": "cat(var_dic_list()) "
    }
   },
   "types_to_exclude": [
    "module",
    "function",
    "builtin_function_or_method",
    "instance",
    "_Feature"
   ],
   "window_display": false
  }
 },
 "nbformat": 4,
 "nbformat_minor": 4
}
