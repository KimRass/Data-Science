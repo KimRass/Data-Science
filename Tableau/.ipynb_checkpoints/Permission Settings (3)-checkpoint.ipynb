{
 "cells": [
  {
   "cell_type": "markdown",
   "metadata": {},
   "source": [
    "- Source: https://tableau.github.io/server-client-python/docs/api-ref\n",
    "- \"HDC현대산업개발\": \"2a21240d-3f53-4f02-944d-b01647c3dd51\""
   ]
  },
  {
   "cell_type": "code",
   "execution_count": 1,
   "metadata": {
    "ExecuteTime": {
     "end_time": "2021-08-17T08:36:07.351534Z",
     "start_time": "2021-08-17T08:36:05.521108Z"
    }
   },
   "outputs": [],
   "source": [
    "import tableauserverclient as TSC\n",
    "import pandas as pd\n",
    "import numpy as np\n",
    "import pickle as pk\n",
    "\n",
    "pd.set_option(\"display.max_rows\", None)"
   ]
  },
  {
   "cell_type": "code",
   "execution_count": 2,
   "metadata": {
    "ExecuteTime": {
     "end_time": "2021-08-17T08:36:07.852126Z",
     "start_time": "2021-08-17T08:36:07.351534Z"
    }
   },
   "outputs": [],
   "source": [
    "hr = pd.read_excel(\"D:/Github/Work/Tableau/직원 명단_조직 기준_210731.xlsx\")\n",
    "hr[\"성명\"] = hr[\"성명\"].apply(lambda x:x.replace(\" \", \"\"))\n",
    "hr = hr[[\"사번\", \"EMAIL\", \"본부명(조직단위기준)\", \"조직명\", \"하위그룹\", \"직무\", \"직급\", \"성명\"]]\n",
    "hr = hr.rename({\"사번\":\"num\", \"EMAIL\":\"email\", \"본부명(조직단위기준)\":\"hq\", \"조직명\":\"dep\", \"하위그룹\":\"sub\", \"직무\":\"job\", \"직급\":\"rank\", \"성명\":\"name\"}, axis=1)\n",
    "hr = hr.sort_values(by=[\"job\", \"rank\", \"hq\", \"dep\"], axis=0)\n",
    "hr[\"num\"] = hr[\"num\"].map(str)\n",
    "\n",
    "hr.loc[hr[\"num\"] == \"1\", \"num\"] = \"0001\""
   ]
  },
  {
   "cell_type": "code",
   "execution_count": 3,
   "metadata": {
    "ExecuteTime": {
     "end_time": "2021-08-17T08:36:08.019655Z",
     "start_time": "2021-08-17T08:36:07.852126Z"
    }
   },
   "outputs": [],
   "source": [
    "empls = {str(row[\"num\"]):(row[\"hq\"], row[\"dep\"], row[\"job\"], row[\"name\"]) for _, row in hr.iterrows()}\n",
    "\n",
    "req_opts = TSC.RequestOptions(pagesize=1000)"
   ]
  },
  {
   "cell_type": "markdown",
   "metadata": {},
   "source": [
    "# SIgn In"
   ]
  },
  {
   "cell_type": "code",
   "execution_count": 4,
   "metadata": {
    "ExecuteTime": {
     "end_time": "2021-08-17T08:36:09.472750Z",
     "start_time": "2021-08-17T08:36:09.214006Z"
    }
   },
   "outputs": [],
   "source": [
    "with open(\"D:/Github/Work/Tableau/6363_Token.pkl\", \"rb\") as f:\n",
    "    token = pk.load(f)\n",
    "tableau_auth = TSC.PersonalAccessTokenAuth(\"6363_Token\", token)\n",
    "server = TSC.Server(\"http://218.153.56.75/\", use_server_version=True)"
   ]
  },
  {
   "cell_type": "markdown",
   "metadata": {},
   "source": [
    "# Create Fundamental Datasets"
   ]
  },
  {
   "cell_type": "code",
   "execution_count": 20,
   "metadata": {
    "ExecuteTime": {
     "end_time": "2021-08-17T08:44:26.865201Z",
     "start_time": "2021-08-17T08:44:14.573598Z"
    },
    "scrolled": true
   },
   "outputs": [
    {
     "name": "stdout",
     "output_type": "stream",
     "text": [
      "Completed!\n"
     ]
    },
    {
     "name": "stderr",
     "output_type": "stream",
     "text": [
      "C:\\Users\\00006363\\Anaconda3\\envs\\tf2.3\\lib\\site-packages\\ipykernel_launcher.py:53: SettingWithCopyWarning: \n",
      "A value is trying to be set on a copy of a slice from a DataFrame.\n",
      "Try using .loc[row_indexer,col_indexer] = value instead\n",
      "\n",
      "See the caveats in the documentation: https://pandas.pydata.org/pandas-docs/stable/user_guide/indexing.html#returning-a-view-versus-a-copy\n"
     ]
    }
   ],
   "source": [
    "# all_users.csv\n",
    "with server.auth.sign_in(tableau_auth):\n",
    "    all_users, pagination_item = server.users.get(req_options=req_opts)\n",
    "all_users = [(user.id, user.name, user.fullname, user.site_role) + empls[user.name] if user.name in empls.keys() else (user.id, user.name, user.fullname, user.site_role, None, None, None, None) for user in all_users]\n",
    "all_users = pd.DataFrame(all_users, columns=[\"user_id\", \"user_name\", \"user_fullname\", \"site_role\", \"hq\", \"dep\", \"job\", \"name\"])\n",
    "\n",
    "all_users.to_csv(\"D:/Github/Work/Tableau/all_users.csv\", index=False, encoding=\"euc-kr\")\n",
    "\n",
    "# all_groups.csv\n",
    "with server.auth.sign_in(tableau_auth):\n",
    "    all_groups, pagination_item = server.groups.get(req_options=req_opts)\n",
    "all_groups = [(group.name, group.id) for group in all_groups]\n",
    "all_groups = pd.DataFrame(all_groups, columns=[\"group\", \"group_id\"])\n",
    "\n",
    "all_groups.to_csv(\"D:/Github/Work/Tableau/all_groups.csv\", index=False, encoding=\"euc-kr\")\n",
    "\n",
    "# user_group.csv\n",
    "user_group = list()\n",
    "with server.auth.sign_in(tableau_auth):\n",
    "    users, pagination_item = server.users.get(req_options=req_opts)\n",
    "    for user in users:\n",
    "        pagination_item = server.users.populate_groups(user, req_options=req_opts)\n",
    "        user_group.extend([(user.id, user.name, user.fullname, user.site_role) + empls[user.name] + (group.name,) if user.name in empls.keys() else (user.id, user.name, user.fullname, user.site_role, None, None, None, None, group.name) for group in user.groups if group.name != \"All Users\"])\n",
    "user_group = pd.DataFrame(user_group, columns=[\"user_id\", \"user_name\", \"user_fullname\", \"site_role\", \"hq\", \"dep\", \"job\", \"name\", \"group\"])\n",
    "\n",
    "user_group.to_csv(\"D:/Github/Work/Tableau/user_group.csv\", index=False, encoding=\"euc-kr\")\n",
    "\n",
    "# group_user.csv\n",
    "group_user = list()\n",
    "with server.auth.sign_in(tableau_auth):\n",
    "    groups, pagination_item = server.groups.get(req_options=req_opts)\n",
    "    for group in groups[1:]:\n",
    "        pagination_item = server.groups.populate_users(group, req_options=req_opts)\n",
    "        group_user.extend([(group.name,) + empls[user.name] + (user.site_role,) if user.name in empls.keys() else (group.name, None, None, None, user.name, user.site_role) for user in group.users])\n",
    "\n",
    "group_user = pd.DataFrame(group_user, columns=[\"group\", \"hq\", \"dep\", \"job\", \"name\", \"site_role\"])\n",
    "\n",
    "group_user.to_csv(\"D:/Github/Work/Tableau/group_user.csv\", index=False, encoding=\"euc-kr\")\n",
    "\n",
    "# user_workbook\n",
    "user_wb = list()\n",
    "with server.auth.sign_in(tableau_auth):\n",
    "    users, pagination_item = server.users.get(req_options=req_opts)\n",
    "    for user in users:\n",
    "        pagination_item = server.users.populate_workbooks(user, req_options=req_opts)\n",
    "        user_wb.extend([(user.id, user.name, user.fullname, user.site_role) + empls[user.name] + (wb.name,) if user.name in empls.keys() else (user.id, user.name, user.fullname, user.site_role, None, None, None, None, wb.name) for wb in user.workbooks if wb.project_name == \"HDC현대산업개발\"])\n",
    "user_wb = pd.DataFrame(user_wb, columns=[\"user_id\", \"user_name\", \"user_fullname\", \"site_role\", \"hq\", \"dep\", \"job\", \"name\", \"wb\"])\n",
    "\n",
    "user_wb.to_csv(\"D:/Github/Work/Tableau/user_wb.csv\", index=False, encoding=\"euc-kr\")\n",
    "\n",
    "# have_account\n",
    "have_account = hr[[\"num\", \"hq\", \"dep\", \"name\", \"sub\", \"job\", \"rank\", \"have_acc\"]]\n",
    "have_account[\"have_acc\"] = have_account[\"num\"].apply(lambda x:True if str(x) in all_users[\"user_name\"].tolist() else False)\n",
    "have_account.to_csv(\"D:/Github/Work/Tableau/have_account.csv\", index=False, encoding=\"euc-kr\")\n",
    "\n",
    "print(\"Completed!\")"
   ]
  },
  {
   "cell_type": "code",
   "execution_count": 25,
   "metadata": {
    "ExecuteTime": {
     "end_time": "2021-08-17T08:51:25.591452Z",
     "start_time": "2021-08-17T08:51:25.567517Z"
    }
   },
   "outputs": [
    {
     "data": {
      "text/html": [
       "<div>\n",
       "<style scoped>\n",
       "    .dataframe tbody tr th:only-of-type {\n",
       "        vertical-align: middle;\n",
       "    }\n",
       "\n",
       "    .dataframe tbody tr th {\n",
       "        vertical-align: top;\n",
       "    }\n",
       "\n",
       "    .dataframe thead th {\n",
       "        text-align: right;\n",
       "    }\n",
       "</style>\n",
       "<table border=\"1\" class=\"dataframe\">\n",
       "  <thead>\n",
       "    <tr style=\"text-align: right;\">\n",
       "      <th></th>\n",
       "      <th>num</th>\n",
       "      <th>hq</th>\n",
       "      <th>dep</th>\n",
       "      <th>name</th>\n",
       "      <th>sub</th>\n",
       "      <th>job</th>\n",
       "      <th>rank</th>\n",
       "      <th>have_acc</th>\n",
       "    </tr>\n",
       "  </thead>\n",
       "  <tbody>\n",
       "    <tr>\n",
       "      <th>121</th>\n",
       "      <td>3946</td>\n",
       "      <td>건설본부</td>\n",
       "      <td>경기광주송정지구공동주택</td>\n",
       "      <td>류강선</td>\n",
       "      <td>일반직</td>\n",
       "      <td>소장</td>\n",
       "      <td>2급</td>\n",
       "      <td>False</td>\n",
       "    </tr>\n",
       "    <tr>\n",
       "      <th>80</th>\n",
       "      <td>3702</td>\n",
       "      <td>건설본부</td>\n",
       "      <td>광주운암3단지</td>\n",
       "      <td>장봉준</td>\n",
       "      <td>일반직</td>\n",
       "      <td>소장</td>\n",
       "      <td>2급</td>\n",
       "      <td>False</td>\n",
       "    </tr>\n",
       "    <tr>\n",
       "      <th>90</th>\n",
       "      <td>3766</td>\n",
       "      <td>건설본부</td>\n",
       "      <td>광주학동4구역</td>\n",
       "      <td>유신재</td>\n",
       "      <td>일반직</td>\n",
       "      <td>소장</td>\n",
       "      <td>2급</td>\n",
       "      <td>False</td>\n",
       "    </tr>\n",
       "    <tr>\n",
       "      <th>409</th>\n",
       "      <td>5273</td>\n",
       "      <td>건설본부</td>\n",
       "      <td>대구침산동주상복합</td>\n",
       "      <td>박준용</td>\n",
       "      <td>일반직</td>\n",
       "      <td>소장</td>\n",
       "      <td>2급</td>\n",
       "      <td>False</td>\n",
       "    </tr>\n",
       "    <tr>\n",
       "      <th>85</th>\n",
       "      <td>3753</td>\n",
       "      <td>건설본부</td>\n",
       "      <td>마곡R&amp;D센터</td>\n",
       "      <td>성동석</td>\n",
       "      <td>일반직</td>\n",
       "      <td>소장</td>\n",
       "      <td>2급</td>\n",
       "      <td>False</td>\n",
       "    </tr>\n",
       "    <tr>\n",
       "      <th>428</th>\n",
       "      <td>5430</td>\n",
       "      <td>건설본부</td>\n",
       "      <td>안성가유지구물류센터</td>\n",
       "      <td>오형석</td>\n",
       "      <td>일반직</td>\n",
       "      <td>소장</td>\n",
       "      <td>2급</td>\n",
       "      <td>False</td>\n",
       "    </tr>\n",
       "    <tr>\n",
       "      <th>196</th>\n",
       "      <td>4351</td>\n",
       "      <td>건설본부</td>\n",
       "      <td>인천신항항만배후단지</td>\n",
       "      <td>김동욱</td>\n",
       "      <td>일반직</td>\n",
       "      <td>소장</td>\n",
       "      <td>2급</td>\n",
       "      <td>False</td>\n",
       "    </tr>\n",
       "    <tr>\n",
       "      <th>269</th>\n",
       "      <td>4724</td>\n",
       "      <td>건설본부</td>\n",
       "      <td>인천청라지구오피스텔</td>\n",
       "      <td>이천우</td>\n",
       "      <td>일반직</td>\n",
       "      <td>소장</td>\n",
       "      <td>2급</td>\n",
       "      <td>False</td>\n",
       "    </tr>\n",
       "    <tr>\n",
       "      <th>354</th>\n",
       "      <td>5002</td>\n",
       "      <td>건설본부</td>\n",
       "      <td>춘천삼천동공동주택</td>\n",
       "      <td>김기호</td>\n",
       "      <td>일반직</td>\n",
       "      <td>소장</td>\n",
       "      <td>2급</td>\n",
       "      <td>False</td>\n",
       "    </tr>\n",
       "    <tr>\n",
       "      <th>285</th>\n",
       "      <td>4824</td>\n",
       "      <td>건설본부</td>\n",
       "      <td>탄방동1(숭어리샘)주택재건축</td>\n",
       "      <td>문병재</td>\n",
       "      <td>일반직</td>\n",
       "      <td>소장</td>\n",
       "      <td>2급</td>\n",
       "      <td>False</td>\n",
       "    </tr>\n",
       "    <tr>\n",
       "      <th>25</th>\n",
       "      <td>3138</td>\n",
       "      <td>건설본부</td>\n",
       "      <td>포항아이파크</td>\n",
       "      <td>엄성용</td>\n",
       "      <td>일반직</td>\n",
       "      <td>소장</td>\n",
       "      <td>2급</td>\n",
       "      <td>False</td>\n",
       "    </tr>\n",
       "    <tr>\n",
       "      <th>116</th>\n",
       "      <td>3919</td>\n",
       "      <td>건설본부</td>\n",
       "      <td>홍은13구역재개발</td>\n",
       "      <td>이용상</td>\n",
       "      <td>일반직</td>\n",
       "      <td>소장</td>\n",
       "      <td>2급</td>\n",
       "      <td>False</td>\n",
       "    </tr>\n",
       "    <tr>\n",
       "      <th>250</th>\n",
       "      <td>4599</td>\n",
       "      <td>NaN</td>\n",
       "      <td>광운대역세권도시개발사업단지조성공사</td>\n",
       "      <td>윤태원</td>\n",
       "      <td>일반직</td>\n",
       "      <td>소장</td>\n",
       "      <td>2급</td>\n",
       "      <td>False</td>\n",
       "    </tr>\n",
       "    <tr>\n",
       "      <th>48</th>\n",
       "      <td>3369</td>\n",
       "      <td>NaN</td>\n",
       "      <td>대전도안준주거오피스텔</td>\n",
       "      <td>윤홍중</td>\n",
       "      <td>일반직</td>\n",
       "      <td>소장</td>\n",
       "      <td>2급</td>\n",
       "      <td>False</td>\n",
       "    </tr>\n",
       "    <tr>\n",
       "      <th>987</th>\n",
       "      <td>1101259</td>\n",
       "      <td>건설본부</td>\n",
       "      <td>고척IPARK</td>\n",
       "      <td>김일수</td>\n",
       "      <td>촉탁직</td>\n",
       "      <td>소장</td>\n",
       "      <td>계약직</td>\n",
       "      <td>False</td>\n",
       "    </tr>\n",
       "    <tr>\n",
       "      <th>994</th>\n",
       "      <td>1101266</td>\n",
       "      <td>건설본부</td>\n",
       "      <td>꿈의숲IPARK</td>\n",
       "      <td>박호종</td>\n",
       "      <td>계약직</td>\n",
       "      <td>소장</td>\n",
       "      <td>계약직자문</td>\n",
       "      <td>False</td>\n",
       "    </tr>\n",
       "    <tr>\n",
       "      <th>254</th>\n",
       "      <td>4628</td>\n",
       "      <td>개발영업본부</td>\n",
       "      <td>용현학익1블록도시개발사업단</td>\n",
       "      <td>심재병</td>\n",
       "      <td>일반직</td>\n",
       "      <td>팀장</td>\n",
       "      <td>2급</td>\n",
       "      <td>False</td>\n",
       "    </tr>\n",
       "  </tbody>\n",
       "</table>\n",
       "</div>"
      ],
      "text/plain": [
       "         num      hq                 dep name  sub job   rank  have_acc\n",
       "121     3946    건설본부        경기광주송정지구공동주택  류강선  일반직  소장     2급     False\n",
       "80      3702    건설본부             광주운암3단지  장봉준  일반직  소장     2급     False\n",
       "90      3766    건설본부             광주학동4구역  유신재  일반직  소장     2급     False\n",
       "409     5273    건설본부           대구침산동주상복합  박준용  일반직  소장     2급     False\n",
       "85      3753    건설본부             마곡R&D센터  성동석  일반직  소장     2급     False\n",
       "428     5430    건설본부          안성가유지구물류센터  오형석  일반직  소장     2급     False\n",
       "196     4351    건설본부          인천신항항만배후단지  김동욱  일반직  소장     2급     False\n",
       "269     4724    건설본부          인천청라지구오피스텔  이천우  일반직  소장     2급     False\n",
       "354     5002    건설본부           춘천삼천동공동주택  김기호  일반직  소장     2급     False\n",
       "285     4824    건설본부     탄방동1(숭어리샘)주택재건축  문병재  일반직  소장     2급     False\n",
       "25      3138    건설본부              포항아이파크  엄성용  일반직  소장     2급     False\n",
       "116     3919    건설본부           홍은13구역재개발  이용상  일반직  소장     2급     False\n",
       "250     4599     NaN  광운대역세권도시개발사업단지조성공사  윤태원  일반직  소장     2급     False\n",
       "48      3369     NaN         대전도안준주거오피스텔  윤홍중  일반직  소장     2급     False\n",
       "987  1101259    건설본부             고척IPARK  김일수  촉탁직  소장    계약직     False\n",
       "994  1101266    건설본부            꿈의숲IPARK  박호종  계약직  소장  계약직자문     False\n",
       "254     4628  개발영업본부      용현학익1블록도시개발사업단  심재병  일반직  팀장     2급     False"
      ]
     },
     "execution_count": 25,
     "metadata": {},
     "output_type": "execute_result"
    }
   ],
   "source": [
    "have_account[((have_account[\"job\"] == \"회장\") | (have_account[\"job\"] == \"부회장\") | (have_account[\"job\"] == \"대표이사사장\") | (have_account[\"job\"] == \"본부장\") | ((have_account[\"sub\"] != \"정보기술외주\") & (have_account[\"job\"] == \"팀장\")) | (have_account[\"job\"] == \"실장\") | (have_account[\"job\"] == \"그룹장\") | (have_account[\"job\"] == \"부문장\") | (have_account[\"job\"] == \"단장\") | (have_account[\"job\"] == \"리더\") | (have_account[\"job\"] == \"PM\") | (have_account[\"job\"] == \"건축PM\") | (have_account[\"job\"] == \"소장\")) & (have_account[\"have_acc\"] == False)]"
   ]
  },
  {
   "cell_type": "code",
   "execution_count": 26,
   "metadata": {
    "ExecuteTime": {
     "end_time": "2021-08-17T08:53:14.379700Z",
     "start_time": "2021-08-17T08:53:14.366757Z"
    }
   },
   "outputs": [
    {
     "data": {
      "text/html": [
       "<div>\n",
       "<style scoped>\n",
       "    .dataframe tbody tr th:only-of-type {\n",
       "        vertical-align: middle;\n",
       "    }\n",
       "\n",
       "    .dataframe tbody tr th {\n",
       "        vertical-align: top;\n",
       "    }\n",
       "\n",
       "    .dataframe thead th {\n",
       "        text-align: right;\n",
       "    }\n",
       "</style>\n",
       "<table border=\"1\" class=\"dataframe\">\n",
       "  <thead>\n",
       "    <tr style=\"text-align: right;\">\n",
       "      <th></th>\n",
       "      <th>num</th>\n",
       "      <th>email</th>\n",
       "      <th>hq</th>\n",
       "      <th>dep</th>\n",
       "      <th>sub</th>\n",
       "      <th>job</th>\n",
       "      <th>rank</th>\n",
       "      <th>name</th>\n",
       "      <th>have_acc</th>\n",
       "    </tr>\n",
       "  </thead>\n",
       "  <tbody>\n",
       "    <tr>\n",
       "      <th>250</th>\n",
       "      <td>4599</td>\n",
       "      <td>tae0109@hdc-dvp.com</td>\n",
       "      <td>NaN</td>\n",
       "      <td>광운대역세권도시개발사업단지조성공사</td>\n",
       "      <td>일반직</td>\n",
       "      <td>소장</td>\n",
       "      <td>2급</td>\n",
       "      <td>윤태원</td>\n",
       "      <td>False</td>\n",
       "    </tr>\n",
       "  </tbody>\n",
       "</table>\n",
       "</div>"
      ],
      "text/plain": [
       "      num                email   hq                 dep  sub job rank name  \\\n",
       "250  4599  tae0109@hdc-dvp.com  NaN  광운대역세권도시개발사업단지조성공사  일반직  소장   2급  윤태원   \n",
       "\n",
       "     have_acc  \n",
       "250     False  "
      ]
     },
     "execution_count": 26,
     "metadata": {},
     "output_type": "execute_result"
    }
   ],
   "source": [
    "hr[hr[\"num\"] == \"4599\"]"
   ]
  },
  {
   "cell_type": "code",
   "execution_count": null,
   "metadata": {},
   "outputs": [],
   "source": []
  },
  {
   "cell_type": "code",
   "execution_count": null,
   "metadata": {},
   "outputs": [],
   "source": []
  },
  {
   "cell_type": "markdown",
   "metadata": {},
   "source": [
    "# 그룹별 유저 배정"
   ]
  },
  {
   "cell_type": "code",
   "execution_count": 71,
   "metadata": {},
   "outputs": [],
   "source": [
    "# \"HR현황\"\n",
    "ls = hr[(hr[\"job\"] == \"회장\") | (hr[\"job\"] == \"부회장\") | (hr[\"job\"] == \"대표이사사장\") | (hr[\"job\"] == \"본부장\")][\"num\"].tolist()\n",
    "for num in ls:\n",
    "    try:\n",
    "        user_id = all_users.loc[all_users[\"user_name\"] == num, \"user_id\"].values[0]\n",
    "    except:\n",
    "        print(f\"No Account; {num}\")\n",
    "#         with server.auth.sign_in(tableau_auth):\n",
    "#             new_user = TSC.UserItem(num, \"Viewer\")\n",
    "#             new_user = server.users.add(new_user)   \n",
    "#             new_user.fullname = f\"{hr.loc[hr[\"num\"] == num, \"name\"].values[0]}({hr.loc[hr[\"num\"] == num, \"dep\"].values[0]})\"\n",
    "#             new_user.email = hr.loc[hr[\"num\"] == num, \"email\"].values[0]\n",
    "#             new_user = server.users.update(new_user, password=f\"hdc{name}\")\n",
    "#             user_id = all_users.loc[all_users[\"user_name\"] == num, \"user_id\"].values[0]\n",
    "    with server.auth.sign_in(tableau_auth):\n",
    "        groups, pagination_item = server.groups.get(req_options=req_opts)\n",
    "        group = [i for i in groups if i.id == \"8bae0a19-c83c-4713-b932-a489754653de\"][0]\n",
    "        server.groups.add_user(group, user_id)"
   ]
  },
  {
   "cell_type": "markdown",
   "metadata": {},
   "source": [
    "# 그룹별 유저 기준\n",
    "\n",
    "## 현장 실적 + 예산변경 현황, CS접수현황, HR현황, 협업플랫폼 사용현황\n",
    "- 사용자 전체\n",
    "\n",
    "## 분양일보(\"16065e45-21b3-4e1b-80e1-c7c41079adfd\")\n",
    "```python\n",
    "hr[(hr[\"job\"] == \"회장\") | (hr[\"job\"] == \"부회장\") | (hr[\"job\"] == \"대표이사사장\") | (hr[\"job\"] == \"본부장\") | ((hr[\"dep\"] == \"도시개발1팀\") & (hr[\"job\"] == \"팀장\")) | ((hr[\"dep\"] == \"도시개발2팀\") & (hr[\"job\"] == \"팀장\")) | ((hr[\"dep\"] == \"도시정비1팀\") & (hr[\"job\"] == \"팀장\")) | ((hr[\"dep\"] == \"도시정비2팀\") & (hr[\"job\"] == \"팀장\")) | ((hr[\"dep\"] == \"마케팅팀\") & (hr[\"job\"] == \"팀장\")) | ((hr[\"dep\"] == \"민간수주1팀\") & (hr[\"job\"] == \"팀장\")) | ((hr[\"dep\"] == \"민간수주2팀\") & (hr[\"job\"] == \"팀장\")) | ((hr[\"dep\"] == \"고객서비스팀\") & (hr[\"job\"] == \"팀장\")) | ((hr[\"dep\"] == \"경영분석팀\") & (hr[\"job\"] == \"팀장\")) | ((hr[\"dep\"] == \"재무팀\") & (hr[\"job\"] == \"팀장\")) | ((hr[\"dep\"] == \"회계팀\") & (hr[\"job\"] == \"팀장\")) | ((hr[\"dep\"] == \"디지털플랫폼팀\") & (hr[\"job\"] == \"팀장\")) | ((hr[\"dep\"] == \"미래전략팀\") & (hr[\"job\"] == \"팀장\")) | (hr[\"num\"] == \"6110\") | (hr[\"num\"] == \"4001380\")]\n",
    "```\n",
    "- 회장님 비서?, 상임자문?, 부문장?, 김대중?\n",
    "\n",
    "## 수주정보\n",
    "```python\n",
    "hr[(hr[\"job\"] == \"회장\") | (hr[\"job\"] == \"부회장\") | (hr[\"job\"] == \"대표이사사장\") | (hr[\"job\"] == \"본부장\")]\n",
    "```\n",
    "- 회장님 비서?, 상임자문?\n",
    "\n",
    "## 본부장 회의(\"01b579e9-e0b0-458d-b12a-94292171d3a7\")\n",
    "```python\n",
    "hr[(hr[\"job\"] == \"회장\") | (hr[\"job\"] == \"부회장\") | (hr[\"job\"] == \"대표이사사장\") | (hr[\"job\"] == \"본부장\") | ((hr[\"sub\"] != \"정보기술외주\") & (hr[\"job\"] == \"팀장\")) | (hr[\"job\"] == \"실장\") | (hr[\"job\"] == \"그룹장\") | (hr[\"job\"] == \"부문장\") | (hr[\"job\"] == \"단장\") | (hr[\"job\"] == \"리더\") | (hr[\"job\"] == \"PM\") | (hr[\"job\"] == \"건축PM\") | (hr[\"num\"] == \"6447\") | (hr[\"num\"] == \"6406\") | (hr[\"num\"] == \"6486\") | (hr[\"num\"] == \"6427\") | (hr[\"num\"] == \"6014\") | (hr[\"num\"] == \"5704\") | (hr[\"num\"] == \"5720\") | (hr[\"num\"] == \"5882\") | (hr[\"num\"] == \"4001380\") | (hr[\"num\"] == \"4100435\") | (hr[\"num\"] == \"6281\") | (hr[\"num\"] == \"6048\")]\n",
    "```\n",
    "- 회장님 비서?, 상임자문?, 김주완?, 성기창?, 오재환?\n",
    "\n",
    "## 마이호미\n",
    "```python\n",
    "hr[(hr[\"job\"] == \"회장\") | (hr[\"job\"] == \"부회장\") | (hr[\"job\"] == \"대표이사사장\") | (hr[\"job\"] == \"본부장\") | ((hr[\"dep\"] == \"디지털플랫폼팀\") & (hr[\"job\"] == \"팀장\")) | (hr[\"num\"] == \"6371\") | (hr[\"num\"] == \"1101296\") | (hr[\"num\"] == \"6371\")]\n",
    "```\n",
    "- 회장님 비서?, 상임자문?,\n",
    "\n",
    "## 공수현황\n",
    "```python\n",
    "hr[(hr[\"job\"] == \"회장\") | (hr[\"job\"] == \"부회장\") | (hr[\"job\"] == \"대표이사사장\") | (hr[\"job\"] == \"본부장\") | ((hr[\"dep\"] == \"실시설계팀\") & (hr[\"job\"] == \"팀장\")) | ((hr[\"dep\"] == \"일반견적팀\") & (hr[\"job\"] == \"팀장\")) | ((hr[\"dep\"] == \"예산견적팀\") & (hr[\"job\"] == \"팀장\")) | ((hr[\"dep\"] == \"디지털플랫폼팀\") & (hr[\"job\"] == \"팀장\")) | ((hr[\"dep\"] == \"견적그룹(개발영업)\") & (hr[\"job\"] == \"그룹장\")) | ((hr[\"dep\"] == \"설계그룹(개발영업)\") & (hr[\"job\"] == \"그룹장\"))]\n",
    "```"
   ]
  },
  {
   "cell_type": "code",
   "execution_count": 50,
   "metadata": {},
   "outputs": [
    {
     "name": "stdout",
     "output_type": "stream",
     "text": [
      "수주정보현황\n",
      "menu navi\n",
      "분양일보\n",
      "CS 현황\n",
      "협업플랫폼 사용량\n",
      "진행 현장 실적\n",
      "HR현황(수정본)\n"
     ]
    }
   ],
   "source": [
    "# user_workbook\n",
    "with server.auth.sign_in(tableau_auth):\n",
    "    user = server.users.get_by_id(\"b71d75c3-a34c-4dc5-a92b-de46dc681212\")\n",
    "    server.users.populate_workbooks(user)\n",
    "    for workbook in user.workbooks:\n",
    "        if workbook.project_name == \"HDC현대산업개발\":\n",
    "            print(workbook.name)"
   ]
  },
  {
   "cell_type": "markdown",
   "metadata": {},
   "source": [
    "# Create Users"
   ]
  },
  {
   "cell_type": "code",
   "execution_count": 8,
   "metadata": {},
   "outputs": [
    {
     "data": {
      "text/html": [
       "<div>\n",
       "<style scoped>\n",
       "    .dataframe tbody tr th:only-of-type {\n",
       "        vertical-align: middle;\n",
       "    }\n",
       "\n",
       "    .dataframe tbody tr th {\n",
       "        vertical-align: top;\n",
       "    }\n",
       "\n",
       "    .dataframe thead th {\n",
       "        text-align: right;\n",
       "    }\n",
       "</style>\n",
       "<table border=\"1\" class=\"dataframe\">\n",
       "  <thead>\n",
       "    <tr style=\"text-align: right;\">\n",
       "      <th></th>\n",
       "      <th>num</th>\n",
       "      <th>email</th>\n",
       "      <th>hq</th>\n",
       "      <th>dep</th>\n",
       "      <th>sub</th>\n",
       "      <th>job</th>\n",
       "      <th>rank</th>\n",
       "      <th>name</th>\n",
       "    </tr>\n",
       "  </thead>\n",
       "  <tbody>\n",
       "    <tr>\n",
       "      <th>1024</th>\n",
       "      <td>1101291</td>\n",
       "      <td>yjlee@hdc-dvp.com</td>\n",
       "      <td>미래혁신본부</td>\n",
       "      <td>디지털플랫폼팀</td>\n",
       "      <td>계약직</td>\n",
       "      <td>팀원</td>\n",
       "      <td>계약직3급</td>\n",
       "      <td>이윤재</td>\n",
       "    </tr>\n",
       "  </tbody>\n",
       "</table>\n",
       "</div>"
      ],
      "text/plain": [
       "          num              email      hq      dep  sub job   rank name\n",
       "1024  1101291  yjlee@hdc-dvp.com  미래혁신본부  디지털플랫폼팀  계약직  팀원  계약직3급  이윤재"
      ]
     },
     "execution_count": 8,
     "metadata": {},
     "output_type": "execute_result"
    }
   ],
   "source": [
    "hr[hr[\"name\"]==\"이윤재\"]"
   ]
  },
  {
   "cell_type": "code",
   "execution_count": 39,
   "metadata": {},
   "outputs": [
    {
     "name": "stdout",
     "output_type": "stream",
     "text": [
      "Adding a User Completed!\n",
      "Updating a User Completed!\n"
     ]
    }
   ],
   "source": [
    "with server.auth.sign_in(tableau_auth):\n",
    "    user = TSC.UserItem(\"1101291\", \"Viewer\")\n",
    "    user = server.users.add(user)\n",
    "    print(\"Adding a User Completed!\")\n",
    "\n",
    "    user.fullname = \"이윤재(디지털플랫폼팀)\"\n",
    "    user.email = \"yjlee@hdc-dvp.com\"\n",
    "    user = server.users.update(user, password=f\"hdc{user.name}\")\n",
    "    print(\"Updating a User Completed!\")"
   ]
  },
  {
   "cell_type": "markdown",
   "metadata": {},
   "source": [
    "# Add Users to Groups"
   ]
  },
  {
   "cell_type": "code",
   "execution_count": 73,
   "metadata": {
    "scrolled": true
   },
   "outputs": [],
   "source": [
    "# with server.auth.sign_in(tableau_auth):\n",
    "#     groups, pagination_item = server.groups.get(req_options=req_opts)\n",
    "#     users, pagination_item = server.users.get(req_options=req_opts)\n",
    "#     for _, row in hr[hr[\"check\"].notna()].iterrows():\n",
    "#         idx = all_groups[all_groups[\"group\"] == row[\"check\"]].index[0]\n",
    "#         group = groups[idx]\n",
    "        \n",
    "#         user_idx = all_users[all_users[\"user_name\"] == row[\"num\"]].index[0]\n",
    "#         user_id = users[user_idx].id\n",
    "    \n",
    "#         server.groups.add_user(group, user_id)"
   ]
  },
  {
   "cell_type": "code",
   "execution_count": 41,
   "metadata": {},
   "outputs": [],
   "source": [
    "keyword = \"혁신팀\"\n",
    "num = \"1101291\"\n",
    "\n",
    "group_idx = all_groups[all_groups[\"group\"].str.contains(keyword)].index[0]\n",
    "with server.auth.sign_in(tableau_auth):\n",
    "    groups, pagination_item = server.groups.get(req_options=req_opts)\n",
    "    group = groups[group_idx]\n",
    "    \n",
    "    user_idx = all_users[all_users[\"user_name\"] == num].index[0]\n",
    "    users, pagination_item = server.users.get(req_options=req_opts)\n",
    "    user_id = users[user_idx].id\n",
    "    \n",
    "    server.groups.add_user(group, user_id)"
   ]
  },
  {
   "cell_type": "markdown",
   "metadata": {},
   "source": [
    "# Modify User Information"
   ]
  },
  {
   "cell_type": "code",
   "execution_count": 43,
   "metadata": {},
   "outputs": [],
   "source": [
    "with server.auth.sign_in(tableau_auth):\n",
    "    user = server.users.get_by_id(\"38fdc3c6-4b8f-4dff-8efd-29faf7e175a7\")\n",
    "\n",
    "    user.fullname = \"이윤재(디지털플랫폼팀)\"\n",
    "    user.site_role = \"ServerAdministrator\"\n",
    "    user = server.users.update(user)\n",
    "    print(\"Updating a User Completed!\")"
   ]
  },
  {
   "cell_type": "code",
   "execution_count": 1,
   "metadata": {},
   "outputs": [],
   "source": [
    "# for _, row in all_users.iterrows():\n",
    "#     if row[\"dep\"] != None:\n",
    "#         print(row[\"user_id\"], row[\"user_fullname\"], row[\"name\"], row[\"dep\"])\n",
    "\n",
    "# with server.auth.sign_in(tableau_auth):\n",
    "#     user = server.users.get_by_id(row[\"user_id\"])\n",
    "#     user.fullname = f\"{row['name']}({row['dep']})\"\n",
    "    \n",
    "#     user_rev = server.users.update(user)"
   ]
  },
  {
   "cell_type": "markdown",
   "metadata": {},
   "source": [
    "# Remove Users"
   ]
  },
  {
   "cell_type": "code",
   "execution_count": 25,
   "metadata": {},
   "outputs": [
    {
     "name": "stdout",
     "output_type": "stream",
     "text": [
      "Completed!\n"
     ]
    }
   ],
   "source": [
    "user_id = \"e17666e4-a736-40a7-badc-865a60ebd7f2\"\n",
    "with server.auth.sign_in(tableau_auth):\n",
    "    server.users.remove(user_id)\n",
    "print(\"Completed!\")"
   ]
  }
 ],
 "metadata": {
  "hide_input": false,
  "kernelspec": {
   "display_name": "Python 3",
   "language": "python",
   "name": "python3"
  },
  "language_info": {
   "codemirror_mode": {
    "name": "ipython",
    "version": 3
   },
   "file_extension": ".py",
   "mimetype": "text/x-python",
   "name": "python",
   "nbconvert_exporter": "python",
   "pygments_lexer": "ipython3",
   "version": "3.7.7"
  },
  "toc": {
   "base_numbering": 1,
   "nav_menu": {},
   "number_sections": true,
   "sideBar": true,
   "skip_h1_title": false,
   "title_cell": "Table of Contents",
   "title_sidebar": "Contents",
   "toc_cell": false,
   "toc_position": {},
   "toc_section_display": true,
   "toc_window_display": false
  },
  "varInspector": {
   "cols": {
    "lenName": 16,
    "lenType": 16,
    "lenVar": 40
   },
   "kernels_config": {
    "python": {
     "delete_cmd_postfix": "",
     "delete_cmd_prefix": "del ",
     "library": "var_list.py",
     "varRefreshCmd": "print(var_dic_list())"
    },
    "r": {
     "delete_cmd_postfix": ") ",
     "delete_cmd_prefix": "rm(",
     "library": "var_list.r",
     "varRefreshCmd": "cat(var_dic_list()) "
    }
   },
   "types_to_exclude": [
    "module",
    "function",
    "builtin_function_or_method",
    "instance",
    "_Feature"
   ],
   "window_display": false
  }
 },
 "nbformat": 4,
 "nbformat_minor": 4
}
