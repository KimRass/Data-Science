{
 "cells": [
  {
   "cell_type": "code",
   "execution_count": 1,
   "metadata": {},
   "outputs": [],
   "source": [
    "import pandas as pd\n",
    "import numpy as np\n",
    "import matplotlib as mpl\n",
    "import matplotlib.pyplot as plt\n",
    "import seaborn as sb\n",
    "import re\n",
    "from itertools import combinations\n",
    "import urllib\n",
    "from bs4 import BeautifulSoup as bs\n",
    "import json\n",
    "import datetime\n",
    "from tqdm.notebook import tqdm\n",
    "import pymysql\n",
    "import traceback\n",
    "import psycopg2\n",
    "from psycopg2.extras import RealDictCursor\n",
    "from appstoreconnect import Api\n",
    "import pymssql\n",
    "from dateutil.relativedelta import relativedelta\n",
    "import pickle as pk\n",
    "\n",
    "plt.style.use(\"dark_background\")\n",
    "\n",
    "path = \"C:/Windows/Fonts/malgun.ttf\"\n",
    "font_name = mpl.font_manager.FontProperties(fname=path).get_name()\n",
    "mpl.rc(\"font\", family=font_name)\n",
    "mpl.rc(\"axes\", unicode_minus=False)"
   ]
  },
  {
   "cell_type": "markdown",
   "metadata": {},
   "source": [
    "## 구글 애널리틱스\n",
    "- https://ga-dev-tools.appspot.com/query-explorer/\n",
    "\n",
    "### MAU\n",
    "- metrics: \"ga:users\", \"ga:pageviews\"\n",
    "- dimentions: \"ga:yearMonth\""
   ]
  },
  {
   "cell_type": "code",
   "execution_count": 14,
   "metadata": {},
   "outputs": [],
   "source": [
    "start = datetime.datetime(2017, 1, 1)\n",
    "end = datetime.datetime(2021, 7, 31)\n",
    "token = \"ya29.a0ARrdaM8NE8YPegZVgbU81SfaeY3ih5yx2WpxAbTlTPSXT9fA_HKe6-0o-Pk6XmrhTPTDQVIb5WiXd1kS8FXGYvZ077BTJCleaiND8GNyR9znl685xFLlPaDvfkcA96GOK-Z4LmbO1d-MS-J8aSESqk7YRRxVRNw\""
   ]
  },
  {
   "cell_type": "code",
   "execution_count": 3,
   "metadata": {},
   "outputs": [],
   "source": [
    "url = f\"https://www.googleapis.com/analytics/v3/data/ga?ids=ga%3A206525354&start-date={start.strftime('%Y-%m-%d')}&end-date={end.strftime('%Y-%m-%d')}&metrics=ga%3Ausers%2Cga%3Apageviews&dimensions=ga%3AyearMonth&access_token={token}\"\n",
    "req = urllib.request.urlopen(url).read().decode(\"utf8\")\n",
    "js = json.loads(req)\n",
    "\n",
    "mau = pd.DataFrame(js[\"rows\"], columns=pd.DataFrame(js[\"columnHeaders\"])[\"name\"].str.split(\":\").str[1].tolist())"
   ]
  },
  {
   "cell_type": "code",
   "execution_count": 7,
   "metadata": {},
   "outputs": [],
   "source": [
    "# mau.to_csv(f\"D:/디지털혁신팀/태블로/마이호미/마이호미_FINAL/mau_{end.strftime('%Y-%m-%d')}.csv\", encoding=\"euc-kr\", index=False)\n",
    "# mau.tail()"
   ]
  },
  {
   "cell_type": "markdown",
   "metadata": {},
   "source": [
    "## mall.csv"
   ]
  },
  {
   "cell_type": "code",
   "execution_count": 6,
   "metadata": {},
   "outputs": [],
   "source": [
    "# cols = [\"주문번호\", \"아이디\", \"상품ID\", \"상품명\", \"수량\", \"상품금액\", \"주문일자\", \"모바일주문여부\"]\n",
    "\n",
    "# with open(\"D:/디지털혁신팀/태블로/mall_password.pkl\", \"rb\") as f:\n",
    "#      password = pk.load(f)\n",
    "# conn = pymssql.connect(server=\"125.60.68.233\", database=\"eiparkclub\", user=\"myhomie\", password=password, charset=\"utf8\")\n",
    "# cur = conn.cursor()\n",
    "\n",
    "# sql = f\"SELECT 주문번호, 임직원아이디, _상품ID, 상품명, 수량, 상품금액, 주문일자, _모바일주문여부 FROM vwAdjustDetail;\"\n",
    "# # sql = f\"SELECT 임직원아이디 FROM vwAdjustDetail;\"\n",
    "# cur.execute(sql)\n",
    "\n",
    "# data = pd.DataFrame(cur.fetchall(), columns=cols)\n",
    "# # data = pd.DataFrame(cur.fetchall())\n",
    "# data = data[data[\"아이디\"].str.contains(\"MBR\")]\n",
    "# data = data.reset_index(drop=True)"
   ]
  },
  {
   "cell_type": "code",
   "execution_count": 8,
   "metadata": {
    "scrolled": true
   },
   "outputs": [],
   "source": [
    "# data.to_csv(f\"mall_{end.strftime('%Y-%m-%d')}.csv\", encoding=\"euc-kr\", index=False)\n",
    "# data.head()"
   ]
  },
  {
   "cell_type": "markdown",
   "metadata": {},
   "source": [
    "# 다운로드(iOS)"
   ]
  },
  {
   "cell_type": "code",
   "execution_count": 1,
   "metadata": {},
   "outputs": [],
   "source": [
    "# with open(\"D:/AuthKey_BB99VD4S7X.p8\", \"r\") as f:\n",
    "#     key_file = f.read()\n",
    "# api = Api(key_id=\"BB99VD4S7X\", key_file=key_file, issuer_id=\"252fd97c-ea6e-45b9-a795-693f38f8dbaf\")\n",
    "# api.download_sales_and_trends_reports(filters={\"frequency\": \"DAILY\", \"reportSubType\":\"DETAILED\", \"reportType\":\"SALES\", \"vendorNumber\": \"88755846\"})\n",
    "# # , save_to=\"report.csv\")"
   ]
  },
  {
   "cell_type": "code",
   "execution_count": 2,
   "metadata": {},
   "outputs": [],
   "source": [
    "# views = pd.DataFrame()\n",
    "# for i in tqdm(range(100)):\n",
    "#     try:\n",
    "#         start = end - datetime.timedelta(days=10*(i+1))\n",
    "#         end = end - datetime.timedelta(days=10*i)\n",
    "#         url = f\"https://www.googleapis.com/analytics/v3/data/ga?ids=ga%3A206525354&start-date={start.strftime('%Y-%m-%d')}&end-date={end.strftime('%Y-%m-%d')}&metrics=ga%3Ausers%2Cga%3Apageviews&dimensions=ga%3ApageTitle%2Cga%3Adate&sort=-ga%3Adate&access_token={token}\"\n",
    "#         req = urllib.request.urlopen(url).read().decode(\"utf8\")\n",
    "#         js = json.loads(req)\n",
    "        \n",
    "#         df = pd.DataFrame(js[\"rows\"], columns=pd.DataFrame(js[\"columnHeaders\"])[\"name\"].str.split(\":\").str[1].tolist())\n",
    "#         views = pd.concat([views, df])\n",
    "#     except:\n",
    "#         break"
   ]
  },
  {
   "cell_type": "markdown",
   "metadata": {},
   "source": [
    "## 개발사 데이터\n",
    "\n",
    "## sys_code"
   ]
  },
  {
   "cell_type": "code",
   "execution_count": 24,
   "metadata": {},
   "outputs": [],
   "source": [
    "# with open(\"D:/디지털혁신팀/태블로/signup_password.pkl\", \"rb\") as f:\n",
    "#      password = pk.load(f)\n",
    "# conn = psycopg2.connect(host=\"postgresql-production1.cluster-ro-cxb5zwyq1mu5.ap-northeast-2.rds.amazonaws.com\", dbname=\"hdc\", user=\"postgres\", password=password)\n",
    "# cur = conn.cursor(cursor_factory=RealDictCursor)\n",
    "# query = f\"SELECT * FROM hdc_sys.sys_code;\"\n",
    "# cur.execute(query)\n",
    "# result = cur.fetchall()\n",
    "\n",
    "# sys_code = pd.DataFrame(result)"
   ]
  },
  {
   "cell_type": "code",
   "execution_count": 18,
   "metadata": {},
   "outputs": [],
   "source": [
    "# sys_code.head()"
   ]
  },
  {
   "cell_type": "markdown",
   "metadata": {},
   "source": [
    "## apt_mst.csv"
   ]
  },
  {
   "cell_type": "code",
   "execution_count": 19,
   "metadata": {},
   "outputs": [],
   "source": [
    "with open(\"D:/디지털혁신팀/태블로/signup_password.pkl\", \"rb\") as f:\n",
    "     password = pk.load(f)\n",
    "conn = psycopg2.connect(host=\"postgresql-production1.cluster-ro-cxb5zwyq1mu5.ap-northeast-2.rds.amazonaws.com\", dbname=\"hdc\", user=\"postgres\", password=password)\n",
    "cur = conn.cursor(cursor_factory=RealDictCursor)\n",
    "query = f\"SELECT * FROM hdc_apt.apt_mst;\"\n",
    "cur.execute(query)\n",
    "result = cur.fetchall()\n",
    "\n",
    "apt_mst = pd.DataFrame(result)"
   ]
  },
  {
   "cell_type": "code",
   "execution_count": 23,
   "metadata": {},
   "outputs": [],
   "source": [
    "# apt_mst.to_csv(f\"D:/디지털혁신팀/태블로/마이호미/마이호미_FINAL/apt_mst_{end.strftime('%Y-%m-%d')}.csv\", encoding=\"euc-kr\",  index=False)\n",
    "# apt_mst.head()"
   ]
  },
  {
   "cell_type": "markdown",
   "metadata": {},
   "source": [
    "## signup.csv"
   ]
  },
  {
   "cell_type": "code",
   "execution_count": 40,
   "metadata": {},
   "outputs": [],
   "source": [
    "with open(\"D:/Github/Work/Tableau/signup_password.pkl\", \"rb\") as f:\n",
    "     password = pk.load(f)\n",
    "conn = psycopg2.connect(host=\"postgresql-production1.cluster-ro-cxb5zwyq1mu5.ap-northeast-2.rds.amazonaws.com\", dbname=\"hdc\", user=\"postgres\", password=password)\n",
    "cur = conn.cursor(cursor_factory=RealDictCursor)\n",
    "query = f\"SELECT hdc_mbr.mbr_mst.mbr_id, \\\n",
    "CASE hdc_mbr.mbr_mst.mbr_sys_ty  \\\n",
    "WHEN 'C000004001' THEN '입주예정자' \\\n",
    "WHEN 'C000004003' THEN '입주자(대표)' \\\n",
    "WHEN 'C000004004' THEN '입주자(세대원)' \\\n",
    "END AS mbr_sys_ty, \\\n",
    "CASE hdc_mbr.mbr_mst.mbr_sex \\\n",
    "WHEN '0' THEN '남자' \\\n",
    "WHEN '1' THEN '여자' \\\n",
    "END AS mbr_sex, \\\n",
    "hdc_mbr.mbr_mst.mbr_birth, hdc_mbr.mbr_mst.regist_dt, hdc_mbr.mbr_mst.mbr_delete_date, \\\n",
    "CASE hdc_mbr.mbr_mst.mbr_st \\\n",
    "WHEN 'C000002001' THEN '정상' \\\n",
    "WHEN 'C000002005' THEN' 탈퇴' \\\n",
    "WHEN 'C000002007' THEN '퇴거' \\\n",
    "WHEN 'C000002008' THEN '휴면상태' \\\n",
    "END AS mbr_st, \\\n",
    "hdc_apt.apt_unit_mbr.mbr_id, \\\n",
    "hdc_apt.apt_unit_info.dng_no, hdc_apt.apt_unit_info.ho_no, \\\n",
    "hdc_apt.apt_mst.apt_name  \\\n",
    "FROM hdc_mbr.mbr_mst  \\\n",
    "LEFT OUTER JOIN hdc_apt.apt_unit_mbr  \\\n",
    "LEFT OUTER JOIN hdc_apt.apt_unit_info  \\\n",
    "LEFT OUTER JOIN hdc_apt.apt_mst  \\\n",
    "ON hdc_apt.apt_unit_info.apt_id = hdc_apt.apt_mst.apt_id  \\\n",
    "ON hdc_apt.apt_unit_mbr.unit_id = hdc_apt.apt_unit_info.unit_id  \\\n",
    "ON hdc_mbr.mbr_mst.mbr_id = hdc_apt.apt_unit_mbr.mbr_id;\"\n",
    "cur.execute(query)\n",
    "result = cur.fetchall()\n",
    "signup = pd.DataFrame(result)"
   ]
  },
  {
   "cell_type": "code",
   "execution_count": 12,
   "metadata": {},
   "outputs": [],
   "source": [
    "# signup = signup[signup[\"apt_name\"].notna()]\n",
    "# signup[\"mbr_sys_ty\"] = signup[\"mbr_sys_ty\"].map({\"C000004001\":\"입주예정자\", \"C000004003\":\"입주자(대표)\", \"C000004004\":\"입주자(세대원)\"})\n",
    "# signup[\"mbr_sex\"] = signup[\"mbr_sex\"].map({\"0\":\"남자\", \"1\":\"여자\"})\n",
    "# signup[\"mbr_st\"] = signup[\"mbr_st\"].map({\"C000002001\":\"정상\", \"C000002005\":\"탈퇴\", \"C000002007\":\"퇴거\", \"C000002008\":\"휴면상태\"})\n",
    "signup = signup.rename({\"mbr_id\":\"아이디\", \"apt_name\":\"아파트 명\", \"dng_no\":\"동\", \"ho_no\":\"호\", \"mbr_sys_ty\":\"회원유형\", \"mbr_st\":\"회원상태\", \"mbr_sex\":\"성별\", \"mbr_birth\":\"생년월일\", \"regist_dt\":\"가입일\", \"mbr_delete_date\":\"탈퇴일\"}, axis=1)\n",
    "signup[\"성별/생년월일\"] = signup[\"성별\"] + \"/\" + signup[\"생년월일\"]\n",
    "signup = signup[[\"아이디\", \"아파트 명\", \"동\", \"호\", \"회원유형\", \"회원상태\", \"성별/생년월일\", \"가입일\", \"탈퇴일\"]]"
   ]
  },
  {
   "cell_type": "code",
   "execution_count": 15,
   "metadata": {},
   "outputs": [],
   "source": [
    "signup.to_csv(f\"D:/Github/Work/Tableau/Myhomie/signup_{end.strftime('%Y-%m-%d')}.csv\", encoding=\"euc-kr\")"
   ]
  }
 ],
 "metadata": {
  "kernelspec": {
   "display_name": "Python 3",
   "language": "python",
   "name": "python3"
  },
  "language_info": {
   "codemirror_mode": {
    "name": "ipython",
    "version": 3
   },
   "file_extension": ".py",
   "mimetype": "text/x-python",
   "name": "python",
   "nbconvert_exporter": "python",
   "pygments_lexer": "ipython3",
   "version": "3.7.7"
  }
 },
 "nbformat": 4,
 "nbformat_minor": 4
}
