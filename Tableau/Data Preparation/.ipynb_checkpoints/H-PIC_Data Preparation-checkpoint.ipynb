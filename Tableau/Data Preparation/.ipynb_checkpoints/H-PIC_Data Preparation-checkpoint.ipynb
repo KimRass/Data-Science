{
 "cells": [
  {
   "cell_type": "code",
   "execution_count": 1,
   "metadata": {
    "ExecuteTime": {
     "end_time": "2021-08-04T11:26:26.693213Z",
     "start_time": "2021-08-04T11:26:26.679260Z"
    }
   },
   "outputs": [],
   "source": [
    "import pandas as pd\n",
    "import numpy as np\n",
    "import matplotlib as mpl\n",
    "import matplotlib.pyplot as plt\n",
    "import seaborn as sb\n",
    "import re\n",
    "from itertools import combinations\n",
    "from tqdm.notebook import tqdm\n",
    "import glob\n",
    "import datetime\n",
    "\n",
    "plt.style.use(\"dark_background\")\n",
    "\n",
    "path = \"C:/Windows/Fonts/malgun.ttf\"\n",
    "font_name = mpl.font_manager.FontProperties(fname=path).get_name()\n",
    "mpl.rc(\"font\", family=font_name)\n",
    "mpl.rc(\"axes\", unicode_minus=False)"
   ]
  },
  {
   "cell_type": "code",
   "execution_count": 12,
   "metadata": {},
   "outputs": [],
   "source": [
    "# filenames = glob.glob(\"./FINAL/전체/*.csv\")\n",
    "# dfs = []\n",
    "# for filename in filenames:\n",
    "#     dfs.append(pd.read_csv(filename))\n",
    "# hpic = pd.concat(dfs, ignore_index=True)\n",
    "\n",
    "# hpic[\"post_id\"] = hpic[\"post_id\"].astype(\"str\")\n",
    "# hpic[\"post_id\"] = hpic[\"post_id\"].str[-10:]\n",
    "\n",
    "# hpic = hpic.drop([\"project_id\", \"post_subject_size\", \"comment_id\"], axis=1)\n",
    "\n",
    "# hpic[\"post_created_at\"] = hpic[\"post_created_at\"].apply(lambda x:pd.to_datetime(x))\n",
    "# hpic[\"comment_created_at\"] = hpic[\"comment_created_at\"].apply(lambda x:pd.to_datetime(x))\n",
    "# # 가장 바깥의 따옴표를 제거합니다.\n",
    "# hpic[\"post_to\"] = hpic[\"post_to\"].map(eval)\n",
    "# hpic[\"post_cc\"] = hpic[\"post_cc\"].map(eval)\n",
    "# hpic[\"to\"] = hpic[\"post_to\"] + hpic[\"post_cc\"]\n",
    "\n",
    "# hpic = hpic[hpic[\"to\"].apply(len)!=0]\n",
    "# hpic = hpic.drop([\"post_to\", \"post_cc\"], axis=1)\n",
    "\n",
    "# hpic.apply(lambda x:x[\"to\"].remove(x[\"post_from\"]) if x[\"post_from\"] in x[\"to\"] else x[\"to\"], axis=1)\n",
    "# hpic = hpic[hpic[\"to\"].apply(len)!=0]\n",
    "# hpic[\"to\"] = hpic[\"to\"].apply(lambda x:x[0])\n",
    "\n",
    "# hpic = hpic.rename({\"post_from\":\"from\"}, axis=1)\n",
    "\n",
    "# hpic[\"from_hq\"] = hpic[\"from\"].map(email2hq)\n",
    "# hpic[\"from_dep\"] = hpic[\"from\"].map(email2dep)\n",
    "# hpic[\"from_name\"] = hpic[\"from\"].map(email2name)\n",
    "\n",
    "# hpic[\"to_hq\"] = hpic[\"to\"].map(email2hq)\n",
    "# hpic[\"to_dep\"] = hpic[\"to\"].map(email2dep)\n",
    "# hpic[\"to_name\"] = hpic[\"to\"].map(email2name)\n",
    "\n",
    "# hpic[\"commenter\"] = hpic[\"commenter\"].map(email2name)\n",
    "\n",
    "# hpic[\"from_comment\"] = hpic.apply(lambda x:x[\"comment_body_size\"] if x[\"commenter\"]==x[\"from_name\"] else 0, axis=1)\n",
    "# hpic[\"to_comment\"] = hpic.apply(lambda x:x[\"comment_body_size\"] if x[\"commenter\"]==x[\"to_name\"] else 0, axis=1)\n",
    "\n",
    "# for post in set(hpic[\"post_id\"]):\n",
    "#     hpic[hpic[\"post_id\"]==post]\n",
    "\n",
    "# hpic[\"from_comment\"] = hpic.apply(lambda x:x[\"comment_body_size\"] if x[\"commenter\"]==x[\"from_name\"] else 0, axis=1)\n",
    "# hpic[\"to_comment\"] = hpic.apply(lambda x:x[\"comment_body_size\"] if x[\"commenter\"]==x[\"to_name\"] else 0, axis=1)\n",
    "\n",
    "# hpic = hpic[[\"from_hq\", \"from_dep\", \"from_name\", \"from_comment\", \"to_hq\", \"to_dep\", \"to_name\", \"to_comment\", \"comment_created_at\"]]"
   ]
  },
  {
   "cell_type": "code",
   "execution_count": 13,
   "metadata": {},
   "outputs": [],
   "source": [
    "# hpic.to_csv(\"H-PIC 멘토-멘티 댓글 작성 날짜 및 용량_-210228.csv\", encoding=\"euc-kr\")\n",
    "# hpic.head()"
   ]
  },
  {
   "cell_type": "code",
   "execution_count": 89,
   "metadata": {
    "ExecuteTime": {
     "end_time": "2021-08-04T13:35:04.982549Z",
     "start_time": "2021-08-04T13:35:04.894182Z"
    }
   },
   "outputs": [],
   "source": [
    "filenames = glob.glob(f\"{pref}Raw Data_Collaboration Tool Usage/*.csv\")\n",
    "dfs = []\n",
    "for filename in filenames:\n",
    "    dfs.append(pd.read_csv(filename))\n",
    "df = pd.concat(dfs, ignore_index=True)\n",
    "# df = pd.read_csv(\"D:/Github/Work/Tableau/Collaboration Tool Usage/TEST/협업플랫폼_전체_210601-210630.csv\")"
   ]
  },
  {
   "cell_type": "code",
   "execution_count": 90,
   "metadata": {
    "ExecuteTime": {
     "end_time": "2021-08-04T13:35:04.982549Z",
     "start_time": "2021-08-04T13:35:04.894182Z"
    }
   },
   "outputs": [],
   "source": [
    "df = df.rename({\"project_id\":\"prj_id\", \"project_name\":\"prj\", \"comment_id\":\"cmt_id\", \"comment_body_size\":\"cmt_body_size\", \"commenter\":\"cmter\", \"comment_created_at\":\"cmt_created_at\"}, axis=1)\n",
    "df[[\"prj_id\", \"post_id\", \"cmt_id\"]] = df[[\"prj_id\", \"post_id\", \"cmt_id\"]].astype(\"str\")\n",
    "df[\"post_created_at\"] = pd.to_datetime(df[\"post_created_at\"])\n",
    "df[\"cmt_created_at\"] = pd.to_datetime(df[\"cmt_created_at\"])\n",
    "# df[\"cmt_created_at\"] = df[\"cmt_created_at\"].apply(lambda x:pd.to_datetime(x))\n",
    "\n",
    "df = df.sort_values(by=[\"post_created_at\", \"cmt_created_at\"])\n",
    "\n",
    "prjs = df.iloc[:, :2]\n",
    "prjs = prjs.drop_duplicates([\"prj_id\"], keep=\"last\")\n",
    "\n",
    "posts = df[df[\"cmt_created_at\"].notna()]\n",
    "posts = pd.concat([posts.iloc[:, 1], posts.iloc[:, 2:9], posts.iloc[:, 12]], axis=1)\n",
    "# posts = posts.drop_duplicates([\"post_id\", \"prj\"], keep=\"last\")\n",
    "\n",
    "cmts = pd.concat([df.iloc[:, 2], df.iloc[:, 9:]], axis=1)\n",
    "cmts = cmts[cmts.notna().sum(axis=1) == 5]\n",
    "\n",
    "# prjs.to_excel(\"D:/Github/Work/Tableau/Collaboration Tool Usage/TEST/prjs.xlsx\", index=False)\n",
    "# posts.to_excel(\"D:/Github/Work/Tableau/Collaboration Tool Usage/TEST/posts.xlsx\", index=False)\n",
    "# cmts.to_excel(\"D:/Github/Work/Tableau/Collaboration Tool Usage/TEST/cmts.xlsx\", index=False)"
   ]
  }
 ],
 "metadata": {
  "hide_input": false,
  "kernelspec": {
   "display_name": "Python 3",
   "language": "python",
   "name": "python3"
  },
  "language_info": {
   "codemirror_mode": {
    "name": "ipython",
    "version": 3
   },
   "file_extension": ".py",
   "mimetype": "text/x-python",
   "name": "python",
   "nbconvert_exporter": "python",
   "pygments_lexer": "ipython3",
   "version": "3.7.7"
  },
  "toc": {
   "base_numbering": 1,
   "nav_menu": {},
   "number_sections": true,
   "sideBar": true,
   "skip_h1_title": false,
   "title_cell": "Table of Contents",
   "title_sidebar": "Contents",
   "toc_cell": false,
   "toc_position": {},
   "toc_section_display": true,
   "toc_window_display": false
  },
  "varInspector": {
   "cols": {
    "lenName": 16,
    "lenType": 16,
    "lenVar": 40
   },
   "kernels_config": {
    "python": {
     "delete_cmd_postfix": "",
     "delete_cmd_prefix": "del ",
     "library": "var_list.py",
     "varRefreshCmd": "print(var_dic_list())"
    },
    "r": {
     "delete_cmd_postfix": ") ",
     "delete_cmd_prefix": "rm(",
     "library": "var_list.r",
     "varRefreshCmd": "cat(var_dic_list()) "
    }
   },
   "types_to_exclude": [
    "module",
    "function",
    "builtin_function_or_method",
    "instance",
    "_Feature"
   ],
   "window_display": false
  }
 },
 "nbformat": 4,
 "nbformat_minor": 4
}
