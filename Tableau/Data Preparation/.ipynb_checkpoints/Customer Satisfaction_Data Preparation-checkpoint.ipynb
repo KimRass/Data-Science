{
 "cells": [
  {
   "cell_type": "code",
   "execution_count": 1,
   "metadata": {},
   "outputs": [],
   "source": [
    "import pandas as pd\n",
    "import numpy as np\n",
    "import matplotlib as mpl\n",
    "import matplotlib.pyplot as plt\n",
    "import seaborn as sb\n",
    "import re\n",
    "from itertools import combinations\n",
    "from tqdm.notebook import tqdm\n",
    "import glob\n",
    "import datetime\n",
    "\n",
    "plt.style.use(\"dark_background\")\n",
    "\n",
    "path = \"C:/Windows/Fonts/malgun.ttf\"\n",
    "font_name = mpl.font_manager.FontProperties(fname=path).get_name()\n",
    "mpl.rc(\"font\", family=font_name)\n",
    "mpl.rc(\"axes\", unicode_minus=False)"
   ]
  },
  {
   "cell_type": "code",
   "execution_count": 7,
   "metadata": {},
   "outputs": [],
   "source": [
    "pref = \"D:/디지털혁신팀/태블로/CS/CS 현황_FINAL/20210731/\"\n",
    "filenames = [\"20년 AS.csv\", \"21년 AS.csv\"]\n",
    "dfs = []\n",
    "for filename in filenames:\n",
    "    dfs.append(pd.read_csv(pref + filename, encoding=\"euc-kr\"))\n",
    "as_list = pd.concat(dfs, ignore_index=True)\n",
    "as_list.to_csv(f\"{pref}AS리스트.csv\", encoding=\"euc-kr\")\n",
    "\n",
    "# filenames = [\"19년 BS.csv\", \"20년 BS.csv\", \"21년 BS.csv\"]\n",
    "# dfs = []\n",
    "# for filename in filenames:\n",
    "#     dfs.append(pd.read_csv(pref + filename, encoding=\"euc-kr\"))\n",
    "# bs_list = pd.concat(dfs, ignore_index=True)\n",
    "# bs_list = bs_list.rename({\"아이앤콘스\":\"현장: 아이앤콘스\"}, axis=1)\n",
    "\n",
    "# bs_list.to_csv(f\"{pref}BS리스트.csv\", encoding=\"euc-kr\")"
   ]
  }
 ],
 "metadata": {
  "kernelspec": {
   "display_name": "Python 3",
   "language": "python",
   "name": "python3"
  },
  "language_info": {
   "codemirror_mode": {
    "name": "ipython",
    "version": 3
   },
   "file_extension": ".py",
   "mimetype": "text/x-python",
   "name": "python",
   "nbconvert_exporter": "python",
   "pygments_lexer": "ipython3",
   "version": "3.7.7"
  }
 },
 "nbformat": 4,
 "nbformat_minor": 4
}
