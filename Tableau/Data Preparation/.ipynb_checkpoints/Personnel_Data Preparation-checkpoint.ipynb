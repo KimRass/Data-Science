{
 "cells": [
  {
   "cell_type": "code",
   "execution_count": 1,
   "metadata": {
    "ExecuteTime": {
     "end_time": "2021-08-06T06:42:58.527746Z",
     "start_time": "2021-08-06T06:42:57.713041Z"
    }
   },
   "outputs": [],
   "source": [
    "import pandas as pd\n",
    "import re\n",
    "import openpyxl"
   ]
  },
  {
   "cell_type": "code",
   "execution_count": 13,
   "metadata": {
    "ExecuteTime": {
     "end_time": "2021-08-06T06:49:14.710944Z",
     "start_time": "2021-08-06T06:49:14.702719Z"
    }
   },
   "outputs": [],
   "source": [
    "tar_date = \"2021-07-31\"\n",
    "bef_date = \"2021-06-30\"\n",
    "pref = \"D:/Github/Work/Tableau/Personnel\""
   ]
  },
  {
   "cell_type": "code",
   "execution_count": 41,
   "metadata": {
    "ExecuteTime": {
     "end_time": "2021-08-06T07:26:02.769279Z",
     "start_time": "2021-08-06T07:26:02.410863Z"
    }
   },
   "outputs": [],
   "source": [
    "hr = pd.read_excel(f\"D:/Github/Work/Tableau/직원 명단_{tar_date.replace('-', '')[2:]}.xlsx\")"
   ]
  },
  {
   "cell_type": "markdown",
   "metadata": {},
   "source": [
    "## 인사 현황 데이터 전처리\n",
    "\n",
    "### 건설본부만 뽑기"
   ]
  },
  {
   "cell_type": "code",
   "execution_count": 43,
   "metadata": {
    "ExecuteTime": {
     "end_time": "2021-08-06T07:26:10.601344Z",
     "start_time": "2021-08-06T07:26:09.947756Z"
    }
   },
   "outputs": [],
   "source": [
    "# 본사, 지사, 현장 설정\n",
    "hr[[\"직급\", \"직무\", \"하위그룹\"]] = hr[[\"직급\", \"직무\", \"하위그룹\"]].astype(\"str\")\n",
    "hr[\"코스트센터 분류\"] = hr.apply(lambda x:\"지사\" if (\"사업소\" in x[\"조직명\"]) or (\"베트남지사\" in x[\"조직명\"]) else (\"본사\" if re.search(\"^\\d\", x[\"코스트센터\"]) else \"현장\"), axis=1)\n",
    "hr.loc[hr[\"코스트센터 분류\"] == \"현장\", \"본부명(조직단위기준)\"] = \"현장\"\n",
    "hr[\"코스트센터 본부명\"] = hr[\"본부명(조직단위기준)\"]\n",
    "# hr[\"코스트센터 팀명\"] = hr[\"원소속명\"]\n",
    "hr[\"코스트센터 팀명\"] = hr[\"조직명\"]\n",
    "\n",
    "hq_const = hr[hr[\"본부명(조직단위기준)\"] == \"건설본부\"]\n",
    "hq_const = hq_const.drop([\"코스트센터 분류\", \"코스트센터 본부명\", \"코스트센터 팀명\"], axis=1)\n",
    "hq_const.to_excel(f\"{pref}/직원 명단_{tar_date.replace('-', '')[2:]}_건설본부만.xlsx\", encoding=\"euc-kr\", index=False)\n",
    "\n",
    "hq_no_const = hr[hr[\"본부명(조직단위기준)\"] != \"건설본부\"]\n",
    "hq_no_const.to_excel(f\"{pref}/직원 명단_{tar_date.replace('-', '')[2:]}_건설본부 제외.xlsx\", encoding=\"euc-kr\", index=False)"
   ]
  },
  {
   "cell_type": "markdown",
   "metadata": {},
   "source": [
    "### 잘못된 데이터 바로잡기"
   ]
  },
  {
   "cell_type": "code",
   "execution_count": 46,
   "metadata": {},
   "outputs": [],
   "source": [
    "# hr.loc[hr[\"사번\"]==1101290, \"본부명\"] = \"개발영업본부\""
   ]
  },
  {
   "cell_type": "markdown",
   "metadata": {},
   "source": [
    "### 이하나M 회신 제외 인원 반영"
   ]
  },
  {
   "cell_type": "code",
   "execution_count": 47,
   "metadata": {},
   "outputs": [],
   "source": [
    "# num_list = [6319, 4001308, 4100189, 4100190, 4100194, 4100196, 4100248, 4100251, 4100262, 4374, 4487]\n",
    "# hr.loc[(hr[\"사번\"].isin(num_list)), \"제외여부\"] = \"본부인원에서만 제외\""
   ]
  },
  {
   "cell_type": "markdown",
   "metadata": {},
   "source": [
    "### 제외 로직 적용"
   ]
  },
  {
   "cell_type": "code",
   "execution_count": 48,
   "metadata": {},
   "outputs": [],
   "source": [
    "# \"본부인원에서만 제외\" 설정\n",
    "hr[\"제외여부\"] = hr.apply(lambda x:\"본부인원에서만 제외\" if (x[\"본부명\"]==\"경영본부\") & ((x[\"직급\"]==\"인턴\") | (x[\"직무\"]==\"비상계획\") | (x[\"직무\"]==\"축구협\") | (x[\"직무\"]==\"비서\") | (x[\"직무\"]==\"미화\") | (x[\"직무\"]==\"기사\")) else x[\"제외여부\"], axis=1)\n",
    "hr[\"제외여부\"] = hr.apply(lambda x:\"본부인원에서만 제외\" if \"대기\" in x[\"조직명\"] else x[\"제외여부\"], axis=1)\n",
    "hr[\"제외여부\"] = hr.apply(lambda x:\"본부인원에서만 제외\" if x[\"직무\"]==\"휴직\" else x[\"제외여부\"], axis=1)\n",
    "\n",
    "# \"제외\" 설정\n",
    "hr.loc[(hr[\"하위그룹\"].isin([\"CS외주\", \"정보기술외주\", \"촉탁직\", \"파견직\"])) | (hr[\"재직여부\"]==\"퇴직\"), \"제외여부\"] = \"제외\"\n",
    "\n",
    "hr = hr[[\"사번\", \"성명\", \"EMAIL\", \"본부명\", \"원소속코드\", \"원소속명\", \"조직코드\", \"조직명\", \"직급\", \"구분\", \"직종\", \"성별\", \"하위그룹\", \"재직여부\", \"퇴사일\", \"직무\", \"제외여부\", \"코스트센터\", \"코스트센터내역\", \"코스트센터 분류\", \"코스트센터 본부명\", \"코스트센터 팀명\"]]"
   ]
  },
  {
   "cell_type": "code",
   "execution_count": 49,
   "metadata": {},
   "outputs": [],
   "source": [
    "hr.to_excel(f\"{pref}/직원명단_{tar_date.replace('-', '')[2:]}_전처리 최종.xlsx\", index=False)"
   ]
  },
  {
   "cell_type": "markdown",
   "metadata": {},
   "source": [
    "## 직급별 인원 파일 만들기"
   ]
  },
  {
   "cell_type": "code",
   "execution_count": 50,
   "metadata": {},
   "outputs": [
    {
     "name": "stdout",
     "output_type": "stream",
     "text": [
      "현장    1062\n",
      "본사     463\n",
      "지사      89\n",
      "Name: 코스트센터 분류, dtype: int64\n",
      "\n",
      "현장        1062\n",
      "개발영업본부     263\n",
      "건설본부       159\n",
      "경영본부        49\n",
      "미래혁신본부      41\n",
      "사장직속        21\n",
      "Name: 코스트센터 본부명, dtype: int64\n"
     ]
    }
   ],
   "source": [
    "hr.loc[hr[\"코스트센터 본부명\"]==\"회장직속\", \"코스트센터 본부명\"] = \"사장직속\"\n",
    "hr.loc[hr[\"코스트센터 본부명\"]==\"부회장직속\", \"코스트센터 본부명\"] = \"사장직속\"\n",
    "\n",
    "cls2cnt = hr[hr[\"제외여부\"]!=\"제외\"][\"코스트센터 분류\"].value_counts()\n",
    "hq2cnt = hr[(hr[\"제외여부\"]!=\"제외\") & (hr[\"제외여부\"]!=\"본부인원에서만 제외\")][\"코스트센터 본부명\"].value_counts()\n",
    "print(cls2cnt, end=\"\\n\\n\")\n",
    "print(hq2cnt)"
   ]
  },
  {
   "cell_type": "code",
   "execution_count": 51,
   "metadata": {},
   "outputs": [],
   "source": [
    "wb = openpyxl.load_workbook(f\"{pref}/인원 추이_전처리_/21.05/{bef_date.replace('-', '')[2:]}.xlsx\")"
   ]
  },
  {
   "cell_type": "code",
   "execution_count": 52,
   "metadata": {},
   "outputs": [],
   "source": [
    "ws = wb[\"근무지별 추이(5년치)\"]\n",
    "i = 2\n",
    "for idx, value in cls2cnt.items():\n",
    "    ws[f\"A{i}\"] = tar_date\n",
    "    if idx == \"지사\":\n",
    "        ws[f\"B{i}\"] = f\"{idx}외\"\n",
    "    else:\n",
    "        ws[f\"B{i}\"] = idx\n",
    "    ws[f\"C{i}\"] = value\n",
    "    i += 1\n",
    "\n",
    "ws = wb[\"본부별 월별 추이(2021년)\"]\n",
    "for idx, value in hq2cnt.items():\n",
    "    ws.insert_rows(2)\n",
    "    ws[\"A2\"] = tar_date\n",
    "    ws[\"B2\"] = idx\n",
    "    ws[\"C2\"] = value"
   ]
  },
  {
   "cell_type": "code",
   "execution_count": 53,
   "metadata": {},
   "outputs": [],
   "source": [
    "wb.save(f\"{pref}/인원 추이_전처리_{tar_date.replace('-', '')[2:]}.xlsx\")"
   ]
  }
 ],
 "metadata": {
  "hide_input": false,
  "kernelspec": {
   "display_name": "Python 3",
   "language": "python",
   "name": "python3"
  },
  "language_info": {
   "codemirror_mode": {
    "name": "ipython",
    "version": 3
   },
   "file_extension": ".py",
   "mimetype": "text/x-python",
   "name": "python",
   "nbconvert_exporter": "python",
   "pygments_lexer": "ipython3",
   "version": "3.8.5"
  },
  "toc": {
   "base_numbering": 1,
   "nav_menu": {},
   "number_sections": true,
   "sideBar": true,
   "skip_h1_title": false,
   "title_cell": "Table of Contents",
   "title_sidebar": "Contents",
   "toc_cell": false,
   "toc_position": {},
   "toc_section_display": true,
   "toc_window_display": false
  },
  "varInspector": {
   "cols": {
    "lenName": 16,
    "lenType": 16,
    "lenVar": 40
   },
   "kernels_config": {
    "python": {
     "delete_cmd_postfix": "",
     "delete_cmd_prefix": "del ",
     "library": "var_list.py",
     "varRefreshCmd": "print(var_dic_list())"
    },
    "r": {
     "delete_cmd_postfix": ") ",
     "delete_cmd_prefix": "rm(",
     "library": "var_list.r",
     "varRefreshCmd": "cat(var_dic_list()) "
    }
   },
   "types_to_exclude": [
    "module",
    "function",
    "builtin_function_or_method",
    "instance",
    "_Feature"
   ],
   "window_display": false
  }
 },
 "nbformat": 4,
 "nbformat_minor": 4
}
