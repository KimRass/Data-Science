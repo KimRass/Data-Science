{
 "cells": [
  {
   "cell_type": "code",
   "execution_count": 40,
   "metadata": {
    "ExecuteTime": {
     "end_time": "2021-08-06T06:42:58.527746Z",
     "start_time": "2021-08-06T06:42:57.713041Z"
    }
   },
   "outputs": [],
   "source": [
    "import pandas as pd\n",
    "import re\n",
    "import openpyxl"
   ]
  },
  {
   "cell_type": "code",
   "execution_count": 41,
   "metadata": {
    "ExecuteTime": {
     "end_time": "2021-08-06T06:49:14.710944Z",
     "start_time": "2021-08-06T06:49:14.702719Z"
    }
   },
   "outputs": [],
   "source": [
    "tar_date = \"2021-07-31\"\n",
    "bef_date = \"2021-06-30\"\n",
    "pref = \"D:/Github/Work/Tableau/Personnel\""
   ]
  },
  {
   "cell_type": "code",
   "execution_count": 42,
   "metadata": {
    "ExecuteTime": {
     "end_time": "2021-08-06T07:26:02.769279Z",
     "start_time": "2021-08-06T07:26:02.410863Z"
    }
   },
   "outputs": [],
   "source": [
    "hr = pd.read_excel(f\"D:/Github/Work/Tableau/직원 명단_조직 기준_{tar_date.replace('-', '')[2:]}.xlsx\")"
   ]
  },
  {
   "cell_type": "markdown",
   "metadata": {},
   "source": [
    "## 인사 현황 데이터 전처리\n",
    "\n",
    "### 건설본부만 뽑기"
   ]
  },
  {
   "cell_type": "code",
   "execution_count": 43,
   "metadata": {
    "ExecuteTime": {
     "end_time": "2021-08-06T07:26:10.601344Z",
     "start_time": "2021-08-06T07:26:09.947756Z"
    }
   },
   "outputs": [],
   "source": [
    "# 본사, 지사, 현장 설정\n",
    "hr[[\"직급\", \"직무\", \"하위그룹\"]] = hr[[\"직급\", \"직무\", \"하위그룹\"]].astype(\"str\")\n",
    "hr[\"코스트센터 분류\"] = hr.apply(lambda x:\"지사\" if (\"사업소\" in x[\"조직명\"]) or (\"베트남지사\" in x[\"조직명\"]) else (\"본사\" if re.search(\"^\\d\", x[\"코스트센터\"]) else \"현장\"), axis=1)\n",
    "hr.loc[hr[\"코스트센터 분류\"] == \"현장\", \"본부명(조직단위기준)\"] = \"현장\"\n",
    "hr[\"코스트센터 본부명\"] = hr[\"본부명(조직단위기준)\"]\n",
    "# hr[\"코스트센터 팀명\"] = hr[\"원소속명\"]\n",
    "hr[\"코스트센터 팀명\"] = hr[\"조직명\"]\n",
    "\n",
    "# hq_const = hr[hr[\"본부명(조직단위기준)\"] == \"건설본부\"]\n",
    "# hq_const = hq_const.drop([\"코스트센터 분류\", \"코스트센터 본부명\", \"코스트센터 팀명\"], axis=1)\n",
    "# hq_const.to_excel(f\"{pref}/직원 명단_{tar_date.replace('-', '')[2:]}_건설본부만.xlsx\", encoding=\"euc-kr\", index=False)\n",
    "\n",
    "# hq_no_const = hr[hr[\"본부명(조직단위기준)\"] != \"건설본부\"]\n",
    "# hq_no_const.to_excel(f\"{pref}/직원 명단_{tar_date.replace('-', '')[2:]}_건설본부 제외.xlsx\", encoding=\"euc-kr\", index=False)"
   ]
  },
  {
   "cell_type": "markdown",
   "metadata": {},
   "source": [
    "### 건설기획팀에서 회신한 제외 인원 반영"
   ]
  },
  {
   "cell_type": "code",
   "execution_count": 44,
   "metadata": {},
   "outputs": [],
   "source": [
    "num_list = [3142, 3743, 3782, 5023, 5801, 6029, 4374, 4487, 6319, 3249, 3301]\n",
    "hr.loc[(hr[\"사번\"].isin(num_list)), \"제외여부\"] = \"본부인원에서만 제외\""
   ]
  },
  {
   "cell_type": "markdown",
   "metadata": {},
   "source": [
    "### 제외 로직 적용"
   ]
  },
  {
   "cell_type": "code",
   "execution_count": 45,
   "metadata": {},
   "outputs": [],
   "source": [
    "# \"본부인원에서만 제외\" 설정\n",
    "hr[\"제외여부\"] = hr.apply(lambda x:\"본부인원에서만 제외\" if (x[\"본부명(조직단위기준)\"]==\"경영본부\") & ((x[\"직급\"]==\"인턴\") | (x[\"직무\"]==\"비상계획\") | (x[\"직무\"]==\"축구협\") | (x[\"직무\"]==\"비서\") | (x[\"직무\"]==\"미화\") | (x[\"직무\"]==\"기사\")) else x[\"제외여부\"], axis=1)\n",
    "hr[\"제외여부\"] = hr.apply(lambda x:\"본부인원에서만 제외\" if (\"대기\" in x[\"조직명\"] or x[\"직무\"] == \"휴직\") else x[\"제외여부\"], axis=1)\n",
    "# hr[\"제외여부\"] = hr.apply(lambda x:\"본부인원에서만 제외\" if x[\"직무\"]==\"휴직\" else x[\"제외여부\"], axis=1)\n",
    "\n",
    "# \"제외\" 설정\n",
    "hr.loc[(hr[\"하위그룹\"].isin([\"CS외주\", \"정보기술외주\", \"파견직\"])) | (hr[\"재직여부\"] == \"퇴직\") | (hr[\"원소속명\"] == \"비상근\"), \"제외여부\"] = \"제외\"\n",
    "# hr.loc[(hr[\"하위그룹\"].isin([\"CS외주\", \"정보기술외주\", \"촉탁직\", \"파견직\"])) | (hr[\"재직여부\"] == \"퇴직\"), \"제외여부\"] = \"제외\"\n",
    "\n",
    "hr = hr.rename({\"본부명(조직단위기준)\":\"본부명\"}, axis=1)\n",
    "hr = hr[[\"사번\", \"성명\", \"EMAIL\", \"본부명\", \"원소속코드\", \"원소속명\", \"조직코드\", \"조직명\", \"직급\", \"구분\", \"직종\", \"성별\", \"하위그룹\", \"재직여부\", \"퇴사일\", \"직무\", \"제외여부\", \"코스트센터\", \"코스트센터내역\", \"코스트센터 분류\", \"코스트센터 본부명\", \"코스트센터 팀명\"]]"
   ]
  },
  {
   "cell_type": "code",
   "execution_count": 53,
   "metadata": {},
   "outputs": [
    {
     "data": {
      "text/html": [
       "<div>\n",
       "<style scoped>\n",
       "    .dataframe tbody tr th:only-of-type {\n",
       "        vertical-align: middle;\n",
       "    }\n",
       "\n",
       "    .dataframe tbody tr th {\n",
       "        vertical-align: top;\n",
       "    }\n",
       "\n",
       "    .dataframe thead th {\n",
       "        text-align: right;\n",
       "    }\n",
       "</style>\n",
       "<table border=\"1\" class=\"dataframe\">\n",
       "  <thead>\n",
       "    <tr style=\"text-align: right;\">\n",
       "      <th></th>\n",
       "      <th>사번</th>\n",
       "      <th>성명</th>\n",
       "      <th>EMAIL</th>\n",
       "      <th>본부명</th>\n",
       "      <th>원소속코드</th>\n",
       "      <th>원소속명</th>\n",
       "      <th>조직코드</th>\n",
       "      <th>조직명</th>\n",
       "      <th>직급</th>\n",
       "      <th>구분</th>\n",
       "      <th>...</th>\n",
       "      <th>하위그룹</th>\n",
       "      <th>재직여부</th>\n",
       "      <th>퇴사일</th>\n",
       "      <th>직무</th>\n",
       "      <th>제외여부</th>\n",
       "      <th>코스트센터</th>\n",
       "      <th>코스트센터내역</th>\n",
       "      <th>코스트센터 분류</th>\n",
       "      <th>코스트센터 본부명</th>\n",
       "      <th>코스트센터 팀명</th>\n",
       "    </tr>\n",
       "  </thead>\n",
       "  <tbody>\n",
       "    <tr>\n",
       "      <th>962</th>\n",
       "      <td>1101037</td>\n",
       "      <td>강 우신</td>\n",
       "      <td>wooshinkang@hdc-dvp.com</td>\n",
       "      <td>사장직속</td>\n",
       "      <td>50149156</td>\n",
       "      <td>상임자문(해외사업)</td>\n",
       "      <td>50149156</td>\n",
       "      <td>상임자문(해외사업)</td>\n",
       "      <td>상임자문</td>\n",
       "      <td>본사</td>\n",
       "      <td>...</td>\n",
       "      <td>촉탁직</td>\n",
       "      <td>재직</td>\n",
       "      <td>NaN</td>\n",
       "      <td>상임자문</td>\n",
       "      <td>NaN</td>\n",
       "      <td>0000001158</td>\n",
       "      <td>상임자문(강우신자문)</td>\n",
       "      <td>본사</td>\n",
       "      <td>사장직속</td>\n",
       "      <td>상임자문(해외사업)</td>\n",
       "    </tr>\n",
       "    <tr>\n",
       "      <th>987</th>\n",
       "      <td>1101259</td>\n",
       "      <td>김 일수</td>\n",
       "      <td>kis2747@hdc-dvp.com</td>\n",
       "      <td>현장</td>\n",
       "      <td>50255302</td>\n",
       "      <td>고척IPARK</td>\n",
       "      <td>50255302</td>\n",
       "      <td>고척IPARK</td>\n",
       "      <td>계약직</td>\n",
       "      <td>현장</td>\n",
       "      <td>...</td>\n",
       "      <td>촉탁직</td>\n",
       "      <td>재직</td>\n",
       "      <td>NaN</td>\n",
       "      <td>소장</td>\n",
       "      <td>NaN</td>\n",
       "      <td>C032</td>\n",
       "      <td>고척IPARK</td>\n",
       "      <td>현장</td>\n",
       "      <td>현장</td>\n",
       "      <td>고척IPARK</td>\n",
       "    </tr>\n",
       "  </tbody>\n",
       "</table>\n",
       "<p>2 rows × 22 columns</p>\n",
       "</div>"
      ],
      "text/plain": [
       "          사번    성명                    EMAIL   본부명     원소속코드        원소속명  \\\n",
       "962  1101037  강 우신  wooshinkang@hdc-dvp.com  사장직속  50149156  상임자문(해외사업)   \n",
       "987  1101259  김 일수      kis2747@hdc-dvp.com    현장  50255302     고척IPARK   \n",
       "\n",
       "         조직코드         조직명    직급  구분  ... 하위그룹 재직여부 퇴사일    직무  제외여부  \\\n",
       "962  50149156  상임자문(해외사업)  상임자문  본사  ...  촉탁직   재직 NaN  상임자문   NaN   \n",
       "987  50255302     고척IPARK   계약직  현장  ...  촉탁직   재직 NaN    소장   NaN   \n",
       "\n",
       "          코스트센터      코스트센터내역 코스트센터 분류 코스트센터 본부명    코스트센터 팀명  \n",
       "962  0000001158  상임자문(강우신자문)       본사      사장직속  상임자문(해외사업)  \n",
       "987        C032      고척IPARK       현장        현장     고척IPARK  \n",
       "\n",
       "[2 rows x 22 columns]"
      ]
     },
     "execution_count": 53,
     "metadata": {},
     "output_type": "execute_result"
    }
   ],
   "source": [
    "hr[(hr[\"원소속명\"] != \"비상근\") & (hr[\"하위그룹\"] == \"촉탁직\")]"
   ]
  },
  {
   "cell_type": "code",
   "execution_count": 46,
   "metadata": {},
   "outputs": [
    {
     "data": {
      "text/plain": [
       "하위그룹     재직여부  원소속명                    \n",
       "CS외주     재직    고객서비스팀                      65\n",
       "정보기술외주   재직    정보기술팀                       22\n",
       "촉탁직      재직    비상근                         10\n",
       "파견직      재직    재무팀                          8\n",
       "               마케팅팀                         7\n",
       "               HR혁신팀                        4\n",
       "               고객서비스팀                       4\n",
       "               용현학익1블록도시개발사업단               2\n",
       "               도시정비1팀                       2\n",
       "               도시정비2팀                       2\n",
       "               법무감사팀                        2\n",
       "현채직      퇴직    병점역아이파크캐슬                    2\n",
       "프로젝트계약직  퇴직    병점역아이파크캐슬                    2\n",
       "파견직      재직    인프라개발팀                       2\n",
       "프로젝트계약직  퇴직    청주가경IPARK3단지                 1\n",
       "시험직      퇴직    부산동래래미안아이파크                  1\n",
       "               지개-남산간연결도로민간투자사업             1\n",
       "안전직      퇴직    대전아이파크시티1,2단지                1\n",
       "               비산자이아이파크                     1\n",
       "               아시아드레이카운티(부산거제2구역)           1\n",
       "               지개-남산간연결도로민간투자사업             1\n",
       "현채직      퇴직    대전아이파크시티1,2단지                1\n",
       "프로젝트계약직  퇴직    탄방동1(숭어리샘)주택재건축              1\n",
       "파견직      재직    실시설계팀                        1\n",
       "               상품기획팀                        1\n",
       "               도시개발1팀                       1\n",
       "프로젝트계약직  퇴직    고속국도제65호선포항-영덕간건설공사(4공구)     1\n",
       "파견직      재직    투자운영팀                        1\n",
       "               도시정비기획사업소                    1\n",
       "               인프라수주팀                       1\n",
       "현채직      퇴직    별내역IPARK스위트                  1\n",
       "파견직      재직    민간수주1팀                       1\n",
       "               민간수주2팀                       1\n",
       "               미래전략팀                        1\n",
       "dtype: int64"
      ]
     },
     "execution_count": 46,
     "metadata": {},
     "output_type": "execute_result"
    }
   ],
   "source": [
    "hr[hr[\"제외여부\"] == \"제외\"][[\"하위그룹\", \"재직여부\", \"원소속명\"]].value_counts()"
   ]
  },
  {
   "cell_type": "code",
   "execution_count": 47,
   "metadata": {},
   "outputs": [],
   "source": [
    "hr.to_csv(f\"{pref}/직원 명단_조직 기준_{tar_date.replace('-', '')[2:]}_전처리 최종.csv\", index=False, encoding=\"euc-kr\")\n",
    "# hr.to_excel(f\"{pref}/직원 명단_조직 기준_{tar_date.replace('-', '')[2:]}_전처리 최종.xlsx\", index=False)"
   ]
  },
  {
   "cell_type": "markdown",
   "metadata": {},
   "source": [
    "## 직급별 인원 파일 만들기"
   ]
  },
  {
   "cell_type": "code",
   "execution_count": 48,
   "metadata": {},
   "outputs": [],
   "source": [
    "wb = openpyxl.load_workbook(f\"{pref}/{bef_date.replace('-', '')[2:]}/인원 추이_전처리_{bef_date.replace('-', '')[2:]}.xlsx\")"
   ]
  },
  {
   "cell_type": "code",
   "execution_count": 49,
   "metadata": {},
   "outputs": [
    {
     "name": "stdout",
     "output_type": "stream",
     "text": [
      "현장    1070\n",
      "본사     464\n",
      "지사      90\n",
      "Name: 코스트센터 분류, dtype: int64\n",
      "\n",
      "현장        1070\n",
      "개발영업본부     263\n",
      "건설본부       152\n",
      "경영본부        49\n",
      "미래혁신본부      43\n",
      "사장직속        21\n",
      "Name: 코스트센터 본부명, dtype: int64\n"
     ]
    }
   ],
   "source": [
    "hr.loc[hr[\"코스트센터 본부명\"]==\"회장직속\", \"코스트센터 본부명\"] = \"사장직속\"\n",
    "hr.loc[hr[\"코스트센터 본부명\"]==\"부회장직속\", \"코스트센터 본부명\"] = \"사장직속\"\n",
    "\n",
    "cls2cnt = hr[hr[\"제외여부\"]!=\"제외\"][\"코스트센터 분류\"].value_counts()\n",
    "hq2cnt = hr[(hr[\"제외여부\"]!=\"제외\") & (hr[\"제외여부\"]!=\"본부인원에서만 제외\")][\"코스트센터 본부명\"].value_counts()\n",
    "print(cls2cnt, end=\"\\n\\n\")\n",
    "print(hq2cnt)"
   ]
  },
  {
   "cell_type": "code",
   "execution_count": 50,
   "metadata": {},
   "outputs": [],
   "source": [
    "ws = wb[\"근무지별 추이(5년치)\"]\n",
    "i = 2\n",
    "for idx, value in cls2cnt.items():\n",
    "    ws[f\"A{i}\"] = tar_date\n",
    "    if idx == \"지사\":\n",
    "        ws[f\"B{i}\"] = f\"{idx}외\"\n",
    "    else:\n",
    "        ws[f\"B{i}\"] = idx\n",
    "    ws[f\"C{i}\"] = value\n",
    "    i += 1\n",
    "\n",
    "ws = wb[\"본부별 월별 추이(2021년)\"]\n",
    "for idx, value in hq2cnt.items():\n",
    "    ws.insert_rows(2)\n",
    "    ws[\"A2\"] = tar_date\n",
    "    ws[\"B2\"] = idx\n",
    "    ws[\"C2\"] = value"
   ]
  },
  {
   "cell_type": "code",
   "execution_count": 51,
   "metadata": {},
   "outputs": [],
   "source": [
    "wb.save(f\"{pref}/인원 추이_조직 기준_전처리_{tar_date.replace('-', '')[2:]}.xlsx\")"
   ]
  }
 ],
 "metadata": {
  "hide_input": false,
  "kernelspec": {
   "display_name": "Python 3",
   "language": "python",
   "name": "python3"
  },
  "language_info": {
   "codemirror_mode": {
    "name": "ipython",
    "version": 3
   },
   "file_extension": ".py",
   "mimetype": "text/x-python",
   "name": "python",
   "nbconvert_exporter": "python",
   "pygments_lexer": "ipython3",
   "version": "3.7.7"
  },
  "toc": {
   "base_numbering": 1,
   "nav_menu": {},
   "number_sections": true,
   "sideBar": true,
   "skip_h1_title": false,
   "title_cell": "Table of Contents",
   "title_sidebar": "Contents",
   "toc_cell": false,
   "toc_position": {},
   "toc_section_display": true,
   "toc_window_display": false
  },
  "varInspector": {
   "cols": {
    "lenName": 16,
    "lenType": 16,
    "lenVar": 40
   },
   "kernels_config": {
    "python": {
     "delete_cmd_postfix": "",
     "delete_cmd_prefix": "del ",
     "library": "var_list.py",
     "varRefreshCmd": "print(var_dic_list())"
    },
    "r": {
     "delete_cmd_postfix": ") ",
     "delete_cmd_prefix": "rm(",
     "library": "var_list.r",
     "varRefreshCmd": "cat(var_dic_list()) "
    }
   },
   "types_to_exclude": [
    "module",
    "function",
    "builtin_function_or_method",
    "instance",
    "_Feature"
   ],
   "window_display": false
  }
 },
 "nbformat": 4,
 "nbformat_minor": 4
}
