{
 "cells": [
  {
   "cell_type": "code",
   "execution_count": 2,
   "metadata": {
    "ExecuteTime": {
     "end_time": "2021-08-06T15:25:21.394979Z",
     "start_time": "2021-08-06T15:25:21.362163Z"
    }
   },
   "outputs": [],
   "source": [
    "import pandas as pd\n",
    "import urllib\n",
    "import json\n",
    "import datetime\n",
    "from tqdm.notebook import tqdm\n",
    "import traceback\n",
    "import psycopg2\n",
    "from psycopg2.extras import RealDictCursor\n",
    "import pymssql\n",
    "from dateutil.relativedelta import relativedelta\n",
    "import pickle as pk\n",
    "\n",
    "pd.set_option(\"display.max_columns\", None)"
   ]
  },
  {
   "cell_type": "markdown",
   "metadata": {},
   "source": [
    "## 구글 애널리틱스\n",
    "- https://ga-dev-tools.appspot.com/query-explorer/\n",
    "\n",
    "### MAU\n",
    "- metrics: \"ga:users\", \"ga:pageviews\"\n",
    "- dimentions: \"ga:yearMonth\""
   ]
  },
  {
   "cell_type": "code",
   "execution_count": 14,
   "metadata": {},
   "outputs": [],
   "source": [
    "start = datetime.datetime(2017, 1, 1)\n",
    "end = datetime.datetime(2021, 7, 31)\n",
    "token = \"ya29.a0ARrdaM8NE8YPegZVgbU81SfaeY3ih5yx2WpxAbTlTPSXT9fA_HKe6-0o-Pk6XmrhTPTDQVIb5WiXd1kS8FXGYvZ077BTJCleaiND8GNyR9znl685xFLlPaDvfkcA96GOK-Z4LmbO1d-MS-J8aSESqk7YRRxVRNw\""
   ]
  },
  {
   "cell_type": "code",
   "execution_count": 3,
   "metadata": {},
   "outputs": [],
   "source": [
    "url = f\"https://www.googleapis.com/analytics/v3/data/ga?ids=ga%3A206525354&start-date={start.strftime('%Y-%m-%d')}&end-date={end.strftime('%Y-%m-%d')}&metrics=ga%3Ausers%2Cga%3Apageviews&dimensions=ga%3AyearMonth&access_token={token}\"\n",
    "req = urllib.request.urlopen(url).read().decode(\"utf8\")\n",
    "js = json.loads(req)\n",
    "\n",
    "mau = pd.DataFrame(js[\"rows\"], columns=pd.DataFrame(js[\"columnHeaders\"])[\"name\"].str.split(\":\").str[1].tolist())"
   ]
  },
  {
   "cell_type": "code",
   "execution_count": 7,
   "metadata": {},
   "outputs": [],
   "source": [
    "# mau.to_csv(f\"D:/디지털혁신팀/태블로/마이호미/마이호미_FINAL/mau_{end.strftime('%Y-%m-%d')}.csv\", encoding=\"euc-kr\", index=False)\n",
    "# mau.tail()"
   ]
  },
  {
   "cell_type": "markdown",
   "metadata": {},
   "source": [
    "## mall.csv"
   ]
  },
  {
   "cell_type": "code",
   "execution_count": 6,
   "metadata": {},
   "outputs": [],
   "source": [
    "# cols = [\"주문번호\", \"아이디\", \"상품ID\", \"상품명\", \"수량\", \"상품금액\", \"주문일자\", \"모바일주문여부\"]\n",
    "\n",
    "# with open(\"D:/디지털혁신팀/태블로/mall_password.pkl\", \"rb\") as f:\n",
    "#      password = pk.load(f)\n",
    "# conn = pymssql.connect(server=\"125.60.68.233\", database=\"eiparkclub\", user=\"myhomie\", password=password, charset=\"utf8\")\n",
    "# cur = conn.cursor()\n",
    "\n",
    "# sql = f\"SELECT 주문번호, 임직원아이디, _상품ID, 상품명, 수량, 상품금액, 주문일자, _모바일주문여부 FROM vwAdjustDetail;\"\n",
    "# # sql = f\"SELECT 임직원아이디 FROM vwAdjustDetail;\"\n",
    "# cur.execute(sql)\n",
    "\n",
    "# data = pd.DataFrame(cur.fetchall(), columns=cols)\n",
    "# # data = pd.DataFrame(cur.fetchall())\n",
    "# data = data[data[\"아이디\"].str.contains(\"MBR\")]\n",
    "# data = data.reset_index(drop=True)"
   ]
  },
  {
   "cell_type": "code",
   "execution_count": 8,
   "metadata": {
    "scrolled": true
   },
   "outputs": [],
   "source": [
    "# data.to_csv(f\"mall_{end.strftime('%Y-%m-%d')}.csv\", encoding=\"euc-kr\", index=False)\n",
    "# data.head()"
   ]
  },
  {
   "cell_type": "markdown",
   "metadata": {},
   "source": [
    "# 다운로드(iOS)"
   ]
  },
  {
   "cell_type": "code",
   "execution_count": 1,
   "metadata": {},
   "outputs": [],
   "source": [
    "# with open(\"D:/AuthKey_BB99VD4S7X.p8\", \"r\") as f:\n",
    "#     key_file = f.read()\n",
    "# api = Api(key_id=\"BB99VD4S7X\", key_file=key_file, issuer_id=\"252fd97c-ea6e-45b9-a795-693f38f8dbaf\")\n",
    "# api.download_sales_and_trends_reports(filters={\"frequency\": \"DAILY\", \"reportSubType\":\"DETAILED\", \"reportType\":\"SALES\", \"vendorNumber\": \"88755846\"})\n",
    "# # , save_to=\"report.csv\")"
   ]
  },
  {
   "cell_type": "code",
   "execution_count": 2,
   "metadata": {},
   "outputs": [],
   "source": [
    "# views = pd.DataFrame()\n",
    "# for i in tqdm(range(100)):\n",
    "#     try:\n",
    "#         start = end - datetime.timedelta(days=10*(i+1))\n",
    "#         end = end - datetime.timedelta(days=10*i)\n",
    "#         url = f\"https://www.googleapis.com/analytics/v3/data/ga?ids=ga%3A206525354&start-date={start.strftime('%Y-%m-%d')}&end-date={end.strftime('%Y-%m-%d')}&metrics=ga%3Ausers%2Cga%3Apageviews&dimensions=ga%3ApageTitle%2Cga%3Adate&sort=-ga%3Adate&access_token={token}\"\n",
    "#         req = urllib.request.urlopen(url).read().decode(\"utf8\")\n",
    "#         js = json.loads(req)\n",
    "        \n",
    "#         df = pd.DataFrame(js[\"rows\"], columns=pd.DataFrame(js[\"columnHeaders\"])[\"name\"].str.split(\":\").str[1].tolist())\n",
    "#         views = pd.concat([views, df])\n",
    "#     except:\n",
    "#         break"
   ]
  },
  {
   "cell_type": "markdown",
   "metadata": {},
   "source": [
    "## 개발사 데이터\n",
    "\n",
    "## sys_code"
   ]
  },
  {
   "cell_type": "code",
   "execution_count": 24,
   "metadata": {},
   "outputs": [],
   "source": [
    "# with open(\"D:/디지털혁신팀/태블로/signup_password.pkl\", \"rb\") as f:\n",
    "#      password = pk.load(f)\n",
    "# conn = psycopg2.connect(host=\"postgresql-production1.cluster-ro-cxb5zwyq1mu5.ap-northeast-2.rds.amazonaws.com\", dbname=\"hdc\", user=\"postgres\", password=password)\n",
    "# cur = conn.cursor(cursor_factory=RealDictCursor)\n",
    "# query = f\"SELECT * FROM hdc_sys.sys_code;\"\n",
    "# cur.execute(query)\n",
    "# result = cur.fetchall()\n",
    "\n",
    "# sys_code = pd.DataFrame(result)"
   ]
  },
  {
   "cell_type": "code",
   "execution_count": 18,
   "metadata": {},
   "outputs": [],
   "source": [
    "# sys_code.head()"
   ]
  },
  {
   "cell_type": "markdown",
   "metadata": {},
   "source": [
    "## apt_mst.csv"
   ]
  },
  {
   "cell_type": "code",
   "execution_count": 19,
   "metadata": {},
   "outputs": [],
   "source": [
    "with open(\"D:/디지털혁신팀/태블로/signup_password.pkl\", \"rb\") as f:\n",
    "     password = pk.load(f)\n",
    "conn = psycopg2.connect(host=\"postgresql-production1.cluster-ro-cxb5zwyq1mu5.ap-northeast-2.rds.amazonaws.com\", dbname=\"hdc\", user=\"postgres\", password=password)\n",
    "cur = conn.cursor(cursor_factory=RealDictCursor)\n",
    "query = f\"SELECT * FROM hdc_apt.apt_mst;\"\n",
    "cur.execute(query)\n",
    "result = cur.fetchall()\n",
    "\n",
    "apt_mst = pd.DataFrame(result)"
   ]
  },
  {
   "cell_type": "code",
   "execution_count": 23,
   "metadata": {},
   "outputs": [],
   "source": [
    "# apt_mst.to_csv(f\"D:/디지털혁신팀/태블로/마이호미/마이호미_FINAL/apt_mst_{end.strftime('%Y-%m-%d')}.csv\", encoding=\"euc-kr\",  index=False)\n",
    "# apt_mst.head()"
   ]
  },
  {
   "cell_type": "markdown",
   "metadata": {},
   "source": [
    "## signup.csv"
   ]
  },
  {
   "cell_type": "code",
   "execution_count": null,
   "metadata": {},
   "outputs": [],
   "source": [
    "SELECT\n",
    "    A.*\n",
    "FROM (\n",
    "    SELECT\n",
    "        mbrmst.mbr_id,\n",
    "        mbrmst.login_id,\n",
    "        aptmst.apt_name,\n",
    "        aui.dng_no,\n",
    "        aui.ho_no,\n",
    "        aui.sep_no,\n",
    "        CONCAT(mbrmst.mbr_name, '(', mbrmst.login_id, ')') AS mbr_name,\n",
    "        mbrmst.mbr_sex,\n",
    "        mbrmst.mbr_birth,\n",
    "        mbrmst.mbr_nickname,\n",
    "        mbrmst.mbr_phone,\n",
    "        mbrmst.mbr_sys_ty,\n",
    "        C1.crd_name AS mbr_sys_ty_name,\n",
    "        mbrmst.mbr_st,\n",
    "        C2.crd_name AS mbr_st_name,\n",
    "        mbrmst.regist_dt,\n",
    "        hmmd.mbr_last_access_dt,\n",
    "        mbrcert.mbr_acert_id,\n",
    "        aptmst.apt_id,\n",
    "        C3.crd_group AS loc1,\n",
    "        aptmst.apt_addr_code,\n",
    "        mbrmst.mbr_memo,\n",
    "        TO_CHAR(mbrmst.mbr_leaving_expected_date, 'YYYY/MM/DD') AS mbr_leaving_expected_date,\n",
    "        aui.unit_id,\n",
    "        mbrmst.mbr_admin_yn,\n",
    "        mbrmst.mbr_familly_ty,\n",
    "        CASE WHEN mbrmst.mbr_delete_date IS NULL        THEN            ''        WHEN mbrmst.mbr_delete_date is not NULL        THEN            TO_CHAR(mbrmst.mbr_delete_date,'yyyy/mm/dd')        end mbr_delete_date     FROM        hdc_mbr.mbr_mst mbrmst        left JOIN hdc_mbr.mbr_device hmmd on mbrmst.mbr_id = hmmd.mbr_id        left JOIN hdc_sys.sys_code C1 on mbrmst.mbr_sys_ty = C1.crd        left JOIN hdc_sys.sys_code C2 on mbrmst.mbr_st = C2.crd        inner JOIN hdc_mbr.mbr_cert mbrcert on mbrmst.mbr_id = mbrcert.mbr_id        inner JOIN hdc_mbr.mbr_apt_cert_his ach on mbrcert.mbr_acert_id = ach.apt_cert_id        inner JOIN hdc_apt.apt_mst aptmst on ach.apt_id = aptmst.apt_id        inner JOIN hdc_apt.apt_unit_info aui on ach.apt_unit_id = aui.unit_id        left JOIN hdc_sys.sys_code C3 on aptmst.apt_addr_code = C3.crd) a\\twhere        1=1        and a.mbr_admin_yn = 'n'        and\\ta.mbr_sys_ty = 'c000004001'    order by        a.regist_dt descunionSELECT    a.*FROM (        SELECT mbrmst.mbr_id        \\t , mbrmst.login_id             , aptmst.apt_name             , aui.dng_no             , aui.ho_no             , aui.sep_no             , CONCAT(mbrmst.mbr_name,'(',mbrmst.login_id, ')') AS mbr_name             , mbrmst.mbr_sex             , mbrmst.mbr_birth             , mbrmst.mbr_nickname             , mbrmst.mbr_phone             , mbrmst.mbr_sys_ty             , C1.crd_name AS mbr_sys_ty_name             , mbrmst.mbr_st             , C2.crd_name AS mbr_st_name             , mbrmst.regist_dt             , hmmd.mbr_last_access_dt             , mbrcert.mbr_acert_id             , aptmst.apt_id             , C3.crd_group AS loc1             , aptmst.apt_addr_code             , mbrmst.mbr_memo             , TO_CHAR(mbrmst.mbr_leaving_expected_date, 'yyyy/mm/dd') AS mbr_leaving_expected_date              , aui.unit_id             , mbrmst.mbr_admin_yn             , mbrmst.mbr_familly_ty             , CASE WHEN mbrmst.mbr_delete_date is NULL THEN ''                    WHEN mbrmst.mbr_delete_date is not NULL THEN TO_CHAR(mbrmst.mbr_delete_date,'yyyy/mm/dd')                end mbr_delete_date           FROM hdc_mbr.mbr_mst mbrmst\\t left JOIN hdc_mbr.mbr_device hmmd on mbrmst.mbr_id = hmmd.mbr_id     left JOIN hdc_sys.sys_code C1 on mbrmst.mbr_sys_ty = C1.crd     left JOIN hdc_sys.sys_code C2 on mbrmst.mbr_st = C2.crd\\tinner JOIN hdc_mbr.mbr_cert mbrcert on mbrmst.mbr_id = mbrcert.mbr_id\\tinner JOIN hdc_mbr.mbr_apt_cert_his ach on mbrcert.mbr_acert_id = ach.apt_cert_id\\tinner JOIN hdc_apt.apt_mst aptmst on ach.apt_id = aptmst.apt_id    inner JOIN hdc_apt.apt_unit_info aui on ach.apt_unit_id = aui.unit_id\\t left JOIN hdc_sys.sys_code C3 on aptmst.apt_addr_code = C3.crd\\t  union        SELECT mbrmst.mbr_id             , mbrmst.login_id             , aptmst.apt_name             , aui.dng_no             , aui.ho_no             , aui.sep_no             , CONCAT(mbrmst.mbr_name,'(',mbrmst.login_id, ')') AS mbr_name             , mbrmst.mbr_sex             , mbrmst.mbr_birth             , mbrmst.mbr_nickname             , mbrmst.mbr_phone             , mbrmst.mbr_sys_ty             , C1.crd_name AS mbr_sys_ty_name             , mbrmst.mbr_st             , C2.crd_name AS mbr_st_name             , mbrmst.regist_dt             , hmmd.mbr_last_access_dt             , mbrcert.mbr_acert_id             , aptmst.apt_id             , C3.crd_group AS loc1             , aptmst.apt_addr_code             , mbrmst.mbr_memo             , TO_CHAR(mbrmst.mbr_leaving_expected_date, 'yyyy/mm/dd') AS mbr_leaving_expected_date              , aui.unit_id             , mbrmst.mbr_admin_yn             , mbrmst.mbr_familly_ty             , CASE WHEN mbrmst.mbr_delete_date is NULL THEN ''                    WHEN mbrmst.mbr_delete_date is not NULL THEN TO_CHAR(mbrmst.mbr_delete_date,'yyyy/mm/dd')                end mbr_delete_date          FROM hdc_mbr.mbr_mst mbrmst     left JOIN hdc_mbr.mbr_device hmmd on mbrmst.mbr_id = hmmd.mbr_id     left JOIN hdc_sys.sys_code C1 on mbrmst.mbr_sys_ty = C1.crd     left JOIN hdc_sys.sys_code C2 on mbrmst.mbr_st = C2.crd\\t \\tinner JOIN hdc_mbr.mbr_group_mbr mgm on mbrmst.mbr_id = mgm.mbr_id and mgm.group_mbr_invite_st != 'c000002009'\\t    inner JOIN hdc_mbr.mbr_group mg on mgm.grp_id = mg.grp_id \\t left JOIN hdc_mbr.mbr_cert mbrcert on mg.grp_owner = mbrcert.mbr_id \\t left JOIN hdc_mbr.mbr_apt_cert_his ach on mbrcert.mbr_acert_id = ach.apt_cert_id \\t left JOIN hdc_apt.apt_mst aptmst on ach.apt_id = aptmst.apt_id     left JOIN hdc_apt.apt_unit_info aui on ach.apt_unit_id = aui.unit_id\\t left JOIN hdc_sys.sys_code C3 on aptmst.apt_addr_code = C3.crd\\t ) a\\twhere 1=1\\tand a.mbr_admin_yn = 'n'\\tand\\ta.mbr_sys_ty in ('c000004003','c000004004')    order by a.regist_dt desc\""
   ]
  },
  {
   "cell_type": "code",
   "execution_count": 66,
   "metadata": {
    "ExecuteTime": {
     "end_time": "2021-08-06T15:53:28.555285Z",
     "start_time": "2021-08-06T15:53:28.400431Z"
    }
   },
   "outputs": [
    {
     "ename": "SyntaxError",
     "evalue": "syntax error at or near \"UNION\"\nLINE 56: UNION\n         ^\n",
     "output_type": "error",
     "traceback": [
      "\u001b[1;31m---------------------------------------------------------------------------\u001b[0m",
      "\u001b[1;31mSyntaxError\u001b[0m                               Traceback (most recent call last)",
      "\u001b[1;32m<ipython-input-66-8f74f448d1ea>\u001b[0m in \u001b[0;36m<module>\u001b[1;34m\u001b[0m\n\u001b[0;32m    149\u001b[0m     \u001b[0mORDER\u001b[0m \u001b[0mBY\u001b[0m \u001b[0mA\u001b[0m\u001b[1;33m.\u001b[0m\u001b[0mREGIST_DT\u001b[0m \u001b[0mDESC\u001b[0m\u001b[1;33m\u001b[0m\u001b[1;33m\u001b[0m\u001b[0m\n\u001b[0;32m    150\u001b[0m \"\"\"\n\u001b[1;32m--> 151\u001b[1;33m \u001b[0mcur\u001b[0m\u001b[1;33m.\u001b[0m\u001b[0mexecute\u001b[0m\u001b[1;33m(\u001b[0m\u001b[0mquery\u001b[0m\u001b[1;33m)\u001b[0m\u001b[1;33m\u001b[0m\u001b[1;33m\u001b[0m\u001b[0m\n\u001b[0m\u001b[0;32m    152\u001b[0m \u001b[0mresult\u001b[0m \u001b[1;33m=\u001b[0m \u001b[0mcur\u001b[0m\u001b[1;33m.\u001b[0m\u001b[0mfetchall\u001b[0m\u001b[1;33m(\u001b[0m\u001b[1;33m)\u001b[0m\u001b[1;33m\u001b[0m\u001b[1;33m\u001b[0m\u001b[0m\n\u001b[0;32m    153\u001b[0m \u001b[0msys_code\u001b[0m \u001b[1;33m=\u001b[0m \u001b[0mpd\u001b[0m\u001b[1;33m.\u001b[0m\u001b[0mDataFrame\u001b[0m\u001b[1;33m(\u001b[0m\u001b[0mresult\u001b[0m\u001b[1;33m)\u001b[0m\u001b[1;33m\u001b[0m\u001b[1;33m\u001b[0m\u001b[0m\n",
      "\u001b[1;32m~\\Anaconda3\\envs\\tf2.3\\lib\\site-packages\\psycopg2\\extras.py\u001b[0m in \u001b[0;36mexecute\u001b[1;34m(self, query, vars)\u001b[0m\n\u001b[0;32m    249\u001b[0m         \u001b[0mself\u001b[0m\u001b[1;33m.\u001b[0m\u001b[0mcolumn_mapping\u001b[0m \u001b[1;33m=\u001b[0m \u001b[1;33m[\u001b[0m\u001b[1;33m]\u001b[0m\u001b[1;33m\u001b[0m\u001b[1;33m\u001b[0m\u001b[0m\n\u001b[0;32m    250\u001b[0m         \u001b[0mself\u001b[0m\u001b[1;33m.\u001b[0m\u001b[0m_query_executed\u001b[0m \u001b[1;33m=\u001b[0m \u001b[1;32mTrue\u001b[0m\u001b[1;33m\u001b[0m\u001b[1;33m\u001b[0m\u001b[0m\n\u001b[1;32m--> 251\u001b[1;33m         \u001b[1;32mreturn\u001b[0m \u001b[0msuper\u001b[0m\u001b[1;33m(\u001b[0m\u001b[0mRealDictCursor\u001b[0m\u001b[1;33m,\u001b[0m \u001b[0mself\u001b[0m\u001b[1;33m)\u001b[0m\u001b[1;33m.\u001b[0m\u001b[0mexecute\u001b[0m\u001b[1;33m(\u001b[0m\u001b[0mquery\u001b[0m\u001b[1;33m,\u001b[0m \u001b[0mvars\u001b[0m\u001b[1;33m)\u001b[0m\u001b[1;33m\u001b[0m\u001b[1;33m\u001b[0m\u001b[0m\n\u001b[0m\u001b[0;32m    252\u001b[0m \u001b[1;33m\u001b[0m\u001b[0m\n\u001b[0;32m    253\u001b[0m     \u001b[1;32mdef\u001b[0m \u001b[0mcallproc\u001b[0m\u001b[1;33m(\u001b[0m\u001b[0mself\u001b[0m\u001b[1;33m,\u001b[0m \u001b[0mprocname\u001b[0m\u001b[1;33m,\u001b[0m \u001b[0mvars\u001b[0m\u001b[1;33m=\u001b[0m\u001b[1;32mNone\u001b[0m\u001b[1;33m)\u001b[0m\u001b[1;33m:\u001b[0m\u001b[1;33m\u001b[0m\u001b[1;33m\u001b[0m\u001b[0m\n",
      "\u001b[1;31mSyntaxError\u001b[0m: syntax error at or near \"UNION\"\nLINE 56: UNION\n         ^\n"
     ]
    }
   ],
   "source": [
    "with open(\"D:/Github/Work/Tableau/signup_password.pkl\", \"rb\") as f:\n",
    "     password = pk.load(f)\n",
    "conn = psycopg2.connect(host=\"postgresql-production1.cluster-ro-cxb5zwyq1mu5.ap-northeast-2.rds.amazonaws.com\", dbname=\"hdc\", user=\"postgres\", password=password)\n",
    "cur = conn.cursor(cursor_factory=RealDictCursor)\n",
    "query = \"\"\"\n",
    "SELECT\n",
    "    A.*\n",
    "FROM (\n",
    "    SELECT\n",
    "        MBRMST.MBR_ID\n",
    "        , MBRMST.LOGIN_ID\n",
    "        , APTMST.APT_NAME\n",
    "        , AUI.DNG_NO\n",
    "        , AUI.HO_NO\n",
    "        , AUI.SEP_NO\n",
    "        , CONCAT(MBRMST.MBR_NAME,'(',MBRMST.LOGIN_ID, ')') AS MBR_NAME\n",
    "        , MBRMST.MBR_SEX\n",
    "        , MBRMST.MBR_BIRTH\n",
    "        , MBRMST.MBR_NICKNAME\n",
    "        , MBRMST.MBR_PHONE\n",
    "        , MBRMST.MBR_SYS_TY\n",
    "        , C1.CRD_NAME AS MBR_SYS_TY_NAME\n",
    "        , MBRMST.MBR_ST\n",
    "        , C2.CRD_NAME AS MBR_ST_NAME\n",
    "        , MBRMST.REGIST_DT\n",
    "        , HMMD.MBR_LAST_ACCESS_DT\n",
    "        , MBRCERT.MBR_ACERT_ID\n",
    "        , APTMST.APT_ID\n",
    "        , C3.CRD_GROUP AS LOC1\n",
    "        , APTMST.APT_ADDR_CODE\n",
    "        , MBRMST.MBR_MEMO\n",
    "        , TO_CHAR(MBRMST.MBR_LEAVING_EXPECTED_DATE, 'YYYY/MM/DD') AS MBR_LEAVING_EXPECTED_DATE \n",
    "        , AUI.UNIT_ID\n",
    "        , MBRMST.MBR_ADMIN_YN\n",
    "        , MBRMST.MBR_FAMILLY_TY\n",
    "        , CASE WHEN\n",
    "            MBRMST.MBR_DELETE_DATE IS NULL\n",
    "        THEN\n",
    "            ''\n",
    "        WHEN MBRMST.MBR_DELETE_DATE IS NOT NULL\n",
    "        THEN\n",
    "            TO_CHAR(MBRMST.MBR_DELETE_DATE,'YYYY/MM/DD')\n",
    "        END MBR_DELETE_DATE \n",
    "    FROM\n",
    "        HDC_MBR.MBR_MST MBRMST\n",
    "        LEFT JOIN HDC_MBR.MBR_DEVICE HMMD ON MBRMST.MBR_ID = HMMD.MBR_ID\n",
    "        LEFT JOIN HDC_SYS.SYS_CODE C1 ON MBRMST.MBR_SYS_TY = C1.CRD\n",
    "        LEFT JOIN HDC_SYS.SYS_CODE C2 ON MBRMST.MBR_ST = C2.CRD\n",
    "        INNER JOIN HDC_MBR.MBR_CERT MBRCERT ON MBRMST.MBR_ID = MBRCERT.MBR_ID\n",
    "        INNER JOIN HDC_MBR.MBR_APT_CERT_HIS ACH ON MBRCERT.MBR_ACERT_ID = ACH.APT_CERT_ID\n",
    "        INNER JOIN HDC_APT.APT_MST APTMST ON ACH.APT_ID = APTMST.APT_ID\n",
    "        INNER JOIN HDC_APT.APT_UNIT_INFO AUI ON ACH.APT_UNIT_ID = AUI.UNIT_ID\n",
    "        LEFT JOIN HDC_SYS.SYS_CODE C3 ON APTMST.APT_ADDR_CODE = C3.CRD) A\n",
    "\tWHERE\n",
    "        1=1\n",
    "        AND A.MBR_ADMIN_YN = 'N'\n",
    "        AND\tA.MBR_SYS_TY = 'C000004001'\n",
    "    ORDER BY\n",
    "        A.REGIST_DT DESC\n",
    "UNION\n",
    "SELECT\n",
    "    A.*\n",
    "FROM (\n",
    "        SELECT MBRMST.MBR_ID\n",
    "        \t , MBRMST.LOGIN_ID\n",
    "             , APTMST.APT_NAME\n",
    "             , AUI.DNG_NO\n",
    "             , AUI.HO_NO\n",
    "             , AUI.SEP_NO\n",
    "             , CONCAT(MBRMST.MBR_NAME,'(',MBRMST.LOGIN_ID, ')') AS MBR_NAME\n",
    "             , MBRMST.MBR_SEX\n",
    "             , MBRMST.MBR_BIRTH\n",
    "             , MBRMST.MBR_NICKNAME\n",
    "             , MBRMST.MBR_PHONE\n",
    "             , MBRMST.MBR_SYS_TY\n",
    "             , C1.CRD_NAME AS MBR_SYS_TY_NAME\n",
    "             , MBRMST.MBR_ST\n",
    "             , C2.CRD_NAME AS MBR_ST_NAME\n",
    "             , MBRMST.REGIST_DT\n",
    "             , HMMD.MBR_LAST_ACCESS_DT\n",
    "             , MBRCERT.MBR_ACERT_ID\n",
    "             , APTMST.APT_ID\n",
    "             , C3.CRD_GROUP AS LOC1\n",
    "             , APTMST.APT_ADDR_CODE\n",
    "             , MBRMST.MBR_MEMO\n",
    "             , TO_CHAR(MBRMST.MBR_LEAVING_EXPECTED_DATE, 'YYYY/MM/DD') AS MBR_LEAVING_EXPECTED_DATE \n",
    "             , AUI.UNIT_ID\n",
    "             , MBRMST.MBR_ADMIN_YN\n",
    "             , MBRMST.MBR_FAMILLY_TY\n",
    "             , CASE WHEN MBRMST.MBR_DELETE_DATE IS NULL THEN ''\n",
    "                    WHEN MBRMST.MBR_DELETE_DATE IS NOT NULL THEN TO_CHAR(MBRMST.MBR_DELETE_DATE,'YYYY/MM/DD')\n",
    "                END MBR_DELETE_DATE \n",
    "          FROM HDC_MBR.MBR_MST MBRMST\n",
    "\t LEFT JOIN HDC_MBR.MBR_DEVICE HMMD ON MBRMST.MBR_ID = HMMD.MBR_ID\n",
    "     LEFT JOIN HDC_SYS.SYS_CODE C1 ON MBRMST.MBR_SYS_TY = C1.CRD\n",
    "     LEFT JOIN HDC_SYS.SYS_CODE C2 ON MBRMST.MBR_ST = C2.CRD\n",
    "\tINNER JOIN HDC_MBR.MBR_CERT MBRCERT ON MBRMST.MBR_ID = MBRCERT.MBR_ID\n",
    "\tINNER JOIN HDC_MBR.MBR_APT_CERT_HIS ACH ON MBRCERT.MBR_ACERT_ID = ACH.APT_CERT_ID\n",
    "\tINNER JOIN HDC_APT.APT_MST APTMST ON ACH.APT_ID = APTMST.APT_ID\n",
    "    INNER JOIN HDC_APT.APT_UNIT_INFO AUI ON ACH.APT_UNIT_ID = AUI.UNIT_ID\n",
    "\t LEFT JOIN HDC_SYS.SYS_CODE C3 ON APTMST.APT_ADDR_CODE = C3.CRD\n",
    "\t  UNION\n",
    "        SELECT MBRMST.MBR_ID\n",
    "             , MBRMST.LOGIN_ID\n",
    "             , APTMST.APT_NAME\n",
    "             , AUI.DNG_NO\n",
    "             , AUI.HO_NO\n",
    "             , AUI.SEP_NO\n",
    "             , CONCAT(MBRMST.MBR_NAME,'(',MBRMST.LOGIN_ID, ')') AS MBR_NAME\n",
    "             , MBRMST.MBR_SEX\n",
    "             , MBRMST.MBR_BIRTH\n",
    "             , MBRMST.MBR_NICKNAME\n",
    "             , MBRMST.MBR_PHONE\n",
    "             , MBRMST.MBR_SYS_TY\n",
    "             , C1.CRD_NAME AS MBR_SYS_TY_NAME\n",
    "             , MBRMST.MBR_ST\n",
    "             , C2.CRD_NAME AS MBR_ST_NAME\n",
    "             , MBRMST.REGIST_DT\n",
    "             , HMMD.MBR_LAST_ACCESS_DT\n",
    "             , MBRCERT.MBR_ACERT_ID\n",
    "             , APTMST.APT_ID\n",
    "             , C3.CRD_GROUP AS LOC1\n",
    "             , APTMST.APT_ADDR_CODE\n",
    "             , MBRMST.MBR_MEMO\n",
    "             , TO_CHAR(MBRMST.MBR_LEAVING_EXPECTED_DATE, 'YYYY/MM/DD') AS MBR_LEAVING_EXPECTED_DATE \n",
    "             , AUI.UNIT_ID\n",
    "             , MBRMST.MBR_ADMIN_YN\n",
    "             , MBRMST.MBR_FAMILLY_TY\n",
    "             , CASE WHEN MBRMST.MBR_DELETE_DATE IS NULL THEN ''\n",
    "                    WHEN MBRMST.MBR_DELETE_DATE IS NOT NULL THEN TO_CHAR(MBRMST.MBR_DELETE_DATE,'YYYY/MM/DD')\n",
    "                END MBR_DELETE_DATE\n",
    "          FROM HDC_MBR.MBR_MST MBRMST\n",
    "     LEFT JOIN HDC_MBR.MBR_DEVICE HMMD ON MBRMST.MBR_ID = HMMD.MBR_ID\n",
    "     LEFT JOIN HDC_SYS.SYS_CODE C1 ON MBRMST.MBR_SYS_TY = C1.CRD\n",
    "     LEFT JOIN HDC_SYS.SYS_CODE C2 ON MBRMST.MBR_ST = C2.CRD\n",
    "\t \n",
    "\tINNER JOIN HDC_MBR.MBR_GROUP_MBR MGM ON MBRMST.MBR_ID = MGM.MBR_ID AND MGM.GROUP_MBR_INVITE_ST != 'C000002009'\n",
    "\t\n",
    "    INNER JOIN HDC_MBR.MBR_GROUP MG ON MGM.GRP_ID = MG.GRP_ID\n",
    " \t LEFT JOIN HDC_MBR.MBR_CERT MBRCERT ON MG.GRP_OWNER = MBRCERT.MBR_ID\n",
    " \t LEFT JOIN HDC_MBR.MBR_APT_CERT_HIS ACH ON MBRCERT.MBR_ACERT_ID = ACH.APT_CERT_ID\n",
    " \t LEFT JOIN HDC_APT.APT_MST APTMST ON ACH.APT_ID = APTMST.APT_ID\n",
    "     LEFT JOIN HDC_APT.APT_UNIT_INFO AUI ON ACH.APT_UNIT_ID = AUI.UNIT_ID\n",
    "\t LEFT JOIN HDC_SYS.SYS_CODE C3 ON APTMST.APT_ADDR_CODE = C3.CRD\n",
    "\t ) A\n",
    "\tWHERE 1=1\n",
    "\tAND A.MBR_ADMIN_YN = 'N'\n",
    "\tAND\tA.MBR_SYS_TY IN ('C000004003','C000004004')\n",
    "    ORDER BY A.REGIST_DT DESC\n",
    "\"\"\"\n",
    "cur.execute(query)\n",
    "result = cur.fetchall()\n",
    "sys_code = pd.DataFrame(result)"
   ]
  },
  {
   "cell_type": "code",
   "execution_count": 29,
   "metadata": {},
   "outputs": [
    {
     "name": "stdout",
     "output_type": "stream",
     "text": [
      "<class 'pandas.core.frame.DataFrame'>\n",
      "RangeIndex: 16171 entries, 0 to 16170\n",
      "Data columns (total 10 columns):\n",
      " #   Column           Non-Null Count  Dtype         \n",
      "---  ------           --------------  -----         \n",
      " 0   mbr_id           16171 non-null  object        \n",
      " 1   apt_name         16171 non-null  object        \n",
      " 2   dng_no           16171 non-null  object        \n",
      " 3   ho_no            16171 non-null  object        \n",
      " 4   mbr_sys_ty_name  16171 non-null  object        \n",
      " 5   mbr_st_name      16171 non-null  object        \n",
      " 6   case             16171 non-null  object        \n",
      " 7   mbr_birth        16171 non-null  object        \n",
      " 8   mbr_reg_dt       16171 non-null  datetime64[ns]\n",
      " 9   mbr_del_dt       534 non-null    datetime64[ns]\n",
      "dtypes: datetime64[ns](2), object(8)\n",
      "memory usage: 1.2+ MB\n"
     ]
    }
   ],
   "source": [
    "a.info()"
   ]
  },
  {
   "cell_type": "code",
   "execution_count": 48,
   "metadata": {},
   "outputs": [],
   "source": [
    "# 대표, 세대원\n",
    "with open(\"D:/Github/Work/Tableau/signup_password.pkl\", \"rb\") as f:\n",
    "     password = pk.load(f)\n",
    "conn = psycopg2.connect(host=\"postgresql-production1.cluster-ro-cxb5zwyq1mu5.ap-northeast-2.rds.amazonaws.com\", dbname=\"hdc\", user=\"postgres\", password=password)\n",
    "cur = conn.cursor(cursor_factory=RealDictCursor)\n",
    "query = \"\"\"\n",
    "SELECT X.*\n",
    "FROM (\n",
    "SELECT\n",
    "    A.mbr_id,\n",
    "    G.apt_name,\n",
    "    H.dng_no,\n",
    "    H.ho_no,\n",
    "    B.crd_name AS mbr_sys_ty_name,\n",
    "    C.crd_name AS mbr_st_name,\n",
    "    CASE A.mbr_sex\n",
    "    WHEN '0' THEN '남자'\n",
    "    WHEN '1' THEN '여자'\n",
    "    END,\n",
    "    A.mbr_birth,\n",
    "    A.regist_dt AS mbr_reg_dt,\n",
    "    A.mbr_delete_date AS mbr_del_dt\n",
    "FROM\n",
    "    hdc_mbr.mbr_mst AS A\n",
    "    LEFT JOIN hdc_sys.sys_code AS B\n",
    "        ON A.mbr_sys_ty = B.crd\n",
    "    LEFT JOIN hdc_sys.sys_code AS C\n",
    "        ON A.mbr_st = C.crd\n",
    "    INNER JOIN hdc_mbr.mbr_cert AS E\n",
    "        ON A.mbr_id = E.mbr_id\n",
    "    INNER JOIN hdc_mbr.mbr_apt_cert_his AS F\n",
    "        ON E.mbr_acert_id = F.apt_cert_id\n",
    "    INNER JOIN hdc_apt.apt_mst AS G\n",
    "        ON F.apt_id = G.apt_id\n",
    "    INNER JOIN hdc_apt.apt_unit_info AS H\n",
    "        ON F.apt_unit_id = H.unit_id\n",
    "UNION\n",
    "SELECT\n",
    "    A.mbr_id,\n",
    "    G.apt_name,\n",
    "    H.dng_no,\n",
    "    H.ho_no,\n",
    "    B.crd_name AS mbr_sys_ty_name,\n",
    "    C.crd_name AS mbr_st_name,\n",
    "    CASE A.mbr_sex\n",
    "    WHEN '0' THEN '남자'\n",
    "    WHEN '1' THEN '여자'\n",
    "    END,\n",
    "    A.mbr_birth,\n",
    "    A.regist_dt AS mbr_reg_dt,\n",
    "    A.mbr_delete_date AS mbr_del_dt\n",
    "FROM\n",
    "    hdc_mbr.mbr_mst AS A\n",
    "    LEFT JOIN hdc_sys.sys_code AS B\n",
    "        ON A.mbr_sys_ty = B.crd\n",
    "    LEFT JOIN hdc_sys.sys_code AS C\n",
    "        ON A.mbr_st = C.crd\n",
    "    INNER JOIN hdc_mbr.mbr_cert AS E\n",
    "        ON A.mbr_id = E.mbr_id\n",
    "    INNER JOIN hdc_mbr.mbr_apt_cert_his AS F\n",
    "        ON E.mbr_acert_id = F.apt_cert_id\n",
    "    INNER JOIN hdc_apt.apt_mst AS G\n",
    "        ON F.apt_id = G.apt_id\n",
    "    INNER JOIN hdc_apt.apt_unit_info AS H\n",
    "        ON F.apt_unit_id = H.unit_id\n",
    "SELECT\n",
    "    A.mbr_id,\n",
    "    G.apt_name,\n",
    "    H.dng_no,\n",
    "    H.ho_no,\n",
    "    B.crd_name AS mbr_sys_ty_name,\n",
    "    C.crd_name AS mbr_st_name,\n",
    "    CASE A.mbr_sex\n",
    "    WHEN '0'\n",
    "    THEN '남자'\n",
    "    WHEN '1'\n",
    "    THEN '여자'\n",
    "    END,\n",
    "    A.mbr_birth,\n",
    "    A.regist_dt AS mbr_reg_dt,\n",
    "    A.mbr_delete_date AS mbr_del_dt\n",
    "FROM\n",
    "    hdc_mbr.mbr_mst AS A\n",
    "    LEFT JOIN\n",
    "        hdc_sys.sys_code AS B\n",
    "        ON A.mbr_sys_ty = B.crd\n",
    "    LEFT JOIN\n",
    "        hdc_sys.sys_code AS C\n",
    "        ON A.mbr_st = C.crd\n",
    "    INNER JOIN\n",
    "        hdc_mbr.mbr_group_mbr AS I\n",
    "        ON A.mbr_id = I.mbr_id\n",
    "            AND I.group_mbr_invite_st != 'C000002009'\n",
    "    INNER JOIN\n",
    "        hdc_mbr.mbr_group AS J\n",
    "        ON I.grp_id = J.grp_id\n",
    "    LEFT JOIN\n",
    "        hdc_mbr.mbr_cert AS E\n",
    "        ON J.grp_owner = E.mbr_id\n",
    "    LEFT JOIN\n",
    "        hdc_mbr.mbr_apt_cert_his AS F\n",
    "        ON E.mbr_acert_id = F.apt_cert_id\n",
    "    LEFT JOIN\n",
    "        hdc_apt.apt_mst AS G\n",
    "        ON F.apt_id = G.apt_id\n",
    "    LEFT JOIN\n",
    "        hdc_apt.apt_unit_info AS H\n",
    "        ON F.apt_unit_id = H.unit_id\n",
    "WHERE\n",
    "    A.mbr_admin_yn = 'N'\n",
    "    AND\tA.mbr_sys_ty IN ('C000004003','C000004004')\n",
    "ORDER BY\n",
    "    A.regist_dt DESC;\n",
    "\"\"\"\n",
    "cur.execute(query)\n",
    "result = cur.fetchall()\n",
    "b = pd.DataFrame(result)"
   ]
  },
  {
   "cell_type": "code",
   "execution_count": 50,
   "metadata": {},
   "outputs": [],
   "source": [
    "# with open(\"D:/Github/Work/Tableau/signup_password.pkl\", \"rb\") as f:\n",
    "#      password = pk.load(f)\n",
    "# conn = psycopg2.connect(host=\"postgresql-production1.cluster-ro-cxb5zwyq1mu5.ap-northeast-2.rds.amazonaws.com\", dbname=\"hdc\", user=\"postgres\", password=password)\n",
    "# cur = conn.cursor(cursor_factory=RealDictCursor)\n",
    "# query = f\"SELECT hdc_mbr.mbr_mst.mbr_id, \\\n",
    "# CASE hdc_mbr.mbr_mst.mbr_sys_ty  \\\n",
    "# WHEN 'C000004001' THEN '입주예정자' \\\n",
    "# WHEN 'C000004003' THEN '입주자(대표)' \\\n",
    "# WHEN 'C000004004' THEN '입주자(세대원)' \\\n",
    "# END AS mbr_sys_ty, \\\n",
    "# CASE hdc_mbr.mbr_mst.mbr_sex \\\n",
    "# WHEN '0' THEN '남자' \\\n",
    "# WHEN '1' THEN '여자' \\\n",
    "# END AS mbr_sex, \\\n",
    "# hdc_mbr.mbr_mst.mbr_birth, hdc_mbr.mbr_mst.regist_dt, hdc_mbr.mbr_mst.mbr_delete_date, \\\n",
    "# CASE hdc_mbr.mbr_mst.mbr_st \\\n",
    "# WHEN 'C000002001' THEN '정상' \\\n",
    "# WHEN 'C000002005' THEN' 탈퇴' \\\n",
    "# WHEN 'C000002007' THEN '퇴거' \\\n",
    "# WHEN 'C000002008' THEN '휴면상태' \\\n",
    "# END AS mbr_st, \\\n",
    "# hdc_apt.apt_unit_mbr.mbr_id, \\\n",
    "# hdc_apt.apt_unit_info.dng_no, hdc_apt.apt_unit_info.ho_no, \\\n",
    "# hdc_apt.apt_mst.apt_name  \\\n",
    "# FROM hdc_mbr.mbr_mst  \\\n",
    "# LEFT OUTER JOIN hdc_apt.apt_unit_mbr  \\\n",
    "# LEFT OUTER JOIN hdc_apt.apt_unit_info  \\\n",
    "# LEFT OUTER JOIN hdc_apt.apt_mst  \\\n",
    "# ON hdc_apt.apt_unit_info.apt_id = hdc_apt.apt_mst.apt_id  \\\n",
    "# ON hdc_apt.apt_unit_mbr.unit_id = hdc_apt.apt_unit_info.unit_id  \\\n",
    "# ON hdc_mbr.mbr_mst.mbr_id = hdc_apt.apt_unit_mbr.mbr_id;\"\n",
    "# cur.execute(query)\n",
    "# result = cur.fetchall()\n",
    "# signup = pd.DataFrame(result)"
   ]
  },
  {
   "cell_type": "code",
   "execution_count": 17,
   "metadata": {},
   "outputs": [],
   "source": [
    "signup.to_csv(\"signup.csv\", encoding=\"euc-kr\")"
   ]
  },
  {
   "cell_type": "code",
   "execution_count": 12,
   "metadata": {},
   "outputs": [],
   "source": [
    "# signup = signup[signup[\"apt_name\"].notna()]\n",
    "# signup[\"mbr_sys_ty\"] = signup[\"mbr_sys_ty\"].map({\"C000004001\":\"입주예정자\", \"C000004003\":\"입주자(대표)\", \"C000004004\":\"입주자(세대원)\"})\n",
    "# signup[\"mbr_sex\"] = signup[\"mbr_sex\"].map({\"0\":\"남자\", \"1\":\"여자\"})\n",
    "# signup[\"mbr_st\"] = signup[\"mbr_st\"].map({\"C000002001\":\"정상\", \"C000002005\":\"탈퇴\", \"C000002007\":\"퇴거\", \"C000002008\":\"휴면상태\"})\n",
    "# signup = signup.rename({\"mbr_id\":\"아이디\", \"apt_name\":\"아파트 명\", \"dng_no\":\"동\", \"ho_no\":\"호\", \"mbr_sys_ty\":\"회원유형\", \"mbr_st\":\"회원상태\", \"mbr_sex\":\"성별\", \"mbr_birth\":\"생년월일\", \"regist_dt\":\"가입일\", \"mbr_delete_date\":\"탈퇴일\"}, axis=1)\n",
    "# signup[\"성별/생년월일\"] = signup[\"성별\"] + \"/\" + signup[\"생년월일\"]\n",
    "# signup = signup[[\"아이디\", \"아파트 명\", \"동\", \"호\", \"회원유형\", \"회원상태\", \"성별/생년월일\", \"가입일\", \"탈퇴일\"]]"
   ]
  },
  {
   "cell_type": "code",
   "execution_count": 15,
   "metadata": {},
   "outputs": [],
   "source": [
    "signup.to_csv(f\"D:/Github/Work/Tableau/Myhomie/signup_{end.strftime('%Y-%m-%d')}.csv\", encoding=\"euc-kr\")"
   ]
  }
 ],
 "metadata": {
  "hide_input": false,
  "kernelspec": {
   "display_name": "Python 3",
   "language": "python",
   "name": "python3"
  },
  "language_info": {
   "codemirror_mode": {
    "name": "ipython",
    "version": 3
   },
   "file_extension": ".py",
   "mimetype": "text/x-python",
   "name": "python",
   "nbconvert_exporter": "python",
   "pygments_lexer": "ipython3",
   "version": "3.7.7"
  },
  "toc": {
   "base_numbering": 1,
   "nav_menu": {},
   "number_sections": true,
   "sideBar": true,
   "skip_h1_title": false,
   "title_cell": "Table of Contents",
   "title_sidebar": "Contents",
   "toc_cell": false,
   "toc_position": {},
   "toc_section_display": true,
   "toc_window_display": false
  },
  "varInspector": {
   "cols": {
    "lenName": 16,
    "lenType": 16,
    "lenVar": 40
   },
   "kernels_config": {
    "python": {
     "delete_cmd_postfix": "",
     "delete_cmd_prefix": "del ",
     "library": "var_list.py",
     "varRefreshCmd": "print(var_dic_list())"
    },
    "r": {
     "delete_cmd_postfix": ") ",
     "delete_cmd_prefix": "rm(",
     "library": "var_list.r",
     "varRefreshCmd": "cat(var_dic_list()) "
    }
   },
   "types_to_exclude": [
    "module",
    "function",
    "builtin_function_or_method",
    "instance",
    "_Feature"
   ],
   "window_display": false
  }
 },
 "nbformat": 4,
 "nbformat_minor": 4
}
