{
 "cells": [
  {
   "cell_type": "code",
   "execution_count": 3,
   "metadata": {
    "ExecuteTime": {
     "end_time": "2021-09-14T00:49:57.075335Z",
     "start_time": "2021-09-14T00:49:57.071341Z"
    }
   },
   "outputs": [],
   "source": [
    "import pandas as pd\n",
    "import openpyxl\n",
    "import pymssql\n",
    "\n",
    "f = open(\"D:/Github/Work/Tableau/datamart_password.txt\", \"r\")\n",
    "password = f.readline()"
   ]
  },
  {
   "cell_type": "markdown",
   "metadata": {},
   "source": [
    "# 분양일보 업데이트"
   ]
  },
  {
   "cell_type": "code",
   "execution_count": 34,
   "metadata": {
    "ExecuteTime": {
     "end_time": "2021-09-14T04:37:54.789508Z",
     "start_time": "2021-09-14T04:37:54.710716Z"
    }
   },
   "outputs": [],
   "source": [
    "conn = pymssql.connect(server=\"218.153.55.44\", database=\"HDCMART\", user=\"hdcmart\", password=password, charset=\"UTF8\")\n",
    "query = \"\"\"\n",
    "SELECT 내용구분, 현황, 사업지,  분양구분, 분양종류, 분양일, 완공예정, 공동도급지분율, 사업규모세대, 사업규모금액, 분양세대, 분양금액, 미분양세대, 미분양금액, 임대세대, 임대금액, 임대분양가, 약정금액당월, 약정금액누계, 입금도래당월, 입금도래누계, 입금선납당월, 입금선납누계, 입금누계, 미수금기간도래, 미수금미도래, 미수금계\n",
    "FROM 사업별미수현황총괄표_작업\n",
    "WHERE 코드 in\t('A710', 'C1057C', 'C1059C', 'D013', 'D015', 'D019', 'D021', 'D023', 'D026', 'D027', 'D029', 'D030', 'D032', 'D1043C', 'A665', 'A694', 'A710', 'B021', 'B1037C', 'C012', 'C030', 'C031', 'C035', 'C036', 'C038', 'C040', 'C041', 'C1043C', 'C1043O', 'C1056C', 'C032', 'C1061C','C1062C','C1041C','C1049C');\n",
    "\"\"\"\n",
    "infos = pd.read_sql(query, conn)"
   ]
  },
  {
   "cell_type": "code",
   "execution_count": 11,
   "metadata": {
    "ExecuteTime": {
     "end_time": "2021-09-14T00:54:13.140005Z",
     "start_time": "2021-09-14T00:54:13.087013Z"
    }
   },
   "outputs": [],
   "source": [
    "infos.to_excel(\"D:/디지털혁신팀/태블로/분양일보/Routine/infos_210913.xlsx\", header=False, index=False)"
   ]
  },
  {
   "cell_type": "code",
   "execution_count": 37,
   "metadata": {
    "ExecuteTime": {
     "end_time": "2021-09-14T04:39:45.683613Z",
     "start_time": "2021-09-14T04:39:41.941610Z"
    }
   },
   "outputs": [],
   "source": [
    "conn = pymssql.connect(server=\"218.153.55.44\", database=\"HDCMART\", user=\"hdcmart\", password=password, charset=\"UTF8\")\n",
    "query = \"\"\"\n",
    "SELECT 코드, 현장명, 평형, 동, 호수, 성명, 분양구분, 분양종류, 분양가, 계약금1차일자, 계약금1차금액, 계약금2차일자, 계약금2차금액, 중도금1회일자, 중도금1회금액, 중도금2회일자, 중도금2회금액, 중도금3회일자, 중도금3회금액, 중도금4회일자, 중도금4회금액, 중도금5회일자, 중도금5회금액, 중도금6회일자, 중도금6회금액, 중도금7회일자, 중도금7회금액, 중도금8회일자, 중도금8회금액, 잔금일자, 잔금금액 \n",
    "FROM 계약일보_작업\n",
    "WHERE 코드 in\t('A710', 'C1057C', 'C1059C', 'D013', 'D015', 'D019', 'D021', 'D023', 'D026', 'D027', 'D029', 'D030', 'D032', 'D1043C', 'A665', 'A694', 'A710', 'B021', 'B1037C', 'C012', 'C030', 'C031', 'C035', 'C036', 'C038', 'C040', 'C041', 'C1043C', 'C1043O', 'C1056C', 'C032', 'C1061C','C1062C','C1041C','C1049C') AND 계약여부 = 'Y'\n",
    "\"\"\"\n",
    "contracts = pd.read_sql(query, conn)"
   ]
  },
  {
   "cell_type": "code",
   "execution_count": 9,
   "metadata": {
    "ExecuteTime": {
     "end_time": "2021-09-14T00:52:28.318533Z",
     "start_time": "2021-09-14T00:52:05.726476Z"
    }
   },
   "outputs": [],
   "source": [
    "contracts.to_excel(\"D:/디지털혁신팀/태블로/분양일보/Routine/contracts_210913.xlsx\", header=False, index=False)"
   ]
  },
  {
   "cell_type": "markdown",
   "metadata": {},
   "source": [
    "### infos 데이터 누락"
   ]
  },
  {
   "cell_type": "code",
   "execution_count": 15,
   "metadata": {
    "ExecuteTime": {
     "end_time": "2021-08-18T08:14:53.696788Z",
     "start_time": "2021-08-18T08:14:53.658836Z"
    }
   },
   "outputs": [],
   "source": [
    "infos = pd.read_csv(\"D:/Github/Work/Tableau/Sales/infos_모든 사업지.csv\", encoding=\"euc-kr\")"
   ]
  },
  {
   "cell_type": "code",
   "execution_count": null,
   "metadata": {},
   "outputs": [],
   "source": [
    "# infos[\"세대\"] = infos.apply(lambda x:x[\"사업규모세대\"] - x[\"임대세대\"] if x[\"분양구분\"] == \"일반\" else x[\"사업규모세대\"], axis=1)"
   ]
  },
  {
   "cell_type": "code",
   "execution_count": 8,
   "metadata": {
    "ExecuteTime": {
     "end_time": "2021-07-29T05:14:01.195783Z",
     "start_time": "2021-07-29T05:14:01.184842Z"
    }
   },
   "outputs": [],
   "source": [
    "# nulls = infos[[\"코드\", \"사업지\", \"내용구분\", \"분양구분\", \"분양종류\", \"분양일\", \"완공예정\",  \"공동도급지분율\", \"사업규모세대\", \"사업규모금액\", \"분양세대\", \"분양금액\", \"미분양세대\", \"미분양금액\", \"임대세대\", \"임대금액\", \"임대분양가\"]].isna().sum(axis=1)\n",
    "# idxs = temp[temp>0].index.tolist()\n",
    "# nulls = infos[[\"코드\", \"사업지\", \"내용구분\", \"분양구분\", \"분양종류\", \"분양일\", \"완공예정\",  \"공동도급지분율\", \"사업규모세대\", \"사업규모금액\", \"분양세대\", \"분양금액\", \"미분양세대\", \"미분양금액\", \"임대세대\", \"임대금액\", \"임대분양가\"]].loc[idxs, :]"
   ]
  },
  {
   "cell_type": "code",
   "execution_count": 27,
   "metadata": {
    "ExecuteTime": {
     "end_time": "2021-08-18T08:22:37.173584Z",
     "start_time": "2021-08-18T08:22:37.148650Z"
    }
   },
   "outputs": [
    {
     "data": {
      "text/html": [
       "<div>\n",
       "<style scoped>\n",
       "    .dataframe tbody tr th:only-of-type {\n",
       "        vertical-align: middle;\n",
       "    }\n",
       "\n",
       "    .dataframe tbody tr th {\n",
       "        vertical-align: top;\n",
       "    }\n",
       "\n",
       "    .dataframe thead th {\n",
       "        text-align: right;\n",
       "    }\n",
       "</style>\n",
       "<table border=\"1\" class=\"dataframe\">\n",
       "  <thead>\n",
       "    <tr style=\"text-align: right;\">\n",
       "      <th></th>\n",
       "      <th>코드</th>\n",
       "      <th>사업지</th>\n",
       "      <th>내용구분</th>\n",
       "      <th>현황</th>\n",
       "      <th>분양구분</th>\n",
       "      <th>분양종류</th>\n",
       "      <th>분양일</th>\n",
       "      <th>완공예정</th>\n",
       "      <th>공동도급지분율</th>\n",
       "      <th>사업규모세대</th>\n",
       "      <th>...</th>\n",
       "      <th>약정금액당월</th>\n",
       "      <th>약정금액누계</th>\n",
       "      <th>입금도래당월</th>\n",
       "      <th>입금도래누계</th>\n",
       "      <th>입금선납당월</th>\n",
       "      <th>입금선납누계</th>\n",
       "      <th>입금누계</th>\n",
       "      <th>미수금기간도래</th>\n",
       "      <th>미수금미도래</th>\n",
       "      <th>미수금계</th>\n",
       "    </tr>\n",
       "  </thead>\n",
       "  <tbody>\n",
       "    <tr>\n",
       "      <th>54</th>\n",
       "      <td>A163</td>\n",
       "      <td>경산 정평</td>\n",
       "      <td>NaN</td>\n",
       "      <td>NaN</td>\n",
       "      <td>일반</td>\n",
       "      <td>APT</td>\n",
       "      <td>1994/09/08</td>\n",
       "      <td>1996/10/29</td>\n",
       "      <td>0.0</td>\n",
       "      <td>973</td>\n",
       "      <td>...</td>\n",
       "      <td>0.0</td>\n",
       "      <td>66771850.0</td>\n",
       "      <td>0.0</td>\n",
       "      <td>66771850.0</td>\n",
       "      <td>0.0</td>\n",
       "      <td>0.0</td>\n",
       "      <td>66771850.0</td>\n",
       "      <td>0.0</td>\n",
       "      <td>0.0</td>\n",
       "      <td>0.0</td>\n",
       "    </tr>\n",
       "    <tr>\n",
       "      <th>427</th>\n",
       "      <td>C1062C</td>\n",
       "      <td>경산 아이파크(경산 압량읍 아파트)</td>\n",
       "      <td>민간공사(주택)</td>\n",
       "      <td>NaN</td>\n",
       "      <td>일반</td>\n",
       "      <td>APT</td>\n",
       "      <td>2021/07/05</td>\n",
       "      <td>2024/04/30</td>\n",
       "      <td>100.0</td>\n",
       "      <td>977</td>\n",
       "      <td>...</td>\n",
       "      <td>7470000.0</td>\n",
       "      <td>7470000.0</td>\n",
       "      <td>7340000.0</td>\n",
       "      <td>7470000.0</td>\n",
       "      <td>3079800.0</td>\n",
       "      <td>3079800.0</td>\n",
       "      <td>10549800.0</td>\n",
       "      <td>0.0</td>\n",
       "      <td>325540200.0</td>\n",
       "      <td>325540200.0</td>\n",
       "    </tr>\n",
       "  </tbody>\n",
       "</table>\n",
       "<p>2 rows × 28 columns</p>\n",
       "</div>"
      ],
      "text/plain": [
       "         코드                  사업지      내용구분   현황 분양구분 분양종류         분양일  \\\n",
       "54     A163                경산 정평       NaN  NaN   일반  APT  1994/09/08   \n",
       "427  C1062C  경산 아이파크(경산 압량읍 아파트)  민간공사(주택)  NaN   일반  APT  2021/07/05   \n",
       "\n",
       "           완공예정  공동도급지분율  사업규모세대  ...     약정금액당월      약정금액누계     입금도래당월  \\\n",
       "54   1996/10/29      0.0     973  ...        0.0  66771850.0        0.0   \n",
       "427  2024/04/30    100.0     977  ...  7470000.0   7470000.0  7340000.0   \n",
       "\n",
       "         입금도래누계     입금선납당월     입금선납누계        입금누계  미수금기간도래       미수금미도래  \\\n",
       "54   66771850.0        0.0        0.0  66771850.0      0.0          0.0   \n",
       "427   7470000.0  3079800.0  3079800.0  10549800.0      0.0  325540200.0   \n",
       "\n",
       "            미수금계  \n",
       "54           0.0  \n",
       "427  325540200.0  \n",
       "\n",
       "[2 rows x 28 columns]"
      ]
     },
     "execution_count": 27,
     "metadata": {},
     "output_type": "execute_result"
    }
   ],
   "source": [
    "infos[infos[\"사업지\"].str.contains(\"경산\")]"
   ]
  },
  {
   "cell_type": "code",
   "execution_count": null,
   "metadata": {},
   "outputs": [],
   "source": []
  },
  {
   "cell_type": "code",
   "execution_count": null,
   "metadata": {},
   "outputs": [],
   "source": []
  },
  {
   "cell_type": "markdown",
   "metadata": {},
   "source": [
    "### contracts"
   ]
  },
  {
   "cell_type": "code",
   "execution_count": 2,
   "metadata": {
    "ExecuteTime": {
     "end_time": "2021-08-18T08:06:21.711382Z",
     "start_time": "2021-08-18T08:06:19.484341Z"
    }
   },
   "outputs": [
    {
     "name": "stderr",
     "output_type": "stream",
     "text": [
      "C:\\Users\\00006363\\Anaconda3\\envs\\tf2.3\\lib\\site-packages\\IPython\\core\\interactiveshell.py:3063: DtypeWarning: Columns (2,3,4,9,16,17) have mixed types.Specify dtype option on import or set low_memory=False.\n",
      "  interactivity=interactivity, compiler=compiler, result=result)\n"
     ]
    }
   ],
   "source": [
    "# infos = pd.read_csv(\"D:/디지털혁신팀/태블로/분양일보/infos_모든 사업지.csv\", encoding=\"euc-kr\")\n",
    "contracts = pd.read_csv(\"D:/Github/Work/Tableau/Sales/contracts_모든 사업지.csv\", encoding=\"euc-kr\")"
   ]
  },
  {
   "cell_type": "code",
   "execution_count": 3,
   "metadata": {
    "ExecuteTime": {
     "end_time": "2021-08-18T08:07:04.300455Z",
     "start_time": "2021-08-18T08:06:24.992605Z"
    }
   },
   "outputs": [],
   "source": [
    "contracts = contracts[[\"코드\", \"평형\", \"동\", \"호수\", \"분양구분\", \"분양종류\", \"분양가\", \"계약여부\", \"계약일자\", \"해약일자\"]]\n",
    "for col in [\"계약일자\", \"해약일자\"]:\n",
    "    contracts[col] = contracts[col].str.replace(\"/\", \"-\").str.replace(\"0000-00-00\", \"\")\n",
    "    contracts[col] = contracts[col].map(pd.to_datetime)\n",
    "# contracts[[\"계약일자\", \"해약일자\"]] = pd.to_datetime(contracts[[\"계약일자\", \"해약일자\"]])"
   ]
  },
  {
   "cell_type": "code",
   "execution_count": 30,
   "metadata": {
    "ExecuteTime": {
     "end_time": "2021-08-18T08:26:52.827850Z",
     "start_time": "2021-08-18T08:26:52.703115Z"
    }
   },
   "outputs": [],
   "source": [
    "contracts[contracts[\"코드\"].str.contains(\"C1062C|C1041C\")].groupby([\"코드\", \"계약일자\"]).sum().to_csv(\"D:/Github/Work/Tableau/Sales/temp2.csv\")"
   ]
  },
  {
   "cell_type": "code",
   "execution_count": null,
   "metadata": {},
   "outputs": [],
   "source": []
  },
  {
   "cell_type": "code",
   "execution_count": 9,
   "metadata": {
    "ExecuteTime": {
     "end_time": "2021-07-29T05:14:26.736701Z",
     "start_time": "2021-07-29T05:14:05.380797Z"
    }
   },
   "outputs": [],
   "source": [
    "today = \"2021-07-16\"\n",
    "\n",
    "for _, row in infos.iterrows():\n",
    "    temp = contracts.loc[(contracts[\"코드\"] == row[\"코드\"]) & (contracts[\"분양구분\"] == row[\"분양구분\"]) & (contracts[\"분양종류\"] == row[\"분양종류\"])]\n",
    "#     temp = temp[(temp[\"계약일자\"] <= today)]\n",
    "#     temp = temp[(temp[\"해약일자\"] <= today)]"
   ]
  },
  {
   "cell_type": "code",
   "execution_count": null,
   "metadata": {},
   "outputs": [],
   "source": [
    "contracts[(contracts[\"계약일자\"] <= today) & (contracts[\"해약일자\"] <= today)]"
   ]
  },
  {
   "cell_type": "code",
   "execution_count": 21,
   "metadata": {},
   "outputs": [],
   "source": [
    "# infos = pd.read_excel(\"D:/사업별미수현황총괄표_작업_202107090757 (1).xlsx\")\n",
    "# contracts = pd.read_excel(\"D:/계약일보_작업_202107090757 (1).xlsx\")\n",
    "# contracts = openpyxl.load_workbook(\"D:/계약일보_작업_202107120821.xlsx\")\n",
    "# ws1 = contracts.active"
   ]
  },
  {
   "cell_type": "code",
   "execution_count": 22,
   "metadata": {},
   "outputs": [],
   "source": [
    "# wb = openpyxl.load_workbook(\"D:\\디지털혁신팀\\태블로\\분양일보\\계약일보_테이블.xlsx\")\n",
    "# ws2 = wb.active"
   ]
  }
 ],
 "metadata": {
  "hide_input": false,
  "kernelspec": {
   "display_name": "Python 3",
   "language": "python",
   "name": "python3"
  },
  "language_info": {
   "codemirror_mode": {
    "name": "ipython",
    "version": 3
   },
   "file_extension": ".py",
   "mimetype": "text/x-python",
   "name": "python",
   "nbconvert_exporter": "python",
   "pygments_lexer": "ipython3",
   "version": "3.7.7"
  },
  "toc": {
   "base_numbering": 1,
   "nav_menu": {},
   "number_sections": true,
   "sideBar": true,
   "skip_h1_title": false,
   "title_cell": "Table of Contents",
   "title_sidebar": "Contents",
   "toc_cell": false,
   "toc_position": {},
   "toc_section_display": true,
   "toc_window_display": false
  },
  "varInspector": {
   "cols": {
    "lenName": 16,
    "lenType": 16,
    "lenVar": 40
   },
   "kernels_config": {
    "python": {
     "delete_cmd_postfix": "",
     "delete_cmd_prefix": "del ",
     "library": "var_list.py",
     "varRefreshCmd": "print(var_dic_list())"
    },
    "r": {
     "delete_cmd_postfix": ") ",
     "delete_cmd_prefix": "rm(",
     "library": "var_list.r",
     "varRefreshCmd": "cat(var_dic_list()) "
    }
   },
   "types_to_exclude": [
    "module",
    "function",
    "builtin_function_or_method",
    "instance",
    "_Feature"
   ],
   "window_display": false
  }
 },
 "nbformat": 4,
 "nbformat_minor": 4
}
