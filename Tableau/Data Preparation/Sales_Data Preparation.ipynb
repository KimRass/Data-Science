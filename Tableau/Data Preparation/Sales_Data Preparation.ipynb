{
 "cells": [
  {
   "cell_type": "code",
   "execution_count": 2,
   "metadata": {
    "ExecuteTime": {
     "end_time": "2021-07-29T05:11:31.695622Z",
     "start_time": "2021-07-29T05:11:30.603430Z"
    }
   },
   "outputs": [],
   "source": [
    "import pandas as pd\n",
    "import openpyxl"
   ]
  },
  {
   "cell_type": "markdown",
   "metadata": {},
   "source": [
    "### infos 데이터 누락"
   ]
  },
  {
   "cell_type": "code",
   "execution_count": 7,
   "metadata": {
    "ExecuteTime": {
     "end_time": "2021-07-29T05:13:31.935730Z",
     "start_time": "2021-07-29T05:13:31.904781Z"
    }
   },
   "outputs": [],
   "source": [
    "infos = pd.read_csv(\"D:/Github/Work/Tableau/Sales/infos_모든 사업지.csv\", encoding=\"euc-kr\")"
   ]
  },
  {
   "cell_type": "code",
   "execution_count": null,
   "metadata": {},
   "outputs": [],
   "source": [
    "# infos[\"세대\"] = infos.apply(lambda x:x[\"사업규모세대\"] - x[\"임대세대\"] if x[\"분양구분\"] == \"일반\" else x[\"사업규모세대\"], axis=1)"
   ]
  },
  {
   "cell_type": "code",
   "execution_count": 8,
   "metadata": {
    "ExecuteTime": {
     "end_time": "2021-07-29T05:14:01.195783Z",
     "start_time": "2021-07-29T05:14:01.184842Z"
    }
   },
   "outputs": [],
   "source": [
    "# nulls = infos[[\"코드\", \"사업지\", \"내용구분\", \"분양구분\", \"분양종류\", \"분양일\", \"완공예정\",  \"공동도급지분율\", \"사업규모세대\", \"사업규모금액\", \"분양세대\", \"분양금액\", \"미분양세대\", \"미분양금액\", \"임대세대\", \"임대금액\", \"임대분양가\"]].isna().sum(axis=1)\n",
    "# idxs = temp[temp>0].index.tolist()\n",
    "# nulls = infos[[\"코드\", \"사업지\", \"내용구분\", \"분양구분\", \"분양종류\", \"분양일\", \"완공예정\",  \"공동도급지분율\", \"사업규모세대\", \"사업규모금액\", \"분양세대\", \"분양금액\", \"미분양세대\", \"미분양금액\", \"임대세대\", \"임대금액\", \"임대분양가\"]].loc[idxs, :]"
   ]
  },
  {
   "cell_type": "markdown",
   "metadata": {},
   "source": [
    "### contracts"
   ]
  },
  {
   "cell_type": "code",
   "execution_count": 4,
   "metadata": {
    "ExecuteTime": {
     "end_time": "2021-07-29T05:11:47.080260Z",
     "start_time": "2021-07-29T05:11:45.444416Z"
    }
   },
   "outputs": [
    {
     "name": "stderr",
     "output_type": "stream",
     "text": [
      "C:\\Users\\82104\\anaconda3\\lib\\site-packages\\IPython\\core\\interactiveshell.py:3146: DtypeWarning: Columns (2,3,4,9,16,17) have mixed types.Specify dtype option on import or set low_memory=False.\n",
      "  has_raised = await self.run_ast_nodes(code_ast.body, cell_name,\n"
     ]
    }
   ],
   "source": [
    "# infos = pd.read_csv(\"D:/디지털혁신팀/태블로/분양일보/infos_모든 사업지.csv\", encoding=\"euc-kr\")\n",
    "contracts = pd.read_csv(\"D:/Github/Work/Tableau/Sales/contracts_모든 사업지.csv\", encoding=\"euc-kr\")"
   ]
  },
  {
   "cell_type": "code",
   "execution_count": 5,
   "metadata": {
    "ExecuteTime": {
     "end_time": "2021-07-29T05:12:53.444498Z",
     "start_time": "2021-07-29T05:12:20.127328Z"
    }
   },
   "outputs": [],
   "source": [
    "contracts = contracts[[\"코드\", \"평형\", \"동\", \"호수\", \"분양구분\", \"분양종류\", \"분양가\", \"계약여부\", \"계약일자\", \"해약일자\"]]\n",
    "for col in [\"계약일자\", \"해약일자\"]:\n",
    "    contracts[col] = contracts[col].str.replace(\"/\", \"-\").str.replace(\"0000-00-00\", \"\")\n",
    "    contracts[col] = contracts[col].map(pd.to_datetime)\n",
    "# contracts[[\"계약일자\", \"해약일자\"]] = pd.to_datetime(contracts[[\"계약일자\", \"해약일자\"]])"
   ]
  },
  {
   "cell_type": "code",
   "execution_count": 9,
   "metadata": {
    "ExecuteTime": {
     "end_time": "2021-07-29T05:14:26.736701Z",
     "start_time": "2021-07-29T05:14:05.380797Z"
    }
   },
   "outputs": [],
   "source": [
    "today = \"2021-07-16\"\n",
    "\n",
    "for _, row in infos.iterrows():\n",
    "    temp = contracts.loc[(contracts[\"코드\"] == row[\"코드\"]) & (contracts[\"분양구분\"] == row[\"분양구분\"]) & (contracts[\"분양종류\"] == row[\"분양종류\"])]\n",
    "#     temp = temp[(temp[\"계약일자\"] <= today)]\n",
    "#     temp = temp[(temp[\"해약일자\"] <= today)]"
   ]
  },
  {
   "cell_type": "code",
   "execution_count": null,
   "metadata": {},
   "outputs": [],
   "source": [
    "contracts[(contracts[\"계약일자\"] <= today) & (contracts[\"해약일자\"] <= today)]"
   ]
  },
  {
   "cell_type": "code",
   "execution_count": 21,
   "metadata": {},
   "outputs": [],
   "source": [
    "# infos = pd.read_excel(\"D:/사업별미수현황총괄표_작업_202107090757 (1).xlsx\")\n",
    "# contracts = pd.read_excel(\"D:/계약일보_작업_202107090757 (1).xlsx\")\n",
    "# contracts = openpyxl.load_workbook(\"D:/계약일보_작업_202107120821.xlsx\")\n",
    "# ws1 = contracts.active"
   ]
  },
  {
   "cell_type": "code",
   "execution_count": 22,
   "metadata": {},
   "outputs": [],
   "source": [
    "# wb = openpyxl.load_workbook(\"D:\\디지털혁신팀\\태블로\\분양일보\\계약일보_테이블.xlsx\")\n",
    "# ws2 = wb.active"
   ]
  }
 ],
 "metadata": {
  "hide_input": false,
  "kernelspec": {
   "display_name": "Python 3",
   "language": "python",
   "name": "python3"
  },
  "language_info": {
   "codemirror_mode": {
    "name": "ipython",
    "version": 3
   },
   "file_extension": ".py",
   "mimetype": "text/x-python",
   "name": "python",
   "nbconvert_exporter": "python",
   "pygments_lexer": "ipython3",
   "version": "3.8.5"
  },
  "toc": {
   "base_numbering": 1,
   "nav_menu": {},
   "number_sections": true,
   "sideBar": true,
   "skip_h1_title": false,
   "title_cell": "Table of Contents",
   "title_sidebar": "Contents",
   "toc_cell": false,
   "toc_position": {},
   "toc_section_display": true,
   "toc_window_display": false
  },
  "varInspector": {
   "cols": {
    "lenName": 16,
    "lenType": 16,
    "lenVar": 40
   },
   "kernels_config": {
    "python": {
     "delete_cmd_postfix": "",
     "delete_cmd_prefix": "del ",
     "library": "var_list.py",
     "varRefreshCmd": "print(var_dic_list())"
    },
    "r": {
     "delete_cmd_postfix": ") ",
     "delete_cmd_prefix": "rm(",
     "library": "var_list.r",
     "varRefreshCmd": "cat(var_dic_list()) "
    }
   },
   "types_to_exclude": [
    "module",
    "function",
    "builtin_function_or_method",
    "instance",
    "_Feature"
   ],
   "window_display": false
  }
 },
 "nbformat": 4,
 "nbformat_minor": 4
}
