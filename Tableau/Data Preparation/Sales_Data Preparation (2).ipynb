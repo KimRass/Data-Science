{
 "cells": [
  {
   "cell_type": "code",
   "execution_count": 1,
   "metadata": {
    "ExecuteTime": {
     "end_time": "2021-09-23T00:30:53.147745Z",
     "start_time": "2021-09-23T00:30:49.974648Z"
    }
   },
   "outputs": [],
   "source": [
    "import pandas as pd\n",
    "import openpyxl\n",
    "from openpyxl.utils.dataframe import dataframe_to_rows\n",
    "import pymssql\n",
    "\n",
    "f = open(\"D:/Github/Work/Tableau/datamart_password.txt\", \"r\")\n",
    "password = f.readline()"
   ]
  },
  {
   "cell_type": "markdown",
   "metadata": {},
   "source": [
    "# 분양일보 업데이트"
   ]
  },
  {
   "cell_type": "code",
   "execution_count": 2,
   "metadata": {
    "ExecuteTime": {
     "end_time": "2021-09-23T00:30:53.402021Z",
     "start_time": "2021-09-23T00:30:53.147745Z"
    }
   },
   "outputs": [],
   "source": [
    "conn = pymssql.connect(server=\"218.153.55.44\", database=\"HDCMART\", user=\"hdcmart\", password=password, charset=\"UTF8\")\n",
    "query = \"\"\"\n",
    "SELECT 내용구분, 현황, 사업지,  분양구분, 분양종류, 분양일, 완공예정, 공동도급지분율, 사업규모세대, 사업규모금액, 분양세대, 분양금액, 미분양세대, 미분양금액, 임대세대, 임대금액, 임대분양가, 약정금액당월, 약정금액누계, 입금도래당월, 입금도래누계, 입금선납당월, 입금선납누계, 입금누계, 미수금기간도래, 미수금미도래, 미수금계\n",
    "FROM 사업별미수현황총괄표_작업\n",
    "WHERE 코드 IN ('A665', 'A694', 'A710', 'B021', 'B1037C', 'C012', 'C030', 'C031', 'C032', 'C035', 'C036', 'C038', 'C040', 'C041', 'C1041C', 'C1043C', 'C1043O', 'C1049C', 'C1056C', 'C1057C', 'C1059C', 'C1061C', 'C1062C', 'D013', 'D015', 'D019', 'D021', 'D023', 'D026', 'D027', 'D029', 'D030', 'D032', 'D1043C');\n",
    "\"\"\"\n",
    "infos = pd.read_sql(query, conn)"
   ]
  },
  {
   "cell_type": "code",
   "execution_count": 3,
   "metadata": {
    "ExecuteTime": {
     "end_time": "2021-09-23T00:31:07.000117Z",
     "start_time": "2021-09-23T00:31:06.866794Z"
    }
   },
   "outputs": [],
   "source": [
    "infos.to_excel(\"D:/디지털혁신팀/태블로/분양일보/Routine/infos_210922.xlsx\", header=False, index=False)"
   ]
  },
  {
   "cell_type": "code",
   "execution_count": 4,
   "metadata": {
    "ExecuteTime": {
     "end_time": "2021-09-23T00:31:12.893390Z",
     "start_time": "2021-09-23T00:31:07.180084Z"
    }
   },
   "outputs": [],
   "source": [
    "conn = pymssql.connect(server=\"218.153.55.44\", database=\"HDCMART\", user=\"hdcmart\", password=password, charset=\"UTF8\")\n",
    "query = \"\"\"\n",
    "SELECT 코드, 현장명, 평형, 동, 호수, 성명, 분양구분, 분양종류, 분양가, 계약금1차일자, 계약금1차금액, 계약금2차일자, 계약금2차금액, 중도금1회일자, 중도금1회금액, 중도금2회일자, 중도금2회금액, 중도금3회일자, 중도금3회금액, 중도금4회일자, 중도금4회금액, 중도금5회일자, 중도금5회금액, 중도금6회일자, 중도금6회금액, 중도금7회일자, 중도금7회금액, 중도금8회일자, 중도금8회금액, 잔금일자, 잔금금액 \n",
    "FROM 계약일보_작업\n",
    "WHERE 코드 IN ('A665', 'A694', 'A710', 'A710', 'B021', 'B1037C', 'C012', 'C030', 'C031', 'C032', 'C035', 'C036', 'C038', 'C040', 'C041', 'C1041C', 'C1043C', 'C1043O', 'C1049C', 'C1056C', 'C1057C', 'C1059C', 'C1061C', 'C1062C', 'D013', 'D015', 'D019', 'D021', 'D023', 'D026', 'D027', 'D029', 'D030', 'D032', 'D1043C') AND 계약여부 = 'Y';\n",
    "\"\"\"\n",
    "contracts = pd.read_sql(query, conn)"
   ]
  },
  {
   "cell_type": "code",
   "execution_count": 5,
   "metadata": {
    "ExecuteTime": {
     "end_time": "2021-09-23T00:31:39.237328Z",
     "start_time": "2021-09-23T00:31:12.893390Z"
    }
   },
   "outputs": [],
   "source": [
    "contracts.to_excel(\"D:/디지털혁신팀/태블로/분양일보/Routine/contracts_210922.xlsx\", header=False, index=False)"
   ]
  },
  {
   "cell_type": "markdown",
   "metadata": {},
   "source": [
    "# DataFrames to Workbooks"
   ]
  },
  {
   "cell_type": "code",
   "execution_count": 27,
   "metadata": {
    "ExecuteTime": {
     "end_time": "2021-09-15T01:21:47.944063Z",
     "start_time": "2021-09-15T01:21:47.884050Z"
    }
   },
   "outputs": [],
   "source": [
    "wb2 = openpyxl.load_workbook(\"D:/Github/Work/Tableau/Sales/사업별미수현황총괄표_테이블.xlsx\")\n",
    "ws2 = wb2.active"
   ]
  },
  {
   "cell_type": "code",
   "execution_count": 28,
   "metadata": {
    "ExecuteTime": {
     "end_time": "2021-09-15T01:21:48.109474Z",
     "start_time": "2021-09-15T01:21:48.080526Z"
    }
   },
   "outputs": [
    {
     "ename": "AttributeError",
     "evalue": "'tuple' object has no attribute 'value'",
     "output_type": "error",
     "traceback": [
      "\u001b[1;31m---------------------------------------------------------------------------\u001b[0m",
      "\u001b[1;31mAttributeError\u001b[0m                            Traceback (most recent call last)",
      "\u001b[1;32m<ipython-input-28-58f4d656143e>\u001b[0m in \u001b[0;36m<module>\u001b[1;34m\u001b[0m\n\u001b[0;32m      4\u001b[0m     \u001b[0mws1\u001b[0m\u001b[1;33m.\u001b[0m\u001b[0mappend\u001b[0m\u001b[1;33m(\u001b[0m\u001b[0mrow\u001b[0m\u001b[1;33m)\u001b[0m\u001b[1;33m\u001b[0m\u001b[1;33m\u001b[0m\u001b[0m\n\u001b[0;32m      5\u001b[0m \u001b[0mws1\u001b[0m\u001b[1;33m.\u001b[0m\u001b[0mmove_range\u001b[0m\u001b[1;33m(\u001b[0m\u001b[1;34m\"A1:AA100\"\u001b[0m\u001b[1;33m,\u001b[0m \u001b[0mrows\u001b[0m\u001b[1;33m=\u001b[0m\u001b[1;36m5\u001b[0m\u001b[1;33m,\u001b[0m \u001b[0mcols\u001b[0m\u001b[1;33m=\u001b[0m\u001b[1;36m0\u001b[0m\u001b[1;33m)\u001b[0m\u001b[1;33m\u001b[0m\u001b[1;33m\u001b[0m\u001b[0m\n\u001b[1;32m----> 6\u001b[1;33m \u001b[0mws1\u001b[0m\u001b[1;33m[\u001b[0m\u001b[1;34m\"A1:AA5\"\u001b[0m\u001b[1;33m]\u001b[0m \u001b[1;33m=\u001b[0m \u001b[0mws2\u001b[0m\u001b[1;33m[\u001b[0m\u001b[1;34m\"A1:AA5\"\u001b[0m\u001b[1;33m]\u001b[0m\u001b[1;33m\u001b[0m\u001b[1;33m\u001b[0m\u001b[0m\n\u001b[0m\u001b[0;32m      7\u001b[0m \u001b[1;33m\u001b[0m\u001b[0m\n\u001b[0;32m      8\u001b[0m \u001b[0mwb1\u001b[0m\u001b[1;33m.\u001b[0m\u001b[0msave\u001b[0m\u001b[1;33m(\u001b[0m\u001b[1;34m\"D:/디지털혁신팀/태블로/분양일보/Routine/사업별미수_tst.xlsx\"\u001b[0m\u001b[1;33m)\u001b[0m\u001b[1;33m\u001b[0m\u001b[1;33m\u001b[0m\u001b[0m\n",
      "\u001b[1;32m~\\Anaconda3\\envs\\tf2.3\\lib\\site-packages\\openpyxl\\worksheet\\worksheet.py\u001b[0m in \u001b[0;36m__setitem__\u001b[1;34m(self, key, value)\u001b[0m\n\u001b[0;32m    307\u001b[0m \u001b[1;33m\u001b[0m\u001b[0m\n\u001b[0;32m    308\u001b[0m     \u001b[1;32mdef\u001b[0m \u001b[0m__setitem__\u001b[0m\u001b[1;33m(\u001b[0m\u001b[0mself\u001b[0m\u001b[1;33m,\u001b[0m \u001b[0mkey\u001b[0m\u001b[1;33m,\u001b[0m \u001b[0mvalue\u001b[0m\u001b[1;33m)\u001b[0m\u001b[1;33m:\u001b[0m\u001b[1;33m\u001b[0m\u001b[1;33m\u001b[0m\u001b[0m\n\u001b[1;32m--> 309\u001b[1;33m         \u001b[0mself\u001b[0m\u001b[1;33m[\u001b[0m\u001b[0mkey\u001b[0m\u001b[1;33m]\u001b[0m\u001b[1;33m.\u001b[0m\u001b[0mvalue\u001b[0m \u001b[1;33m=\u001b[0m \u001b[0mvalue\u001b[0m\u001b[1;33m\u001b[0m\u001b[1;33m\u001b[0m\u001b[0m\n\u001b[0m\u001b[0;32m    310\u001b[0m \u001b[1;33m\u001b[0m\u001b[0m\n\u001b[0;32m    311\u001b[0m \u001b[1;33m\u001b[0m\u001b[0m\n",
      "\u001b[1;31mAttributeError\u001b[0m: 'tuple' object has no attribute 'value'"
     ]
    }
   ],
   "source": [
    "wb1 = openpyxl.Workbook()\n",
    "ws1 = wb.active\n",
    "for row in dataframe_to_rows(infos, index=False, header=False):\n",
    "    ws1.append(row)\n",
    "ws1.move_range(\"A1:AA100\", rows=5, cols=0)\n",
    "ws1[\"A1:AA5\"] = ws2[\"A1:AA5\"]\n",
    "\n",
    "# wb1.save(\"D:/디지털혁신팀/태블로/분양일보/Routine/사업별미수_tst.xlsx\")"
   ]
  },
  {
   "cell_type": "code",
   "execution_count": 33,
   "metadata": {
    "ExecuteTime": {
     "end_time": "2021-09-15T01:29:50.605115Z",
     "start_time": "2021-09-15T01:29:50.593147Z"
    }
   },
   "outputs": [
    {
     "ename": "AttributeError",
     "evalue": "'Cell' object has no attribute 'values'",
     "output_type": "error",
     "traceback": [
      "\u001b[1;31m---------------------------------------------------------------------------\u001b[0m",
      "\u001b[1;31mAttributeError\u001b[0m                            Traceback (most recent call last)",
      "\u001b[1;32m<ipython-input-33-dbb117d91c0c>\u001b[0m in \u001b[0;36m<module>\u001b[1;34m\u001b[0m\n\u001b[1;32m----> 1\u001b[1;33m \u001b[0mws1\u001b[0m\u001b[1;33m[\u001b[0m\u001b[1;34m\"A1\"\u001b[0m\u001b[1;33m]\u001b[0m\u001b[1;33m.\u001b[0m\u001b[0mvalues\u001b[0m\u001b[1;33m\u001b[0m\u001b[1;33m\u001b[0m\u001b[0m\n\u001b[0m",
      "\u001b[1;31mAttributeError\u001b[0m: 'Cell' object has no attribute 'values'"
     ]
    }
   ],
   "source": [
    "ws1[\"A1\"].values"
   ]
  },
  {
   "cell_type": "code",
   "execution_count": null,
   "metadata": {},
   "outputs": [],
   "source": []
  }
 ],
 "metadata": {
  "hide_input": false,
  "kernelspec": {
   "display_name": "Python 3",
   "language": "python",
   "name": "python3"
  },
  "language_info": {
   "codemirror_mode": {
    "name": "ipython",
    "version": 3
   },
   "file_extension": ".py",
   "mimetype": "text/x-python",
   "name": "python",
   "nbconvert_exporter": "python",
   "pygments_lexer": "ipython3",
   "version": "3.7.7"
  },
  "toc": {
   "base_numbering": 1,
   "nav_menu": {},
   "number_sections": true,
   "sideBar": true,
   "skip_h1_title": false,
   "title_cell": "Table of Contents",
   "title_sidebar": "Contents",
   "toc_cell": false,
   "toc_position": {},
   "toc_section_display": true,
   "toc_window_display": false
  },
  "varInspector": {
   "cols": {
    "lenName": 16,
    "lenType": 16,
    "lenVar": 40
   },
   "kernels_config": {
    "python": {
     "delete_cmd_postfix": "",
     "delete_cmd_prefix": "del ",
     "library": "var_list.py",
     "varRefreshCmd": "print(var_dic_list())"
    },
    "r": {
     "delete_cmd_postfix": ") ",
     "delete_cmd_prefix": "rm(",
     "library": "var_list.r",
     "varRefreshCmd": "cat(var_dic_list()) "
    }
   },
   "types_to_exclude": [
    "module",
    "function",
    "builtin_function_or_method",
    "instance",
    "_Feature"
   ],
   "window_display": false
  }
 },
 "nbformat": 4,
 "nbformat_minor": 4
}
