{
 "cells": [
  {
   "cell_type": "markdown",
   "metadata": {},
   "source": [
    "- Source: https://tableau.github.io/server-client-python/docs/api-ref\n",
    "- \"HDC현대산업개발\": \"2a21240d-3f53-4f02-944d-b01647c3dd51\""
   ]
  },
  {
   "cell_type": "code",
   "execution_count": null,
   "metadata": {},
   "outputs": [],
   "source": [
    "# hr[\"have_account\"] = hr.apply(lambda x:True if x[\"num\"] in all_users[\"user_name\"].tolist() else False, axis=1)"
   ]
  },
  {
   "cell_type": "code",
   "execution_count": 36,
   "metadata": {},
   "outputs": [],
   "source": [
    "import tableauserverclient as TSC\n",
    "import pandas as pd\n",
    "import numpy as np\n",
    "import pickle as pk\n",
    "\n",
    "pd.set_option(\"display.max_rows\", None)"
   ]
  },
  {
   "cell_type": "code",
   "execution_count": 103,
   "metadata": {},
   "outputs": [],
   "source": [
    "hr = pd.read_excel(\"D:/디지털혁신팀/태블로/직원명단_조직_210630.xlsx\")\n",
    "hr[\"성명\"] = hr[\"성명\"].apply(lambda x:x.replace(\" \", \"\"))\n",
    "hr = hr[[\"사번\", \"EMAIL\", \"본부명(조직단위기준)\", \"조직명\", \"하위그룹\", \"직무\", \"직급\", \"성명\"]]\n",
    "hr = hr.rename({\"사번\":\"num\", \"EMAIL\":\"email\", \"본부명(조직단위기준)\":\"hq\", \"조직명\":\"dep\", \"하위그룹\":\"sub\", \"직무\":\"job\", \"직급\":\"rank\", \"성명\":\"name\"}, axis=1)\n",
    "hr = hr.sort_values(by=[\"job\", \"rank\", \"hq\", \"dep\"], axis=0)\n",
    "hr[\"num\"] = hr[\"num\"].map(str)\n",
    "\n",
    "hr.loc[hr[\"num\"] == \"1\", \"num\"] = \"0001\""
   ]
  },
  {
   "cell_type": "code",
   "execution_count": 38,
   "metadata": {},
   "outputs": [],
   "source": [
    "empls = {str(row[\"num\"]):(row[\"hq\"], row[\"dep\"], row[\"job\"], row[\"name\"]) for _, row in hr.iterrows()}\n",
    "\n",
    "req_opts = TSC.RequestOptions(pagesize=1000)"
   ]
  },
  {
   "cell_type": "markdown",
   "metadata": {},
   "source": [
    "## SIgn In"
   ]
  },
  {
   "cell_type": "code",
   "execution_count": 3,
   "metadata": {},
   "outputs": [],
   "source": [
    "with open(\"D:/디지털혁신팀/태블로/admin_TOKEN.pkl\", \"rb\") as f:\n",
    "    token = pk.load(f)\n",
    "tableau_auth = TSC.PersonalAccessTokenAuth(\"admin_TOKEN\", token)\n",
    "server = TSC.Server(\"http://218.153.56.75/\", use_server_version=True)"
   ]
  },
  {
   "cell_type": "markdown",
   "metadata": {},
   "source": [
    "## Create Fundamental Datasets"
   ]
  },
  {
   "cell_type": "code",
   "execution_count": 111,
   "metadata": {},
   "outputs": [],
   "source": [
    "# all_users.csv\n",
    "with server.auth.sign_in(tableau_auth):\n",
    "    all_users, pagination_item = server.users.get(req_options=req_opts)\n",
    "all_users = [(user.id, user.name, user.fullname, user.site_role) + empls[user.name] if user.name in empls.keys() else (user.id, user.name, user.fullname, user.site_role, None, None, None, None) for user in all_users]\n",
    "all_users = pd.DataFrame(all_users, columns=[\"user_id\", \"user_name\", \"user_fullname\", \"site_role\", \"hq\", \"dep\", \"job\", \"name\"])\n",
    "\n",
    "all_users.to_csv(\"D:/Github/Work/Tableau/all_users.csv\", index=False, encoding=\"euc-kr\")\n",
    "\n",
    "# all_groups.csv\n",
    "with server.auth.sign_in(tableau_auth):\n",
    "    all_groups, pagination_item = server.groups.get(req_options=req_opts)\n",
    "all_groups = [(group.name, group.id) for group in all_groups]\n",
    "all_groups = pd.DataFrame(all_groups, columns=[\"group\", \"group_id\"])\n",
    "\n",
    "all_groups.to_csv(\"D:/Github/Work/Tableau/all_groups.csv\", index=False, encoding=\"euc-kr\")\n",
    "\n",
    "# user_group.csv\n",
    "user_group = list()\n",
    "with server.auth.sign_in(tableau_auth):\n",
    "    users, pagination_item = server.users.get(req_options=req_opts)\n",
    "    for user in users:\n",
    "        pagination_item = server.users.populate_groups(user, req_options=req_opts)\n",
    "        user_group.extend([(user.id, user.name, user.fullname, user.site_role) + empls[user.name] + (group.name,) if user.name in empls.keys() else (user.id, user.name, user.fullname, user.site_role, None, None, None, None, group.name) for group in user.groups if group.name != \"All Users\"])\n",
    "user_group = pd.DataFrame(user_group, columns=[\"user_id\", \"user_name\", \"user_fullname\", \"site_role\", \"hq\", \"dep\", \"job\", \"name\", \"group\"])\n",
    "\n",
    "user_group.to_csv(\"D:/Github/Work/Tableau/user_group.csv\", index=False, encoding=\"euc-kr\")\n",
    "\n",
    "# group_user.csv\n",
    "group_user = list()\n",
    "with server.auth.sign_in(tableau_auth):\n",
    "    groups, pagination_item = server.groups.get(req_options=req_opts)\n",
    "    for group in groups[1:]:\n",
    "        pagination_item = server.groups.populate_users(group, req_options=req_opts)\n",
    "        group_user.extend([(group.name,) + empls[user.name] + (user.site_role,) if user.name in empls.keys() else (group.name, None, None, None, user.name, user.site_role) for user in group.users])\n",
    "\n",
    "group_user = pd.DataFrame(group_user, columns=[\"group\", \"hq\", \"dep\", \"job\", \"name\", \"site_role\"])\n",
    "\n",
    "group_user.to_csv(\"D:/Github/Work/Tableau/group_user.csv\", index=False, encoding=\"euc-kr\")"
   ]
  },
  {
   "cell_type": "markdown",
   "metadata": {},
   "source": [
    "## 그룹별 유저 배정"
   ]
  },
  {
   "cell_type": "code",
   "execution_count": 71,
   "metadata": {},
   "outputs": [],
   "source": [
    "# \"HR현황\"\n",
    "ls = hr[(hr[\"job\"] == \"회장\") | (hr[\"job\"] == \"부회장\") | (hr[\"job\"] == \"대표이사사장\") | (hr[\"job\"] == \"본부장\")][\"num\"].tolist()\n",
    "for num in ls:\n",
    "    try:\n",
    "        user_id = all_users.loc[all_users[\"user_name\"] == num, \"user_id\"].values[0]\n",
    "    except:\n",
    "        print(f\"No Account; {num}\")\n",
    "#         with server.auth.sign_in(tableau_auth):\n",
    "#             new_user = TSC.UserItem(num, \"Viewer\")\n",
    "#             new_user = server.users.add(new_user)   \n",
    "#             new_user.fullname = f\"{hr.loc[hr[\"num\"] == num, \"name\"].values[0]}({hr.loc[hr[\"num\"] == num, \"dep\"].values[0]})\"\n",
    "#             new_user.email = hr.loc[hr[\"num\"] == num, \"email\"].values[0]\n",
    "#             new_user = server.users.update(new_user, password=f\"hdc{name}\")\n",
    "#             user_id = all_users.loc[all_users[\"user_name\"] == num, \"user_id\"].values[0]\n",
    "    with server.auth.sign_in(tableau_auth):\n",
    "        groups, pagination_item = server.groups.get(req_options=req_opts)\n",
    "        group = [i for i in groups if i.id == \"8bae0a19-c83c-4713-b932-a489754653de\"][0]\n",
    "        server.groups.add_user(group, user_id)"
   ]
  },
  {
   "cell_type": "markdown",
   "metadata": {},
   "source": [
    "## 그룹별 유저 기준\n",
    "\n",
    "### 현장 실적 + 예산변경 현황, CS접수현황, HR현황, 협업플랫폼 사용현황\n",
    "- 사용자 전체\n",
    "\n",
    "### 분양일보(\"16065e45-21b3-4e1b-80e1-c7c41079adfd\")\n",
    "```python\n",
    "hr[(hr[\"job\"] == \"회장\") | (hr[\"job\"] == \"부회장\") | (hr[\"job\"] == \"대표이사사장\") | (hr[\"job\"] == \"본부장\") | ((hr[\"dep\"] == \"도시개발1팀\") & (hr[\"job\"] == \"팀장\")) | ((hr[\"dep\"] == \"도시개발2팀\") & (hr[\"job\"] == \"팀장\")) | ((hr[\"dep\"] == \"도시정비1팀\") & (hr[\"job\"] == \"팀장\")) | ((hr[\"dep\"] == \"도시정비2팀\") & (hr[\"job\"] == \"팀장\")) | ((hr[\"dep\"] == \"마케팅팀\") & (hr[\"job\"] == \"팀장\")) | ((hr[\"dep\"] == \"민간수주1팀\") & (hr[\"job\"] == \"팀장\")) | ((hr[\"dep\"] == \"민간수주2팀\") & (hr[\"job\"] == \"팀장\")) | ((hr[\"dep\"] == \"고객서비스팀\") & (hr[\"job\"] == \"팀장\")) | ((hr[\"dep\"] == \"경영분석팀\") & (hr[\"job\"] == \"팀장\")) | ((hr[\"dep\"] == \"재무팀\") & (hr[\"job\"] == \"팀장\")) | ((hr[\"dep\"] == \"회계팀\") & (hr[\"job\"] == \"팀장\")) | ((hr[\"dep\"] == \"디지털플랫폼팀\") & (hr[\"job\"] == \"팀장\")) | ((hr[\"dep\"] == \"미래전략팀\") & (hr[\"job\"] == \"팀장\")) | ((hr[\"dep\"] == \"정보기술팀\") & (hr[\"job\"] == \"팀장\")) | (hr[\"num\"] == \"6110\") | (hr[\"num\"] == \"4001380\")]\n",
    "```\n",
    "- 회장님 비서?, 상임자문?, 부문장?, 김대중?\n",
    "\n",
    "### 수주정보\n",
    "```python\n",
    "hr[(hr[\"job\"] == \"회장\") | (hr[\"job\"] == \"부회장\") | (hr[\"job\"] == \"대표이사사장\") | (hr[\"job\"] == \"본부장\")]\n",
    "```\n",
    "- 회장님 비서?, 상임자문?\n",
    "\n",
    "### 본부장 회의(\"01b579e9-e0b0-458d-b12a-94292171d3a7\")\n",
    "```python\n",
    "hr[(hr[\"job\"] == \"회장\") | (hr[\"job\"] == \"부회장\") | (hr[\"job\"] == \"대표이사사장\") | (hr[\"job\"] == \"본부장\") | (hr[\"job\"] == \"팀장\") | (hr[\"job\"] == \"실장\") | (hr[\"job\"] == \"그룹장\") | (hr[\"job\"] == \"부문장\") | (hr[\"job\"] == \"단장\") | (hr[\"job\"] == \"리더\") | (hr[\"job\"] == \"PM\") | (hr[\"job\"] == \"건축PM\") | (hr[\"num\"] == \"6447\") | (hr[\"num\"] == \"6406\") | (hr[\"num\"] == \"6486\") | (hr[\"num\"] == \"6427\") | (hr[\"num\"] == \"6014\") | (hr[\"num\"] == \"5704\") | (hr[\"num\"] == \"5720\") | (hr[\"num\"] == \"5882\") | (hr[\"num\"] == \"4001380\") | (hr[\"num\"] == \"4100435\") | (hr[\"num\"] == \"6281\") | (hr[\"num\"] == \"6363\") | (hr[\"num\"] == \"5899\") | (hr[\"num\"] == \"6048\")]\n",
    "```\n",
    "- 회장님 비서?, 상임자문?, 김주완?, 성기창?, 오재환?"
   ]
  },
  {
   "cell_type": "markdown",
   "metadata": {},
   "source": [
    "## Remove user"
   ]
  },
  {
   "cell_type": "code",
   "execution_count": 26,
   "metadata": {},
   "outputs": [],
   "source": [
    "user_id = \"371ace7c-8abb-484e-9c61-ac1ab2247f4d\"\n",
    "with server.auth.sign_in(tableau_auth):\n",
    "    server.users.remove(user_id)"
   ]
  },
  {
   "cell_type": "markdown",
   "metadata": {},
   "source": [
    "## Modify User Information"
   ]
  },
  {
   "cell_type": "code",
   "execution_count": 32,
   "metadata": {},
   "outputs": [
    {
     "name": "stdout",
     "output_type": "stream",
     "text": [
      "2c2ceaa8-9387-4edb-8ab2-38b17f686304 김동진 김동진 건축PM\n",
      "c232b3be-3aac-4f4f-83fb-bc8a15dab963 배영선 배영선 건축PM\n",
      "e17666e4-a736-40a7-badc-865a60ebd7f2 서태철 서태철 광주학동4구역\n",
      "cf30b80d-8e3a-4128-995a-acbe79a7090f 이훈석 이훈석 건설기획팀(신규준비)\n",
      "f0a544b2-1f42-4f3d-b20f-bcd428b11d6a 김행대 김행대 서울숲IPARK리버포레\n",
      "123c4e57-2fc6-4a62-8837-d3c1277ee1c6 정상민 정상민 외주구매팀\n",
      "af48c1c7-5d45-4e6a-bd52-e028d35013cf 김영도 김영도 현대엘리베이터충주신공장\n",
      "55a1b5a0-fe20-4711-85d4-514c0d1aaec4 김유겸 김유겸 고속국도제32호선아산-천안간건설공사(4공구)\n",
      "06f0c545-3f70-47ac-a6e3-0fd195c4ea68 이문경 이문경 부산동래래미안아이파크\n",
      "15d539bf-721c-42f7-a3bb-a0b6cecbf3eb 이종일 이종일 TheH Firstier IPARK(개포1 주택재건축)\n",
      "ab1b3edd-f03c-4358-baf2-695f7bab45f5 고영진 고영진 고속국도제32호선아산-천안간건설공사(5공구)\n",
      "102a7f7f-6fa3-41b2-ab18-8fb2357fa3d5 이창규 이창규 건축PM\n",
      "7f57aeae-354b-4ed7-acf0-fcb7a29ef108 김달운 김달운 아시아드레이카운티(부산거제2구역)\n",
      "2bc4b236-5eb8-4b69-a32e-5ef51a167d5a 한희태 한희태 김포풍무2지구도시개발사업\n",
      "9d798eca-8cfe-461f-9a23-5e654cc799c7 김한덕 김한덕 수원센트럴아이파크자이(수원팔달10구역재개발)\n",
      "4b68efef-e3cc-4820-af1e-54e23bcd5cda 최영준 최영준 아현2구역재건축\n",
      "693792b3-5945-468a-8652-22479d429b45 김창환 김창환 용산병원부지개발사업\n",
      "e1af50a2-4aed-4901-84c7-dd9b9bb42b11 이현대 이현대 건축PM\n",
      "b61b252c-e5a8-4d65-a31b-72ee96113924 김창범 김창범 평택고덕IPARK\n",
      "5bb1c559-cea8-43d1-9d6d-2822a5c855b9 하원기 하원기 건설본부\n",
      "1e920147-1b76-4ad5-a6c5-d63e027dc255 김범동 김범동 인프라PM\n",
      "d8deaec1-e5c8-4432-bf64-c80fe198e405 박용호 박용호 부산항신항2-4단계컨테이너부두(3선석)민간투자시설사업건설공사\n",
      "7d0a54be-87b1-4735-bdac-f3e08e9f1215 강민석 강민석 건설디지털팀\n",
      "bcac7a7e-4319-448f-baa3-cbf18e9e06e6 이상호 이상호 속초2차아이파크\n",
      "3a21397f-f7a6-4736-aaec-efddf7d96619 최영근 최영근 광명4R구역주택재개발\n",
      "8bb22c3d-92ee-48a4-bc46-fc5b42c69aef 이대용 이대용 방글라데시BSMMU병원\n",
      "216e2d66-f41c-4fcb-9b42-ee6c1001bfc2 김용남 김용남 둔촌주공재건축\n",
      "b5eabaae-0f5c-4e73-9edb-e720c2444fb1 김현철 김현철 화성봉담국도43호선확포장및지하차도공사(2공구)\n",
      "a708b304-b5b2-4211-8503-5be62b3aafa1 곽동호 곽동호 에티오피아고레-테피도로\n",
      "9c2f3122-ce38-46de-9237-e23b94951980 안정찬 안정찬 DMC SK뷰 아이파크포레(수색13구역재개발)\n",
      "c1954e54-0490-4b5b-85c3-4701314f3690 최성일 최성일 고속국도제65호선포항-영덕간건설공사(4공구)\n",
      "aff8462a-a69f-401a-9f5c-75496b3b7fe2 박상우 박상우 용현학익1블럭부지조성공사\n",
      "c3886167-8d3c-458a-83b5-ba7da0f5524c 박혁종 박혁종 공정상생팀\n",
      "4ee1dd5e-fb84-4ec8-b885-f0891066f97d 문치성 문치성 도시정비1팀\n",
      "eb99461e-3eda-4113-8aa7-774fc7aa36cd 노창기 노창기 광주계림IPARK SKVIEW\n",
      "925c3c2d-98c4-4523-9fb6-1f568bba1fdd 박정화 박정화 건설기획팀\n",
      "68a87b8c-87d6-48c1-a022-3ef3a1a68b5b 박찬호 박찬호 설계그룹(개발영업)\n",
      "f7620df5-10c9-4396-856b-a65264953c88 진동성 진동성 범어우방1차재건축\n",
      "fe8e5d19-cd9c-4a97-a6bd-1551ea25a9b6 장태영 장태영 성남산단재생복합지식산업센터\n",
      "207b82c3-340b-45f7-baa0-4bc0d378ad9c 고재영 고재영 영통아이파크캐슬3단지\n",
      "be0da5d6-416c-44ad-af06-432d2342188c 박형건 박형건 비산자이아이파크\n",
      "e4bbffd9-1ac0-4a85-b9fc-7b67e8c10b5e 조정익 조정익 송도역세권구역도시개발사업부지조성공사\n",
      "ad9410a1-4c3c-4ced-9a5f-8e498fb6cf31 최정환 최정환 오크밸리Zone1골프장조성및부대공사\n",
      "0dfbbd36-7903-4d35-a3e6-fe7d1580b01a 이현우 이현우 조경그룹(건설)\n",
      "b19f9a47-bed6-4a03-85a2-b1f1e7c4e1a7 김영철 김영철 도담-영천복선전철제4공구노반신설기타공사\n",
      "72e3a85a-6488-49eb-8975-0415a920d0c7 강병철 강병철 속초IPARK SUITE(속초영랑동생활숙박시설)\n",
      "a5f3713d-f14b-4867-9aff-0b0e5977f05f 손관철 손관철 부산항신항2-4단계컨테이너부두(3선석)민간투자시설사업장비조달공사\n",
      "4dd79f69-5463-4368-b84b-ad107bf3e3a3 양승철 양승철 시티오씨엘3단지\n",
      "7c1da6f4-8718-487a-8e96-7f3c71cf31d2 박홍열 박홍열 역삼센트럴IPARK\n",
      "8b2316a3-56b6-40f5-833f-f714a9788b4e 김정우 김정우 울산태화강IPARK\n",
      "7c6935bc-2140-41b6-b41b-4946acd72622 최창구 최창구 실시설계팀\n",
      "de6f1d5e-acbd-4f68-9aba-e8eb6c778ce0 문인석 문인석 진례시례지구도시개발사업\n",
      "f49ef9f6-175b-41d7-a739-cc74e138f49b 김용주 김용주 인프라팀\n",
      "cf6558c5-e7ff-42f3-8c0e-5e6228a92249 이유로 이유로 일반견적팀\n",
      "a8d8538e-1337-4d0a-98d8-bac32dccac43 전정하 전정하 인프라수주팀\n",
      "028da6f7-1a2a-4c47-a11c-08ea4d95a8b9 신웅식 신웅식 당진아이파크\n",
      "dd438db5-10c1-49fd-aa26-a6d1ec64d881 민성우 민성우 아산병원P동및I동증축공사\n",
      "5650afc4-a205-4a54-ae19-10ccc7cfb8b8 김상균 김상균 구미아이파크더샵(구미원평1구역)\n",
      "2c06e1d5-14b6-4afe-8c26-4a6fe8e9e8b8 이현우 이현우 도시개발1팀\n",
      "b2b5df54-57ca-4645-a5d5-b6fe5f0702d8 구영아 구영아 우장산숲아이파크(화곡1주택재건축)\n",
      "8ca37707-4a88-479b-b51d-26cf5ce24ca9 김근호 김근호 지개-남산간연결도로민간투자사업\n",
      "8bda9c7c-1ea5-4862-a8dd-925e4ffd9679 박범수 박범수 마산해양신도시건설사업\n",
      "f4ccc942-8469-44dc-b7ee-c22950da8f5a 최종우 최종우 서울-춘천고속도로6차로구간확장건설공사\n",
      "557584ae-61e1-46d0-b458-f7c9c8cbd6e7 장도순 장도순 고속국도제65호선포항-영덕간건설공사(5공구)\n",
      "6f6243e2-7d03-4238-a055-8e28178efaa3 소문석 소문석 견적그룹(개발영업)\n",
      "87b0a1f1-2840-47cc-81cf-a510c4779f2d 여승의 여승의 스마트프리콘팀\n",
      "60ce2a18-9a85-4c5e-94fb-b8f87b811e46 호명기 호명기 안전경영실\n",
      "30a7275a-dbe1-4896-82e0-572013fd64bd 장용석 장용석 해외사업팀\n",
      "f75fb604-6032-49c3-ab83-f74ffbd31be1 이준희 이준희 용산병원프로젝트\n",
      "6304ceba-9914-4f06-b551-59d229b7cb9b 김지현 김지현 예산견적팀\n",
      "30773ee0-12e8-4ca1-9c00-2dc5a7b3622c 이홍석 이홍석 도시개발2팀\n",
      "c4239f82-98f2-4e31-8a10-f1b107999280 황세환 황세환 인도뭄바이해안도로(2공구)건설공사\n",
      "b2984076-861a-4b0f-8b84-eeeb659aafa1 박상일 박상일 인프라부문\n",
      "b3d5f4ef-1f9c-40b4-9236-91c37de22671 이종민 이종민 인프라PM\n",
      "53490f3d-6ed5-46bf-920b-f13402916eb6 백장준 백장준 민간수주2팀\n",
      "74802091-d8fe-41ae-820f-fba9856ee921 선영욱 선영욱 HR혁신팀\n",
      "5d565cc4-8b06-4a47-8477-8c576366e096 한상현 한상현 민간수주1팀\n",
      "49998799-2810-400c-b0d4-52005f428828 권양현 권양현 투자운영팀\n",
      "404a382e-f9b2-4f22-bfb7-e6630d945d84 맹은주 맹은주 디지털플랫폼팀\n",
      "710f4e8f-c167-4dd8-b55e-d6557e138474 김철 김철 시티오씨엘3단지\n",
      "3b1d4c06-b7c9-4161-9955-70c6a2e373fd 김용권 김용권 전기그룹(건설)\n",
      "984f8956-32a1-4a10-935a-111a852b6e65 현규섭 현규섭 설비그룹(건설)\n",
      "1dcd91a7-ea6e-45eb-b24a-f2dd1d944ab3 윤보은 윤보은 법무감사팀\n",
      "af7cd043-b1aa-498f-99dc-c3aa938b878c 권두섭 권두섭 복합개발팀\n",
      "e3f28319-7257-42a1-a01e-1b5663b2350c 신현철 신현철 도시정비2팀\n",
      "1f34b28f-5859-4d04-ad50-b17fb4cc1061 김태수 김태수 개발부문\n",
      "1363cba4-a1ef-4bb5-a4d7-2660eb9aecbe 노형주 노형주 재무팀\n",
      "b7a5b867-20d9-4535-bf62-2755d6315be8 김대철 김대철 부회장\n",
      "64a7cf39-d7c6-4bb9-b75a-d294170d406e 권순호 권순호 대표이사사장\n",
      "aeac9fd0-7f64-4888-9a70-9374508927f8 박희윤 박희윤 개발영업본부\n",
      "f00e6293-c380-47ca-9df0-f0a017e46623 이완희 이완희 회계팀\n",
      "eb534166-0d09-4ec1-ae08-e7027ecd23b1 정경구 정경구 경영본부\n",
      "01ac2e6a-aabd-4e10-b065-a306598436a4 고영호 고영호 미래전략팀\n",
      "752c13e0-3b92-48e4-85dd-ae8ffac15bb9 정영도 정영도 고객서비스팀\n",
      "63664f7e-d909-4b36-afba-5d5541b22901 이형기 이형기 경영혁신TFT\n",
      "5e99f5f5-0369-4617-a4b1-bdf526318dc0 이흥복 이흥복 인프라개발팀\n",
      "7b07f552-2385-4ea3-b954-cb79b9897331 김대중 김대중 수주부문\n",
      "20ed0326-a5a2-48a0-ac1d-7e32bfce06a5 최영소(디지털혁신팀) 최영소 디지털플랫폼팀\n",
      "12e18b8c-84f5-4224-b8ee-a4f27170787a 김동수 김동수 용현학익1블록도시개발사업단\n",
      "7db874df-e302-4a8d-b682-c28b6d8e394b 황종열 황종열 베트남지사\n",
      "cc3e73e6-6c2c-48ab-82bc-af92187a4627 김종범(디지털혁신팀) 김종범 디지털플랫폼팀\n",
      "a537bda7-2703-4f2b-a2fb-52d9bd6eac32 유경근(디지털혁신팀) 유경근 디지털플랫폼팀\n",
      "ba13411b-37d6-4feb-93a9-0cbebe1b8901 김석희(디지털혁신팀) 김석희 디지털플랫폼팀\n",
      "b5610a15-68b4-4223-a501-c2d8a5b2cbae 서장원(비서) 서장원 재무팀\n",
      "350b7348-39d6-4985-bd14-0d825a870626 노인주(디지털혁신팀) 노인주 디지털플랫폼팀\n",
      "2ab855b2-21be-4a61-9dfd-602a43f633b4 박미숙(디지털혁신팀) 박미숙 디지털플랫폼팀\n",
      "f2f586ee-8d8b-4696-8bcc-bc5d11284267 빙창민 빙창민 고덕아이파크디어반\n",
      "a8ccdf9a-7571-4c0e-8d8b-7c9eaf2cde32 김도헌 김도헌 군산호수공원아이파크\n",
      "6f5b4625-2bb5-4a57-a1b8-8d319a0fa067 이일재 이일재 잠실진주재건축\n",
      "2e15fd5f-0b1f-4028-ad4d-f69ccac28590 장수호 장수호 용현학익1블록도시개발사업단\n",
      "b82e71de-8aaf-4c1b-b213-e9ff552f6e3f 김윤호 김윤호 전주태평아이파크\n",
      "5e6ccb01-f215-4c31-873a-813c44f4b4d7 이부근 이부근 경산아이파크\n",
      "730d42fa-295f-4426-8e89-1342a1d25061 김정훈 김정훈 김해사이언스파크일반산업단지조성공사\n",
      "4b623620-cda4-4793-95f0-0310acabc3d7 심재병 심재병 용현학익1블록도시개발사업단\n",
      "3a79663c-66c4-4df9-8680-95239b034c28 박재환 박재환 베트남렌강수자원개발공사\n",
      "5ffe9fed-fed6-495e-a1ff-cf570b1d64a4 심창식(건설기획팀) 심창식 건설기획팀\n",
      "4c1b3ba8-b575-4180-879d-43dd36bae574 위현정(고객서비스팀) 위현정 고객서비스팀\n",
      "bc838b1c-6bf8-4710-ab30-582c48ea00cc 김원(인프라팀) 김원 인프라팀\n",
      "515c7d10-953c-4bfc-af9a-e87cf34ccb85 이정은 이정은 마케팅부문\n",
      "ca074202-337a-4a2c-9a33-3d2eefe0d990 강미희 강미희 마케팅팀\n",
      "aad2a7a5-6089-418d-a3eb-8a9fa0d3f81c 김자현 김자현 상품기획팀\n",
      "fae2b2d6-dee2-4fe8-b057-2532c2c08a11 이동훈 이동훈 홍보팀\n",
      "a13fcec5-0a6d-4861-91f0-a42a4e82855b 김의성 김의성 인프라개발팀\n",
      "a775aa6b-bb34-4a9d-ab66-81b405095c1c 김홍일 김홍일 미래혁신본부\n",
      "11d80efd-be44-44b8-9f08-f80e1bc14022 최용 최용 경영분석팀\n",
      "5ef853e6-eaa4-4a63-a9e2-fea49b4776e2 원혁(디지털혁신팀) 원혁 디지털플랫폼팀\n",
      "46100b14-e1e5-4394-908d-487442ee4789 이동신(디지털혁신팀) 이동신 디지털플랫폼팀\n",
      "eae6a39d-15c0-48d5-8bd7-f36427f1007d 김경민(재무팀) 김경민 재무팀\n",
      "0ed80470-6364-4fff-98ee-2107cce9b6b3 김은중(경영분석팀) 김은중 경영분석팀\n",
      "38d67120-25af-45dc-b3b6-b5e5f4319177 심동현(정보기술팀) 심동현 정보기술팀\n",
      "ac8a5c8d-b384-4053-8907-b33782341cab 김주완(경영분석팀) 김주완 경영분석팀\n",
      "ec4b5013-5e01-497f-bcf2-5a7859c54865 배종민(인프라수주팀) 배종민 인프라수주팀\n",
      "6ea26420-e9a0-436e-976d-9317acda9cb5 고승의(경영분석팀) 고승의 경영분석팀\n",
      "118b0f6f-d7ad-44d6-8b45-74eaf15a78b4 최선영(건설기획팀) 최선영 건설기획팀\n",
      "c71ad766-7876-440b-afa5-d5f48a30df86 이정상(건설기획팀) 이정상 건설기획팀\n",
      "9ceb0a5f-5875-4e0b-b951-a0d56bdeea30 임유빈(도시개발1팀) 임유빈 도시개발1팀\n",
      "b9e0858c-7845-4e32-aa67-9ce9f56cdfc0 김아현(미래전략팀) 김아현 미래전략팀\n",
      "f53c8c2d-fe00-456d-afdd-0a3efa5f184f 김진호(비서) 김진호 재무팀\n",
      "323c4b3c-168e-48d0-9173-8672dea42eda 이주화(비서) 이주화 재무팀\n",
      "7472e832-0138-4a97-a3b7-53318822e8f0 강우신(상임자문) 강우신 상임자문(해외사업)\n",
      "ad05f427-63b6-4ba9-9d06-42392cf4fc5b 이재호(정보기술팀) 이재호 정보기술팀\n",
      "e3ea9f75-9017-483b-903e-5e09734fcdf8 하지선(디지털혁신팀) 하지선 TheH Firstier IPARK(개포1 주택재건축)\n",
      "8e46632c-256f-4122-9ebe-12a5047bd721 고유경(안정경영실) 고유경 안전경영실\n",
      "39bb1ba0-5fab-4880-a27d-69bfd9a9e9b4 박경신 박경신 인프라개발팀\n",
      "35356ddd-895e-499f-950f-6d9b3b5e92f9 배인준(디지털플랫폼팀) 배인준 디지털플랫폼팀\n",
      "f3c80300-ea80-4eb7-a085-bd335e822899 오재환(HR혁신팀) 오재환 HR혁신팀\n",
      "e3214256-fbbe-4208-8e00-75f5d46db56d 성기창(HR혁신팀) 성기창 HR혁신팀\n",
      "5ae9b472-674f-4cf3-a4cb-2a2bd23a53f9 최혁(마케팅팀) 최혁 마케팅팀\n"
     ]
    }
   ],
   "source": [
    "# for _, row in all_users.iterrows():\n",
    "#     if row[\"dep\"] != None:\n",
    "#         print(row[\"user_id\"], row[\"user_fullname\"], row[\"name\"], row[\"dep\"])"
   ]
  },
  {
   "cell_type": "code",
   "execution_count": null,
   "metadata": {},
   "outputs": [],
   "source": [
    "# with server.auth.sign_in(tableau_auth):\n",
    "#     user = server.users.get_by_id(row[\"user_id\"])\n",
    "#     user.fullname = f\"{row['name']}({row['dep']})\"\n",
    "    \n",
    "#     user_rev = server.users.update(user)"
   ]
  },
  {
   "cell_type": "markdown",
   "metadata": {},
   "source": [
    "## have_account"
   ]
  },
  {
   "cell_type": "code",
   "execution_count": null,
   "metadata": {},
   "outputs": [],
   "source": [
    "hr[\"account\"] = hr.apply(lambda x:True if x[\"num\"] in all_users[\"user_name\"].tolist() else False, axis=1)"
   ]
  },
  {
   "cell_type": "code",
   "execution_count": 27,
   "metadata": {},
   "outputs": [],
   "source": [
    "### user.remove()\n",
    "\n",
    "user_id = \"371ace7c-8abb-484e-9c61-ac1ab2247f4d\"\n",
    "with server.auth.sign_in(tableau_auth):\n",
    "    server.users.remove(user_id)\n",
    "    hr[\"account\"] = hr.apply(lambda x:True if x[\"num\"] in all_users[\"user_name\"].tolist() else False, axis=1)"
   ]
  },
  {
   "cell_type": "code",
   "execution_count": 33,
   "metadata": {},
   "outputs": [],
   "source": [
    "hr.to_csv(\"D:/디지털혁신팀/태블로/hr.csv\", encoding=\"euc-kr\")"
   ]
  },
  {
   "cell_type": "markdown",
   "metadata": {},
   "source": [
    "## Projects"
   ]
  },
  {
   "cell_type": "code",
   "execution_count": 72,
   "metadata": {},
   "outputs": [],
   "source": [
    "# with server.auth.sign_in(tableau_auth):\n",
    "#     all_project_items, pagination_item = server.projects.get(req_options=req_opts)\n",
    "#     print([(prj.name, prj.id) for prj in all_project_items])"
   ]
  },
  {
   "cell_type": "markdown",
   "metadata": {},
   "source": [
    "## Workbooks"
   ]
  },
  {
   "cell_type": "code",
   "execution_count": 307,
   "metadata": {},
   "outputs": [],
   "source": [
    "# with server.auth.sign_in(tableau_auth):\n",
    "#     all_wbs, pagination_item = server.workbooks.get()\n",
    "# all_wbs = [(wb.project_name, wb.name) for wb in all_wbs]\n",
    "# all_wbs = pd.DataFrame(all_wbs, columns=[\"prj\", \"wb\"])\n",
    "# all_wbs = all_wbs.sort_values(by=[\"prj\", \"wb\"])"
   ]
  },
  {
   "cell_type": "markdown",
   "metadata": {},
   "source": [
    "## Groups\n",
    "\n",
    "## groups.get(), groups.populate_users()"
   ]
  },
  {
   "cell_type": "code",
   "execution_count": 77,
   "metadata": {},
   "outputs": [],
   "source": [
    "with server.auth.sign_in(tableau_auth):\n",
    "    all_groups, pagination_item = server.groups.get(req_options=req_opts)\n",
    "all_groups = [(group.name, group.id) for group in all_groups]\n",
    "all_groups = pd.DataFrame(all_groups, columns=[\"group\", \"group_id\"])\n",
    "\n",
    "# all_groups.to_csv(\"D:/Github/Work/Tableau/all_groups.csv\", index=False, encoding=\"euc-kr\")"
   ]
  },
  {
   "cell_type": "code",
   "execution_count": 24,
   "metadata": {},
   "outputs": [
    {
     "ename": "UnpopulatedPropertyError",
     "evalue": "User item must be populated with workbooks first.",
     "output_type": "error",
     "traceback": [
      "\u001b[1;31m---------------------------------------------------------------------------\u001b[0m",
      "\u001b[1;31mUnpopulatedPropertyError\u001b[0m                  Traceback (most recent call last)",
      "\u001b[1;32m<ipython-input-24-e32e4ebf11f9>\u001b[0m in \u001b[0;36m<module>\u001b[1;34m\u001b[0m\n\u001b[0;32m      3\u001b[0m \u001b[0mnewU\u001b[0m \u001b[1;33m=\u001b[0m \u001b[0mTSC\u001b[0m\u001b[1;33m.\u001b[0m\u001b[0mUserItem\u001b[0m\u001b[1;33m(\u001b[0m\u001b[0muser_name\u001b[0m\u001b[1;33m,\u001b[0m \u001b[0msite_role\u001b[0m\u001b[1;33m)\u001b[0m\u001b[1;33m\u001b[0m\u001b[1;33m\u001b[0m\u001b[0m\n\u001b[0;32m      4\u001b[0m \u001b[1;33m\u001b[0m\u001b[0m\n\u001b[1;32m----> 5\u001b[1;33m \u001b[0mprint\u001b[0m\u001b[1;33m(\u001b[0m\u001b[0mnewU\u001b[0m\u001b[1;33m.\u001b[0m\u001b[0mname\u001b[0m\u001b[1;33m,\u001b[0m \u001b[0mnewU\u001b[0m\u001b[1;33m.\u001b[0m\u001b[0msite_role\u001b[0m\u001b[1;33m,\u001b[0m \u001b[0mnewU\u001b[0m\u001b[1;33m.\u001b[0m\u001b[0mworkbooks\u001b[0m\u001b[1;33m)\u001b[0m\u001b[1;33m\u001b[0m\u001b[1;33m\u001b[0m\u001b[0m\n\u001b[0m",
      "\u001b[1;32m~\\Anaconda3\\envs\\tf2.3\\lib\\site-packages\\tableauserverclient\\models\\user_item.py\u001b[0m in \u001b[0;36mworkbooks\u001b[1;34m(self)\u001b[0m\n\u001b[0;32m     99\u001b[0m         \u001b[1;32mif\u001b[0m \u001b[0mself\u001b[0m\u001b[1;33m.\u001b[0m\u001b[0m_workbooks\u001b[0m \u001b[1;32mis\u001b[0m \u001b[1;32mNone\u001b[0m\u001b[1;33m:\u001b[0m\u001b[1;33m\u001b[0m\u001b[1;33m\u001b[0m\u001b[0m\n\u001b[0;32m    100\u001b[0m             \u001b[0merror\u001b[0m \u001b[1;33m=\u001b[0m \u001b[1;34m\"User item must be populated with workbooks first.\"\u001b[0m\u001b[1;33m\u001b[0m\u001b[1;33m\u001b[0m\u001b[0m\n\u001b[1;32m--> 101\u001b[1;33m             \u001b[1;32mraise\u001b[0m \u001b[0mUnpopulatedPropertyError\u001b[0m\u001b[1;33m(\u001b[0m\u001b[0merror\u001b[0m\u001b[1;33m)\u001b[0m\u001b[1;33m\u001b[0m\u001b[1;33m\u001b[0m\u001b[0m\n\u001b[0m\u001b[0;32m    102\u001b[0m         \u001b[1;32mreturn\u001b[0m \u001b[0mself\u001b[0m\u001b[1;33m.\u001b[0m\u001b[0m_workbooks\u001b[0m\u001b[1;33m(\u001b[0m\u001b[1;33m)\u001b[0m\u001b[1;33m\u001b[0m\u001b[1;33m\u001b[0m\u001b[0m\n\u001b[0;32m    103\u001b[0m \u001b[1;33m\u001b[0m\u001b[0m\n",
      "\u001b[1;31mUnpopulatedPropertyError\u001b[0m: User item must be populated with workbooks first."
     ]
    }
   ],
   "source": [
    "user_name = \"creator1\"\n",
    "site_role = \"Creator\"\n",
    "newU = TSC.UserItem(user_name, site_role)\n",
    "\n",
    "print(newU.name, newU.site_role, newU.workbooks)"
   ]
  },
  {
   "cell_type": "markdown",
   "metadata": {},
   "source": [
    "## Add Users to Groups"
   ]
  },
  {
   "cell_type": "code",
   "execution_count": 73,
   "metadata": {
    "scrolled": true
   },
   "outputs": [],
   "source": [
    "# with server.auth.sign_in(tableau_auth):\n",
    "#     groups, pagination_item = server.groups.get(req_options=req_opts)\n",
    "#     users, pagination_item = server.users.get(req_options=req_opts)\n",
    "#     for _, row in hr[hr[\"check\"].notna()].iterrows():\n",
    "#         idx = all_groups[all_groups[\"group\"] == row[\"check\"]].index[0]\n",
    "#         group = groups[idx]\n",
    "        \n",
    "#         user_idx = all_users[all_users[\"user_name\"] == row[\"num\"]].index[0]\n",
    "#         user_id = users[user_idx].id\n",
    "    \n",
    "#         server.groups.add_user(group, user_id)"
   ]
  },
  {
   "cell_type": "code",
   "execution_count": 76,
   "metadata": {},
   "outputs": [],
   "source": [
    "keyword = \"호미\"\n",
    "num = \"5634\"\n",
    "\n",
    "group_idx = all_groups[all_groups[\"group\"].str.contains(keyword)].index[0]\n",
    "with server.auth.sign_in(tableau_auth):\n",
    "    groups, pagination_item = server.groups.get(req_options=req_opts)\n",
    "    group = groups[group_idx]\n",
    "    \n",
    "    user_idx = all_users[all_users[\"user_name\"] == num].index[0]\n",
    "    users, pagination_item = server.users.get(req_options=req_opts)\n",
    "    user_id = users[user_idx].id\n",
    "    \n",
    "    server.groups.add_user(group, user_id)"
   ]
  },
  {
   "cell_type": "markdown",
   "metadata": {},
   "source": [
    "### users.populate_workbooks()"
   ]
  },
  {
   "cell_type": "code",
   "execution_count": 96,
   "metadata": {},
   "outputs": [],
   "source": [
    "# with server.auth.sign_in(tableau_auth):\n",
    "#     user = server.users.get_by_id(\"515c7d10-953c-4bfc-af9a-e87cf34ccb85\")\n",
    "#     page_n = server.users.populate_workbooks(user)\n",
    "#     for workbook in user.workbooks :\n",
    "#         if workbook.project_name == \"HDC현대산업개발\":\n",
    "#             print(workbook.name)"
   ]
  },
  {
   "cell_type": "markdown",
   "metadata": {},
   "source": [
    "## Create Accounts"
   ]
  },
  {
   "cell_type": "code",
   "execution_count": 115,
   "metadata": {},
   "outputs": [],
   "source": [
    "with server.auth.sign_in(tableau_auth):\n",
    "    name = \"1101296\"\n",
    "    site_role = \"Viewer\"\n",
    "    new_user = TSC.UserItem(name, site_role)\n",
    "    \n",
    "    new_user = server.users.add(new_user)   \n",
    "    new_user.fullname = \"황승환(디지털플랫폼팀)\"\n",
    "    new_user.email = \"hwangsh@hdc-dvp.com\"\n",
    "    \n",
    "    new_user = server.users.update(new_user, password=f\"hdc{name}\")"
   ]
  }
 ],
 "metadata": {
  "kernelspec": {
   "display_name": "Python 3",
   "language": "python",
   "name": "python3"
  },
  "language_info": {
   "codemirror_mode": {
    "name": "ipython",
    "version": 3
   },
   "file_extension": ".py",
   "mimetype": "text/x-python",
   "name": "python",
   "nbconvert_exporter": "python",
   "pygments_lexer": "ipython3",
   "version": "3.7.7"
  }
 },
 "nbformat": 4,
 "nbformat_minor": 4
}
