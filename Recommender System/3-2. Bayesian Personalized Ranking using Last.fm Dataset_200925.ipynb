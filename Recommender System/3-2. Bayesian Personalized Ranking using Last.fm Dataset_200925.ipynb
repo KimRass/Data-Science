{
 "cells": [
  {
   "cell_type": "markdown",
   "metadata": {},
   "source": [
    "# Matrix Factorization - BRP(Bayesian Personalized Ranking)\n",
    "- BPR은 implicit data에 사용 가능한 matrix factorization 알고리즘 중 하나입니다."
   ]
  },
  {
   "cell_type": "code",
   "execution_count": 26,
   "metadata": {
    "scrolled": true
   },
   "outputs": [],
   "source": [
    "import random\n",
    "import numpy as np\n",
    "import pandas as pd\n",
    "import tensorflow as tf\n",
    "from tqdm.notebook import tqdm\n",
    "import matplotlib.pyplot as plt\n",
    "import seaborn as sb\n",
    "from scipy.sparse import csr_matrix\n",
    "from implicit.bpr import BayesianPersonalizedRanking as BPR\n",
    "import pickle as pk\n",
    "from sklearn.decomposition import PCA\n",
    "from annoy import AnnoyIndex\n",
    "from google_drive_downloader import GoogleDriveDownloader as gdd\n",
    "\n",
    "np.set_printoptions(3)"
   ]
  },
  {
   "cell_type": "code",
   "execution_count": 27,
   "metadata": {},
   "outputs": [],
   "source": [
    "gdd.download_file_from_google_drive(file_id=\"1BpEbW6iSUlIp7zr3s_KDaeIRMUjgpSlV\", dest_path=\"./plays.csv\")\n",
    "plays_df = pd.read_csv(\"plays.csv\")\n",
    "\n",
    "gdd.download_file_from_google_drive(file_id=\"1vxEhaNO6FhK96nWXiJCgs4JbjNCE4Kf1\", dest_path=\"./artists.csv\")\n",
    "arts_df = pd.read_csv(\"artists.csv\")\n",
    "\n",
    "gdd.download_file_from_google_drive(file_id=\"1cebHz1STTTNJiHt9wLA1tdJjocSVR1B6\", dest_path=\"./users.csv\")\n",
    "users_df = pd.read_csv(\"users.csv\")"
   ]
  },
  {
   "cell_type": "markdown",
   "metadata": {},
   "source": [
    "## Implicit Data 해석하기\n",
    "- 재생 횟수를 별점으로 해석하면 안 됩니다.\n",
    "- 그 이유는 데뷔한 지 오래되거나 발표한 곡이 많을수록 해당 아티스트의 재생 횟수는 일반적으로 많을 수밖에 없기 때문입니다.\n",
    "- BPR에서는 재생 횟수를 그대로 사용하는 것이 아니라 재생 여부만을 봅니다.\n",
    "- 이때 재생한 적 있는 아티스트를 재생한 적 없는 아티스트보다 선호한다는 가정을 깔고 갑니다.\n",
    "- BPR은 긍정 아이템과 부정 아이템 간의 랭킹의 차이를 objective function으로 하여 그 값이 커지도록 embedding합니다."
   ]
  },
  {
   "cell_type": "code",
   "execution_count": 29,
   "metadata": {},
   "outputs": [],
   "source": [
    "# 사용자별 플레이한 적이 있는 아티스트의 집합\n",
    "in_plays = plays_df.groupby([\"user_id\"])[\"artist_id\"].apply(frozenset)"
   ]
  },
  {
   "cell_type": "code",
   "execution_count": 30,
   "metadata": {},
   "outputs": [
    {
     "data": {
      "text/plain": [
       "user_id\n",
       "337094    (2689, 3717, 7302, 264, 6024, 6026, 2699, 2828...\n",
       "222854    (4736, 1, 891, 1417, 2185, 1161, 1164, 397, 92...\n",
       "50524     (769, 1410, 774, 12, 63118, 787, 1811, 1814, 1...\n",
       "236596    (3587, 266, 779, 4372, 277, 280, 26270, 287, 2...\n",
       "246901    (1408, 2945, 2572, 12, 11794, 19, 276, 2205, 9...\n",
       "Name: artist_id, dtype: object"
      ]
     },
     "execution_count": 30,
     "metadata": {},
     "output_type": "execute_result"
    }
   ],
   "source": [
    "in_plays.sample(5)"
   ]
  },
  {
   "cell_type": "code",
   "execution_count": 31,
   "metadata": {},
   "outputs": [],
   "source": [
    "#가장 다양한 아티스트의 음악을 들은 사용자 상위 100명을 뽑습니다.\n",
    "top_users = plays_df[\"user_id\"].value_counts()[:100].index\n",
    "#가장 많은 사용자를 보유한 아티스트 상위 100명을 뽑습니다.\n",
    "top_arts = plays_df[\"artist_id\"].value_counts()[:100].index\n",
    "\n",
    "#그들만으로 이루어진 plays_df를 뽑습니다.\n",
    "top100 = plays_df[(plays_df[\"user_id\"].isin(top_users)) & (plays_df[\"artist_id\"].isin(top_arts))]"
   ]
  },
  {
   "cell_type": "code",
   "execution_count": 32,
   "metadata": {},
   "outputs": [
    {
     "data": {
      "text/html": [
       "<div>\n",
       "<style scoped>\n",
       "    .dataframe tbody tr th:only-of-type {\n",
       "        vertical-align: middle;\n",
       "    }\n",
       "\n",
       "    .dataframe tbody tr th {\n",
       "        vertical-align: top;\n",
       "    }\n",
       "\n",
       "    .dataframe thead th {\n",
       "        text-align: right;\n",
       "    }\n",
       "</style>\n",
       "<table border=\"1\" class=\"dataframe\">\n",
       "  <thead>\n",
       "    <tr style=\"text-align: right;\">\n",
       "      <th></th>\n",
       "      <th>user_id</th>\n",
       "      <th>artist_id</th>\n",
       "      <th>plays</th>\n",
       "    </tr>\n",
       "  </thead>\n",
       "  <tbody>\n",
       "    <tr>\n",
       "      <th>260488</th>\n",
       "      <td>5401</td>\n",
       "      <td>485</td>\n",
       "      <td>1677</td>\n",
       "    </tr>\n",
       "    <tr>\n",
       "      <th>260489</th>\n",
       "      <td>5401</td>\n",
       "      <td>216</td>\n",
       "      <td>1287</td>\n",
       "    </tr>\n",
       "    <tr>\n",
       "      <th>260493</th>\n",
       "      <td>5401</td>\n",
       "      <td>789</td>\n",
       "      <td>517</td>\n",
       "    </tr>\n",
       "    <tr>\n",
       "      <th>260496</th>\n",
       "      <td>5401</td>\n",
       "      <td>2724</td>\n",
       "      <td>356</td>\n",
       "    </tr>\n",
       "    <tr>\n",
       "      <th>260500</th>\n",
       "      <td>5401</td>\n",
       "      <td>245</td>\n",
       "      <td>265</td>\n",
       "    </tr>\n",
       "    <tr>\n",
       "      <th>...</th>\n",
       "      <td>...</td>\n",
       "      <td>...</td>\n",
       "      <td>...</td>\n",
       "    </tr>\n",
       "    <tr>\n",
       "      <th>16852093</th>\n",
       "      <td>349949</td>\n",
       "      <td>995</td>\n",
       "      <td>121</td>\n",
       "    </tr>\n",
       "    <tr>\n",
       "      <th>16852100</th>\n",
       "      <td>349949</td>\n",
       "      <td>707</td>\n",
       "      <td>79</td>\n",
       "    </tr>\n",
       "    <tr>\n",
       "      <th>16852112</th>\n",
       "      <td>349949</td>\n",
       "      <td>245</td>\n",
       "      <td>51</td>\n",
       "    </tr>\n",
       "    <tr>\n",
       "      <th>16852129</th>\n",
       "      <td>349949</td>\n",
       "      <td>992</td>\n",
       "      <td>39</td>\n",
       "    </tr>\n",
       "    <tr>\n",
       "      <th>16852144</th>\n",
       "      <td>349949</td>\n",
       "      <td>1205</td>\n",
       "      <td>32</td>\n",
       "    </tr>\n",
       "  </tbody>\n",
       "</table>\n",
       "<p>824 rows × 3 columns</p>\n",
       "</div>"
      ],
      "text/plain": [
       "          user_id  artist_id  plays\n",
       "260488       5401        485   1677\n",
       "260489       5401        216   1287\n",
       "260493       5401        789    517\n",
       "260496       5401       2724    356\n",
       "260500       5401        245    265\n",
       "...           ...        ...    ...\n",
       "16852093   349949        995    121\n",
       "16852100   349949        707     79\n",
       "16852112   349949        245     51\n",
       "16852129   349949        992     39\n",
       "16852144   349949       1205     32\n",
       "\n",
       "[824 rows x 3 columns]"
      ]
     },
     "execution_count": 32,
     "metadata": {},
     "output_type": "execute_result"
    }
   ],
   "source": [
    "top100"
   ]
  },
  {
   "cell_type": "markdown",
   "metadata": {},
   "source": [
    "## numpy로 BPR 구현하기"
   ]
  },
  {
   "cell_type": "code",
   "execution_count": 33,
   "metadata": {},
   "outputs": [
    {
     "data": {
      "application/vnd.jupyter.widget-view+json": {
       "model_id": "d99e67d01e784c70ba9df6ddecfa31c5",
       "version_major": 2,
       "version_minor": 0
      },
      "text/plain": [
       "HBox(children=(FloatProgress(value=0.0, max=12.0), HTML(value='')))"
      ]
     },
     "metadata": {},
     "output_type": "display_data"
    },
    {
     "name": "stdout",
     "output_type": "stream",
     "text": [
      "epoch :   1 | acc : 50.7%\n",
      "epoch :   2 | acc : 61.0%\n",
      "epoch :   3 | acc : 66.3%\n",
      "epoch :   4 | acc : 70.8%\n",
      "epoch :   5 | acc : 78.3%\n",
      "epoch :   6 | acc : 81.8%\n",
      "epoch :   7 | acc : 86.7%\n",
      "epoch :   8 | acc : 90.2%\n",
      "epoch :   9 | acc : 91.7%\n",
      "epoch :  10 | acc : 94.8%\n",
      "epoch :  11 | acc : 95.4%\n",
      "\n"
     ]
    }
   ],
   "source": [
    "#전체 아티스트의 집합\n",
    "all_arts = set(plays_df[\"artist_id\"])\n",
    "\n",
    "# 임베딩 변수의 갯수\n",
    "n_facts = 10\n",
    "\n",
    "#각 embedding vector를 초기화합니다.\n",
    "user_embs = np.random.normal(size=(len(users_df), n_facts+1))\n",
    "art_embs = np.random.normal(size=(len(arts_df), n_facts+1))\n",
    "\n",
    "#sigmoid function을 정의합니다.\n",
    "def sig(x):\n",
    "    return 1 / (1 + np.exp(-x))\n",
    "\n",
    "lr = 0.1\n",
    "# reg = 0.01 # 정규화\n",
    "n_epochs = 12 # 총 학습 수\n",
    "\n",
    "for epoch in tqdm(range(1, n_epochs+1)):\n",
    "    hist = []\n",
    "    for _, row in top100.iterrows():\n",
    "        #normalizing합니다.\n",
    "        user_emb = user_embs / np.linalg.norm(user_embs, axis=1)[:, np.newaxis]\n",
    "        art_emb = art_embs / np.linalg.norm(art_embs, axis=1)[:, np.newaxis]\n",
    "        \n",
    "        #top100에서 사용자를 뽑습니다.\n",
    "        user = row[\"user_id\"]\n",
    "        user_emb = user_embs[user]\n",
    "        \n",
    "        #사용자가 들은(좋아하는) 아티스트를 뽑습니다.\n",
    "        pos_art = row[\"artist_id\"]\n",
    "        pos_art_emb = art_embs[pos_art]\n",
    "        \n",
    "        #사용자가 들은 적 없는(좋아하지 않는) 아티스트를 뽑습니다.\n",
    "        notin_plays = all_arts - in_plays[user]\n",
    "        neg_art = random.choice(list(notin_plays))\n",
    "        neg_art_emb = art_embs[neg_art]\n",
    "        \n",
    "        #사용자와 좋아하는 아티스트의 유사도를 구합니다.\n",
    "        cos_sim_pos = np.dot(user_emb, pos_art_emb)\n",
    "        #사용자와 좋아하지 않는 아티스트의 유사도를 구합니다.\n",
    "        cos_sim_neg = np.dot(user_emb, neg_art_emb)\n",
    "        \n",
    "        #두 유사도의 차이를 구합니다.\n",
    "        diff = cos_sim_pos - cos_sim_neg\n",
    "        activ = sig(diff)\n",
    "        #loss function을 정의합니다.\n",
    "        loss = -np.log(activ)\n",
    "        \n",
    "        user_embs[user] -= -lr*(1 - activ)*(pos_art_emb - neg_art_emb)\n",
    "        art_embs[pos_art] -= -lr*(1 - activ)*user_emb\n",
    "        art_embs[neg_art] -= -lr*(1 - activ)*(-user_emb)\n",
    "                \n",
    "        corr = (diff>=0)\n",
    "        hist.append(corr)\n",
    "        \n",
    "    acc = sum(hist)/len(hist)\n",
    "    print(f\"epoch : {epoch:>3d} | acc : {acc:5.1%}\")\n",
    "    \n",
    "    if acc>=0.95:\n",
    "        break"
   ]
  },
  {
   "cell_type": "markdown",
   "metadata": {},
   "source": [
    "### K-Core Pruning\n",
    "- 모든 유저의 재생 횟수 데이터를 이용해서 추천 시스템을 만든다고 좋은 것은 아닙니다. 2명에서 3명의 아티스트만 고집해서 듣는 유저와, 2명에서 3명의 유저만이 듣는 아티스트의 재생 정보는 Matrix Factorization을 통해 올바르게 임베딩을 하기 어렵습니다. 이렇게 적은 정보를 가진 유저와 아티스트들은 특정 값으로 편향될 우려가 있기 때문에, 모델의 학습이 일반화되지 못할 우려가 있습니다. 따라서 적절한 기준을 가지고 편향을 발생시킬 우려가 있는 샘플은 제거해야 합니다.\n",
    "- 이때 사용할 수 있는 샘플링 방법 중 하나가 K-core Pruning 기법입니다. K-core Pruning은 K개 이상의 데이터가 보장된 샘플들만 추출하는 샘플링 기법입니다.\n",
    "- Last.fm 데이터에 적용한다면, K명 이상의 유저가 들은 아티스트만 남기고, K명 이상의 아티스트의 음악을 들은 유저만 남기는 것이죠.\n"
   ]
  },
  {
   "cell_type": "code",
   "execution_count": 34,
   "metadata": {},
   "outputs": [
    {
     "name": "stdout",
     "output_type": "stream",
     "text": [
      "len(likes_df) : 15,494,436\n",
      "len(likes_df) : 15,306,742\n",
      "len(likes_df) : 15,305,394\n",
      "len(likes_df) : 15,305,294\n",
      "finished!\n"
     ]
    }
   ],
   "source": [
    "#어떤 사용자가 어떤 아티스트의 음악을 재생한 횟수가 특정 값 이상인 경우에만 그 아티스트의 음악을 좋아한다고 가정합니다.\n",
    "#여기서는 그 특정 값을 사용자 및 아티스트별 재생 횟수의 전체 하위 10퍼센트로 합니다. \n",
    "likes_df = plays_df[plays_df[\"plays\"]>plays_df[\"plays\"].quantile(0.1)]\n",
    "\n",
    "thrsd = 5\n",
    "cnt = 0\n",
    "while True:\n",
    "    cnt += 1\n",
    "    len_before = len(likes_df)\n",
    "    print(f\"len(likes_df) : {len(likes_df):,}\")\n",
    "    #thrsd 이상의 아티스트의 음악을 들은 사용자들의 리스트\n",
    "    n_arts_per_user = likes_df[\"user_id\"].value_counts()\n",
    "    exec(f\"users_over{thrsd}arts = n_arts_per_user[n_arts_per_user>thrsd].index\")\n",
    "\n",
    "    #thrsd 이상의 사용자를 확보한 아티스트들의 리스트\n",
    "    n_users_per_art = likes_df[\"artist_id\"].value_counts()\n",
    "    exec(f\"arts_over{thrsd}users = n_users_per_art[n_users_per_art>thrsd].index\")\n",
    "\n",
    "    likes_df = likes_df[(likes_df[\"user_id\"].isin(eval(f\"users_over{thrsd}arts\")) & likes_df[\"artist_id\"].isin(eval(f\"arts_over{thrsd}users\")))]\n",
    "    len_after = len(likes_df)\n",
    "    #더 이상 갯수의 변화가 없으면 종료합니다.\n",
    "    if len_after == len_before:\n",
    "        break\n",
    "print(\"finished!\")"
   ]
  },
  {
   "cell_type": "code",
   "execution_count": 35,
   "metadata": {},
   "outputs": [
    {
     "name": "stdout",
     "output_type": "stream",
     "text": [
      "사용자 수의 변화 : 358,856 -> 342,852(95.5%)\n",
      "아티스트 수의 변화 : 160,110 -> 73,556(45.9%)\n"
     ]
    }
   ],
   "source": [
    "all_users = list(set(plays_df[\"user_id\"]))\n",
    "users_likes_df = list(set(likes_df[\"user_id\"]))\n",
    "\n",
    "print(f\"사용자 수의 변화 : {len(all_users):,} -> {len(users_likes_df):,}({len(users_likes_df)/len(all_users):.1%})\")\n",
    "\n",
    "all_arts = list(set(plays_df[\"artist_id\"]))\n",
    "arts_likes_df = list(set(likes_df[\"artist_id\"]))\n",
    "\n",
    "print(f\"아티스트 수의 변화 : {len(all_arts):,} -> {len(arts_likes_df):,}({len(arts_likes_df)/len(all_arts):.1%})\")"
   ]
  },
  {
   "cell_type": "markdown",
   "metadata": {},
   "source": [
    "- likes_df에 포함되지 않은 사용자와 아티스트는 추천 시스템을 만들기 위한 Matrix Factorization 대상에서 제외됩니다.\n",
    "- 이처럼 초기 정보가 부족해서 추천 시스템을 제공하지 못하는 사용자와 아티스트가 발생하는 문제를 Cold Start라 합니다.\n",
    "- 이러한 사용자 또는 아티스트에게는 다른 추천 시스템을 제공해야 합니다."
   ]
  },
  {
   "cell_type": "markdown",
   "metadata": {},
   "source": [
    "### Convert User-Item Matrix of Dense Matrix to Sparse Matrix\n",
    "- sparse representation으로 표현된 dense matrix를 그대로 ndarray로 변환하면 메모리의 낭비가 극심하므로 sparse matrix로 변환하는 것이 필요합니다.\n",
    "- scipy.sparse의 csr_matrix는 데이터와 인덱스를 따로 저장함으로써 그것을 실현하는 방법입니다."
   ]
  },
  {
   "cell_type": "code",
   "execution_count": 36,
   "metadata": {},
   "outputs": [],
   "source": [
    "#example\n",
    "vals = [2, 4, 3, 4, 1, 1, 2]\n",
    "rows = [0, 1, 2, 2, 3, 4, 4]\n",
    "cols = [0, 2, 5, 6, 14, 0, 1]\n",
    "\n",
    "sparse_mat = csr_matrix((vals,  (rows,  cols)))"
   ]
  },
  {
   "cell_type": "code",
   "execution_count": 37,
   "metadata": {},
   "outputs": [
    {
     "data": {
      "text/plain": [
       "matrix([[2, 0, 0, 0, 0, 0, 0, 0, 0, 0, 0, 0, 0, 0, 0],\n",
       "        [0, 0, 4, 0, 0, 0, 0, 0, 0, 0, 0, 0, 0, 0, 0],\n",
       "        [0, 0, 0, 0, 0, 3, 4, 0, 0, 0, 0, 0, 0, 0, 0],\n",
       "        [0, 0, 0, 0, 0, 0, 0, 0, 0, 0, 0, 0, 0, 0, 1],\n",
       "        [1, 2, 0, 0, 0, 0, 0, 0, 0, 0, 0, 0, 0, 0, 0]], dtype=int32)"
      ]
     },
     "execution_count": 37,
     "metadata": {},
     "output_type": "execute_result"
    }
   ],
   "source": [
    "sparse_mat.todense()"
   ]
  },
  {
   "cell_type": "code",
   "execution_count": 38,
   "metadata": {},
   "outputs": [
    {
     "data": {
      "text/html": [
       "<div>\n",
       "<style scoped>\n",
       "    .dataframe tbody tr th:only-of-type {\n",
       "        vertical-align: middle;\n",
       "    }\n",
       "\n",
       "    .dataframe tbody tr th {\n",
       "        vertical-align: top;\n",
       "    }\n",
       "\n",
       "    .dataframe thead th {\n",
       "        text-align: right;\n",
       "    }\n",
       "</style>\n",
       "<table border=\"1\" class=\"dataframe\">\n",
       "  <thead>\n",
       "    <tr style=\"text-align: right;\">\n",
       "      <th></th>\n",
       "      <th>user_id</th>\n",
       "      <th>artist_id</th>\n",
       "      <th>plays</th>\n",
       "    </tr>\n",
       "  </thead>\n",
       "  <tbody>\n",
       "    <tr>\n",
       "      <th>8592139</th>\n",
       "      <td>178285</td>\n",
       "      <td>12058</td>\n",
       "      <td>18</td>\n",
       "    </tr>\n",
       "    <tr>\n",
       "      <th>804310</th>\n",
       "      <td>16688</td>\n",
       "      <td>95</td>\n",
       "      <td>41</td>\n",
       "    </tr>\n",
       "    <tr>\n",
       "      <th>5713590</th>\n",
       "      <td>118628</td>\n",
       "      <td>6206</td>\n",
       "      <td>104</td>\n",
       "    </tr>\n",
       "    <tr>\n",
       "      <th>5718270</th>\n",
       "      <td>118723</td>\n",
       "      <td>3285</td>\n",
       "      <td>22</td>\n",
       "    </tr>\n",
       "    <tr>\n",
       "      <th>925714</th>\n",
       "      <td>19204</td>\n",
       "      <td>543</td>\n",
       "      <td>95</td>\n",
       "    </tr>\n",
       "  </tbody>\n",
       "</table>\n",
       "</div>"
      ],
      "text/plain": [
       "         user_id  artist_id  plays\n",
       "8592139   178285      12058     18\n",
       "804310     16688         95     41\n",
       "5713590   118628       6206    104\n",
       "5718270   118723       3285     22\n",
       "925714     19204        543     95"
      ]
     },
     "execution_count": 38,
     "metadata": {},
     "output_type": "execute_result"
    }
   ],
   "source": [
    "likes_df.sample(5)"
   ]
  },
  {
   "cell_type": "code",
   "execution_count": 39,
   "metadata": {},
   "outputs": [],
   "source": [
    "#user_id와 artist_id의 dtype을 category로 변환합니다.\n",
    "likes_df[\"user_id\"] = pd.Categorical(likes_df[\"user_id\"])\n",
    "likes_df[\"artist_id\"] = pd.Categorical(likes_df[\"artist_id\"])\n",
    "\n",
    "#변환된 각 값의 0부터 새롭게 부여된 index를 rows, cols로 정의합니다.\n",
    "vals = likes_df[\"plays\"]\n",
    "rows = likes_df[\"artist_id\"].cat.codes.values\n",
    "cols = likes_df[\"user_id\"].cat.codes.values\n",
    "\n",
    "inputs = csr_matrix((vals, (rows, cols)))"
   ]
  },
  {
   "cell_type": "code",
   "execution_count": 40,
   "metadata": {},
   "outputs": [
    {
     "name": "stdout",
     "output_type": "stream",
     "text": [
      "inputs.todense() : 187.89GB\n",
      "inputs : 0.11GB\n"
     ]
    }
   ],
   "source": [
    "print(f\"inputs.todense() : {inputs.shape[0]*inputs.shape[1]*8/2**30:,.2f}GB\")\n",
    "print(f\"inputs : {inputs.data.nbytes/2**30:,.2f}GB\")"
   ]
  },
  {
   "cell_type": "markdown",
   "metadata": {},
   "source": [
    "## implicit libarary로 BPR 구현하기\n",
    "\n",
    "- implicit은 파이썬으로 implicit data를 이용한 협업 필터링 추천 시스템을 만들 때 사용하는 패키지로, 앞서 의사코드로 작성한 코드보다 최적화가 되어있기 때문에 빠릅니다."
   ]
  },
  {
   "cell_type": "code",
   "execution_count": null,
   "metadata": {},
   "outputs": [],
   "source": [
    "%%time\n",
    "file = \"ui_movielens.csv\"\n",
    "gdd.download_file_from_google_drive(file_id=\"1jawc0X5l5HERfIirnEnhBatQ9lL3sefB\", dest_path=f\"./{file}\")\n",
    "if os.path.exists(file):\n",
    "    print(\"loading...\")\n",
    "    ui = pd.read_csv(file, index_col=0)\n",
    "else:\n",
    "    ui = pd.pivot_table(ratings_df_tr, index=\"user_id\", columns=\"movie_id\", values=\"rating\")\n",
    "    \n",
    "    print(\"saving...\")\n",
    "    ui.to_csv(file)\n",
    "print(\"completed!\")"
   ]
  },
  {
   "cell_type": "code",
   "execution_count": 77,
   "metadata": {},
   "outputs": [
    {
     "name": "stdout",
     "output_type": "stream",
     "text": [
      "loading...\n",
      "completed!\n",
      "Wall time: 237 ms\n"
     ]
    }
   ],
   "source": [
    "%%time\n",
    "#implicit_bpr_moedl.pkl이 있으면 불러오고 없으면 저장합니다.\n",
    "file = \"bpr_model_implicit.pkl\"\n",
    "gdd.download_file_from_google_drive(file_id=\"1wymLSbx0jFecHUmI_EDLNNF0sP_T_y-3\", dest_path=f\"./{file}\")\n",
    "if os.path.exists(file):\n",
    "    with open(file, \"rb\") as f:\n",
    "        print(\"loading...\")\n",
    "        model = pk.load(f)\n",
    "else:\n",
    "    with open(file, \"wb\") as f:\n",
    "        model = BPR(factors=60)\n",
    "        \n",
    "        model.fit(inputs)\n",
    "        \n",
    "        print(\"saving...\")\n",
    "        pk.dump(model, f)\n",
    "print(\"completed!\")"
   ]
  },
  {
   "cell_type": "code",
   "execution_count": 44,
   "metadata": {},
   "outputs": [],
   "source": [
    "user_embs = model.user_factors\n",
    "art_embs = model.item_factors"
   ]
  },
  {
   "cell_type": "code",
   "execution_count": 45,
   "metadata": {},
   "outputs": [
    {
     "data": {
      "text/plain": [
       "(73556, 61)"
      ]
     },
     "execution_count": 45,
     "metadata": {},
     "output_type": "execute_result"
    }
   ],
   "source": [
    "#embedding vector에는 마지막에 bias가 하나씩 붙어서 크기가 factors+1이 됩니다.\n",
    "art_embs.shape"
   ]
  },
  {
   "cell_type": "code",
   "execution_count": 46,
   "metadata": {},
   "outputs": [
    {
     "data": {
      "text/plain": [
       "array([[ 0.458,  0.454,  0.556, ...,  0.117,  0.451, -0.136],\n",
       "       [-0.379, -0.009,  0.286, ..., -0.302,  0.124,  0.009],\n",
       "       [-0.38 , -0.294,  0.234, ...,  0.213,  0.354, -0.11 ],\n",
       "       ...,\n",
       "       [ 0.136, -0.274, -0.368, ...,  0.053, -0.083,  0.265],\n",
       "       [ 0.153, -0.065, -0.298, ...,  0.192, -0.304,  0.423],\n",
       "       [ 0.197, -0.224, -0.12 , ...,  0.164,  0.095,  0.393]],\n",
       "      dtype=float32)"
      ]
     },
     "execution_count": 46,
     "metadata": {},
     "output_type": "execute_result"
    }
   ],
   "source": [
    "art_embs"
   ]
  },
  {
   "cell_type": "markdown",
   "metadata": {},
   "source": [
    "좀 더 가독성을 높이기 위해서 각 임베딩 행 별로 아티스트의 이름과 유저의 id를 매칭시켜 데이터프레임(dataframe)을 구성하도록 하겠습니다."
   ]
  },
  {
   "cell_type": "code",
   "execution_count": 47,
   "metadata": {},
   "outputs": [],
   "source": [
    "art_id2name = {key:value for key, value in zip(arts_df[\"artist_id\"], arts_df[\"artist_name\"])}\n",
    "idxes = [art_id2name[art_id] for art_id in likes_df[\"artist_id\"].cat.categories]\n",
    "\n",
    "art_embs_df = pd.DataFrame(art_embs, index=idxes)"
   ]
  },
  {
   "cell_type": "code",
   "execution_count": 48,
   "metadata": {},
   "outputs": [
    {
     "data": {
      "text/html": [
       "<div>\n",
       "<style scoped>\n",
       "    .dataframe tbody tr th:only-of-type {\n",
       "        vertical-align: middle;\n",
       "    }\n",
       "\n",
       "    .dataframe tbody tr th {\n",
       "        vertical-align: top;\n",
       "    }\n",
       "\n",
       "    .dataframe thead th {\n",
       "        text-align: right;\n",
       "    }\n",
       "</style>\n",
       "<table border=\"1\" class=\"dataframe\">\n",
       "  <thead>\n",
       "    <tr style=\"text-align: right;\">\n",
       "      <th></th>\n",
       "      <th>0</th>\n",
       "      <th>1</th>\n",
       "      <th>2</th>\n",
       "      <th>3</th>\n",
       "      <th>4</th>\n",
       "      <th>5</th>\n",
       "      <th>6</th>\n",
       "      <th>7</th>\n",
       "      <th>8</th>\n",
       "      <th>9</th>\n",
       "      <th>...</th>\n",
       "      <th>51</th>\n",
       "      <th>52</th>\n",
       "      <th>53</th>\n",
       "      <th>54</th>\n",
       "      <th>55</th>\n",
       "      <th>56</th>\n",
       "      <th>57</th>\n",
       "      <th>58</th>\n",
       "      <th>59</th>\n",
       "      <th>60</th>\n",
       "    </tr>\n",
       "  </thead>\n",
       "  <tbody>\n",
       "    <tr>\n",
       "      <th>carol sloane</th>\n",
       "      <td>0.028421</td>\n",
       "      <td>-0.739592</td>\n",
       "      <td>-0.313319</td>\n",
       "      <td>0.074363</td>\n",
       "      <td>0.107439</td>\n",
       "      <td>-0.156389</td>\n",
       "      <td>0.186699</td>\n",
       "      <td>-0.538513</td>\n",
       "      <td>-0.294334</td>\n",
       "      <td>0.274115</td>\n",
       "      <td>...</td>\n",
       "      <td>0.099499</td>\n",
       "      <td>-0.073892</td>\n",
       "      <td>-0.184324</td>\n",
       "      <td>-0.008638</td>\n",
       "      <td>-0.140112</td>\n",
       "      <td>-0.252297</td>\n",
       "      <td>0.022617</td>\n",
       "      <td>0.050445</td>\n",
       "      <td>0.257745</td>\n",
       "      <td>-0.193563</td>\n",
       "    </tr>\n",
       "    <tr>\n",
       "      <th>izmar</th>\n",
       "      <td>0.418922</td>\n",
       "      <td>-0.077899</td>\n",
       "      <td>-0.246999</td>\n",
       "      <td>-0.366519</td>\n",
       "      <td>0.074150</td>\n",
       "      <td>0.152109</td>\n",
       "      <td>0.189303</td>\n",
       "      <td>-0.355486</td>\n",
       "      <td>0.041466</td>\n",
       "      <td>-0.116358</td>\n",
       "      <td>...</td>\n",
       "      <td>0.374079</td>\n",
       "      <td>-0.361129</td>\n",
       "      <td>-0.175663</td>\n",
       "      <td>-0.205813</td>\n",
       "      <td>0.173871</td>\n",
       "      <td>-0.014774</td>\n",
       "      <td>0.446797</td>\n",
       "      <td>0.326213</td>\n",
       "      <td>-0.466109</td>\n",
       "      <td>0.529761</td>\n",
       "    </tr>\n",
       "    <tr>\n",
       "      <th>drag-on</th>\n",
       "      <td>-0.291528</td>\n",
       "      <td>0.330359</td>\n",
       "      <td>-0.061868</td>\n",
       "      <td>0.123632</td>\n",
       "      <td>0.407107</td>\n",
       "      <td>-0.317886</td>\n",
       "      <td>-0.334770</td>\n",
       "      <td>-0.150065</td>\n",
       "      <td>0.060455</td>\n",
       "      <td>0.240016</td>\n",
       "      <td>...</td>\n",
       "      <td>0.077041</td>\n",
       "      <td>-0.471727</td>\n",
       "      <td>0.081037</td>\n",
       "      <td>-0.324883</td>\n",
       "      <td>0.406486</td>\n",
       "      <td>-0.346712</td>\n",
       "      <td>0.223296</td>\n",
       "      <td>-0.269470</td>\n",
       "      <td>-0.012094</td>\n",
       "      <td>-0.165631</td>\n",
       "    </tr>\n",
       "    <tr>\n",
       "      <th>intriga</th>\n",
       "      <td>0.369279</td>\n",
       "      <td>0.193877</td>\n",
       "      <td>-0.268825</td>\n",
       "      <td>-0.239252</td>\n",
       "      <td>0.138749</td>\n",
       "      <td>0.146106</td>\n",
       "      <td>-0.124579</td>\n",
       "      <td>-0.134247</td>\n",
       "      <td>0.091411</td>\n",
       "      <td>0.067585</td>\n",
       "      <td>...</td>\n",
       "      <td>0.299795</td>\n",
       "      <td>-0.201022</td>\n",
       "      <td>-0.214788</td>\n",
       "      <td>-0.028515</td>\n",
       "      <td>0.248938</td>\n",
       "      <td>-0.168437</td>\n",
       "      <td>0.296241</td>\n",
       "      <td>0.297054</td>\n",
       "      <td>-0.303681</td>\n",
       "      <td>0.348673</td>\n",
       "    </tr>\n",
       "    <tr>\n",
       "      <th>ovni</th>\n",
       "      <td>-0.008066</td>\n",
       "      <td>0.046077</td>\n",
       "      <td>0.158082</td>\n",
       "      <td>-0.106635</td>\n",
       "      <td>-0.318185</td>\n",
       "      <td>-0.000150</td>\n",
       "      <td>0.034914</td>\n",
       "      <td>0.267737</td>\n",
       "      <td>0.112261</td>\n",
       "      <td>-0.030134</td>\n",
       "      <td>...</td>\n",
       "      <td>-0.187910</td>\n",
       "      <td>0.408277</td>\n",
       "      <td>0.047417</td>\n",
       "      <td>0.126585</td>\n",
       "      <td>-0.279528</td>\n",
       "      <td>0.111456</td>\n",
       "      <td>-0.304487</td>\n",
       "      <td>-0.171496</td>\n",
       "      <td>0.155945</td>\n",
       "      <td>0.530163</td>\n",
       "    </tr>\n",
       "  </tbody>\n",
       "</table>\n",
       "<p>5 rows × 61 columns</p>\n",
       "</div>"
      ],
      "text/plain": [
       "                    0         1         2         3         4         5   \\\n",
       "carol sloane  0.028421 -0.739592 -0.313319  0.074363  0.107439 -0.156389   \n",
       "izmar         0.418922 -0.077899 -0.246999 -0.366519  0.074150  0.152109   \n",
       "drag-on      -0.291528  0.330359 -0.061868  0.123632  0.407107 -0.317886   \n",
       "intriga       0.369279  0.193877 -0.268825 -0.239252  0.138749  0.146106   \n",
       "ovni         -0.008066  0.046077  0.158082 -0.106635 -0.318185 -0.000150   \n",
       "\n",
       "                    6         7         8         9   ...        51        52  \\\n",
       "carol sloane  0.186699 -0.538513 -0.294334  0.274115  ...  0.099499 -0.073892   \n",
       "izmar         0.189303 -0.355486  0.041466 -0.116358  ...  0.374079 -0.361129   \n",
       "drag-on      -0.334770 -0.150065  0.060455  0.240016  ...  0.077041 -0.471727   \n",
       "intriga      -0.124579 -0.134247  0.091411  0.067585  ...  0.299795 -0.201022   \n",
       "ovni          0.034914  0.267737  0.112261 -0.030134  ... -0.187910  0.408277   \n",
       "\n",
       "                    53        54        55        56        57        58  \\\n",
       "carol sloane -0.184324 -0.008638 -0.140112 -0.252297  0.022617  0.050445   \n",
       "izmar        -0.175663 -0.205813  0.173871 -0.014774  0.446797  0.326213   \n",
       "drag-on       0.081037 -0.324883  0.406486 -0.346712  0.223296 -0.269470   \n",
       "intriga      -0.214788 -0.028515  0.248938 -0.168437  0.296241  0.297054   \n",
       "ovni          0.047417  0.126585 -0.279528  0.111456 -0.304487 -0.171496   \n",
       "\n",
       "                    59        60  \n",
       "carol sloane  0.257745 -0.193563  \n",
       "izmar        -0.466109  0.529761  \n",
       "drag-on      -0.012094 -0.165631  \n",
       "intriga      -0.303681  0.348673  \n",
       "ovni          0.155945  0.530163  \n",
       "\n",
       "[5 rows x 61 columns]"
      ]
     },
     "execution_count": 48,
     "metadata": {},
     "output_type": "execute_result"
    }
   ],
   "source": [
    "art_embs_df.sample(5)"
   ]
  },
  {
   "cell_type": "code",
   "execution_count": 49,
   "metadata": {},
   "outputs": [],
   "source": [
    "user_embs_df = pd.DataFrame(user_embs, index=likes_df[\"user_id\"].cat.categories)"
   ]
  },
  {
   "cell_type": "code",
   "execution_count": 50,
   "metadata": {},
   "outputs": [
    {
     "data": {
      "text/html": [
       "<div>\n",
       "<style scoped>\n",
       "    .dataframe tbody tr th:only-of-type {\n",
       "        vertical-align: middle;\n",
       "    }\n",
       "\n",
       "    .dataframe tbody tr th {\n",
       "        vertical-align: top;\n",
       "    }\n",
       "\n",
       "    .dataframe thead th {\n",
       "        text-align: right;\n",
       "    }\n",
       "</style>\n",
       "<table border=\"1\" class=\"dataframe\">\n",
       "  <thead>\n",
       "    <tr style=\"text-align: right;\">\n",
       "      <th></th>\n",
       "      <th>0</th>\n",
       "      <th>1</th>\n",
       "      <th>2</th>\n",
       "      <th>3</th>\n",
       "      <th>4</th>\n",
       "      <th>5</th>\n",
       "      <th>6</th>\n",
       "      <th>7</th>\n",
       "      <th>8</th>\n",
       "      <th>9</th>\n",
       "      <th>...</th>\n",
       "      <th>51</th>\n",
       "      <th>52</th>\n",
       "      <th>53</th>\n",
       "      <th>54</th>\n",
       "      <th>55</th>\n",
       "      <th>56</th>\n",
       "      <th>57</th>\n",
       "      <th>58</th>\n",
       "      <th>59</th>\n",
       "      <th>60</th>\n",
       "    </tr>\n",
       "  </thead>\n",
       "  <tbody>\n",
       "    <tr>\n",
       "      <th>224502</th>\n",
       "      <td>-0.572196</td>\n",
       "      <td>0.641277</td>\n",
       "      <td>-0.037651</td>\n",
       "      <td>-0.233615</td>\n",
       "      <td>-0.073298</td>\n",
       "      <td>0.266619</td>\n",
       "      <td>0.202571</td>\n",
       "      <td>0.530493</td>\n",
       "      <td>0.398264</td>\n",
       "      <td>-0.039945</td>\n",
       "      <td>...</td>\n",
       "      <td>0.144818</td>\n",
       "      <td>-0.001439</td>\n",
       "      <td>0.297855</td>\n",
       "      <td>-0.042299</td>\n",
       "      <td>-0.034159</td>\n",
       "      <td>0.114897</td>\n",
       "      <td>-0.177520</td>\n",
       "      <td>0.077002</td>\n",
       "      <td>-0.669795</td>\n",
       "      <td>1.0</td>\n",
       "    </tr>\n",
       "    <tr>\n",
       "      <th>302137</th>\n",
       "      <td>0.347691</td>\n",
       "      <td>0.504062</td>\n",
       "      <td>-0.205997</td>\n",
       "      <td>0.164607</td>\n",
       "      <td>0.505146</td>\n",
       "      <td>0.291403</td>\n",
       "      <td>-0.751670</td>\n",
       "      <td>0.332654</td>\n",
       "      <td>0.147774</td>\n",
       "      <td>-0.165822</td>\n",
       "      <td>...</td>\n",
       "      <td>-0.051756</td>\n",
       "      <td>-0.334379</td>\n",
       "      <td>-0.461136</td>\n",
       "      <td>0.267964</td>\n",
       "      <td>0.129568</td>\n",
       "      <td>0.065359</td>\n",
       "      <td>0.279083</td>\n",
       "      <td>0.166354</td>\n",
       "      <td>-0.103875</td>\n",
       "      <td>1.0</td>\n",
       "    </tr>\n",
       "    <tr>\n",
       "      <th>193666</th>\n",
       "      <td>-0.474739</td>\n",
       "      <td>0.595600</td>\n",
       "      <td>0.491304</td>\n",
       "      <td>-0.008409</td>\n",
       "      <td>-0.145030</td>\n",
       "      <td>-0.040816</td>\n",
       "      <td>0.132553</td>\n",
       "      <td>0.737545</td>\n",
       "      <td>0.323493</td>\n",
       "      <td>0.013775</td>\n",
       "      <td>...</td>\n",
       "      <td>-0.397192</td>\n",
       "      <td>0.414052</td>\n",
       "      <td>0.396097</td>\n",
       "      <td>0.096752</td>\n",
       "      <td>-0.218907</td>\n",
       "      <td>-0.035826</td>\n",
       "      <td>-0.567678</td>\n",
       "      <td>-0.307432</td>\n",
       "      <td>0.240120</td>\n",
       "      <td>1.0</td>\n",
       "    </tr>\n",
       "    <tr>\n",
       "      <th>16300</th>\n",
       "      <td>-0.045635</td>\n",
       "      <td>0.001479</td>\n",
       "      <td>-0.100553</td>\n",
       "      <td>-0.279217</td>\n",
       "      <td>-0.178432</td>\n",
       "      <td>0.108111</td>\n",
       "      <td>0.102669</td>\n",
       "      <td>-0.139757</td>\n",
       "      <td>-0.027519</td>\n",
       "      <td>0.576457</td>\n",
       "      <td>...</td>\n",
       "      <td>0.285607</td>\n",
       "      <td>-0.010899</td>\n",
       "      <td>0.276352</td>\n",
       "      <td>-0.378512</td>\n",
       "      <td>0.263111</td>\n",
       "      <td>-0.067427</td>\n",
       "      <td>-0.184754</td>\n",
       "      <td>-0.118272</td>\n",
       "      <td>-0.878103</td>\n",
       "      <td>1.0</td>\n",
       "    </tr>\n",
       "    <tr>\n",
       "      <th>129042</th>\n",
       "      <td>-0.659760</td>\n",
       "      <td>0.943773</td>\n",
       "      <td>0.665714</td>\n",
       "      <td>0.283703</td>\n",
       "      <td>0.134746</td>\n",
       "      <td>-0.295208</td>\n",
       "      <td>-0.294430</td>\n",
       "      <td>0.603321</td>\n",
       "      <td>0.181541</td>\n",
       "      <td>-0.604789</td>\n",
       "      <td>...</td>\n",
       "      <td>-0.476517</td>\n",
       "      <td>0.174249</td>\n",
       "      <td>0.244431</td>\n",
       "      <td>0.151517</td>\n",
       "      <td>0.042026</td>\n",
       "      <td>0.281196</td>\n",
       "      <td>0.203414</td>\n",
       "      <td>-0.297034</td>\n",
       "      <td>0.344186</td>\n",
       "      <td>1.0</td>\n",
       "    </tr>\n",
       "  </tbody>\n",
       "</table>\n",
       "<p>5 rows × 61 columns</p>\n",
       "</div>"
      ],
      "text/plain": [
       "              0         1         2         3         4         5         6   \\\n",
       "224502 -0.572196  0.641277 -0.037651 -0.233615 -0.073298  0.266619  0.202571   \n",
       "302137  0.347691  0.504062 -0.205997  0.164607  0.505146  0.291403 -0.751670   \n",
       "193666 -0.474739  0.595600  0.491304 -0.008409 -0.145030 -0.040816  0.132553   \n",
       "16300  -0.045635  0.001479 -0.100553 -0.279217 -0.178432  0.108111  0.102669   \n",
       "129042 -0.659760  0.943773  0.665714  0.283703  0.134746 -0.295208 -0.294430   \n",
       "\n",
       "              7         8         9   ...        51        52        53  \\\n",
       "224502  0.530493  0.398264 -0.039945  ...  0.144818 -0.001439  0.297855   \n",
       "302137  0.332654  0.147774 -0.165822  ... -0.051756 -0.334379 -0.461136   \n",
       "193666  0.737545  0.323493  0.013775  ... -0.397192  0.414052  0.396097   \n",
       "16300  -0.139757 -0.027519  0.576457  ...  0.285607 -0.010899  0.276352   \n",
       "129042  0.603321  0.181541 -0.604789  ... -0.476517  0.174249  0.244431   \n",
       "\n",
       "              54        55        56        57        58        59   60  \n",
       "224502 -0.042299 -0.034159  0.114897 -0.177520  0.077002 -0.669795  1.0  \n",
       "302137  0.267964  0.129568  0.065359  0.279083  0.166354 -0.103875  1.0  \n",
       "193666  0.096752 -0.218907 -0.035826 -0.567678 -0.307432  0.240120  1.0  \n",
       "16300  -0.378512  0.263111 -0.067427 -0.184754 -0.118272 -0.878103  1.0  \n",
       "129042  0.151517  0.042026  0.281196  0.203414 -0.297034  0.344186  1.0  \n",
       "\n",
       "[5 rows x 61 columns]"
      ]
     },
     "execution_count": 50,
     "metadata": {},
     "output_type": "execute_result"
    }
   ],
   "source": [
    "user_embs_df.sample(5)"
   ]
  },
  {
   "cell_type": "markdown",
   "metadata": {},
   "source": [
    "- user_embs_df와 art_embs_df를 이용해 3가지 추천 알고리즘을 구현할 수 있습니다.\n",
    "    1. 좋아하는 아티스트와 유사한 아티스트 추천\n",
    "    2. 사용자와 유사한 취향을 가진 사용자가 좋아하는 아티스트 추천\n",
    "    3. 사용자의 취향과 유사한 특성을 가진 아티스트 추천"
   ]
  },
  {
   "cell_type": "markdown",
   "metadata": {},
   "source": [
    "### 1. 좋아하는 아티스트와 유사한 아티스트 추천"
   ]
  },
  {
   "cell_type": "code",
   "execution_count": 51,
   "metadata": {},
   "outputs": [],
   "source": [
    "def cos_sim(x, y):\n",
    "    return x.dot(y)/(np.linalg.norm(x, axis=1, ord=2)*np.linalg.norm(y, ord=2))"
   ]
  },
  {
   "cell_type": "code",
   "execution_count": 52,
   "metadata": {},
   "outputs": [
    {
     "data": {
      "text/plain": [
       "rihanna                      1.000000\n",
       "the pussycat dolls           0.960632\n",
       "fergie                       0.943732\n",
       "beyoncé                      0.938125\n",
       "rhianna                      0.934032\n",
       "britney spears               0.922627\n",
       "beyoncé & shakira            0.919977\n",
       "lady gaga                    0.913702\n",
       "leona lewis                  0.911542\n",
       "katie price & peter andre    0.904652\n",
       "dtype: float32"
      ]
     },
     "execution_count": 52,
     "metadata": {},
     "output_type": "execute_result"
    }
   ],
   "source": [
    "#리한나와 유사한 아티스트 10명\n",
    "target = art_embs_df.loc[\"rihanna\"].values\n",
    "\n",
    "cos_sim(art_embs_df, target).sort_values(ascending=False)[:10]"
   ]
  },
  {
   "cell_type": "code",
   "execution_count": 53,
   "metadata": {},
   "outputs": [
    {
     "data": {
      "text/plain": [
       "jason mraz                      1.000000\n",
       "gavin degraw                    0.912217\n",
       "joshua radin & schuyler fisk    0.890771\n",
       "teddy geiger                    0.877234\n",
       "colbie caillat                  0.873155\n",
       "matt white                      0.869445\n",
       "matt white band                 0.868430\n",
       "matt white                      0.865188\n",
       "eric hutchinson                 0.858439\n",
       "matt wertz                      0.857853\n",
       "dtype: float32"
      ]
     },
     "execution_count": 53,
     "metadata": {},
     "output_type": "execute_result"
    }
   ],
   "source": [
    "#제이슨 므라즈와 유사한 아티스트 10명\n",
    "target = art_embs_df.loc[\"jason mraz\"].values\n",
    "\n",
    "cos_sim(art_embs_df, target).sort_values(ascending=False)[:10]"
   ]
  },
  {
   "cell_type": "code",
   "execution_count": 54,
   "metadata": {},
   "outputs": [
    {
     "data": {
      "text/plain": [
       "eminem                          1.000000\n",
       "d12                             0.924270\n",
       "50 cent                         0.850300\n",
       "dmx                             0.849832\n",
       "obie trice                      0.832192\n",
       "2pac                            0.819999\n",
       "lil jon & the east side boyz    0.812485\n",
       "jay-z and linkin park           0.807215\n",
       "ying yang twins                 0.805178\n",
       "xzibit                          0.796344\n",
       "dtype: float32"
      ]
     },
     "execution_count": 54,
     "metadata": {},
     "output_type": "execute_result"
    }
   ],
   "source": [
    "#에미넴과 유사한 아티스트 10명\n",
    "target = art_embs_df.loc[\"eminem\"].values\n",
    "\n",
    "cos_sim(art_embs_df, target).sort_values(ascending=False)[:10]"
   ]
  },
  {
   "cell_type": "markdown",
   "metadata": {},
   "source": [
    "### 2. 사용자와 유사한 취향을 가진 사용자가 좋아하는 아티스트 추천\n",
    "- 유저 취향 임베딩 행렬과 유저의 정보 데이터(연령, 성별 등)를 같이 활용하면, 유저의 특성별(연령대별, 세대별, 성별 등) 음악적 취향이 어떻게 차이가 나는지를 시각화하여 분석할 수 있습니다.\n",
    "- 유저 임베딩 데이터를 이용해 유저군을 분석해봅시다. 임베딩 행렬을 시각화하기 위해서 임베딩 행렬의 차원을 2차원으로 줄이는 작업이 필요합니다. 데이터가 2차원을 넘어가면 시각화가 쉽지 않기 때문입니다. 데이터의 차원을 줄이기 위한 방법 중 하나가 바로 주성분 분석(PCA, Principal Component Analysis)입니다. 주성분 분석은 원본 데이터의 가장 정보를 덜 손상시키는 방향으로 주성분 N개를 추출하여 N개의 차원으로 데이터를 줄여줍니다. PCA는 파이썬의 대표적인 머신러닝 패키지 중 하나인 scikit-learn에서 제공됩니다."
   ]
  },
  {
   "cell_type": "code",
   "execution_count": 63,
   "metadata": {},
   "outputs": [],
   "source": [
    "pca = PCA(n_components=2)\n",
    "pca_mat = pca.fit_transform(user_embs_df)\n",
    "pca_mat_df = pd.DataFrame(pca_mat, index=user_embs_df.index, columns=[\"comp1\", \"comp2\"])"
   ]
  },
  {
   "cell_type": "code",
   "execution_count": 64,
   "metadata": {},
   "outputs": [
    {
     "data": {
      "text/html": [
       "<div>\n",
       "<style scoped>\n",
       "    .dataframe tbody tr th:only-of-type {\n",
       "        vertical-align: middle;\n",
       "    }\n",
       "\n",
       "    .dataframe tbody tr th {\n",
       "        vertical-align: top;\n",
       "    }\n",
       "\n",
       "    .dataframe thead th {\n",
       "        text-align: right;\n",
       "    }\n",
       "</style>\n",
       "<table border=\"1\" class=\"dataframe\">\n",
       "  <thead>\n",
       "    <tr style=\"text-align: right;\">\n",
       "      <th></th>\n",
       "      <th>comp1</th>\n",
       "      <th>comp2</th>\n",
       "    </tr>\n",
       "  </thead>\n",
       "  <tbody>\n",
       "    <tr>\n",
       "      <th>234197</th>\n",
       "      <td>0.058878</td>\n",
       "      <td>-0.074241</td>\n",
       "    </tr>\n",
       "    <tr>\n",
       "      <th>184605</th>\n",
       "      <td>-0.235783</td>\n",
       "      <td>-0.846270</td>\n",
       "    </tr>\n",
       "    <tr>\n",
       "      <th>240699</th>\n",
       "      <td>0.316944</td>\n",
       "      <td>-1.652251</td>\n",
       "    </tr>\n",
       "    <tr>\n",
       "      <th>3846</th>\n",
       "      <td>0.873044</td>\n",
       "      <td>0.463066</td>\n",
       "    </tr>\n",
       "    <tr>\n",
       "      <th>324662</th>\n",
       "      <td>-0.616499</td>\n",
       "      <td>-0.138776</td>\n",
       "    </tr>\n",
       "  </tbody>\n",
       "</table>\n",
       "</div>"
      ],
      "text/plain": [
       "           comp1     comp2\n",
       "234197  0.058878 -0.074241\n",
       "184605 -0.235783 -0.846270\n",
       "240699  0.316944 -1.652251\n",
       "3846    0.873044  0.463066\n",
       "324662 -0.616499 -0.138776"
      ]
     },
     "execution_count": 64,
     "metadata": {},
     "output_type": "execute_result"
    }
   ],
   "source": [
    "pca_mat_df.sample(5)"
   ]
  },
  {
   "cell_type": "markdown",
   "metadata": {},
   "source": [
    "#### 성별에 따른 취향\n",
    "- 사용자들의 성별에 따른 취향의 차이를 시각화 해보겠습니다."
   ]
  },
  {
   "cell_type": "code",
   "execution_count": 65,
   "metadata": {},
   "outputs": [],
   "source": [
    "user_id2gender = {user_id:gender for user_id, gender in zip(users_df[\"user_id\"], users_df[\"gender\"])}\n",
    "pca_mat_df[\"gender\"] = pca_mat_df.apply(lambda x : user_id2gender[x.name], axis=1)"
   ]
  },
  {
   "cell_type": "code",
   "execution_count": 66,
   "metadata": {},
   "outputs": [
    {
     "data": {
      "text/html": [
       "<div>\n",
       "<style scoped>\n",
       "    .dataframe tbody tr th:only-of-type {\n",
       "        vertical-align: middle;\n",
       "    }\n",
       "\n",
       "    .dataframe tbody tr th {\n",
       "        vertical-align: top;\n",
       "    }\n",
       "\n",
       "    .dataframe thead th {\n",
       "        text-align: right;\n",
       "    }\n",
       "</style>\n",
       "<table border=\"1\" class=\"dataframe\">\n",
       "  <thead>\n",
       "    <tr style=\"text-align: right;\">\n",
       "      <th></th>\n",
       "      <th>comp1</th>\n",
       "      <th>comp2</th>\n",
       "      <th>gender</th>\n",
       "    </tr>\n",
       "  </thead>\n",
       "  <tbody>\n",
       "    <tr>\n",
       "      <th>229501</th>\n",
       "      <td>-0.026833</td>\n",
       "      <td>-1.768469</td>\n",
       "      <td>f</td>\n",
       "    </tr>\n",
       "    <tr>\n",
       "      <th>189026</th>\n",
       "      <td>-0.925426</td>\n",
       "      <td>0.418295</td>\n",
       "      <td>f</td>\n",
       "    </tr>\n",
       "    <tr>\n",
       "      <th>123155</th>\n",
       "      <td>0.022553</td>\n",
       "      <td>-0.561305</td>\n",
       "      <td>m</td>\n",
       "    </tr>\n",
       "    <tr>\n",
       "      <th>81525</th>\n",
       "      <td>0.199783</td>\n",
       "      <td>1.285740</td>\n",
       "      <td>m</td>\n",
       "    </tr>\n",
       "    <tr>\n",
       "      <th>264057</th>\n",
       "      <td>-1.051407</td>\n",
       "      <td>-1.047495</td>\n",
       "      <td>m</td>\n",
       "    </tr>\n",
       "  </tbody>\n",
       "</table>\n",
       "</div>"
      ],
      "text/plain": [
       "           comp1     comp2 gender\n",
       "229501 -0.026833 -1.768469      f\n",
       "189026 -0.925426  0.418295      f\n",
       "123155  0.022553 -0.561305      m\n",
       "81525   0.199783  1.285740      m\n",
       "264057 -1.051407 -1.047495      m"
      ]
     },
     "execution_count": 66,
     "metadata": {},
     "output_type": "execute_result"
    }
   ],
   "source": [
    "pca_mat_df.sample(5)"
   ]
  },
  {
   "cell_type": "code",
   "execution_count": 67,
   "metadata": {},
   "outputs": [
    {
     "data": {
      "image/png": "[encoded data removed]",
      "text/plain": [
       "<Figure size 432x432 with 1 Axes>"
      ]
     },
     "metadata": {
      "needs_background": "light"
     },
     "output_type": "display_data"
    }
   ],
   "source": [
    "fig, ax = plt.subplots(figsize=(6, 6))\n",
    "\n",
    "ax.scatter(data=pca_mat_df[pca_mat_df[\"gender\"]==\"m\"].sample(2000), x=\"comp1\", y=\"comp2\", s=6, alpha=0.4, c=\"blue\", label=\"male\")\n",
    "ax.scatter(data=pca_mat_df[pca_mat_df[\"gender\"]==\"f\"].sample(2000), x=\"comp1\", y=\"comp2\", s=6, alpha=0.4, c=\"orange\", label=\"female\")\n",
    "\n",
    "ax.legend()\n",
    "\n",
    "fig.tight_layout()"
   ]
  },
  {
   "cell_type": "markdown",
   "metadata": {},
   "source": [
    "- female이 조금 더 아래로 치우쳐서 있는 것을 볼 수 있습니다."
   ]
  },
  {
   "cell_type": "markdown",
   "metadata": {},
   "source": [
    "#### 나이에 따른 취향\n",
    "- 사용자들의 나이에 따른 취향의 차이를 시각화 해보겠습니다."
   ]
  },
  {
   "cell_type": "code",
   "execution_count": 68,
   "metadata": {},
   "outputs": [],
   "source": [
    "user_id2age = {user_id:age for user_id, age in zip(users_df[\"user_id\"], users_df[\"age\"])}\n",
    "pca_mat_df[\"age\"] = pca_mat_df.apply(lambda x : user_id2age[x.name], axis=1)"
   ]
  },
  {
   "cell_type": "code",
   "execution_count": 69,
   "metadata": {},
   "outputs": [
    {
     "data": {
      "image/png": "[encoded data removed]",
      "text/plain": [
       "<Figure size 432x432 with 1 Axes>"
      ]
     },
     "metadata": {
      "needs_background": "light"
     },
     "output_type": "display_data"
    }
   ],
   "source": [
    "fig, ax = plt.subplots(figsize=(6, 6))\n",
    "\n",
    "ax.scatter(data=pca_mat_df[pca_mat_df[\"age\"]>=60].sample(2000), x=\"comp1\", y=\"comp2\", s=6, alpha=0.4, c=\"blue\", label=\"old\")\n",
    "ax.scatter(data=pca_mat_df[pca_mat_df[\"age\"]<=20].sample(2000), x=\"comp1\", y=\"comp2\", s=6, alpha=0.4, c=\"orange\", label=\"young\")\n",
    "\n",
    "ax.legend()\n",
    "\n",
    "fig.tight_layout()"
   ]
  },
  {
   "cell_type": "markdown",
   "metadata": {},
   "source": [
    "- 서로 다른 분포를 볼 수 있습니다."
   ]
  },
  {
   "cell_type": "markdown",
   "metadata": {},
   "source": [
    "- 성별 혹은 연령별로 유저를 분석하여 유저에 대한 이해도를 높이는 것은 좋은 추천시스템을 만드는데 반드시 필요한 작업입니다. 예를 들어 앞서 언급했던 Cold Start 문제를 해결하기 위해 같은 성별 혹은 연령대의 유저군에 속한 유저들이 좋아하는 아티스트를 추천할 수도 있을 것입니다. 또는 마케팅을 수행하는데 활용할 수도 있을 것입니다."
   ]
  },
  {
   "cell_type": "markdown",
   "metadata": {},
   "source": [
    "### 3. 사용자의 취향과 유사한 특성을 가진 아티스트 추천"
   ]
  },
  {
   "cell_type": "code",
   "execution_count": 70,
   "metadata": {},
   "outputs": [
    {
     "name": "stdout",
     "output_type": "stream",
     "text": [
      "['angelo badalamenti', 'red hot chili peppers', 'marilyn manson', 'led zeppelin', 'eric clapton', 'metallica', 'iron maiden', 'u2', 't.love', 'slipknot', 'queens of the stone age', \"guns n' roses\", 'iced earth', 'avril lavigne', 'guano apes', 'the offspring', 'alice in chains', 'in flames', 'pantera', 'john williams', 'daniel licht', 'high and mighty color', 'karmacoma', 'down', 'missile girl scoot', 'akira yamaoka', 'the kilimanjaro darkjazz ensemble', 'mondo generator', 'raging speedhorn', 'graeme revell', 'spiritual beggars', 'as i lay dying', 'frida snell', 'fatboy slim', 'pearl jam', 'isis', 'suicidal tendencies', 'black sabbath', 'stone sour', 'the smashing pumpkins', 'sigur rós', 'godsmack', 'pink', 'no doubt', 'nine inch nails']\n",
      "\n",
      "killjoy                        0.807835\n",
      "downface                       0.795134\n",
      "guess why                      0.791257\n",
      "vokee                          0.776794\n",
      "berserk                        0.770680\n",
      "chain reaction                 0.763840\n",
      "clon                           0.761219\n",
      "tlen                           0.760333\n",
      "future leaders of the world    0.753604\n",
      "tosteer                        0.753578\n",
      "dtype: float32\n"
     ]
    }
   ],
   "source": [
    "#락을 좋아하는 사용자\n",
    "user_id = 300\n",
    "\n",
    "print([art_id2name[art_id] for art_id in in_plays.loc[user_id]], end=\"\\n\\n\")\n",
    "print(cos_sim(art_embs_df, user_embs_df.loc[user_id]).sort_values(ascending=False)[:10])"
   ]
  },
  {
   "cell_type": "code",
   "execution_count": 71,
   "metadata": {},
   "outputs": [
    {
     "name": "stdout",
     "output_type": "stream",
     "text": [
      "['the stone roses', 'snow patrol', 'red hot chili peppers', 'nickelback', 'scouting for girls', 'blur', 'michael jackson', 'michael bublé', 'amy winehouse', 'u2', 'the fratellis', 'bob marley', 'busted', 'jay-z', 'prince', 'kanye west', 'jordin sparks', 'foo fighters', '2pac', 'arctic monkeys', '50 cent', 'coldplay', 'lil wayne', 'the jackson 5', 'shaggy', 'queen', 'the game', 'feeder', 'the streets', 'radiohead', 'jay-z and linkin park', 'rihanna', 'linkin park', 'nina simone', 'blink-182', 'basshunter', 'r. kelly', 'oasis', 'the view', 'usher', 'the verve', 'akon', 'rod stewart', 'stereophonics', 'hard-fi']\n",
      "\n",
      "donavon frankenreiter & jack johnson    0.836483\n",
      "marky mark & the funky bunch            0.827846\n",
      "dj greg j                               0.826670\n",
      "peter kay                               0.779411\n",
      "triple m                                0.767098\n",
      "def rhymz                               0.766406\n",
      "mash up                                 0.766371\n",
      "beppie kraft                            0.759846\n",
      "child rebel soldier                     0.749363\n",
      "dryden mitchell                         0.747311\n",
      "dtype: float32\n"
     ]
    }
   ],
   "source": [
    "#힙합을 좋아하는 사용자\n",
    "user_id = 1200\n",
    "\n",
    "print([art_id2name[art_id] for art_id in in_plays.loc[user_id]], end=\"\\n\\n\")\n",
    "print(cos_sim(art_embs_df, user_embs_df.loc[user_id]).sort_values(ascending=False)[:10])"
   ]
  },
  {
   "cell_type": "code",
   "execution_count": 72,
   "metadata": {},
   "outputs": [
    {
     "name": "stdout",
     "output_type": "stream",
     "text": [
      "['gackt', 'christina aguilera', 'beyoncé', 'michael jackson', '安室奈美恵', '12012', '이효리', '新垣結衣', '久石譲', '鄭秀文', 'olivia ong', 'donawhale', '王力宏', 'enrique iglesias', 'alan', 'late night alumni', 'vanessa paradis', 'big bang', 'uverworld', 'abingdon boys school', 'britney spears', 'jennifer lopez', 'timbaland', 'ciara', 'bon jovi', 'avril lavigne', '中島美嘉', '浜崎あゆみ', 'm-flo', 'evanescence', '宇多田ヒカル', 'olivia', '倖田來未', 'spice girls', 'ashlee simpson', 'mariah carey', 'rihanna', 'linkin park', 'nelly furtado', 'madonna', 'enya', 'the pussycat dolls', 'kelly clarkson', 'michelle branch', 'frank sinatra', 'bee gees', 'justin timberlake', 'lady gaga', 'mink', 'boa', 'ガゼット', 'disney']\n",
      "\n",
      "kavana          0.924818\n",
      "park jung ah    0.922662\n",
      "guo mei mei     0.911005\n",
      "赵薇              0.908277\n",
      "goofy           0.908153\n",
      "大野智             0.907401\n",
      "권보아             0.906490\n",
      "perry           0.906056\n",
      "李玖哲             0.903166\n",
      "장윤정             0.902626\n",
      "dtype: float32\n"
     ]
    }
   ],
   "source": [
    "#댄스 음악을 좋아하는 사용자\n",
    "user_id = 209\n",
    "\n",
    "print([art_id2name[art_id] for art_id in in_plays.loc[user_id]], end=\"\\n\\n\")\n",
    "print(cos_sim(art_embs_df, user_embs_df.loc[user_id]).sort_values(ascending=False)[:10])"
   ]
  },
  {
   "cell_type": "markdown",
   "metadata": {},
   "source": [
    "## 유사도 계산 속도 개선하기\n",
    "- 실제로 추천 시스템을 구현할 경우 최소 100ms 안에 서비스를 제공해야 합니다.\n",
    "- 그러나 pandas를 이용해 유사도를 계산하는 것은 대량의 요청에 빠른 속도로 응답하기가 어렵습니다.\n",
    "\n",
    "### annoy library 사용하기\n",
    "- 전체 사용자 또는 아이템에 대해 연산을 수행하는 것이 아니라 유사도가 높을 것으로 예상되는 사용자 또는 아이템들을 추려낸 후 해당 사용자 또는 아이템들만을 가지고 유사도를 계산하므로 훨씬 빠른 연산 속도를 구현할 수 있습니다.\n",
    "- 이처럼 유사도를 빠르게 계산할 수 있도록 해주는 libraries는 다음과 같은 것들이 있습니다.\n",
    "<img src=\"https://github.com/erikbern/ann-benchmarks/raw/master/results/glove-100-angular.png\" width=\"500\">"
   ]
  },
  {
   "cell_type": "code",
   "execution_count": 73,
   "metadata": {},
   "outputs": [
    {
     "data": {
      "text/plain": [
       "True"
      ]
     },
     "execution_count": 73,
     "metadata": {},
     "output_type": "execute_result"
    }
   ],
   "source": [
    "n_facts = 61\n",
    "tree = AnnoyIndex(n_facts, \"dot\")\n",
    "\n",
    "for idx, value in enumerate(art_embs_df.values):\n",
    "    tree.add_item(idx, value)\n",
    "\n",
    "#builds a forest of n_trees trees. More trees gives higher precision when querying.\n",
    "tree.build(n_trees=20)"
   ]
  },
  {
   "cell_type": "code",
   "execution_count": 74,
   "metadata": {},
   "outputs": [
    {
     "name": "stdout",
     "output_type": "stream",
     "text": [
      "['angelo badalamenti', 'red hot chili peppers', 'marilyn manson', 'led zeppelin', 'eric clapton', 'metallica', 'iron maiden', 'u2', 't.love', 'slipknot', 'queens of the stone age', \"guns n' roses\", 'iced earth', 'avril lavigne', 'guano apes', 'the offspring', 'alice in chains', 'in flames', 'pantera', 'john williams', 'daniel licht', 'high and mighty color', 'karmacoma', 'down', 'missile girl scoot', 'akira yamaoka', 'the kilimanjaro darkjazz ensemble', 'mondo generator', 'raging speedhorn', 'graeme revell', 'spiritual beggars', 'as i lay dying', 'frida snell', 'fatboy slim', 'pearl jam', 'isis', 'suicidal tendencies', 'black sabbath', 'stone sour', 'the smashing pumpkins', 'sigur rós', 'godsmack', 'pink', 'no doubt', 'nine inch nails']\n",
      "\n",
      "['otto ohm', 'abysmal torment', 'sore throat', \"it's a beautiful day\", 'airscape', 'big country', 'the quicksteps', 'mike lehmann', 'jah free', 'furious george']\n"
     ]
    }
   ],
   "source": [
    "#락을 좋아하는 사용자\n",
    "user_id = 300\n",
    "\n",
    "print([art_id2name[art_id] for art_id in in_plays.loc[user_id]], end=\"\\n\\n\")\n",
    "print([art_id2name[art] for art in tree.get_nns_by_vector(user_embs_df.loc[user_id], 10)])"
   ]
  },
  {
   "cell_type": "code",
   "execution_count": 75,
   "metadata": {},
   "outputs": [
    {
     "name": "stdout",
     "output_type": "stream",
     "text": [
      "['the stone roses', 'snow patrol', 'red hot chili peppers', 'nickelback', 'scouting for girls', 'blur', 'michael jackson', 'michael bublé', 'amy winehouse', 'u2', 'the fratellis', 'bob marley', 'busted', 'jay-z', 'prince', 'kanye west', 'jordin sparks', 'foo fighters', '2pac', 'arctic monkeys', '50 cent', 'coldplay', 'lil wayne', 'the jackson 5', 'shaggy', 'queen', 'the game', 'feeder', 'the streets', 'radiohead', 'jay-z and linkin park', 'rihanna', 'linkin park', 'nina simone', 'blink-182', 'basshunter', 'r. kelly', 'oasis', 'the view', 'usher', 'the verve', 'akon', 'rod stewart', 'stereophonics', 'hard-fi']\n",
      "\n",
      "['bloc party', 'coldplay', 'roupa nova', 'eminem', 'the pussycat dolls', 'does it offend you, yeah?', 'sharleen spiteri', 'black milk', 'diariu', 'annett louisan']\n"
     ]
    }
   ],
   "source": [
    "#힙합을 좋아하는 사용자\n",
    "user_id = 1200\n",
    "\n",
    "print([art_id2name[art_id] for art_id in in_plays.loc[user_id]], end=\"\\n\\n\")\n",
    "print([art_id2name[art] for art in tree.get_nns_by_vector(user_embs_df.loc[user_id], 10)])"
   ]
  },
  {
   "cell_type": "code",
   "execution_count": 76,
   "metadata": {},
   "outputs": [
    {
     "name": "stdout",
     "output_type": "stream",
     "text": [
      "['gackt', 'christina aguilera', 'beyoncé', 'michael jackson', '安室奈美恵', '12012', '이효리', '新垣結衣', '久石譲', '鄭秀文', 'olivia ong', 'donawhale', '王力宏', 'enrique iglesias', 'alan', 'late night alumni', 'vanessa paradis', 'big bang', 'uverworld', 'abingdon boys school', 'britney spears', 'jennifer lopez', 'timbaland', 'ciara', 'bon jovi', 'avril lavigne', '中島美嘉', '浜崎あゆみ', 'm-flo', 'evanescence', '宇多田ヒカル', 'olivia', '倖田來未', 'spice girls', 'ashlee simpson', 'mariah carey', 'rihanna', 'linkin park', 'nelly furtado', 'madonna', 'enya', 'the pussycat dolls', 'kelly clarkson', 'michelle branch', 'frank sinatra', 'bee gees', 'justin timberlake', 'lady gaga', 'mink', 'boa', 'ガゼット', 'disney']\n",
      "\n",
      "['backstreet boys', 'the miracles', 'kinderen voor kinderen', 'Ákos', 'skafandr', 'mormon tabernacle choir', 'house of fools', 'karna', 'waldheim', 'digga']\n"
     ]
    }
   ],
   "source": [
    "#댄스 음악을 좋아하는 사용자\n",
    "user_id = 209\n",
    "\n",
    "print([art_id2name[art_id] for art_id in in_plays.loc[user_id]], end=\"\\n\\n\")\n",
    "print([art_id2name[art] for art in tree.get_nns_by_vector(user_embs_df.loc[user_id], 10)])"
   ]
  },
  {
   "cell_type": "code",
   "execution_count": null,
   "metadata": {},
   "outputs": [],
   "source": []
  }
 ],
 "metadata": {
  "kernelspec": {
   "display_name": "Python 3",
   "language": "python",
   "name": "python3"
  },
  "language_info": {
   "codemirror_mode": {
    "name": "ipython",
    "version": 3
   },
   "file_extension": ".py",
   "mimetype": "text/x-python",
   "name": "python",
   "nbconvert_exporter": "python",
   "pygments_lexer": "ipython3",
   "version": "3.7.9"
  },
  "toc": {
   "base_numbering": 1,
   "nav_menu": {},
   "number_sections": false,
   "sideBar": true,
   "skip_h1_title": false,
   "title_cell": "Table of Contents",
   "title_sidebar": "Contents",
   "toc_cell": false,
   "toc_position": {},
   "toc_section_display": true,
   "toc_window_display": false
  },
  "varInspector": {
   "cols": {
    "lenName": 16,
    "lenType": 16,
    "lenVar": 40
   },
   "kernels_config": {
    "python": {
     "delete_cmd_postfix": "",
     "delete_cmd_prefix": "del ",
     "library": "var_list.py",
     "varRefreshCmd": "print(var_dic_list())"
    },
    "r": {
     "delete_cmd_postfix": ") ",
     "delete_cmd_prefix": "rm(",
     "library": "var_list.r",
     "varRefreshCmd": "cat(var_dic_list()) "
    }
   },
   "types_to_exclude": [
    "module",
    "function",
    "builtin_function_or_method",
    "instance",
    "_Feature"
   ],
   "window_display": false
  }
 },
 "nbformat": 4,
 "nbformat_minor": 4
}
