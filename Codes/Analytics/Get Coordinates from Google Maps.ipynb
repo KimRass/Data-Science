{
 "cells": [
  {
   "cell_type": "code",
   "execution_count": 7,
   "metadata": {
    "ExecuteTime": {
     "end_time": "2021-10-18T01:23:00.958540Z",
     "start_time": "2021-10-18T01:22:58.121161Z"
    }
   },
   "outputs": [],
   "source": [
    "import pandas as pd\n",
    "from selenium import webdriver\n",
    "from selenium.webdriver.common.by import By\n",
    "from selenium.webdriver.chrome.options import Options\n",
    "from selenium.webdriver.support.ui import WebDriverWait\n",
    "from selenium.webdriver.support import expected_conditions as EC\n",
    "from collections import deque\n",
    "import time\n",
    "import re\n",
    "\n",
    "driver = webdriver.Chrome(\"D:/Github/Programming/chromedriver.exe\")"
   ]
  },
  {
   "cell_type": "code",
   "execution_count": 47,
   "metadata": {
    "ExecuteTime": {
     "end_time": "2021-10-18T03:05:52.654395Z",
     "start_time": "2021-10-18T03:05:52.461909Z"
    }
   },
   "outputs": [],
   "source": [
    "data = pd.read_csv(\"D:/Github/Work/Tableau/Administration ERP/Site Management/Site Coordinates.csv\")"
   ]
  },
  {
   "cell_type": "code",
   "execution_count": 48,
   "metadata": {
    "ExecuteTime": {
     "end_time": "2021-10-18T03:05:52.740164Z",
     "start_time": "2021-10-18T03:05:52.657400Z"
    }
   },
   "outputs": [
    {
     "data": {
      "text/html": [
       "<div>\n",
       "<style scoped>\n",
       "    .dataframe tbody tr th:only-of-type {\n",
       "        vertical-align: middle;\n",
       "    }\n",
       "\n",
       "    .dataframe tbody tr th {\n",
       "        vertical-align: top;\n",
       "    }\n",
       "\n",
       "    .dataframe thead th {\n",
       "        text-align: right;\n",
       "    }\n",
       "</style>\n",
       "<table border=\"1\" class=\"dataframe\">\n",
       "  <thead>\n",
       "    <tr style=\"text-align: right;\">\n",
       "      <th></th>\n",
       "      <th>현장코드</th>\n",
       "      <th>현장명</th>\n",
       "      <th>주소</th>\n",
       "      <th>Unnamed: 3</th>\n",
       "    </tr>\n",
       "  </thead>\n",
       "  <tbody>\n",
       "    <tr>\n",
       "      <th>0</th>\n",
       "      <td>D1120C</td>\n",
       "      <td>광명제4R구역 주택재개발정비사업</td>\n",
       "      <td>경기도 광명시 광명로952번길 16(광명동)</td>\n",
       "      <td>37.4830388,126.8558433,17z</td>\n",
       "    </tr>\n",
       "    <tr>\n",
       "      <th>1</th>\n",
       "      <td>C1077C</td>\n",
       "      <td>광주 송정지구 APT</td>\n",
       "      <td>경기도 광주시 이배재로 277-29(목현동)</td>\n",
       "      <td>37.43449,127.226786,17z</td>\n",
       "    </tr>\n",
       "    <tr>\n",
       "      <th>2</th>\n",
       "      <td>I0011C</td>\n",
       "      <td>안성 가유지구 물류센터 신축공사</td>\n",
       "      <td>경기도 안성시 고삼면 고삼호수로 60-27</td>\n",
       "      <td>37.0816249,127.2674393,17z</td>\n",
       "    </tr>\n",
       "    <tr>\n",
       "      <th>3</th>\n",
       "      <td>R1042C</td>\n",
       "      <td>김해 사이언스파크 일반산업단지조성사업</td>\n",
       "      <td>경상남도 김해시 한림면 김해대로 1224-27</td>\n",
       "      <td>NaN</td>\n",
       "    </tr>\n",
       "    <tr>\n",
       "      <th>4</th>\n",
       "      <td>C1066C</td>\n",
       "      <td>포항 IPARK</td>\n",
       "      <td>경상북도 포항시 남구 오천읍 기림로 1995-35</td>\n",
       "      <td>NaN</td>\n",
       "    </tr>\n",
       "  </tbody>\n",
       "</table>\n",
       "</div>"
      ],
      "text/plain": [
       "     현장코드                   현장명                           주소  \\\n",
       "0  D1120C     광명제4R구역 주택재개발정비사업     경기도 광명시 광명로952번길 16(광명동)   \n",
       "1  C1077C           광주 송정지구 APT     경기도 광주시 이배재로 277-29(목현동)   \n",
       "2  I0011C     안성 가유지구 물류센터 신축공사      경기도 안성시 고삼면 고삼호수로 60-27   \n",
       "3  R1042C  김해 사이언스파크 일반산업단지조성사업    경상남도 김해시 한림면 김해대로 1224-27   \n",
       "4  C1066C              포항 IPARK  경상북도 포항시 남구 오천읍 기림로 1995-35   \n",
       "\n",
       "                   Unnamed: 3  \n",
       "0  37.4830388,126.8558433,17z  \n",
       "1     37.43449,127.226786,17z  \n",
       "2  37.0816249,127.2674393,17z  \n",
       "3                         NaN  \n",
       "4                         NaN  "
      ]
     },
     "execution_count": 48,
     "metadata": {},
     "output_type": "execute_result"
    }
   ],
   "source": [
    "data.head()"
   ]
  },
  {
   "cell_type": "code",
   "execution_count": 50,
   "metadata": {
    "ExecuteTime": {
     "end_time": "2021-10-18T03:06:03.425580Z",
     "start_time": "2021-10-18T03:06:03.318891Z"
    }
   },
   "outputs": [],
   "source": [
    "for _, row in data.iterrows():\n",
    "    query = row[\"주소\"]\n",
    "    try:\n",
    "        query = re.sub(r\"\\(.+\\)\", \"\", query)\n",
    "        driver.get(\"https://www.google.co.kr/maps/\")\n",
    "        textFields = driver.find_element_by_xpath(\"//*[@id='searchboxinput']\")\n",
    "        textFields.clear()\n",
    "        textFields.send_keys(query)\n",
    "\n",
    "        button = driver.find_element_by_xpath(\"//*[@id='searchbox-searchbutton']\").click()\n",
    "#     try:\n",
    "        WebDriverWait(driver, 5).until(EC.presence_of_element_located((By.XPATH, \"//*[@id='pane']/div/div[1]/div/div/div[5]\")))\n",
    "        time.sleep(2)\n",
    "        url_split = driver.current_url.split(\"@\")[1]\n",
    "        lat = str(float(url_split.split(\",\")[0]) - 0.0000043)\n",
    "        lon = str(float(url_split.split(\",\")[1]) + 0.0021887)\n",
    "        data.loc[data[\"현장코드\"]==row[\"현장코드\"], \"lat\"] = lat\n",
    "        data.loc[data[\"현장코드\"]==row[\"현장코드\"], \"lon\"] = lon\n",
    "#         data.loc[data[\"주소\"] == query, \"lon, lon\"] = f\"{lat} {lon}\"\n",
    "        print(query, lat, lon)\n",
    "        data.to_csv(\"D:/Github/Work/Tableau/Administration ERP/Site Management/Site Coordinates (2).csv\", encoding=\"euc-kr\")\n",
    "        driver.implicitly_wait(1)\n",
    "    except:\n",
    "        continue"
   ]
  },
  {
   "cell_type": "code",
   "execution_count": 45,
   "metadata": {
    "ExecuteTime": {
     "end_time": "2021-10-18T02:24:58.632552Z",
     "start_time": "2021-10-18T02:24:58.627573Z"
    }
   },
   "outputs": [],
   "source": [
    "textFields"
   ]
  },
  {
   "cell_type": "code",
   "execution_count": 13,
   "metadata": {},
   "outputs": [],
   "source": [
    "data.to_excel(\"D:/☆디지털혁신팀/☆실거래가 분석/☆그래프/google maps crawling.xlsx\", encoding=\"utf-8\")"
   ]
  },
  {
   "cell_type": "code",
   "execution_count": null,
   "metadata": {},
   "outputs": [],
   "source": []
  }
 ],
 "metadata": {
  "kernelspec": {
   "display_name": "Python 3",
   "language": "python",
   "name": "python3"
  },
  "language_info": {
   "codemirror_mode": {
    "name": "ipython",
    "version": 3
   },
   "file_extension": ".py",
   "mimetype": "text/x-python",
   "name": "python",
   "nbconvert_exporter": "python",
   "pygments_lexer": "ipython3",
   "version": "3.7.7"
  },
  "toc": {
   "base_numbering": 1,
   "nav_menu": {},
   "number_sections": true,
   "sideBar": true,
   "skip_h1_title": false,
   "title_cell": "Table of Contents",
   "title_sidebar": "Contents",
   "toc_cell": false,
   "toc_position": {},
   "toc_section_display": true,
   "toc_window_display": false
  }
 },
 "nbformat": 4,
 "nbformat_minor": 2
}
