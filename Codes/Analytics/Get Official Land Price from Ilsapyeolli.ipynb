{
 "cells": [
  {
   "cell_type": "code",
   "execution_count": 1,
   "metadata": {},
   "outputs": [],
   "source": [
    "import pandas as pd\n",
    "from selenium import webdriver\n",
    "from selenium.webdriver.common.by import By\n",
    "from selenium.webdriver.support.ui import WebDriverWait\n",
    "from selenium.webdriver.support import expected_conditions as EC\n",
    "import time\n",
    "from tqdm.notebook import tqdm"
   ]
  },
  {
   "cell_type": "code",
   "execution_count": 2,
   "metadata": {},
   "outputs": [],
   "source": [
    "raw_data = pd.read_csv(\"단지별 주소_200906.csv\")"
   ]
  },
  {
   "cell_type": "code",
   "execution_count": 3,
   "metadata": {},
   "outputs": [],
   "source": [
    "data = raw_data\n",
    "\n",
    "data = data[[\"id\", \"주소\"]]"
   ]
  },
  {
   "cell_type": "code",
   "execution_count": 4,
   "metadata": {},
   "outputs": [
    {
     "data": {
      "text/html": [
       "<div>\n",
       "<style scoped>\n",
       "    .dataframe tbody tr th:only-of-type {\n",
       "        vertical-align: middle;\n",
       "    }\n",
       "\n",
       "    .dataframe tbody tr th {\n",
       "        vertical-align: top;\n",
       "    }\n",
       "\n",
       "    .dataframe thead th {\n",
       "        text-align: right;\n",
       "    }\n",
       "</style>\n",
       "<table border=\"1\" class=\"dataframe\">\n",
       "  <thead>\n",
       "    <tr style=\"text-align: right;\">\n",
       "      <th></th>\n",
       "      <th>id</th>\n",
       "      <th>주소</th>\n",
       "    </tr>\n",
       "  </thead>\n",
       "  <tbody>\n",
       "    <tr>\n",
       "      <th>0</th>\n",
       "      <td>6993</td>\n",
       "      <td>충청북도 청주시 상당구 금천동 77-7</td>\n",
       "    </tr>\n",
       "    <tr>\n",
       "      <th>1</th>\n",
       "      <td>6997</td>\n",
       "      <td>충청북도 청주시 상당구 금천동 81</td>\n",
       "    </tr>\n",
       "    <tr>\n",
       "      <th>2</th>\n",
       "      <td>6998</td>\n",
       "      <td>충청북도 청주시 상당구 금천동 122-15</td>\n",
       "    </tr>\n",
       "    <tr>\n",
       "      <th>3</th>\n",
       "      <td>7001</td>\n",
       "      <td>충청북도 청주시 상당구 금천동 115-1</td>\n",
       "    </tr>\n",
       "    <tr>\n",
       "      <th>4</th>\n",
       "      <td>7004</td>\n",
       "      <td>충청북도 청주시 상당구 금천동 70-1</td>\n",
       "    </tr>\n",
       "  </tbody>\n",
       "</table>\n",
       "</div>"
      ],
      "text/plain": [
       "     id                       주소\n",
       "0  6993    충청북도 청주시 상당구 금천동 77-7\n",
       "1  6997      충청북도 청주시 상당구 금천동 81\n",
       "2  6998  충청북도 청주시 상당구 금천동 122-15\n",
       "3  7001   충청북도 청주시 상당구 금천동 115-1\n",
       "4  7004    충청북도 청주시 상당구 금천동 70-1"
      ]
     },
     "execution_count": 4,
     "metadata": {},
     "output_type": "execute_result"
    }
   ],
   "source": [
    "data.head()"
   ]
  },
  {
   "cell_type": "code",
   "execution_count": 9,
   "metadata": {
    "scrolled": true
   },
   "outputs": [],
   "source": [
    "driver = webdriver.Chrome(\"chromedriver\")"
   ]
  },
  {
   "cell_type": "code",
   "execution_count": 10,
   "metadata": {},
   "outputs": [],
   "source": [
    "df = pd.DataFrame(columns=[\"id\", \"addr\"]+[f\"{yr}\" for yr in range(2020, 1999, -1)])"
   ]
  },
  {
   "cell_type": "code",
   "execution_count": 18,
   "metadata": {},
   "outputs": [
    {
     "data": {
      "application/vnd.jupyter.widget-view+json": {
       "model_id": "adb5dfdd21dc40ae8e335fa2fa71c703",
       "version_major": 2,
       "version_minor": 0
      },
      "text/plain": [
       "HBox(children=(FloatProgress(value=1.0, bar_style='info', layout=Layout(width='20px'), max=1.0), HTML(value=''…"
      ]
     },
     "metadata": {},
     "output_type": "display_data"
    },
    {
     "name": "stdout",
     "output_type": "stream",
     "text": [
      "{'2020': '670,800 원', '2019': '652,000 원', '2018': '625,400 원', '2017': '574,400 원', '2016': '494,500 원', '2015': '487,700 원', '2014': '453,100 원', '2013': '430,000 원', '2012': '388,000 원', '2011': '388,000 원', '2010': '377,000 원', '2009': '367,000 원', '2008': '377,000 원', '2007': '380,000 원', '2006': '380,000 원', '2005': '370,000 원', '2004': '350,000 원', '2003': '320,000 원', '2002': '330,000 원', '2001': '360,000 원', '2000': '360,000 원', 'id': 6993, 'addr': '충청북도 청주시 상당구 금천동 77-7'}\n",
      "{'2020': '645,000 원', '2019': '627,000 원', '2018': '601,300 원', '2017': '546,200 원', '2016': '470,200 원', '2015': '465,000 원', '2014': '432,000 원', '2013': '410,000 원', '2012': '370,000 원', '2011': '370,000 원', '2010': '360,000 원', '2009': '350,000 원', '2008': '276,000 원', '2007': '276,000 원', '2006': '276,000 원', '2005': '276,000 원', '2004': '252,000 원', '2003': '259,000 원', '2002': '261,000 원', '2001': '243,000 원', '2000': '243,000 원', 'id': 6997, 'addr': '충청북도 청주시 상당구 금천동 81'}\n",
      "\n"
     ]
    },
    {
     "ename": "KeyboardInterrupt",
     "evalue": "",
     "output_type": "error",
     "traceback": [
      "\u001b[1;31m---------------------------------------------------------------------------\u001b[0m",
      "\u001b[1;31mKeyboardInterrupt\u001b[0m                         Traceback (most recent call last)",
      "\u001b[1;32m<ipython-input-18-77ea06dc215d>\u001b[0m in \u001b[0;36m<module>\u001b[1;34m\u001b[0m\n\u001b[0;32m     24\u001b[0m     \u001b[0mdriver\u001b[0m\u001b[1;33m.\u001b[0m\u001b[0mfind_element_by_xpath\u001b[0m\u001b[1;33m(\u001b[0m\u001b[1;34m\"//*[@id='sggnm']\"\u001b[0m\u001b[1;33m)\u001b[0m\u001b[1;33m.\u001b[0m\u001b[0msend_keys\u001b[0m\u001b[1;33m(\u001b[0m\u001b[1;34mf\"청주시{gu}\"\u001b[0m\u001b[1;33m)\u001b[0m\u001b[1;33m\u001b[0m\u001b[1;33m\u001b[0m\u001b[0m\n\u001b[0;32m     25\u001b[0m \u001b[1;33m\u001b[0m\u001b[0m\n\u001b[1;32m---> 26\u001b[1;33m     \u001b[0mtime\u001b[0m\u001b[1;33m.\u001b[0m\u001b[0msleep\u001b[0m\u001b[1;33m(\u001b[0m\u001b[1;36m1\u001b[0m\u001b[1;33m)\u001b[0m\u001b[1;33m\u001b[0m\u001b[1;33m\u001b[0m\u001b[0m\n\u001b[0m\u001b[0;32m     27\u001b[0m \u001b[1;33m\u001b[0m\u001b[0m\n\u001b[0;32m     28\u001b[0m     \u001b[1;31m#동을 입력합니다.\u001b[0m\u001b[1;33m\u001b[0m\u001b[1;33m\u001b[0m\u001b[1;33m\u001b[0m\u001b[0m\n",
      "\u001b[1;31mKeyboardInterrupt\u001b[0m: "
     ]
    }
   ],
   "source": [
    "for _, row in tqdm(data.iterrows()):\n",
    "    dic = {}\n",
    "    \n",
    "    #주소를 parsing합니다.\n",
    "    addr = row[\"주소\"].split()\n",
    "    gu = addr[2]\n",
    "    dong = addr[3]\n",
    "    lot1 = addr[-1].split(\"-\")[0]\n",
    "    if len(addr[-1].split(\"-\")) == 2:\n",
    "        lot2 = addr[-1].split(\"-\")[1]\n",
    "    else:\n",
    "        lot2 = None\n",
    "    if len(addr) == 6:\n",
    "        ri = addr[-2]\n",
    "    else:\n",
    "        ri = None\n",
    "\n",
    "    driver.get((\"http://kras.chungbuk.go.kr/land_info/\"\n",
    "                \"info/landprice/landprice.do\"))\n",
    "    \n",
    "    WebDriverWait(driver, 5).until(EC.presence_of_element_located((By.XPATH, \"//*[@id='sggnm']\")))\n",
    "        \n",
    "    #시군구를 입력합니다.\n",
    "    driver.find_element_by_xpath(\"//*[@id='sggnm']\").send_keys(f\"청주시{gu}\")\n",
    "\n",
    "    time.sleep(1)\n",
    "\n",
    "    #동을 입력합니다.\n",
    "    driver.find_element_by_xpath(\"//*[@id='umdnm']\").send_keys(dong)\n",
    "\n",
    "    time.sleep(1)\n",
    "\n",
    "    #주소가 리까지라면\n",
    "    if ri != None:\n",
    "        #리를 입력합니다.\n",
    "        driver.find_element_by_xpath(\"//*[@id='rinm']\").clear()\n",
    "        driver.find_element_by_xpath(\"//*[@id='rinm']\").send_keys(ri)\n",
    "\n",
    "    time.sleep(1)\n",
    "\n",
    "    driver.find_element_by_xpath(\"//*[@id='textfield']\").clear()\n",
    "    driver.find_element_by_xpath(\"//*[@id='textfield2']\").clear()\n",
    "    #지번 주소를 입력합니다.\n",
    "    if lot2 == None:\n",
    "        driver.find_element_by_xpath(\"//*[@id='textfield']\").send_keys(lot1)\n",
    "    elif lot2 != None:\n",
    "        driver.find_element_by_xpath(\"//*[@id='textfield']\").send_keys(int(lot1))\n",
    "        driver.find_element_by_xpath(\"//*[@id='textfield2']\").send_keys(int(lot2))\n",
    "\n",
    "    time.sleep(1)\n",
    "\n",
    "    #주소가 완전히 입력되도록 \"지번입력조회\" 버튼을 클릭합니다.\n",
    "    driver.execute_script(\"arguments[0].click();\", driver.find_element_by_xpath(\"//*[@id='searchType3']\"))\n",
    "\n",
    "    time.sleep(1)\n",
    "\n",
    "    #\"검색\" 버튼을 클릭합니다.\n",
    "    driver.execute_script(\"arguments[0].click();\", driver.find_element_by_xpath(\"//*[@id='searching']/a\"))\n",
    "\n",
    "    #표가 출력되기를 기다립니다.\n",
    "    WebDriverWait(driver, 5).until(EC.presence_of_element_located((By.XPATH, \"//*[@id='main-container']/div[2]/table/thead/tr/th[1]\")))\n",
    "        \n",
    "    for i in range(2, 23):\n",
    "        try:\n",
    "            year = driver.find_element_by_xpath(f\"//*[@id='main-container']/div[2]/table/tbody/tr[{i}]/td[1]\").text\n",
    "            value = driver.find_element_by_xpath(f\"//*[@id='main-container']/div[2]/table/tbody/tr[{i}]/td[4]\").text\n",
    "\n",
    "            dic.update({year:value})\n",
    "        except:\n",
    "            break\n",
    "    dic.update({\"id\":row[\"id\"], \"addr\":row[\"주소\"]})\n",
    "\n",
    "    print(dic)\n",
    "\n",
    "    df = df.append(dic, ignore_index=True)\n",
    "    \n",
    "    try:\n",
    "        df.to_csv(\"공시지가.csv\", encoding=\"euc-kr\")\n",
    "    except:\n",
    "        continue"
   ]
  },
  {
   "cell_type": "code",
   "execution_count": 19,
   "metadata": {},
   "outputs": [
    {
     "data": {
      "text/html": [
       "<div>\n",
       "<style scoped>\n",
       "    .dataframe tbody tr th:only-of-type {\n",
       "        vertical-align: middle;\n",
       "    }\n",
       "\n",
       "    .dataframe tbody tr th {\n",
       "        vertical-align: top;\n",
       "    }\n",
       "\n",
       "    .dataframe thead th {\n",
       "        text-align: right;\n",
       "    }\n",
       "</style>\n",
       "<table border=\"1\" class=\"dataframe\">\n",
       "  <thead>\n",
       "    <tr style=\"text-align: right;\">\n",
       "      <th></th>\n",
       "      <th>id</th>\n",
       "      <th>addr</th>\n",
       "      <th>2020</th>\n",
       "      <th>2019</th>\n",
       "      <th>2018</th>\n",
       "      <th>2017</th>\n",
       "      <th>2016</th>\n",
       "      <th>2015</th>\n",
       "      <th>2014</th>\n",
       "      <th>2013</th>\n",
       "      <th>...</th>\n",
       "      <th>2009</th>\n",
       "      <th>2008</th>\n",
       "      <th>2007</th>\n",
       "      <th>2006</th>\n",
       "      <th>2005</th>\n",
       "      <th>2004</th>\n",
       "      <th>2003</th>\n",
       "      <th>2002</th>\n",
       "      <th>2001</th>\n",
       "      <th>2000</th>\n",
       "    </tr>\n",
       "  </thead>\n",
       "  <tbody>\n",
       "    <tr>\n",
       "      <th>0</th>\n",
       "      <td>6993</td>\n",
       "      <td>충청북도 청주시 상당구 금천동 77-7</td>\n",
       "      <td>670,800 원</td>\n",
       "      <td>652,000 원</td>\n",
       "      <td>625,400 원</td>\n",
       "      <td>574,400 원</td>\n",
       "      <td>494,500 원</td>\n",
       "      <td>487,700 원</td>\n",
       "      <td>453,100 원</td>\n",
       "      <td>430,000 원</td>\n",
       "      <td>...</td>\n",
       "      <td>367,000 원</td>\n",
       "      <td>377,000 원</td>\n",
       "      <td>380,000 원</td>\n",
       "      <td>380,000 원</td>\n",
       "      <td>370,000 원</td>\n",
       "      <td>350,000 원</td>\n",
       "      <td>320,000 원</td>\n",
       "      <td>330,000 원</td>\n",
       "      <td>360,000 원</td>\n",
       "      <td>360,000 원</td>\n",
       "    </tr>\n",
       "    <tr>\n",
       "      <th>1</th>\n",
       "      <td>6997</td>\n",
       "      <td>충청북도 청주시 상당구 금천동 81</td>\n",
       "      <td>645,000 원</td>\n",
       "      <td>627,000 원</td>\n",
       "      <td>601,300 원</td>\n",
       "      <td>546,200 원</td>\n",
       "      <td>470,200 원</td>\n",
       "      <td>465,000 원</td>\n",
       "      <td>432,000 원</td>\n",
       "      <td>410,000 원</td>\n",
       "      <td>...</td>\n",
       "      <td>350,000 원</td>\n",
       "      <td>276,000 원</td>\n",
       "      <td>276,000 원</td>\n",
       "      <td>276,000 원</td>\n",
       "      <td>276,000 원</td>\n",
       "      <td>252,000 원</td>\n",
       "      <td>259,000 원</td>\n",
       "      <td>261,000 원</td>\n",
       "      <td>243,000 원</td>\n",
       "      <td>243,000 원</td>\n",
       "    </tr>\n",
       "  </tbody>\n",
       "</table>\n",
       "<p>2 rows × 23 columns</p>\n",
       "</div>"
      ],
      "text/plain": [
       "     id                   addr       2020       2019       2018       2017  \\\n",
       "0  6993  충청북도 청주시 상당구 금천동 77-7  670,800 원  652,000 원  625,400 원  574,400 원   \n",
       "1  6997    충청북도 청주시 상당구 금천동 81  645,000 원  627,000 원  601,300 원  546,200 원   \n",
       "\n",
       "        2016       2015       2014       2013  ...       2009       2008  \\\n",
       "0  494,500 원  487,700 원  453,100 원  430,000 원  ...  367,000 원  377,000 원   \n",
       "1  470,200 원  465,000 원  432,000 원  410,000 원  ...  350,000 원  276,000 원   \n",
       "\n",
       "        2007       2006       2005       2004       2003       2002  \\\n",
       "0  380,000 원  380,000 원  370,000 원  350,000 원  320,000 원  330,000 원   \n",
       "1  276,000 원  276,000 원  276,000 원  252,000 원  259,000 원  261,000 원   \n",
       "\n",
       "        2001       2000  \n",
       "0  360,000 원  360,000 원  \n",
       "1  243,000 원  243,000 원  \n",
       "\n",
       "[2 rows x 23 columns]"
      ]
     },
     "execution_count": 19,
     "metadata": {},
     "output_type": "execute_result"
    }
   ],
   "source": [
    "df"
   ]
  },
  {
   "cell_type": "code",
   "execution_count": null,
   "metadata": {},
   "outputs": [],
   "source": []
  }
 ],
 "metadata": {
  "kernelspec": {
   "display_name": "Python 3",
   "language": "python",
   "name": "python3"
  }
 },
 "nbformat": 4,
 "nbformat_minor": 2
}
