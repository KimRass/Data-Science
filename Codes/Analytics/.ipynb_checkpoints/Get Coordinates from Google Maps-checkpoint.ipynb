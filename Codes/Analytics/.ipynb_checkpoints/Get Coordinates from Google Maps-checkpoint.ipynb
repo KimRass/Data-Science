{
 "cells": [
  {
   "cell_type": "code",
   "execution_count": 10,
   "metadata": {},
   "outputs": [],
   "source": [
    "import pandas as pd\n",
    "from selenium import webdriver\n",
    "from selenium.webdriver.common.by import By\n",
    "from selenium.webdriver.chrome.options import Options\n",
    "from selenium.webdriver.support.ui import WebDriverWait\n",
    "from selenium.webdriver.support import expected_conditions as EC\n",
    "from collections import deque\n",
    "import time\n",
    "\n",
    "driver = webdriver.Chrome(\"chromedriver.exe\")"
   ]
  },
  {
   "cell_type": "code",
   "execution_count": 11,
   "metadata": {},
   "outputs": [],
   "source": [
    "data = pd.read_excel(\"D:/☆디지털혁신팀/☆실거래가 분석/☆데이터/☆미가공 데이터/cinema.xlsx\", index_col=0)"
   ]
  },
  {
   "cell_type": "code",
   "execution_count": 23,
   "metadata": {},
   "outputs": [],
   "source": [
    "for query in data[\"cinema\"]:\n",
    "    driver.get(\"https://www.google.co.kr/maps/\")\n",
    "    textFields=driver.find_element_by_xpath(\"//*[@id=\"searchboxinput\"]\")\n",
    "    textFields.clear()\n",
    "    textFields.send_keys(query)\n",
    "    \n",
    "    button = driver.find_element_by_xpath(\"//*[@id=\"searchbox-searchbutton\"]\").click()\n",
    "    try:\n",
    "        WebDriverWait(driver, 5).until(EC.presence_of_element_located((By.XPATH, \"//*[@id=\"pane\"]/div/div[1]/div/div/div[5]\")))\n",
    "        time.sleep(2)\n",
    "        url_split = driver.current_url.split(\"@\")[1]\n",
    "        lat = str(float(url_split.split(\",\")[0]) - 0.0000043)\n",
    "        lon = str(float(url_split.split(\",\")[1]) + 0.0021887)\n",
    "        data.loc[data[\"cinema\"] == query, \"lat\"] = lat\n",
    "        data.loc[data[\"cinema\"] == query, \"lon\"] = lon\n",
    "        data.loc[data[\"cinema\"] == query, \"lon, lon\"] = f\"{lat} {lon}\"\n",
    "\n",
    "        data.to_excel(\"D:/☆디지털혁신팀/☆실거래가 분석/☆그래프/google maps crawling.xlsx\", encoding=\"utf-8\")\n",
    "        driver.implicitly_wait(1)\n",
    "    except:\n",
    "        continue"
   ]
  },
  {
   "cell_type": "code",
   "execution_count": 13,
   "metadata": {},
   "outputs": [],
   "source": [
    "data.to_excel(\"D:/☆디지털혁신팀/☆실거래가 분석/☆그래프/google maps crawling.xlsx\", encoding=\"utf-8\")"
   ]
  },
  {
   "cell_type": "code",
   "execution_count": null,
   "metadata": {},
   "outputs": [],
   "source": []
  }
 ],
 "metadata": {
  "kernelspec": {
   "display_name": "Python 3",
   "language": "python",
   "name": "python3"
  },
  "language_info": {
   "codemirror_mode": {
    "name": "ipython",
    "version": 3
   },
   "file_extension": ".py",
   "mimetype": "text/x-python",
   "name": "python",
   "nbconvert_exporter": "python",
   "pygments_lexer": "ipython3",
   "version": "3.7.7"
  }
 },
 "nbformat": 4,
 "nbformat_minor": 2
}
