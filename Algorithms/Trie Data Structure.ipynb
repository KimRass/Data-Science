{
 "cells": [
  {
   "cell_type": "markdown",
   "metadata": {},
   "source": [
    "- Source: https://velog.io/@gojaegaebal/210126-%EA%B0%9C%EB%B0%9C%EC%9D%BC%EC%A7%8050%EC%9D%BC%EC%B0%A8-%ED%8A%B8%EB%9D%BC%EC%9D%B4Trie-%EC%95%8C%EA%B3%A0%EB%A6%AC%EC%A6%98-%EA%B0%9C%EB%85%90-%EB%B0%8F-%ED%8C%8C%EC%9D%B4%EC%8D%AC%EC%97%90%EC%84%9C-%EA%B5%AC%ED%98%84%ED%95%98%EA%B8%B0feat.-Class"
   ]
  },
  {
   "cell_type": "code",
   "execution_count": 42,
   "metadata": {},
   "outputs": [],
   "source": [
    "class Node():\n",
    "    def __init__(self, key, data=None):\n",
    "        self.key = key\n",
    "        self.data = data\n",
    "        self.child = {}\n",
    "        \n",
    "class Trie():\n",
    "    def __init__(self):\n",
    "        self.head = Node(None)\n",
    "    def insert(self, word):\n",
    "        cur_node = self.head\n",
    "        for char in word:\n",
    "            if char not in cur_node.child:\n",
    "                cur_node.child[char] = Node(char)\n",
    "            cur_node = cur_node.child[char]\n",
    "        cur_node.data = word\n",
    "    def search(self, word):\n",
    "        cur_node = self.head\n",
    "        for char in word:\n",
    "            if char in cur_node.child:\n",
    "                cur_node = cur_node.child[char]\n",
    "            else:\n",
    "                return False\n",
    "        if cur_node.data == word:\n",
    "            return True\n",
    "        else:\n",
    "            return False\n",
    "    def startwith(self, word):\n",
    "        cur_node = self.head\n",
    "        for char in word:\n",
    "            if char in cur_node.child:\n",
    "                cur_node = cur_node.child[char]\n",
    "            else:\n",
    "                return None\n",
    "        cur_nodes = [cur_node]\n",
    "        words = list()\n",
    "        next_nodes = list()\n",
    "        while True:\n",
    "            for node in cur_nodes:\n",
    "                if node.data != None:\n",
    "                    words.append(node.data)\n",
    "                next_nodes.extend(list(node.child.values()))\n",
    "            if next_nodes:\n",
    "                cur_nodes = next_nodes\n",
    "                next_nodes = list()\n",
    "            else:\n",
    "                break\n",
    "        return words"
   ]
  }
 ],
 "metadata": {
  "kernelspec": {
   "display_name": "Python 3",
   "language": "python",
   "name": "python3"
  },
  "language_info": {
   "codemirror_mode": {
    "name": "ipython",
    "version": 3
   },
   "file_extension": ".py",
   "mimetype": "text/x-python",
   "name": "python",
   "nbconvert_exporter": "python",
   "pygments_lexer": "ipython3",
   "version": "3.8.5"
  }
 },
 "nbformat": 4,
 "nbformat_minor": 4
}
