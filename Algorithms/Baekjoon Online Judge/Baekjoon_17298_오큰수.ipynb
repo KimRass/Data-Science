{
 "cells": [
  {
   "cell_type": "markdown",
   "metadata": {},
   "source": [
    "Written by KimRass\n",
    "- Source: https://www.acmicpc.net/problem/17298"
   ]
  },
  {
   "cell_type": "markdown",
   "metadata": {},
   "source": [
    "https://www.geeksforgeeks.org/next-greater-element/"
   ]
  },
  {
   "cell_type": "code",
   "execution_count": 16,
   "metadata": {
    "ExecuteTime": {
     "end_time": "2021-10-08T15:17:56.733252Z",
     "start_time": "2021-10-08T15:17:56.724725Z"
    }
   },
   "outputs": [],
   "source": [
    "arr = [3, 5, 2, 7, 3, 11, 5, 7, 4, 11, 31]\n",
    "#      0  1  2  3  4   5  6  7  8   9  10"
   ]
  },
  {
   "cell_type": "code",
   "execution_count": 17,
   "metadata": {
    "ExecuteTime": {
     "end_time": "2021-10-08T15:17:58.237221Z",
     "start_time": "2021-10-08T15:17:58.218759Z"
    }
   },
   "outputs": [
    {
     "name": "stdout",
     "output_type": "stream",
     "text": [
      "5 3\n",
      "7 2\n",
      "11 3\n",
      "7 5\n",
      "11 4\n",
      "31 11\n"
     ]
    }
   ],
   "source": [
    "stack = [0]\n",
    "nges = dict()\n",
    "i = 1\n",
    "while i <= len(arr) - 1:\n",
    "    next = arr[i]\n",
    "    if stack:\n",
    "        if next > arr[stack[-1]]:\n",
    "            print(next, arr[stack[-1]])\n",
    "            nges[stack.pop()] = next\n",
    "            stack.append(i)\n",
    "            i += 1\n",
    "        else:\n",
    "            while :\n",
    "                popped = stack.pop()\n",
    "                \n",
    "            i += 1"
   ]
  },
  {
   "cell_type": "code",
   "execution_count": 18,
   "metadata": {
    "ExecuteTime": {
     "end_time": "2021-10-08T15:17:58.756979Z",
     "start_time": "2021-10-08T15:17:58.741777Z"
    }
   },
   "outputs": [
    {
     "data": {
      "text/plain": [
       "[1, 3, 5, 7, 10]"
      ]
     },
     "execution_count": 18,
     "metadata": {},
     "output_type": "execute_result"
    }
   ],
   "source": [
    "stack"
   ]
  },
  {
   "cell_type": "code",
   "execution_count": 19,
   "metadata": {
    "ExecuteTime": {
     "end_time": "2021-10-08T15:17:59.383313Z",
     "start_time": "2021-10-08T15:17:59.357455Z"
    }
   },
   "outputs": [
    {
     "data": {
      "text/plain": [
       "{0: 5, 2: 7, 4: 11, 6: 7, 8: 11, 9: 31}"
      ]
     },
     "execution_count": 19,
     "metadata": {},
     "output_type": "execute_result"
    }
   ],
   "source": [
    "nges"
   ]
  },
  {
   "cell_type": "code",
   "execution_count": null,
   "metadata": {},
   "outputs": [],
   "source": []
  },
  {
   "cell_type": "code",
   "execution_count": 3,
   "metadata": {
    "ExecuteTime": {
     "end_time": "2021-10-08T07:36:44.550296Z",
     "start_time": "2021-10-08T07:36:44.545310Z"
    }
   },
   "outputs": [],
   "source": [
    "stack = list()\n",
    "j = 0\n",
    "for i in arr:\n",
    "    if i > j:\n",
    "        stack.append(i)\n",
    "    j = i"
   ]
  },
  {
   "cell_type": "code",
   "execution_count": 4,
   "metadata": {
    "ExecuteTime": {
     "end_time": "2021-10-08T07:36:46.549935Z",
     "start_time": "2021-10-08T07:36:46.535956Z"
    }
   },
   "outputs": [
    {
     "data": {
      "text/plain": [
       "[3, 5, 7]"
      ]
     },
     "execution_count": 4,
     "metadata": {},
     "output_type": "execute_result"
    }
   ],
   "source": [
    "stack"
   ]
  },
  {
   "cell_type": "code",
   "execution_count": null,
   "metadata": {},
   "outputs": [],
   "source": []
  }
 ],
 "metadata": {
  "hide_input": false,
  "kernelspec": {
   "display_name": "Python 3",
   "language": "python",
   "name": "python3"
  },
  "language_info": {
   "codemirror_mode": {
    "name": "ipython",
    "version": 3
   },
   "file_extension": ".py",
   "mimetype": "text/x-python",
   "name": "python",
   "nbconvert_exporter": "python",
   "pygments_lexer": "ipython3",
   "version": "3.7.7"
  },
  "toc": {
   "base_numbering": 1,
   "nav_menu": {},
   "number_sections": true,
   "sideBar": true,
   "skip_h1_title": false,
   "title_cell": "Table of Contents",
   "title_sidebar": "Contents",
   "toc_cell": false,
   "toc_position": {},
   "toc_section_display": true,
   "toc_window_display": false
  },
  "varInspector": {
   "cols": {
    "lenName": 16,
    "lenType": 16,
    "lenVar": 40
   },
   "kernels_config": {
    "python": {
     "delete_cmd_postfix": "",
     "delete_cmd_prefix": "del ",
     "library": "var_list.py",
     "varRefreshCmd": "print(var_dic_list())"
    },
    "r": {
     "delete_cmd_postfix": ") ",
     "delete_cmd_prefix": "rm(",
     "library": "var_list.r",
     "varRefreshCmd": "cat(var_dic_list()) "
    }
   },
   "types_to_exclude": [
    "module",
    "function",
    "builtin_function_or_method",
    "instance",
    "_Feature"
   ],
   "window_display": false
  }
 },
 "nbformat": 4,
 "nbformat_minor": 4
}
