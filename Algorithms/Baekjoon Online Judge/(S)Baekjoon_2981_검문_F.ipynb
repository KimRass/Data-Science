{
 "cells": [
  {
   "cell_type": "markdown",
   "metadata": {
    "ExecuteTime": {
     "end_time": "2021-09-21T14:30:46.853270Z",
     "start_time": "2021-09-21T14:30:46.838278Z"
    }
   },
   "source": [
    "Written by KimRass\n",
    "- Source: https://www.acmicpc.net/problem/2981\n",
    "- 별에별 방법을 다 써도 `시간 초과`가 오질라게 뜬다."
   ]
  },
  {
   "cell_type": "code",
   "execution_count": null,
   "metadata": {
    "ExecuteTime": {
     "end_time": "2021-12-15T06:02:19.022863Z",
     "start_time": "2021-12-15T06:02:19.013888Z"
    }
   },
   "outputs": [],
   "source": [
    "import sys\n",
    "\n",
    "def gcd(a, b):\n",
    "    if a >= b:\n",
    "        return b if a%b == 0 else gcd(b, a%b)\n",
    "    else:\n",
    "        return a if b%a == 0 else gcd(a, b%a)\n",
    "\n",
    "N = int(input())\n",
    "arr = list()\n",
    "for _ in range(N):\n",
    "#     arr.append(int(input()))\n",
    "    arr.append(int(sys.stdin.readline().rstrip()))\n",
    "\n",
    "arr = sorted(arr)\n",
    "diffs = [arr[i + 1] - arr[i] for i in range(N - 1)]\n",
    "# diffs = [j - i for i, j in zip(arr, arr[1:])]\n",
    "for _ in range(N - 2):\n",
    "    diffs = [gcd(diffs[i], diffs[i + 1]) for i in range(len(diffs) - 1)]\n",
    "#     diffs = [gcd(i, j) for i, j in zip(diffs, diffs[1:])]\n",
    "    \n",
    "tar = diffs.pop()\n",
    "for i in range(2, tar + 1):\n",
    "    if tar%i == 0:\n",
    "        print(i, end=\" \")"
   ]
  },
  {
   "cell_type": "code",
   "execution_count": 144,
   "metadata": {
    "ExecuteTime": {
     "end_time": "2021-12-15T06:10:01.005548Z",
     "start_time": "2021-12-15T06:10:00.981947Z"
    }
   },
   "outputs": [
    {
     "data": {
      "text/plain": [
       "[2, 4, 2, 2]"
      ]
     },
     "execution_count": 144,
     "metadata": {},
     "output_type": "execute_result"
    }
   ],
   "source": [
    "ans"
   ]
  },
  {
   "cell_type": "code",
   "execution_count": null,
   "metadata": {},
   "outputs": [],
   "source": []
  },
  {
   "cell_type": "code",
   "execution_count": null,
   "metadata": {},
   "outputs": [],
   "source": []
  },
  {
   "cell_type": "code",
   "execution_count": 127,
   "metadata": {
    "ExecuteTime": {
     "end_time": "2021-12-15T05:49:32.277724Z",
     "start_time": "2021-12-15T05:49:32.253676Z"
    }
   },
   "outputs": [
    {
     "data": {
      "text/plain": [
       "[4]"
      ]
     },
     "execution_count": 127,
     "metadata": {},
     "output_type": "execute_result"
    }
   ],
   "source": [
    "diffs"
   ]
  },
  {
   "cell_type": "code",
   "execution_count": 125,
   "metadata": {
    "ExecuteTime": {
     "end_time": "2021-12-15T05:49:09.489552Z",
     "start_time": "2021-12-15T05:49:09.470602Z"
    }
   },
   "outputs": [
    {
     "data": {
      "text/plain": [
       "[3]"
      ]
     },
     "execution_count": 125,
     "metadata": {},
     "output_type": "execute_result"
    }
   ],
   "source": [
    "diffs"
   ]
  },
  {
   "cell_type": "code",
   "execution_count": 123,
   "metadata": {
    "ExecuteTime": {
     "end_time": "2021-12-15T05:48:55.134058Z",
     "start_time": "2021-12-15T05:48:55.124966Z"
    }
   },
   "outputs": [
    {
     "data": {
      "text/plain": [
       "3"
      ]
     },
     "execution_count": 123,
     "metadata": {},
     "output_type": "execute_result"
    }
   ],
   "source": [
    "gcd(diffs[i], diffs[i + 1])"
   ]
  },
  {
   "cell_type": "code",
   "execution_count": 113,
   "metadata": {
    "ExecuteTime": {
     "end_time": "2021-12-15T05:41:24.577750Z",
     "start_time": "2021-12-15T05:41:24.553814Z"
    }
   },
   "outputs": [
    {
     "data": {
      "text/plain": [
       "1"
      ]
     },
     "execution_count": 113,
     "metadata": {},
     "output_type": "execute_result"
    }
   ],
   "source": [
    "gcd(83, 17)"
   ]
  },
  {
   "cell_type": "code",
   "execution_count": null,
   "metadata": {},
   "outputs": [],
   "source": []
  },
  {
   "cell_type": "code",
   "execution_count": null,
   "metadata": {},
   "outputs": [],
   "source": []
  },
  {
   "cell_type": "code",
   "execution_count": null,
   "metadata": {},
   "outputs": [],
   "source": []
  },
  {
   "cell_type": "code",
   "execution_count": null,
   "metadata": {},
   "outputs": [],
   "source": []
  },
  {
   "cell_type": "code",
   "execution_count": 108,
   "metadata": {
    "ExecuteTime": {
     "end_time": "2021-12-15T05:11:35.663074Z",
     "start_time": "2021-12-15T05:11:33.526425Z"
    }
   },
   "outputs": [
    {
     "name": "stdout",
     "output_type": "stream",
     "text": [
      "2\n",
      "6\n",
      "802\n",
      "2 4 199 398 796 "
     ]
    }
   ],
   "source": [
    "import sys\n",
    "\n",
    "N = int(input())\n",
    "arr = list()\n",
    "for _ in range(N):\n",
    "#     arr.append(int(input()))\n",
    "    arr.append(int(sys.stdin.readline().rstrip()))\n",
    "\n",
    "arr = sorted(arr)\n",
    "diffs = [arr[i + 1] - arr[i] for i in range(N - 1)]\n",
    "\n",
    "is_continue = False\n",
    "for i in range(2, min(diffs) + 1):\n",
    "    tar = arr[0]%i\n",
    "    for j in arr[1:]:\n",
    "        if j%i != tar:\n",
    "            is_continue = True\n",
    "            break\n",
    "    if is_continue == True:\n",
    "        is_continue = False\n",
    "        continue\n",
    "    else:\n",
    "        print(i, end=\" \")"
   ]
  },
  {
   "cell_type": "code",
   "execution_count": null,
   "metadata": {},
   "outputs": [],
   "source": [
    "2\n",
    "6\n",
    "802\n",
    ": 2 4 398"
   ]
  },
  {
   "cell_type": "code",
   "execution_count": 107,
   "metadata": {
    "ExecuteTime": {
     "end_time": "2021-12-15T05:10:06.690957Z",
     "start_time": "2021-12-15T05:10:06.667022Z"
    }
   },
   "outputs": [
    {
     "name": "stdout",
     "output_type": "stream",
     "text": [
      "6\n",
      "6\n"
     ]
    }
   ],
   "source": [
    "print(6%398)\n",
    "print(802%398)"
   ]
  },
  {
   "cell_type": "code",
   "execution_count": null,
   "metadata": {},
   "outputs": [],
   "source": []
  },
  {
   "cell_type": "code",
   "execution_count": 95,
   "metadata": {
    "ExecuteTime": {
     "end_time": "2021-12-15T05:08:56.519626Z",
     "start_time": "2021-12-15T05:08:56.504691Z"
    }
   },
   "outputs": [
    {
     "data": {
      "text/plain": [
       "796"
      ]
     },
     "execution_count": 95,
     "metadata": {},
     "output_type": "execute_result"
    }
   ],
   "source": [
    "802 - 6"
   ]
  },
  {
   "cell_type": "code",
   "execution_count": 104,
   "metadata": {
    "ExecuteTime": {
     "end_time": "2021-12-15T05:09:38.340207Z",
     "start_time": "2021-12-15T05:09:38.335238Z"
    }
   },
   "outputs": [
    {
     "data": {
      "text/plain": [
       "398"
      ]
     },
     "execution_count": 104,
     "metadata": {},
     "output_type": "execute_result"
    }
   ],
   "source": [
    "796//2"
   ]
  },
  {
   "cell_type": "code",
   "execution_count": null,
   "metadata": {},
   "outputs": [],
   "source": []
  },
  {
   "cell_type": "code",
   "execution_count": 93,
   "metadata": {
    "ExecuteTime": {
     "end_time": "2021-12-15T04:56:09.743338Z",
     "start_time": "2021-12-15T04:56:07.001509Z"
    }
   },
   "outputs": [
    {
     "name": "stdout",
     "output_type": "stream",
     "text": [
      "3\n",
      "6\n",
      "34\n",
      "38\n",
      "2 4 "
     ]
    }
   ],
   "source": [
    "import sys\n",
    "\n",
    "N = int(input())\n",
    "arr = list()\n",
    "for _ in range(N):\n",
    "    arr.append(int(input()))\n",
    "\n",
    "arr = sorted(arr)\n",
    "diffs = [arr[i + 1] - arr[i] for i in range(N - 1)]\n",
    "\n",
    "minim = min(diffs)\n",
    "for i in range(2, minim + 1):\n",
    "    if minim%i == 0:\n",
    "        print(i, end=\" \")"
   ]
  },
  {
   "cell_type": "code",
   "execution_count": null,
   "metadata": {},
   "outputs": [],
   "source": [
    "[5 14 17 23 83]\n",
    "[3 12 15 21 81]"
   ]
  },
  {
   "cell_type": "code",
   "execution_count": null,
   "metadata": {},
   "outputs": [],
   "source": [
    "[5 14 17 23 83]\n",
    "[3 6 9 60]의 공약수\n",
    "[3 3 51]\n",
    "[0 48]"
   ]
  },
  {
   "cell_type": "code",
   "execution_count": null,
   "metadata": {},
   "outputs": [],
   "source": []
  },
  {
   "cell_type": "code",
   "execution_count": 94,
   "metadata": {
    "ExecuteTime": {
     "end_time": "2021-12-15T04:56:10.628814Z",
     "start_time": "2021-12-15T04:56:10.610831Z"
    }
   },
   "outputs": [
    {
     "data": {
      "text/plain": [
       "[28, 4]"
      ]
     },
     "execution_count": 94,
     "metadata": {},
     "output_type": "execute_result"
    }
   ],
   "source": [
    "diffs"
   ]
  },
  {
   "cell_type": "code",
   "execution_count": null,
   "metadata": {},
   "outputs": [],
   "source": []
  },
  {
   "cell_type": "code",
   "execution_count": null,
   "metadata": {},
   "outputs": [],
   "source": []
  },
  {
   "cell_type": "code",
   "execution_count": null,
   "metadata": {},
   "outputs": [],
   "source": []
  },
  {
   "cell_type": "code",
   "execution_count": null,
   "metadata": {
    "ExecuteTime": {
     "end_time": "2021-12-14T16:34:51.034597Z",
     "start_time": "2021-12-14T16:34:47.581984Z"
    }
   },
   "outputs": [],
   "source": [
    "import sys\n",
    "\n",
    "N = int(input())\n",
    "arr = list()\n",
    "for _ in range(N):\n",
    "#     arr.append(int(input()))\n",
    "    arr.append(int(sys.stdin.readline().rstrip()))\n",
    "\n",
    "arr = sorted(arr)\n",
    "diffs = [arr[i + 1] - arr[i] for i in range(N - 1)]\n",
    "\n",
    "for i in range(2, min(diffs) + 1):\n",
    "    for j in diffs:\n",
    "        if j%i != 0:\n",
    "            break\n",
    "    else:\n",
    "        print(i, end=\" \")"
   ]
  },
  {
   "cell_type": "code",
   "execution_count": 76,
   "metadata": {
    "ExecuteTime": {
     "end_time": "2021-12-14T16:28:23.260071Z",
     "start_time": "2021-12-14T16:28:23.231508Z"
    }
   },
   "outputs": [
    {
     "data": {
      "text/plain": [
       "[2, 3, 6]"
      ]
     },
     "execution_count": 76,
     "metadata": {},
     "output_type": "execute_result"
    }
   ],
   "source": [
    "ans"
   ]
  },
  {
   "cell_type": "code",
   "execution_count": 69,
   "metadata": {
    "ExecuteTime": {
     "end_time": "2021-12-14T16:26:06.633251Z",
     "start_time": "2021-12-14T16:26:06.621311Z"
    }
   },
   "outputs": [
    {
     "data": {
      "text/plain": [
       "[12, 66]"
      ]
     },
     "execution_count": 69,
     "metadata": {},
     "output_type": "execute_result"
    }
   ],
   "source": [
    "changes"
   ]
  },
  {
   "cell_type": "code",
   "execution_count": null,
   "metadata": {},
   "outputs": [],
   "source": [
    "12 66\n",
    "12 54\n",
    "12 42\n",
    "12 30\n",
    "12 18\n",
    "6 12\n",
    "6 6"
   ]
  },
  {
   "cell_type": "code",
   "execution_count": null,
   "metadata": {},
   "outputs": [],
   "source": []
  },
  {
   "cell_type": "code",
   "execution_count": 64,
   "metadata": {
    "ExecuteTime": {
     "end_time": "2021-12-14T16:20:33.861447Z",
     "start_time": "2021-12-14T16:20:30.074542Z"
    }
   },
   "outputs": [
    {
     "name": "stdout",
     "output_type": "stream",
     "text": [
      "3\n",
      "5\n",
      "17\n",
      "83\n",
      "2 3 4 6 12\n"
     ]
    }
   ],
   "source": [
    "import sys\n",
    "\n",
    "N = int(input())\n",
    "arr = list()\n",
    "for _ in range(N):\n",
    "    arr.append(int(input()))\n",
    "\n",
    "arr = sorted(arr)\n",
    "changes = sorted([j - i for i, j in zip(arr, arr[1:])])\n",
    "minim = changes[0]\n",
    "\n",
    "ans = list()\n",
    "for i in range(2, minim + 1):\n",
    "    if minim%i == 0:\n",
    "        ans.append(i)\n",
    "        \n",
    "print(*ans)"
   ]
  },
  {
   "cell_type": "code",
   "execution_count": 65,
   "metadata": {
    "ExecuteTime": {
     "end_time": "2021-12-14T16:22:12.032674Z",
     "start_time": "2021-12-14T16:22:12.017700Z"
    }
   },
   "outputs": [
    {
     "name": "stdout",
     "output_type": "stream",
     "text": [
      "2\n",
      "3\n",
      "6\n"
     ]
    }
   ],
   "source": [
    "for i in range(2, 1000):\n",
    "    if arr[1]%i == arr[0]%i and arr[2]%i == arr[0]%i:\n",
    "        print(i)"
   ]
  },
  {
   "cell_type": "code",
   "execution_count": null,
   "metadata": {},
   "outputs": [],
   "source": []
  },
  {
   "cell_type": "code",
   "execution_count": 51,
   "metadata": {
    "ExecuteTime": {
     "end_time": "2021-12-14T16:15:11.400780Z",
     "start_time": "2021-12-14T16:15:11.369966Z"
    }
   },
   "outputs": [],
   "source": [
    "primes = {i for i in range(2, minim + 1)}\n",
    "for i in range(2, int(minim**0.5) + 1):\n",
    "    if i in primes:\n",
    "        primes -= {j for j in range(2*i, minim + 1, i)}\n",
    "        \n",
    "ans = list()\n",
    "for i in primes:\n",
    "    if minim%i == 0:\n",
    "        ans.append(i)"
   ]
  },
  {
   "cell_type": "code",
   "execution_count": 52,
   "metadata": {
    "ExecuteTime": {
     "end_time": "2021-12-14T16:15:12.743258Z",
     "start_time": "2021-12-14T16:15:12.730259Z"
    }
   },
   "outputs": [
    {
     "data": {
      "text/plain": [
       "[2]"
      ]
     },
     "execution_count": 52,
     "metadata": {},
     "output_type": "execute_result"
    }
   ],
   "source": [
    "ans"
   ]
  },
  {
   "cell_type": "code",
   "execution_count": null,
   "metadata": {},
   "outputs": [],
   "source": []
  },
  {
   "cell_type": "code",
   "execution_count": null,
   "metadata": {},
   "outputs": [],
   "source": []
  },
  {
   "cell_type": "code",
   "execution_count": null,
   "metadata": {},
   "outputs": [],
   "source": []
  },
  {
   "cell_type": "code",
   "execution_count": 32,
   "metadata": {
    "ExecuteTime": {
     "end_time": "2021-12-14T16:06:48.869205Z",
     "start_time": "2021-12-14T16:06:44.498030Z"
    }
   },
   "outputs": [
    {
     "name": "stdout",
     "output_type": "stream",
     "text": [
      "2\n",
      "5\n",
      "17\n"
     ]
    }
   ],
   "source": [
    "import sys\n",
    "\n",
    "N = int(input())\n",
    "arr = list()\n",
    "for _ in range(N):\n",
    "#     arr.append(int(input()))\n",
    "    arr.append(int(sys.stdin.readline().rstrip()))\n",
    "\n",
    "arr = sorted(arr)\n",
    "maxim = arr[-1]\n",
    "\n",
    "is_continue = False\n",
    "ans = list()\n",
    "for i in range(2, maxim + 1):\n",
    "    tar = arr[0]%i\n",
    "    for j in arr[1:]:\n",
    "        if j%i != tar:\n",
    "            is_continue = True\n",
    "            break\n",
    "    if is_continue == True:\n",
    "        is_continue = False\n",
    "        continue\n",
    "    else:\n",
    "        ans.append(i)\n",
    "    \n",
    "print(*ans)"
   ]
  },
  {
   "cell_type": "code",
   "execution_count": 35,
   "metadata": {
    "ExecuteTime": {
     "end_time": "2021-12-14T16:08:26.916917Z",
     "start_time": "2021-12-14T16:08:26.901683Z"
    }
   },
   "outputs": [
    {
     "data": {
      "text/plain": [
       "17"
      ]
     },
     "execution_count": 35,
     "metadata": {},
     "output_type": "execute_result"
    }
   ],
   "source": [
    "maxim"
   ]
  },
  {
   "cell_type": "code",
   "execution_count": null,
   "metadata": {},
   "outputs": [],
   "source": []
  },
  {
   "cell_type": "code",
   "execution_count": 18,
   "metadata": {
    "ExecuteTime": {
     "end_time": "2021-12-14T15:56:54.403843Z",
     "start_time": "2021-12-14T15:56:54.387920Z"
    }
   },
   "outputs": [
    {
     "data": {
      "text/plain": [
       "34"
      ]
     },
     "execution_count": 18,
     "metadata": {},
     "output_type": "execute_result"
    }
   ],
   "source": [
    "j"
   ]
  },
  {
   "cell_type": "code",
   "execution_count": null,
   "metadata": {},
   "outputs": [],
   "source": [
    "\n"
   ]
  }
 ],
 "metadata": {
  "hide_input": false,
  "kernelspec": {
   "display_name": "Python 3",
   "language": "python",
   "name": "python3"
  },
  "language_info": {
   "codemirror_mode": {
    "name": "ipython",
    "version": 3
   },
   "file_extension": ".py",
   "mimetype": "text/x-python",
   "name": "python",
   "nbconvert_exporter": "python",
   "pygments_lexer": "ipython3",
   "version": "3.8.5"
  },
  "toc": {
   "base_numbering": 1,
   "nav_menu": {},
   "number_sections": true,
   "sideBar": true,
   "skip_h1_title": false,
   "title_cell": "Table of Contents",
   "title_sidebar": "Contents",
   "toc_cell": false,
   "toc_position": {},
   "toc_section_display": true,
   "toc_window_display": false
  },
  "varInspector": {
   "cols": {
    "lenName": 16,
    "lenType": 16,
    "lenVar": 40
   },
   "kernels_config": {
    "python": {
     "delete_cmd_postfix": "",
     "delete_cmd_prefix": "del ",
     "library": "var_list.py",
     "varRefreshCmd": "print(var_dic_list())"
    },
    "r": {
     "delete_cmd_postfix": ") ",
     "delete_cmd_prefix": "rm(",
     "library": "var_list.r",
     "varRefreshCmd": "cat(var_dic_list()) "
    }
   },
   "types_to_exclude": [
    "module",
    "function",
    "builtin_function_or_method",
    "instance",
    "_Feature"
   ],
   "window_display": false
  }
 },
 "nbformat": 4,
 "nbformat_minor": 4
}
