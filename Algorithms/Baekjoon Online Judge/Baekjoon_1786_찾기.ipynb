{
 "cells": [
  {
   "cell_type": "markdown",
   "metadata": {},
   "source": [
    "Written by KimRass\n",
    "- Source: https://www.acmicpc.net/problem/1786"
   ]
  },
  {
   "cell_type": "markdown",
   "metadata": {},
   "source": [
    "https://devbull.xyz/python-kmp-algorijeumeuro-munjayeol-cajgi/"
   ]
  },
  {
   "cell_type": "code",
   "execution_count": 22,
   "metadata": {
    "ExecuteTime": {
     "end_time": "2021-11-24T08:19:04.655862Z",
     "start_time": "2021-11-24T08:19:04.645889Z"
    }
   },
   "outputs": [],
   "source": [
    "# s = input()\n",
    "# p = input()\n",
    "s = \"AXAXXAXX\"\n",
    "p = \"AXAXX\""
   ]
  },
  {
   "cell_type": "code",
   "execution_count": null,
   "metadata": {},
   "outputs": [],
   "source": [
    "# 길이가 `leng`이 되도록 `s`를 앞에서부터 잘라 만든 문자열의 LPS는 `i + 1`입니다.\n",
    "# LPS of substring with length `leng` is equal to `i + 1`"
   ]
  },
  {
   "cell_type": "code",
   "execution_count": 57,
   "metadata": {
    "ExecuteTime": {
     "end_time": "2021-11-24T09:59:28.259798Z",
     "start_time": "2021-11-24T09:59:28.255808Z"
    }
   },
   "outputs": [],
   "source": [
    "p = \"ABXAB\""
   ]
  },
  {
   "cell_type": "code",
   "execution_count": 65,
   "metadata": {
    "ExecuteTime": {
     "end_time": "2021-11-24T10:12:19.592082Z",
     "start_time": "2021-11-24T10:12:19.582102Z"
    }
   },
   "outputs": [
    {
     "name": "stdout",
     "output_type": "stream",
     "text": [
      "2 1 B A {1: 0, 2: 0, 3: 0, 4: 0, 5: 0}\n",
      "3 1 X A {1: 0, 2: 0, 3: 0, 4: 0, 5: 0}\n",
      "4 1 A A {1: 0, 2: 0, 3: 0, 4: 0, 5: 0}\n",
      "5 2 B B {1: 0, 2: 0, 3: 0, 4: 1, 5: 0}\n"
     ]
    },
    {
     "data": {
      "text/plain": [
       "{1: 0, 2: 0, 3: 0, 4: 1, 5: 2}"
      ]
     },
     "execution_count": 65,
     "metadata": {},
     "output_type": "execute_result"
    }
   ],
   "source": [
    "failure_func = {i:0 for i in range(1, len(p) + 1)}\n",
    "leng1 = 2 # length of the prefix of pattern `p`\n",
    "leng2 = 1 # length of the previous LPS\n",
    "while leng1 <= len(p):\n",
    "    print(leng1, leng2, p[leng1 - 1], p[leng2 - 1], failure_func)\n",
    "#     print(leng2 - 1, leng1 - 1, p[leng2 - 1], p[leng1 - 1])\n",
    "    # `leng2`의 마지막 문자 `p[leng2 - 1]`가 길이 `leng1`인 접두어의 마지막 문자 `p[leng1 - 1]`과 같다면\n",
    "    if p[leng1 - 1] == p[leng2 - 1]:\n",
    "        # 이 접두어의 `failure_func` 값을 `leng2`로 갱신하고\n",
    "        failure_func[leng1] = leng2\n",
    "        # 다음 문자에 대해서도 동일한 계산을 하기 위해 `leng2`와 `leng1`을 각각 1씩 증가시킵니다.\n",
    "        leng1 += 1\n",
    "        leng2 += 1\n",
    "    else:\n",
    "        # 이전 인덱스에서는 같았다면\n",
    "        if leng2 != 1:\n",
    "            leng2 = failure_func[leng2 - 2] + 1\n",
    "            leng1 += 1\n",
    "        # 접두사와 접미사 각각의 첫 번째 문자에서부터 서로 일치하지 않는다면\n",
    "        else:\n",
    "            # 패턴의 부분문자열의 길이를 1 증가시킵니다.\n",
    "            leng1 += 1\n",
    "            \n",
    "failure_func"
   ]
  },
  {
   "cell_type": "code",
   "execution_count": 29,
   "metadata": {
    "ExecuteTime": {
     "end_time": "2021-11-24T08:22:11.473027Z",
     "start_time": "2021-11-24T08:22:11.469038Z"
    }
   },
   "outputs": [
    {
     "name": "stdout",
     "output_type": "stream",
     "text": [
      "AXAXXAXX\n",
      "AXAXX\n"
     ]
    }
   ],
   "source": [
    "print(s)\n",
    "print(p)"
   ]
  },
  {
   "cell_type": "code",
   "execution_count": 30,
   "metadata": {
    "ExecuteTime": {
     "end_time": "2021-11-24T08:31:59.468829Z",
     "start_time": "2021-11-24T08:31:59.464867Z"
    }
   },
   "outputs": [
    {
     "data": {
      "text/plain": [
       "{0: 0, 1: 0, 2: 1, 3: 2, 4: 0}"
      ]
     },
     "execution_count": 30,
     "metadata": {},
     "output_type": "execute_result"
    }
   ],
   "source": [
    "lps"
   ]
  },
  {
   "cell_type": "code",
   "execution_count": 28,
   "metadata": {
    "ExecuteTime": {
     "end_time": "2021-11-24T08:21:49.496826Z",
     "start_time": "2021-11-24T08:21:49.486881Z"
    }
   },
   "outputs": [
    {
     "name": "stdout",
     "output_type": "stream",
     "text": [
      "0 0 A A\n",
      "1 1 X X\n",
      "2 2 A A\n",
      "3 3 X X\n",
      "4 4 X X\n",
      "4 5 X A\n",
      "2 5 A A\n",
      "3 6 X X\n",
      "4 7 X X\n"
     ]
    }
   ],
   "source": [
    "i = 0\n",
    "j = 0\n",
    "ans = list()\n",
    "while i < len(p) and j < len(s):\n",
    "    print(i, j, p[i], s[j])\n",
    "    if p[i] == s[j]:\n",
    "        if i == len(p) - 1:\n",
    "            ans.append(j - len(p) + 2)\n",
    "#             print(j + 1, j - len(p) + 2)\n",
    "            j += 1\n",
    "        else:\n",
    "            i += 1\n",
    "            j += 1\n",
    "    else:\n",
    "        if i == 0:\n",
    "            j += 1\n",
    "        else:\n",
    "            i = lps[i - 1]\n",
    "            \n",
    "# print(len(ans))\n",
    "# for i in ans:\n",
    "#     print(i, end=\" \")"
   ]
  },
  {
   "cell_type": "code",
   "execution_count": null,
   "metadata": {},
   "outputs": [],
   "source": [
    "acbacbc*abcabacbacbcabacbc*abc*abcabacbc*abcab"
   ]
  },
  {
   "cell_type": "code",
   "execution_count": 19,
   "metadata": {
    "ExecuteTime": {
     "end_time": "2021-11-24T07:38:07.368471Z",
     "start_time": "2021-11-24T07:38:07.361491Z"
    }
   },
   "outputs": [
    {
     "data": {
      "text/plain": [
       "[8, 26, 29, 38]"
      ]
     },
     "execution_count": 19,
     "metadata": {},
     "output_type": "execute_result"
    }
   ],
   "source": [
    "ans"
   ]
  },
  {
   "cell_type": "code",
   "execution_count": 12,
   "metadata": {
    "ExecuteTime": {
     "end_time": "2021-11-24T07:22:36.297436Z",
     "start_time": "2021-11-24T07:22:36.292450Z"
    }
   },
   "outputs": [
    {
     "data": {
      "text/plain": [
       "16"
      ]
     },
     "execution_count": 12,
     "metadata": {},
     "output_type": "execute_result"
    }
   ],
   "source": [
    "j - len(p)"
   ]
  }
 ],
 "metadata": {
  "hide_input": false,
  "kernelspec": {
   "display_name": "Python 3",
   "language": "python",
   "name": "python3"
  },
  "language_info": {
   "codemirror_mode": {
    "name": "ipython",
    "version": 3
   },
   "file_extension": ".py",
   "mimetype": "text/x-python",
   "name": "python",
   "nbconvert_exporter": "python",
   "pygments_lexer": "ipython3",
   "version": "3.7.7"
  },
  "toc": {
   "base_numbering": 1,
   "nav_menu": {},
   "number_sections": true,
   "sideBar": true,
   "skip_h1_title": false,
   "title_cell": "Table of Contents",
   "title_sidebar": "Contents",
   "toc_cell": false,
   "toc_position": {},
   "toc_section_display": true,
   "toc_window_display": false
  },
  "varInspector": {
   "cols": {
    "lenName": 16,
    "lenType": 16,
    "lenVar": 40
   },
   "kernels_config": {
    "python": {
     "delete_cmd_postfix": "",
     "delete_cmd_prefix": "del ",
     "library": "var_list.py",
     "varRefreshCmd": "print(var_dic_list())"
    },
    "r": {
     "delete_cmd_postfix": ") ",
     "delete_cmd_prefix": "rm(",
     "library": "var_list.r",
     "varRefreshCmd": "cat(var_dic_list()) "
    }
   },
   "types_to_exclude": [
    "module",
    "function",
    "builtin_function_or_method",
    "instance",
    "_Feature"
   ],
   "window_display": false
  }
 },
 "nbformat": 4,
 "nbformat_minor": 4
}
