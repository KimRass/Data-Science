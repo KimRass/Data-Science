{
 "cells": [
  {
   "cell_type": "markdown",
   "metadata": {},
   "source": [
    "Written by KimRass\n",
    "- Source: https://www.acmicpc.net/problem/2004"
   ]
  },
  {
   "cell_type": "code",
   "execution_count": null,
   "metadata": {},
   "outputs": [],
   "source": [
    "200000000 100000000"
   ]
  },
  {
   "cell_type": "code",
   "execution_count": 156,
   "metadata": {
    "ExecuteTime": {
     "end_time": "2021-12-12T06:35:25.888615Z",
     "start_time": "2021-12-12T06:35:02.806408Z"
    }
   },
   "outputs": [
    {
     "name": "stdout",
     "output_type": "stream",
     "text": [
      "200000000 100000000\n",
      "0\n"
     ]
    }
   ],
   "source": [
    "n, m = list(map(int, input().split()))\n",
    "\n",
    "square_nums = [5**i for i in range(1, 14)]\n",
    "\n",
    "cnt = 0\n",
    "for i in range(((n - m + 1)//5 + 1)*5, n + 1, 5):\n",
    "    j = 0\n",
    "    while i%square_nums[j] == 0:\n",
    "        j += 1\n",
    "    cnt += j\n",
    "\n",
    "for i in range(5, m + 1, 5):\n",
    "    j = 0\n",
    "    while i%square_nums[j] == 0:\n",
    "        j += 1\n",
    "    cnt -= j\n",
    "    \n",
    "print(cnt)"
   ]
  },
  {
   "cell_type": "code",
   "execution_count": 103,
   "metadata": {
    "ExecuteTime": {
     "end_time": "2021-12-12T06:22:00.317972Z",
     "start_time": "2021-12-12T06:22:00.294717Z"
    }
   },
   "outputs": [
    {
     "data": {
      "text/plain": [
       "5423098455153724482548711441505497952"
      ]
     },
     "execution_count": 103,
     "metadata": {},
     "output_type": "execute_result"
    }
   ],
   "source": [
    "math.factorial(n)//math.factorial(m)//math.factorial(n - m)"
   ]
  },
  {
   "cell_type": "code",
   "execution_count": 32,
   "metadata": {
    "ExecuteTime": {
     "end_time": "2021-12-12T05:52:24.187679Z",
     "start_time": "2021-12-12T05:50:27.641844Z"
    }
   },
   "outputs": [
    {
     "name": "stdout",
     "output_type": "stream",
     "text": [
      "2000000000 1000000000\n"
     ]
    },
    {
     "ename": "KeyboardInterrupt",
     "evalue": "",
     "output_type": "error",
     "traceback": [
      "\u001b[1;31m---------------------------------------------------------------------------\u001b[0m",
      "\u001b[1;31mKeyboardInterrupt\u001b[0m                         Traceback (most recent call last)",
      "\u001b[1;32m<ipython-input-32-e7f66a06ef60>\u001b[0m in \u001b[0;36m<module>\u001b[1;34m\u001b[0m\n\u001b[0;32m     12\u001b[0m     \u001b[1;32mwhile\u001b[0m \u001b[0mi\u001b[0m\u001b[1;33m%\u001b[0m\u001b[1;36m5\u001b[0m \u001b[1;33m==\u001b[0m \u001b[1;36m0\u001b[0m\u001b[1;33m:\u001b[0m\u001b[1;33m\u001b[0m\u001b[1;33m\u001b[0m\u001b[0m\n\u001b[0;32m     13\u001b[0m         \u001b[0mi\u001b[0m \u001b[1;33m//=\u001b[0m \u001b[1;36m5\u001b[0m\u001b[1;33m\u001b[0m\u001b[1;33m\u001b[0m\u001b[0m\n\u001b[1;32m---> 14\u001b[1;33m         \u001b[0ma\u001b[0m \u001b[1;33m-=\u001b[0m \u001b[1;36m1\u001b[0m\u001b[1;33m\u001b[0m\u001b[1;33m\u001b[0m\u001b[0m\n\u001b[0m\u001b[0;32m     15\u001b[0m \u001b[1;33m\u001b[0m\u001b[0m\n\u001b[0;32m     16\u001b[0m \u001b[0mprint\u001b[0m\u001b[1;33m(\u001b[0m\u001b[0ma\u001b[0m\u001b[1;33m)\u001b[0m\u001b[1;33m\u001b[0m\u001b[1;33m\u001b[0m\u001b[0m\n",
      "\u001b[1;31mKeyboardInterrupt\u001b[0m: "
     ]
    }
   ],
   "source": [
    "n, m = list(map(int, input().split()))\n",
    "\n",
    "a = 0\n",
    "for i in range((n//5)*5, n - m, -5):\n",
    "    while i%5 == 0:\n",
    "        i //= 5\n",
    "        a += 1\n",
    "for i in range(5, m + 1, 5):\n",
    "    while i%5 == 0:\n",
    "        i //= 5\n",
    "        a -= 1\n",
    "\n",
    "print(a)"
   ]
  },
  {
   "cell_type": "code",
   "execution_count": 21,
   "metadata": {
    "ExecuteTime": {
     "end_time": "2021-12-12T05:41:58.134834Z",
     "start_time": "2021-12-12T05:41:54.310572Z"
    }
   },
   "outputs": [
    {
     "name": "stdout",
     "output_type": "stream",
     "text": [
      "543234123 31244\n",
      "5\n"
     ]
    }
   ],
   "source": [
    "import math\n",
    "\n",
    "n, m = list(map(int, input().split()))\n",
    "\n",
    "# a = 0\n",
    "b = 0\n",
    "for i in range(n, n - m, -1):\n",
    "    while i%5 == 0:\n",
    "        b += 1\n",
    "        i //= 5\n",
    "#     while i%2 == 0:\n",
    "#         a += 1\n",
    "#         i //= 2\n",
    "#     print(a, b)\n",
    "for i in range(1, m + 1):\n",
    "    while i%5 == 0:\n",
    "        b -= 1\n",
    "        i //= 5\n",
    "#     while i%2 == 0:\n",
    "#         a -= 1\n",
    "#         i //= 2\n",
    "\n",
    "# print(min(a, b))\n",
    "print(b)"
   ]
  }
 ],
 "metadata": {
  "hide_input": false,
  "kernelspec": {
   "display_name": "Python 3",
   "language": "python",
   "name": "python3"
  },
  "language_info": {
   "codemirror_mode": {
    "name": "ipython",
    "version": 3
   },
   "file_extension": ".py",
   "mimetype": "text/x-python",
   "name": "python",
   "nbconvert_exporter": "python",
   "pygments_lexer": "ipython3",
   "version": "3.8.5"
  },
  "toc": {
   "base_numbering": 1,
   "nav_menu": {},
   "number_sections": true,
   "sideBar": true,
   "skip_h1_title": false,
   "title_cell": "Table of Contents",
   "title_sidebar": "Contents",
   "toc_cell": false,
   "toc_position": {},
   "toc_section_display": true,
   "toc_window_display": false
  },
  "varInspector": {
   "cols": {
    "lenName": 16,
    "lenType": 16,
    "lenVar": 40
   },
   "kernels_config": {
    "python": {
     "delete_cmd_postfix": "",
     "delete_cmd_prefix": "del ",
     "library": "var_list.py",
     "varRefreshCmd": "print(var_dic_list())"
    },
    "r": {
     "delete_cmd_postfix": ") ",
     "delete_cmd_prefix": "rm(",
     "library": "var_list.r",
     "varRefreshCmd": "cat(var_dic_list()) "
    }
   },
   "types_to_exclude": [
    "module",
    "function",
    "builtin_function_or_method",
    "instance",
    "_Feature"
   ],
   "window_display": false
  }
 },
 "nbformat": 4,
 "nbformat_minor": 4
}
