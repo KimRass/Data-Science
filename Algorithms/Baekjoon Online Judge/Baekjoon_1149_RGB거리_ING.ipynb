{
 "cells": [
  {
   "cell_type": "markdown",
   "metadata": {},
   "source": [
    "Written by KimRass\n",
    "- Source: https://www.acmicpc.net/problem/1149"
   ]
  },
  {
   "cell_type": "code",
   "execution_count": 54,
   "metadata": {
    "ExecuteTime": {
     "end_time": "2021-10-22T14:24:13.516388Z",
     "start_time": "2021-10-22T14:23:47.236938Z"
    }
   },
   "outputs": [
    {
     "name": "stdout",
     "output_type": "stream",
     "text": [
      "8\n",
      "71 39 44\n",
      "32 83 55\n",
      "51 37 63\n",
      "89 29 100\n",
      "83 58 11\n",
      "65 13 15\n",
      "47 25 29\n",
      "60 66 19\n",
      "253\n"
     ]
    }
   ],
   "source": [
    "N = int(input())\n",
    "arr = list()\n",
    "for _ in range(N):\n",
    "    arr.append(list(map(int, input().split())))\n",
    "\n",
    "mem = dict()\n",
    "def func(i, j):\n",
    "    if (i, j) not in mem:\n",
    "        if i == 0:\n",
    "            mem[(i, j)] = arr[i][j]\n",
    "        else:\n",
    "            if j == 0:\n",
    "                mem[(i, j)] = min(func(i - 1, 1), func(i - 1, 2)) + arr[i][0]\n",
    "            elif j == 1:\n",
    "                mem[(i, j)] = min(func(i - 1, 2), func(i - 1, 0)) + arr[i][1]\n",
    "            else:\n",
    "                mem[(i, j)] = min(func(i - 1, 0), func(i - 1, 1)) + arr[i][2]\n",
    "    return mem[(i, j)]\n",
    "\n",
    "print(min(func(N - 1, 0), func(N - 1, 1), func(N - 1, 2)))"
   ]
  },
  {
   "cell_type": "code",
   "execution_count": 55,
   "metadata": {
    "ExecuteTime": {
     "end_time": "2021-10-22T14:24:30.482000Z",
     "start_time": "2021-10-22T14:24:30.451374Z"
    }
   },
   "outputs": [
    {
     "data": {
      "text/plain": [
       "{(0, 1): 39,\n",
       " (0, 2): 44,\n",
       " (1, 0): 71,\n",
       " (0, 0): 71,\n",
       " (1, 1): 127,\n",
       " (2, 2): 134,\n",
       " (1, 2): 94,\n",
       " (2, 0): 145,\n",
       " (3, 1): 163,\n",
       " (2, 1): 108,\n",
       " (3, 2): 208,\n",
       " (4, 0): 246,\n",
       " (3, 0): 197,\n",
       " (4, 1): 255,\n",
       " (5, 2): 261,\n",
       " (4, 2): 174,\n",
       " (5, 0): 239,\n",
       " (6, 1): 264,\n",
       " (5, 1): 187,\n",
       " (6, 2): 216,\n",
       " (7, 0): 276,\n",
       " (6, 0): 234,\n",
       " (7, 1): 282,\n",
       " (7, 2): 253}"
      ]
     },
     "execution_count": 55,
     "metadata": {},
     "output_type": "execute_result"
    }
   ],
   "source": [
    "mem"
   ]
  }
 ],
 "metadata": {
  "hide_input": false,
  "kernelspec": {
   "display_name": "Python 3",
   "language": "python",
   "name": "python3"
  },
  "language_info": {
   "codemirror_mode": {
    "name": "ipython",
    "version": 3
   },
   "file_extension": ".py",
   "mimetype": "text/x-python",
   "name": "python",
   "nbconvert_exporter": "python",
   "pygments_lexer": "ipython3",
   "version": "3.8.5"
  },
  "toc": {
   "base_numbering": 1,
   "nav_menu": {},
   "number_sections": true,
   "sideBar": true,
   "skip_h1_title": false,
   "title_cell": "Table of Contents",
   "title_sidebar": "Contents",
   "toc_cell": false,
   "toc_position": {},
   "toc_section_display": true,
   "toc_window_display": false
  },
  "varInspector": {
   "cols": {
    "lenName": 16,
    "lenType": 16,
    "lenVar": 40
   },
   "kernels_config": {
    "python": {
     "delete_cmd_postfix": "",
     "delete_cmd_prefix": "del ",
     "library": "var_list.py",
     "varRefreshCmd": "print(var_dic_list())"
    },
    "r": {
     "delete_cmd_postfix": ") ",
     "delete_cmd_prefix": "rm(",
     "library": "var_list.r",
     "varRefreshCmd": "cat(var_dic_list()) "
    }
   },
   "types_to_exclude": [
    "module",
    "function",
    "builtin_function_or_method",
    "instance",
    "_Feature"
   ],
   "window_display": false
  }
 },
 "nbformat": 4,
 "nbformat_minor": 4
}
