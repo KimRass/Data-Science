{
 "cells": [
  {
   "cell_type": "markdown",
   "metadata": {},
   "source": [
    "Written by KimRass\n",
    "- Source: https://www.acmicpc.net/problem/11725"
   ]
  },
  {
   "cell_type": "code",
   "execution_count": null,
   "metadata": {
    "ExecuteTime": {
     "end_time": "2021-09-28T07:57:49.504140Z",
     "start_time": "2021-09-28T07:57:30.543868Z"
    }
   },
   "outputs": [],
   "source": [
    "N = int(input())\n",
    "tree = {1:-1}\n",
    "for _ in range(N - 1):\n",
    "    a, b = list(map(int, input().split()))\n",
    "    \n",
    "    try:\n",
    "        tree[a]\n",
    "    except:\n",
    "        tree[a] = b\n",
    "    else:\n",
    "        tree[b] = a\n",
    "        \n",
    "for i in range(2, N + 1):\n",
    "    print(tree[i])"
   ]
  }
 ],
 "metadata": {
  "kernelspec": {
   "display_name": "Python 3",
   "language": "python",
   "name": "python3"
  },
  "language_info": {
   "codemirror_mode": {
    "name": "ipython",
    "version": 3
   },
   "file_extension": ".py",
   "mimetype": "text/x-python",
   "name": "python",
   "nbconvert_exporter": "python",
   "pygments_lexer": "ipython3",
   "version": "3.7.7"
  },
  "toc": {
   "base_numbering": 1,
   "nav_menu": {},
   "number_sections": true,
   "sideBar": true,
   "skip_h1_title": false,
   "title_cell": "Table of Contents",
   "title_sidebar": "Contents",
   "toc_cell": false,
   "toc_position": {},
   "toc_section_display": true,
   "toc_window_display": false
  }
 },
 "nbformat": 4,
 "nbformat_minor": 4
}
