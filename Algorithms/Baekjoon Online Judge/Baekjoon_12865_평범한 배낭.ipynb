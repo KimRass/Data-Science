{
 "cells": [
  {
   "cell_type": "markdown",
   "metadata": {},
   "source": [
    "Written by KimRass\n",
    "- Source: https://www.acmicpc.net/problem/12865"
   ]
  },
  {
   "cell_type": "code",
   "execution_count": null,
   "metadata": {},
   "outputs": [],
   "source": [
    "4 7\n",
    "6 13\n",
    "4 8\n",
    "3 6\n",
    "5 12"
   ]
  },
  {
   "cell_type": "code",
   "execution_count": 54,
   "metadata": {
    "ExecuteTime": {
     "end_time": "2021-09-24T08:23:00.795521Z",
     "start_time": "2021-09-24T08:22:55.143638Z"
    }
   },
   "outputs": [
    {
     "name": "stdout",
     "output_type": "stream",
     "text": [
      "4 7\n",
      "6 13\n",
      "4 8\n",
      "3 6\n",
      "5 12\n"
     ]
    }
   ],
   "source": [
    "N, K = list(map(int, input().split()))\n",
    "items = [tuple(map(int, input().split())) for _ in range (N)]\n",
    "\n",
    "items = [(W, V, V/W) for W, V in items]\n",
    "items = sorted(sorted(items, key=lambda x:x[0]), key=lambda x:x[2], reverse=True)\n",
    "\n",
    "max_value = 0\n",
    "for i in range(len(items)):\n",
    "    rest = K - items[i][0]\n",
    "    value = items[i][1]\n",
    "    for j in range(i + 1, len(items)):\n",
    "        if items[j][0] <= rest:\n",
    "            value += items[j][1]\n",
    "    if value > max_value:\n",
    "        max_value = value\n",
    "print(max_value)"
   ]
  },
  {
   "cell_type": "code",
   "execution_count": null,
   "metadata": {},
   "outputs": [],
   "source": []
  },
  {
   "cell_type": "code",
   "execution_count": null,
   "metadata": {},
   "outputs": [],
   "source": []
  },
  {
   "cell_type": "code",
   "execution_count": null,
   "metadata": {},
   "outputs": [],
   "source": []
  },
  {
   "cell_type": "code",
   "execution_count": null,
   "metadata": {},
   "outputs": [],
   "source": []
  },
  {
   "cell_type": "code",
   "execution_count": 40,
   "metadata": {
    "ExecuteTime": {
     "end_time": "2021-09-24T08:02:44.499958Z",
     "start_time": "2021-09-24T08:02:44.492999Z"
    }
   },
   "outputs": [
    {
     "name": "stdout",
     "output_type": "stream",
     "text": [
      "14\n"
     ]
    }
   ],
   "source": [
    "max_value = 0\n",
    "for i in range(len(items)):\n",
    "    for j in range(i, len(items)):\n",
    "        weight = sum([item[0] for item in items[i:j + 1]])\n",
    "        value = sum([item[1] for item in items[i:j + 1]])\n",
    "        if weight <= K and value > max_value:\n",
    "            max_value = value\n",
    "print(max_value)"
   ]
  }
 ],
 "metadata": {
  "kernelspec": {
   "display_name": "Python 3",
   "language": "python",
   "name": "python3"
  },
  "language_info": {
   "codemirror_mode": {
    "name": "ipython",
    "version": 3
   },
   "file_extension": ".py",
   "mimetype": "text/x-python",
   "name": "python",
   "nbconvert_exporter": "python",
   "pygments_lexer": "ipython3",
   "version": "3.7.7"
  },
  "toc": {
   "base_numbering": 1,
   "nav_menu": {},
   "number_sections": true,
   "sideBar": true,
   "skip_h1_title": false,
   "title_cell": "Table of Contents",
   "title_sidebar": "Contents",
   "toc_cell": false,
   "toc_position": {},
   "toc_section_display": true,
   "toc_window_display": false
  }
 },
 "nbformat": 4,
 "nbformat_minor": 4
}
