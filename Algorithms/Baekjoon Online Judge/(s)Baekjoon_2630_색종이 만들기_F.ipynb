{
 "cells": [
  {
   "cell_type": "markdown",
   "metadata": {},
   "source": [
    "Written by KimRass\n",
    "- Source: https://www.acmicpc.net/problem/1992"
   ]
  },
  {
   "cell_type": "code",
   "execution_count": null,
   "metadata": {
    "ExecuteTime": {
     "end_time": "2021-09-22T14:35:05.670101Z",
     "start_time": "2021-09-22T14:34:41.972175Z"
    }
   },
   "outputs": [],
   "source": [
    "N = int(input())\n",
    "arr = [0 for _ in range(N)]\n",
    "for row in range(N):\n",
    "    arr[row] = list(map(int, input()))\n",
    "\n",
    "def browse(row, col, k):\n",
    "    global string\n",
    "    if k == 1:\n",
    "        if arr[row][col] == arr[row][col + 1] == arr[row + 1][col] == arr[row + 1][col + 1]:\n",
    "            if arr[row][col] == 0:\n",
    "                string += \"(0)\"\n",
    "            else:\n",
    "                string += \"(1)\"\n",
    "        else:\n",
    "            string += f\"({arr[row][col]}{arr[row][col + 1]}{arr[row + 1][col]}{arr[row + 1][col + 1]})\"\n",
    "    else:\n",
    "        string += \"/\"\n",
    "        browse(row, col, k//2)\n",
    "        browse(row, col + k, k//2)\n",
    "        browse(row + k, col, k//2)\n",
    "        browse(row + k, col + k, k//2)\n",
    "\n",
    "string = \"\"\n",
    "browse(0, 0, N//2)\n",
    "\n",
    "for _ in range(5):\n",
    "    string = string.replace(\"(1)(1)(1)(1)\", \"(1)\").replace(\"(0)(0)(0)(0)\", \"(0)\").replace(\"(1)/(1)/(1)/(1)\", \"(1)\").replace(\"(0)/(0)/(0)/(0)\", \"(0)\")\n",
    "\n",
    "print(string.count(\"0\"))\n",
    "print(string.count(\"1\"))"
   ]
  }
 ],
 "metadata": {
  "hide_input": false,
  "kernelspec": {
   "display_name": "Python 3",
   "language": "python",
   "name": "python3"
  },
  "language_info": {
   "codemirror_mode": {
    "name": "ipython",
    "version": 3
   },
   "file_extension": ".py",
   "mimetype": "text/x-python",
   "name": "python",
   "nbconvert_exporter": "python",
   "pygments_lexer": "ipython3",
   "version": "3.8.5"
  },
  "toc": {
   "base_numbering": 1,
   "nav_menu": {},
   "number_sections": true,
   "sideBar": true,
   "skip_h1_title": false,
   "title_cell": "Table of Contents",
   "title_sidebar": "Contents",
   "toc_cell": false,
   "toc_position": {},
   "toc_section_display": true,
   "toc_window_display": false
  },
  "varInspector": {
   "cols": {
    "lenName": 16,
    "lenType": 16,
    "lenVar": 40
   },
   "kernels_config": {
    "python": {
     "delete_cmd_postfix": "",
     "delete_cmd_prefix": "del ",
     "library": "var_list.py",
     "varRefreshCmd": "print(var_dic_list())"
    },
    "r": {
     "delete_cmd_postfix": ") ",
     "delete_cmd_prefix": "rm(",
     "library": "var_list.r",
     "varRefreshCmd": "cat(var_dic_list()) "
    }
   },
   "types_to_exclude": [
    "module",
    "function",
    "builtin_function_or_method",
    "instance",
    "_Feature"
   ],
   "window_display": false
  }
 },
 "nbformat": 4,
 "nbformat_minor": 4
}
