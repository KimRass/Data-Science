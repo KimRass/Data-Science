{
 "cells": [
  {
   "cell_type": "markdown",
   "metadata": {},
   "source": [
    "Written by KimRass\n",
    "- Source: https://www.acmicpc.net/problem/1753"
   ]
  },
  {
   "cell_type": "code",
   "execution_count": 68,
   "metadata": {
    "ExecuteTime": {
     "end_time": "2021-10-15T08:02:09.518887Z",
     "start_time": "2021-10-15T08:02:01.137321Z"
    }
   },
   "outputs": [
    {
     "name": "stdout",
     "output_type": "stream",
     "text": [
      "5 6\n",
      "1\n",
      "5 1 1\n",
      "1 2 2\n",
      "1 3 3\n",
      "2 3 4\n",
      "2 4 5\n",
      "3 4 6\n",
      "0\n",
      "2\n",
      "3\n",
      "7\n",
      "INF\n"
     ]
    }
   ],
   "source": [
    "import math\n",
    "import sys\n",
    "import heapq as hq\n",
    "\n",
    "V, E = list(map(int, input().split()))\n",
    "K = int(input())\n",
    "graph = {i:list() for i in range(1, V + 1)}\n",
    "for _ in range(E):\n",
    "    u, v, w = list(map(int, input().split()))\n",
    "#     u, v, w = list(map(int, sys.stdin.readline().rstrip().split()))\n",
    "    graph[u].append((w, v))\n",
    "\n",
    "start = K\n",
    "min_dists = {i:math.inf for i in range(1, V + 1)}\n",
    "min_dists[start] = 0\n",
    "hp = list()\n",
    "hq.heappush(hp, (min_dists[start], start))\n",
    "\n",
    "while hp:\n",
    "    cur_dist, cur_node = hq.heappop(hp)\n",
    "    if min_dists[cur_node] < cur_dist:\n",
    "        continue\n",
    "    else:\n",
    "        for dist, next_node in graph[cur_node]:\n",
    "            new_dist = cur_dist + dist\n",
    "            if new_dist < min_dists[next_node]:\n",
    "                min_dists[next_node] = new_dist\n",
    "                hq.heappush(hp, (min_dists[next_node], next_node))\n",
    "\n",
    "for i in min_dists.values():\n",
    "    print(i if i != math.inf else \"INF\")"
   ]
  }
 ],
 "metadata": {
  "kernelspec": {
   "display_name": "Python 3",
   "language": "python",
   "name": "python3"
  },
  "language_info": {
   "codemirror_mode": {
    "name": "ipython",
    "version": 3
   },
   "file_extension": ".py",
   "mimetype": "text/x-python",
   "name": "python",
   "nbconvert_exporter": "python",
   "pygments_lexer": "ipython3",
   "version": "3.7.7"
  },
  "toc": {
   "base_numbering": 1,
   "nav_menu": {},
   "number_sections": true,
   "sideBar": true,
   "skip_h1_title": false,
   "title_cell": "Table of Contents",
   "title_sidebar": "Contents",
   "toc_cell": false,
   "toc_position": {},
   "toc_section_display": true,
   "toc_window_display": false
  }
 },
 "nbformat": 4,
 "nbformat_minor": 4
}
