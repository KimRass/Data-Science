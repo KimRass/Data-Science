{
 "cells": [
  {
   "cell_type": "markdown",
   "metadata": {},
   "source": [
    "Written by KimRass\n",
    "- Source: https://www.acmicpc.net/problem/1167"
   ]
  },
  {
   "cell_type": "code",
   "execution_count": 91,
   "metadata": {
    "ExecuteTime": {
     "end_time": "2021-10-01T15:23:30.973738Z",
     "start_time": "2021-10-01T15:23:10.315474Z"
    }
   },
   "outputs": [
    {
     "name": "stdout",
     "output_type": "stream",
     "text": [
      "5\n",
      "1 3 2 -1\n",
      "2 4 4 -1\n",
      "3 1 2 4 3 -1\n",
      "4 2 4 3 3 5 6 -1\n",
      "5 4 6 -1\n"
     ]
    }
   ],
   "source": [
    "V = int(input())\n",
    "tree = {i:list() for i in range(1, V + 1)}\n",
    "dists = {(i, i):0 for i in range(1, V + 1)}\n",
    "for _ in range(V):\n",
    "    arr = list(map(int, input().split()))[:-1]\n",
    "    for i in range(1, len(arr) - 1, 2):\n",
    "        tree[arr[0]].append(arr[i])\n",
    "        tree[arr[i]].append(arr[0])\n",
    "        dists[(arr[0], arr[i])] = arr[i + 1]\n",
    "        dists[(arr[i], arr[0])] = arr[i + 1]"
   ]
  },
  {
   "cell_type": "code",
   "execution_count": 92,
   "metadata": {
    "ExecuteTime": {
     "end_time": "2021-10-01T15:23:31.783001Z",
     "start_time": "2021-10-01T15:23:31.760124Z"
    }
   },
   "outputs": [
    {
     "data": {
      "text/plain": [
       "{1: [3, 3], 2: [4, 4], 3: [1, 1, 4, 4], 4: [2, 3, 2, 3, 5, 5], 5: [4, 4]}"
      ]
     },
     "execution_count": 92,
     "metadata": {},
     "output_type": "execute_result"
    }
   ],
   "source": [
    "tree"
   ]
  },
  {
   "cell_type": "code",
   "execution_count": 93,
   "metadata": {
    "ExecuteTime": {
     "end_time": "2021-10-01T15:23:33.032171Z",
     "start_time": "2021-10-01T15:23:33.023238Z"
    }
   },
   "outputs": [
    {
     "data": {
      "text/plain": [
       "{(1, 1): 0,\n",
       " (2, 2): 0,\n",
       " (3, 3): 0,\n",
       " (4, 4): 0,\n",
       " (5, 5): 0,\n",
       " (1, 3): 2,\n",
       " (3, 1): 2,\n",
       " (2, 4): 4,\n",
       " (4, 2): 4,\n",
       " (3, 4): 3,\n",
       " (4, 3): 3,\n",
       " (4, 5): 6,\n",
       " (5, 4): 6}"
      ]
     },
     "execution_count": 93,
     "metadata": {},
     "output_type": "execute_result"
    }
   ],
   "source": [
    "dists"
   ]
  },
  {
   "cell_type": "code",
   "execution_count": 104,
   "metadata": {
    "ExecuteTime": {
     "end_time": "2021-10-01T15:27:50.531815Z",
     "start_time": "2021-10-01T15:27:50.521846Z"
    }
   },
   "outputs": [],
   "source": [
    "root = sorted(tree.items(), key=lambda x:len(x[1]))[-1][0]\n",
    "stack = [root]\n",
    "visited = {i:False for i in range(1, V + 1)}\n",
    "visited[root] = True"
   ]
  },
  {
   "cell_type": "code",
   "execution_count": 105,
   "metadata": {
    "ExecuteTime": {
     "end_time": "2021-10-01T15:27:51.000478Z",
     "start_time": "2021-10-01T15:27:50.957967Z"
    }
   },
   "outputs": [
    {
     "name": "stdout",
     "output_type": "stream",
     "text": [
      "4\n",
      "dist: 3\n",
      "5\n",
      "dist: 6\n",
      "3\n"
     ]
    },
    {
     "ename": "KeyError",
     "evalue": "(3, 5)",
     "output_type": "error",
     "traceback": [
      "\u001b[1;31m---------------------------------------------------------------------------\u001b[0m",
      "\u001b[1;31mKeyError\u001b[0m                                  Traceback (most recent call last)",
      "\u001b[1;32m<ipython-input-105-f0f8ad53f570>\u001b[0m in \u001b[0;36m<module>\u001b[1;34m\u001b[0m\n\u001b[0;32m      4\u001b[0m \u001b[1;31m#     dist += dists[]\u001b[0m\u001b[1;33m\u001b[0m\u001b[1;33m\u001b[0m\u001b[1;33m\u001b[0m\u001b[0m\n\u001b[0;32m      5\u001b[0m     \u001b[0mprint\u001b[0m\u001b[1;33m(\u001b[0m\u001b[0mstart\u001b[0m\u001b[1;33m)\u001b[0m\u001b[1;33m\u001b[0m\u001b[1;33m\u001b[0m\u001b[0m\n\u001b[1;32m----> 6\u001b[1;33m     \u001b[0mprint\u001b[0m\u001b[1;33m(\u001b[0m\u001b[1;34mf\"dist: {dists[(start, temp)]}\"\u001b[0m\u001b[1;33m)\u001b[0m\u001b[1;33m\u001b[0m\u001b[1;33m\u001b[0m\u001b[0m\n\u001b[0m\u001b[0;32m      7\u001b[0m     \u001b[0mtemp\u001b[0m \u001b[1;33m=\u001b[0m \u001b[0mstart\u001b[0m\u001b[1;33m\u001b[0m\u001b[1;33m\u001b[0m\u001b[0m\n\u001b[0;32m      8\u001b[0m     \u001b[1;32mfor\u001b[0m \u001b[0mend\u001b[0m \u001b[1;32min\u001b[0m \u001b[0mset\u001b[0m\u001b[1;33m(\u001b[0m\u001b[0mtree\u001b[0m\u001b[1;33m[\u001b[0m\u001b[0mstart\u001b[0m\u001b[1;33m]\u001b[0m\u001b[1;33m)\u001b[0m\u001b[1;33m:\u001b[0m\u001b[1;33m\u001b[0m\u001b[1;33m\u001b[0m\u001b[0m\n",
      "\u001b[1;31mKeyError\u001b[0m: (3, 5)"
     ]
    }
   ],
   "source": [
    "dist = 0\n",
    "while stack:\n",
    "    start = stack.pop()\n",
    "#     dist += dists[]\n",
    "    print(start)\n",
    "    print(f\"dist: {dists[(start, temp)]}\")\n",
    "    temp = start\n",
    "    for end in set(tree[start]):\n",
    "#         print(end)\n",
    "        if end == root:\n",
    "#             print(f\"dist: {dists[(start, end)]}\")\n",
    "            dist = 0\n",
    "        if visited[end] == False:\n",
    "            visited[end] = True\n",
    "            stack.append(end)\n",
    "            temp = start"
   ]
  },
  {
   "cell_type": "code",
   "execution_count": 22,
   "metadata": {
    "ExecuteTime": {
     "end_time": "2021-10-01T14:54:07.942916Z",
     "start_time": "2021-10-01T14:54:07.917284Z"
    }
   },
   "outputs": [
    {
     "data": {
      "text/plain": [
       "{1: 2, 2: 4, 3: 3, 4: 6, 5: 6}"
      ]
     },
     "execution_count": 22,
     "metadata": {},
     "output_type": "execute_result"
    }
   ],
   "source": [
    "visited"
   ]
  }
 ],
 "metadata": {
  "hide_input": false,
  "kernelspec": {
   "display_name": "Python 3",
   "language": "python",
   "name": "python3"
  },
  "language_info": {
   "codemirror_mode": {
    "name": "ipython",
    "version": 3
   },
   "file_extension": ".py",
   "mimetype": "text/x-python",
   "name": "python",
   "nbconvert_exporter": "python",
   "pygments_lexer": "ipython3",
   "version": "3.8.5"
  },
  "toc": {
   "base_numbering": 1,
   "nav_menu": {},
   "number_sections": true,
   "sideBar": true,
   "skip_h1_title": false,
   "title_cell": "Table of Contents",
   "title_sidebar": "Contents",
   "toc_cell": false,
   "toc_position": {},
   "toc_section_display": true,
   "toc_window_display": false
  },
  "varInspector": {
   "cols": {
    "lenName": 16,
    "lenType": 16,
    "lenVar": 40
   },
   "kernels_config": {
    "python": {
     "delete_cmd_postfix": "",
     "delete_cmd_prefix": "del ",
     "library": "var_list.py",
     "varRefreshCmd": "print(var_dic_list())"
    },
    "r": {
     "delete_cmd_postfix": ") ",
     "delete_cmd_prefix": "rm(",
     "library": "var_list.r",
     "varRefreshCmd": "cat(var_dic_list()) "
    }
   },
   "types_to_exclude": [
    "module",
    "function",
    "builtin_function_or_method",
    "instance",
    "_Feature"
   ],
   "window_display": false
  }
 },
 "nbformat": 4,
 "nbformat_minor": 4
}
