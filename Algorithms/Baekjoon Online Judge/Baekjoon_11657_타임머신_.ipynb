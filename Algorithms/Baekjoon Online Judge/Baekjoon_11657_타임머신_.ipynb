{
 "cells": [
  {
   "cell_type": "markdown",
   "metadata": {},
   "source": [
    "Written by KimRass\n",
    "- Source: https://www.acmicpc.net/problem/11657"
   ]
  },
  {
   "cell_type": "code",
   "execution_count": null,
   "metadata": {},
   "outputs": [],
   "source": [
    "3 4\n",
    "1 2 4\n",
    "1 3 3\n",
    "2 3 -1\n",
    "3 1 -2"
   ]
  },
  {
   "cell_type": "code",
   "execution_count": 4,
   "metadata": {
    "ExecuteTime": {
     "end_time": "2021-10-29T08:37:02.527532Z",
     "start_time": "2021-10-29T08:36:56.008005Z"
    }
   },
   "outputs": [
    {
     "name": "stdout",
     "output_type": "stream",
     "text": [
      "3 4\n",
      "1 2 4\n",
      "1 3 3\n",
      "2 3 -4\n",
      "3 1 -2\n",
      "-1\n"
     ]
    }
   ],
   "source": [
    "import sys\n",
    "import math\n",
    "import heapq as hq\n",
    "\n",
    "N, M = list(map(int, input().split()))\n",
    "graph = dict()\n",
    "for _ in range(M):\n",
    "    A, B, C = list(map(int, input().split()))\n",
    "#         A, B, C = list(map(int, sys.stdin.readline().rstrip().split()))\n",
    "    if A not in graph:\n",
    "        graph[A] = list()\n",
    "    graph[A].append((C, B))\n",
    "\n",
    "start = 1\n",
    "min_dists = {i:0 if i == start else math.inf for i in range(1, N + 1)}\n",
    "breaker1 = False\n",
    "breaker2 = False\n",
    "for i in range(N):\n",
    "    for cur_node in range(1, N + 1):\n",
    "        for dist, next_node in graph[cur_node]:\n",
    "            if dist + min_dists[cur_node] < min_dists[next_node]:\n",
    "                min_dists[next_node] = dist + min_dists[cur_node]\n",
    "                if i == N - 1:\n",
    "                    breaker1 = True\n",
    "                    breaker2 = True\n",
    "                    break\n",
    "        if breaker1 == True:\n",
    "            breaker2 = True\n",
    "            break\n",
    "    if breaker2 == True:\n",
    "        print(-1)\n",
    "        break\n",
    "else:\n",
    "    for i in range(2, N + 1):\n",
    "        print(min_dists[i])"
   ]
  },
  {
   "cell_type": "code",
   "execution_count": 19,
   "metadata": {
    "ExecuteTime": {
     "end_time": "2021-10-29T08:21:16.086714Z",
     "start_time": "2021-10-29T08:21:16.081753Z"
    }
   },
   "outputs": [
    {
     "data": {
      "text/plain": [
       "{1: 0, 2: 4, 3: 3}"
      ]
     },
     "execution_count": 19,
     "metadata": {},
     "output_type": "execute_result"
    }
   ],
   "source": [
    "min_dists"
   ]
  },
  {
   "cell_type": "code",
   "execution_count": null,
   "metadata": {},
   "outputs": [],
   "source": []
  },
  {
   "cell_type": "code",
   "execution_count": null,
   "metadata": {},
   "outputs": [],
   "source": []
  },
  {
   "cell_type": "code",
   "execution_count": 17,
   "metadata": {
    "ExecuteTime": {
     "end_time": "2021-10-29T08:20:26.974109Z",
     "start_time": "2021-10-29T08:20:26.959177Z"
    }
   },
   "outputs": [
    {
     "name": "stdout",
     "output_type": "stream",
     "text": [
      "{1: 0, 2: inf, 3: inf}\n",
      "{1: 0, 2: 4, 3: inf}\n"
     ]
    }
   ],
   "source": [
    "start = 1\n",
    "# 지금까지 알려진, 출발지에서 해당 노드로 가는 최단 거리를 기록하는 Dictionary를 만듭니다.\n",
    "min_dists = {i:0 if i == start else math.inf for i in range(1, N + 1)}\n",
    "hp = [(0, start)]\n",
    "while hp:\n",
    "    cur_dist, cur_node = hq.heappop(hp)\n",
    "    for dist, next_node in graph[cur_node]:\n",
    "\t\t# 지금까지 알려진 `next_node`까지의 최단 거리보다 `cur_node`를 거쳐서 `next_node`로 가는 거리가 더 짧다면 그 값으로 `min_dists[next_node]`를 업데이트합니다.\n",
    "        if cur_dist + dist < min_dists[next_node]:\n",
    "            print(min_dists)\n",
    "            min_dists[next_node] = cur_dist + dist\n",
    "            hq.heappush(hp, (min_dists[next_node], next_node))"
   ]
  }
 ],
 "metadata": {
  "kernelspec": {
   "display_name": "Python 3",
   "language": "python",
   "name": "python3"
  },
  "language_info": {
   "codemirror_mode": {
    "name": "ipython",
    "version": 3
   },
   "file_extension": ".py",
   "mimetype": "text/x-python",
   "name": "python",
   "nbconvert_exporter": "python",
   "pygments_lexer": "ipython3",
   "version": "3.7.7"
  },
  "toc": {
   "base_numbering": 1,
   "nav_menu": {},
   "number_sections": true,
   "sideBar": true,
   "skip_h1_title": false,
   "title_cell": "Table of Contents",
   "title_sidebar": "Contents",
   "toc_cell": false,
   "toc_position": {},
   "toc_section_display": true,
   "toc_window_display": false
  }
 },
 "nbformat": 4,
 "nbformat_minor": 4
}
