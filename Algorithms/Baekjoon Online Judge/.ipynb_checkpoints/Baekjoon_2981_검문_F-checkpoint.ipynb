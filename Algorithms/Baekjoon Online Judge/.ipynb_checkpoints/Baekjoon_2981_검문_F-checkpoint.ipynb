{
 "cells": [
  {
   "cell_type": "markdown",
   "metadata": {
    "ExecuteTime": {
     "end_time": "2021-09-21T14:30:46.853270Z",
     "start_time": "2021-09-21T14:30:46.838278Z"
    }
   },
   "source": [
    "Written by KimRass\n",
    "- Source: https://www.acmicpc.net/problem/2981"
   ]
  },
  {
   "cell_type": "code",
   "execution_count": null,
   "metadata": {
    "ExecuteTime": {
     "end_time": "2021-12-14T16:34:51.034597Z",
     "start_time": "2021-12-14T16:34:47.581984Z"
    }
   },
   "outputs": [],
   "source": [
    "import sys\n",
    "\n",
    "N = int(input())\n",
    "arr = list()\n",
    "for _ in range(N):\n",
    "#     arr.append(int(input()))\n",
    "    arr.append(int(sys.stdin.readline().rstrip()))\n",
    "\n",
    "arr = sorted(arr)\n",
    "changes = [arr[i + 1] - arr[i] for i in range(N - 1)]\n",
    "\n",
    "minim = min(changes)\n",
    "for i in range(2, minim + 1):\n",
    "    for j in changes:\n",
    "        if j%i != 0:\n",
    "            break\n",
    "    else:\n",
    "        print(i, end=\" \")"
   ]
  },
  {
   "cell_type": "code",
   "execution_count": 76,
   "metadata": {
    "ExecuteTime": {
     "end_time": "2021-12-14T16:28:23.260071Z",
     "start_time": "2021-12-14T16:28:23.231508Z"
    }
   },
   "outputs": [
    {
     "data": {
      "text/plain": [
       "[2, 3, 6]"
      ]
     },
     "execution_count": 76,
     "metadata": {},
     "output_type": "execute_result"
    }
   ],
   "source": [
    "ans"
   ]
  },
  {
   "cell_type": "code",
   "execution_count": 69,
   "metadata": {
    "ExecuteTime": {
     "end_time": "2021-12-14T16:26:06.633251Z",
     "start_time": "2021-12-14T16:26:06.621311Z"
    }
   },
   "outputs": [
    {
     "data": {
      "text/plain": [
       "[12, 66]"
      ]
     },
     "execution_count": 69,
     "metadata": {},
     "output_type": "execute_result"
    }
   ],
   "source": [
    "changes"
   ]
  },
  {
   "cell_type": "code",
   "execution_count": null,
   "metadata": {},
   "outputs": [],
   "source": [
    "12 66\n",
    "12 54\n",
    "12 42\n",
    "12 30\n",
    "12 18\n",
    "6 12\n",
    "6 6"
   ]
  },
  {
   "cell_type": "code",
   "execution_count": null,
   "metadata": {},
   "outputs": [],
   "source": []
  },
  {
   "cell_type": "code",
   "execution_count": 64,
   "metadata": {
    "ExecuteTime": {
     "end_time": "2021-12-14T16:20:33.861447Z",
     "start_time": "2021-12-14T16:20:30.074542Z"
    }
   },
   "outputs": [
    {
     "name": "stdout",
     "output_type": "stream",
     "text": [
      "3\n",
      "5\n",
      "17\n",
      "83\n",
      "2 3 4 6 12\n"
     ]
    }
   ],
   "source": [
    "import sys\n",
    "\n",
    "N = int(input())\n",
    "arr = list()\n",
    "for _ in range(N):\n",
    "    arr.append(int(input()))\n",
    "\n",
    "arr = sorted(arr)\n",
    "changes = sorted([j - i for i, j in zip(arr, arr[1:])])\n",
    "minim = changes[0]\n",
    "\n",
    "ans = list()\n",
    "for i in range(2, minim + 1):\n",
    "    if minim%i == 0:\n",
    "        ans.append(i)\n",
    "        \n",
    "print(*ans)"
   ]
  },
  {
   "cell_type": "code",
   "execution_count": 65,
   "metadata": {
    "ExecuteTime": {
     "end_time": "2021-12-14T16:22:12.032674Z",
     "start_time": "2021-12-14T16:22:12.017700Z"
    }
   },
   "outputs": [
    {
     "name": "stdout",
     "output_type": "stream",
     "text": [
      "2\n",
      "3\n",
      "6\n"
     ]
    }
   ],
   "source": [
    "for i in range(2, 1000):\n",
    "    if arr[1]%i == arr[0]%i and arr[2]%i == arr[0]%i:\n",
    "        print(i)"
   ]
  },
  {
   "cell_type": "code",
   "execution_count": null,
   "metadata": {},
   "outputs": [],
   "source": []
  },
  {
   "cell_type": "code",
   "execution_count": 51,
   "metadata": {
    "ExecuteTime": {
     "end_time": "2021-12-14T16:15:11.400780Z",
     "start_time": "2021-12-14T16:15:11.369966Z"
    }
   },
   "outputs": [],
   "source": [
    "primes = {i for i in range(2, minim + 1)}\n",
    "for i in range(2, int(minim**0.5) + 1):\n",
    "    if i in primes:\n",
    "        primes -= {j for j in range(2*i, minim + 1, i)}\n",
    "        \n",
    "ans = list()\n",
    "for i in primes:\n",
    "    if minim%i == 0:\n",
    "        ans.append(i)"
   ]
  },
  {
   "cell_type": "code",
   "execution_count": 52,
   "metadata": {
    "ExecuteTime": {
     "end_time": "2021-12-14T16:15:12.743258Z",
     "start_time": "2021-12-14T16:15:12.730259Z"
    }
   },
   "outputs": [
    {
     "data": {
      "text/plain": [
       "[2]"
      ]
     },
     "execution_count": 52,
     "metadata": {},
     "output_type": "execute_result"
    }
   ],
   "source": [
    "ans"
   ]
  },
  {
   "cell_type": "code",
   "execution_count": null,
   "metadata": {},
   "outputs": [],
   "source": []
  },
  {
   "cell_type": "code",
   "execution_count": null,
   "metadata": {},
   "outputs": [],
   "source": []
  },
  {
   "cell_type": "code",
   "execution_count": null,
   "metadata": {},
   "outputs": [],
   "source": []
  },
  {
   "cell_type": "code",
   "execution_count": 32,
   "metadata": {
    "ExecuteTime": {
     "end_time": "2021-12-14T16:06:48.869205Z",
     "start_time": "2021-12-14T16:06:44.498030Z"
    }
   },
   "outputs": [
    {
     "name": "stdout",
     "output_type": "stream",
     "text": [
      "2\n",
      "5\n",
      "17\n"
     ]
    }
   ],
   "source": [
    "import sys\n",
    "\n",
    "N = int(input())\n",
    "arr = list()\n",
    "for _ in range(N):\n",
    "#     arr.append(int(input()))\n",
    "    arr.append(int(sys.stdin.readline().rstrip()))\n",
    "\n",
    "arr = sorted(arr)\n",
    "maxim = arr[-1]\n",
    "\n",
    "is_continue = False\n",
    "ans = list()\n",
    "for i in range(2, maxim + 1):\n",
    "    tar = arr[0]%i\n",
    "    for j in arr[1:]:\n",
    "        if j%i != tar:\n",
    "            is_continue = True\n",
    "            break\n",
    "    if is_continue == True:\n",
    "        is_continue = False\n",
    "        continue\n",
    "    else:\n",
    "        ans.append(i)\n",
    "    \n",
    "print(*ans)"
   ]
  },
  {
   "cell_type": "code",
   "execution_count": 35,
   "metadata": {
    "ExecuteTime": {
     "end_time": "2021-12-14T16:08:26.916917Z",
     "start_time": "2021-12-14T16:08:26.901683Z"
    }
   },
   "outputs": [
    {
     "data": {
      "text/plain": [
       "17"
      ]
     },
     "execution_count": 35,
     "metadata": {},
     "output_type": "execute_result"
    }
   ],
   "source": [
    "maxim"
   ]
  },
  {
   "cell_type": "code",
   "execution_count": null,
   "metadata": {},
   "outputs": [],
   "source": []
  },
  {
   "cell_type": "code",
   "execution_count": 18,
   "metadata": {
    "ExecuteTime": {
     "end_time": "2021-12-14T15:56:54.403843Z",
     "start_time": "2021-12-14T15:56:54.387920Z"
    }
   },
   "outputs": [
    {
     "data": {
      "text/plain": [
       "34"
      ]
     },
     "execution_count": 18,
     "metadata": {},
     "output_type": "execute_result"
    }
   ],
   "source": [
    "j"
   ]
  },
  {
   "cell_type": "code",
   "execution_count": null,
   "metadata": {},
   "outputs": [],
   "source": [
    "\n"
   ]
  }
 ],
 "metadata": {
  "hide_input": false,
  "kernelspec": {
   "display_name": "Python 3",
   "language": "python",
   "name": "python3"
  },
  "language_info": {
   "codemirror_mode": {
    "name": "ipython",
    "version": 3
   },
   "file_extension": ".py",
   "mimetype": "text/x-python",
   "name": "python",
   "nbconvert_exporter": "python",
   "pygments_lexer": "ipython3",
   "version": "3.8.5"
  },
  "toc": {
   "base_numbering": 1,
   "nav_menu": {},
   "number_sections": true,
   "sideBar": true,
   "skip_h1_title": false,
   "title_cell": "Table of Contents",
   "title_sidebar": "Contents",
   "toc_cell": false,
   "toc_position": {},
   "toc_section_display": true,
   "toc_window_display": false
  },
  "varInspector": {
   "cols": {
    "lenName": 16,
    "lenType": 16,
    "lenVar": 40
   },
   "kernels_config": {
    "python": {
     "delete_cmd_postfix": "",
     "delete_cmd_prefix": "del ",
     "library": "var_list.py",
     "varRefreshCmd": "print(var_dic_list())"
    },
    "r": {
     "delete_cmd_postfix": ") ",
     "delete_cmd_prefix": "rm(",
     "library": "var_list.r",
     "varRefreshCmd": "cat(var_dic_list()) "
    }
   },
   "types_to_exclude": [
    "module",
    "function",
    "builtin_function_or_method",
    "instance",
    "_Feature"
   ],
   "window_display": false
  }
 },
 "nbformat": 4,
 "nbformat_minor": 4
}
