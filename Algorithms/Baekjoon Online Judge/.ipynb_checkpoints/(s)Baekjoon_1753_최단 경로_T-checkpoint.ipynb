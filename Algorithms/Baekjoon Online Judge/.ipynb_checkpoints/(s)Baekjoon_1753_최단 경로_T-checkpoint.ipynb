{
 "cells": [
  {
   "cell_type": "markdown",
   "metadata": {},
   "source": [
    "Written by KimRass\n",
    "- Source: https://www.acmicpc.net/problem/1753"
   ]
  },
  {
   "cell_type": "code",
   "execution_count": null,
   "metadata": {
    "ExecuteTime": {
     "end_time": "2021-10-29T08:00:44.041140Z",
     "start_time": "2021-10-29T08:00:33.521284Z"
    }
   },
   "outputs": [],
   "source": [
    "import math\n",
    "import sys\n",
    "import heapq as hq\n",
    "\n",
    "V, E = list(map(int, input().split()))\n",
    "K = int(input())\n",
    "graph = {i:list() for i in range(1, V + 1)}\n",
    "for _ in range(E):\n",
    "    u, v, w = list(map(int, input().split()))\n",
    "#     u, v, w = list(map(int, sys.stdin.readline().rstrip().split()))\n",
    "    graph[u].append((w, v))\n",
    "\n",
    "start = K\n",
    "min_dists = {i:0 if i == start else math.inf for i in range(1, V + 1)}\n",
    "hp = [(0, start)]\n",
    "while hp:\n",
    "    cur_dist, cur_node = hq.heappop(hp)\n",
    "    for dist, next_node in graph[cur_node]:\n",
    "\t\t# 지금까지 알려진 `next_node`까지의 최단 거리보다 `cur_node`를 거쳐서 `next_node`로 가는 거리가 더 짧다면 그 값으로 `min_dists[next_node]`를 업데이트합니다.\n",
    "        if cur_dist + dist < min_dists[next_node]:\n",
    "            print(min_dists)\n",
    "            min_dists[next_node] = cur_dist + dist\n",
    "            hq.heappush(hp, (min_dists[next_node], next_node))\n",
    "\n",
    "for i in min_dists.values():\n",
    "    print(i if i != math.inf else \"INF\")"
   ]
  }
 ],
 "metadata": {
  "kernelspec": {
   "display_name": "Python 3",
   "language": "python",
   "name": "python3"
  },
  "language_info": {
   "codemirror_mode": {
    "name": "ipython",
    "version": 3
   },
   "file_extension": ".py",
   "mimetype": "text/x-python",
   "name": "python",
   "nbconvert_exporter": "python",
   "pygments_lexer": "ipython3",
   "version": "3.7.7"
  },
  "toc": {
   "base_numbering": 1,
   "nav_menu": {},
   "number_sections": true,
   "sideBar": true,
   "skip_h1_title": false,
   "title_cell": "Table of Contents",
   "title_sidebar": "Contents",
   "toc_cell": false,
   "toc_position": {},
   "toc_section_display": true,
   "toc_window_display": false
  }
 },
 "nbformat": 4,
 "nbformat_minor": 4
}
