{
 "cells": [
  {
   "cell_type": "markdown",
   "metadata": {},
   "source": [
    "Written by KimRass\n",
    "- Source: https://www.acmicpc.net/problem/4195"
   ]
  },
  {
   "cell_type": "markdown",
   "metadata": {},
   "source": [
    "2\n",
    "3\n",
    "Fred Barney\n",
    "Barney Betty\n",
    "Betty Wilma\n",
    "3\n",
    "Fred Barney\n",
    "Betty Wilma\n",
    "Barney Betty"
   ]
  },
  {
   "cell_type": "code",
   "execution_count": null,
   "metadata": {},
   "outputs": [],
   "source": [
    "Fred   x Fr Be Wilma\n",
    "Barney x Fr Be Wilma\n",
    "Betty  x x  Be Wilma\n",
    "Wilma  x x  x  Wilma"
   ]
  },
  {
   "cell_type": "code",
   "execution_count": 98,
   "metadata": {
    "ExecuteTime": {
     "end_time": "2021-11-30T09:25:21.601302Z",
     "start_time": "2021-11-30T09:24:52.879149Z"
    }
   },
   "outputs": [
    {
     "name": "stdout",
     "output_type": "stream",
     "text": [
      "2\n",
      "3\n",
      "Fred Barney\n",
      "2\n",
      "Barney Betty\n",
      "3\n",
      "Betty Wilma\n",
      "4\n",
      "3\n",
      "Fred Barney\n",
      "2\n",
      "Betty Wilma\n",
      "2\n",
      "Barney Betty\n",
      "4\n"
     ]
    }
   ],
   "source": [
    "import sys\n",
    "\n",
    "def find(x):\n",
    "    if x == parent[x]:\n",
    "        return x\n",
    "    else:\n",
    "        parent[x] = find(parent[x])\n",
    "        return parent[x]\n",
    "\n",
    "def union(x, y):\n",
    "    x_rep = find(x)\n",
    "    y_rep = find(y)\n",
    "    \n",
    "    if x_rep < y_rep:\n",
    "        parent[x_rep] = find(y_rep)\n",
    "    else:\n",
    "        parent[y_rep] = find(x_rep)\n",
    "\n",
    "for _ in range(int(input())):\n",
    "    hist = list()\n",
    "    parent = dict()\n",
    "#     for _ in range(int(input())):\n",
    "    for _ in range(int(sys.stdin.readline().rstrip())):\n",
    "#         a, b = input().split()\n",
    "        a, b = sys.stdin.readline().rstrip().split()\n",
    "        if a not in parent:\n",
    "            parent[a] = a\n",
    "        if b not in parent:\n",
    "            parent[b] = b\n",
    "        hist.append((a, b))\n",
    "        for a, b in hist[::-1]:\n",
    "            union(a, b)\n",
    "        print(len([i for i in parent.values() if i == parent[a]]))"
   ]
  }
 ],
 "metadata": {
  "kernelspec": {
   "display_name": "Python 3",
   "language": "python",
   "name": "python3"
  },
  "language_info": {
   "codemirror_mode": {
    "name": "ipython",
    "version": 3
   },
   "file_extension": ".py",
   "mimetype": "text/x-python",
   "name": "python",
   "nbconvert_exporter": "python",
   "pygments_lexer": "ipython3",
   "version": "3.7.7"
  },
  "toc": {
   "base_numbering": 1,
   "nav_menu": {},
   "number_sections": true,
   "sideBar": true,
   "skip_h1_title": false,
   "title_cell": "Table of Contents",
   "title_sidebar": "Contents",
   "toc_cell": false,
   "toc_position": {},
   "toc_section_display": true,
   "toc_window_display": false
  }
 },
 "nbformat": 4,
 "nbformat_minor": 4
}
