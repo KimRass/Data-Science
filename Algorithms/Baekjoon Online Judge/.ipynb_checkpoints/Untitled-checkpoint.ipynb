{
 "cells": [
  {
   "cell_type": "code",
   "execution_count": 2,
   "metadata": {
    "ExecuteTime": {
     "end_time": "2021-09-23T09:23:10.165247Z",
     "start_time": "2021-09-23T09:23:08.484230Z"
    }
   },
   "outputs": [
    {
     "name": "stdout",
     "output_type": "stream",
     "text": [
      "7 3\n"
     ]
    }
   ],
   "source": [
    "N, K = list(map(int, input().split()))"
   ]
  },
  {
   "cell_type": "code",
   "execution_count": 35,
   "metadata": {
    "ExecuteTime": {
     "end_time": "2021-09-23T09:49:19.840916Z",
     "start_time": "2021-09-23T09:49:19.834931Z"
    }
   },
   "outputs": [
    {
     "name": "stdout",
     "output_type": "stream",
     "text": [
      "3 [0, 1, 3, 4, 5, 6]\n",
      "5 [0, 1, 3, 4, 6]\n",
      "2 [0, 3, 4, 6]\n",
      "4 [0, 3, 4]\n",
      "3 [0, 3]\n"
     ]
    }
   ],
   "source": [
    "circle = [i for i in range(N)]\n",
    "\n",
    "p = 0\n",
    "for _ in range(5):\n",
    "    p += (K - 1)\n",
    "#     p -= 1\n",
    "    p = p%len(circle)\n",
    "    circle = circle[:p] + circle[(p + 1):]\n",
    "#     print(circle)\n",
    "    print(p + 1, circle)"
   ]
  },
  {
   "cell_type": "code",
   "execution_count": 25,
   "metadata": {
    "ExecuteTime": {
     "end_time": "2021-09-23T09:42:01.704982Z",
     "start_time": "2021-09-23T09:42:01.700015Z"
    }
   },
   "outputs": [
    {
     "data": {
      "text/plain": [
       "[1, 2, 4, 5, 6, 7]"
      ]
     },
     "execution_count": 25,
     "metadata": {},
     "output_type": "execute_result"
    }
   ],
   "source": [
    "circle = [i for i in range(1, N + 1)]\n",
    "p = 3\n",
    "circle[:(p - 1)] + circle[p:]"
   ]
  }
 ],
 "metadata": {
  "kernelspec": {
   "display_name": "Python 3",
   "language": "python",
   "name": "python3"
  },
  "language_info": {
   "codemirror_mode": {
    "name": "ipython",
    "version": 3
   },
   "file_extension": ".py",
   "mimetype": "text/x-python",
   "name": "python",
   "nbconvert_exporter": "python",
   "pygments_lexer": "ipython3",
   "version": "3.7.7"
  },
  "toc": {
   "base_numbering": 1,
   "nav_menu": {},
   "number_sections": true,
   "sideBar": true,
   "skip_h1_title": false,
   "title_cell": "Table of Contents",
   "title_sidebar": "Contents",
   "toc_cell": false,
   "toc_position": {},
   "toc_section_display": true,
   "toc_window_display": false
  }
 },
 "nbformat": 4,
 "nbformat_minor": 4
}
