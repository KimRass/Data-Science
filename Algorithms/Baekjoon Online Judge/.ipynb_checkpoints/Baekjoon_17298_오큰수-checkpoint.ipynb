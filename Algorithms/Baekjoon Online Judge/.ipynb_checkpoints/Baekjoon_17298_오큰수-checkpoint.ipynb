{
 "cells": [
  {
   "cell_type": "markdown",
   "metadata": {},
   "source": [
    "Written by KimRass\n",
    "- Source: https://www.acmicpc.net/problem/17298"
   ]
  },
  {
   "cell_type": "markdown",
   "metadata": {},
   "source": [
    "https://www.geeksforgeeks.org/next-greater-element/"
   ]
  },
  {
   "cell_type": "code",
   "execution_count": null,
   "metadata": {},
   "outputs": [],
   "source": [
    "arr = [3, 5, 1, 2, 5, 7, 4, 2, 9, 5]\n",
    "\n",
    "stack = [arr[0]]\n",
    "nges = [-1 for _ in range(len(arr))]\n",
    "# for i in arr[1:]:\n",
    "i = 1\n",
    "while i < len(arr):\n",
    "    tar = arr[i]\n",
    "    if stack:\n",
    "        popped = stack.pop()\n",
    "        while tar > popped:\n",
    "            nges[]\n",
    "        if arr[i] > arr[stack[-1]]:\n",
    "            nges[stack.pop()] = arr[i]\n",
    "            stack.append(i)\n",
    "#             nges[i] = arr[i]\n",
    "            i += 1\n",
    "        else:\n",
    "            stack.pop()\n",
    "#             stack.append(arr[i])\n",
    "            i += 1\n",
    "    else:\n",
    "#         nges[i] = \n",
    "        stack.append(i)\n",
    "#         nges[i] = arr[i]\n",
    "        i += 1"
   ]
  },
  {
   "cell_type": "code",
   "execution_count": 57,
   "metadata": {
    "ExecuteTime": {
     "end_time": "2021-12-01T14:17:51.743965Z",
     "start_time": "2021-12-01T14:17:51.733864Z"
    }
   },
   "outputs": [
    {
     "name": "stdout",
     "output_type": "stream",
     "text": [
      "5 [3]\n",
      "1 [1]\n",
      "2 []\n",
      "5 [3]\n",
      "7 [4]\n",
      "4 [5]\n",
      "2 []\n",
      "9 [7]\n",
      "5 [8]\n"
     ]
    }
   ],
   "source": [
    "stack = [arr[0]]\n",
    "arr = [3, 5, 1, 2, 5, 7, 4, 2, 9, 5]\n",
    "nges = [-1 for _ in range(len(arr))]\n",
    "# for i in arr[1:]:\n",
    "i = 1\n",
    "while i < len(arr):\n",
    "    print(arr[i], stack)\n",
    "    if stack:\n",
    "        if arr[i] > arr[stack[-1]]:\n",
    "            nges[stack.pop()] = arr[i]\n",
    "            stack.append(i)\n",
    "#             nges[i] = arr[i]\n",
    "            i += 1\n",
    "        else:\n",
    "            stack.pop()\n",
    "#             stack.append(arr[i])\n",
    "            i += 1\n",
    "    else:\n",
    "#         nges[i] = \n",
    "        stack.append(i)\n",
    "#         nges[i] = arr[i]\n",
    "        i += 1"
   ]
  },
  {
   "cell_type": "code",
   "execution_count": 59,
   "metadata": {
    "ExecuteTime": {
     "end_time": "2021-12-01T14:18:04.394944Z",
     "start_time": "2021-12-01T14:18:04.382000Z"
    }
   },
   "outputs": [
    {
     "data": {
      "text/plain": [
       "[-1, -1, -1, 5, 7, -1, -1, 9, -1, -1]"
      ]
     },
     "execution_count": 59,
     "metadata": {},
     "output_type": "execute_result"
    }
   ],
   "source": [
    "nges"
   ]
  },
  {
   "cell_type": "code",
   "execution_count": 58,
   "metadata": {
    "ExecuteTime": {
     "end_time": "2021-12-01T14:17:53.659212Z",
     "start_time": "2021-12-01T14:17:53.634758Z"
    }
   },
   "outputs": [
    {
     "data": {
      "text/plain": [
       "[]"
      ]
     },
     "execution_count": 58,
     "metadata": {},
     "output_type": "execute_result"
    }
   ],
   "source": [
    "stack"
   ]
  },
  {
   "cell_type": "code",
   "execution_count": null,
   "metadata": {},
   "outputs": [],
   "source": [
    "3  5 1 2 5  7  4 2  9 5\n",
    "5 -1 2 5 7 -1 -1 9 -1 -1"
   ]
  },
  {
   "cell_type": "code",
   "execution_count": null,
   "metadata": {},
   "outputs": [],
   "source": []
  },
  {
   "cell_type": "code",
   "execution_count": 54,
   "metadata": {
    "ExecuteTime": {
     "end_time": "2021-12-01T14:07:03.380615Z",
     "start_time": "2021-12-01T14:07:03.355163Z"
    }
   },
   "outputs": [
    {
     "data": {
      "text/plain": [
       "[-1, 5, -1, 2, 5, 7, -1, -1, 9, -1]"
      ]
     },
     "execution_count": 54,
     "metadata": {},
     "output_type": "execute_result"
    }
   ],
   "source": [
    "nges"
   ]
  },
  {
   "cell_type": "code",
   "execution_count": 50,
   "metadata": {
    "ExecuteTime": {
     "end_time": "2021-12-01T14:03:17.903946Z",
     "start_time": "2021-12-01T14:03:17.892973Z"
    }
   },
   "outputs": [
    {
     "data": {
      "text/plain": [
       "[-1, 5, 1, 2, 5, 7, 4, 2, 9, 5]"
      ]
     },
     "execution_count": 50,
     "metadata": {},
     "output_type": "execute_result"
    }
   ],
   "source": [
    "nges"
   ]
  },
  {
   "cell_type": "code",
   "execution_count": 37,
   "metadata": {
    "ExecuteTime": {
     "end_time": "2021-12-01T13:51:46.166485Z",
     "start_time": "2021-12-01T13:51:46.142550Z"
    }
   },
   "outputs": [
    {
     "data": {
      "text/plain": [
       "[3, 5, 7, 9]"
      ]
     },
     "execution_count": 37,
     "metadata": {},
     "output_type": "execute_result"
    }
   ],
   "source": [
    "stack"
   ]
  },
  {
   "cell_type": "code",
   "execution_count": null,
   "metadata": {},
   "outputs": [],
   "source": []
  },
  {
   "cell_type": "code",
   "execution_count": 22,
   "metadata": {
    "ExecuteTime": {
     "end_time": "2021-12-01T13:37:12.532859Z",
     "start_time": "2021-12-01T13:37:12.522944Z"
    }
   },
   "outputs": [],
   "source": [
    "import math\n",
    "\n",
    "arr = [3, 5, 1, 2, 5, 7, 4, 2, 9, 5]\n",
    "# i = 1\n",
    "bucket = [-math.inf for _ in range(len(arr))]\n",
    "bucket[0] = arr[0]\n",
    "for i in range(1, len(arr)):\n",
    "    if arr[i] > bucket[i - 1]:\n",
    "            bucket[i] = arr[i]\n",
    "#     else:\n",
    "        \n",
    "# while i < len(arr):\n",
    "#     if arr[i] > bucket[-1]:\n",
    "#         bucket[i] = arr[i]\n",
    "#     i += 1\n",
    "#     print(bucket)\n",
    "#     else:\n",
    "#         i += 1"
   ]
  },
  {
   "cell_type": "code",
   "execution_count": 24,
   "metadata": {
    "ExecuteTime": {
     "end_time": "2021-12-01T13:44:25.894527Z",
     "start_time": "2021-12-01T13:44:25.874579Z"
    }
   },
   "outputs": [],
   "source": [
    "arr = [(0, 3), (1, 5), (2, 1), (3, 2), (4, 5), (5, 7), (6, 4), (7, 2), (8, 9), (9, 5)]\n",
    "arr = sorted(arr, key=lambda x:x[1])"
   ]
  },
  {
   "cell_type": "code",
   "execution_count": 25,
   "metadata": {
    "ExecuteTime": {
     "end_time": "2021-12-01T13:44:27.136761Z",
     "start_time": "2021-12-01T13:44:27.112890Z"
    }
   },
   "outputs": [
    {
     "data": {
      "text/plain": [
       "[(2, 1),\n",
       " (3, 2),\n",
       " (7, 2),\n",
       " (0, 3),\n",
       " (6, 4),\n",
       " (1, 5),\n",
       " (4, 5),\n",
       " (9, 5),\n",
       " (5, 7),\n",
       " (8, 9)]"
      ]
     },
     "execution_count": 25,
     "metadata": {},
     "output_type": "execute_result"
    }
   ],
   "source": [
    "arr"
   ]
  },
  {
   "cell_type": "code",
   "execution_count": 28,
   "metadata": {
    "ExecuteTime": {
     "end_time": "2021-12-01T13:47:04.577944Z",
     "start_time": "2021-12-01T13:47:04.568940Z"
    }
   },
   "outputs": [],
   "source": [
    "ans = [-1 for _ in range(len(arr))]\n",
    "for elm in arr:\n",
    "#     print(elm)\n",
    "    ans[elm[0]] = elm[1]"
   ]
  },
  {
   "cell_type": "code",
   "execution_count": null,
   "metadata": {},
   "outputs": [],
   "source": []
  },
  {
   "cell_type": "code",
   "execution_count": null,
   "metadata": {},
   "outputs": [],
   "source": [
    "9         9\n",
    "8\n",
    "7      7\n",
    "6\n",
    "5  5  5    5\n",
    "4       4\n",
    "3 3\n",
    "2    2   2\n",
    "1   1"
   ]
  },
  {
   "cell_type": "code",
   "execution_count": null,
   "metadata": {},
   "outputs": [],
   "source": [
    "[3, 5, ?, 2, 5, 7, ?, ?, 9, ?]"
   ]
  },
  {
   "cell_type": "markdown",
   "metadata": {},
   "source": [
    "i = 2"
   ]
  },
  {
   "cell_type": "code",
   "execution_count": 23,
   "metadata": {
    "ExecuteTime": {
     "end_time": "2021-12-01T13:37:15.092208Z",
     "start_time": "2021-12-01T13:37:15.066743Z"
    }
   },
   "outputs": [
    {
     "data": {
      "text/plain": [
       "[3, 5, -inf, 2, 5, 7, -inf, 2, 9, -inf]"
      ]
     },
     "execution_count": 23,
     "metadata": {},
     "output_type": "execute_result"
    }
   ],
   "source": [
    "bucket"
   ]
  },
  {
   "cell_type": "markdown",
   "metadata": {},
   "source": [
    "3 5 2 7 9  5  4  8\n",
    "5 7 7 9 -1 -1 -1 -1\n",
    "\n",
    "3 5 2 7 9 5 4 8\n",
    "0 1 2 3 4 5 6 7\n",
    "3 5   7 9"
   ]
  },
  {
   "cell_type": "code",
   "execution_count": null,
   "metadata": {},
   "outputs": [],
   "source": [
    "[(0, 3), (1, 5), (3, 7), (4, 9)]\n",
    "bucket = [3, 5, 7, 9]"
   ]
  },
  {
   "cell_type": "code",
   "execution_count": null,
   "metadata": {},
   "outputs": [],
   "source": [
    "[3 5 7 7 9 -1 -1 -1]"
   ]
  },
  {
   "cell_type": "code",
   "execution_count": null,
   "metadata": {},
   "outputs": [],
   "source": [
    "[3 5 5 7 9 9 9 9]"
   ]
  },
  {
   "cell_type": "code",
   "execution_count": 7,
   "metadata": {
    "ExecuteTime": {
     "end_time": "2021-12-01T13:24:41.145476Z",
     "start_time": "2021-12-01T13:24:41.121539Z"
    }
   },
   "outputs": [
    {
     "data": {
      "text/plain": [
       "[3, 5, 7, 9]"
      ]
     },
     "execution_count": 7,
     "metadata": {},
     "output_type": "execute_result"
    }
   ],
   "source": [
    "bucket"
   ]
  },
  {
   "cell_type": "code",
   "execution_count": null,
   "metadata": {},
   "outputs": [],
   "source": []
  },
  {
   "cell_type": "code",
   "execution_count": null,
   "metadata": {},
   "outputs": [],
   "source": []
  },
  {
   "cell_type": "code",
   "execution_count": 16,
   "metadata": {
    "ExecuteTime": {
     "end_time": "2021-10-08T15:17:56.733252Z",
     "start_time": "2021-10-08T15:17:56.724725Z"
    }
   },
   "outputs": [],
   "source": [
    "arr = [3, 5, 2, 7, 3, 11, 5, 7, 4, 11, 31]\n",
    "#      0  1  2  3  4   5  6  7  8   9  10"
   ]
  },
  {
   "cell_type": "code",
   "execution_count": 17,
   "metadata": {
    "ExecuteTime": {
     "end_time": "2021-10-08T15:17:58.237221Z",
     "start_time": "2021-10-08T15:17:58.218759Z"
    }
   },
   "outputs": [
    {
     "name": "stdout",
     "output_type": "stream",
     "text": [
      "5 3\n",
      "7 2\n",
      "11 3\n",
      "7 5\n",
      "11 4\n",
      "31 11\n"
     ]
    }
   ],
   "source": [
    "stack = [0]\n",
    "nges = dict()\n",
    "i = 1\n",
    "while i <= len(arr) - 1:\n",
    "    next = arr[i]\n",
    "    if stack:\n",
    "        if next > arr[stack[-1]]:\n",
    "            print(next, arr[stack[-1]])\n",
    "            nges[stack.pop()] = next\n",
    "            stack.append(i)\n",
    "            i += 1\n",
    "        else:\n",
    "            while :\n",
    "                popped = stack.pop()\n",
    "                \n",
    "            i += 1"
   ]
  },
  {
   "cell_type": "code",
   "execution_count": 18,
   "metadata": {
    "ExecuteTime": {
     "end_time": "2021-10-08T15:17:58.756979Z",
     "start_time": "2021-10-08T15:17:58.741777Z"
    }
   },
   "outputs": [
    {
     "data": {
      "text/plain": [
       "[1, 3, 5, 7, 10]"
      ]
     },
     "execution_count": 18,
     "metadata": {},
     "output_type": "execute_result"
    }
   ],
   "source": [
    "stack"
   ]
  },
  {
   "cell_type": "code",
   "execution_count": 19,
   "metadata": {
    "ExecuteTime": {
     "end_time": "2021-10-08T15:17:59.383313Z",
     "start_time": "2021-10-08T15:17:59.357455Z"
    }
   },
   "outputs": [
    {
     "data": {
      "text/plain": [
       "{0: 5, 2: 7, 4: 11, 6: 7, 8: 11, 9: 31}"
      ]
     },
     "execution_count": 19,
     "metadata": {},
     "output_type": "execute_result"
    }
   ],
   "source": [
    "nges"
   ]
  },
  {
   "cell_type": "code",
   "execution_count": null,
   "metadata": {},
   "outputs": [],
   "source": []
  },
  {
   "cell_type": "code",
   "execution_count": 3,
   "metadata": {
    "ExecuteTime": {
     "end_time": "2021-10-08T07:36:44.550296Z",
     "start_time": "2021-10-08T07:36:44.545310Z"
    }
   },
   "outputs": [],
   "source": [
    "stack = list()\n",
    "j = 0\n",
    "for i in arr:\n",
    "    if i > j:\n",
    "        stack.append(i)\n",
    "    j = i"
   ]
  },
  {
   "cell_type": "code",
   "execution_count": 4,
   "metadata": {
    "ExecuteTime": {
     "end_time": "2021-10-08T07:36:46.549935Z",
     "start_time": "2021-10-08T07:36:46.535956Z"
    }
   },
   "outputs": [
    {
     "data": {
      "text/plain": [
       "[3, 5, 7]"
      ]
     },
     "execution_count": 4,
     "metadata": {},
     "output_type": "execute_result"
    }
   ],
   "source": [
    "stack"
   ]
  },
  {
   "cell_type": "code",
   "execution_count": null,
   "metadata": {},
   "outputs": [],
   "source": []
  }
 ],
 "metadata": {
  "hide_input": false,
  "kernelspec": {
   "display_name": "Python 3",
   "language": "python",
   "name": "python3"
  },
  "language_info": {
   "codemirror_mode": {
    "name": "ipython",
    "version": 3
   },
   "file_extension": ".py",
   "mimetype": "text/x-python",
   "name": "python",
   "nbconvert_exporter": "python",
   "pygments_lexer": "ipython3",
   "version": "3.8.5"
  },
  "toc": {
   "base_numbering": 1,
   "nav_menu": {},
   "number_sections": true,
   "sideBar": true,
   "skip_h1_title": false,
   "title_cell": "Table of Contents",
   "title_sidebar": "Contents",
   "toc_cell": false,
   "toc_position": {},
   "toc_section_display": true,
   "toc_window_display": false
  },
  "varInspector": {
   "cols": {
    "lenName": 16,
    "lenType": 16,
    "lenVar": 40
   },
   "kernels_config": {
    "python": {
     "delete_cmd_postfix": "",
     "delete_cmd_prefix": "del ",
     "library": "var_list.py",
     "varRefreshCmd": "print(var_dic_list())"
    },
    "r": {
     "delete_cmd_postfix": ") ",
     "delete_cmd_prefix": "rm(",
     "library": "var_list.r",
     "varRefreshCmd": "cat(var_dic_list()) "
    }
   },
   "types_to_exclude": [
    "module",
    "function",
    "builtin_function_or_method",
    "instance",
    "_Feature"
   ],
   "window_display": false
  }
 },
 "nbformat": 4,
 "nbformat_minor": 4
}
