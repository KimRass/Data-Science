{
 "cells": [
  {
   "cell_type": "code",
   "execution_count": null,
   "metadata": {},
   "outputs": [],
   "source": [
    "1 0 0 0\n",
    "0 0 1 0\n",
    "0 1 0 0\n",
    "0 0 0 1"
   ]
  },
  {
   "cell_type": "code",
   "execution_count": 1,
   "metadata": {
    "ExecuteTime": {
     "end_time": "2021-10-11T15:22:19.245554Z",
     "start_time": "2021-10-11T15:22:18.544204Z"
    }
   },
   "outputs": [
    {
     "name": "stdout",
     "output_type": "stream",
     "text": [
      "4\n"
     ]
    }
   ],
   "source": [
    "N = int(input())"
   ]
  },
  {
   "cell_type": "code",
   "execution_count": 2,
   "metadata": {
    "ExecuteTime": {
     "end_time": "2021-10-11T15:24:09.290244Z",
     "start_time": "2021-10-11T15:24:09.274286Z"
    }
   },
   "outputs": [],
   "source": [
    "choice = {i:True for i in range(N)}\n",
    "i = 0\n",
    "choice[i] = False\n",
    "while True:\n",
    "    for j in [k for k, v in choice.items() if v == True]:\n",
    "        "
   ]
  },
  {
   "cell_type": "code",
   "execution_count": null,
   "metadata": {},
   "outputs": [],
   "source": [
    "def choose():\n",
    "    "
   ]
  },
  {
   "cell_type": "code",
   "execution_count": 5,
   "metadata": {
    "ExecuteTime": {
     "end_time": "2021-10-11T15:25:49.779273Z",
     "start_time": "2021-10-11T15:25:49.764349Z"
    }
   },
   "outputs": [
    {
     "data": {
      "text/plain": [
       "[1, 2, 3]"
      ]
     },
     "execution_count": 5,
     "metadata": {},
     "output_type": "execute_result"
    }
   ],
   "source": [
    "[k for k, v in choice.items() if v == True]"
   ]
  },
  {
   "cell_type": "code",
   "execution_count": 51,
   "metadata": {
    "ExecuteTime": {
     "end_time": "2021-10-14T14:33:34.365420Z",
     "start_time": "2021-10-14T14:33:34.343478Z"
    }
   },
   "outputs": [
    {
     "name": "stdout",
     "output_type": "stream",
     "text": [
      "0 1\n",
      "1 0\n",
      "2 2\n",
      "0 2\n",
      "0 3\n",
      "0\n"
     ]
    }
   ],
   "source": [
    "N = 4\n",
    "chess = [[True for _ in range(N)] for _ in range(N)]\n",
    "init_row = 0\n",
    "init_col = 1\n",
    "row = init_row\n",
    "col = init_col\n",
    "# while ~:\n",
    "cnt = 0\n",
    "for _ in range(100):\n",
    "#     print(row, col)\n",
    "    if col >= N:\n",
    "        init_col += 1\n",
    "        if init_col >= N:\n",
    "            break\n",
    "        row = init_row\n",
    "        col = init_col\n",
    "    if chess[row][col] == True:\n",
    "        chess[row][col] = False\n",
    "        print(row, col)\n",
    "        if row == N - 1:\n",
    "            cnt += 1\n",
    "        for i in range(1, N):\n",
    "            if row + i <= N - 1:\n",
    "                chess[row + i][col] = False\n",
    "                if col + i <= N - 1:\n",
    "                    chess[row + i][col + i] = False\n",
    "            if row - i >= 0 and col - i >= 0:\n",
    "                chess[row - i][col - i] = False\n",
    "        row += 1\n",
    "        col = 0\n",
    "    else:\n",
    "        col += 1\n",
    "print(cnt)"
   ]
  },
  {
   "cell_type": "code",
   "execution_count": 48,
   "metadata": {
    "ExecuteTime": {
     "end_time": "2021-10-14T14:32:15.584424Z",
     "start_time": "2021-10-14T14:32:15.572456Z"
    }
   },
   "outputs": [
    {
     "data": {
      "text/plain": [
       "4"
      ]
     },
     "execution_count": 48,
     "metadata": {},
     "output_type": "execute_result"
    }
   ],
   "source": [
    "init_col"
   ]
  },
  {
   "cell_type": "code",
   "execution_count": 47,
   "metadata": {
    "ExecuteTime": {
     "end_time": "2021-10-14T14:32:02.473247Z",
     "start_time": "2021-10-14T14:32:02.458286Z"
    }
   },
   "outputs": [
    {
     "name": "stdout",
     "output_type": "stream",
     "text": [
      "0 4\n"
     ]
    }
   ],
   "source": [
    "print(row, col)"
   ]
  },
  {
   "cell_type": "code",
   "execution_count": 45,
   "metadata": {
    "ExecuteTime": {
     "end_time": "2021-10-14T14:29:35.816420Z",
     "start_time": "2021-10-14T14:29:35.799495Z"
    }
   },
   "outputs": [
    {
     "data": {
      "text/plain": [
       "[[False, False, False, False],\n",
       " [False, False, False, False],\n",
       " [False, False, False, False],\n",
       " [False, False, False, False]]"
      ]
     },
     "execution_count": 45,
     "metadata": {},
     "output_type": "execute_result"
    }
   ],
   "source": [
    "chess"
   ]
  }
 ],
 "metadata": {
  "hide_input": false,
  "kernelspec": {
   "display_name": "Python 3",
   "language": "python",
   "name": "python3"
  },
  "language_info": {
   "codemirror_mode": {
    "name": "ipython",
    "version": 3
   },
   "file_extension": ".py",
   "mimetype": "text/x-python",
   "name": "python",
   "nbconvert_exporter": "python",
   "pygments_lexer": "ipython3",
   "version": "3.8.5"
  },
  "toc": {
   "base_numbering": 1,
   "nav_menu": {},
   "number_sections": true,
   "sideBar": true,
   "skip_h1_title": false,
   "title_cell": "Table of Contents",
   "title_sidebar": "Contents",
   "toc_cell": false,
   "toc_position": {},
   "toc_section_display": true,
   "toc_window_display": false
  },
  "varInspector": {
   "cols": {
    "lenName": 16,
    "lenType": 16,
    "lenVar": 40
   },
   "kernels_config": {
    "python": {
     "delete_cmd_postfix": "",
     "delete_cmd_prefix": "del ",
     "library": "var_list.py",
     "varRefreshCmd": "print(var_dic_list())"
    },
    "r": {
     "delete_cmd_postfix": ") ",
     "delete_cmd_prefix": "rm(",
     "library": "var_list.r",
     "varRefreshCmd": "cat(var_dic_list()) "
    }
   },
   "types_to_exclude": [
    "module",
    "function",
    "builtin_function_or_method",
    "instance",
    "_Feature"
   ],
   "window_display": false
  }
 },
 "nbformat": 4,
 "nbformat_minor": 4
}
