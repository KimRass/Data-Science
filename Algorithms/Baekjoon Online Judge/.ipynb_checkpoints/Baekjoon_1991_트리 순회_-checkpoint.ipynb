{
 "cells": [
  {
   "cell_type": "code",
   "execution_count": 10,
   "metadata": {
    "ExecuteTime": {
     "end_time": "2021-09-28T09:08:37.870219Z",
     "start_time": "2021-09-28T09:08:37.863258Z"
    }
   },
   "outputs": [],
   "source": [
    "class Node():\n",
    "    def __init__(self, value):\n",
    "        self.value = value\n",
    "        self.left = None\n",
    "        self.right = None\n",
    "class BinaryTree():\n",
    "    def __init__(self, root):\n",
    "        self.root = root\n",
    "    def insert(self, p, l, r):\n",
    "        self.cur_node = Node(p)\n",
    "        self.cur_node.left = l\n",
    "        self.cur_node.right = r\n",
    "    def preorder(self, node):\n",
    "        if node == None:\n",
    "            pass\n",
    "        else:\n",
    "            print(node.value)\n",
    "            preorder(node.left)\n",
    "            preorder(node.right)"
   ]
  },
  {
   "cell_type": "code",
   "execution_count": 11,
   "metadata": {
    "ExecuteTime": {
     "end_time": "2021-09-28T09:08:52.071082Z",
     "start_time": "2021-09-28T09:08:38.277160Z"
    }
   },
   "outputs": [
    {
     "name": "stdout",
     "output_type": "stream",
     "text": [
      "7\n",
      "a b c\n",
      "b d .\n",
      "c e f\n",
      "e . .\n",
      "f . g\n",
      "d . .\n",
      "g . .\n"
     ]
    }
   ],
   "source": [
    "N = int(input())\n",
    "for i in range(N):\n",
    "    p, l, r = input().split()\n",
    "    if i == 0:\n",
    "        root = Node(p)\n",
    "        bt = BinaryTree(root)\n",
    "    else:\n",
    "        bt.insert(p, l, r)"
   ]
  },
  {
   "cell_type": "code",
   "execution_count": 13,
   "metadata": {
    "ExecuteTime": {
     "end_time": "2021-09-28T09:09:43.282618Z",
     "start_time": "2021-09-28T09:09:43.269652Z"
    }
   },
   "outputs": [
    {
     "name": "stdout",
     "output_type": "stream",
     "text": [
      "a\n"
     ]
    },
    {
     "ename": "NameError",
     "evalue": "name 'preorder' is not defined",
     "output_type": "error",
     "traceback": [
      "\u001b[1;31m---------------------------------------------------------------------------\u001b[0m",
      "\u001b[1;31mNameError\u001b[0m                                 Traceback (most recent call last)",
      "\u001b[1;32m<ipython-input-13-54ce81519331>\u001b[0m in \u001b[0;36m<module>\u001b[1;34m\u001b[0m\n\u001b[1;32m----> 1\u001b[1;33m \u001b[0mbt\u001b[0m\u001b[1;33m.\u001b[0m\u001b[0mpreorder\u001b[0m\u001b[1;33m(\u001b[0m\u001b[0mNode\u001b[0m\u001b[1;33m(\u001b[0m\u001b[1;34m\"a\"\u001b[0m\u001b[1;33m)\u001b[0m\u001b[1;33m)\u001b[0m\u001b[1;33m\u001b[0m\u001b[1;33m\u001b[0m\u001b[0m\n\u001b[0m",
      "\u001b[1;32m<ipython-input-10-9696cb56d814>\u001b[0m in \u001b[0;36mpreorder\u001b[1;34m(self, node)\u001b[0m\n\u001b[0;32m     16\u001b[0m         \u001b[1;32melse\u001b[0m\u001b[1;33m:\u001b[0m\u001b[1;33m\u001b[0m\u001b[1;33m\u001b[0m\u001b[0m\n\u001b[0;32m     17\u001b[0m             \u001b[0mprint\u001b[0m\u001b[1;33m(\u001b[0m\u001b[0mnode\u001b[0m\u001b[1;33m.\u001b[0m\u001b[0mvalue\u001b[0m\u001b[1;33m)\u001b[0m\u001b[1;33m\u001b[0m\u001b[1;33m\u001b[0m\u001b[0m\n\u001b[1;32m---> 18\u001b[1;33m             \u001b[0mpreorder\u001b[0m\u001b[1;33m(\u001b[0m\u001b[0mnode\u001b[0m\u001b[1;33m.\u001b[0m\u001b[0mleft\u001b[0m\u001b[1;33m)\u001b[0m\u001b[1;33m\u001b[0m\u001b[1;33m\u001b[0m\u001b[0m\n\u001b[0m\u001b[0;32m     19\u001b[0m             \u001b[0mpreorder\u001b[0m\u001b[1;33m(\u001b[0m\u001b[0mnode\u001b[0m\u001b[1;33m.\u001b[0m\u001b[0mright\u001b[0m\u001b[1;33m)\u001b[0m\u001b[1;33m\u001b[0m\u001b[1;33m\u001b[0m\u001b[0m\n",
      "\u001b[1;31mNameError\u001b[0m: name 'preorder' is not defined"
     ]
    }
   ],
   "source": [
    "bt.preorder(Node(\"a\"))"
   ]
  },
  {
   "cell_type": "code",
   "execution_count": 19,
   "metadata": {
    "ExecuteTime": {
     "end_time": "2021-09-28T09:25:58.677542Z",
     "start_time": "2021-09-28T09:25:45.901064Z"
    }
   },
   "outputs": [
    {
     "name": "stdout",
     "output_type": "stream",
     "text": [
      "7\n",
      "a b c\n",
      "b d .\n",
      "c e f\n",
      "e . .\n",
      "f . g\n",
      "d . .\n",
      "g . .\n"
     ]
    }
   ],
   "source": [
    "import sys\n",
    "\n",
    "N = int(input())\n",
    "tree = dict()\n",
    "for _ in range(N):\n",
    "#     parent, left, right = sys.stdin.readline().rstrip().split()\n",
    "    parent, left, right = input().split()\n",
    "    tree[parent] = (left, right)"
   ]
  },
  {
   "cell_type": "code",
   "execution_count": 20,
   "metadata": {
    "ExecuteTime": {
     "end_time": "2021-09-28T09:26:01.033155Z",
     "start_time": "2021-09-28T09:26:01.024180Z"
    }
   },
   "outputs": [
    {
     "data": {
      "text/plain": [
       "{'a': ['b', 'c'],\n",
       " 'b': ['d', '.'],\n",
       " 'c': ['e', 'f'],\n",
       " 'e': ['.', '.'],\n",
       " 'f': ['.', 'g'],\n",
       " 'd': ['.', '.'],\n",
       " 'g': ['.', '.']}"
      ]
     },
     "execution_count": 20,
     "metadata": {},
     "output_type": "execute_result"
    }
   ],
   "source": [
    "tree"
   ]
  },
  {
   "cell_type": "code",
   "execution_count": 33,
   "metadata": {
    "ExecuteTime": {
     "end_time": "2021-09-28T09:32:14.951467Z",
     "start_time": "2021-09-28T09:32:14.946479Z"
    }
   },
   "outputs": [],
   "source": [
    "def preorder(node):\n",
    "    if node != \".\":\n",
    "        print(node)\n",
    "        preorder(tree[node][0])\n",
    "        preorder(tree[node][1])\n",
    "    else:\n",
    "        pass"
   ]
  },
  {
   "cell_type": "code",
   "execution_count": 34,
   "metadata": {
    "ExecuteTime": {
     "end_time": "2021-09-28T09:32:15.156916Z",
     "start_time": "2021-09-28T09:32:15.151931Z"
    }
   },
   "outputs": [
    {
     "name": "stdout",
     "output_type": "stream",
     "text": [
      "a\n",
      "b\n",
      "d\n",
      "c\n",
      "e\n",
      "f\n",
      "g\n"
     ]
    }
   ],
   "source": [
    "preorder(\"a\")"
   ]
  },
  {
   "cell_type": "code",
   "execution_count": 35,
   "metadata": {
    "ExecuteTime": {
     "end_time": "2021-09-28T09:32:53.187667Z",
     "start_time": "2021-09-28T09:32:53.182708Z"
    }
   },
   "outputs": [],
   "source": [
    "def inorder(node):\n",
    "    if node != \".\":\n",
    "        inorder(tree[node][0])\n",
    "        print(node)\n",
    "        inorder(tree[node][1])\n",
    "    else:\n",
    "        pass"
   ]
  },
  {
   "cell_type": "code",
   "execution_count": 39,
   "metadata": {
    "ExecuteTime": {
     "end_time": "2021-09-28T09:34:23.771103Z",
     "start_time": "2021-09-28T09:34:23.767136Z"
    }
   },
   "outputs": [
    {
     "name": "stdout",
     "output_type": "stream",
     "text": [
      "d\n"
     ]
    }
   ],
   "source": [
    "preorder(\"d\")"
   ]
  }
 ],
 "metadata": {
  "kernelspec": {
   "display_name": "Python 3",
   "language": "python",
   "name": "python3"
  },
  "language_info": {
   "codemirror_mode": {
    "name": "ipython",
    "version": 3
   },
   "file_extension": ".py",
   "mimetype": "text/x-python",
   "name": "python",
   "nbconvert_exporter": "python",
   "pygments_lexer": "ipython3",
   "version": "3.7.7"
  },
  "toc": {
   "base_numbering": 1,
   "nav_menu": {},
   "number_sections": true,
   "sideBar": true,
   "skip_h1_title": false,
   "title_cell": "Table of Contents",
   "title_sidebar": "Contents",
   "toc_cell": false,
   "toc_position": {},
   "toc_section_display": true,
   "toc_window_display": false
  }
 },
 "nbformat": 4,
 "nbformat_minor": 4
}
