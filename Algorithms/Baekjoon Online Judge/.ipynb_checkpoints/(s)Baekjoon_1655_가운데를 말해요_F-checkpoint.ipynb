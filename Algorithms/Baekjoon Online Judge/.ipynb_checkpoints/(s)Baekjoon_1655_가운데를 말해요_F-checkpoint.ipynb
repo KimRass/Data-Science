{
 "cells": [
  {
   "cell_type": "markdown",
   "metadata": {},
   "source": [
    "Written by KimRass\n",
    "- Source: https://www.acmicpc.net/problem/1655"
   ]
  },
  {
   "cell_type": "code",
   "execution_count": 9,
   "metadata": {
    "ExecuteTime": {
     "end_time": "2021-09-30T05:01:28.900655Z",
     "start_time": "2021-09-30T04:02:00.756586Z"
    }
   },
   "outputs": [
    {
     "name": "stdout",
     "output_type": "stream",
     "text": [
      "7\n",
      "8\n",
      "5\n",
      "5\n",
      "5\n",
      "2\n",
      "5\n",
      "d\n"
     ]
    },
    {
     "ename": "ValueError",
     "evalue": "invalid literal for int() with base 10: 'd'",
     "output_type": "error",
     "traceback": [
      "\u001b[1;31m---------------------------------------------------------------------------\u001b[0m",
      "\u001b[1;31mValueError\u001b[0m                                Traceback (most recent call last)",
      "\u001b[1;32m<ipython-input-9-8435ad1d7933>\u001b[0m in \u001b[0;36m<module>\u001b[1;34m\u001b[0m\n\u001b[0;32m     20\u001b[0m \u001b[1;33m\u001b[0m\u001b[0m\n\u001b[0;32m     21\u001b[0m \u001b[1;32mfor\u001b[0m \u001b[0m_\u001b[0m \u001b[1;32min\u001b[0m \u001b[0mrange\u001b[0m\u001b[1;33m(\u001b[0m\u001b[0mN\u001b[0m \u001b[1;33m-\u001b[0m \u001b[1;36m2\u001b[0m\u001b[1;33m)\u001b[0m\u001b[1;33m:\u001b[0m\u001b[1;33m\u001b[0m\u001b[1;33m\u001b[0m\u001b[0m\n\u001b[1;32m---> 22\u001b[1;33m     \u001b[0mi\u001b[0m \u001b[1;33m=\u001b[0m \u001b[0mint\u001b[0m\u001b[1;33m(\u001b[0m\u001b[0minput\u001b[0m\u001b[1;33m(\u001b[0m\u001b[1;33m)\u001b[0m\u001b[1;33m)\u001b[0m\u001b[1;33m\u001b[0m\u001b[1;33m\u001b[0m\u001b[0m\n\u001b[0m\u001b[0;32m     23\u001b[0m \u001b[1;31m#     i = int(sys.stdin.readline().rstrip())\u001b[0m\u001b[1;33m\u001b[0m\u001b[1;33m\u001b[0m\u001b[1;33m\u001b[0m\u001b[0m\n\u001b[0;32m     24\u001b[0m     \u001b[1;32mif\u001b[0m \u001b[0mi\u001b[0m \u001b[1;33m<\u001b[0m \u001b[1;33m-\u001b[0m\u001b[0msmaller\u001b[0m\u001b[1;33m[\u001b[0m\u001b[1;36m0\u001b[0m\u001b[1;33m]\u001b[0m\u001b[1;33m:\u001b[0m\u001b[1;33m\u001b[0m\u001b[1;33m\u001b[0m\u001b[0m\n",
      "\u001b[1;31mValueError\u001b[0m: invalid literal for int() with base 10: 'd'"
     ]
    }
   ],
   "source": [
    "import sys\n",
    "import heapq as hq\n",
    "\n",
    "N = int(input())\n",
    "\n",
    "smaller = list()\n",
    "bigger = list()\n",
    "\n",
    "a = int(input())\n",
    "b = int(input())\n",
    "if a >= b:\n",
    "    hq.heappush(smaller, -b)\n",
    "    hq.heappush(bigger, a)\n",
    "else:\n",
    "    hq.heappush(smaller, -a)\n",
    "    hq.heappush(bigger, b)\n",
    "    \n",
    "print(-smaller[0])\n",
    "print(-smaller[0])\n",
    "    \n",
    "for _ in range(N - 2):\n",
    "    i = int(input())\n",
    "#     i = int(sys.stdin.readline().rstrip())\n",
    "    if i < -smaller[0]:\n",
    "        hq.heappush(smaller, -i)\n",
    "    else:\n",
    "        if bigger:\n",
    "            if i <= bigger[0]:\n",
    "                hq.heappush(smaller, -i)\n",
    "            else:\n",
    "                hq.heappush(bigger, i)\n",
    "        else:\n",
    "            if i >= -smaller[0]:\n",
    "                hq.heappush(bigger, i)\n",
    "    print(-smaller[0])\n",
    "#     print(smaller, bigger)"
   ]
  },
  {
   "cell_type": "code",
   "execution_count": null,
   "metadata": {
    "ExecuteTime": {
     "start_time": "2021-09-30T05:01:31.985Z"
    }
   },
   "outputs": [
    {
     "name": "stdout",
     "output_type": "stream",
     "text": [
      "7\n",
      "1\n",
      "5\n",
      "1\n",
      "1\n",
      "2\n",
      "1\n",
      "10\n",
      "1\n",
      "-99\n",
      "1\n"
     ]
    }
   ],
   "source": [
    "import sys\n",
    "import heapq as hq\n",
    "\n",
    "N = int(input())\n",
    "\n",
    "smaller = list()\n",
    "bigger = list()\n",
    "\n",
    "a = int(input())\n",
    "b = int(input())\n",
    "if a >= b:\n",
    "    hq.heappush(smaller, -b)\n",
    "    hq.heappush(bigger, a)\n",
    "else:\n",
    "    hq.heappush(smaller, -a)\n",
    "    hq.heappush(bigger, b)\n",
    "    \n",
    "print(-smaller[0])\n",
    "print(-smaller[0])\n",
    "    \n",
    "for _ in range(N - 2):\n",
    "    i = int(input())\n",
    "#     i = int(sys.stdin.readline().rstrip())\n",
    "    if i < -smaller[0]:\n",
    "        hq.heappush(smaller, -i)\n",
    "    else:\n",
    "        hq.heappush(bigger, i)\n",
    "    print(-smaller[0])\n",
    "#     print(smaller, bigger)"
   ]
  },
  {
   "cell_type": "markdown",
   "metadata": {},
   "source": [
    "7 1 5 2 10 -99 7 5\n",
    "7 8 5 2 10 -10 7 5"
   ]
  },
  {
   "cell_type": "code",
   "execution_count": null,
   "metadata": {},
   "outputs": [],
   "source": [
    "[1] []: 1\n",
    "[1] [5]: 1\n",
    "[1, 2] [5]: 2\n",
    "[1, 2] [5, 10]: 2\n",
    "[-99, 1, 2] [5, 10]: 2\n",
    "[-99, 1, 2] [5, 7, 10]: 2\n",
    "[-99, 1, 2, 5] [5, 7, 10]: 5"
   ]
  },
  {
   "cell_type": "code",
   "execution_count": null,
   "metadata": {},
   "outputs": [],
   "source": [
    "[8] []: 1\n",
    "[5] [8]: 1\n",
    "    \n",
    "[1, 2] [5]: 2\n",
    "[1, 2] [5, 10]: 2\n",
    "[-99, 1, 2] [5, 10]: 2\n",
    "[-99, 1, 2] [5, 7, 10]: 2\n",
    "[-99, 1, 2, 5] [5, 7, 10]: 5"
   ]
  }
 ],
 "metadata": {
  "hide_input": false,
  "kernelspec": {
   "display_name": "Python 3",
   "language": "python",
   "name": "python3"
  },
  "language_info": {
   "codemirror_mode": {
    "name": "ipython",
    "version": 3
   },
   "file_extension": ".py",
   "mimetype": "text/x-python",
   "name": "python",
   "nbconvert_exporter": "python",
   "pygments_lexer": "ipython3",
   "version": "3.7.7"
  },
  "toc": {
   "base_numbering": 1,
   "nav_menu": {},
   "number_sections": true,
   "sideBar": true,
   "skip_h1_title": false,
   "title_cell": "Table of Contents",
   "title_sidebar": "Contents",
   "toc_cell": false,
   "toc_position": {},
   "toc_section_display": true,
   "toc_window_display": false
  },
  "varInspector": {
   "cols": {
    "lenName": 16,
    "lenType": 16,
    "lenVar": 40
   },
   "kernels_config": {
    "python": {
     "delete_cmd_postfix": "",
     "delete_cmd_prefix": "del ",
     "library": "var_list.py",
     "varRefreshCmd": "print(var_dic_list())"
    },
    "r": {
     "delete_cmd_postfix": ") ",
     "delete_cmd_prefix": "rm(",
     "library": "var_list.r",
     "varRefreshCmd": "cat(var_dic_list()) "
    }
   },
   "types_to_exclude": [
    "module",
    "function",
    "builtin_function_or_method",
    "instance",
    "_Feature"
   ],
   "window_display": false
  }
 },
 "nbformat": 4,
 "nbformat_minor": 4
}
