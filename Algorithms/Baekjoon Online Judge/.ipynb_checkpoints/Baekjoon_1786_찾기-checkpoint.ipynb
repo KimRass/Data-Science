{
 "cells": [
  {
   "cell_type": "markdown",
   "metadata": {},
   "source": [
    "Written by KimRass\n",
    "- Source: https://www.acmicpc.net/problem/1786"
   ]
  },
  {
   "cell_type": "code",
   "execution_count": null,
   "metadata": {
    "ExecuteTime": {
     "end_time": "2021-11-23T15:07:11.501101Z",
     "start_time": "2021-11-23T15:06:57.009457Z"
    }
   },
   "outputs": [],
   "source": [
    "# s = input()\n",
    "# p = input()\n",
    "s = \"ABC ABCDAB ABCDABCDABDE\"\n",
    "p = \"ABCDABD\"\n",
    "\n",
    "i = 0\n",
    "j = 1\n",
    "lps = {i:0 for i in range(len(p))}\n",
    "while j < len(p):\n",
    "#     print(i, j, p[i], p[j], lps)\n",
    "    if p[i] == p[j]:\n",
    "        lps[j] = i + 1\n",
    "        i += 1\n",
    "        j += 1\n",
    "    else:\n",
    "        if i == 0:\n",
    "            j += 1\n",
    "        else:\n",
    "            i = lps[i - 1]"
   ]
  },
  {
   "cell_type": "code",
   "execution_count": 68,
   "metadata": {
    "ExecuteTime": {
     "end_time": "2021-11-23T15:07:11.501101Z",
     "start_time": "2021-11-23T15:06:57.009457Z"
    }
   },
   "outputs": [
    {
     "name": "stdout",
     "output_type": "stream",
     "text": [
      "ABC ABCDAB ABCDABCDABDE\n",
      "ABCDABD\n",
      "1\n",
      "16 "
     ]
    }
   ],
   "source": [
    "i = 0\n",
    "j = 0\n",
    "ans = list()\n",
    "while i < len(p) and j < len(s):\n",
    "    if p[i] == s[j]:\n",
    "        if i == len(p) - 1:\n",
    "            ans.append(j - len(p) + 2)\n",
    "#             print(j - len(p) + 2)\n",
    "            j += 1\n",
    "        else:\n",
    "            i += 1\n",
    "            j += 1\n",
    "    else:\n",
    "        if i == 0:\n",
    "            j += 1\n",
    "        else:\n",
    "            i = lps[i - 1]\n",
    "            \n",
    "print(len(ans))\n",
    "for i in ans:\n",
    "    print(i, end=\" \")"
   ]
  },
  {
   "cell_type": "code",
   "execution_count": 71,
   "metadata": {
    "ExecuteTime": {
     "end_time": "2021-11-23T15:08:26.340637Z",
     "start_time": "2021-11-23T15:08:26.325614Z"
    }
   },
   "outputs": [],
   "source": [
    "ans = list()\n",
    "for i in ans:\n",
    "    print(i, end=\" \")"
   ]
  },
  {
   "cell_type": "code",
   "execution_count": 57,
   "metadata": {
    "ExecuteTime": {
     "end_time": "2021-11-23T15:03:52.639102Z",
     "start_time": "2021-11-23T15:03:52.615181Z"
    }
   },
   "outputs": [
    {
     "data": {
      "text/plain": [
       "[16]"
      ]
     },
     "execution_count": 57,
     "metadata": {},
     "output_type": "execute_result"
    }
   ],
   "source": [
    "ans"
   ]
  }
 ],
 "metadata": {
  "hide_input": false,
  "kernelspec": {
   "display_name": "Python 3",
   "language": "python",
   "name": "python3"
  },
  "language_info": {
   "codemirror_mode": {
    "name": "ipython",
    "version": 3
   },
   "file_extension": ".py",
   "mimetype": "text/x-python",
   "name": "python",
   "nbconvert_exporter": "python",
   "pygments_lexer": "ipython3",
   "version": "3.8.5"
  },
  "toc": {
   "base_numbering": 1,
   "nav_menu": {},
   "number_sections": true,
   "sideBar": true,
   "skip_h1_title": false,
   "title_cell": "Table of Contents",
   "title_sidebar": "Contents",
   "toc_cell": false,
   "toc_position": {},
   "toc_section_display": true,
   "toc_window_display": false
  },
  "varInspector": {
   "cols": {
    "lenName": 16,
    "lenType": 16,
    "lenVar": 40
   },
   "kernels_config": {
    "python": {
     "delete_cmd_postfix": "",
     "delete_cmd_prefix": "del ",
     "library": "var_list.py",
     "varRefreshCmd": "print(var_dic_list())"
    },
    "r": {
     "delete_cmd_postfix": ") ",
     "delete_cmd_prefix": "rm(",
     "library": "var_list.r",
     "varRefreshCmd": "cat(var_dic_list()) "
    }
   },
   "types_to_exclude": [
    "module",
    "function",
    "builtin_function_or_method",
    "instance",
    "_Feature"
   ],
   "window_display": false
  }
 },
 "nbformat": 4,
 "nbformat_minor": 4
}
