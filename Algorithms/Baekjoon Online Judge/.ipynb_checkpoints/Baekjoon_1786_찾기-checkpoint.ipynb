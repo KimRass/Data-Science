{
 "cells": [
  {
   "cell_type": "markdown",
   "metadata": {},
   "source": [
    "Written by KimRass\n",
    "- Source: https://www.acmicpc.net/problem/1786"
   ]
  },
  {
   "cell_type": "markdown",
   "metadata": {},
   "source": [
    "https://devbull.xyz/python-kmp-algorijeumeuro-munjayeol-cajgi/"
   ]
  },
  {
   "cell_type": "code",
   "execution_count": 7,
   "metadata": {
    "ExecuteTime": {
     "end_time": "2021-11-25T03:34:47.291639Z",
     "start_time": "2021-11-25T03:34:47.285655Z"
    }
   },
   "outputs": [],
   "source": [
    "# p = \"ABCABABCABC\"\n",
    "# p = \"ABAABAB\"\n",
    "p = \"AABAABAC\""
   ]
  },
  {
   "cell_type": "code",
   "execution_count": 92,
   "metadata": {
    "ExecuteTime": {
     "end_time": "2021-11-25T07:48:00.082234Z",
     "start_time": "2021-11-25T07:48:00.075247Z"
    }
   },
   "outputs": [],
   "source": [
    "# s = input()\n",
    "# p = input()\n",
    "\n",
    "s = \"ACBAABACABCABABCACBACBAABACBCCABAACBAABAC\"\n",
    "p = \"ACBAABAC\"\n",
    "\n",
    "# s = \"abcababcabab\"\n",
    "# p = \"abcabab\"\n"
   ]
  },
  {
   "cell_type": "code",
   "execution_count": 93,
   "metadata": {
    "ExecuteTime": {
     "end_time": "2021-11-25T07:48:00.668660Z",
     "start_time": "2021-11-25T07:48:00.650735Z"
    }
   },
   "outputs": [
    {
     "name": "stdout",
     "output_type": "stream",
     "text": [
      "0\n"
     ]
    }
   ],
   "source": [
    "# s = input()\n",
    "# p = input()\n",
    "\n",
    "failure_func = {0:0}\n",
    "i = 0\n",
    "j = 1\n",
    "while j < len(p):\n",
    "#     print(i, j, p[i], p[j])\n",
    "    if p[i] == p[j]:\n",
    "        # `s`로부터 만들어진 길이 `j + 1`의 Prefix의 LPS를 `i + 1`로 갱신합니다.\n",
    "        failure_func[j] = i + 1\n",
    "        j += 1\n",
    "        i += 1\n",
    "    else:\n",
    "        # `p[0]`과 `p[j]`가 서로 같지 않다면\n",
    "        if i == 0:\n",
    "            # `s`로부터 만들어진 길이 `j + 1`의 Prefix의 LPS는 0입니다.\n",
    "            failure_func[j] = 0\n",
    "            j += 1\n",
    "        # `p[i]`와 `p[j]`가 서로 같지 않고 `i`가 0이 아니라면, 더 작은 `i`에 대해서 `p[i]`와 `p[j]`가 서로 같게 되는 `i`를 찾아야 합니다.\n",
    "        else:\n",
    "            # `s`로부터 만들어진 길이 `i`의 Prefix(P1)에서는 길이 `failure_func[i]`만큼의 Prefix(P2)와 Suffix(S2)가 서로 같습니다. 따라서 P1의 뒤에서 `failure_func[i]`번째 문자는 앞에서 `failure_func[i]`번째 문자와 서로 같습니다.\n",
    "            i = failure_func[i - 1]\n",
    "#     print(failure_func)\n",
    "            \n",
    "# failure_func\n",
    "\n",
    "i = 0\n",
    "j = 0\n",
    "cnt = 0\n",
    "ans = list()\n",
    "while i < len(s):\n",
    "#     print(i, j, s[i], p[j])\n",
    "    if s[i] == p[j]:\n",
    "        if j == len(p) - 1:\n",
    "#             print(i - len(p) + 1)\n",
    "            cnt += 1\n",
    "            ans.append(i - len(p) + 2)\n",
    "            j = failure_func[j - 1]\n",
    "        else:\n",
    "            i += 1\n",
    "            j += 1\n",
    "    else:\n",
    "        if j == 0:\n",
    "            i += 1\n",
    "        else:\n",
    "            j = failure_func[j - 1]\n",
    "        \n",
    "print(cnt)\n",
    "if cnt != 0:\n",
    "    print(*ans, sep=\" \")"
   ]
  },
  {
   "cell_type": "code",
   "execution_count": 76,
   "metadata": {
    "ExecuteTime": {
     "end_time": "2021-11-25T07:43:37.596517Z",
     "start_time": "2021-11-25T07:43:37.590559Z"
    }
   },
   "outputs": [
    {
     "name": "stdout",
     "output_type": "stream",
     "text": [
      "\n"
     ]
    }
   ],
   "source": [
    "print(*[], sep=\" \")"
   ]
  },
  {
   "cell_type": "code",
   "execution_count": 69,
   "metadata": {
    "ExecuteTime": {
     "end_time": "2021-11-25T07:08:19.286501Z",
     "start_time": "2021-11-25T07:08:19.282524Z"
    }
   },
   "outputs": [
    {
     "ename": "SyntaxError",
     "evalue": "invalid syntax (<ipython-input-69-6dfdf218654e>, line 1)",
     "output_type": "error",
     "traceback": [
      "\u001b[1;36m  File \u001b[1;32m\"<ipython-input-69-6dfdf218654e>\"\u001b[1;36m, line \u001b[1;32m1\u001b[0m\n\u001b[1;33m    ********         ********      ********\u001b[0m\n\u001b[1;37m     ^\u001b[0m\n\u001b[1;31mSyntaxError\u001b[0m\u001b[1;31m:\u001b[0m invalid syntax\n"
     ]
    }
   ],
   "source": [
    "********           ********      ********\n",
    "         9\n",
    "ACBAABACABCABABCACBACBAABACBCCABAACBAABAC\n",
    "                    i\n",
    "ACBAABAC\n",
    "    j"
   ]
  },
  {
   "cell_type": "code",
   "execution_count": 73,
   "metadata": {
    "ExecuteTime": {
     "end_time": "2021-11-25T07:42:11.840959Z",
     "start_time": "2021-11-25T07:42:11.834974Z"
    }
   },
   "outputs": [
    {
     "data": {
      "text/plain": [
       "{0: 0, 1: 0, 2: 0, 3: 1, 4: 1, 5: 0, 6: 1, 7: 2}"
      ]
     },
     "execution_count": 73,
     "metadata": {},
     "output_type": "execute_result"
    }
   ],
   "source": [
    "failure_func"
   ]
  },
  {
   "cell_type": "code",
   "execution_count": 44,
   "metadata": {
    "ExecuteTime": {
     "end_time": "2021-11-25T05:56:29.038886Z",
     "start_time": "2021-11-25T05:56:28.878341Z"
    }
   },
   "outputs": [
    {
     "ename": "KeyError",
     "evalue": "10",
     "output_type": "error",
     "traceback": [
      "\u001b[1;31m---------------------------------------------------------------------------\u001b[0m",
      "\u001b[1;31mKeyError\u001b[0m                                  Traceback (most recent call last)",
      "\u001b[1;32m<ipython-input-44-07b8e3f95404>\u001b[0m in \u001b[0;36m<module>\u001b[1;34m\u001b[0m\n\u001b[1;32m----> 1\u001b[1;33m \u001b[0mfailure_func\u001b[0m\u001b[1;33m[\u001b[0m\u001b[1;36m10\u001b[0m\u001b[1;33m]\u001b[0m\u001b[1;33m\u001b[0m\u001b[1;33m\u001b[0m\u001b[0m\n\u001b[0m",
      "\u001b[1;31mKeyError\u001b[0m: 10"
     ]
    }
   ],
   "source": [
    "abcababcabab\n",
    "      i\n",
    "abcabab\n",
    " j     "
   ]
  },
  {
   "cell_type": "code",
   "execution_count": 46,
   "metadata": {
    "ExecuteTime": {
     "end_time": "2021-11-25T06:00:53.190768Z",
     "start_time": "2021-11-25T06:00:53.179798Z"
    }
   },
   "outputs": [
    {
     "data": {
      "text/plain": [
       "{1: 0, 2: 0, 3: 0, 4: 1, 5: 2, 6: 1, 7: 2}"
      ]
     },
     "execution_count": 46,
     "metadata": {},
     "output_type": "execute_result"
    }
   ],
   "source": [
    "failure_func"
   ]
  },
  {
   "cell_type": "code",
   "execution_count": 25,
   "metadata": {
    "ExecuteTime": {
     "end_time": "2021-11-25T04:00:02.064304Z",
     "start_time": "2021-11-25T04:00:02.058319Z"
    }
   },
   "outputs": [],
   "source": [
    "i = 0\n",
    "j = 0\n",
    "cnt = 0\n",
    "ans = list()\n",
    "while i < len(s):\n",
    "#     print(i, j, s[i], p[j])\n",
    "    if s[i] == p[j]:\n",
    "        if j == len(p) - 1:\n",
    "#             print(i - len(p) + 1)\n",
    "            cnt += 1\n",
    "            ans.append(i - len(p) + 1)\n",
    "            j = failure_func[j + 1]\n",
    "        else:\n",
    "            i += 1\n",
    "            j += 1\n",
    "    else:\n",
    "        if j == 0:\n",
    "            i += 1\n",
    "        else:\n",
    "            j = failure_func[j]"
   ]
  },
  {
   "cell_type": "code",
   "execution_count": null,
   "metadata": {},
   "outputs": [],
   "source": []
  },
  {
   "cell_type": "code",
   "execution_count": null,
   "metadata": {},
   "outputs": [],
   "source": []
  },
  {
   "cell_type": "code",
   "execution_count": null,
   "metadata": {},
   "outputs": [],
   "source": []
  },
  {
   "cell_type": "code",
   "execution_count": null,
   "metadata": {},
   "outputs": [],
   "source": []
  },
  {
   "cell_type": "code",
   "execution_count": null,
   "metadata": {},
   "outputs": [],
   "source": []
  },
  {
   "cell_type": "code",
   "execution_count": null,
   "metadata": {},
   "outputs": [],
   "source": [
    "AABAABAC"
   ]
  },
  {
   "cell_type": "code",
   "execution_count": null,
   "metadata": {},
   "outputs": [],
   "source": [
    "ABXAB"
   ]
  },
  {
   "cell_type": "code",
   "execution_count": 12,
   "metadata": {
    "ExecuteTime": {
     "end_time": "2021-11-24T12:36:52.148742Z",
     "start_time": "2021-11-24T12:36:52.126802Z"
    }
   },
   "outputs": [
    {
     "name": "stdout",
     "output_type": "stream",
     "text": [
      "2 1 B A {1: 0, 2: 0, 3: 0, 4: 0, 5: 0, 6: 0, 7: 0}\n",
      "3 1 A A {1: 0, 2: 0, 3: 0, 4: 0, 5: 0, 6: 0, 7: 0}\n",
      "4 2 A B {1: 0, 2: 0, 3: 1, 4: 0, 5: 0, 6: 0, 7: 0}\n",
      "4 1 A A {1: 0, 2: 0, 3: 1, 4: 0, 5: 0, 6: 0, 7: 0}\n",
      "5 2 B B {1: 0, 2: 0, 3: 1, 4: 1, 5: 0, 6: 0, 7: 0}\n",
      "6 3 A A {1: 0, 2: 0, 3: 1, 4: 1, 5: 2, 6: 0, 7: 0}\n",
      "7 4 B A {1: 0, 2: 0, 3: 1, 4: 1, 5: 2, 6: 3, 7: 0}\n",
      "7 2 B B {1: 0, 2: 0, 3: 1, 4: 1, 5: 2, 6: 3, 7: 0}\n"
     ]
    },
    {
     "data": {
      "text/plain": [
       "{1: 0, 2: 0, 3: 1, 4: 1, 5: 2, 6: 3, 7: 2}"
      ]
     },
     "execution_count": 12,
     "metadata": {},
     "output_type": "execute_result"
    }
   ],
   "source": [
    "failure_func = {i:0 for i in range(1, len(p) + 1)}\n",
    "leng1 = 2 # length of the prefix of pattern `p`\n",
    "leng2 = 1 # length of the previous LPS\n",
    "while leng1 <= len(p):\n",
    "    print(leng1, leng2, p[leng1 - 1], p[leng2 - 1], failure_func)\n",
    "#     print(leng2 - 1, leng1 - 1, p[leng2 - 1], p[leng1 - 1])\n",
    "    # `leng2`의 마지막 문자 `p[leng2 - 1]`가 길이 `leng1`인 접두어의 마지막 문자 `p[leng1 - 1]`과 같다면\n",
    "    if p[leng1 - 1] == p[leng2 - 1]:\n",
    "        # 이 접두어의 `failure_func` 값을 `leng2`로 갱신하고\n",
    "        failure_func[leng1] = leng2\n",
    "        # 다음 문자에 대해서도 동일한 계산을 하기 위해 `leng2`와 `leng1`을 각각 1씩 증가시킵니다.\n",
    "        leng1 += 1\n",
    "        leng2 += 1\n",
    "    else:\n",
    "        # 이전 인덱스에서는 같았다면\n",
    "        if leng2 != 1:\n",
    "            leng2 = failure_func[leng2 - 1] + 1\n",
    "        # 접두사와 접미사가 서로 각각의 첫 번째 문자에서부터 일치하지 않는다면\n",
    "        else:\n",
    "            # 패턴의 부분문자열의 길이를 1 증가시킵니다.\n",
    "            leng1 += 1\n",
    "            \n",
    "failure_func"
   ]
  },
  {
   "cell_type": "code",
   "execution_count": null,
   "metadata": {},
   "outputs": [],
   "source": [
    "def computeLPS(pat, lps):\n",
    "    leng2 = 1\n",
    "    leng1 = 2\n",
    "    while leng1 - 1 < len(pat):\n",
    "        # 이전 인덱스에서 같았다면 다음 인덱스만 비교하면 된다.\n",
    "        if pat[leng1 - 1] == pat[leng2 - 1]:\n",
    "            leng2 += 1\n",
    "            lps[leng1 - 1] = leng2 - 1\n",
    "            leng1 += 1\n",
    "        else:\n",
    "            # 일치하지 않는 경우\n",
    "            leng1 - 1f leng2 - 1 != 0:\n",
    "                # 이전 인덱스에서는 같았으므로 leng2 - 1을 줄여서 다시 검사\n",
    "                leng2 - 1 = lps[leng2 - 1-1]\n",
    "                # 다시 검사해야 하므로 leng1 - 1는 증가하지 않음\n",
    "            else:\n",
    "                # 이전 인덱스에서도 같지 않았다면 lps[leng1 - 1]는 0 이고 leng1 - 1는 1 증가\n",
    "                lps[leng1 - 1] = 0\n",
    "                leng1 - 1 += 1"
   ]
  },
  {
   "cell_type": "code",
   "execution_count": 29,
   "metadata": {
    "ExecuteTime": {
     "end_time": "2021-11-24T08:22:11.473027Z",
     "start_time": "2021-11-24T08:22:11.469038Z"
    }
   },
   "outputs": [
    {
     "name": "stdout",
     "output_type": "stream",
     "text": [
      "AXAXXAXX\n",
      "AXAXX\n"
     ]
    }
   ],
   "source": [
    "print(s)\n",
    "print(p)"
   ]
  },
  {
   "cell_type": "code",
   "execution_count": 30,
   "metadata": {
    "ExecuteTime": {
     "end_time": "2021-11-24T08:31:59.468829Z",
     "start_time": "2021-11-24T08:31:59.464867Z"
    }
   },
   "outputs": [
    {
     "data": {
      "text/plain": [
       "{0: 0, 1: 0, 2: 1, 3: 2, 4: 0}"
      ]
     },
     "execution_count": 30,
     "metadata": {},
     "output_type": "execute_result"
    }
   ],
   "source": [
    "lps"
   ]
  },
  {
   "cell_type": "code",
   "execution_count": 28,
   "metadata": {
    "ExecuteTime": {
     "end_time": "2021-11-24T08:21:49.496826Z",
     "start_time": "2021-11-24T08:21:49.486881Z"
    }
   },
   "outputs": [
    {
     "name": "stdout",
     "output_type": "stream",
     "text": [
      "0 0 A A\n",
      "1 1 X X\n",
      "2 2 A A\n",
      "3 3 X X\n",
      "4 4 X X\n",
      "4 5 X A\n",
      "2 5 A A\n",
      "3 6 X X\n",
      "4 7 X X\n"
     ]
    }
   ],
   "source": [
    "i = 0\n",
    "j = 0\n",
    "ans = list()\n",
    "while i < len(p) and j < len(s):\n",
    "    print(i, j, p[i], s[j])\n",
    "    if p[i] == s[j]:\n",
    "        if i == len(p) - 1:\n",
    "            ans.append(j - len(p) + 2)\n",
    "#             print(j + 1, j - len(p) + 2)\n",
    "            j += 1\n",
    "        else:\n",
    "            i += 1\n",
    "            j += 1\n",
    "    else:\n",
    "        if i == 0:\n",
    "            j += 1\n",
    "        else:\n",
    "            i = lps[i - 1]\n",
    "            \n",
    "# print(len(ans))\n",
    "# for i in ans:\n",
    "#     print(i, end=\" \")"
   ]
  },
  {
   "cell_type": "code",
   "execution_count": null,
   "metadata": {},
   "outputs": [],
   "source": [
    "acbacbc*abcabacbacbcabacbc*abc*abcabacbc*abcab"
   ]
  },
  {
   "cell_type": "code",
   "execution_count": 19,
   "metadata": {
    "ExecuteTime": {
     "end_time": "2021-11-24T07:38:07.368471Z",
     "start_time": "2021-11-24T07:38:07.361491Z"
    }
   },
   "outputs": [
    {
     "data": {
      "text/plain": [
       "[8, 26, 29, 38]"
      ]
     },
     "execution_count": 19,
     "metadata": {},
     "output_type": "execute_result"
    }
   ],
   "source": [
    "ans"
   ]
  },
  {
   "cell_type": "code",
   "execution_count": 12,
   "metadata": {
    "ExecuteTime": {
     "end_time": "2021-11-24T07:22:36.297436Z",
     "start_time": "2021-11-24T07:22:36.292450Z"
    }
   },
   "outputs": [
    {
     "data": {
      "text/plain": [
       "16"
      ]
     },
     "execution_count": 12,
     "metadata": {},
     "output_type": "execute_result"
    }
   ],
   "source": [
    "j - len(p)"
   ]
  },
  {
   "cell_type": "code",
   "execution_count": 17,
   "metadata": {
    "ExecuteTime": {
     "end_time": "2021-11-24T12:52:05.688624Z",
     "start_time": "2021-11-24T12:52:05.675658Z"
    }
   },
   "outputs": [
    {
     "data": {
      "text/plain": [
       "'ABAABAB'"
      ]
     },
     "execution_count": 17,
     "metadata": {},
     "output_type": "execute_result"
    }
   ],
   "source": [
    "p"
   ]
  },
  {
   "cell_type": "code",
   "execution_count": null,
   "metadata": {},
   "outputs": [],
   "source": [
    "ABAABAB\n",
    "i j"
   ]
  },
  {
   "cell_type": "code",
   "execution_count": 24,
   "metadata": {
    "ExecuteTime": {
     "end_time": "2021-11-24T12:58:40.842529Z",
     "start_time": "2021-11-24T12:58:40.814603Z"
    }
   },
   "outputs": [
    {
     "name": "stdout",
     "output_type": "stream",
     "text": [
      "0 1\n",
      "0 2\n",
      "equal\n",
      "1 3\n",
      "not equal\n",
      "equal\n",
      "1 4\n",
      "equal\n",
      "2 5\n",
      "equal\n",
      "3 6\n",
      "not equal\n",
      "equal\n"
     ]
    },
    {
     "data": {
      "text/plain": [
       "{1: 0, 2: 0, 3: 1, 4: 1, 5: 2, 6: 3, 7: 2}"
      ]
     },
     "execution_count": 24,
     "metadata": {},
     "output_type": "execute_result"
    }
   ],
   "source": [
    "failure_func = {i:0 for i in range(1, len(p) + 1)}\n",
    "i = 0\n",
    "for j in range(1, len(p)):\n",
    "    print(i, j)\n",
    "    while i > 0 and p[i] != p[j]:\n",
    "        i = failure_func[i]\n",
    "        print(\"not equal\")\n",
    "    if p[i] == p[j]:\n",
    "        print(\"equal\")\n",
    "        failure_func[j + 1] = i + 1        \n",
    "        i += 1\n",
    "        \n",
    "failure_func"
   ]
  },
  {
   "cell_type": "code",
   "execution_count": 23,
   "metadata": {
    "ExecuteTime": {
     "end_time": "2021-11-24T12:57:39.294178Z",
     "start_time": "2021-11-24T12:57:39.281244Z"
    }
   },
   "outputs": [
    {
     "data": {
      "text/plain": [
       "{1: 0, 2: 0, 3: 1, 4: 0, 5: 0, 6: 0, 7: 0}"
      ]
     },
     "execution_count": 23,
     "metadata": {},
     "output_type": "execute_result"
    }
   ],
   "source": [
    "failure_func"
   ]
  },
  {
   "cell_type": "code",
   "execution_count": null,
   "metadata": {},
   "outputs": [],
   "source": [
    "lp=len(P) \n",
    "Table=[0]*lp\n",
    "i=0\n",
    "for j in range(1,lp):\n",
    "    while i>0 and P[i]!=P[j]:  #i와 j가 다르면 i는 i-1의 테이블값 인덱스로 돌아간다\n",
    "        i=Table[i-1]            #왜?->현재의 i에서 j와 다르니 i가 +1되었던것을 되돌아가서\n",
    "                                #i-1에서의 테이블값 인덱스에서 다시 j와 비교해준다\n",
    "                                #테이블에는 최대 공통 부분들이 있어서 돌아갈지점을 계속 갱신해주다가\n",
    "                                #0까지 가면 0이 된다.0을 저장하고 다음 j로 넘어간다\n",
    "\n",
    "    if P[i]==P[j]:              #만약 같으면 i값을 1더해주고 table값에 넣는다.\n",
    "        i+=1                    #i,j둘다 1씩 증가한다\n",
    "        Table[j]=i"
   ]
  },
  {
   "cell_type": "code",
   "execution_count": null,
   "metadata": {},
   "outputs": [],
   "source": []
  },
  {
   "cell_type": "code",
   "execution_count": null,
   "metadata": {},
   "outputs": [],
   "source": []
  }
 ],
 "metadata": {
  "hide_input": false,
  "kernelspec": {
   "display_name": "Python 3",
   "language": "python",
   "name": "python3"
  },
  "language_info": {
   "codemirror_mode": {
    "name": "ipython",
    "version": 3
   },
   "file_extension": ".py",
   "mimetype": "text/x-python",
   "name": "python",
   "nbconvert_exporter": "python",
   "pygments_lexer": "ipython3",
   "version": "3.8.5"
  },
  "toc": {
   "base_numbering": 1,
   "nav_menu": {},
   "number_sections": true,
   "sideBar": true,
   "skip_h1_title": false,
   "title_cell": "Table of Contents",
   "title_sidebar": "Contents",
   "toc_cell": false,
   "toc_position": {},
   "toc_section_display": true,
   "toc_window_display": false
  },
  "varInspector": {
   "cols": {
    "lenName": 16,
    "lenType": 16,
    "lenVar": 40
   },
   "kernels_config": {
    "python": {
     "delete_cmd_postfix": "",
     "delete_cmd_prefix": "del ",
     "library": "var_list.py",
     "varRefreshCmd": "print(var_dic_list())"
    },
    "r": {
     "delete_cmd_postfix": ") ",
     "delete_cmd_prefix": "rm(",
     "library": "var_list.r",
     "varRefreshCmd": "cat(var_dic_list()) "
    }
   },
   "types_to_exclude": [
    "module",
    "function",
    "builtin_function_or_method",
    "instance",
    "_Feature"
   ],
   "window_display": false
  }
 },
 "nbformat": 4,
 "nbformat_minor": 4
}
