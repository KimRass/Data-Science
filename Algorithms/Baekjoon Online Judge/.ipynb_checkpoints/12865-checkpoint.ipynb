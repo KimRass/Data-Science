{
 "cells": [
  {
   "cell_type": "markdown",
   "metadata": {},
   "source": [
    "https://www.acmicpc.net/problem/12865"
   ]
  },
  {
   "cell_type": "code",
   "execution_count": null,
   "metadata": {},
   "outputs": [],
   "source": [
    "4 7\n",
    "6 13\n",
    "4 8\n",
    "3 6\n",
    "5 12"
   ]
  },
  {
   "cell_type": "code",
   "execution_count": 2,
   "metadata": {
    "ExecuteTime": {
     "end_time": "2021-09-24T06:01:24.621934Z",
     "start_time": "2021-09-24T06:01:17.531361Z"
    }
   },
   "outputs": [
    {
     "name": "stdout",
     "output_type": "stream",
     "text": [
      "4 7\n",
      "6 13\n",
      "4 8\n",
      "3 6\n",
      "5 12\n"
     ]
    }
   ],
   "source": [
    "N, K = list(map(int, input().split()))\n",
    "items = [tuple(map(int, input().split())) for _ in range (N)]"
   ]
  },
  {
   "cell_type": "code",
   "execution_count": 9,
   "metadata": {
    "ExecuteTime": {
     "end_time": "2021-09-24T06:03:38.239073Z",
     "start_time": "2021-09-24T06:03:38.235083Z"
    }
   },
   "outputs": [],
   "source": [
    "items = [(W, V, V/W) for W, V in items]\n",
    "\n",
    "items = sorted(items, key=lambda x:x[2], ascending=False)"
   ]
  },
  {
   "cell_type": "code",
   "execution_count": 16,
   "metadata": {
    "ExecuteTime": {
     "end_time": "2021-09-24T06:04:58.531851Z",
     "start_time": "2021-09-24T06:04:58.525899Z"
    }
   },
   "outputs": [
    {
     "data": {
      "text/plain": [
       "[(5, 12, 2.4), (6, 13, 2.1666666666666665), (3, 6, 2.0), (4, 8, 2.0)]"
      ]
     },
     "execution_count": 16,
     "metadata": {},
     "output_type": "execute_result"
    }
   ],
   "source": [
    "items"
   ]
  },
  {
   "cell_type": "code",
   "execution_count": 22,
   "metadata": {
    "ExecuteTime": {
     "end_time": "2021-09-24T06:12:57.503756Z",
     "start_time": "2021-09-24T06:12:57.497773Z"
    }
   },
   "outputs": [
    {
     "name": "stdout",
     "output_type": "stream",
     "text": [
      "0 0\n",
      "0 1\n",
      "0 2\n",
      "0 3\n",
      "1 1\n",
      "1 2\n",
      "1 3\n",
      "2 2\n",
      "2 3\n",
      "3 3\n"
     ]
    }
   ],
   "source": [
    "summ = 0\n",
    "for i in range(len(items)):\n",
    "    summ += items[i][0]\n",
    "    mem_weight[i]\n",
    "    for j in range(i, len(items)):\n",
    "        print(i, j)\n",
    "#         weight = sum([item[0] for k, item in enumerate(items) if k >= i and k <= j])\n",
    "# #         print(i, j, weight)\n",
    "#         if weight <= K:\n",
    "#             print(i, j ,weight)"
   ]
  }
 ],
 "metadata": {
  "kernelspec": {
   "display_name": "Python 3",
   "language": "python",
   "name": "python3"
  },
  "language_info": {
   "codemirror_mode": {
    "name": "ipython",
    "version": 3
   },
   "file_extension": ".py",
   "mimetype": "text/x-python",
   "name": "python",
   "nbconvert_exporter": "python",
   "pygments_lexer": "ipython3",
   "version": "3.7.7"
  },
  "toc": {
   "base_numbering": 1,
   "nav_menu": {},
   "number_sections": true,
   "sideBar": true,
   "skip_h1_title": false,
   "title_cell": "Table of Contents",
   "title_sidebar": "Contents",
   "toc_cell": false,
   "toc_position": {},
   "toc_section_display": true,
   "toc_window_display": false
  }
 },
 "nbformat": 4,
 "nbformat_minor": 4
}
