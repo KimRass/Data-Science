{
 "cells": [
  {
   "cell_type": "markdown",
   "metadata": {},
   "source": [
    "Written by KimRass\n",
    "- Source: https://www.acmicpc.net/problem/1914"
   ]
  },
  {
   "cell_type": "code",
   "execution_count": null,
   "metadata": {},
   "outputs": [],
   "source": [
    "[3 2 1] [] [] 1\n",
    "[3 2] [] [1] 2\n",
    "[3] [2] [1] 3\n",
    "[3] [2 1] [] 4\n",
    "[] [2 1] [3] 5\n",
    "[1] [2] [3] 6\n",
    "[1] [] [3 2] 7\n",
    "[] [] [3 2 1] 8: 3개를 1->3\n",
    "\n",
    "[4 3 2 1] [] [] 1\n",
    "[4 3 2] [1] [] 2\n",
    "[4 3] [1] [2] 3\n",
    "[4 3] [] [2 1] 4\n",
    "[4] [3] [2 1] 5\n",
    "[4 1] [3] [2] 6\n",
    "[4 1] [3 2] [] 7\n",
    "[4] [3 2 1] [] 8*: 3개를 1->2\n",
    "[] [3 2 1] [4] 9\n",
    "...\n",
    "17: 3개를 2->3"
   ]
  },
  {
   "cell_type": "code",
   "execution_count": null,
   "metadata": {},
   "outputs": [],
   "source": [
    "N = 3\n",
    "1 3\n",
    "1 2\n",
    "3 2\n",
    "1 3\n",
    "2 1\n",
    "2 3\n",
    "1 3"
   ]
  },
  {
   "cell_type": "code",
   "execution_count": 6,
   "metadata": {
    "ExecuteTime": {
     "end_time": "2021-10-13T09:36:09.741006Z",
     "start_time": "2021-10-13T09:36:09.735023Z"
    }
   },
   "outputs": [],
   "source": [
    "def hanoi(a, b):\n",
    "    c = 6 - a - b\n",
    "\n",
    "    print(a, b)\n",
    "    print(a, c)\n",
    "    print(b, c)\n",
    "    print(a, b)\n",
    "    print(c, a)\n",
    "    print(c, b)\n",
    "    print(a, b)\n",
    "    \n",
    "    print(a, b)\n",
    "    \n",
    "    hanoi(b, c)"
   ]
  },
  {
   "cell_type": "code",
   "execution_count": 10,
   "metadata": {
    "ExecuteTime": {
     "end_time": "2021-10-13T09:38:49.642608Z",
     "start_time": "2021-10-13T09:38:49.637644Z"
    }
   },
   "outputs": [
    {
     "name": "stdout",
     "output_type": "stream",
     "text": [
      "1 2\n",
      "1 3\n",
      "2 3\n",
      "1 2\n",
      "3 1\n",
      "3 2\n",
      "1 2\n",
      "1 3\n",
      "2 3\n",
      "2 1\n",
      "3 1\n",
      "2 3\n",
      "1 2\n",
      "1 3\n",
      "2 3\n"
     ]
    }
   ],
   "source": [
    "hanoi(1, 2)\n",
    "print(a, b)\n",
    "hanoi(2, 3)"
   ]
  }
 ],
 "metadata": {
  "kernelspec": {
   "display_name": "Python 3",
   "language": "python",
   "name": "python3"
  },
  "language_info": {
   "codemirror_mode": {
    "name": "ipython",
    "version": 3
   },
   "file_extension": ".py",
   "mimetype": "text/x-python",
   "name": "python",
   "nbconvert_exporter": "python",
   "pygments_lexer": "ipython3",
   "version": "3.7.7"
  },
  "toc": {
   "base_numbering": 1,
   "nav_menu": {},
   "number_sections": true,
   "sideBar": true,
   "skip_h1_title": false,
   "title_cell": "Table of Contents",
   "title_sidebar": "Contents",
   "toc_cell": false,
   "toc_position": {},
   "toc_section_display": true,
   "toc_window_display": false
  }
 },
 "nbformat": 4,
 "nbformat_minor": 4
}
