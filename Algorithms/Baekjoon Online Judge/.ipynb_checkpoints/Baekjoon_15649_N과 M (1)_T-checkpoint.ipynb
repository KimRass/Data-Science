{
 "cells": [
  {
   "cell_type": "markdown",
   "metadata": {},
   "source": [
    "Written by KimRass\n",
    "- Source: https://www.acmicpc.net/problem/15649\n",
    "\n",
    "# `permutations()`"
   ]
  },
  {
   "cell_type": "code",
   "execution_count": 29,
   "metadata": {
    "ExecuteTime": {
     "end_time": "2021-09-21T17:21:15.356553Z",
     "start_time": "2021-09-21T17:21:14.567833Z"
    }
   },
   "outputs": [
    {
     "name": "stdout",
     "output_type": "stream",
     "text": [
      "4 4\n",
      "1 2 3 4 \n",
      "1 2 4 3 \n",
      "1 3 2 4 \n",
      "1 3 4 2 \n",
      "1 4 2 3 \n",
      "1 4 3 2 \n",
      "2 1 3 4 \n",
      "2 1 4 3 \n",
      "2 3 1 4 \n",
      "2 3 4 1 \n",
      "2 4 1 3 \n",
      "2 4 3 1 \n",
      "3 1 2 4 \n",
      "3 1 4 2 \n",
      "3 2 1 4 \n",
      "3 2 4 1 \n",
      "3 4 1 2 \n",
      "3 4 2 1 \n",
      "4 1 2 3 \n",
      "4 1 3 2 \n",
      "4 2 1 3 \n",
      "4 2 3 1 \n",
      "4 3 1 2 \n",
      "4 3 2 1 \n"
     ]
    }
   ],
   "source": [
    "from itertools import permutations\n",
    "\n",
    "N, M = list(map(int, input().split()))\n",
    "\n",
    "for x in permutations([i for i in range(1, N + 1)], M):\n",
    "    for a in x:\n",
    "        print(a, end=\" \")\n",
    "    print(\"\")"
   ]
  },
  {
   "cell_type": "markdown",
   "metadata": {},
   "source": [
    "# Backtracking"
   ]
  },
  {
   "cell_type": "code",
   "execution_count": 50,
   "metadata": {
    "ExecuteTime": {
     "end_time": "2021-10-17T14:50:01.484757Z",
     "start_time": "2021-10-17T14:50:01.461087Z"
    }
   },
   "outputs": [
    {
     "data": {
      "text/plain": [
       "{4: [3, 2, 1], 3: [4, 2, 1], 2: [4, 3, 1], 1: [4, 3, 2]}"
      ]
     },
     "execution_count": 50,
     "metadata": {},
     "output_type": "execute_result"
    }
   ],
   "source": [
    "graph"
   ]
  },
  {
   "cell_type": "code",
   "execution_count": 15,
   "metadata": {
    "ExecuteTime": {
     "end_time": "2021-10-17T15:33:33.038155Z",
     "start_time": "2021-10-17T15:33:32.100978Z"
    }
   },
   "outputs": [
    {
     "name": "stdout",
     "output_type": "stream",
     "text": [
      "3 3\n"
     ]
    }
   ],
   "source": [
    "N, M = list(map(int, input().split()))\n",
    "\n",
    "graph = {i:[j for j in range(N, 0, -1)] for i in range(N, 0, -1)}\n",
    "\n",
    "stack = [(0, i) for i in range(N, 0, -1)]\n",
    "res = [0 for _ in range(M)]\n",
    "while stack:\n",
    "    i, cur_node = stack.pop()\n",
    "    res[i] = cur_node\n",
    "    if i == M - 1:\n",
    "        for j in res:\n",
    "            print(j, end=\" \")\n",
    "        print()\n",
    "    for end in graph[cur_node]:\n",
    "        if i <= M - 2:\n",
    "            stack.append((i + 1, end))"
   ]
  },
  {
   "cell_type": "code",
   "execution_count": 67,
   "metadata": {
    "ExecuteTime": {
     "end_time": "2021-10-17T15:02:51.703865Z",
     "start_time": "2021-10-17T15:02:51.695333Z"
    }
   },
   "outputs": [
    {
     "data": {
      "text/plain": [
       "[]"
      ]
     },
     "execution_count": 67,
     "metadata": {},
     "output_type": "execute_result"
    }
   ],
   "source": [
    "stack"
   ]
  },
  {
   "cell_type": "code",
   "execution_count": 78,
   "metadata": {
    "ExecuteTime": {
     "end_time": "2021-10-17T15:07:11.730491Z",
     "start_time": "2021-10-17T15:07:10.390289Z"
    }
   },
   "outputs": [
    {
     "name": "stdout",
     "output_type": "stream",
     "text": [
      "4 4\n"
     ]
    }
   ],
   "source": [
    "n,m= map(int,input().split())"
   ]
  },
  {
   "cell_type": "code",
   "execution_count": 85,
   "metadata": {
    "ExecuteTime": {
     "end_time": "2021-10-17T15:10:50.496834Z",
     "start_time": "2021-10-17T15:10:50.484250Z"
    }
   },
   "outputs": [
    {
     "name": "stdout",
     "output_type": "stream",
     "text": [
      "[1, 2, 3, 4] [False, True, True, True, True]\n",
      "[1, 2, 4, 3] [False, True, True, True, True]\n",
      "[1, 3, 2, 4] [False, True, True, True, True]\n",
      "[1, 3, 4, 2] [False, True, True, True, True]\n",
      "[1, 4, 2, 3] [False, True, True, True, True]\n",
      "[1, 4, 3, 2] [False, True, True, True, True]\n",
      "[2, 1, 3, 4] [False, True, True, True, True]\n",
      "[2, 1, 4, 3] [False, True, True, True, True]\n",
      "[2, 3, 1, 4] [False, True, True, True, True]\n",
      "[2, 3, 4, 1] [False, True, True, True, True]\n",
      "[2, 4, 1, 3] [False, True, True, True, True]\n",
      "[2, 4, 3, 1] [False, True, True, True, True]\n",
      "[3, 1, 2, 4] [False, True, True, True, True]\n",
      "[3, 1, 4, 2] [False, True, True, True, True]\n",
      "[3, 2, 1, 4] [False, True, True, True, True]\n",
      "[3, 2, 4, 1] [False, True, True, True, True]\n",
      "[3, 4, 1, 2] [False, True, True, True, True]\n",
      "[3, 4, 2, 1] [False, True, True, True, True]\n",
      "[4, 1, 2, 3] [False, True, True, True, True]\n",
      "[4, 1, 3, 2] [False, True, True, True, True]\n",
      "[4, 2, 1, 3] [False, True, True, True, True]\n",
      "[4, 2, 3, 1] [False, True, True, True, True]\n",
      "[4, 3, 1, 2] [False, True, True, True, True]\n",
      "[4, 3, 2, 1] [False, True, True, True, True]\n"
     ]
    }
   ],
   "source": [
    "checklist = [False]*(n+1)\n",
    "stack = [0]*m\n",
    "def recu(idx,n,m):\n",
    "    if idx == m:\n",
    "        print(stack, checklist)\n",
    "        return\n",
    "\n",
    "    for i in range(1,n+1):\n",
    "        if checklist[i]: #사용여부 확인\n",
    "            continue\n",
    "        checklist[i] = True\n",
    "        stack[idx] = i\n",
    "        recu(idx+1,n,m)\n",
    "        checklist[i] = False\n",
    "\n",
    "recu(0,n,m)"
   ]
  },
  {
   "cell_type": "code",
   "execution_count": 47,
   "metadata": {
    "ExecuteTime": {
     "end_time": "2021-10-17T13:50:48.093737Z",
     "start_time": "2021-10-17T13:50:48.074755Z"
    }
   },
   "outputs": [
    {
     "data": {
      "text/plain": [
       "[False, False, False, False, False]"
      ]
     },
     "execution_count": 47,
     "metadata": {},
     "output_type": "execute_result"
    }
   ],
   "source": [
    "checklist"
   ]
  }
 ],
 "metadata": {
  "hide_input": false,
  "kernelspec": {
   "display_name": "Python 3",
   "language": "python",
   "name": "python3"
  },
  "toc": {
   "base_numbering": 1,
   "nav_menu": {},
   "number_sections": true,
   "sideBar": true,
   "skip_h1_title": false,
   "title_cell": "Table of Contents",
   "title_sidebar": "Contents",
   "toc_cell": false,
   "toc_position": {},
   "toc_section_display": true,
   "toc_window_display": false
  },
  "varInspector": {
   "cols": {
    "lenName": 16,
    "lenType": 16,
    "lenVar": 40
   },
   "kernels_config": {
    "python": {
     "delete_cmd_postfix": "",
     "delete_cmd_prefix": "del ",
     "library": "var_list.py",
     "varRefreshCmd": "print(var_dic_list())"
    },
    "r": {
     "delete_cmd_postfix": ") ",
     "delete_cmd_prefix": "rm(",
     "library": "var_list.r",
     "varRefreshCmd": "cat(var_dic_list()) "
    }
   },
   "types_to_exclude": [
    "module",
    "function",
    "builtin_function_or_method",
    "instance",
    "_Feature"
   ],
   "window_display": false
  }
 },
 "nbformat": 4,
 "nbformat_minor": 4
}
