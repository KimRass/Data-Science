{
 "cells": [
  {
   "cell_type": "markdown",
   "metadata": {},
   "source": [
    "Written by KimRass\n",
    "- Source: https://www.acmicpc.net/problem/1992"
   ]
  },
  {
   "cell_type": "code",
   "execution_count": 26,
   "metadata": {
    "ExecuteTime": {
     "end_time": "2021-09-22T12:26:42.628795Z",
     "start_time": "2021-09-22T12:26:27.129062Z"
    }
   },
   "outputs": [
    {
     "name": "stdout",
     "output_type": "stream",
     "text": [
      "8\n",
      "11110000\n",
      "11110000\n",
      "00011100\n",
      "00011100\n",
      "11110000\n",
      "11110000\n",
      "11110011\n",
      "11110011\n"
     ]
    }
   ],
   "source": [
    "N = int(input())\n",
    "arr = [0 for _ in range(N)]\n",
    "for row in range(N):\n",
    "    arr[row] = list(input())"
   ]
  },
  {
   "cell_type": "code",
   "execution_count": 27,
   "metadata": {
    "ExecuteTime": {
     "end_time": "2021-09-22T12:26:43.632460Z",
     "start_time": "2021-09-22T12:26:43.620493Z"
    }
   },
   "outputs": [
    {
     "data": {
      "text/plain": [
       "[['1', '1', '1', '1', '0', '0', '0', '0'],\n",
       " ['1', '1', '1', '1', '0', '0', '0', '0'],\n",
       " ['0', '0', '0', '1', '1', '1', '0', '0'],\n",
       " ['0', '0', '0', '1', '1', '1', '0', '0'],\n",
       " ['1', '1', '1', '1', '0', '0', '0', '0'],\n",
       " ['1', '1', '1', '1', '0', '0', '0', '0'],\n",
       " ['1', '1', '1', '1', '0', '0', '1', '1'],\n",
       " ['1', '1', '1', '1', '0', '0', '1', '1']]"
      ]
     },
     "execution_count": 27,
     "metadata": {},
     "output_type": "execute_result"
    }
   ],
   "source": [
    "arr"
   ]
  },
  {
   "cell_type": "code",
   "execution_count": null,
   "metadata": {},
   "outputs": [],
   "source": [
    "1111 1111 0000 0101 0000 0000 1111 0000\n",
    "1 1 0 0101 0 0 1 0"
   ]
  },
  {
   "cell_type": "code",
   "execution_count": 29,
   "metadata": {
    "ExecuteTime": {
     "end_time": "2021-09-22T12:28:23.288250Z",
     "start_time": "2021-09-22T12:28:23.271780Z"
    }
   },
   "outputs": [
    {
     "data": {
      "text/plain": [
       "' 1111 1111 0000 0000 0000 0101 1111 0000 1111 1111 0000 0000 1111 1111 0000 1111'"
      ]
     },
     "execution_count": 29,
     "metadata": {},
     "output_type": "execute_result"
    }
   ],
   "source": [
    "# k = N//2\n",
    "res = \"\"\n",
    "for row in range(0, N, 2):\n",
    "    for col in range(0, N, 2):\n",
    "        res += \" \"\n",
    "        for i, j in [(0, 0), (0, 1), (1, 0), (1, 1)]:\n",
    "#             print(row + i, col + j)\n",
    "            res += arr[row + i][col + j]\n",
    "res"
   ]
  },
  {
   "cell_type": "code",
   "execution_count": 31,
   "metadata": {
    "ExecuteTime": {
     "end_time": "2021-09-22T12:36:34.506537Z",
     "start_time": "2021-09-22T12:36:34.496600Z"
    }
   },
   "outputs": [],
   "source": [
    "def browse(k):\n",
    "    for i, j in [(0, 0), (0, k), (k, 0), (k, k)]:\n",
    "        print(i, j)"
   ]
  },
  {
   "cell_type": "code",
   "execution_count": 34,
   "metadata": {
    "ExecuteTime": {
     "end_time": "2021-09-22T12:37:48.485315Z",
     "start_time": "2021-09-22T12:37:48.476341Z"
    }
   },
   "outputs": [
    {
     "name": "stdout",
     "output_type": "stream",
     "text": [
      "0 0\n",
      "0 1\n",
      "1 0\n",
      "1 1\n",
      "0 0\n",
      "0 None\n",
      "None 0\n",
      "None None\n"
     ]
    }
   ],
   "source": [
    "browse(browse(1))"
   ]
  },
  {
   "cell_type": "code",
   "execution_count": null,
   "metadata": {},
   "outputs": [],
   "source": [
    "# k = N//2\n",
    "res = \"\"\n",
    "row = 0\n",
    "col = 0\n",
    "res += \" \"\n",
    "for i, j in [(0, 0), (0, 1), (1, 0), (1, 1)]:\n",
    "#             print(row + i, col + j)\n",
    "    res += arr[row + i][col + j]\n",
    "    if not row\n",
    "res"
   ]
  },
  {
   "cell_type": "code",
   "execution_count": 30,
   "metadata": {
    "ExecuteTime": {
     "end_time": "2021-09-22T12:28:41.390037Z",
     "start_time": "2021-09-22T12:28:41.366102Z"
    }
   },
   "outputs": [
    {
     "data": {
      "text/plain": [
       "' 1 1 0 0 0 0101 1 0 1 1 0 0 1 1 0 1'"
      ]
     },
     "execution_count": 30,
     "metadata": {},
     "output_type": "execute_result"
    }
   ],
   "source": [
    "res.replace(\"1111\", \"1\").replace(\"0000\", \"0\")"
   ]
  },
  {
   "cell_type": "code",
   "execution_count": null,
   "metadata": {},
   "outputs": [],
   "source": []
  }
 ],
 "metadata": {
  "hide_input": false,
  "kernelspec": {
   "display_name": "Python 3",
   "language": "python",
   "name": "python3"
  },
  "language_info": {
   "codemirror_mode": {
    "name": "ipython",
    "version": 3
   },
   "file_extension": ".py",
   "mimetype": "text/x-python",
   "name": "python",
   "nbconvert_exporter": "python",
   "pygments_lexer": "ipython3",
   "version": "3.8.5"
  },
  "toc": {
   "base_numbering": 1,
   "nav_menu": {},
   "number_sections": true,
   "sideBar": true,
   "skip_h1_title": false,
   "title_cell": "Table of Contents",
   "title_sidebar": "Contents",
   "toc_cell": false,
   "toc_position": {},
   "toc_section_display": true,
   "toc_window_display": false
  },
  "varInspector": {
   "cols": {
    "lenName": 16,
    "lenType": 16,
    "lenVar": 40
   },
   "kernels_config": {
    "python": {
     "delete_cmd_postfix": "",
     "delete_cmd_prefix": "del ",
     "library": "var_list.py",
     "varRefreshCmd": "print(var_dic_list())"
    },
    "r": {
     "delete_cmd_postfix": ") ",
     "delete_cmd_prefix": "rm(",
     "library": "var_list.r",
     "varRefreshCmd": "cat(var_dic_list()) "
    }
   },
   "types_to_exclude": [
    "module",
    "function",
    "builtin_function_or_method",
    "instance",
    "_Feature"
   ],
   "window_display": false
  }
 },
 "nbformat": 4,
 "nbformat_minor": 4
}
