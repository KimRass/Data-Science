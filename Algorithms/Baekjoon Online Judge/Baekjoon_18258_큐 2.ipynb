{
 "cells": [
  {
   "cell_type": "markdown",
   "metadata": {},
   "source": [
    "Written by KimRass\n",
    "- Source: https://www.acmicpc.net/problem/18258"
   ]
  },
  {
   "cell_type": "code",
   "execution_count": null,
   "metadata": {
    "ExecuteTime": {
     "end_time": "2021-09-23T08:04:43.386270Z",
     "start_time": "2021-09-23T08:04:20.017754Z"
    }
   },
   "outputs": [],
   "source": [
    "N = int(input())\n",
    "\n",
    "orders = list()\n",
    "for _ in range(N):\n",
    "    orders.append(input())"
   ]
  },
  {
   "cell_type": "code",
   "execution_count": 27,
   "metadata": {
    "ExecuteTime": {
     "end_time": "2021-09-23T08:24:49.507161Z",
     "start_time": "2021-09-23T08:24:49.497187Z"
    }
   },
   "outputs": [
    {
     "name": "stdout",
     "output_type": "stream",
     "text": [
      "1\n",
      "2\n",
      "2\n",
      "0\n",
      "1\n",
      "2\n",
      "-1\n",
      "0\n",
      "1\n",
      "-1\n",
      "0\n",
      "3\n"
     ]
    }
   ],
   "source": [
    "q = list()\n",
    "msgs = list()\n",
    "for order in orders:\n",
    "    if \"push\" in order:\n",
    "        num = int(order.replace(\"push \", \"\"))\n",
    "        q.append(num)\n",
    "    elif order == \"pop\":\n",
    "        print(q.pop(0) if q else -1)\n",
    "    elif order == \"size\":\n",
    "        print(len(q))\n",
    "    elif order == \"empty\":\n",
    "        print(0 if q else 1)\n",
    "    elif order == \"front\":\n",
    "        print(q[0])\n",
    "    elif order == \"back\":\n",
    "        print(q[-1])"
   ]
  }
 ],
 "metadata": {
  "kernelspec": {
   "display_name": "Python 3",
   "language": "python",
   "name": "python3"
  },
  "language_info": {
   "codemirror_mode": {
    "name": "ipython",
    "version": 3
   },
   "file_extension": ".py",
   "mimetype": "text/x-python",
   "name": "python",
   "nbconvert_exporter": "python",
   "pygments_lexer": "ipython3",
   "version": "3.7.7"
  },
  "toc": {
   "base_numbering": 1,
   "nav_menu": {},
   "number_sections": true,
   "sideBar": true,
   "skip_h1_title": false,
   "title_cell": "Table of Contents",
   "title_sidebar": "Contents",
   "toc_cell": false,
   "toc_position": {},
   "toc_section_display": true,
   "toc_window_display": false
  }
 },
 "nbformat": 4,
 "nbformat_minor": 4
}
