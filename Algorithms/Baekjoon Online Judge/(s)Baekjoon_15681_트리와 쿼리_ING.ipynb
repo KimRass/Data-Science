{
 "cells": [
  {
   "cell_type": "markdown",
   "metadata": {},
   "source": [
    "Written by KimRass\n",
    "- Source: https://www.acmicpc.net/problem/15681"
   ]
  },
  {
   "cell_type": "code",
   "execution_count": null,
   "metadata": {
    "ExecuteTime": {
     "end_time": "2021-10-24T14:42:07.667533Z",
     "start_time": "2021-10-24T14:41:54.262281Z"
    }
   },
   "outputs": [],
   "source": [
    "import sys\n",
    "\n",
    "N, R, Q = list(map(int, input().split()))\n",
    "tree = dict()\n",
    "for _ in range(N - 1):\n",
    "#     U, V = list(map(int, input().split()))\n",
    "    U, V = list(map(int, sys.strind.readline().rstrip().split()))\n",
    "    if U not in tree:\n",
    "        tree[U] = list()\n",
    "    tree[U].append(V)\n",
    "    if V not in tree:\n",
    "        tree[V] = list()\n",
    "    tree[V].append(U)    \n",
    "\n",
    "root = R\n",
    "stack = [(root, 0)]\n",
    "visited = {i:False for i in tree}\n",
    "lvls = list()\n",
    "while stack:\n",
    "    cur_node, cur_cnt = stack.pop()\n",
    "    if visited[cur_node] == False:\n",
    "        visited[cur_node] = True\n",
    "        lvls.append((cur_node, cur_cnt))\n",
    "        for next_node in tree[cur_node]:\n",
    "            stack.append((next_node, cur_cnt + 1))\n",
    "\n",
    "node2cnt = {i:1 for i in tree}\n",
    "for i in range(N):\n",
    "    tar = lvls[i][0]\n",
    "    for j in range(i + 1, N):\n",
    "        if lvls[j][1] > lvls[i][1]:\n",
    "            node2cnt[tar] += 1\n",
    "        else:\n",
    "            break\n",
    "\n",
    "for _ in range(Q):\n",
    "    print(node2cnt[int(input())])"
   ]
  },
  {
   "cell_type": "code",
   "execution_count": 13,
   "metadata": {
    "ExecuteTime": {
     "end_time": "2021-10-24T15:04:39.557676Z",
     "start_time": "2021-10-24T15:04:39.547980Z"
    }
   },
   "outputs": [
    {
     "data": {
      "text/plain": [
       "{1: [3],\n",
       " 3: [1, 4, 2],\n",
       " 4: [3, 5],\n",
       " 5: [4, 6],\n",
       " 6: [5, 7, 9, 8],\n",
       " 7: [6],\n",
       " 2: [3],\n",
       " 9: [6],\n",
       " 8: [6]}"
      ]
     },
     "execution_count": 13,
     "metadata": {},
     "output_type": "execute_result"
    }
   ],
   "source": [
    "tree"
   ]
  },
  {
   "cell_type": "code",
   "execution_count": 19,
   "metadata": {
    "ExecuteTime": {
     "end_time": "2021-10-24T15:08:42.681900Z",
     "start_time": "2021-10-24T15:08:42.654727Z"
    }
   },
   "outputs": [
    {
     "name": "stdout",
     "output_type": "stream",
     "text": [
      "5 0\n",
      "5 0\n",
      "6 1\n",
      "6 1\n",
      "6 1\n",
      "4 1\n",
      "3 2\n",
      "3 2\n"
     ]
    }
   ],
   "source": [
    "node2cnt = {i:0 for i in tree}\n",
    "\n",
    "root = R\n",
    "stack = [(root, 0)]\n",
    "visited = {i:False for i in tree}\n",
    "# lvls = list()\n",
    "while stack:\n",
    "    cur_node, cur_cnt = stack.pop()\n",
    "#     if visited[cur_node] == False:\n",
    "    visited[cur_node] = True\n",
    "    for next_node in tree[cur_node]:\n",
    "        if visited[next_node] == False:\n",
    "            print(cur_node, cur_cnt)\n",
    "            node2cnt[cur_node] += 1\n",
    "            stack.append((next_node, cur_cnt + 1))"
   ]
  },
  {
   "cell_type": "code",
   "execution_count": 18,
   "metadata": {
    "ExecuteTime": {
     "end_time": "2021-10-24T15:07:22.518980Z",
     "start_time": "2021-10-24T15:07:22.495866Z"
    }
   },
   "outputs": [
    {
     "data": {
      "text/plain": [
       "{1: 0, 3: 2, 4: 1, 5: 2, 6: 3, 7: 0, 2: 0, 9: 0, 8: 0}"
      ]
     },
     "execution_count": 18,
     "metadata": {},
     "output_type": "execute_result"
    }
   ],
   "source": [
    "node2cnt"
   ]
  }
 ],
 "metadata": {
  "hide_input": false,
  "kernelspec": {
   "display_name": "Python 3",
   "language": "python",
   "name": "python3"
  },
  "language_info": {
   "codemirror_mode": {
    "name": "ipython",
    "version": 3
   },
   "file_extension": ".py",
   "mimetype": "text/x-python",
   "name": "python",
   "nbconvert_exporter": "python",
   "pygments_lexer": "ipython3",
   "version": "3.8.5"
  },
  "toc": {
   "base_numbering": 1,
   "nav_menu": {},
   "number_sections": true,
   "sideBar": true,
   "skip_h1_title": false,
   "title_cell": "Table of Contents",
   "title_sidebar": "Contents",
   "toc_cell": false,
   "toc_position": {},
   "toc_section_display": true,
   "toc_window_display": false
  },
  "varInspector": {
   "cols": {
    "lenName": 16,
    "lenType": 16,
    "lenVar": 40
   },
   "kernels_config": {
    "python": {
     "delete_cmd_postfix": "",
     "delete_cmd_prefix": "del ",
     "library": "var_list.py",
     "varRefreshCmd": "print(var_dic_list())"
    },
    "r": {
     "delete_cmd_postfix": ") ",
     "delete_cmd_prefix": "rm(",
     "library": "var_list.r",
     "varRefreshCmd": "cat(var_dic_list()) "
    }
   },
   "types_to_exclude": [
    "module",
    "function",
    "builtin_function_or_method",
    "instance",
    "_Feature"
   ],
   "window_display": false
  }
 },
 "nbformat": 4,
 "nbformat_minor": 4
}
