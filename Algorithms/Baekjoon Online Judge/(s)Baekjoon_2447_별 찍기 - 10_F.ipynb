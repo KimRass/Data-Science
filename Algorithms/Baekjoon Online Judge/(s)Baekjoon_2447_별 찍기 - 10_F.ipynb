{
 "cells": [
  {
   "cell_type": "markdown",
   "metadata": {
    "ExecuteTime": {
     "end_time": "2021-09-21T16:38:51.032021Z",
     "start_time": "2021-09-21T16:38:51.008055Z"
    }
   },
   "source": [
    "Written by KimRass\n",
    "- Source: https://www.acmicpc.net/problem/2447\n",
    "- 어떻게 풀어야 할지 잘 모르겠다"
   ]
  },
  {
   "cell_type": "code",
   "execution_count": 2,
   "metadata": {
    "ExecuteTime": {
     "end_time": "2021-12-07T14:51:58.040635Z",
     "start_time": "2021-12-07T14:51:58.021685Z"
    }
   },
   "outputs": [],
   "source": [
    "def func(n):\n",
    "    if n == 3:\n",
    "        return \"*\"\n",
    "    else:\n",
    "        print(func(n//3), end=\"\")\n",
    "        print(func(n//3), end=\"\")\n",
    "        print(func(n//3), end=\"\\n\")\n",
    "        print(func(n//3), end=\"\")\n",
    "        print(\" \", end=\"\")\n",
    "        print(func(n//3), end=\"\\n\")\n",
    "        print(func(n//3), end=\"\")\n",
    "        print(func(n//3), end=\"\")\n",
    "        print(func(n//3), end=\"\")"
   ]
  },
  {
   "cell_type": "code",
   "execution_count": 6,
   "metadata": {
    "ExecuteTime": {
     "end_time": "2021-12-07T14:52:10.232341Z",
     "start_time": "2021-12-07T14:52:10.210447Z"
    }
   },
   "outputs": [
    {
     "name": "stdout",
     "output_type": "stream",
     "text": [
      "***\n",
      "* *\n",
      "***None***\n",
      "* *\n",
      "***None***\n",
      "* *\n",
      "***None\n",
      "***\n",
      "* *\n",
      "***None ***\n",
      "* *\n",
      "***None\n",
      "***\n",
      "* *\n",
      "***None***\n",
      "* *\n",
      "***None***\n",
      "* *\n",
      "***None"
     ]
    }
   ],
   "source": [
    "func(27)"
   ]
  }
 ],
 "metadata": {
  "hide_input": false,
  "kernelspec": {
   "display_name": "Python 3",
   "language": "python",
   "name": "python3"
  },
  "language_info": {
   "codemirror_mode": {
    "name": "ipython",
    "version": 3
   },
   "file_extension": ".py",
   "mimetype": "text/x-python",
   "name": "python",
   "nbconvert_exporter": "python",
   "pygments_lexer": "ipython3",
   "version": "3.8.5"
  },
  "toc": {
   "base_numbering": 1,
   "nav_menu": {},
   "number_sections": true,
   "sideBar": true,
   "skip_h1_title": false,
   "title_cell": "Table of Contents",
   "title_sidebar": "Contents",
   "toc_cell": false,
   "toc_position": {},
   "toc_section_display": true,
   "toc_window_display": false
  },
  "varInspector": {
   "cols": {
    "lenName": 16,
    "lenType": 16,
    "lenVar": 40
   },
   "kernels_config": {
    "python": {
     "delete_cmd_postfix": "",
     "delete_cmd_prefix": "del ",
     "library": "var_list.py",
     "varRefreshCmd": "print(var_dic_list())"
    },
    "r": {
     "delete_cmd_postfix": ") ",
     "delete_cmd_prefix": "rm(",
     "library": "var_list.r",
     "varRefreshCmd": "cat(var_dic_list()) "
    }
   },
   "types_to_exclude": [
    "module",
    "function",
    "builtin_function_or_method",
    "instance",
    "_Feature"
   ],
   "window_display": false
  }
 },
 "nbformat": 4,
 "nbformat_minor": 4
}
