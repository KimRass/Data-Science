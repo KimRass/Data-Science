{
 "cells": [
  {
   "cell_type": "markdown",
   "metadata": {},
   "source": [
    "Written by KimRass\n",
    "- Source: https://www.acmicpc.net/problem/1305"
   ]
  },
  {
   "cell_type": "code",
   "execution_count": null,
   "metadata": {},
   "outputs": [],
   "source": [
    "aabaaa\n",
    " i  j"
   ]
  },
  {
   "cell_type": "code",
   "execution_count": 5,
   "metadata": {
    "ExecuteTime": {
     "end_time": "2021-11-25T13:44:00.088408Z",
     "start_time": "2021-11-25T13:44:00.079246Z"
    }
   },
   "outputs": [],
   "source": [
    "s = \"abaaab\""
   ]
  },
  {
   "cell_type": "code",
   "execution_count": null,
   "metadata": {},
   "outputs": [],
   "source": [
    "aabaaa\n",
    "  i  j"
   ]
  },
  {
   "cell_type": "code",
   "execution_count": 12,
   "metadata": {
    "ExecuteTime": {
     "end_time": "2021-11-25T13:55:24.065033Z",
     "start_time": "2021-11-25T13:55:24.048046Z"
    }
   },
   "outputs": [
    {
     "name": "stdout",
     "output_type": "stream",
     "text": [
      "0 1 a a\n",
      "1 2 a b\n",
      "0 2 a b\n",
      "0 3 a a\n",
      "1 4 a a\n",
      "2 5 b a\n",
      "0 5 a a\n",
      "5\n"
     ]
    }
   ],
   "source": [
    "# L = int(input())\n",
    "# s = input()\n",
    "\n",
    "i = 0\n",
    "j = 1\n",
    "while j < L:\n",
    "    print(i, j, s[i], s[j])\n",
    "    if s[i] == s[j]:\n",
    "        i += 1\n",
    "        j += 1\n",
    "    else:\n",
    "        if i != 0:\n",
    "            i = 0\n",
    "        else:\n",
    "            j += 1\n",
    "else:\n",
    "    print(j - i)"
   ]
  },
  {
   "cell_type": "markdown",
   "metadata": {},
   "source": [
    "```python\n",
    "hash = ord(s[0])*(d**(len(p) - 1)) + ord(s[1])*(d**(len(p) - 2)) + ... + ord(s[len(p) - 1])\n",
    "```"
   ]
  },
  {
   "cell_type": "code",
   "execution_count": 40,
   "metadata": {
    "ExecuteTime": {
     "end_time": "2021-11-26T09:05:11.688223Z",
     "start_time": "2021-11-26T09:05:11.684234Z"
    }
   },
   "outputs": [],
   "source": [
    "3141592653589793\n",
    "  i\n",
    "265\n",
    "  \n",
    "j = 0"
   ]
  },
  {
   "cell_type": "code",
   "execution_count": null,
   "metadata": {},
   "outputs": [],
   "source": [
    "9: 12\n",
    "7: 13"
   ]
  },
  {
   "cell_type": "code",
   "execution_count": 51,
   "metadata": {
    "ExecuteTime": {
     "end_time": "2021-11-26T09:27:00.535775Z",
     "start_time": "2021-11-26T09:27:00.530810Z"
    }
   },
   "outputs": [
    {
     "data": {
      "text/plain": [
       "13"
      ]
     },
     "execution_count": 51,
     "metadata": {},
     "output_type": "execute_result"
    }
   ],
   "source": [
    "len(s) - len(p)"
   ]
  },
  {
   "cell_type": "code",
   "execution_count": 91,
   "metadata": {
    "ExecuteTime": {
     "end_time": "2021-11-26T09:37:45.377582Z",
     "start_time": "2021-11-26T09:37:45.369632Z"
    }
   },
   "outputs": [
    {
     "name": "stdout",
     "output_type": "stream",
     "text": [
      "[6]\n"
     ]
    }
   ],
   "source": [
    "s = \"3141592653589793\"\n",
    "p = \"265\"\n",
    "\n",
    "d = 257\n",
    "q = 11\n",
    "\n",
    "h = pow(d, len(p)-1)%q\n",
    "res = []\n",
    "\n",
    "hash_p = 0\n",
    "hash_s = 0\n",
    "for i in range(len(p)):\n",
    "    hash_s = (d*hash_s + ord(s[i]))\n",
    "    hash_p = (d*hash_p + ord(p[i]))\n",
    "\n",
    "j = 0\n",
    "while j < len(s) - len(p):\n",
    "#     print(j, hash_s, hash_p)\n",
    "    if hash_s == hash_p:\n",
    "        # Check character by character.\n",
    "        for k in range(len(p)):\n",
    "            if s[k + j] != p[k]:\n",
    "                break\n",
    "        else:\n",
    "            res.append(j)\n",
    "    hash_s = (hash_s - ord(s[j])*(d**(len(p) - 1)))*d + ord(s[j + len(p)])\n",
    "    j += 1\n",
    "\n",
    "print(res)"
   ]
  },
  {
   "cell_type": "code",
   "execution_count": 49,
   "metadata": {
    "ExecuteTime": {
     "end_time": "2021-11-26T09:21:45.140322Z",
     "start_time": "2021-11-26T09:21:45.130365Z"
    }
   },
   "outputs": [
    {
     "name": "stdout",
     "output_type": "stream",
     "text": [
      "0 3316381 3316381\n",
      "1 3316381 3316381\n",
      "2 3316381 3316381\n",
      "3 3316381 3316381\n",
      "4 3316381 3316381\n",
      "5 3316381 3316381\n",
      "6 3316381 3316381\n",
      "7 3316381 3316381\n",
      "8 3316381 3316381\n",
      "9 3316381 3316381\n",
      "10 3316381 3316381\n",
      "11 3316381 3316381\n",
      "12 3316381 3316381\n",
      "13 3316381 3316381\n",
      "[6, 6]\n"
     ]
    }
   ],
   "source": [
    "for j in range(len(s) - len(p) + 1): # note the  + 1\n",
    "    print(j, hash_s, hash_p)\n",
    "    if hash_p == hash_s: # check character by character\n",
    "        for k in range(len(p)):\n",
    "            if p[k] != s[j + k]:\n",
    "                break\n",
    "        else:\n",
    "            res.append(j)\n",
    "    else:\n",
    "        if j < len(s) - len(p):\n",
    "            hash_s = (hash_s - ord(s[j])*(d**(len(p) - 1)))*d + ord(s[len(p) + j])\n",
    "\n",
    "print(res)\n",
    "    \n",
    "# print (Rabin_Karp_len(p)atcher (\"3141592653589793\",  \"26\",  257,  11))\n",
    "# print (Rabin_Karp_len(p)atcher (\"xxxxx\",  \"xx\",  40999999,  999999937))"
   ]
  },
  {
   "cell_type": "code",
   "execution_count": null,
   "metadata": {},
   "outputs": [],
   "source": []
  }
 ],
 "metadata": {
  "hide_input": false,
  "kernelspec": {
   "display_name": "Python 3",
   "language": "python",
   "name": "python3"
  },
  "language_info": {
   "codemirror_mode": {
    "name": "ipython",
    "version": 3
   },
   "file_extension": ".py",
   "mimetype": "text/x-python",
   "name": "python",
   "nbconvert_exporter": "python",
   "pygments_lexer": "ipython3",
   "version": "3.7.7"
  },
  "toc": {
   "base_numbering": 1,
   "nav_menu": {},
   "number_sections": true,
   "sideBar": true,
   "skip_h1_title": false,
   "title_cell": "Table of Contents",
   "title_sidebar": "Contents",
   "toc_cell": false,
   "toc_position": {},
   "toc_section_display": true,
   "toc_window_display": false
  },
  "varInspector": {
   "cols": {
    "lenName": 16,
    "lenType": 16,
    "lenVar": 40
   },
   "kernels_config": {
    "python": {
     "delete_cmd_postfix": "",
     "delete_cmd_prefix": "del ",
     "library": "var_list.py",
     "varRefreshCmd": "print(var_dic_list())"
    },
    "r": {
     "delete_cmd_postfix": ") ",
     "delete_cmd_prefix": "rm(",
     "library": "var_list.r",
     "varRefreshCmd": "cat(var_dic_list()) "
    }
   },
   "types_to_exclude": [
    "module",
    "function",
    "builtin_function_or_method",
    "instance",
    "_Feature"
   ],
   "window_display": false
  }
 },
 "nbformat": 4,
 "nbformat_minor": 4
}
