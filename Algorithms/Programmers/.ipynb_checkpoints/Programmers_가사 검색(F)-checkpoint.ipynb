{
 "cells": [
  {
   "cell_type": "code",
   "execution_count": 2,
   "metadata": {},
   "outputs": [],
   "source": [
    "import re\n",
    "\n",
    "def solution(words, queries):\n",
    "    words = \" \" + \"  \".join(words) + \" \"\n",
    "    # print(words)\n",
    "    query2cnt = dict()\n",
    "    ans = list()\n",
    "    for query in queries:\n",
    "        if query in query2cnt.keys():\n",
    "            ans.append(query2cnt[query])\n",
    "        else:\n",
    "            try:\n",
    "                chars = re.search(r\"[a-z]+\", query).group()\n",
    "            except:\n",
    "                pass\n",
    "            n_wc = query.count(\"?\")\n",
    "            if query[0]==\"?\" and query[-1]==\"?\":\n",
    "                cnt = len(re.findall(rf\"[ ][a-z]{{{n_wc}}}[ ]\", words))\n",
    "                ans.append(cnt)\n",
    "                query2cnt.update({query:cnt})\n",
    "            elif query[0]==\"?\":\n",
    "                cnt = len(re.findall(rf\"[ ][a-z]{{{n_wc}}}{chars}[ ]\", words))\n",
    "                ans.append(cnt)\n",
    "                query2cnt.update({query:cnt})\n",
    "            elif query[-1]==\"?\":\n",
    "                cnt = len(re.findall(rf\"[ ]{chars}[a-z]{{{n_wc}}}[ ]\", words))\n",
    "                ans.append(cnt)\n",
    "                query2cnt.update({query:cnt})\n",
    "    return ans"
   ]
  },
  {
   "cell_type": "code",
   "execution_count": null,
   "metadata": {},
   "outputs": [],
   "source": []
  }
 ],
 "metadata": {
  "kernelspec": {
   "display_name": "Python 3",
   "language": "python",
   "name": "python3"
  },
  "language_info": {
   "codemirror_mode": {
    "name": "ipython",
    "version": 3
   },
   "file_extension": ".py",
   "mimetype": "text/x-python",
   "name": "python",
   "nbconvert_exporter": "python",
   "pygments_lexer": "ipython3",
   "version": "3.7.7"
  }
 },
 "nbformat": 4,
 "nbformat_minor": 4
}
