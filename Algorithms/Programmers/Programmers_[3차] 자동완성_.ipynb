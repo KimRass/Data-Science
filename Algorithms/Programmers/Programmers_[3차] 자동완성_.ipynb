{
 "cells": [
  {
   "cell_type": "code",
   "execution_count": null,
   "metadata": {},
   "outputs": [],
   "source": [
    "class None(self, key, data=None)\n",
    "    def __init__(self)\n",
    "        self.key = key\n",
    "        self.data = data\n",
    "        self.child = {}\n",
    "        \n",
    "class Trie()\n",
    "    cur_node = head\n",
    "    for char in string:\n",
    "        if char not in cur_node.child[]:\n",
    "            cur_node."
   ]
  }
 ],
 "metadata": {
  "kernelspec": {
   "display_name": "Python 3",
   "language": "python",
   "name": "python3"
  },
  "language_info": {
   "codemirror_mode": {
    "name": "ipython",
    "version": 3
   },
   "file_extension": ".py",
   "mimetype": "text/x-python",
   "name": "python",
   "nbconvert_exporter": "python",
   "pygments_lexer": "ipython3",
   "version": "3.8.5"
  }
 },
 "nbformat": 4,
 "nbformat_minor": 4
}
