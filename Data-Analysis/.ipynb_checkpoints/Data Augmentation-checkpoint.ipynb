{
 "cells": [
  {
   "cell_type": "code",
   "execution_count": null,
   "metadata": {},
   "outputs": [],
   "source": [
    "bins = range(0, 800, 40)\n",
    "data[\"ppa_range\"] = np.digitize(data[\"ppa\"], bins)\n",
    "data_groupby = data.groupby(by=\"ppa_range\").size()\n",
    "df = data\n",
    "for i in data_groupby.index.tolist():\n",
    "    count = int(round(max(data_groupby)/data_groupby[i]))-1\n",
    "    for _ in range(count):\n",
    "        df = pd.concat([df, data.loc[data[\"ppa_range\"] == i]], axis = 0)\n",
    "data = df\n",
    "data = data.drop([\"ppa_range\"], axis = 1)"
   ]
  }
 ],
 "metadata": {
  "kernelspec": {
   "display_name": "Python 3",
   "language": "python",
   "name": "python3"
  },
  "language_info": {
   "codemirror_mode": {
    "name": "ipython",
    "version": 3
   },
   "file_extension": ".py",
   "mimetype": "text/x-python",
   "name": "python",
   "nbconvert_exporter": "python",
   "pygments_lexer": "ipython3",
   "version": "3.7.7"
  },
  "toc": {
   "base_numbering": 1,
   "nav_menu": {},
   "number_sections": true,
   "sideBar": true,
   "skip_h1_title": false,
   "title_cell": "Table of Contents",
   "title_sidebar": "Contents",
   "toc_cell": false,
   "toc_position": {},
   "toc_section_display": true,
   "toc_window_display": false
  }
 },
 "nbformat": 4,
 "nbformat_minor": 4
}
