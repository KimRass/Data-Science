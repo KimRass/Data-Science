{
 "cells": [
  {
   "cell_type": "code",
   "execution_count": 1,
   "metadata": {
    "ExecuteTime": {
     "end_time": "2021-08-11T07:29:56.305510Z",
     "start_time": "2021-08-11T07:29:53.117036Z"
    }
   },
   "outputs": [],
   "source": [
    "import pandas as pd\n",
    "from statsmodels.stats.outliers_influence import variance_inflation_factor as vif\n",
    "import seaborn as sns\n",
    "from scipy import stats\n",
    "import numpy as np\n",
    "import matplotlib.pyplot as plt\n",
    "import six\n",
    "\n",
    "pd.set_option('display.max_rows', 500)\n",
    "pd.set_option('display.max_columns', 500)\n",
    "# pd.set_option('display.width', 1000)"
   ]
  },
  {
   "cell_type": "code",
   "execution_count": 2,
   "metadata": {
    "ExecuteTime": {
     "end_time": "2021-08-11T07:29:56.316478Z",
     "start_time": "2021-08-11T07:29:56.307505Z"
    }
   },
   "outputs": [],
   "source": [
    "def render_mpl_table(data, col_width=3.0, row_height=0.625, font_size=14,\n",
    "                     header_color='w', row_colors=['#f1f1f2'], edge_color='black',\n",
    "                     bbox=[0, 0, 1, 1], header_columns=0,\n",
    "                     ax=None, **kwargs):\n",
    "    if ax is None:\n",
    "        size = (np.array(data.shape[::-1]) + np.array([0, 1])) * np.array([col_width, row_height])\n",
    "        fig, ax = plt.subplots(figsize=size)\n",
    "        ax.axis('off')\n",
    "\n",
    "    mpl_table = ax.table(cellText=data.values, bbox=bbox, colLabels=data.columns, **kwargs)\n",
    "\n",
    "    mpl_table.auto_set_font_size(False)\n",
    "    mpl_table.set_fontsize(font_size)\n",
    "\n",
    "    for k, cell in six.iteritems(mpl_table._cells):\n",
    "        cell.set_edgecolor(edge_color)\n",
    "        if k[0] == 0 or k[1] < header_columns:\n",
    "            cell.set_text_props(weight='bold', color='black')\n",
    "            cell.set_facecolor(header_color)\n",
    "        else:\n",
    "            cell.set_facecolor(row_colors[k[0]%len(row_colors) ])\n",
    "    return ax"
   ]
  },
  {
   "cell_type": "code",
   "execution_count": null,
   "metadata": {},
   "outputs": [],
   "source": [
    "raw_data = pd.read_excel('실거래가 전처리 완료_200728.xlsx', thousands=',', encoding='Ansi')"
   ]
  },
  {
   "cell_type": "code",
   "execution_count": null,
   "metadata": {},
   "outputs": [],
   "source": [
    "data = raw_data\n",
    "data[\"id\"] = data[\"id\"].astype(\"int\").astype(\"str\")\n",
    "data = data.set_index(data[\"id\"]+\" \"+data[\"name\"]+\" \"+data[\"area\"].astype(\"str\"))\n",
    "\n",
    "data = data.sort_values(by=[\"id\", \"area\", \"floor\", \"trade\"], ascending=True, na_position=\"first\", axis=0)\n",
    "\n",
    "data = data.drop([\"company\", \"heating\", \"type\", \"fuel\", \"elem\", \"brand_name\"], axis=1)\n",
    "data = data.drop([\"heating_label\", \"near_houses\", 'built_month', 'built_year', 'trade_month', 'trade_year'], axis=1)\n",
    "data['area_price'] = data['grd_price'] * data['area']\n",
    "\n",
    "data = data.dropna()\n",
    "\n",
    "data = data.drop(columns=['id', 'name', 'Unnamed: 0'])\n",
    "\n",
    "data.info()"
   ]
  },
  {
   "cell_type": "code",
   "execution_count": null,
   "metadata": {},
   "outputs": [],
   "source": [
    "data_for_vif = data.drop(columns=columns_to_eliminate)\n",
    "data_for_vif.columns"
   ]
  },
  {
   "cell_type": "code",
   "execution_count": null,
   "metadata": {},
   "outputs": [],
   "source": [
    "columns_to_eliminate = ['ppa', 'money']\n",
    "\n",
    "for i in range(30):\n",
    "    data_for_vif = data.drop(columns=columns_to_eliminate)\n",
    "\n",
    "    vif = pd.DataFrame()\n",
    "    vif[\"variables\"] = data_for_vif.columns\n",
    "    vif[\"vif\"] = [round(vif(data_for_vif.values, i), 1) for i in range(data_for_vif.shape[1])]\n",
    "\n",
    "    ax = render_mpl_table(vif, header_columns=0, col_width=2.0)\n",
    "\n",
    "    plt.savefig('vif_trial_' + str(i) + '.png')\n",
    "    \n",
    "    max_vif = max(list(vif['vif']))\n",
    "    \n",
    "    if max_vif < 10:\n",
    "        break\n",
    "    \n",
    "    for index in vif.index:\n",
    "        if vif.loc[index]['vif'] == max_vif:\n",
    "            columns_to_eliminate.append(vif.loc[index]['variables'])"
   ]
  },
  {
   "cell_type": "code",
   "execution_count": null,
   "metadata": {},
   "outputs": [],
   "source": [
    "### 데이터프레임 머지하는 부분 시작\n",
    "columns_to_eliminate = ['ppa', 'money'] # 지울 배리어블 네임들\n",
    "\n",
    "for i in range(30):\n",
    "    data_for_vif = data.drop(columns=columns_to_eliminate) # 지울 배리어블들 리스트에대해 드랍\n",
    "\n",
    "    vif = pd.DataFrame() \n",
    "    vif[\"variables\"] = data_for_vif.columns\n",
    "    vif[\"vif\"] = [round(vif(data_for_vif.values, i), 1) for i in range(data_for_vif.shape[1])]\n",
    "    vif.to_csv('vif_{}.csv'.format(i))\n",
    "#     ax = render_mpl_table(vif, header_columns=0, col_width=2.0)\n",
    "\n",
    "#     plt.savefig('vif_trial_' + str(i) + '.png')\n",
    "    \n",
    "    max_vif = max(list(vif['vif'])) # 최대값 찾기\n",
    "    \n",
    "    if max_vif < 10: # 최대값이 10보다 작을때까지 루프진행\n",
    "        break\n",
    "    \n",
    "    for index in vif.index:\n",
    "        if vif.loc[index]['vif'] == max_vif: # vif값이 최대인 밸류를 찾고\n",
    "            columns_to_eliminate.append(vif.loc[index]['variables']) # 그 밸류의 베리어블 네임을 드랍할 리스트에 어펜드"
   ]
  },
  {
   "cell_type": "code",
   "execution_count": null,
   "metadata": {},
   "outputs": [],
   "source": [
    "vif00 = pd.read_csv('vif_0.csv', index_col=False).drop(columns=['Unnamed: 0'])\n",
    "\n",
    "vif0['variables']= list(vif00['variables'])\n",
    "\n",
    "vif0.head()"
   ]
  },
  {
   "cell_type": "code",
   "execution_count": null,
   "metadata": {},
   "outputs": [],
   "source": [
    "# vif0 = pd.read_csv('vif_0.csv', index_col='variables').drop(columns=['Unnamed: 0'])\n",
    "# vif1 = pd.read_csv('vif_1.csv', index_col='variables').drop(columns=['Unnamed: 0'])\n",
    "# vif2 = pd.read_csv('vif_2.csv', index_col='variables').drop(columns=['Unnamed: 0'])\n",
    "# vif3 = pd.read_csv('vif_3.csv', index_col='variables').drop(columns=['Unnamed: 0'])\n",
    "# vif4 = pd.read_csv('vif_4.csv', index_col='variables').drop(columns=['Unnamed: 0'])\n",
    "# vif5 = pd.read_csv('vif_5.csv', index_col='variables').drop(columns=['Unnamed: 0'])\n",
    "# vif6 = pd.read_csv('vif_6.csv', index_col='variables').drop(columns=['Unnamed: 0'])\n",
    "# vif7 = pd.read_csv('vif_7.csv', index_col='variables').drop(columns=['Unnamed: 0'])\n",
    "# vif8 = pd.read_csv('vif_8.csv', index_col='variables').drop(columns=['Unnamed: 0'])\n",
    "# vif9 = pd.read_csv('vif_9.csv', index_col='variables').drop(columns=['Unnamed: 0'])\n",
    "# vif10 = pd.read_csv('vif_10.csv', index_col='variables').drop(columns=['Unnamed: 0'])\n",
    "# vif11 = pd.read_csv('vif_11.csv', index_col='variables').drop(columns=['Unnamed: 0'])\n",
    "# vif12 = pd.read_csv('vif_12.csv', index_col='variables').drop(columns=['Unnamed: 0'])\n",
    "# vif13 = pd.read_csv('vif_13.csv', index_col='variables').drop(columns=['Unnamed: 0'])\n",
    "# vif14 = pd.read_csv('vif_14.csv', index_col='variables').drop(columns=['Unnamed: 0'])\n",
    "# vif15 = pd.read_csv('vif_15.csv', index_col='variables').drop(columns=['Unnamed: 0'])\n",
    "# vif16 = pd.read_csv('vif_16.csv', index_col='variables').drop(columns=['Unnamed: 0'])\n",
    "# vif17 = pd.read_csv('vif_17.csv', index_col='variables').drop(columns=['Unnamed: 0'])\n",
    "# vif18 = pd.read_csv('vif_18.csv', index_col='variables').drop(columns=['Unnamed: 0'])\n",
    "# vif19 = pd.read_csv('vif_19.csv', index_col='variables').drop(columns=['Unnamed: 0'])\n",
    "# vif20 = pd.read_csv('vif_20.csv', index_col='variables').drop(columns=['Unnamed: 0'])\n",
    "# vif21 = pd.read_csv('vif_21.csv', index_col='variables').drop(columns=['Unnamed: 0'])\n",
    "# vif22 = pd.read_csv('vif_22.csv', index_col='variables').drop(columns=['Unnamed: 0'])\n",
    "# vif23 = pd.read_csv('vif_23.csv', index_col='variables').drop(columns=['Unnamed: 0'])\n",
    "# vif24 = pd.read_csv('vif_24.csv', index_col='variables').drop(columns=['Unnamed: 0'])\n",
    "# vif25 = pd.read_csv('vif_25.csv', index_col='variables').drop(columns=['Unnamed: 0'])\n",
    "# vif26 = pd.read_csv('vif_26.csv', index_col='variables').drop(columns=['Unnamed: 0'])"
   ]
  },
  {
   "cell_type": "code",
   "execution_count": null,
   "metadata": {},
   "outputs": [],
   "source": [
    "vif_concat = pd.concat([vif0, vif1, vif2, vif3, vif4, vif5, vif6, vif7, vif8, vif9, vif10, vif11, vif12, vif13, vif14, vif15, vif16, vif17, vif18, vif19, vif20, vif21, vif22, vif23, vif24, vif25, vif26], join_axes=[vif0.index], axis=1)"
   ]
  },
  {
   "cell_type": "code",
   "execution_count": null,
   "metadata": {},
   "outputs": [],
   "source": [
    "vif_concat.columns=[\"vif0\",\"variables\",\"vif1\",\"vif2\",\"vif3\",\"vif4\",\"vif5\",\"vif6\",\"vif7\",\"vif8\", \"vif9\",\"vif10\",\"vif11\",\"vif12\",\"vif13\",\"vif14\",\"vif15\",\"vif16\",\"vif17\",\"vif18\",\"vif19\",\"vif20\",\"vif21\", \"vif22\", \"vif23\",\"vif24\",\"vif25\",\"vif26\"]"
   ]
  },
  {
   "cell_type": "code",
   "execution_count": null,
   "metadata": {},
   "outputs": [],
   "source": [
    "cols = vif_concat.columns.tolist()\n",
    "\n",
    "cols = cols[1:2]+cols[0:1]+cols[2:]\n",
    "\n",
    "vif_concat = vif_concat[cols]\n",
    "vif_concat.head()"
   ]
  },
  {
   "cell_type": "code",
   "execution_count": null,
   "metadata": {},
   "outputs": [],
   "source": [
    "vif_df = render_mpl_table(vif_concat, header_columns=0, col_width=2.0)\n",
    "\n",
    "plt.savefig('vif_df.png')"
   ]
  }
 ],
 "metadata": {
  "kernelspec": {
   "display_name": "Python 3",
   "language": "python",
   "name": "python3"
  },
  "language_info": {
   "codemirror_mode": {
    "name": "ipython",
    "version": 3
   },
   "file_extension": ".py",
   "mimetype": "text/x-python",
   "name": "python",
   "nbconvert_exporter": "python",
   "pygments_lexer": "ipython3",
   "version": "3.7.7"
  },
  "toc": {
   "base_numbering": 1,
   "nav_menu": {},
   "number_sections": true,
   "sideBar": true,
   "skip_h1_title": false,
   "title_cell": "Table of Contents",
   "title_sidebar": "Contents",
   "toc_cell": false,
   "toc_position": {},
   "toc_section_display": true,
   "toc_window_display": false
  }
 },
 "nbformat": 4,
 "nbformat_minor": 2
}
