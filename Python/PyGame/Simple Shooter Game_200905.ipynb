{
 "cells": [
  {
   "cell_type": "code",
   "execution_count": 1,
   "metadata": {
    "scrolled": true
   },
   "outputs": [
    {
     "name": "stdout",
     "output_type": "stream",
     "text": [
      "pygame 1.9.6\n",
      "Hello from the pygame community. https://www.pygame.org/contribute.html\n"
     ]
    }
   ],
   "source": [
    "import pygame\n",
    "\n",
    "WHITE = (255, 255, 255)\n",
    "pad_width = 1536\n",
    "pad_height = 960\n",
    "bg_width = 2560\n",
    "\n",
    "def bg(bg, x, y):\n",
    "    global gamepad, background\n",
    "    gamepad.blit(bg, (x, y))\n",
    "\n",
    "def plane(x, y):\n",
    "    global gamepad, aircraft\n",
    "    gamepad.blit(aircraft, (x, y)) #\"aircraft\"를 \"(x, y)\"에 배치\n",
    "\n",
    "def runGame():\n",
    "    global gamepad, aircraft, clock, bg1, bg2\n",
    "    \n",
    "    x = pad_width*0.01\n",
    "    y = pad_height*0.5\n",
    "    x_change = 0\n",
    "    y_change = 0\n",
    "    \n",
    "    bg1_x = 0\n",
    "    bg2_x = bg_width\n",
    "    \n",
    "    crashed = False #\"True\" : 게임 종료,  \"False\" : 안 종료\n",
    "    while not crashed:\n",
    "        for event in pygame.event.get():\n",
    "            if event.type == pygame.QUIT: #마우스로 창을 닫으면\n",
    "                crashed = True #게임 종료\n",
    "            if event.type == pygame.KEYDOWN: #키보드를 누를 때\n",
    "                if event.key == pygame.K_RIGHT:\n",
    "                    x_change = 15\n",
    "                if event.key == pygame.K_LEFT:\n",
    "                    x_change = -15\n",
    "                elif event.key == pygame.K_UP:\n",
    "                    y_change = -15\n",
    "                elif event.key == pygame.K_DOWN:\n",
    "                    y_change = 15\n",
    "            if event.type == pygame.KEYUP: #키보드를 누른 후 뗄 때\n",
    "                if event.key == pygame.K_RIGHT or event.key == pygame.K_LEFT:\n",
    "                    x_change = 0\n",
    "                if event.key == pygame.K_UP or event.key == pygame.K_DOWN:\n",
    "                    y_change = 0\n",
    "        x += x_change\n",
    "        y += y_change\n",
    "                    \n",
    "        gamepad.fill(WHITE) #\"gamepad\"를 \"WHITE\"로 채우고\n",
    "        bg1_x -= 5\n",
    "        bg2_x -= 5\n",
    "        if bg1_x == -bg_width:\n",
    "            bg1_x = bg_width\n",
    "        if bg2_x == -bg_width:\n",
    "            bg2_x = bg_width\n",
    "            \n",
    "        bg(bg1, bg1_x, 0)\n",
    "        bg(bg2, bg2_x, 0)\n",
    "        \n",
    "        plane(x, y) #\"plane(x, y)\" 함수를 실행한 뒤\n",
    "        pygame.display.update() #화면 갱신\n",
    "        clock.tick(60) #FPS = 60 지정\n",
    "        \n",
    "    pygame.quit() #종료\n",
    "    \n",
    "def initGame():\n",
    "    global gamepad, aircraft, clock, bg1, bg2\n",
    "    \n",
    "    pygame.init()\n",
    "    gamepad = pygame.display.set_mode((pad_width, pad_height)) #화면 크기 지정\n",
    "    pygame.display.set_caption(\"PyFlying\") #타이틀 지정\n",
    "    aircraft = pygame.image.load(\"spaceship.png\")\n",
    "    bg1 = pygame.image.load(\"background.jpg\")\n",
    "    bg2 = bg1.copy()\n",
    "    \n",
    "    clock = pygame.time.Clock() #FPS를 지정하기 위한 변수 clock 선언\n",
    "    runGame()\n",
    "    \n",
    "initGame()"
   ]
  },
  {
   "cell_type": "code",
   "execution_count": null,
   "metadata": {},
   "outputs": [],
   "source": []
  }
 ],
 "metadata": {
  "kernelspec": {
   "display_name": "Python 3",
   "language": "python",
   "name": "python3"
  },
  "language_info": {
   "codemirror_mode": {
    "name": "ipython",
    "version": 3
   },
   "file_extension": ".py",
   "mimetype": "text/x-python",
   "name": "python",
   "nbconvert_exporter": "python",
   "pygments_lexer": "ipython3",
   "version": "3.7.7"
  }
 },
 "nbformat": 4,
 "nbformat_minor": 4
}
