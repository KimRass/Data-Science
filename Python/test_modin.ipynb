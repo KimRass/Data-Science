{
 "cells": [
  {
   "cell_type": "code",
   "execution_count": 1,
   "metadata": {},
   "outputs": [
    {
     "data": {
      "text/plain": [
       "RayContext(dashboard_url='', python_version='3.9.13', ray_version='1.12.1', ray_commit='4863e33856b54ccf8add5cbe75e41558850a1b75', address_info={'node_ip_address': '127.0.0.1', 'raylet_ip_address': '127.0.0.1', 'redis_address': None, 'object_store_address': '/tmp/ray/session_2022-06-02_18-53-01_816945_10712/sockets/plasma_store', 'raylet_socket_name': '/tmp/ray/session_2022-06-02_18-53-01_816945_10712/sockets/raylet', 'webui_url': '', 'session_dir': '/tmp/ray/session_2022-06-02_18-53-01_816945_10712', 'metrics_export_port': 63242, 'gcs_address': '127.0.0.1:60338', 'address': '127.0.0.1:60338', 'node_id': '17a2c753d7c81140882cb59b85f098fae24e5d1fa4a72ef6211664bf'})"
      ]
     },
     "execution_count": 1,
     "metadata": {},
     "output_type": "execute_result"
    }
   ],
   "source": [
    "import modin.pandas as pd\n",
    "import pandas\n",
    "\n",
    "import time\n",
    "# import ray\n",
    "# ray.init()"
   ]
  },
  {
   "cell_type": "code",
   "execution_count": 2,
   "metadata": {},
   "outputs": [
    {
     "name": "stdout",
     "output_type": "stream",
     "text": [
      "Time to read with pandas: 9.918 seconds\n"
     ]
    },
    {
     "name": "stderr",
     "output_type": "stream",
     "text": [
      "UserWarning: Parallel `read_excel` is a new feature! Please email bug_reports@modin.org if you run into any problems.\n"
     ]
    },
    {
     "name": "stdout",
     "output_type": "stream",
     "text": [
      "Time to read with Modin: 23.793 seconds\n",
      "Modin is 0.42x faster than pandas at `read_csv`!\n"
     ]
    }
   ],
   "source": [
    "start = time.time()\n",
    "\n",
    "file = \"/Users/jongbeom.kim/Downloads/valuesight_data/2021-09-30/news_eng_2021-09-30.xlsx\"\n",
    "\n",
    "pandas_df = pandas.read_excel(file)\n",
    "\n",
    "end = time.time()\n",
    "pandas_duration = end - start\n",
    "print(\"Time to read with pandas: {} seconds\".format(round(pandas_duration, 3)))\n",
    "start = time.time()\n",
    "\n",
    "modin_df = pd.read_excel(file)\n",
    "\n",
    "end = time.time()\n",
    "modin_duration = end - start\n",
    "print(\"Time to read with Modin: {} seconds\".format(round(modin_duration, 3)))\n",
    "\n",
    "print(\"Modin is {}x faster than pandas at `read_csv`!\".format(round(pandas_duration / modin_duration, 2)))"
   ]
  },
  {
   "cell_type": "code",
   "execution_count": 3,
   "metadata": {},
   "outputs": [
    {
     "name": "stdout",
     "output_type": "stream",
     "text": [
      "Time to concat with pandas: 0.234 seconds\n",
      "Time to concat with Modin: 0.211 seconds\n",
      "Modin is 1.1x faster than pandas at `concat`!\n"
     ]
    }
   ],
   "source": [
    "start = time.time()\n",
    "\n",
    "big_pandas_df = pandas.concat([pandas_df for _ in range(50)])\n",
    "\n",
    "end = time.time()\n",
    "pandas_duration = end - start\n",
    "print(\"Time to concat with pandas: {} seconds\".format(round(pandas_duration, 3)))\n",
    "\n",
    "start = time.time()\n",
    "\n",
    "big_modin_df = pd.concat([modin_df for _ in range(50)])\n",
    "\n",
    "end = time.time()\n",
    "modin_duration = end - start\n",
    "print(\"Time to concat with Modin: {} seconds\".format(round(modin_duration, 3)))\n",
    "\n",
    "print(\"Modin is {}x faster than pandas at `concat`!\".format(round(pandas_duration / modin_duration, 2)))"
   ]
  },
  {
   "cell_type": "code",
   "execution_count": 4,
   "metadata": {},
   "outputs": [
    {
     "name": "stdout",
     "output_type": "stream",
     "text": [
      "Time to apply with pandas: 26.488 seconds\n",
      "Time to apply with Modin: 5.025 seconds\n",
      "Modin is 5.27x faster than pandas at `apply` on one column!\n"
     ]
    }
   ],
   "source": [
    "start = time.time()\n",
    "big_pandas_df[\"sentence\"] = big_pandas_df[\"sentence\"].astype(\"str\")\n",
    "rounded_trip_distance_pandas = big_pandas_df[\"sentence\"].apply(lambda x: x.split())\n",
    "\n",
    "end = time.time()\n",
    "pandas_duration = end - start\n",
    "print(\"Time to apply with pandas: {} seconds\".format(round(pandas_duration, 3)))\n",
    "\n",
    "start = time.time()\n",
    "\n",
    "big_modin_df[\"sentence\"] = big_modin_df[\"sentence\"].astype(\"str\")\n",
    "rounded_trip_distance_modin = big_modin_df[\"sentence\"].apply(lambda x: x.split())\n",
    "\n",
    "end = time.time()\n",
    "modin_duration = end - start\n",
    "print(\"Time to apply with Modin: {} seconds\".format(round(modin_duration, 3)))\n",
    "\n",
    "print(\"Modin is {}x faster than pandas at `apply` on one column!\".format(round(pandas_duration / modin_duration, 2)))"
   ]
  },
  {
   "cell_type": "code",
   "execution_count": null,
   "metadata": {},
   "outputs": [],
   "source": []
  }
 ],
 "metadata": {
  "interpreter": {
   "hash": "dfd188f3364816ffec2cd391c61f72545e35f51d165664320f6f078b043625a7"
  },
  "kernelspec": {
   "display_name": "Python 3.9.12 ('venv')",
   "language": "python",
   "name": "python3"
  },
  "language_info": {
   "codemirror_mode": {
    "name": "ipython",
    "version": 3
   },
   "file_extension": ".py",
   "mimetype": "text/x-python",
   "name": "python",
   "nbconvert_exporter": "python",
   "pygments_lexer": "ipython3",
   "version": "3.9.13"
  },
  "orig_nbformat": 4
 },
 "nbformat": 4,
 "nbformat_minor": 2
}
