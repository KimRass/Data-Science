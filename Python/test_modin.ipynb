{
 "cells": [
  {
   "cell_type": "code",
   "execution_count": 5,
   "metadata": {},
   "outputs": [
    {
     "ename": "RuntimeError",
     "evalue": "Maybe you called ray.init twice by accident? This error can be suppressed by passing in 'ignore_reinit_error=True' or by calling 'ray.shutdown()' prior to 'ray.init()'.",
     "output_type": "error",
     "traceback": [
      "\u001b[0;31m---------------------------------------------------------------------------\u001b[0m",
      "\u001b[0;31mRuntimeError\u001b[0m                              Traceback (most recent call last)",
      "\u001b[1;32m/Users/jongbeom.kim/Desktop/workspace/Github/Data-Science/Python/test_modin.ipynb Cell 1'\u001b[0m in \u001b[0;36m<cell line: 6>\u001b[0;34m()\u001b[0m\n\u001b[1;32m      <a href='vscode-notebook-cell:/Users/jongbeom.kim/Desktop/workspace/Github/Data-Science/Python/test_modin.ipynb#ch0000000?line=3'>4</a>\u001b[0m \u001b[39mimport\u001b[39;00m \u001b[39mtime\u001b[39;00m\n\u001b[1;32m      <a href='vscode-notebook-cell:/Users/jongbeom.kim/Desktop/workspace/Github/Data-Science/Python/test_modin.ipynb#ch0000000?line=4'>5</a>\u001b[0m \u001b[39mimport\u001b[39;00m \u001b[39mray\u001b[39;00m\n\u001b[0;32m----> <a href='vscode-notebook-cell:/Users/jongbeom.kim/Desktop/workspace/Github/Data-Science/Python/test_modin.ipynb#ch0000000?line=5'>6</a>\u001b[0m ray\u001b[39m.\u001b[39;49minit()\n",
      "File \u001b[0;32m~/Desktop/myenv/venv/lib/python3.9/site-packages/ray/_private/client_mode_hook.py:105\u001b[0m, in \u001b[0;36mclient_mode_hook.<locals>.wrapper\u001b[0;34m(*args, **kwargs)\u001b[0m\n\u001b[1;32m    <a href='file:///Users/jongbeom.kim/Desktop/myenv/venv/lib/python3.9/site-packages/ray/_private/client_mode_hook.py?line=102'>103</a>\u001b[0m     \u001b[39mif\u001b[39;00m func\u001b[39m.\u001b[39m\u001b[39m__name__\u001b[39m \u001b[39m!=\u001b[39m \u001b[39m\"\u001b[39m\u001b[39minit\u001b[39m\u001b[39m\"\u001b[39m \u001b[39mor\u001b[39;00m is_client_mode_enabled_by_default:\n\u001b[1;32m    <a href='file:///Users/jongbeom.kim/Desktop/myenv/venv/lib/python3.9/site-packages/ray/_private/client_mode_hook.py?line=103'>104</a>\u001b[0m         \u001b[39mreturn\u001b[39;00m \u001b[39mgetattr\u001b[39m(ray, func\u001b[39m.\u001b[39m\u001b[39m__name__\u001b[39m)(\u001b[39m*\u001b[39margs, \u001b[39m*\u001b[39m\u001b[39m*\u001b[39mkwargs)\n\u001b[0;32m--> <a href='file:///Users/jongbeom.kim/Desktop/myenv/venv/lib/python3.9/site-packages/ray/_private/client_mode_hook.py?line=104'>105</a>\u001b[0m \u001b[39mreturn\u001b[39;00m func(\u001b[39m*\u001b[39;49margs, \u001b[39m*\u001b[39;49m\u001b[39m*\u001b[39;49mkwargs)\n",
      "File \u001b[0;32m~/Desktop/myenv/venv/lib/python3.9/site-packages/ray/worker.py:967\u001b[0m, in \u001b[0;36minit\u001b[0;34m(address, num_cpus, num_gpus, resources, object_store_memory, local_mode, ignore_reinit_error, include_dashboard, dashboard_host, dashboard_port, job_config, configure_logging, logging_level, logging_format, log_to_driver, namespace, runtime_env, storage, _enable_object_reconstruction, _redis_max_memory, _plasma_directory, _node_ip_address, _driver_object_store_memory, _memory, _redis_password, _temp_dir, _metrics_export_port, _system_config, _tracing_startup_hook, **kwargs)\u001b[0m\n\u001b[1;32m    <a href='file:///Users/jongbeom.kim/Desktop/myenv/venv/lib/python3.9/site-packages/ray/worker.py?line=964'>965</a>\u001b[0m         \u001b[39mreturn\u001b[39;00m RayContext(\u001b[39mdict\u001b[39m(_global_node\u001b[39m.\u001b[39maddress_info, node_id\u001b[39m=\u001b[39mnode_id\u001b[39m.\u001b[39mhex()))\n\u001b[1;32m    <a href='file:///Users/jongbeom.kim/Desktop/myenv/venv/lib/python3.9/site-packages/ray/worker.py?line=965'>966</a>\u001b[0m     \u001b[39melse\u001b[39;00m:\n\u001b[0;32m--> <a href='file:///Users/jongbeom.kim/Desktop/myenv/venv/lib/python3.9/site-packages/ray/worker.py?line=966'>967</a>\u001b[0m         \u001b[39mraise\u001b[39;00m \u001b[39mRuntimeError\u001b[39;00m(\n\u001b[1;32m    <a href='file:///Users/jongbeom.kim/Desktop/myenv/venv/lib/python3.9/site-packages/ray/worker.py?line=967'>968</a>\u001b[0m             \u001b[39m\"\u001b[39m\u001b[39mMaybe you called ray.init twice by accident? \u001b[39m\u001b[39m\"\u001b[39m\n\u001b[1;32m    <a href='file:///Users/jongbeom.kim/Desktop/myenv/venv/lib/python3.9/site-packages/ray/worker.py?line=968'>969</a>\u001b[0m             \u001b[39m\"\u001b[39m\u001b[39mThis error can be suppressed by passing in \u001b[39m\u001b[39m\"\u001b[39m\n\u001b[1;32m    <a href='file:///Users/jongbeom.kim/Desktop/myenv/venv/lib/python3.9/site-packages/ray/worker.py?line=969'>970</a>\u001b[0m             \u001b[39m\"\u001b[39m\u001b[39m'\u001b[39m\u001b[39mignore_reinit_error=True\u001b[39m\u001b[39m'\u001b[39m\u001b[39m or by calling \u001b[39m\u001b[39m\"\u001b[39m\n\u001b[1;32m    <a href='file:///Users/jongbeom.kim/Desktop/myenv/venv/lib/python3.9/site-packages/ray/worker.py?line=970'>971</a>\u001b[0m             \u001b[39m\"\u001b[39m\u001b[39m'\u001b[39m\u001b[39mray.shutdown()\u001b[39m\u001b[39m'\u001b[39m\u001b[39m prior to \u001b[39m\u001b[39m'\u001b[39m\u001b[39mray.init()\u001b[39m\u001b[39m'\u001b[39m\u001b[39m.\u001b[39m\u001b[39m\"\u001b[39m\n\u001b[1;32m    <a href='file:///Users/jongbeom.kim/Desktop/myenv/venv/lib/python3.9/site-packages/ray/worker.py?line=971'>972</a>\u001b[0m         )\n\u001b[1;32m    <a href='file:///Users/jongbeom.kim/Desktop/myenv/venv/lib/python3.9/site-packages/ray/worker.py?line=973'>974</a>\u001b[0m _system_config \u001b[39m=\u001b[39m _system_config \u001b[39mor\u001b[39;00m {}\n\u001b[1;32m    <a href='file:///Users/jongbeom.kim/Desktop/myenv/venv/lib/python3.9/site-packages/ray/worker.py?line=974'>975</a>\u001b[0m \u001b[39mif\u001b[39;00m \u001b[39mnot\u001b[39;00m \u001b[39misinstance\u001b[39m(_system_config, \u001b[39mdict\u001b[39m):\n",
      "\u001b[0;31mRuntimeError\u001b[0m: Maybe you called ray.init twice by accident? This error can be suppressed by passing in 'ignore_reinit_error=True' or by calling 'ray.shutdown()' prior to 'ray.init()'."
     ]
    }
   ],
   "source": [
    "import modin.pandas as pd\n",
    "import pandas\n",
    "\n",
    "import time\n",
    "import ray\n",
    "ray.init()"
   ]
  },
  {
   "cell_type": "code",
   "execution_count": 2,
   "metadata": {},
   "outputs": [
    {
     "name": "stdout",
     "output_type": "stream",
     "text": [
      "Time to read with pandas: 4.337 seconds\n"
     ]
    },
    {
     "name": "stderr",
     "output_type": "stream",
     "text": [
      "UserWarning: Ray execution environment not yet initialized. Initializing...\n",
      "To remove this warning, run the following python code before doing dataframe operations:\n",
      "\n",
      "    import ray\n",
      "    ray.init()\n",
      "\n",
      "UserWarning: On Macs, Ray's performance is known to degrade with object store size greater than 2.0 GiB. Ray by default does not allow setting an object store size greater than that. Modin is overriding that default limit because it would rather have a larger, slower object store than spill to disk more often. To override Modin's behavior, you can initialize Ray yourself.\n",
      "UserWarning: Parallel `read_excel` is a new feature! Please email bug_reports@modin.org if you run into any problems.\n"
     ]
    },
    {
     "name": "stdout",
     "output_type": "stream",
     "text": [
      "Time to read with Modin: 14.018 seconds\n",
      "Modin is 0.31x faster than pandas at `read_csv`!\n"
     ]
    }
   ],
   "source": [
    "start = time.time()\n",
    "\n",
    "file = \"/Users/jongbeom.kim/Downloads/valuesight_data/2021-09-30/news_eng_2021-09-30.xlsx\"\n",
    "\n",
    "pandas_df = pandas.read_excel(file)\n",
    "\n",
    "end = time.time()\n",
    "pandas_duration = end - start\n",
    "print(\"Time to read with pandas: {} seconds\".format(round(pandas_duration, 3)))\n",
    "start = time.time()\n",
    "\n",
    "modin_df = pd.read_excel(file)\n",
    "\n",
    "end = time.time()\n",
    "modin_duration = end - start\n",
    "print(\"Time to read with Modin: {} seconds\".format(round(modin_duration, 3)))\n",
    "\n",
    "print(\"Modin is {}x faster than pandas at `read_csv`!\".format(round(pandas_duration / modin_duration, 2)))"
   ]
  },
  {
   "cell_type": "code",
   "execution_count": 3,
   "metadata": {},
   "outputs": [
    {
     "name": "stdout",
     "output_type": "stream",
     "text": [
      "Time to concat with pandas: 0.112 seconds\n",
      "Time to concat with Modin: 0.114 seconds\n",
      "Modin is 0.98x faster than pandas at `concat`!\n"
     ]
    }
   ],
   "source": [
    "start = time.time()\n",
    "\n",
    "big_pandas_df = pandas.concat([pandas_df for _ in range(50)])\n",
    "\n",
    "end = time.time()\n",
    "pandas_duration = end - start\n",
    "print(\"Time to concat with pandas: {} seconds\".format(round(pandas_duration, 3)))\n",
    "\n",
    "start = time.time()\n",
    "\n",
    "big_modin_df = pd.concat([modin_df for _ in range(50)])\n",
    "\n",
    "end = time.time()\n",
    "modin_duration = end - start\n",
    "print(\"Time to concat with Modin: {} seconds\".format(round(modin_duration, 3)))\n",
    "\n",
    "print(\"Modin is {}x faster than pandas at `concat`!\".format(round(pandas_duration / modin_duration, 2)))"
   ]
  },
  {
   "cell_type": "code",
   "execution_count": 6,
   "metadata": {},
   "outputs": [
    {
     "name": "stdout",
     "output_type": "stream",
     "text": [
      "Time to apply with pandas: 26.299 seconds\n",
      "Time to apply with Modin: 1.473 seconds\n",
      "Modin is 17.86x faster than pandas at `apply` on one column!\n"
     ]
    }
   ],
   "source": [
    "start = time.time()\n",
    "big_pandas_df[\"sentence\"] = big_pandas_df[\"sentence\"].astype(\"str\")\n",
    "rounded_trip_distance_pandas = big_pandas_df[\"sentence\"].apply(lambda x: x.split())\n",
    "\n",
    "end = time.time()\n",
    "pandas_duration = end - start\n",
    "print(\"Time to apply with pandas: {} seconds\".format(round(pandas_duration, 3)))\n",
    "\n",
    "start = time.time()\n",
    "\n",
    "big_modin_df[\"sentence\"] = big_modin_df[\"sentence\"].astype(\"str\")\n",
    "rounded_trip_distance_modin = big_modin_df[\"sentence\"].apply(lambda x: x.split())\n",
    "\n",
    "end = time.time()\n",
    "modin_duration = end - start\n",
    "print(\"Time to apply with Modin: {} seconds\".format(round(modin_duration, 3)))\n",
    "\n",
    "print(\"Modin is {}x faster than pandas at `apply` on one column!\".format(round(pandas_duration / modin_duration, 2)))"
   ]
  },
  {
   "cell_type": "code",
   "execution_count": null,
   "metadata": {},
   "outputs": [],
   "source": []
  }
 ],
 "metadata": {
  "interpreter": {
   "hash": "dfd188f3364816ffec2cd391c61f72545e35f51d165664320f6f078b043625a7"
  },
  "kernelspec": {
   "display_name": "Python 3.9.12 ('venv')",
   "language": "python",
   "name": "python3"
  },
  "language_info": {
   "codemirror_mode": {
    "name": "ipython",
    "version": 3
   },
   "file_extension": ".py",
   "mimetype": "text/x-python",
   "name": "python",
   "nbconvert_exporter": "python",
   "pygments_lexer": "ipython3",
   "version": "3.9.13"
  },
  "orig_nbformat": 4
 },
 "nbformat": 4,
 "nbformat_minor": 2
}
