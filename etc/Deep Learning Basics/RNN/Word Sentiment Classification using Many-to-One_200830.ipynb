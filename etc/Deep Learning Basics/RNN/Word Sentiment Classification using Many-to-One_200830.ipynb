{
 "cells": [
  {
   "cell_type": "code",
   "execution_count": 1,
   "metadata": {},
   "outputs": [],
   "source": [
    "import numpy as np\n",
    "\n",
    "import matplotlib.pyplot as plt\n",
    "\n",
    "import tensorflow as tf"
   ]
  },
  {
   "cell_type": "code",
   "execution_count": 2,
   "metadata": {},
   "outputs": [
    {
     "name": "stdout",
     "output_type": "stream",
     "text": [
      "['<pad>', ' ', 'a', 'b', 'd', 'e', 'g', 'o', 'r', 's', 'w']\n",
      "{0: '<pad>', 1: ' ', 2: 'a', 3: 'b', 4: 'd', 5: 'e', 6: 'g', 7: 'o', 8: 'r', 9: 's', 10: 'w'}\n",
      "{'<pad>': 0, ' ': 1, 'a': 2, 'b': 3, 'd': 4, 'e': 5, 'g': 6, 'o': 7, 'r': 8, 's': 9, 'w': 10}\n"
     ]
    }
   ],
   "source": [
    "words = [\"good\", \"bad\", \"worse\", \"so good\"]\n",
    "y_data = [1, 0, 0,  1]\n",
    "\n",
    "char_set = [\"<pad>\"] + sorted(list(set(\"\".join(words))))\n",
    "idx2char = {idx : char for idx, char in enumerate(char_set)}\n",
    "char2idx = {char : idx for idx, char in enumerate(char_set)}\n",
    "\n",
    "print(char_set)\n",
    "print(idx2char)\n",
    "print(char2idx)"
   ]
  },
  {
   "cell_type": "code",
   "execution_count": 3,
   "metadata": {},
   "outputs": [
    {
     "data": {
      "text/plain": [
       "[[6, 7, 7, 4], [3, 2, 4], [10, 7, 8, 9, 5], [9, 7, 1, 6, 7, 7, 4]]"
      ]
     },
     "execution_count": 3,
     "metadata": {},
     "output_type": "execute_result"
    }
   ],
   "source": [
    "list(map(lambda word : [char2idx.get(char) for char in word], words))"
   ]
  },
  {
   "cell_type": "code",
   "execution_count": 4,
   "metadata": {},
   "outputs": [
    {
     "name": "stdout",
     "output_type": "stream",
     "text": [
      "[[6, 7, 7, 4], [3, 2, 4], [10, 7, 8, 9, 5], [9, 7, 1, 6, 7, 7, 4]]\n",
      "[4, 3, 5, 7]\n"
     ]
    }
   ],
   "source": [
    "x_data = list(map(lambda word : [char2idx.get(char) for char in word], words))\n",
    "x_data_len = list(map(lambda x : len(x), x_data))\n",
    "\n",
    "print(x_data)\n",
    "print(x_data_len)"
   ]
  },
  {
   "cell_type": "code",
   "execution_count": 5,
   "metadata": {},
   "outputs": [
    {
     "name": "stdout",
     "output_type": "stream",
     "text": [
      "[[ 6  7  7  4  0  0  0  0  0  0]\n",
      " [ 3  2  4  0  0  0  0  0  0  0]\n",
      " [10  7  8  9  5  0  0  0  0  0]\n",
      " [ 9  7  1  6  7  7  4  0  0  0]]\n"
     ]
    }
   ],
   "source": [
    "max_sequence = 10\n",
    "x_data = tf.keras.preprocessing.sequence.pad_sequences(sequences=x_data, maxlen=max_sequence, padding=\"post\", truncating=\"post\", value=0)\n",
    "\n",
    "print(x_data)"
   ]
  },
  {
   "cell_type": "code",
   "execution_count": 6,
   "metadata": {},
   "outputs": [],
   "source": [
    "# creating simple rnn for \"many to one\" classification\n",
    "input_dim = len(char2idx)\n",
    "output_dim = len(char2idx)\n",
    "one_hot = np.eye(len(char2idx))\n",
    "hidden_size = 10\n",
    "n_cls = len(set(y_data))\n",
    "\n",
    "model = tf.keras.Sequential()\n",
    "\n",
    "model.add(tf.keras.layers.Embedding(input_dim=input_dim, output_dim=output_dim, trainable=False, mask_zero=True, input_length=max_sequence, embeddings_initializer=tf.keras.initializers.Constant(one_hot)))\n",
    "\n",
    "model.add(tf.keras.layers.SimpleRNN(units=hidden_size))\n",
    "model.add(tf.keras.layers.Dense(units=n_cls))"
   ]
  },
  {
   "cell_type": "code",
   "execution_count": 7,
   "metadata": {},
   "outputs": [],
   "source": [
    "def loss_fn(model, x, y):\n",
    "    logits = model(x)\n",
    "    loss = tf.reduce_mean(tf.keras.losses.sparse_categorical_crossentropy(y_true=y, y_pred=logits, from_logits=True))\n",
    "    return loss\n",
    "\n",
    "def grad_fn(model, x, y):\n",
    "    with tf.GradientTape() as tape:\n",
    "        loss = loss_fn(model, x, y)\n",
    "    return tape.gradient(loss, model.trainable_variables)"
   ]
  },
  {
   "cell_type": "code",
   "execution_count": 9,
   "metadata": {
    "scrolled": true
   },
   "outputs": [
    {
     "name": "stdout",
     "output_type": "stream",
     "text": [
      "epoch :   1, train_loss : 0.900\n",
      "epoch :   2, train_loss : 0.688\n",
      "epoch :   3, train_loss : 0.531\n",
      "epoch :   4, train_loss : 0.397\n",
      "epoch :   5, train_loss : 0.291\n",
      "epoch :   6, train_loss : 0.211\n",
      "epoch :   7, train_loss : 0.146\n",
      "epoch :   8, train_loss : 0.095\n",
      "epoch :   9, train_loss : 0.063\n",
      "epoch :  10, train_loss : 0.038\n",
      "epoch :  11, train_loss : 0.023\n",
      "epoch :  12, train_loss : 0.013\n",
      "epoch :  13, train_loss : 0.008\n",
      "epoch :  14, train_loss : 0.005\n",
      "epoch :  15, train_loss : 0.003\n",
      "epoch :  16, train_loss : 0.002\n",
      "epoch :  17, train_loss : 0.001\n",
      "epoch :  18, train_loss : 0.001\n",
      "epoch :  19, train_loss : 0.000\n",
      "epoch :  20, train_loss : 0.000\n",
      "epoch :  21, train_loss : 0.000\n",
      "epoch :  22, train_loss : 0.000\n",
      "epoch :  23, train_loss : 0.000\n",
      "epoch :  24, train_loss : 0.000\n",
      "epoch :  25, train_loss : 0.000\n",
      "epoch :  26, train_loss : 0.000\n",
      "epoch :  27, train_loss : 0.000\n",
      "epoch :  28, train_loss : 0.000\n",
      "epoch :  29, train_loss : 0.000\n",
      "epoch :  30, train_loss : 0.000\n"
     ]
    }
   ],
   "source": [
    "lr = 0.01\n",
    "epochs = 30\n",
    "batch_size = 2\n",
    "\n",
    "train_dataset = tf.data.Dataset.from_tensor_slices((x_data, y_data)).shuffle(len(x_data)).batch(batch_size)\n",
    "\n",
    "train_loss_hist = []\n",
    "for epoch in range(epochs):\n",
    "    avg_train_loss = 0\n",
    "    train_step = 0\n",
    "    for x_mb, y_mb in train_dataset:\n",
    "        loss = loss_fn(model, x_mb, y_mb)\n",
    "        grads = grad_fn(model, x_mb, y_mb)\n",
    "        opt = tf.keras.optimizers.Adam(learning_rate=lr)\n",
    "        opt.apply_gradients(zip(grads, model.trainable_variables))\n",
    "        \n",
    "        avg_train_loss += loss\n",
    "        train_step += 1\n",
    "\n",
    "    avg_train_loss /= train_step\n",
    "    train_loss_hist.append(avg_train_loss)\n",
    "         \n",
    "    print(\"epoch : {:3}, train_loss : {:.3f}\".format(epoch+1, avg_train_loss.numpy()))"
   ]
  },
  {
   "cell_type": "code",
   "execution_count": 71,
   "metadata": {},
   "outputs": [
    {
     "name": "stdout",
     "output_type": "stream",
     "text": [
      "test_acc : 100.0%\n"
     ]
    }
   ],
   "source": [
    "pred = model.predict(x_data)\n",
    "pred = np.argmax(pred, axis=-1)\n",
    "is_equal = tf.cast(pred==y_data, tf.float32)\n",
    "\n",
    "print(\"test_acc : {:.1%}\".format(tf.reduce_mean(is_equal)))"
   ]
  },
  {
   "cell_type": "code",
   "execution_count": 73,
   "metadata": {},
   "outputs": [
    {
     "data": {
      "text/plain": [
       "[<matplotlib.lines.Line2D at 0x254ffdae608>]"
      ]
     },
     "execution_count": 73,
     "metadata": {},
     "output_type": "execute_result"
    },
    {
     "data": {
      "image/png": "[encoded data removed]",
      "text/plain": [
       "<Figure size 432x288 with 1 Axes>"
      ]
     },
     "metadata": {
      "needs_background": "light"
     },
     "output_type": "display_data"
    }
   ],
   "source": [
    "plt.plot(train_loss_hist)"
   ]
  },
  {
   "cell_type": "code",
   "execution_count": null,
   "metadata": {},
   "outputs": [],
   "source": []
  }
 ],
 "metadata": {
  "kernelspec": {
   "display_name": "Python 3",
   "language": "python",
   "name": "python3"
  },
  "language_info": {
   "codemirror_mode": {
    "name": "ipython",
    "version": 3
   },
   "file_extension": ".py",
   "mimetype": "text/x-python",
   "name": "python",
   "nbconvert_exporter": "python",
   "pygments_lexer": "ipython3",
   "version": "3.7.7"
  }
 },
 "nbformat": 4,
 "nbformat_minor": 4
}
