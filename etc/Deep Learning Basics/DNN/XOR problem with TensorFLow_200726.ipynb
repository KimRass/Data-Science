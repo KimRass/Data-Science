{
 "cells": [
  {
   "cell_type": "code",
   "execution_count": 2,
   "metadata": {},
   "outputs": [],
   "source": [
    "import tensorflow as tf\n",
    "import numpy as np\n",
    "import matplotlib.pyplot as plt\n",
    "import seaborn as sb\n",
    "\n",
    "tf.random.set_seed(0)"
   ]
  },
  {
   "cell_type": "code",
   "execution_count": 71,
   "metadata": {},
   "outputs": [],
   "source": [
    "train_X = np.array([[0, 0], [0, 1], [1, 0], [1, 1]], dtype=np.float32)\n",
    "train_y = np.array([[0], [1], [1], [0]], dtype=np.float32)\n",
    "dataset = tf.data.Dataset.from_tensor_slices((train_X, train_y)).batch(len(train_X))\n",
    "\n",
    "W1 = tf.Variable(tf.random.normal([train_X.shape[1], train_y.shape[1]], dtype=tf.float32), name=\"weight1\")\n",
    "b1 = tf.Variable(tf.random.normal([train_y.shape[1]], dtype=tf.float32), name=\"bias1\")\n",
    "W2 = tf.Variable(tf.random.normal([train_X.shape[1], train_y.shape[1]], dtype=tf.float32), name=\"weight2\")\n",
    "b2 = tf.Variable(tf.random.normal([train_y.shape[1]], dtype=tf.float32), name=\"bias2\")\n",
    "W3 = tf.Variable(tf.random.normal([train_X.shape[1], train_y.shape[1]], dtype=tf.float32), name=\"weight3\")\n",
    "b3 = tf.Variable(tf.random.normal([train_y.shape[1]], dtype=tf.float32), name=\"bias3\")\n",
    "\n",
    "vrbls = [W1, b1, W2, b2, W3, b3]\n",
    "\n",
    "def hyp(features):\n",
    "    layer1 = tf.sigmoid(tf.matmul(features, W1) + b1)\n",
    "    layer2 = tf.sigmoid(tf.matmul(features, W2) + b2)\n",
    "    layer3 = tf.concat([layer1, layer2], axis=1)\n",
    "    layer3 = tf.reshape(layer3, shape=[-1, 2])\n",
    "    h = tf.sigmoid(tf.matmul(layer3, W3) + b3)\n",
    "    return h\n",
    "\n",
    "def loss_fn(features, labels):\n",
    "    h = hyp(features)\n",
    "    loss = - tf.reduce_mean(labels * tf.math.log(h) + (1 - labels) * tf.math.log(1 - h))\n",
    "    return loss\n",
    "\n",
    "def grad_fn(features, labels):\n",
    "    with tf.GradientTape() as tape:\n",
    "        loss = loss_fn(features, labels)\n",
    "        grads = tape.gradient(loss, vrbls)\n",
    "        return grads\n",
    "\n",
    "def fit(X, Y, n_epochs=5000):\n",
    "    for step in range(n_epochs):\n",
    "        for features, labels in iter(dataset):\n",
    "            loss = loss_fn(features, labels)\n",
    "            grads = grad_fn(features, labels)\n",
    "            optimizer = tf.keras.optimizers.SGD(lr=0.4)\n",
    "            optimizer.apply_gradients(zip(grads, vrbls))\n",
    "            if (step + 1) % 1000 == 0:\n",
    "                print(\"{:>6d} | {:>8.6f}\".format(step+1, loss))"
   ]
  },
  {
   "cell_type": "code",
   "execution_count": 72,
   "metadata": {},
   "outputs": [
    {
     "name": "stdout",
     "output_type": "stream",
     "text": [
      "  1000 | 0.218325\n",
      "  2000 | 0.025839\n",
      "  3000 | 0.012752\n",
      "  4000 | 0.008380\n",
      "  5000 | 0.006217\n"
     ]
    }
   ],
   "source": [
    "fit(train_X, train_y)"
   ]
  },
  {
   "cell_type": "code",
   "execution_count": null,
   "metadata": {},
   "outputs": [],
   "source": []
  }
 ],
 "metadata": {
  "kernelspec": {
   "display_name": "Python 3",
   "language": "python",
   "name": "python3"
  },
  "language_info": {
   "codemirror_mode": {
    "name": "ipython",
    "version": 3
   },
   "file_extension": ".py",
   "mimetype": "text/x-python",
   "name": "python",
   "nbconvert_exporter": "python",
   "pygments_lexer": "ipython3",
   "version": "3.7.7"
  }
 },
 "nbformat": 4,
 "nbformat_minor": 4
}
